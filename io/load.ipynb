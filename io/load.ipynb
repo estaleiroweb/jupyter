{
 "cells": [
  {
   "cell_type": "markdown",
   "metadata": {},
   "source": [
    "# Carga de Arquivos"
   ]
  },
  {
   "cell_type": "code",
   "execution_count": 7,
   "metadata": {},
   "outputs": [],
   "source": [
    "import os"
   ]
  },
  {
   "cell_type": "code",
   "execution_count": 8,
   "metadata": {},
   "outputs": [],
   "source": [
    "def load(nome_arquivo:str)->str:\n",
    "    try:\n",
    "        with open(nome_arquivo, 'r') as arquivo:\n",
    "            return arquivo.read()\n",
    "    except FileNotFoundError:\n",
    "        print(f'O arquivo {nome_arquivo} não foi encontrado.')\n",
    "    except IOError:\n",
    "        print(f'Ocorreu um erro ao tentar ler o arquivo {nome_arquivo}.')"
   ]
  },
  {
   "cell_type": "code",
   "execution_count": 9,
   "metadata": {},
   "outputs": [
    {
     "name": "stdout",
     "output_type": "stream",
     "text": [
      "Conteúdo do Arquivo:\n",
      "ConteÃºdo\n",
      "\n"
     ]
    }
   ],
   "source": [
    "print(f'Conteúdo do Arquivo:\\n{load(\"text.txt\")}')"
   ]
  },
  {
   "cell_type": "code",
   "execution_count": 17,
   "metadata": {},
   "outputs": [
    {
     "name": "stdout",
     "output_type": "stream",
     "text": [
      "c:\\AppData\\Code\\jupyter\\io\n",
      "Conteúdo do Arquivo:\n",
      "ConteÃºdo\n",
      "\n"
     ]
    }
   ],
   "source": [
    "print(f'Conteúdo do Arquivo:\\n{load(os.getcwd()+\"/text.txt\")}')\n"
   ]
  }
 ],
 "metadata": {
  "kernelspec": {
   "display_name": "Python 3",
   "language": "python",
   "name": "python3"
  },
  "language_info": {
   "codemirror_mode": {
    "name": "ipython",
    "version": 3
   },
   "file_extension": ".py",
   "mimetype": "text/x-python",
   "name": "python",
   "nbconvert_exporter": "python",
   "pygments_lexer": "ipython3",
   "version": "3.7.4rc1"
  }
 },
 "nbformat": 4,
 "nbformat_minor": 2
}
