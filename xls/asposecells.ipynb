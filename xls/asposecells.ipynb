{
 "cells": [
  {
   "cell_type": "code",
   "execution_count": 5,
   "metadata": {},
   "outputs": [],
   "source": [
    "import  asposecells\n",
    "import jpype"
   ]
  },
  {
   "cell_type": "code",
   "execution_count": 4,
   "metadata": {},
   "outputs": [],
   "source": [
    "xlsFile='../pandas/open/file.xlsx'\n",
    "htmlFile='file.html'"
   ]
  },
  {
   "cell_type": "code",
   "execution_count": null,
   "metadata": {},
   "outputs": [],
   "source": [
    "\n",
    "jpype.startJVM()\n",
    "from asposecells.api import Workbook, FileFormatType\n",
    "\n",
    "workbook = Workbook(FileFormatType.XLSX)\n",
    "workbook.getWorksheets().get(0).getCells().get(\"A1\").putValue(\"Hello World\")\n",
    "workbook.save(\"output.xlsx\")\n",
    "\n",
    "jpype.shutdownJVM()"
   ]
  },
  {
   "cell_type": "code",
   "execution_count": null,
   "metadata": {},
   "outputs": [],
   "source": [
    "jpype.startJVM()\n",
    "from asposecells.api import Workbook, FileFormatType, PdfSaveOptions, HtmlSaveOptions\n",
    "\n",
    "workbook = Workbook(xlsFile)\n",
    "saveOptions = HtmlSaveOptions() #PdfSaveOptions()\n",
    "saveOptions.setOnePagePerSheet(True)\n",
    "workbook.save(htmlFile, saveOptions)\n",
    "\n",
    "jpype.shutdownJVM()"
   ]
  }
 ],
 "metadata": {
  "kernelspec": {
   "display_name": "Python 3",
   "language": "python",
   "name": "python3"
  },
  "language_info": {
   "codemirror_mode": {
    "name": "ipython",
    "version": 3
   },
   "file_extension": ".py",
   "mimetype": "text/x-python",
   "name": "python",
   "nbconvert_exporter": "python",
   "pygments_lexer": "ipython3",
   "version": "3.7.4rc1"
  },
  "orig_nbformat": 4
 },
 "nbformat": 4,
 "nbformat_minor": 2
}
