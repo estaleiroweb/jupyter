{
 "cells": [
  {
   "attachments": {},
   "cell_type": "markdown",
   "metadata": {},
   "source": [
    "# xlsx2html"
   ]
  },
  {
   "cell_type": "code",
   "execution_count": 1,
   "metadata": {},
   "outputs": [],
   "source": [
    "from xlsx2html import xlsx2html"
   ]
  },
  {
   "cell_type": "code",
   "execution_count": 4,
   "metadata": {},
   "outputs": [],
   "source": [
    "xlsFile='../pandas/open/file.xlsx'\n",
    "htmlFile='file.html'"
   ]
  },
  {
   "cell_type": "code",
   "execution_count": 2,
   "metadata": {},
   "outputs": [],
   "source": [
    "st = xlsx2html(xlsFile)"
   ]
  },
  {
   "cell_type": "code",
   "execution_count": 3,
   "metadata": {},
   "outputs": [
    {
     "name": "stdout",
     "output_type": "stream",
     "text": [
      "\n",
      "    <!DOCTYPE html>\n",
      "    <html lang=\"en\">\n",
      "    <head>\n",
      "        <meta charset=\"UTF-8\">\n",
      "        <title>Title</title>\n",
      "    </head>\n",
      "    <body>\n",
      "        <table  style=\"border-collapse: collapse\" border=\"0\" cellspacing=\"0\" cellpadding=\"0\"><colgroup>\n",
      "<col  style=\"width: 99.84px\">\n",
      "<col  style=\"width: 111.35999999999999px\">\n",
      "<col  style=\"width: 153.60000000000002px\">\n",
      "<col  style=\"width: 373.44px\">\n",
      "</colgroup>\n",
      "<tr>\n",
      "<td id=\"plan 02!A1\" style=\"border-bottom: none;border-collapse: collapse;border-left: none;border-right: none;border-top: none;font-size: 11.0px;height: 19pt\">Amount</td>\n",
      "<td id=\"plan 02!B1\" style=\"border-bottom: none;border-collapse: collapse;border-left: none;border-right: none;border-top: none;font-size: 11.0px;height: 19pt\">StartDate</td>\n",
      "<td id=\"plan 02!C1\" style=\"border-bottom: none;border-collapse: collapse;border-left: none;border-right: none;border-top: none;font-size: 11.0px;height: 19pt\">OwnerName</td>\n",
      "<td id=\"plan 02!D1\" style=\"border-bottom: none;border-collapse: collapse;border-left: none;border-right: none;border-top: none;font-size: 11.0px;height: 19pt\">Username</td>\n",
      "</tr>\n",
      "<tr>\n",
      "<td id=\"plan 02!A2\" style=\"border-bottom: none;border-collapse: collapse;border-left: none;border-right: none;border-top: none;font-size: 11.0px;height: 19pt\">150000</td>\n",
      "<td id=\"plan 02!B2\" style=\"border-bottom: none;border-collapse: collapse;border-left: none;border-right: none;border-top: none;font-size: 11.0px;height: 19pt\">42370</td>\n",
      "<td id=\"plan 02!C2\" style=\"border-bottom: none;border-collapse: collapse;border-left: none;border-right: none;border-top: none;color: #FF0000;font-size: 11.0px;height: 19pt\">Chris Riley</td>\n",
      "<td id=\"plan 02!D2\" style=\"border-bottom: none;border-collapse: collapse;border-left: none;border-right: none;border-top: none;font-size: 11.0px;height: 19pt\">trailhead9.ub20k5i9t8ou@example.com</td>\n",
      "</tr>\n",
      "<tr>\n",
      "<td id=\"plan 02!A3\" style=\"border-bottom: none;border-collapse: collapse;border-left: none;border-right: none;border-top: none;font-size: 11.0px;height: 19pt\">150000</td>\n",
      "<td id=\"plan 02!B3\" style=\"border-bottom: none;border-collapse: collapse;border-left: none;border-right: none;border-top: none;font-size: 11.0px;height: 19pt\">42401</td>\n",
      "<td id=\"plan 02!C3\" style=\"border-bottom: none;border-collapse: collapse;border-left: none;border-right: none;border-top: none;color: #FF0000;font-size: 11.0px;height: 19pt\">Chris Riley</td>\n",
      "<td id=\"plan 02!D3\" style=\"border-bottom: none;border-collapse: collapse;border-left: none;border-right: none;border-top: none;font-size: 11.0px;height: 19pt\">trailhead9.ub20k5i9t8ou@example.com</td>\n",
      "</tr>\n",
      "<tr>\n",
      "<td id=\"plan 02!A4\" style=\"border-bottom: none;border-collapse: collapse;border-left: none;border-right: none;border-top: none;font-size: 11.0px;height: 19pt\">150000</td>\n",
      "<td id=\"plan 02!B4\" style=\"border-bottom: none;border-collapse: collapse;border-left: none;border-right: none;border-top: none;font-size: 11.0px;height: 19pt\">42430</td>\n",
      "<td id=\"plan 02!C4\" style=\"border-bottom: none;border-collapse: collapse;border-left: none;border-right: none;border-top: none;font-size: 11.0px;height: 19pt\">Chris Riley</td>\n",
      "<td id=\"plan 02!D4\" style=\"border-bottom: none;border-collapse: collapse;border-left: none;border-right: none;border-top: none;font-decoration: underline;font-size: 11.0px;height: 19pt\"><a href=\"mailto:trailhead9.ub20k5i9t8ou@example.com\">trailhead9.ub20k5i9t8ou@example.com</a></td>\n",
      "</tr>\n",
      "<tr>\n",
      "<td id=\"plan 02!A5\" style=\"border-bottom: none;border-collapse: collapse;border-left: none;border-right: none;border-top: none;font-size: 11.0px;height: 19pt\">150000</td>\n",
      "<td id=\"plan 02!B5\" style=\"border-bottom: none;border-collapse: collapse;border-left: none;border-right: none;border-top: none;font-size: 11.0px;height: 19pt\">42370</td>\n",
      "<td id=\"plan 02!C5\" style=\"border-bottom: none;border-collapse: collapse;border-left: none;border-right: none;border-top: none;font-size: 11.0px;height: 19pt\">Harold Campbell</td>\n",
      "<td id=\"plan 02!D5\" style=\"border-bottom: none;border-collapse: collapse;border-left: none;border-right: none;border-top: none;font-size: 11.0px;height: 19pt\">trailhead14.jibpbwvuy67t@example.com</td>\n",
      "</tr>\n",
      "<tr>\n",
      "<td id=\"plan 02!A6\" style=\"border-bottom: none;border-collapse: collapse;border-left: none;border-right: none;border-top: none;font-size: 11.0px;height: 19pt\">150000</td>\n",
      "<td id=\"plan 02!B6\" style=\"border-bottom: none;border-collapse: collapse;border-left: none;border-right: none;border-top: none;font-size: 11.0px;height: 19pt\">42401</td>\n",
      "<td id=\"plan 02!C6\" style=\"border-bottom: none;border-collapse: collapse;border-left: none;border-right: none;border-top: none;font-size: 11.0px;height: 19pt\">Harold Campbell</td>\n",
      "<td id=\"plan 02!D6\" style=\"border-bottom: none;border-collapse: collapse;border-left: none;border-right: none;border-top: none;font-size: 11.0px;height: 19pt\">trailhead14.jibpbwvuy67t@example.com</td>\n",
      "</tr>\n",
      "<tr>\n",
      "<td id=\"plan 02!A7\" style=\"border-bottom: none;border-collapse: collapse;border-left: none;border-right: none;border-top: none;font-size: 11.0px;height: 19pt\">150000</td>\n",
      "<td id=\"plan 02!B7\" style=\"border-bottom: none;border-collapse: collapse;border-left: none;border-right: none;border-top: none;font-size: 11.0px;height: 19pt\">42430</td>\n",
      "<td id=\"plan 02!C7\" style=\"border-bottom: none;border-collapse: collapse;border-left: none;border-right: none;border-top: none;font-size: 11.0px;height: 19pt\">Harold Campbell</td>\n",
      "<td id=\"plan 02!D7\" style=\"border-bottom: none;border-collapse: collapse;border-left: none;border-right: none;border-top: none;font-size: 11.0px;height: 19pt\">trailhead14.jibpbwvuy67t@example.com</td>\n",
      "</tr>\n",
      "<tr>\n",
      "<td id=\"plan 02!A8\" style=\"border-bottom: none;border-collapse: collapse;border-left: none;border-right: none;border-top: none;font-size: 11.0px;height: 19pt\">150000</td>\n",
      "<td id=\"plan 02!B8\" style=\"border-bottom: none;border-collapse: collapse;border-left: none;border-right: none;border-top: none;font-size: 11.0px;height: 19pt\">42370</td>\n",
      "<td id=\"plan 02!C8\" style=\"border-bottom: none;border-collapse: collapse;border-left: none;border-right: none;border-top: none;font-size: 11.0px;height: 19pt\">Jessica Nichols</td>\n",
      "<td id=\"plan 02!D8\" style=\"border-bottom: none;border-collapse: collapse;border-left: none;border-right: none;border-top: none;font-size: 11.0px;height: 19pt\">trailhead19.d1fxj2goytkp@example.com</td>\n",
      "</tr>\n",
      "<tr>\n",
      "<td id=\"plan 02!A9\" style=\"border-bottom: none;border-collapse: collapse;border-left: none;border-right: none;border-top: none;font-size: 11.0px;height: 19pt\">150000</td>\n",
      "<td id=\"plan 02!B9\" style=\"border-bottom: none;border-collapse: collapse;border-left: none;border-right: none;border-top: none;font-size: 11.0px;height: 19pt\">42401</td>\n",
      "<td id=\"plan 02!C9\" style=\"border-bottom: none;border-collapse: collapse;border-left: none;border-right: none;border-top: none;font-size: 11.0px;height: 19pt\">Jessica Nichols</td>\n",
      "<td id=\"plan 02!D9\" style=\"border-bottom: none;border-collapse: collapse;border-left: none;border-right: none;border-top: none;font-size: 11.0px;height: 19pt\">trailhead19.d1fxj2goytkp@example.com</td>\n",
      "</tr>\n",
      "<tr>\n",
      "<td id=\"plan 02!A10\" style=\"border-bottom: none;border-collapse: collapse;border-left: none;border-right: none;border-top: none;font-size: 11.0px;height: 19pt\">150000</td>\n",
      "<td id=\"plan 02!B10\" style=\"border-bottom: none;border-collapse: collapse;border-left: none;border-right: none;border-top: none;font-size: 11.0px;height: 19pt\">42430</td>\n",
      "<td id=\"plan 02!C10\" style=\"border-bottom: none;border-collapse: collapse;border-left: none;border-right: none;border-top: none;font-size: 11.0px;height: 19pt\">Jessica Nichols</td>\n",
      "<td id=\"plan 02!D10\" style=\"border-bottom: none;border-collapse: collapse;border-left: none;border-right: none;border-top: none;font-size: 11.0px;height: 19pt\">trailhead19.d1fxj2goytkp@example.com</td>\n",
      "</tr>\n",
      "<tr>\n",
      "<td id=\"plan 02!A11\" style=\"border-bottom: none;border-collapse: collapse;border-left: none;border-right: none;border-top: none;font-size: 11.0px;height: 19pt\">150000</td>\n",
      "<td id=\"plan 02!B11\" style=\"border-bottom: none;border-collapse: collapse;border-left: none;border-right: none;border-top: none;font-size: 11.0px;height: 19pt\">42370</td>\n",
      "<td id=\"plan 02!C11\" style=\"border-bottom: none;border-collapse: collapse;border-left: none;border-right: none;border-top: none;font-size: 11.0px;height: 19pt\">Catherine Brown</td>\n",
      "<td id=\"plan 02!D11\" style=\"border-bottom: none;border-collapse: collapse;border-left: none;border-right: none;border-top: none;font-size: 11.0px;height: 19pt\">trailhead16.kojyepokybge@example.com</td>\n",
      "</tr>\n",
      "<tr>\n",
      "<td id=\"plan 02!A12\" style=\"border-bottom: none;border-collapse: collapse;border-left: none;border-right: none;border-top: none;font-size: 11.0px;height: 19pt\">150000</td>\n",
      "<td id=\"plan 02!B12\" style=\"border-bottom: none;border-collapse: collapse;border-left: none;border-right: none;border-top: none;font-size: 11.0px;height: 19pt\">42401</td>\n",
      "<td id=\"plan 02!C12\" style=\"border-bottom: none;border-collapse: collapse;border-left: none;border-right: none;border-top: none;font-size: 11.0px;height: 19pt\">Catherine Brown</td>\n",
      "<td id=\"plan 02!D12\" style=\"border-bottom: none;border-collapse: collapse;border-left: none;border-right: none;border-top: none;font-size: 11.0px;height: 19pt\">trailhead16.kojyepokybge@example.com</td>\n",
      "</tr>\n",
      "<tr>\n",
      "<td id=\"plan 02!A13\" style=\"border-bottom: none;border-collapse: collapse;border-left: none;border-right: none;border-top: none;font-size: 11.0px;height: 19pt\">150000</td>\n",
      "<td id=\"plan 02!B13\" style=\"border-bottom: none;border-collapse: collapse;border-left: none;border-right: none;border-top: none;font-size: 11.0px;height: 19pt\">42430</td>\n",
      "<td id=\"plan 02!C13\" style=\"border-bottom: none;border-collapse: collapse;border-left: none;border-right: none;border-top: none;font-size: 11.0px;height: 19pt\">Catherine Brown</td>\n",
      "<td id=\"plan 02!D13\" style=\"border-bottom: none;border-collapse: collapse;border-left: none;border-right: none;border-top: none;font-size: 11.0px;height: 19pt\">trailhead16.kojyepokybge@example.com</td>\n",
      "</tr>\n",
      "<tr>\n",
      "<td id=\"plan 02!A14\" style=\"border-bottom: none;border-collapse: collapse;border-left: none;border-right: none;border-top: none;font-size: 11.0px;height: 19pt\">150000</td>\n",
      "<td id=\"plan 02!B14\" style=\"border-bottom: none;border-collapse: collapse;border-left: none;border-right: none;border-top: none;font-size: 11.0px;height: 19pt\">42370</td>\n",
      "<td id=\"plan 02!C14\" style=\"border-bottom: none;border-collapse: collapse;border-left: none;border-right: none;border-top: none;font-size: 11.0px;height: 19pt\">Kelly Frazier</td>\n",
      "<td id=\"plan 02!D14\" style=\"border-bottom: none;border-collapse: collapse;border-left: none;border-right: none;border-top: none;font-size: 11.0px;height: 19pt\">trailhead7.zdcsy4ax10mr@example.com</td>\n",
      "</tr>\n",
      "<tr>\n",
      "<td id=\"plan 02!A15\" style=\"border-bottom: none;border-collapse: collapse;border-left: none;border-right: none;border-top: none;font-size: 11.0px;height: 19pt\">150000</td>\n",
      "<td id=\"plan 02!B15\" style=\"border-bottom: none;border-collapse: collapse;border-left: none;border-right: none;border-top: none;font-size: 11.0px;height: 19pt\">42401</td>\n",
      "<td id=\"plan 02!C15\" style=\"border-bottom: none;border-collapse: collapse;border-left: none;border-right: none;border-top: none;font-size: 11.0px;height: 19pt\">Kelly Frazier</td>\n",
      "<td id=\"plan 02!D15\" style=\"border-bottom: none;border-collapse: collapse;border-left: none;border-right: none;border-top: none;font-size: 11.0px;height: 19pt\">trailhead7.zdcsy4ax10mr@example.com</td>\n",
      "</tr>\n",
      "<tr>\n",
      "<td id=\"plan 02!A16\" style=\"border-bottom: none;border-collapse: collapse;border-left: none;border-right: none;border-top: none;font-size: 11.0px;height: 19pt\">150000</td>\n",
      "<td id=\"plan 02!B16\" style=\"border-bottom: none;border-collapse: collapse;border-left: none;border-right: none;border-top: none;font-size: 11.0px;height: 19pt\">42430</td>\n",
      "<td id=\"plan 02!C16\" style=\"border-bottom: none;border-collapse: collapse;border-left: none;border-right: none;border-top: none;font-size: 11.0px;height: 19pt\">Kelly Frazier</td>\n",
      "<td id=\"plan 02!D16\" style=\"border-bottom: none;border-collapse: collapse;border-left: none;border-right: none;border-top: none;font-size: 11.0px;height: 19pt\">trailhead7.zdcsy4ax10mr@example.com</td>\n",
      "</tr>\n",
      "<tr>\n",
      "<td id=\"plan 02!A17\" style=\"border-bottom: none;border-collapse: collapse;border-left: none;border-right: none;border-top: none;font-size: 11.0px;height: 19pt\">150000</td>\n",
      "<td id=\"plan 02!B17\" style=\"border-bottom: none;border-collapse: collapse;border-left: none;border-right: none;border-top: none;font-size: 11.0px;height: 19pt\">42370</td>\n",
      "<td id=\"plan 02!C17\" style=\"border-bottom: none;border-collapse: collapse;border-left: none;border-right: none;border-top: none;font-size: 11.0px;height: 19pt\">Dennis Howard</td>\n",
      "<td id=\"plan 02!D17\" style=\"border-bottom: none;border-collapse: collapse;border-left: none;border-right: none;border-top: none;font-size: 11.0px;height: 19pt\">trailhead4.wfokpckfroxp@example.com</td>\n",
      "</tr>\n",
      "<tr>\n",
      "<td id=\"plan 02!A18\" style=\"border-bottom: none;border-collapse: collapse;border-left: none;border-right: none;border-top: none;font-size: 11.0px;height: 19pt\">150000</td>\n",
      "<td id=\"plan 02!B18\" style=\"border-bottom: none;border-collapse: collapse;border-left: none;border-right: none;border-top: none;font-size: 11.0px;height: 19pt\">42401</td>\n",
      "<td id=\"plan 02!C18\" style=\"border-bottom: none;border-collapse: collapse;border-left: none;border-right: none;border-top: none;font-size: 11.0px;height: 19pt\">Dennis Howard</td>\n",
      "<td id=\"plan 02!D18\" style=\"border-bottom: none;border-collapse: collapse;border-left: none;border-right: none;border-top: none;font-size: 11.0px;height: 19pt\">trailhead4.wfokpckfroxp@example.com</td>\n",
      "</tr>\n",
      "<tr>\n",
      "<td id=\"plan 02!A19\" style=\"border-bottom: none;border-collapse: collapse;border-left: none;border-right: none;border-top: none;font-size: 11.0px;height: 19pt\">150000</td>\n",
      "<td id=\"plan 02!B19\" style=\"border-bottom: none;border-collapse: collapse;border-left: none;border-right: none;border-top: none;font-size: 11.0px;height: 19pt\">42430</td>\n",
      "<td id=\"plan 02!C19\" style=\"border-bottom: none;border-collapse: collapse;border-left: none;border-right: none;border-top: none;font-size: 11.0px;height: 19pt\">Dennis Howard</td>\n",
      "<td id=\"plan 02!D19\" style=\"border-bottom: none;border-collapse: collapse;border-left: none;border-right: none;border-top: none;font-size: 11.0px;height: 19pt\">trailhead4.wfokpckfroxp@example.com</td>\n",
      "</tr>\n",
      "</table>\n",
      "    </body>\n",
      "    </html>\n",
      "    \n"
     ]
    }
   ],
   "source": [
    "st.seek(0)\n",
    "print(st.read())"
   ]
  },
  {
   "cell_type": "code",
   "execution_count": 5,
   "metadata": {},
   "outputs": [
    {
     "data": {
      "text/plain": [
       "<_io.TextIOWrapper name='file.html' mode='w' encoding='cp1252'>"
      ]
     },
     "execution_count": 5,
     "metadata": {},
     "output_type": "execute_result"
    }
   ],
   "source": [
    "xlsx2html(xlsFile, htmlFile)"
   ]
  }
 ],
 "metadata": {
  "kernelspec": {
   "display_name": "Python 3",
   "language": "python",
   "name": "python3"
  },
  "language_info": {
   "codemirror_mode": {
    "name": "ipython",
    "version": 3
   },
   "file_extension": ".py",
   "mimetype": "text/x-python",
   "name": "python",
   "nbconvert_exporter": "python",
   "pygments_lexer": "ipython3",
   "version": "3.7.4rc1"
  },
  "orig_nbformat": 4
 },
 "nbformat": 4,
 "nbformat_minor": 2
}
