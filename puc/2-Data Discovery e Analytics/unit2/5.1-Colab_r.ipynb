{
 "cells": [
  {
   "cell_type": "code",
   "execution_count": 1,
   "metadata": {
    "vscode": {
     "languageId": "r"
    }
   },
   "outputs": [
    {
     "data": {
      "text/html": [
       "'R version 3.6.3 (2020-02-29)'"
      ],
      "text/latex": [
       "'R version 3.6.3 (2020-02-29)'"
      ],
      "text/markdown": [
       "'R version 3.6.3 (2020-02-29)'"
      ],
      "text/plain": [
       "[1] \"R version 3.6.3 (2020-02-29)\""
      ]
     },
     "metadata": {},
     "output_type": "display_data"
    }
   ],
   "source": [
    "# plot(iris) # nolint\n",
    "\n",
    "R.version.string\n"
   ]
  },
  {
   "cell_type": "code",
   "execution_count": 1,
   "metadata": {
    "vscode": {
     "languageId": "r"
    }
   },
   "outputs": [
    {
     "name": "stderr",
     "output_type": "stream",
     "text": [
      "Loading required package: conflicted\n",
      "\n",
      "Loading required package: languageserver\n",
      "\n",
      "Loading required package: curl\n",
      "\n",
      "Using libcurl 7.68.0 with OpenSSL/1.1.1f\n",
      "\n",
      "Loading required package: systemfonts\n",
      "\n",
      "Loading required package: textshaping\n",
      "\n",
      "Loading required package: httr\n",
      "\n",
      "Loading required package: readxl\n",
      "\n",
      "Loading required package: ragg\n",
      "\n",
      "Loading required package: tidyverse\n",
      "\n",
      "── \u001b[1mAttaching core tidyverse packages\u001b[22m ──────────────────────── tidyverse 2.0.0 ──\n",
      "\u001b[32m✔\u001b[39m \u001b[34mdplyr    \u001b[39m 1.1.4     \u001b[32m✔\u001b[39m \u001b[34mreadr    \u001b[39m 2.1.5\n",
      "\u001b[32m✔\u001b[39m \u001b[34mforcats  \u001b[39m 1.0.0     \u001b[32m✔\u001b[39m \u001b[34mstringr  \u001b[39m 1.5.1\n",
      "\u001b[32m✔\u001b[39m \u001b[34mggplot2  \u001b[39m 3.5.1     \u001b[32m✔\u001b[39m \u001b[34mtibble   \u001b[39m 3.2.1\n",
      "\u001b[32m✔\u001b[39m \u001b[34mlubridate\u001b[39m 1.9.3     \u001b[32m✔\u001b[39m \u001b[34mtidyr    \u001b[39m 1.3.1\n",
      "\u001b[32m✔\u001b[39m \u001b[34mpurrr    \u001b[39m 1.0.2     \n",
      "Loading required package: cowplot\n",
      "\n",
      "Loading required package: caret\n",
      "\n",
      "Loading required package: lattice\n",
      "\n",
      "Loading required package: corrplot\n",
      "\n",
      "corrplot 0.92 loaded\n",
      "\n"
     ]
    }
   ],
   "source": [
    "checar_instalar_pacote <- function(pacote) {\n",
    "    if (!require(pacote, character.only = TRUE)) {\n",
    "        install.packages(pacote, dependencies = TRUE)\n",
    "        library(pacote, character.only = TRUE)\n",
    "    }\n",
    "}\n",
    "\n",
    "# Pacotes necessarios - instalação\n",
    "pacotes <- c(\n",
    "    \"conflicted\",\n",
    "    \"languageserver\",\n",
    "    \"curl\",\n",
    "    \"systemfonts\",\n",
    "    \"textshaping\",\n",
    "    \"httr\",\n",
    "    \"readxl\",\n",
    "    \"ragg\",\n",
    "    \"tidyverse\", # manipulação de dados\n",
    "    \"ggplot2\", # visualização\n",
    "    \"cowplot\", # visualização - unir gráficos\n",
    "    \"caret\", # modelos estatísticos\n",
    "    \"corrplot\" # matriz de correlação\n",
    ")\n",
    "\n",
    "for (pacote in pacotes) {\n",
    "    checar_instalar_pacote(pacote)\n",
    "}\n"
   ]
  },
  {
   "cell_type": "code",
   "execution_count": 2,
   "metadata": {
    "vscode": {
     "languageId": "r"
    }
   },
   "outputs": [],
   "source": [
    "# chamndo os pacotes ja instalados\n",
    "library(caret)\n",
    "library(tidyverse)\n",
    "library(ggplot2)\n",
    "library(cowplot)\n",
    "library(corrplot)\n"
   ]
  },
  {
   "cell_type": "code",
   "execution_count": 3,
   "metadata": {
    "vscode": {
     "languageId": "r"
    }
   },
   "outputs": [],
   "source": [
    "# carregando dados para o Data Frame (dados)\n",
    "dados <- read.csv(\"VIVO_CHURN.csv\", stringsAsFactors = TRUE)\n"
   ]
  },
  {
   "cell_type": "code",
   "execution_count": 4,
   "metadata": {
    "vscode": {
     "languageId": "r"
    }
   },
   "outputs": [
    {
     "name": "stdout",
     "output_type": "stream",
     "text": [
      "Rows: 7,043\n",
      "Columns: 21\n",
      "$ customerID       \u001b[3m\u001b[90m<fct>\u001b[39m\u001b[23m 7590-VHVEG, 5575-GNVDE, 3668-QPYBK, 7795-CFOCW, 9237-…\n",
      "$ gender           \u001b[3m\u001b[90m<fct>\u001b[39m\u001b[23m Female, Male, Male, Male, Female, Female, Male, Femal…\n",
      "$ SeniorCitizen    \u001b[3m\u001b[90m<int>\u001b[39m\u001b[23m 0, 0, 0, 0, 0, 0, 0, 0, 0, 0, 0, 0, 0, 0, 0, 0, 0, 0,…\n",
      "$ Partner          \u001b[3m\u001b[90m<fct>\u001b[39m\u001b[23m Yes, No, No, No, No, No, No, No, Yes, No, Yes, No, Ye…\n",
      "$ Dependents       \u001b[3m\u001b[90m<fct>\u001b[39m\u001b[23m No, No, No, No, No, No, Yes, No, No, Yes, Yes, No, No…\n",
      "$ tenure           \u001b[3m\u001b[90m<int>\u001b[39m\u001b[23m 1, 34, 2, 45, 2, 8, 22, 10, 28, 62, 13, 16, 58, 49, 2…\n",
      "$ PhoneService     \u001b[3m\u001b[90m<fct>\u001b[39m\u001b[23m No, Yes, Yes, No, Yes, Yes, Yes, No, Yes, Yes, Yes, Y…\n",
      "$ MultipleLines    \u001b[3m\u001b[90m<fct>\u001b[39m\u001b[23m No phone service, No, No, No phone service, No, Yes, …\n",
      "$ InternetService  \u001b[3m\u001b[90m<fct>\u001b[39m\u001b[23m DSL, DSL, DSL, DSL, Fiber optic, Fiber optic, Fiber o…\n",
      "$ OnlineSecurity   \u001b[3m\u001b[90m<fct>\u001b[39m\u001b[23m No, Yes, Yes, Yes, No, No, No, Yes, No, Yes, Yes, No …\n",
      "$ OnlineBackup     \u001b[3m\u001b[90m<fct>\u001b[39m\u001b[23m Yes, No, Yes, No, No, No, Yes, No, No, Yes, No, No in…\n",
      "$ DeviceProtection \u001b[3m\u001b[90m<fct>\u001b[39m\u001b[23m No, Yes, No, Yes, No, Yes, No, No, Yes, No, No, No in…\n",
      "$ TechSupport      \u001b[3m\u001b[90m<fct>\u001b[39m\u001b[23m No, No, No, Yes, No, No, No, No, Yes, No, No, No inte…\n",
      "$ StreamingTV      \u001b[3m\u001b[90m<fct>\u001b[39m\u001b[23m No, No, No, No, No, Yes, Yes, No, Yes, No, No, No int…\n",
      "$ StreamingMovies  \u001b[3m\u001b[90m<fct>\u001b[39m\u001b[23m No, No, No, No, No, Yes, No, No, Yes, No, No, No inte…\n",
      "$ Contract         \u001b[3m\u001b[90m<fct>\u001b[39m\u001b[23m Month-to-month, One year, Month-to-month, One year, M…\n",
      "$ PaperlessBilling \u001b[3m\u001b[90m<fct>\u001b[39m\u001b[23m Yes, No, Yes, No, Yes, Yes, Yes, No, Yes, No, Yes, No…\n",
      "$ PaymentMethod    \u001b[3m\u001b[90m<fct>\u001b[39m\u001b[23m Electronic check, Mailed check, Mailed check, Bank tr…\n",
      "$ MonthlyCharges   \u001b[3m\u001b[90m<dbl>\u001b[39m\u001b[23m 29.85, 56.95, 53.85, 42.30, 70.70, 99.65, 89.10, 29.7…\n",
      "$ TotalCharges     \u001b[3m\u001b[90m<dbl>\u001b[39m\u001b[23m 29.85, 1889.50, 108.15, 1840.75, 151.65, 820.50, 1949…\n",
      "$ Churn            \u001b[3m\u001b[90m<fct>\u001b[39m\u001b[23m No, No, Yes, No, Yes, Yes, No, No, Yes, No, No, No, N…\n"
     ]
    },
    {
     "data": {
      "text/plain": [
       "      customerID      gender     SeniorCitizen    Partner    Dependents\n",
       " 0002-ORFBO:   1   Female:3488   Min.   :0.0000   No :3641   No :4933  \n",
       " 0003-MKNFE:   1   Male  :3555   1st Qu.:0.0000   Yes:3402   Yes:2110  \n",
       " 0004-TLHLJ:   1                 Median :0.0000                        \n",
       " 0011-IGKFF:   1                 Mean   :0.1621                        \n",
       " 0013-EXCHZ:   1                 3rd Qu.:0.0000                        \n",
       " 0013-MHZWF:   1                 Max.   :1.0000                        \n",
       " (Other)   :7037                                                       \n",
       "     tenure      PhoneService          MultipleLines     InternetService\n",
       " Min.   : 0.00   No : 682     No              :3390   DSL        :2421  \n",
       " 1st Qu.: 9.00   Yes:6361     No phone service: 682   Fiber optic:3096  \n",
       " Median :29.00                Yes             :2971   No         :1526  \n",
       " Mean   :32.37                                                          \n",
       " 3rd Qu.:55.00                                                          \n",
       " Max.   :72.00                                                          \n",
       "                                                                        \n",
       "             OnlineSecurity              OnlineBackup \n",
       " No                 :3498   No                 :3088  \n",
       " No internet service:1526   No internet service:1526  \n",
       " Yes                :2019   Yes                :2429  \n",
       "                                                      \n",
       "                                                      \n",
       "                                                      \n",
       "                                                      \n",
       "            DeviceProtection              TechSupport  \n",
       " No                 :3095    No                 :3473  \n",
       " No internet service:1526    No internet service:1526  \n",
       " Yes                :2422    Yes                :2044  \n",
       "                                                       \n",
       "                                                       \n",
       "                                                       \n",
       "                                                       \n",
       "              StreamingTV              StreamingMovies           Contract   \n",
       " No                 :2810   No                 :2785   Month-to-month:3875  \n",
       " No internet service:1526   No internet service:1526   One year      :1473  \n",
       " Yes                :2707   Yes                :2732   Two year      :1695  \n",
       "                                                                            \n",
       "                                                                            \n",
       "                                                                            \n",
       "                                                                            \n",
       " PaperlessBilling                   PaymentMethod  MonthlyCharges  \n",
       " No :2872         Bank transfer (automatic):1544   Min.   : 18.25  \n",
       " Yes:4171         Credit card (automatic)  :1522   1st Qu.: 35.50  \n",
       "                  Electronic check         :2365   Median : 70.35  \n",
       "                  Mailed check             :1612   Mean   : 64.76  \n",
       "                                                   3rd Qu.: 89.85  \n",
       "                                                   Max.   :118.75  \n",
       "                                                                   \n",
       "  TotalCharges    Churn     \n",
       " Min.   :  18.8   No :5174  \n",
       " 1st Qu.: 401.4   Yes:1869  \n",
       " Median :1397.5             \n",
       " Mean   :2283.3             \n",
       " 3rd Qu.:3794.7             \n",
       " Max.   :8684.8             \n",
       " NA's   :11                 "
      ]
     },
     "metadata": {},
     "output_type": "display_data"
    }
   ],
   "source": [
    "# Visualização dos dados\n",
    "glimpse(dados)\n",
    "summary(dados)\n"
   ]
  },
  {
   "cell_type": "code",
   "execution_count": null,
   "metadata": {
    "vscode": {
     "languageId": "r"
    }
   },
   "outputs": [],
   "source": [
    "# Check dados faltantes e retirar\n",
    "colSums(is.na(dados)) # se nulo\n",
    "dados_1 <- dados[!is.na(dados$TotalCharges), ]\n",
    "# diferente de nulo para o novo data frame (dados_1)\n",
    "colSums(is.na(dados_1))\n",
    "glimpse(dados_1)\n"
   ]
  },
  {
   "cell_type": "code",
   "execution_count": null,
   "metadata": {
    "vscode": {
     "languageId": "r"
    }
   },
   "outputs": [],
   "source": [
    "# outliers - visualizar dispersão dos dados via boxplot\n",
    "dados_1 %>%\n",
    "    ggplot(aes(x = Churn, y = tenure, fill = Churn)) +\n",
    "    geom_boxplot() +\n",
    "    geom_jitter(width = 0.1, alpha = 0.2)\n",
    "dados_1 %>%\n",
    "    ggplot(aes(x = Churn, y = MonthlyCharges, fill = Churn)) +\n",
    "    geom_boxplot() +\n",
    "    geom_jitter(width = 0.1, alpha = 0.2)\n",
    "dados_1 %>%\n",
    "    ggplot(aes(x = Churn, y = TotalCharges, fill = Churn)) +\n",
    "    geom_boxplot() +\n",
    "    geom_jitter(width = 0.1, alpha = 0.2)\n"
   ]
  },
  {
   "cell_type": "code",
   "execution_count": null,
   "metadata": {
    "vscode": {
     "languageId": "r"
    }
   },
   "outputs": [],
   "source": [
    "# verificando a classificação de cada variável - categórica(fatores)\n",
    "ggplot(dados, aes(y = gender, x = gender, fill = Churn)) +\n",
    "    geom_bar(stat = \"identity\")\n",
    "ggplot(dados, aes(y = Partner, x = Partner, fill = Churn)) +\n",
    "    geom_bar(stat = \"identity\")\n",
    "ggplot(dados, aes(y = Dependents, x = Dependents, fill = Churn)) +\n",
    "    geom_bar(stat = \"identity\")\n",
    "ggplot(dados, aes(y = PhoneService, x = PhoneService, fill = Churn)) +\n",
    "    geom_bar(stat = \"identity\")\n",
    "ggplot(dados, aes(y = MultipleLines, x = MultipleLines, fill = Churn)) +\n",
    "    geom_bar(stat = \"identity\")\n",
    "ggplot(dados, aes(y = InternetService, x = InternetService, fill = Churn)) +\n",
    "    geom_bar(stat = \"identity\")\n",
    "ggplot(dados, aes(y = OnlineSecurity, x = OnlineSecurity, fill = Churn)) +\n",
    "    geom_bar(stat = \"identity\")\n",
    "ggplot(dados, aes(y = OnlineBackup, x = OnlineBackup, fill = Churn)) +\n",
    "    geom_bar(stat = \"identity\")\n",
    "ggplot(dados, aes(y = DeviceProtection, x = DeviceProtection, fill = Churn)) +\n",
    "    geom_bar(stat = \"identity\")\n",
    "ggplot(dados, aes(y = TechSupport, x = TechSupport, fill = Churn)) +\n",
    "    geom_bar(stat = \"identity\")\n",
    "ggplot(dados, aes(y = StreamingTV, x = StreamingTV, fill = Churn)) +\n",
    "    geom_bar(stat = \"identity\")\n",
    "ggplot(dados, aes(y = StreamingMovies, x = StreamingMovies, fill = Churn)) +\n",
    "    geom_bar(stat = \"identity\")\n",
    "ggplot(dados, aes(y = Contract, x = Contract, fill = Churn)) +\n",
    "    geom_bar(stat = \"identity\")\n",
    "ggplot(dados, aes(y = PaperlessBilling, x = PaperlessBilling, fill = Churn)) +\n",
    "    geom_bar(stat = \"identity\")\n",
    "ggplot(dados, aes(y = PaymentMethod, x = PaymentMethod, fill = Churn)) +\n",
    "    geom_bar(stat = \"identity\")\n"
   ]
  },
  {
   "cell_type": "code",
   "execution_count": null,
   "metadata": {
    "vscode": {
     "languageId": "r"
    }
   },
   "outputs": [],
   "source": [
    "# verificando a classificação de cada variável - numérica\n",
    "ggplot(\n",
    "    dados,\n",
    "    aes(\n",
    "        x = MonthlyCharges,\n",
    "        fill = Churn\n",
    "    )\n",
    ") +\n",
    "    geom_density(alpha = 0.4) +\n",
    "    labs(title = \"\")\n",
    "ggplot(\n",
    "    dados,\n",
    "    aes(\n",
    "        x = TotalCharges,\n",
    "        fill = Churn\n",
    "    )\n",
    ") +\n",
    "    geom_density(alpha = 0.4) +\n",
    "    labs(title = \"\")\n",
    "ggplot(\n",
    "    dados,\n",
    "    aes(\n",
    "        x = SeniorCitizen,\n",
    "        fill = Churn\n",
    "    )\n",
    ") +\n",
    "    geom_density(alpha = 0.4) +\n",
    "    labs(title = \"\")\n"
   ]
  },
  {
   "cell_type": "code",
   "execution_count": null,
   "metadata": {
    "vscode": {
     "languageId": "r"
    }
   },
   "outputs": [],
   "source": [
    "# transformação de dados (qualitativo para quantitativo) - variáveis binárias\n",
    "dados_quant <- dados_1\n",
    "colnames(dados_quant)\n",
    "dados_quant %>%\n",
    "    mutate(\n",
    "        customerID = NULL,\n",
    "        PhoneService = as.factor(ifelse(PhoneService == \"Yes\", 1, 0)),\n",
    "        Partner = as.factor(ifelse(Partner == \"Yes\", 1, 0)),\n",
    "        Dependents = as.factor(ifelse(Dependents == \"Yes\", 1, 0)),\n",
    "        PaperlessBilling = as.factor(ifelse(TechSupport == \"Yes\", 1, 0)),\n",
    "        Dependents = as.factor(ifelse(Dependents == \"Yes\", 1, 0)),\n",
    "        Churn = as.factor(ifelse(Churn == \"Yes\", 1, 0)),\n",
    "    ) -> dados_quant\n",
    "glimpse(dados_quant)\n"
   ]
  },
  {
   "cell_type": "code",
   "execution_count": null,
   "metadata": {
    "vscode": {
     "languageId": "r"
    }
   },
   "outputs": [],
   "source": [
    "# utilização de variáveis dummy\n",
    "dummy_dados <- dados_quant %>% select(\n",
    "    InternetService, Contract, PaymentMethod,\n",
    "    MultipleLines, OnlineBackup, OnlineSecurity,\n",
    "    DeviceProtection, StreamingTV,\n",
    "    StreamingMovies, TechSupport\n",
    ")\n",
    "dummy <- dummyVars(~., data = dummy_dados, fullRank = T)\n",
    "dummy_dados <- predict(dummy, dummy_dados)\n",
    "dados_quant1 <- bind_cols(dados_quant, dummy_dados)\n",
    "dados_quant1 %>%\n",
    "    rename(\n",
    "        InternetService.Fiberoptic = `InternetService.Fiber optic`,\n",
    "        Contract.Oneyear = `Contract.One year`,\n",
    "        Contract.Twoyear = `Contract.Two year`,\n",
    "        PaymentMethod.Creditcard = `PaymentMethod.Credit card (automatic)`,\n",
    "        PaymentMethod.Electronic = `PaymentMethod.Electronic check`,\n",
    "        PaymentMethod.Mailed = `PaymentMethod.Mailed check`,\n",
    "        MultipleLines.NoService = `MultipleLines.No phone service`,\n",
    "        OnlineBackup.NoService = `OnlineBackup.No internet service`,\n",
    "        OnlineSecurity.NoService = `OnlineSecurity.No internet service`,\n",
    "        DeviceProtection.NoService = `DeviceProtection.No internet service`,\n",
    "        StreamingTV.NoService = `StreamingTV.No internet service`,\n",
    "        StreamingMovies.NoService = `StreamingMovies.No internet service`,\n",
    "        TechSupport.NoService = `TechSupport.No internet service`\n",
    "    ) -> dados_quant1\n"
   ]
  },
  {
   "cell_type": "code",
   "execution_count": null,
   "metadata": {
    "vscode": {
     "languageId": "r"
    }
   },
   "outputs": [],
   "source": [
    "# exclusao de variaveis qualitativas\n",
    "dados_quant1 %>%\n",
    "    mutate(\n",
    "        gender = NULL,\n",
    "        InternetService = NULL,\n",
    "        Contract = NULL,\n",
    "        PaymentMethod = NULL,\n",
    "        PaymentMOnlineBackupethod = NULL,\n",
    "        OnlineSecurity = NULL,\n",
    "        StreamingTV = NULL,\n",
    "        StreamingMovies = NULL,\n",
    "        MultipleLines = NULL,\n",
    "        OnlineBackup = NULL,\n",
    "        DeviceProtection = NULL,\n",
    "        TechSupport = NULL\n",
    "    ) -> dados_quant1\n",
    "glimpse(dados_quant1)\n"
   ]
  },
  {
   "cell_type": "code",
   "execution_count": null,
   "metadata": {
    "vscode": {
     "languageId": "r"
    }
   },
   "outputs": [],
   "source": [
    "# Correlação dos dados\n",
    "# todas que estão com <fct> transformar para numérico\n",
    "dados_quant1 %>%\n",
    "    mutate(\n",
    "        Partner = as.numeric(Partner),\n",
    "        Dependents = as.numeric(Dependents),\n",
    "        PhoneService = as.numeric(PhoneService),\n",
    "        PaperlessBilling = as.numeric(PaperlessBilling),\n",
    "        Churn = as.numeric(Churn)\n",
    "    ) -> dados_num\n",
    "glimpse(dados_num)\n",
    "corrplot(cor(dados_num), method = \"circle\")\n"
   ]
  },
  {
   "cell_type": "code",
   "execution_count": null,
   "metadata": {
    "vscode": {
     "languageId": "r"
    }
   },
   "outputs": [],
   "source": [
    "dados_num %>%\n",
    "    mutate(Dependents = NULL) -> dados_num_1\n",
    "# glimpse(dados_num_1)\n",
    "corrplot(cor(dados_num_1), order = \"hclust\", method = \"circle\")\n"
   ]
  },
  {
   "cell_type": "code",
   "execution_count": null,
   "metadata": {
    "vscode": {
     "languageId": "r"
    }
   },
   "outputs": [],
   "source": [
    "dados_num_1 %>%\n",
    "    mutate(\n",
    "        StreamingMovies.NoService = NULL,\n",
    "        StreamingTV.NoService = NULL,\n",
    "        DeviceProtection.NoService = NULL,\n",
    "        OnlineSecurity.NoService = NULL,\n",
    "        InternetService.No = NULL,\n",
    "        OnlineBackup.NoService = NULL\n",
    "    ) -> dados_num_1\n"
   ]
  },
  {
   "cell_type": "code",
   "execution_count": null,
   "metadata": {
    "vscode": {
     "languageId": "r"
    }
   },
   "outputs": [],
   "source": [
    "# balanceamento de base de dados\n",
    "dados_quant1 %>%\n",
    "    select(Churn) %>%\n",
    "    group_by(Churn) %>%\n",
    "    summarise(n = n())\n",
    "dados_quant1 %>%\n",
    "    filter(Churn == 0) %>%\n",
    "    sample_n(1869) -> dados_quant_0\n",
    "dados_quant1 %>%\n",
    "    filter(Churn == 1) -> dados_quant_1\n",
    "dados_quant_balanc <- bind_rows(dados_quant_0, dados_quant_1)\n",
    "dados_num_1 %>%\n",
    "    select(Churn) %>%\n",
    "    group_by(Churn) %>%\n",
    "    summarise(n = n())\n",
    "dados_num_1 %>%\n",
    "    mutate(Churn = ifelse(Churn == 1, 0, 1)) %>%\n",
    "    filter(Churn == 0) %>%\n",
    "    sample_n(1869) -> dados_num_0\n",
    "dados_num_1 %>%\n",
    "    mutate(Churn = ifelse(Churn == 1, 0, 1)) %>%\n",
    "    filter(Churn == 1) -> dados_num_2\n",
    "dados_num_balanc <- bind_rows(dados_num_2, dados_num_0)\n",
    "dados_num_balanc %>%\n",
    "    select(Churn) %>%\n",
    "    group_by(Churn) %>%\n",
    "    summarise(n = n())\n",
    "dados_quant_balanc %>%\n",
    "    select(Churn) %>%\n",
    "    group_by(Churn) %>%\n",
    "    summarise(n = n())\n"
   ]
  },
  {
   "cell_type": "code",
   "execution_count": null,
   "metadata": {
    "vscode": {
     "languageId": "r"
    }
   },
   "outputs": [],
   "source": [
    "# stepwize\n",
    "# verificar quais as variaveis agregam ao modelo\n",
    "modelo_teste1 <- glm(data = dados_num_balanc, Churn ~ ., family = binomial)\n",
    "step(modelo_teste1)\n",
    "summary(modelo_teste1)\n"
   ]
  },
  {
   "cell_type": "code",
   "execution_count": null,
   "metadata": {
    "vscode": {
     "languageId": "r"
    }
   },
   "outputs": [],
   "source": [
    "# Validação cruzada - avalia a capacidade de generalização do modelo\n",
    "# O método de validação cruzada denominado k-fold consiste em dividir o conjunto\n",
    "# total de dados em k subconjuntos mutuamente exclusivos do mesmo tamanho e,\n",
    "# a partir daí, um subconjunto é utilizado para teste e os k-1 restantes são\n",
    "# utilizados para estimação dos parâmetros, fazendo-se o cálculo da acurácia do modelo.\n",
    "# Este processo é realizado k vezes alternando de forma circular o subconjunto de teste.\n",
    "trainIndex <- createDataPartition(dados_num_balanc$Churn,\n",
    "    p = .8, # 80 por cento\n",
    "    list = FALSE,\n",
    "    times = 1\n",
    ")\n",
    "vivoTrain <- dados_num_balanc[trainIndex, ]\n",
    "vivoTest <- dados_num_balanc[-trainIndex, ]\n"
   ]
  },
  {
   "cell_type": "code",
   "execution_count": null,
   "metadata": {
    "vscode": {
     "languageId": "r"
    }
   },
   "outputs": [],
   "source": [
    "# treinando a base\n",
    "set.seed(150)\n",
    "glm_model <- train(\n",
    "    Churn ~ SeniorCitizen + tenure + PaperlessBilling +\n",
    "        MonthlyCharges + TotalCharges + InternetService.Fiberoptic +\n",
    "        Contract.Oneyear + Contract.Twoyear + PaymentMethod.Electronic +\n",
    "        MultipleLines.Yes + OnlineSecurity.Yes + StreamingTV.Yes +\n",
    "        StreamingMovies.Yes + TechSupport.NoService,\n",
    "    data = vivoTrain,\n",
    "    method = \"glm\",\n",
    "    trControl = trainControl(method = \"cv\"),\n",
    "    family = \"binomial\"\n",
    ")\n",
    "summary(glm_model)\n",
    "varImp(glm_model)\n"
   ]
  },
  {
   "cell_type": "code",
   "execution_count": null,
   "metadata": {
    "vscode": {
     "languageId": "r"
    }
   },
   "outputs": [],
   "source": [
    "# testando a base\n",
    "reg_log_pred <- predict(glm_model, vivoTrain)\n",
    "reg_log_pred1 <- data.frame(reg_log_pred)\n",
    "reg_log_pred1$reg_log_pred <- as.factor(ifelse(reg_log_pred1$reg_log_pred >= 0.5, 1, 0))\n",
    "reg_log_pred1$reg_log_pred <- as.factor(ifelse(reg_log_pred1$reg_log_pred == 1, \"evadido\", \"cliente\"))\n",
    "vivoTrain$Churn <- as.factor(vivoTrain$Churn)\n",
    "vivoTrain$Churn <- as.factor(ifelse(vivoTrain$Churn == 1, \"evadido\", \"cliente\"))\n",
    "glimpse(reg_log_pred1)\n",
    "matrix_reg <-\n",
    "    confusionMatrix(data = reg_log_pred1$reg_log_pred, reference = vivoTrain$Churn, positive = \"evadido\")\n",
    "matrix_reg$table\n",
    "metricas <- data.frame(matrix_reg$byClass)\n"
   ]
  },
  {
   "cell_type": "code",
   "execution_count": null,
   "metadata": {
    "vscode": {
     "languageId": "r"
    }
   },
   "outputs": [],
   "source": [
    "glimpse(dados_1)\n",
    "# excluir o ID\n",
    "# transformar em qualitativa as quantitativas\n",
    "# Adicionar classes as variáveis numericas\n",
    "dados_1 %>%\n",
    "    mutate(\n",
    "        SeniorCitizen = as.factor(ifelse(SeniorCitizen == 1, \"Yes\", \"No\")),\n",
    "        customerID = NULL\n",
    "    ) -> dados_quali\n"
   ]
  },
  {
   "cell_type": "code",
   "execution_count": null,
   "metadata": {
    "vscode": {
     "languageId": "r"
    }
   },
   "outputs": [],
   "source": [
    "# criando classes para as variaveis quantitativas\n",
    "tenure <- summary(dados_quali$tenure)\n",
    "tenure\n"
   ]
  },
  {
   "cell_type": "code",
   "execution_count": null,
   "metadata": {
    "vscode": {
     "languageId": "r"
    }
   },
   "outputs": [],
   "source": [
    "TotalCharges <- summary(dados_quali$TotalCharges)\n",
    "min_TotalCharges <- TotalCharges[[1]] - 5\n",
    "q1_TotalCharges <- TotalCharges[[2]]\n",
    "q2_TotalCharges <- TotalCharges[[3]]\n",
    "q3_TotalCharges <- TotalCharges[[5]]\n",
    "max_TotalCharges <- TotalCharges[[6]] + 5\n",
    "dados_quali %>%\n",
    "    mutate(TotalCharges = cut(TotalCharges, breaks = c(\n",
    "        min_TotalCharges,\n",
    "        q1_TotalCharges,\n",
    "        q2_TotalCharges,\n",
    "        q3_TotalCharges,\n",
    "        max_TotalCharges\n",
    "    ))) -> dados_quali\n",
    "summary(dados_quali$TotalCharges)\n"
   ]
  },
  {
   "cell_type": "code",
   "execution_count": null,
   "metadata": {
    "vscode": {
     "languageId": "r"
    }
   },
   "outputs": [],
   "source": [
    "# balanceamento da base\n",
    "glimpse(dados_quali)\n",
    "dados_quali %>%\n",
    "    select(Churn) %>%\n",
    "    group_by(Churn) %>%\n",
    "    summarise(n = n())\n",
    "dados_quali %>%\n",
    "    filter(Churn == \"No\") %>%\n",
    "    sample_n(1869) -> dados_quali_no\n",
    "dados_quali %>%\n",
    "    filter(Churn == \"Yes\") -> dados_quali_yes\n",
    "dados_quali_balanc <- bind_rows(dados_quali_no, dados_quali_yes)\n",
    "dados_quali_balanc %>%\n",
    "    select(Churn) %>%\n",
    "    group_by(Churn) %>%\n",
    "    summarise(n = n())\n"
   ]
  },
  {
   "cell_type": "code",
   "execution_count": null,
   "metadata": {
    "vscode": {
     "languageId": "r"
    }
   },
   "outputs": [],
   "source": [
    "# #separação da base para teste e treino\n",
    "trainIndex_quali <- createDataPartition(dados_quali_balanc$Churn,\n",
    "    p = .8,\n",
    "    list = FALSE,\n",
    "    times = 1\n",
    ")\n",
    "vivoTrain_quali <- dados_quali_balanc[trainIndex_quali, ]\n",
    "vivoTest_quali <- dados_quali_balanc[-trainIndex_quali, ]\n"
   ]
  },
  {
   "cell_type": "code",
   "execution_count": null,
   "metadata": {
    "vscode": {
     "languageId": "r"
    }
   },
   "outputs": [],
   "source": [
    "# treinando o modelo de árvore de decisão\n",
    "vivo.tree <- train(Churn ~ .,\n",
    "    data = vivoTrain_quali,\n",
    "    method = \"rpart\",\n",
    "    trControl = trainControl(method = \"cv\")\n",
    ")\n",
    "vivo.tree\n",
    "fancyRpartPlot(vivo.tree$finalModel)\n",
    "vivo.pred <- predict(vivo.tree, newdata = vivoTrain_quali)\n",
    "matrix_tree <- confusionMatrix(data = vivo.pred, reference = vivoTrain_quali$Churn, positive = \"Yes\")\n",
    "matrix_tree$table\n",
    "metricas_tree <- data.frame(matrix_tree$byClass)\n",
    "metricas_tree\n"
   ]
  }
 ],
 "metadata": {
  "kernelspec": {
   "display_name": "R",
   "language": "R",
   "name": "ir"
  },
  "language_info": {
   "codemirror_mode": "r",
   "file_extension": ".r",
   "mimetype": "text/x-r-source",
   "name": "R",
   "pygments_lexer": "r",
   "version": "3.6.3"
  }
 },
 "nbformat": 4,
 "nbformat_minor": 2
}
