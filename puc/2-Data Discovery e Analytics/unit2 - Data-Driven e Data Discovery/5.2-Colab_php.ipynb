{
 "cells": [
  {
   "cell_type": "code",
   "execution_count": null,
   "metadata": {},
   "outputs": [
    {
     "ename": "",
     "evalue": "",
     "output_type": "error",
     "traceback": [
      "\u001b[1;31mFalha ao iniciar o Kernel. \n",
      "\u001b[1;31mO kernel foi encerrado. Erro: ... Consulte o <a href='command:jupyter.viewOutput'>log</a> do Jupyter para obter mais detalhes."
     ]
    }
   ],
   "source": [
    "$a=\"aaaa\";\n",
    "print $a;"
   ]
  }
 ],
 "metadata": {
  "kernelspec": {
   "display_name": "PHP",
   "language": "php",
   "name": "php"
  },
  "language_info": {
   "name": "php"
  }
 },
 "nbformat": 4,
 "nbformat_minor": 2
}
