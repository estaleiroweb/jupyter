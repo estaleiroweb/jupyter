{
 "cells": [
  {
   "cell_type": "markdown",
   "metadata": {},
   "source": [
    "# Tamanho Amostral"
   ]
  },
  {
   "cell_type": "code",
   "execution_count": 1,
   "metadata": {
    "vscode": {
     "languageId": "r"
    }
   },
   "outputs": [
    {
     "name": "stderr",
     "output_type": "stream",
     "text": [
      "Carregando pacotes exigidos: pps\n",
      "\n",
      "Carregando pacotes exigidos: sampling\n",
      "\n",
      "Carregando pacotes exigidos: survey\n",
      "\n",
      "Carregando pacotes exigidos: grid\n",
      "\n",
      "Carregando pacotes exigidos: Matrix\n",
      "\n",
      "Carregando pacotes exigidos: survival\n",
      "\n",
      "\n",
      "Anexando pacote: 'survival'\n",
      "\n",
      "\n",
      "Os seguintes objetos são mascarados por 'package:sampling':\n",
      "\n",
      "    cluster, strata\n",
      "\n",
      "\n",
      "\n",
      "Anexando pacote: 'survey'\n",
      "\n",
      "\n",
      "O seguinte objeto é mascarado por 'package:graphics':\n",
      "\n",
      "    dotchart\n",
      "\n",
      "\n"
     ]
    }
   ],
   "source": [
    "# install.packages('samplingbook')\n",
    "library(samplingbook)"
   ]
  },
  {
   "cell_type": "code",
   "execution_count": null,
   "metadata": {
    "vscode": {
     "languageId": "r"
    }
   },
   "outputs": [],
   "source": [
    "e <- 0.03 # margem de erro\n",
    "s <- 0 # desvio padrão da população\n",
    "nc <- 0.95 # Nível de confiança\n",
    "n <- Inf # tamanho da população. Inf=desconhecido/Infinito\n",
    "p_hat <- 0.5 # Proporção Estimada 0~1. Desconhecido=0.5\n",
    "\n",
    "# Cálculo do tamanho amostral mínimo necessário para estimar uma média\n",
    "mu <- sample.size.mean(e, s, N = n, level = nc)\n",
    "\n",
    "print(mu)\n"
   ]
  },
  {
   "cell_type": "code",
   "execution_count": 7,
   "metadata": {
    "vscode": {
     "languageId": "r"
    }
   },
   "outputs": [
    {
     "name": "stdout",
     "output_type": "stream",
     "text": [
      "\n",
      "sample.size.mean object: Sample size for mean estimate\n",
      "With finite population correction: N=1000, precision e=0.3 and standard deviation S=2.0743\n",
      "\n",
      "Sample size needed: 241\n",
      "\n"
     ]
    }
   ],
   "source": [
    "coleta <- c(\n",
    "    12, 13.5, 16, 15.7, 15.8, 16.5, 15, 13.1,\n",
    "    15.2, 18.1, 18.5, 12.3, 17.5, 17\n",
    ") # tempo\n",
    "\n",
    "e <- 0.3 # margem de erro\n",
    "s <- sd(coleta) # desvio padrão da população\n",
    "nc <- 0.99 # Nível de confiança\n",
    "n <- Inf # tamanho da população. Inf=desconhecido/Infinito\n",
    "\n",
    "# Cálculo do tamanho amostral mínimo necessário para estimar uma média\n",
    "mu <- sample.size.mean(e, s, N = n, level = nc)\n",
    "\n",
    "print(mu)\n"
   ]
  },
  {
   "cell_type": "code",
   "execution_count": 3,
   "metadata": {
    "vscode": {
     "languageId": "r"
    }
   },
   "outputs": [
    {
     "name": "stdout",
     "output_type": "stream",
     "text": [
      "\n",
      "sample.size.prop object: Sample size for proportion estimate\n",
      "Without finite population correction: N=Inf, precision e=0.03 and expected proportion P=0.5\n",
      "\n",
      "Sample size needed: 1068\n",
      "\n"
     ]
    }
   ],
   "source": [
    "e <- 0.03 # margem de erro\n",
    "s <- 0 # desvio padrão da população\n",
    "nc <- 0.95 # Nível de confiança\n",
    "n <- Inf # tamanho da população. Inf=desconhecido/Infinito\n",
    "p_hat <- 0.5 # Proporção Estimada 0~1. Desconhecido=0.5\n",
    "\n",
    "# Cálculo do tamanho amostral mínimo necessário para estimar uma média\n",
    "p <- sample.size.prop(e, P = p_hat, N = n, level = nc)\n",
    "\n",
    "print(p)\n"
   ]
  }
 ],
 "metadata": {
  "kernelspec": {
   "display_name": "R",
   "language": "R",
   "name": "ir"
  },
  "language_info": {
   "codemirror_mode": "r",
   "file_extension": ".r",
   "mimetype": "text/x-r-source",
   "name": "R",
   "pygments_lexer": "r",
   "version": "4.4.1"
  }
 },
 "nbformat": 4,
 "nbformat_minor": 2
}
