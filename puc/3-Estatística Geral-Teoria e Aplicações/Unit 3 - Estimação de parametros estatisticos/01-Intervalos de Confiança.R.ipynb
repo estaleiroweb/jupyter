{
 "cells": [
  {
   "cell_type": "markdown",
   "metadata": {},
   "source": [
    "# Intervalo de confiança para uma média\n",
    "\n",
    "Variáveis padrão"
   ]
  },
  {
   "cell_type": "code",
   "execution_count": 18,
   "metadata": {
    "vscode": {
     "languageId": "r"
    }
   },
   "outputs": [
    {
     "name": "stdout",
     "output_type": "stream",
     "text": [
      "[1] \"Nível de Confiança= 0.95\"\n",
      "[1] \"p= 0.975\"\n"
     ]
    }
   ],
   "source": [
    "library(glue)\n",
    "\n",
    "# Fornecer os dados do problema\n",
    "n <- 25\n",
    "xbar <- 300\n",
    "nc <- 0.95\n",
    "p <- 0\n",
    "erro <- 0\n",
    "\n",
    "fn_p <- function() {\n",
    "    p <<- nc + ((1 - nc) / 2)\n",
    "    print(paste(\"Nível de Confiança=\", nc))\n",
    "    print(paste(\"p=\", p))\n",
    "}\n",
    "fn_calc <- function(z, s, n) {\n",
    "    print(paste(\"Valor Crítico=\", z))\n",
    "    print(paste(\"Desvio Padrão=\", s))\n",
    "    print(paste(\"Amostra=\", n))\n",
    "\n",
    "    # margem de erro\n",
    "    erro <<- z * s / sqrt(n)\n",
    "    print(paste(\"Margem de Erro=\", p))\n",
    "\n",
    "    # limite inferior do intervalo\n",
    "    li <<- xbar - erro\n",
    "\n",
    "    # limite superior do intervalo\n",
    "    ls <<- xbar + erro\n",
    "    print(glue(\"Limite =[{li}~{ls}]\"))\n",
    "}\n",
    "fn_p()\n"
   ]
  },
  {
   "cell_type": "markdown",
   "metadata": {},
   "source": [
    "## Desvio padrão populacional (σ) é conhecido"
   ]
  },
  {
   "cell_type": "code",
   "execution_count": 19,
   "metadata": {
    "vscode": {
     "languageId": "r"
    }
   },
   "outputs": [
    {
     "name": "stdout",
     "output_type": "stream",
     "text": [
      "[1] \"Valor Crítico= 1.95996398454005\"\n",
      "[1] \"Desvio Padrão= 18.5\"\n",
      "[1] \"Amostra= 25\"\n",
      "[1] \"Margem de Erro= 0.975\"\n",
      "Limite =[292.748133257202~307.251866742798]\n"
     ]
    }
   ],
   "source": [
    "sigma <- 18.5 # Desvio padrão Podulacional (Sigma É conhecido)\n",
    "\n",
    "# valor critico\n",
    "z <- qnorm(p, mean = 0, sd = 1, lower.tail = TRUE, log.p = FALSE)\n",
    "fn_calc(z, sigma, n)"
   ]
  },
  {
   "cell_type": "markdown",
   "metadata": {},
   "source": [
    "## Desvio padrão populacional (σ) NÃO é conhecido"
   ]
  },
  {
   "cell_type": "code",
   "execution_count": 20,
   "metadata": {
    "vscode": {
     "languageId": "r"
    }
   },
   "outputs": [
    {
     "name": "stdout",
     "output_type": "stream",
     "text": [
      "[1] \"Valor Crítico= 2.06389856162803\"\n",
      "[1] \"Desvio Padrão= 18.5\"\n",
      "[1] \"Amostra= 25\"\n",
      "[1] \"Margem de Erro= 0.975\"\n",
      "Limite =[292.363575321976~307.636424678024]\n"
     ]
    }
   ],
   "source": [
    "s <- 18.5 # Desvio Padrão da Amostra\n",
    "\n",
    "# valor critico\n",
    "t <- qt(p, n - 1, lower.tail = TRUE, log.p = FALSE) # t de Student\n",
    "fn_calc(t, s, n)"
   ]
  },
  {
   "cell_type": "markdown",
   "metadata": {},
   "source": [
    "## Cálculo de Intervalo de Confiança para uma Proporção"
   ]
  },
  {
   "cell_type": "code",
   "execution_count": 27,
   "metadata": {
    "vscode": {
     "languageId": "r"
    }
   },
   "outputs": [
    {
     "name": "stdout",
     "output_type": "stream",
     "text": [
      "\n",
      "\t1-sample proportions test without continuity correction\n",
      "\n",
      "data:  x out of n, null probability 0.5\n",
      "X-squared = 1, df = 1, p-value = 0.3173\n",
      "alternative hypothesis: true p is not equal to 0.5\n",
      "85 percent confidence interval:\n",
      " 0.4565904 0.7281006\n",
      "sample estimates:\n",
      "  p \n",
      "0.6 \n",
      "\n",
      "\n",
      "\tExact binomial test\n",
      "\n",
      "data:  x and n\n",
      "number of successes = 15, number of trials = 25, p-value = 0.4244\n",
      "alternative hypothesis: true probability of success is not equal to 0.5\n",
      "85 percent confidence interval:\n",
      " 0.4368003 0.7478342\n",
      "sample estimates:\n",
      "probability of success \n",
      "                   0.6 \n",
      "\n"
     ]
    }
   ],
   "source": [
    "n <- 25 # Tamanho da Amostra\n",
    "x <- 15 # Número de Sucessos\n",
    "# conf.level nível de confiança\n",
    "# correct=TRUE utiliza a correção de continuidade de Yates ou FALSE=não\n",
    "\n",
    "# usa distribuição qui-quadrado para construir o intervalo de confiança\n",
    "v1 <- prop.test(x, n, conf.level = 0.85, correct = FALSE)\n",
    "\n",
    "# distribuição exata\n",
    "v2 <- binom.test(x, n, conf.level = 0.85)\n",
    "\n",
    "print(v1)\n",
    "print(v2)\n"
   ]
  },
  {
   "cell_type": "code",
   "execution_count": null,
   "metadata": {
    "vscode": {
     "languageId": "r"
    }
   },
   "outputs": [],
   "source": [
    "p_amostral <- x / n\n",
    "# nc <- 0.92\n",
    "# p <- nc + ((1 - nc) / 2)\n",
    "\n",
    "# valor crítico\n",
    "z <- qnorm(p, mean = 0, sd = 1, lower.tail = TRUE, log.p = FALSE)\n",
    "\n",
    "# margem de erro\n",
    "erro <- z * (sqrt((p_amostral * (1 - p_amostral)) / n))\n",
    "\n",
    "# limite inferior\n",
    "li <- p_amostral - erro\n",
    "\n",
    "# limite superior\n",
    "li <- p_amostral + erro\n"
   ]
  },
  {
   "cell_type": "code",
   "execution_count": 24,
   "metadata": {
    "vscode": {
     "languageId": "r"
    }
   },
   "outputs": [
    {
     "data": {
      "text/plain": [
       "\n",
       "\tOne Sample t-test\n",
       "\n",
       "data:  amostral\n",
       "t = 88.447, df = 5, p-value = 3.502e-09\n",
       "alternative hypothesis: true mean is not equal to 0\n",
       "95 percent confidence interval:\n",
       " 4.789953 5.076714\n",
       "sample estimates:\n",
       "mean of x \n",
       " 4.933333 \n"
      ]
     },
     "metadata": {},
     "output_type": "display_data"
    }
   ],
   "source": [
    "amostral <- c(4.9, 5.1, 4.9, 5.0, 5.0, 4.7)\n",
    "\n",
    "# Constroe intervalo de confiança e teste de hipótese\n",
    "t.test(amostral, conf.level = 0.95)\n"
   ]
  }
 ],
 "metadata": {
  "kernelspec": {
   "display_name": "R",
   "language": "R",
   "name": "ir"
  },
  "language_info": {
   "codemirror_mode": "r",
   "file_extension": ".r",
   "mimetype": "text/x-r-source",
   "name": "R",
   "pygments_lexer": "r",
   "version": "4.4.1"
  }
 },
 "nbformat": 4,
 "nbformat_minor": 2
}
