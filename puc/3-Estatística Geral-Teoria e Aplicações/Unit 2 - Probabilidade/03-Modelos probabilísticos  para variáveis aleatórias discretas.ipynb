{
 "cells": [
  {
   "cell_type": "markdown",
   "metadata": {},
   "source": [
    "# Modelos probabilísticos para variáveis aleatórias discretas\n",
    "\n",
    "Uma variável aleatória X é discreta se assume valores (x) que podem ser contados, ou seja, se houver um número finito ou contável de resultados possíveis que possam ser enumerados.\n",
    "\n",
    "Os tipos de distribuição de probabilidade mais comuns para o caso em que X é uma variável aleatória discreta são:\n",
    "\n",
    "- Uniforme discreta\n",
    "- Bernoulli\n",
    "- Geométrica\n",
    "- Pascal ou Binomial negativa\n",
    "- Hipergeométrica\n",
    "- Polinomial ou multinomial\n",
    "- Binomial\n",
    "- Poisson\n",
    "\n",
    "Neste material abordaremos as distribuições Binomial e Poisson.\n",
    "\n",
    "## Distribuição Binomial\n",
    "\n",
    "Considere um experimento aleatório consistindo em n tentativas independentes e a probabilidade de ocorrer sucesso em cada uma das n tentativas é sempre igual a p e de fracasso é q, onde p + q = 1. A probabilidade de sucesso e fracasso são as mesmas para cada tentativa.\n",
    "\n",
    "**Definição**: Seja X o número de sucesso em n tentativas, então X pode assumir os valores 0, 1, 2,..., n. Nesta condição a v.a. X tem distribuição Binomial com parâmetro n e p, isto é, $X \\sim B(n; p)$.\n",
    "Considere que se $X \\sim B(n; p)$, então a média e a variância de X são definidos por:\n",
    "\n",
    "- Média de X: $E(X) = np$.\n",
    "- Variância de X: $\\sigma^2npq$, onde $q = 1 - p$.\n",
    "\n",
    "A função de probabilidade da variável aleatória X  B(n; p) é dada por:\n",
    "\n",
    "$$\n",
    "P(X = x) = \\binom{n}{x} p^x . (1-p)^{n-x}, x= 0, 1, 2, ..., n\n",
    "$$\n",
    "\n",
    "Onde $\\binom{n}{x}$ representa o coeficiente binomial calculado por $\\binom{n}{x}=\\frac{n!}{x!(n-x)}$\n",
    "\n",
    "## Distribuição Poisson\n",
    "\n",
    "Consideremos as seguintes variáveis aleatórias:\n",
    "\n",
    "    X1 = Número de chamadas recebidas por uma central telefônica durante um período de 30 minutos;\n",
    "    X2 = Número de bactérias em um litro de água não-purificada;\n",
    "    X3 = Número de partículas radiativas que, em um experimento de laboratório, entram em um contador durante um milissegundo;\n",
    "    X4 = Número de acidentes com automóveis particulares em determinado trecho de estrada, no período de 12 horas.\n",
    "\n",
    "Note-se que em todos esses exemplos a variável aleatória (X) consiste na contagem de eventos discretos que ocorrem em um meio contínuo (tempo, volume, área, etc.). Essas variáveis tomam os valores x= 0, 1, 2, ..., e seu comportamento pode ser descrito pela chamada distribuição de Poisson cuja função de probabilidade é:\n",
    "\n",
    "$$\n",
    "P(X = x) = \\frac{e^{-\\lambda}\\lambda^x}{x!} \\quad x = 0, 1, 2, ...\n",
    "$$\n",
    "\n",
    "Onde $\\lambda > 0$ é o parâmetro da distribuição, sendo referido como a taxa de ocorrência, ou seja, o número médio de eventos ocorrendo no intervalo considerado. Utiliza-se a notação: $X \\sim Po(\\lambda)$.\n",
    "\n",
    "Se X tiver distribuição de Poisson com parâmetro , então o valor esperado\n",
    "e a variância são:\n",
    "\n",
    "$$\n",
    "E(X) = \\lambda \\\\\n",
    "Var(X)=\\lambda\n",
    "$$\n",
    "Teorema: Seja X uma variável aleatória distribuída binomialmente com parâmetro p (baseado em n repetições de um experimento). Isto é:\n",
    "\n",
    "$$\n",
    "P(X=x) = \\binom{n}{x} . p^x .(1-p)^{n-x}\n",
    "$$\n",
    "\n",
    "Admita-se que quando $n \\rightarrow \\infin$, $p \\rightarrow 0$, de modo que $n.p \\rightarrow \\lambda$. Nessas condições teremos:\n",
    "\n",
    "$$\n",
    "\\lim_{n \\rightarrow \\infin} P(X=x) =\n",
    "\\lim_{n \\rightarrow \\infin} \\binom{n}{x} . p^x .(1-p)^{n-x} =\n",
    "\\frac{e^{-\\lambda} \\lambda^x}{x!}\n",
    "$$\n",
    "\n",
    "que é a distribuição de Poisson com parâmetro $\\lambda$.\n",
    "\n",
    "O Teorema acima diz, essencialmente, que poderemos obter uma aproximação das probabilidades binomiais com as probabilidades da distribuição Poisson, toda vez que n seja grande e p seja pequeno. Por esse motivo a distribuição Poisson também é chamada “distribuição dos eventos raros”.\n"
   ]
  },
  {
   "cell_type": "markdown",
   "metadata": {},
   "source": [
    "## Exercício Binômial"
   ]
  },
  {
   "cell_type": "code",
   "execution_count": null,
   "metadata": {},
   "outputs": [],
   "source": [
    "from scipy.stats import poisson"
   ]
  },
  {
   "cell_type": "code",
   "execution_count": null,
   "metadata": {},
   "outputs": [],
   "source": [
    "x=8 # G3\n",
    "media=6 # H3"
   ]
  },
  {
   "cell_type": "code",
   "execution_count": null,
   "metadata": {},
   "outputs": [
    {
     "data": {
      "text/plain": [
       "0.1032577335308442"
      ]
     },
     "metadata": {},
     "output_type": "display_data"
    }
   ],
   "source": [
    "# P(X=x)\n",
    "poisson.pmf(x,media)\n",
    "# dpois(x,media) # R\n",
    "# =DIST.POISSON([x];[media];FALSO) # Excel"
   ]
  },
  {
   "cell_type": "code",
   "execution_count": null,
   "metadata": {},
   "outputs": [
    {
     "data": {
      "text/plain": [
       "0.8472374939845612"
      ]
     },
     "metadata": {},
     "output_type": "display_data"
    }
   ],
   "source": [
    "# P(0<=X<=x)=P(X<=x)\n",
    "poisson.cdf(x,media)\n",
    "# ppois(x,media,lower.tail=TRUE) # R\n",
    "# =DIST.POISSON([x];[media];VERDADEIRO) # Excel"
   ]
  },
  {
   "cell_type": "code",
   "execution_count": null,
   "metadata": {},
   "outputs": [
    {
     "data": {
      "text/plain": [
       "0.1527625060154388"
      ]
     },
     "metadata": {},
     "output_type": "display_data"
    }
   ],
   "source": [
    "# P(0>X>x)=P(X>x)\n",
    "poisson.sf(x,media)\n",
    "# ppois(x,media,lower.tail=FALSE) # R\n",
    "# =1-DIST.POISSON([x];[media];VERDADEIRO) # Excel"
   ]
  },
  {
   "cell_type": "code",
   "execution_count": null,
   "metadata": {},
   "outputs": [
    {
     "data": {
      "text/plain": [
       "0.256020239546283"
      ]
     },
     "metadata": {},
     "output_type": "display_data"
    }
   ],
   "source": [
    "# P(0>=X>=x)=P(X>=x)\n",
    "poisson.sf(x-1,media)\n",
    "# ppois(x,media,lower.tail=FALSE) # R\n",
    "# =1-DIST.POISSON([x]-1;[media];VERDADEIRO) # Excel"
   ]
  },
  {
   "cell_type": "code",
   "execution_count": null,
   "metadata": {},
   "outputs": [
    {
     "data": {
      "text/plain": [
       "0.743979760453717"
      ]
     },
     "metadata": {},
     "output_type": "display_data"
    }
   ],
   "source": [
    "# P(0<X<x)=P(X<x)\n",
    "poisson.cdf(x-1,media)\n",
    "# ppois(x,media,lower.tail=TRUE) # R\n",
    "# =DIST.POISSON([x]-1;[media];VERDADEIRO) # Excel"
   ]
  },
  {
   "cell_type": "markdown",
   "metadata": {},
   "source": [
    "## Exercício Poisson"
   ]
  },
  {
   "cell_type": "code",
   "execution_count": 1,
   "metadata": {},
   "outputs": [],
   "source": [
    "from scipy.stats import binom"
   ]
  },
  {
   "cell_type": "code",
   "execution_count": 2,
   "metadata": {},
   "outputs": [],
   "source": [
    "x=2 #B3\n",
    "p=12 # C3: size\n",
    "q=0.05 # D3: prob"
   ]
  },
  {
   "cell_type": "code",
   "execution_count": 3,
   "metadata": {},
   "outputs": [
    {
     "data": {
      "text/plain": [
       "0.09879159497433242"
      ]
     },
     "execution_count": 3,
     "metadata": {},
     "output_type": "execute_result"
    }
   ],
   "source": [
    "# P(X=2)\n",
    "binom.pmf(x,p,q)\n",
    "# dbinom(x,p,q) # R\n",
    "# =DISTR.BINOM([x];[p];[q];FALSO) # Excel"
   ]
  },
  {
   "cell_type": "code",
   "execution_count": 4,
   "metadata": {},
   "outputs": [
    {
     "data": {
      "text/plain": [
       "0.9804317380028454"
      ]
     },
     "execution_count": 4,
     "metadata": {},
     "output_type": "execute_result"
    }
   ],
   "source": [
    "# P(X<=2)\n",
    "binom.cdf(x,p,q)\n",
    "# pbinom(x,p,q,lower.tail=TRUE) # R\n",
    "# =DISTR.BINOM([x];[p];[q];VERDADEIRO) # Excel"
   ]
  },
  {
   "cell_type": "code",
   "execution_count": 5,
   "metadata": {},
   "outputs": [
    {
     "data": {
      "text/plain": [
       "0.019568261997154543"
      ]
     },
     "execution_count": 5,
     "metadata": {},
     "output_type": "execute_result"
    }
   ],
   "source": [
    "# P(X>2)\n",
    "binom.sf(x,p,q)\n",
    "# pbinom(x,p,q,lower.tail=FALSE) # R\n",
    "# =1-DISTR.BINOM([x];[p];[q];VERDADEIRO) # Excel"
   ]
  },
  {
   "cell_type": "code",
   "execution_count": 6,
   "metadata": {},
   "outputs": [
    {
     "data": {
      "text/plain": [
       "0.11835985697148706"
      ]
     },
     "execution_count": 6,
     "metadata": {},
     "output_type": "execute_result"
    }
   ],
   "source": [
    "# P(X>=2)\n",
    "binom.sf(x-1,p,q)\n",
    "# pbinom(x,p,q,lower.tail=FALSE) # R\n",
    "# =1-DISTR.BINOM([x]-1;[p];[q];VERDADEIRO) # Excel"
   ]
  },
  {
   "cell_type": "code",
   "execution_count": 7,
   "metadata": {},
   "outputs": [
    {
     "data": {
      "text/plain": [
       "0.8816401430285129"
      ]
     },
     "execution_count": 7,
     "metadata": {},
     "output_type": "execute_result"
    }
   ],
   "source": [
    "# P(X<2)\n",
    "binom.cdf(x-1,p,q)\n",
    "# pbinom(x,p,q,lower.tail=TRUE) # R\n",
    "# =DISTR.BINOM([x]-1;[p];[q];VERDADEIRO) # Excel"
   ]
  }
 ],
 "metadata": {
  "kernelspec": {
   "display_name": "Python 3",
   "language": "python",
   "name": "python3"
  },
  "language_info": {
   "codemirror_mode": {
    "name": "ipython",
    "version": 3
   },
   "file_extension": ".py",
   "mimetype": "text/x-python",
   "name": "python",
   "nbconvert_exporter": "python",
   "pygments_lexer": "ipython3",
   "version": "3.10.0"
  }
 },
 "nbformat": 4,
 "nbformat_minor": 2
}
