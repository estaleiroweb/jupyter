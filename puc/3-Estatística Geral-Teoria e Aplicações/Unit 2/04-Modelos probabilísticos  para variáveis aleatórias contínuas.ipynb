{
 "cells": [
  {
   "cell_type": "markdown",
   "metadata": {},
   "source": [
    "# Modelos probabilísticos para variáveis aleatórias contínuas\n",
    "\n",
    "Uma variável é considerada contínua quando pode assumir qualquer valor dentro de um intervalo, ou seja, se houver um número incontável de resultados possíveis, representados por um intervalo sobre o eixo real.\n",
    "\n",
    "Os principais modelos de probabilidades que são designados para descreverem o comportamento de uma variável aleatória contínua são:\n",
    "\n",
    "- Uniforme\n",
    "- Normal\n",
    "- Exponencial\n",
    "- Gama\n",
    "- Weibull\n",
    "- Beta\n",
    "- Lognormal\n",
    "\n",
    "Neste material abordaremos as distribuições Exponencial e Normal.\n",
    "\n",
    "## Distribuição Exponencial\n",
    "\n",
    "A distribuição exponencial é o modelo probabilístico usual para situações tais como tempo de espera em uma fila, tempo de sobrevivência de um paciente após o início de um tratamento, tempo de vida de material eletrônico.\n",
    "\n",
    "**Definição**: Uma v. a. X tem distribuição exponencial se sua função de densidade de probabilidade (f.d.p.) é da forma:\n",
    "\n",
    "$$\n",
    "f(x) =\n",
    "\\begin{cases}\n",
    "\\alpha e^{-ax} \\\\\n",
    "0\n",
    "\\end{cases}\n",
    "~\n",
    "\\begin{array}{l}\n",
    ", x>0 \\text{ e } \\alpha>0\\\\\n",
    ", \\text{para quaisquer outros valores}\n",
    "\\end{array}\n",
    "$$\n",
    "\n",
    "A notação que utilizaremos para representar que uma v. a. contínua X tem distribuição exponencial é: $X ~ Exp (\\alpha)$.\n",
    "\n",
    "A média e a variância da distribuição exponencial são:\n",
    "\n",
    "$$\n",
    "E(X)=\\frac{1}{\\alpha}\n",
    "$$\n",
    "\n",
    "$$\n",
    "Var(x)=\\frac{1}{\\alpha^2}\n",
    "$$\n",
    "\n",
    "Apresentamos na Figura 1 o gráfico da distribuição exponencial para três valores diferentes para o parâmetro ($\\alpha$).\n"
   ]
  },
  {
   "cell_type": "markdown",
   "metadata": {},
   "source": [
    "## Exercício Exponencial"
   ]
  },
  {
   "cell_type": "code",
   "execution_count": 1,
   "metadata": {},
   "outputs": [],
   "source": [
    "from scipy.stats import expon\n",
    "import numpy as np"
   ]
  },
  {
   "cell_type": "code",
   "execution_count": 23,
   "metadata": {},
   "outputs": [
    {
     "data": {
      "text/plain": [
       "0.3934693402873666"
      ]
     },
     "execution_count": 23,
     "metadata": {},
     "output_type": "execute_result"
    }
   ],
   "source": [
    "x=4000\n",
    "alfa = 8000.0  # Taxa (λ)\n",
    "lower_tail = True  # Se a probabilidade é acumulada a partir do menor valor\n",
    "log_p = False  # Se o resultado deve ser retornado no logaritmo\n",
    "\n",
    "prob = expon.cdf(x, scale=alfa)\n",
    "if not lower_tail:\n",
    "    prob = 1 - prob\n",
    "if log_p:\n",
    "    prob = np.log(prob)\n",
    "\n",
    "prob"
   ]
  },
  {
   "cell_type": "code",
   "execution_count": 20,
   "metadata": {},
   "outputs": [
    {
     "data": {
      "text/plain": [
       "0.3934693402873666"
      ]
     },
     "execution_count": 20,
     "metadata": {},
     "output_type": "execute_result"
    }
   ],
   "source": [
    "# P(0<=X<=x) = P(X<=x) = P(X<x)\n",
    "# =DISTR.EXPON([x];[alfa];VERDADEIRO) # Excel\n",
    "# pexp(x,rate=alfa,lower.tail=TRUE,log.p=FALSE)  # R\n",
    "expon.cdf(x, scale=alfa)"
   ]
  },
  {
   "cell_type": "code",
   "execution_count": 21,
   "metadata": {},
   "outputs": [
    {
     "data": {
      "text/plain": [
       "0.6065306597126334"
      ]
     },
     "execution_count": 21,
     "metadata": {},
     "output_type": "execute_result"
    }
   ],
   "source": [
    "# P(0>X>x) = P(X>x)\n",
    "# pexp(x,rate=alfa,lower.tail=FALSE,log.p=FALSE)  # R\n",
    "expon.sf(x, scale=alfa)"
   ]
  },
  {
   "cell_type": "markdown",
   "metadata": {},
   "source": [
    "## Distribuição Normal\n",
    "\n",
    "A distribuição normal conhecida também como distribuição gaussiana é sem dúvida a \n",
    "mais importante distribuição contínua.\n",
    "Sua importância se deve a vários fatores, entre eles podemos citar o Teorema Central \n",
    "do Limite, o qual é um resultado fundamental em aplicações práticas e teóricas, pois \n",
    "ele garante que mesmo que os dados não sejam distribuídos segundo uma normal a \n",
    "média dos dados converge para uma distribuição normal conforme o número de dados \n",
    "aumenta.\n",
    "\n",
    "O requisito mínimo para adotarmos o modelo normal para um conjunto de dados \n",
    "contínuos é que seu histograma seja aproximadamente simétrico em torno do ponto \n",
    "central, que também deve ser o ponto de máximo.\n",
    "\n",
    "**Definição**: A variável aleatória X, que tome todos os valores reais $-\\infin < \\mu < +\\infin$, tem \n",
    "uma distribuição normal (ou gaussiana) se sua função densidade de probabilidade \n",
    "(f.d.p.) for da forma:\n",
    "\n",
    "$$\n",
    "f(x)=\\frac{1}{\\sigma \\sqrt{2 \\pi}} e^{\\frac{-(x-\\mu)^2}{2\\sigma^2}}, -\\infin < x < +\\infin\n",
    "$$\n",
    "\n",
    "\n",
    "Os parâmetros da distribuição normal são a média e a variância, onde $-\\infin < \\mu < +\\infin$ e \n",
    "$\\sigma > 0$. Utilizaremos a notação $X \\sim N (\\mu, \\sigma^2)$ para representar que a v. a. X tem \n",
    "distribuição Normal com parâmetros $\\mu$ e $\\sgma^2$\n",
    "2\n",
    ".\n",
    "Quando  e \n",
    "2 são desconhecidos (caso mais comum), estes valores serão \n",
    "estimados por 𝑥̅e s2\n",
    ", respectivamente, a partir da amostra.\n",
    "A Figura 2 mostra a função densidade de probabilidade de uma v. a. com distribuição \n",
    "normal:"
   ]
  },
  {
   "cell_type": "code",
   "execution_count": null,
   "metadata": {},
   "outputs": [],
   "source": [
    "from scipy.stats import norm"
   ]
  },
  {
   "cell_type": "code",
   "execution_count": null,
   "metadata": {},
   "outputs": [],
   "source": [
    "x=0\n",
    "m=0\n",
    "s=0"
   ]
  },
  {
   "cell_type": "code",
   "execution_count": null,
   "metadata": {},
   "outputs": [],
   "source": [
    "# P(X<=x)\n",
    "# =DIST.NORM.N([x];[media];[desvio];VERDADEIRO)\n",
    "# pnorm(x,m,s,lower.tail=TRUE) # m=média, s=desvio padrão\n",
    "p=morm.cdf(x,m,s)"
   ]
  },
  {
   "cell_type": "code",
   "execution_count": null,
   "metadata": {},
   "outputs": [],
   "source": [
    "# P(X>x)\n",
    "# =1-DIST.NORM.N([x];[media];[desvio];VERDADEIRO)\n",
    "# pnorm(x,m,s,lower.tail=FALSE) # m=média, s=desvio padrão\n",
    "morm.sf(x,m,s)"
   ]
  },
  {
   "cell_type": "code",
   "execution_count": null,
   "metadata": {},
   "outputs": [],
   "source": [
    "# Inversa P(X<=x)\n",
    "# INV.NORM.N([probabilidade];[media];[desvio])\n",
    "# qnorm(p,m,s,lower.tail=TRUE)\n",
    "norm.ppf(p,m,s)"
   ]
  }
 ],
 "metadata": {
  "kernelspec": {
   "display_name": "Python 3",
   "language": "python",
   "name": "python3"
  },
  "language_info": {
   "codemirror_mode": {
    "name": "ipython",
    "version": 3
   },
   "file_extension": ".py",
   "mimetype": "text/x-python",
   "name": "python",
   "nbconvert_exporter": "python",
   "pygments_lexer": "ipython3",
   "version": "3.10.0"
  }
 },
 "nbformat": 4,
 "nbformat_minor": 2
}
