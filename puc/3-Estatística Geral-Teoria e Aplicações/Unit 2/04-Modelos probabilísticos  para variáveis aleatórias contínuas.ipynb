{
 "cells": [
  {
   "cell_type": "markdown",
   "metadata": {},
   "source": [
    "# Modelos probabilísticos para variáveis aleatórias contínuas\n",
    "\n",
    "Uma variável é considerada contínua quando pode assumir qualquer valor dentro de um intervalo, ou seja, se houver um número incontável de resultados possíveis, representados por um intervalo sobre o eixo real.\n",
    "\n",
    "Os principais modelos de probabilidades que são designados para descreverem o comportamento de uma variável aleatória contínua são:\n",
    "\n",
    "- Uniforme\n",
    "- Normal\n",
    "- Exponencial\n",
    "- Gama\n",
    "- Weibull\n",
    "- Beta\n",
    "- Lognormal\n",
    "\n",
    "Neste material abordaremos as distribuições Exponencial e Normal.\n",
    "\n",
    "## Distribuição Exponencial\n",
    "\n",
    "A distribuição exponencial é o modelo probabilístico usual para situações tais como tempo de espera em uma fila, tempo de sobrevivência de um paciente após o início de um tratamento, tempo de vida de material eletrônico.\n",
    "\n",
    "**Definição**: Uma v. a. X tem distribuição exponencial se sua função de densidade de probabilidade (f.d.p.) é da forma:\n",
    "\n",
    "$$\n",
    "f(x) =\n",
    "\\begin{cases}\n",
    "\\alpha e^{-ax} \\\\\n",
    "0\n",
    "\\end{cases}\n",
    "~\n",
    "\\begin{array}{l}\n",
    ", x>0 \\text{ e } \\alpha>0\\\\\n",
    ", \\text{para quaisquer outros valores}\n",
    "\\end{array}\n",
    "$$\n",
    "\n",
    "A notação que utilizaremos para representar que uma v. a. contínua X tem distribuição exponencial é: $X ~ Exp (\\alpha)$.\n",
    "\n",
    "A média e a variância da distribuição exponencial são:\n",
    "\n",
    "$$\n",
    "E(X)=\\frac{1}{\\alpha}\n",
    "$$\n",
    "\n",
    "$$\n",
    "Var(x)=\\frac{1}{\\alpha^2}\n",
    "$$\n",
    "\n",
    "Apresentamos na Figura 1 o gráfico da distribuição exponencial para três valores diferentes para o parâmetro ($\\alpha$).\n"
   ]
  },
  {
   "cell_type": "markdown",
   "metadata": {},
   "source": [
    "## Exercício Exponencial"
   ]
  },
  {
   "cell_type": "code",
   "execution_count": 1,
   "metadata": {},
   "outputs": [],
   "source": [
    "from scipy.stats import expon\n",
    "import numpy as np"
   ]
  },
  {
   "cell_type": "code",
   "execution_count": 17,
   "metadata": {},
   "outputs": [],
   "source": [
    "x=4000\n",
    "alfa = 8000.0  # Taxa (λ)\n",
    "lower_tail = True  # Se a probabilidade é acumulada a partir do menor valor\n",
    "log_p = False  # Se o resultado deve ser retornado no logaritmo\n",
    "\n",
    "prob = expon.cdf(x, scale=alfa)\n",
    "if not lower_tail:\n",
    "    prob = 1 - prob\n",
    "if log_p:\n",
    "    prob = np.log(prob)\n",
    "\n",
    "prob"
   ]
  },
  {
   "cell_type": "code",
   "execution_count": null,
   "metadata": {},
   "outputs": [],
   "source": [
    "# P(0<X<x)\n",
    "# =DISTR.EXPON([x];[alfa];VERDADEIRO) # Excel"
   ]
  },
  {
   "cell_type": "code",
   "execution_count": 20,
   "metadata": {},
   "outputs": [
    {
     "data": {
      "text/plain": [
       "0.3934693402873666"
      ]
     },
     "execution_count": 20,
     "metadata": {},
     "output_type": "execute_result"
    }
   ],
   "source": [
    "# P(0<X<=x)\n",
    "# pexp(x,rate=alfa,lower.tail=TRUE,log.p=FALSE)  # R\n",
    "expon.cdf(x, scale=alfa)\n"
   ]
  },
  {
   "cell_type": "code",
   "execution_count": 21,
   "metadata": {},
   "outputs": [
    {
     "data": {
      "text/plain": [
       "0.6065306597126334"
      ]
     },
     "execution_count": 21,
     "metadata": {},
     "output_type": "execute_result"
    }
   ],
   "source": [
    "# P(X>x)\n",
    "# pexp(x,rate=alfa,lower.tail=FALSE,log.p=FALSE)  # R\n",
    "1 - expon.cdf(x, scale=alfa)"
   ]
  },
  {
   "cell_type": "code",
   "execution_count": 22,
   "metadata": {},
   "outputs": [
    {
     "data": {
      "text/plain": [
       "7.581633246407918e-05"
      ]
     },
     "execution_count": 22,
     "metadata": {},
     "output_type": "execute_result"
    }
   ],
   "source": [
    "# expon.sf(x, scale=alfa)\n",
    "expon.pdf(x, scale=alfa)\n"
   ]
  }
 ],
 "metadata": {
  "kernelspec": {
   "display_name": "Python 3",
   "language": "python",
   "name": "python3"
  },
  "language_info": {
   "codemirror_mode": {
    "name": "ipython",
    "version": 3
   },
   "file_extension": ".py",
   "mimetype": "text/x-python",
   "name": "python",
   "nbconvert_exporter": "python",
   "pygments_lexer": "ipython3",
   "version": "3.10.0"
  }
 },
 "nbformat": 4,
 "nbformat_minor": 2
}
