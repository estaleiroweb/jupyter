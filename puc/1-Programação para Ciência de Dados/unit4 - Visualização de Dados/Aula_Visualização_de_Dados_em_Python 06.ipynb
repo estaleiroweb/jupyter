{
  "cells": [
    {
      "cell_type": "markdown",
      "metadata": {},
      "source": [
        "### Tabelas interessantes\n",
        "\n",
        "* Tabela de [cores](https://matplotlib.org/stable/gallery/color/named_colors.html) - [Como especificar cores](https://matplotlib.org/stable/tutorials/colors/colors.html)\n",
        "* Tipos de [linhas](https://matplotlib.org/stable/gallery/lines_bars_and_markers/linestyles.html)\n",
        "* Tipos de [marcadores](https://matplotlib.org/stable/api/markers_api.html#module-matplotlib.markers)\n"
      ]
    },
    {
      "cell_type": "markdown",
      "metadata": {},
      "source": [
        "# Dicas de materiais para consulta\n",
        "* matplotlib [cheatsheet](https://github.com/matplotlib/cheatsheets/blob/master/cheatsheets.pdf)\n",
        "* [Artigo](https://www.aosabook.org/en/matplotlib.html) de John Hunter e Michael Droettboom\n",
        "* Documentação do [matplotlib](https://matplotlib.org/)\n",
        "   - Pyplot\n",
        "      - [Funções](https://matplotlib.org/stable/api/_as_gen/matplotlib.pyplot.html#module-matplotlib.pyplot)\n",
        "      - [Tutorial](https://matplotlib.org/stable/tutorials/introductory/pyplot.html)\n",
        "      - [Exemplos](https://matplotlib.org/stable/gallery/index.html#pyplots-examples)\n",
        "      \n",
        "\n",
        "* [Python plotting with matplotlib](https://realpython.com/python-matplotlib-guide/) (Real Python)\n",
        "* [From Data to Viz](https://www.data-to-viz.com/)\n",
        "* Livros\n",
        "   - [Fundamentals of Data Visualization](https://clauswilke.com/dataviz/) (Claus O. Wilke)\n",
        "   - [Mastering matplotlib](https://learning.oreilly.com/library/view/mastering-matplotlib/9781783987542/) (Duncan M. McGreggor)\n",
        "* Tabelas interessantes\n",
        "   - Tabela de [cores](https://matplotlib.org/stable/gallery/color/named_colors.html) - [Como especificar cores](https://matplotlib.org/stable/tutorials/colors/colors.html)\n",
        "   - Tipos de [linhas](https://matplotlib.org/stable/gallery/lines_bars_and_markers/linestyles.html)\n",
        "   - Tipos de [marcadores](https://matplotlib.org/stable/api/markers_api.html#module-matplotlib.markers)\n"
      ]
    }
  ],
  "metadata": {
    "colab": {
      "provenance": []
    },
    "kernelspec": {
      "display_name": "Python 3",
      "name": "python3"
    },
    "language_info": {
      "codemirror_mode": {
        "name": "ipython",
        "version": 3
      },
      "file_extension": ".py",
      "mimetype": "text/x-python",
      "name": "python",
      "nbconvert_exporter": "python",
      "pygments_lexer": "ipython3",
      "version": "3.9.7"
    }
  },
  "nbformat": 4,
  "nbformat_minor": 0
}
