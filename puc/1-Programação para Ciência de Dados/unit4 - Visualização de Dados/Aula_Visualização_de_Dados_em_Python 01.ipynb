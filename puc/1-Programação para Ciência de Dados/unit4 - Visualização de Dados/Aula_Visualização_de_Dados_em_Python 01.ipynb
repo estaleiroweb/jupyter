{
  "cells": [
    {
      "cell_type": "markdown",
      "metadata": {
        "id": "SEawXVqqipiM"
      },
      "source": [
        "# Introdução à Visualização de Dados com Python\n",
        "\n",
        "Qual a importância da Visualização de Dados?\n",
        "\n",
        "<center><img src=\"https://i.ibb.co/MMVrRBr/Confucio.png\"></center>\n",
        "\n",
        "* Uma imagem vale mais que mil palavras (Confúcio)\n",
        "* Comunicação sem se basear apenas em dados, tabelas ou narrativas\n",
        "\n",
        "## O Quarteto de [Anscombe](https://https://pt.wikipedia.org/wiki/Quarteto_de_Anscombe)\n",
        "\n",
        "|    | x1 |    y1 | x2 |   y2 | x3 |    y3 | x4 |    y4 |\n",
        "| -: | -: | ----: | -: | ---: | -: | ----: | -: | ----: |\n",
        "|  1 | 10 |  8.04 | 10 | 9.14 | 10 |  7.46 |  8 |  6.58 |\n",
        "|  2 |  8 |  6.95 |  8 | 8.14 |  8 |  6.77 |  8 |  5.76 |\n",
        "|  3 | 13 |  7.58 | 13 | 8.74 | 13 | 12.74 |  8 |  7.71 |\n",
        "|  4 |  9 |  8.81 |  9 | 8.77 |  9 |  7.11 |  8 |  8.84 |\n",
        "|  5 | 11 |  8.33 | 11 | 9.26 | 11 |  7.81 |  8 |  8.47 |\n",
        "|  6 | 14 |  9.96 | 14 | 8.10 | 14 |  8.84 |  8 |  7.04 |\n",
        "|  7 |  6 |  7.24 |  6 | 6.13 |  6 |  6.08 |  8 |  5.25 |\n",
        "|  8 |  4 |  4.26 |  4 | 3.10 |  4 |  5.39 | 19 | 12.50 |\n",
        "|  9 | 12 | 10.84 | 12 | 9.13 | 12 |  8.15 |  8 |  5.56 |\n",
        "| 10 |  7 |  4.82 |  7 | 7.26 |  7 |  6.42 |  8 |  7.91 |\n",
        "| 11 |  5 |  5.68 |  5 | 4.74 |  5 |  5.73 |  8 |  6.89 |\n",
        "\n",
        "<figure>\n",
        "<center>\n",
        "  <img src=\"https://i.ibb.co/rfcSYwd/Quarteto-Anscombe-tabela.png\" alt=\"Quarteto-Anscombe-tabela\">\n",
        "  <figcaption>Grupos I, II, III e IV - Fonte: Wikipedia</figcaption>\n",
        "  <br />\n",
        "  <img src=\"https://i.ibb.co/GtTn4zr/Quarteto-Anscombe-propriedades.png\" alt=\"Quarteto-Anscombe-propriedades\" width=\"450\">\n",
        "  <figcaption>Propriedades - Fonte: Wikipedia</figcaption>\n",
        "  <br />\n",
        "  <img src=\"https://i.ibb.co/QdKhwk7/Quarteto-Anscombe-graficos.png\" alt=\"Quarteto-Anscombe-graficos\">\n",
        "  <figcaption>Gráficos - Fonte: Wikipedia</figcaption>\n",
        "</center>  \n",
        "</figure>"
      ]
    }
  ],
  "metadata": {
    "colab": {
      "provenance": []
    },
    "kernelspec": {
      "display_name": "Python 3",
      "name": "python3"
    },
    "language_info": {
      "codemirror_mode": {
        "name": "ipython",
        "version": 3
      },
      "file_extension": ".py",
      "mimetype": "text/x-python",
      "name": "python",
      "nbconvert_exporter": "python",
      "pygments_lexer": "ipython3",
      "version": "3.9.7"
    }
  },
  "nbformat": 4,
  "nbformat_minor": 0
}
