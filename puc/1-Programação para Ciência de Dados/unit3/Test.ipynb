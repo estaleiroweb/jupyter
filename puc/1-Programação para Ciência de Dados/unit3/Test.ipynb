{
 "cells": [
  {
   "cell_type": "code",
   "execution_count": 17,
   "metadata": {},
   "outputs": [],
   "source": [
    "import pandas as pd\n",
    "import numpy as np\n",
    "import pickle\n"
   ]
  },
  {
   "cell_type": "code",
   "execution_count": 29,
   "metadata": {},
   "outputs": [
    {
     "data": {
      "text/plain": [
       "Minas Gerais      MG\n",
       "Amazonas          AM\n",
       "Maranhão          MA\n",
       "Goiás             GO\n",
       "Santa Catarina    SC\n",
       "dtype: object"
      ]
     },
     "execution_count": 29,
     "metadata": {},
     "output_type": "execute_result"
    }
   ],
   "source": [
    "nomes = (\"Minas Gerais\", \"Amazonas\", \"Maranhão\", \"Goiás\", \"Santa Catarina\")\n",
    "siglas = (\"MG\", \"AM\", \"MA\", \"GO\", \"SC\")\n",
    "estados = pd.Series(siglas, nomes)\n",
    "estados"
   ]
  },
  {
   "cell_type": "code",
   "execution_count": 4,
   "metadata": {},
   "outputs": [
    {
     "data": {
      "text/plain": [
       "array([78, 30, 67, 64, 69, 44, 24, 29, 79, 28, 81, 43, 66, 97, 66, 37, 25,\n",
       "       39, 44, 96, 73, 23, 58, 55, 17, 24, 89, 73, 37, 47, 65, 76, 72, 39,\n",
       "       20, 75, 19, 33, 96, 35, 90, 56, 49, 38, 65, 93, 37, 46, 65, 93, 59,\n",
       "       92, 63, 39, 74, 40, 58, 45, 97, 19, 27, 14, 68, 29, 16, 21, 28, 60,\n",
       "       85, 49, 15, 32, 78, 81, 29, 69, 57, 69, 61, 73, 97, 36, 62, 22, 63,\n",
       "       79, 22, 61, 74, 74, 76, 31, 58, 89, 17, 16, 15, 30, 25, 49])"
      ]
     },
     "execution_count": 4,
     "metadata": {},
     "output_type": "execute_result"
    }
   ],
   "source": [
    "np.random.randint(14,98,100)"
   ]
  },
  {
   "cell_type": "code",
   "execution_count": 9,
   "metadata": {},
   "outputs": [
    {
     "data": {
      "text/plain": [
       "X-tudo           25.00\n",
       "X-Bacon          22.00\n",
       "Bauru            18.50\n",
       "Misto-quente      4.75\n",
       "Pão-de-queijo     3.00\n",
       "Coxinha           4.50\n",
       "Pastel            2.30\n",
       "Name: Cardápio, dtype: float64"
      ]
     },
     "execution_count": 9,
     "metadata": {},
     "output_type": "execute_result"
    }
   ],
   "source": [
    "precos = np.array([25, 22, 18.5, 4.75, 3, 4.5, 2.3])\n",
    "lanches = np.array(['X-tudo', 'X-Bacon', 'Bauru', 'Misto-quente', 'Pão-de-queijo', 'Coxinha', 'Pastel'])\n",
    "cardapio = pd.Series(precos, lanches)\n",
    "cardapio.name='Cardápio'\n",
    "cardapio\n"
   ]
  },
  {
   "cell_type": "code",
   "execution_count": null,
   "metadata": {},
   "outputs": [],
   "source": [
    "cardapio.str.lower()\n"
   ]
  },
  {
   "cell_type": "code",
   "execution_count": 22,
   "metadata": {},
   "outputs": [
    {
     "data": {
      "text/plain": [
       "MG    {'Estado': 'Minas Gerais', 'Capital': 'Belo Ho...\n",
       "CE    {'Estado': 'Ceará', 'Capital': 'Fortaleza', 'P...\n",
       "MT    {'Estado': 'Mato Grosso', 'Capital': 'Cuiabá',...\n",
       "RR    {'Estado': 'Roraima', 'Capital': 'Boa Vista', ...\n",
       "Name: xpto, dtype: object"
      ]
     },
     "execution_count": 22,
     "metadata": {},
     "output_type": "execute_result"
    }
   ],
   "source": [
    "dic_ufs = {\"MG\": {\"Estado\":\"Minas Gerais\", \"Capital\":\"Belo Horizonte\", \"População (2014)\":20777672}, \n",
    "               \"CE\": {\"Estado\":\"Ceará\", \"Capital\":\"Fortaleza\", \"População (2014)\":8867448},\n",
    "               \"MT\": {\"Estado\":\"Mato Grosso\", \"Capital\":\"Cuiabá\", \"População (2014)\":3236578},\n",
    "               \"RR\": {\"Estado\":\"Roraima\", \"Capital\":\"Boa Vista\", \"População (2014)\":500826},}\n",
    "ufs = pd.Series(dic_ufs)\n",
    "ufs.name='xpto'\n",
    "ufs"
   ]
  },
  {
   "cell_type": "code",
   "execution_count": 16,
   "metadata": {},
   "outputs": [
    {
     "data": {
      "text/plain": [
       "{'type': pandas.core.series.Series,\n",
       " 'name': 'Cardápio',\n",
       " 'dtype': dtype('float64'),\n",
       " 'index': Index(['X-tudo', 'X-Bacon', 'Bauru', 'Misto-quente', 'Pão-de-queijo',\n",
       "        'Coxinha', 'Pastel'],\n",
       "       dtype='object'),\n",
       " 'values': array([25.  , 22.  , 18.5 ,  4.75,  3.  ,  4.5 ,  2.3 ]),\n",
       " 'nbytes': 56,\n",
       " 'ndim': 1,\n",
       " 'shape': (7,),\n",
       " 'size': 7,\n",
       " 'key-by-direct': 25.0,\n",
       " 'key-by-at': 25.0,\n",
       " 'key-by-search': Misto-quente     4.75\n",
       " Pão-de-queijo    3.00\n",
       " Coxinha          4.50\n",
       " Pastel           2.30\n",
       " Name: Cardápio, dtype: float64,\n",
       " 'key-by-iat': 25.0,\n",
       " 'key-by-get': 25.0,\n",
       " 'key-by-loc': Bauru     18.5\n",
       " Pastel     2.3\n",
       " Name: Cardápio, dtype: float64,\n",
       " 'key-by-direct-loc': Bauru     18.5\n",
       " Pastel     2.3\n",
       " Name: Cardápio, dtype: float64,\n",
       " 'key-by-iloc': X-tudo          25.00\n",
       " Bauru           18.50\n",
       " Misto-quente     4.75\n",
       " Name: Cardápio, dtype: float64,\n",
       " 'keys': Index(['X-tudo', 'X-Bacon', 'Bauru', 'Misto-quente', 'Pão-de-queijo',\n",
       "        'Coxinha', 'Pastel'],\n",
       "       dtype='object')}"
      ]
     },
     "metadata": {},
     "output_type": "display_data"
    }
   ],
   "source": [
    "display({\n",
    "    'type':type(cardapio),\n",
    "    'name':cardapio.name,\n",
    "    'dtype':cardapio.dtype,\n",
    "    'index':cardapio.index,\n",
    "    'values':cardapio.values,\n",
    "    'nbytes':cardapio.nbytes,\n",
    "    'ndim':cardapio.ndim,\n",
    "    'shape':cardapio.shape,\n",
    "    'size':cardapio.size,\n",
    "    'key-by-direct':cardapio[\"X-tudo\"],\n",
    "    'key-by-at':cardapio.at[\"X-tudo\"],\n",
    "    'key-by-search':cardapio[cardapio < 10],\n",
    "    'key-by-iat':cardapio.iat[0],\n",
    "    'key-by-get':cardapio.get(0),\n",
    "    'key-by-loc':cardapio.loc[[\"Bauru\", \"Pastel\"]],\n",
    "    'key-by-direct-loc':cardapio[[\"Bauru\", \"Pastel\"]],\n",
    "    'key-by-iloc':cardapio.iloc[[0,2,3]],\n",
    "    'keys':cardapio.keys(),\n",
    "    })"
   ]
  },
  {
   "cell_type": "code",
   "execution_count": 26,
   "metadata": {},
   "outputs": [
    {
     "data": {
      "text/plain": [
       "X-tudo           25.00\n",
       "X-Bacon          22.00\n",
       "Bauru            18.50\n",
       "Misto-quente      4.75\n",
       "Pão-de-queijo     3.00\n",
       "Coxinha           4.50\n",
       "Pastel            2.30\n",
       "Name: Cardápio, dtype: float64"
      ]
     },
     "metadata": {},
     "output_type": "display_data"
    },
    {
     "name": "stdout",
     "output_type": "stream",
     "text": [
      "--------------------------------------------------\n"
     ]
    },
    {
     "data": {
      "text/plain": [
       "MG    {'Estado': 'Minas Gerais', 'Capital': 'Belo Ho...\n",
       "CE    {'Estado': 'Ceará', 'Capital': 'Fortaleza', 'P...\n",
       "MT    {'Estado': 'Mato Grosso', 'Capital': 'CGB', 'P...\n",
       "RR    {'Estado': 'Roraima', 'Capital': 'Boa Vista', ...\n",
       "Name: xpto, dtype: object"
      ]
     },
     "metadata": {},
     "output_type": "display_data"
    },
    {
     "name": "stdout",
     "output_type": "stream",
     "text": [
      "--------------------------------------------------\n"
     ]
    },
    {
     "data": {
      "text/plain": [
       "MG    {'Estado': 'Minas Gerais', 'Capital': 'Belo Ho...\n",
       "CE    {'Estado': 'Ceará', 'Capital': 'Fortaleza', 'P...\n",
       "MT    {'Estado': 'Mato Grosso', 'Capital': 'Cuiabá',...\n",
       "RR    {'Estado': 'Roraima', 'Capital': 'Boa Vista', ...\n",
       "Name: xpto, dtype: object"
      ]
     },
     "metadata": {},
     "output_type": "display_data"
    }
   ],
   "source": [
    "copia=cardapio.copy()\n",
    "copia['X-tudo']=1\n",
    "display(cardapio)\n",
    "print('-'*50)\n",
    "\n",
    "copia=ufs.copy()\n",
    "copia[\"MT\"][\"Capital\"] = \"CGB\"\n",
    "display(ufs)\n",
    "print('-'*50)\n",
    "ufs[\"MT\"][\"Capital\"] = \"Cuiabá\"\n",
    "\n",
    "copia = pickle.loads(pickle.dumps(ufs))\n",
    "copia[\"MT\"][\"Capital\"] = \"CGB\"\n",
    "display(ufs)\n",
    "\n"
   ]
  },
  {
   "cell_type": "code",
   "execution_count": 19,
   "metadata": {},
   "outputs": [
    {
     "data": {
      "text/plain": [
       "X-tudo           25.00\n",
       "X-Bacon          22.00\n",
       "Bauru            18.50\n",
       "Misto-quente      4.75\n",
       "Pão-de-queijo     3.00\n",
       "Coxinha           4.50\n",
       "Pastel            2.30\n",
       "Name: Cardápio, dtype: float64"
      ]
     },
     "execution_count": 19,
     "metadata": {},
     "output_type": "execute_result"
    }
   ],
   "source": [
    "copia"
   ]
  }
 ],
 "metadata": {
  "kernelspec": {
   "display_name": "base",
   "language": "python",
   "name": "python3"
  },
  "language_info": {
   "codemirror_mode": {
    "name": "ipython",
    "version": 3
   },
   "file_extension": ".py",
   "mimetype": "text/x-python",
   "name": "python",
   "nbconvert_exporter": "python",
   "pygments_lexer": "ipython3",
   "version": "3.9.7"
  }
 },
 "nbformat": 4,
 "nbformat_minor": 2
}
