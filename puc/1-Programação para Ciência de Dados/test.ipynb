{
 "cells": [
  {
   "cell_type": "code",
   "execution_count": 5,
   "metadata": {},
   "outputs": [
    {
     "data": {
      "text/plain": [
       "{'MG': {'Capital': 'Belo Horizonte',\n",
       "  'Cidades': {1: 'Contagem', 2: 'Juiz de Fora', 3: 'Sete Lagoas'}},\n",
       " 'SP': {'Capital': 'São Paulo',\n",
       "  'Cidades': {1: 'Campinas', 2: 'Piracicaba', 3: 'Franca'}},\n",
       " 'RS': {'Capital': 'Porto Alegre',\n",
       "  'Cidades': {1: 'Pelotas', 2: 'Gramado', 3: 'Canela'}}}"
      ]
     },
     "metadata": {},
     "output_type": "display_data"
    }
   ],
   "source": [
    "dic = { \"MG\": {\"Capital\": \"Belo Horizonte\", \n",
    "               \"Cidades\": {1:\"Contagem\", \n",
    "                           2:\"Luiz de Fora\", \n",
    "                           3:\"Sete Lagoas\"}\n",
    "              },\n",
    "        \"SP\": {\"Capital\": \"São Paulo\", \n",
    "               \"Cidades\": {1:\"Campinas\", \n",
    "                           2:\"Piracicaba\",\n",
    "                           3:\"Franca\"}\n",
    "              },\n",
    "        \"RS\": {\"Capital\": \"Porto Alegre\", \n",
    "               \"Cidades\": {1:\"Pelotas\", \n",
    "                           2:\"Gramado\", \n",
    "                           3:\"Canela\"}\n",
    "              } \n",
    "      }\n",
    "dic[\"MG\"][\"Cidades\"][2] = \"Juiz de Fora\"\n",
    "display(dic)"
   ]
  },
  {
   "cell_type": "code",
   "execution_count": 6,
   "metadata": {},
   "outputs": [
    {
     "name": "stdout",
     "output_type": "stream",
     "text": [
      "[9, 2, 5, 7, [12, 15, 18]]\n"
     ]
    }
   ],
   "source": [
    "A = [9, 2, 5, 7]\n",
    "B = [x for x in range(12,21,3)]\n",
    "A.append(B)\n",
    "print(A)"
   ]
  },
  {
   "cell_type": "code",
   "execution_count": 13,
   "metadata": {},
   "outputs": [
    {
     "data": {
      "text/plain": [
       "13"
      ]
     },
     "execution_count": 13,
     "metadata": {},
     "output_type": "execute_result"
    }
   ],
   "source": [
    "estrutura_aninhada = ( [1,2,3],(4,5,6,7),[8,9],( [10,11,12], [(13, 14), 15] ) )\n",
    "\n",
    "estrutura_aninhada[3][1][0][0]"
   ]
  },
  {
   "cell_type": "code",
   "execution_count": 14,
   "metadata": {},
   "outputs": [
    {
     "name": "stdout",
     "output_type": "stream",
     "text": [
      "9\n"
     ]
    }
   ],
   "source": [
    "from functools import reduce\n",
    "teste = [1, 9, 8, 2, 3, 7, 6, 4, 5]\n",
    "print(reduce(lambda n1, n2: n1 if n1 > n2 else n2, teste))"
   ]
  },
  {
   "cell_type": "code",
   "execution_count": 15,
   "metadata": {},
   "outputs": [
    {
     "name": "stdout",
     "output_type": "stream",
     "text": [
      "1\n",
      "10\n"
     ]
    }
   ],
   "source": [
    "def func():\n",
    "    x = 1\n",
    "    print(x)\n",
    "\n",
    "x = 10\n",
    "func()\n",
    "print(x)"
   ]
  },
  {
   "cell_type": "code",
   "execution_count": 16,
   "metadata": {},
   "outputs": [
    {
     "name": "stdout",
     "output_type": "stream",
     "text": [
      "12\n"
     ]
    }
   ],
   "source": [
    "x = range(7)\n",
    "soma = sum(filter(lambda x_i: x_i % 2 == 0, x))\n",
    "print(soma)"
   ]
  },
  {
   "cell_type": "code",
   "execution_count": 39,
   "metadata": {},
   "outputs": [
    {
     "data": {
      "text/plain": [
       "array([ 6,  7,  8,  9, 10])"
      ]
     },
     "metadata": {},
     "output_type": "display_data"
    },
    {
     "data": {
      "text/plain": [
       "array([ 6,  7,  8,  9, 10])"
      ]
     },
     "metadata": {},
     "output_type": "display_data"
    },
    {
     "data": {
      "text/plain": [
       "array([ 6,  7,  8,  9, 10])"
      ]
     },
     "metadata": {},
     "output_type": "display_data"
    },
    {
     "data": {
      "text/plain": [
       "array([ 6,  7,  8,  9, 10])"
      ]
     },
     "metadata": {},
     "output_type": "display_data"
    },
    {
     "data": {
      "text/plain": [
       "array([ 6,  7,  8,  9, 10])"
      ]
     },
     "metadata": {},
     "output_type": "display_data"
    }
   ],
   "source": [
    "import numpy as np\n",
    "A = np.arange(1, 16).reshape(3,5)\n",
    "# display(A)\n",
    "display(A[1,:])\n",
    "display(A[1])\n",
    "display(A[:][1])\n",
    "display(A[1,0:])\n",
    "display(A[1:2,:][0])"
   ]
  }
 ],
 "metadata": {
  "kernelspec": {
   "display_name": "base",
   "language": "python",
   "name": "python3"
  },
  "language_info": {
   "codemirror_mode": {
    "name": "ipython",
    "version": 3
   },
   "file_extension": ".py",
   "mimetype": "text/x-python",
   "name": "python",
   "nbconvert_exporter": "python",
   "pygments_lexer": "ipython3",
   "version": "3.9.7"
  }
 },
 "nbformat": 4,
 "nbformat_minor": 2
}
