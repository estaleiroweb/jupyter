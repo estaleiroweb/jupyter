{
 "cells": [
  {
   "cell_type": "markdown",
   "metadata": {},
   "source": [
    "# Indexação e fatiamento (slicing)"
   ]
  },
  {
   "cell_type": "code",
   "execution_count": 5,
   "metadata": {
    "collapsed": true
   },
   "outputs": [],
   "source": [
    "# Importando o NumPy\n",
    "import numpy as np"
   ]
  },
  {
   "cell_type": "code",
   "execution_count": 164,
   "metadata": {},
   "outputs": [
    {
     "data": {
      "text/plain": [
       "array([9, 8, 1, 7, 2, 4, 1, 7, 7, 6])"
      ]
     },
     "execution_count": 164,
     "metadata": {},
     "output_type": "execute_result"
    }
   ],
   "source": [
    "# Cria um ndarray com 10 elementos entre 0 e 9\n",
    "a1D = np.random.randint(0, 10, 10)\n",
    "a1D"
   ]
  },
  {
   "cell_type": "code",
   "execution_count": 165,
   "metadata": {},
   "outputs": [
    {
     "data": {
      "text/plain": [
       "array([[33,  3, 38, 24, 54],\n",
       "       [52,  3, 28, 44, 69],\n",
       "       [81, 54, 90, 77,  7],\n",
       "       [75, 61, 14,  3, 75]])"
      ]
     },
     "execution_count": 165,
     "metadata": {},
     "output_type": "execute_result"
    }
   ],
   "source": [
    "a2D = np.random.randint(1, 101, (4,5)) # Cria um ndarray de 4 linhas x 5 colunas com elementos entre 1 e 100\n",
    "a2D"
   ]
  },
  {
   "cell_type": "code",
   "execution_count": 166,
   "metadata": {},
   "outputs": [
    {
     "data": {
      "text/plain": [
       "array([[[0.78182908, 0.00526454, 0.55334328, 0.30343627, 0.24116351],\n",
       "        [0.48522443, 0.72478981, 0.49533075, 0.39646813, 0.66120136],\n",
       "        [0.87634293, 0.827534  , 0.59725808, 0.68958905, 0.81873582],\n",
       "        [0.92441861, 0.93775054, 0.34351565, 0.04690492, 0.66856275]],\n",
       "\n",
       "       [[0.76256688, 0.67175544, 0.92580279, 0.88290847, 0.22647062],\n",
       "        [0.50293848, 0.88843636, 0.15565039, 0.82424436, 0.93077215],\n",
       "        [0.61084272, 0.38595687, 0.42572998, 0.22653038, 0.73062669],\n",
       "        [0.2707424 , 0.04596892, 0.58214523, 0.9265451 , 0.54401682]],\n",
       "\n",
       "       [[0.22941064, 0.46697791, 0.70405032, 0.21585575, 0.62333657],\n",
       "        [0.83265928, 0.25485005, 0.00846545, 0.74258178, 0.44064677],\n",
       "        [0.92633292, 0.66650543, 0.51859941, 0.16635793, 0.00954166],\n",
       "        [0.16692921, 0.68542973, 0.08175751, 0.38645968, 0.44341854]]])"
      ]
     },
     "execution_count": 166,
     "metadata": {},
     "output_type": "execute_result"
    }
   ],
   "source": [
    "a3D = np.random.random((3,4,5)) # Cria um ndarray de 3 páginas x 4 linhas x 5 colunas com elementos entre 0 e 1\n",
    "a3D"
   ]
  },
  {
   "cell_type": "code",
   "execution_count": 14,
   "metadata": {},
   "outputs": [
    {
     "data": {
      "text/plain": [
       "-0.06316986241555143"
      ]
     },
     "execution_count": 14,
     "metadata": {},
     "output_type": "execute_result"
    }
   ],
   "source": [
    "np.random.randn()"
   ]
  },
  {
   "cell_type": "markdown",
   "metadata": {},
   "source": [
    "### Acessando elementos específicos"
   ]
  },
  {
   "cell_type": "code",
   "execution_count": 167,
   "metadata": {},
   "outputs": [
    {
     "data": {
      "text/plain": [
       "array([9, 8, 1, 7, 2, 4, 1, 7, 7, 6])"
      ]
     },
     "execution_count": 167,
     "metadata": {},
     "output_type": "execute_result"
    }
   ],
   "source": [
    "# Acessando elementos de um ndarray de 1 dimensão\n",
    "a1D"
   ]
  },
  {
   "cell_type": "code",
   "execution_count": 168,
   "metadata": {},
   "outputs": [
    {
     "data": {
      "text/plain": [
       "9"
      ]
     },
     "execution_count": 168,
     "metadata": {},
     "output_type": "execute_result"
    }
   ],
   "source": [
    "# nome_do_array[índice]\n",
    "a1D[0]"
   ]
  },
  {
   "cell_type": "code",
   "execution_count": 169,
   "metadata": {},
   "outputs": [
    {
     "data": {
      "text/plain": [
       "1"
      ]
     },
     "execution_count": 169,
     "metadata": {},
     "output_type": "execute_result"
    }
   ],
   "source": [
    "a1D[2]"
   ]
  },
  {
   "cell_type": "code",
   "execution_count": 170,
   "metadata": {},
   "outputs": [
    {
     "data": {
      "text/plain": [
       "6"
      ]
     },
     "execution_count": 170,
     "metadata": {},
     "output_type": "execute_result"
    }
   ],
   "source": [
    "a1D[-1]"
   ]
  },
  {
   "cell_type": "code",
   "execution_count": 171,
   "metadata": {},
   "outputs": [
    {
     "data": {
      "text/plain": [
       "array([7, 9, 6])"
      ]
     },
     "execution_count": 171,
     "metadata": {},
     "output_type": "execute_result"
    }
   ],
   "source": [
    "indices = [3, 0, -1] # Definindo uma lista com os índices que se deseja acessar\n",
    "a1D[indices]"
   ]
  },
  {
   "cell_type": "code",
   "execution_count": 172,
   "metadata": {},
   "outputs": [
    {
     "data": {
      "text/plain": [
       "array([[33,  3, 38, 24, 54],\n",
       "       [52,  3, 28, 44, 69],\n",
       "       [81, 54, 90, 77,  7],\n",
       "       [75, 61, 14,  3, 75]])"
      ]
     },
     "execution_count": 172,
     "metadata": {},
     "output_type": "execute_result"
    }
   ],
   "source": [
    "# Acessando elementos de um ndarray de 2 dimensões\n",
    "a2D"
   ]
  },
  {
   "cell_type": "code",
   "execution_count": 173,
   "metadata": {},
   "outputs": [
    {
     "data": {
      "text/plain": [
       "28"
      ]
     },
     "execution_count": 173,
     "metadata": {},
     "output_type": "execute_result"
    }
   ],
   "source": [
    "# nome_da_matriz[linha][coluna]\n",
    "a2D[1][2]"
   ]
  },
  {
   "cell_type": "code",
   "execution_count": 174,
   "metadata": {},
   "outputs": [
    {
     "data": {
      "text/plain": [
       "75"
      ]
     },
     "execution_count": 174,
     "metadata": {},
     "output_type": "execute_result"
    }
   ],
   "source": [
    "a2D[3][4]"
   ]
  },
  {
   "cell_type": "code",
   "execution_count": 175,
   "metadata": {},
   "outputs": [
    {
     "data": {
      "text/plain": [
       "array([33,  3, 90,  3])"
      ]
     },
     "execution_count": 175,
     "metadata": {},
     "output_type": "execute_result"
    }
   ],
   "source": [
    "indice_lin = [0, 1, 2, 3]\n",
    "indice_col = [0, 1, 2, 3]\n",
    "\n",
    "a2D[indice_lin, indice_col]"
   ]
  },
  {
   "cell_type": "code",
   "execution_count": 176,
   "metadata": {},
   "outputs": [
    {
     "data": {
      "text/plain": [
       "array([24, 28, 54, 75])"
      ]
     },
     "execution_count": 176,
     "metadata": {},
     "output_type": "execute_result"
    }
   ],
   "source": [
    "indice_lin = [0, 1, 2, 3]\n",
    "indice_col = [3, 2, 1, 0]\n",
    "\n",
    "a2D[indice_lin, indice_col]"
   ]
  },
  {
   "cell_type": "code",
   "execution_count": 177,
   "metadata": {},
   "outputs": [
    {
     "name": "stdout",
     "output_type": "stream",
     "text": [
      "[[33  3 38 24 54]\n",
      " [52  3 28 44 69]\n",
      " [81 54 90 77  7]\n",
      " [75 61 14  3 75]]\n"
     ]
    },
    {
     "data": {
      "text/plain": [
       "array([33, 52, 81, 75])"
      ]
     },
     "execution_count": 177,
     "metadata": {},
     "output_type": "execute_result"
    }
   ],
   "source": [
    "print(a2D)\n",
    "a2D[:, 0]\n"
   ]
  },
  {
   "cell_type": "code",
   "execution_count": 178,
   "metadata": {},
   "outputs": [
    {
     "data": {
      "text/plain": [
       "array([ 3, 90,  3, 33])"
      ]
     },
     "execution_count": 178,
     "metadata": {},
     "output_type": "execute_result"
    }
   ],
   "source": [
    "indice_lin = [3, 2, 1, 0]\n",
    "indice_col = [3, 2, 1, 0]\n",
    "\n",
    "a2D[indice_lin, indice_col]"
   ]
  },
  {
   "cell_type": "code",
   "execution_count": 179,
   "metadata": {},
   "outputs": [
    {
     "data": {
      "text/plain": [
       "array([[33,  3, 38, 33],\n",
       "       [52,  3, 28, 52],\n",
       "       [81, 54, 90, 81],\n",
       "       [75, 61, 14, 75]])"
      ]
     },
     "execution_count": 179,
     "metadata": {},
     "output_type": "execute_result"
    }
   ],
   "source": [
    "a2D[:,[0,1,2,0]] "
   ]
  },
  {
   "cell_type": "code",
   "execution_count": 180,
   "metadata": {},
   "outputs": [
    {
     "data": {
      "text/plain": [
       "array([[52,  3, 28, 52],\n",
       "       [33,  3, 38, 33],\n",
       "       [52,  3, 28, 52],\n",
       "       [33,  3, 38, 33]])"
      ]
     },
     "execution_count": 180,
     "metadata": {},
     "output_type": "execute_result"
    }
   ],
   "source": [
    "a2D[:,[0,1,2,0]][[1, 0, 1, 0]]"
   ]
  },
  {
   "cell_type": "code",
   "execution_count": 181,
   "metadata": {},
   "outputs": [
    {
     "data": {
      "text/plain": [
       "array([[33,  3, 38, 24, 54],\n",
       "       [52,  3, 28, 44, 69],\n",
       "       [81, 54, 90, 77,  7],\n",
       "       [75, 61, 14,  3, 75]])"
      ]
     },
     "execution_count": 181,
     "metadata": {},
     "output_type": "execute_result"
    }
   ],
   "source": [
    "a2D"
   ]
  },
  {
   "cell_type": "code",
   "execution_count": 182,
   "metadata": {},
   "outputs": [
    {
     "data": {
      "text/plain": [
       "array([[52,  3, 28, 52],\n",
       "       [33,  3, 38, 33],\n",
       "       [52,  3, 28, 52],\n",
       "       [33,  3, 38, 33]])"
      ]
     },
     "execution_count": 182,
     "metadata": {},
     "output_type": "execute_result"
    }
   ],
   "source": [
    "a2D[[1, 0, 1, 0]][:,[0,1,2,0]] "
   ]
  },
  {
   "cell_type": "code",
   "execution_count": 183,
   "metadata": {},
   "outputs": [
    {
     "data": {
      "text/plain": [
       "array([[[0.78182908, 0.00526454, 0.55334328, 0.30343627, 0.24116351],\n",
       "        [0.48522443, 0.72478981, 0.49533075, 0.39646813, 0.66120136],\n",
       "        [0.87634293, 0.827534  , 0.59725808, 0.68958905, 0.81873582],\n",
       "        [0.92441861, 0.93775054, 0.34351565, 0.04690492, 0.66856275]],\n",
       "\n",
       "       [[0.76256688, 0.67175544, 0.92580279, 0.88290847, 0.22647062],\n",
       "        [0.50293848, 0.88843636, 0.15565039, 0.82424436, 0.93077215],\n",
       "        [0.61084272, 0.38595687, 0.42572998, 0.22653038, 0.73062669],\n",
       "        [0.2707424 , 0.04596892, 0.58214523, 0.9265451 , 0.54401682]],\n",
       "\n",
       "       [[0.22941064, 0.46697791, 0.70405032, 0.21585575, 0.62333657],\n",
       "        [0.83265928, 0.25485005, 0.00846545, 0.74258178, 0.44064677],\n",
       "        [0.92633292, 0.66650543, 0.51859941, 0.16635793, 0.00954166],\n",
       "        [0.16692921, 0.68542973, 0.08175751, 0.38645968, 0.44341854]]])"
      ]
     },
     "execution_count": 183,
     "metadata": {},
     "output_type": "execute_result"
    }
   ],
   "source": [
    "# Acessando elementos de um ndarray de 3 dimensões\n",
    "a3D"
   ]
  },
  {
   "cell_type": "code",
   "execution_count": 184,
   "metadata": {},
   "outputs": [
    {
     "data": {
      "text/plain": [
       "0.21585574697818832"
      ]
     },
     "execution_count": 184,
     "metadata": {},
     "output_type": "execute_result"
    }
   ],
   "source": [
    "# nome_do_cubo[página][linha][coluna]\n",
    "a3D[2][0][3]"
   ]
  },
  {
   "cell_type": "code",
   "execution_count": 185,
   "metadata": {},
   "outputs": [
    {
     "data": {
      "text/plain": [
       "0.9377505416765125"
      ]
     },
     "execution_count": 185,
     "metadata": {},
     "output_type": "execute_result"
    }
   ],
   "source": [
    "a3D[0][3][1]"
   ]
  },
  {
   "cell_type": "markdown",
   "metadata": {},
   "source": [
    "### Fatiamento (slicing)"
   ]
  },
  {
   "cell_type": "code",
   "execution_count": 186,
   "metadata": {},
   "outputs": [
    {
     "data": {
      "text/plain": [
       "array([9, 8, 1, 7, 2, 4, 1, 7, 7, 6])"
      ]
     },
     "execution_count": 186,
     "metadata": {},
     "output_type": "execute_result"
    }
   ],
   "source": [
    "# Array de 1 dimensão\n",
    "a1D"
   ]
  },
  {
   "cell_type": "code",
   "execution_count": 187,
   "metadata": {},
   "outputs": [
    {
     "data": {
      "text/plain": [
       "array([8, 1, 7, 2])"
      ]
     },
     "execution_count": 187,
     "metadata": {},
     "output_type": "execute_result"
    }
   ],
   "source": [
    "a = a1D[1:5] # Índice 1 ao 4\n",
    "a"
   ]
  },
  {
   "cell_type": "code",
   "execution_count": 188,
   "metadata": {},
   "outputs": [
    {
     "data": {
      "text/plain": [
       "array([9, 8, 1, 7, 2, 4])"
      ]
     },
     "execution_count": 188,
     "metadata": {},
     "output_type": "execute_result"
    }
   ],
   "source": [
    "b = a1D[0:6] # Índice 0 ao 5\n",
    "b"
   ]
  },
  {
   "cell_type": "code",
   "execution_count": 189,
   "metadata": {},
   "outputs": [
    {
     "data": {
      "text/plain": [
       "array([9, 8, 1, 7, 2, 4])"
      ]
     },
     "execution_count": 189,
     "metadata": {},
     "output_type": "execute_result"
    }
   ],
   "source": [
    "c = a1D[:6] # Do início ao 5\n",
    "c"
   ]
  },
  {
   "cell_type": "code",
   "execution_count": 190,
   "metadata": {},
   "outputs": [
    {
     "data": {
      "text/plain": [
       "array([9, 1, 2, 1, 7])"
      ]
     },
     "execution_count": 190,
     "metadata": {},
     "output_type": "execute_result"
    }
   ],
   "source": [
    "d = a1D[::2] # Do início ao fim, com passo 2\n",
    "d"
   ]
  },
  {
   "cell_type": "code",
   "execution_count": 191,
   "metadata": {},
   "outputs": [
    {
     "data": {
      "text/plain": [
       "array([6, 7, 7, 1, 4, 2, 7, 1, 8, 9])"
      ]
     },
     "execution_count": 191,
     "metadata": {},
     "output_type": "execute_result"
    }
   ],
   "source": [
    "e = a1D[-1::-1] # Do final até o início\n",
    "e"
   ]
  },
  {
   "cell_type": "code",
   "execution_count": 192,
   "metadata": {},
   "outputs": [
    {
     "data": {
      "text/plain": [
       "array([[33,  3, 38, 24, 54],\n",
       "       [52,  3, 28, 44, 69],\n",
       "       [81, 54, 90, 77,  7],\n",
       "       [75, 61, 14,  3, 75]])"
      ]
     },
     "execution_count": 192,
     "metadata": {},
     "output_type": "execute_result"
    }
   ],
   "source": [
    "# Array de 2 dimensões\n",
    "a2D"
   ]
  },
  {
   "cell_type": "code",
   "execution_count": 193,
   "metadata": {},
   "outputs": [
    {
     "data": {
      "text/plain": [
       "array([33,  3, 38, 24, 54])"
      ]
     },
     "execution_count": 193,
     "metadata": {},
     "output_type": "execute_result"
    }
   ],
   "source": [
    "linha0 = a2D[0] # Todos os elementos da linha 0 - outra forma seria: linha0 = a2D[0,:]\n",
    "linha0"
   ]
  },
  {
   "cell_type": "code",
   "execution_count": 194,
   "metadata": {},
   "outputs": [
    {
     "data": {
      "text/plain": [
       "array([33,  3, 38, 24, 54])"
      ]
     },
     "execution_count": 194,
     "metadata": {},
     "output_type": "execute_result"
    }
   ],
   "source": [
    "linha1 = a2D[0,:] # Todos os elementos da linha 1\n",
    "linha1"
   ]
  },
  {
   "cell_type": "code",
   "execution_count": 195,
   "metadata": {},
   "outputs": [
    {
     "data": {
      "text/plain": [
       "array([ 3, 38, 24])"
      ]
     },
     "execution_count": 195,
     "metadata": {},
     "output_type": "execute_result"
    }
   ],
   "source": [
    "linha2 = a2D[0,1:4] # Linha 2, colunas 1, 2 e 3\n",
    "linha2"
   ]
  },
  {
   "cell_type": "code",
   "execution_count": 211,
   "metadata": {},
   "outputs": [
    {
     "name": "stdout",
     "output_type": "stream",
     "text": [
      "[75 61 14  3 75]\n",
      "[75 61 14  3 75]\n",
      "[75 61 14  3 75]\n"
     ]
    },
    {
     "data": {
      "text/plain": [
       "array([75, 61, 14,  3, 75])"
      ]
     },
     "execution_count": 211,
     "metadata": {},
     "output_type": "execute_result"
    }
   ],
   "source": [
    "linha3 = a2D[:][3] # a2D[:] retorna toda a matriz, então de toda a matriz queremos a linha 3 a2D[:][3]\n",
    "print(a2D[:][3])\n",
    "print(a2D[3])\n",
    "print(a2D[:][:][3])\n",
    "linha3"
   ]
  },
  {
   "cell_type": "code",
   "execution_count": 197,
   "metadata": {},
   "outputs": [
    {
     "data": {
      "text/plain": [
       "array([38, 28, 90, 14])"
      ]
     },
     "execution_count": 197,
     "metadata": {},
     "output_type": "execute_result"
    }
   ],
   "source": [
    "coluna2 = a2D[:,2] # De todas as linhas, selecionar a coluna 2\n",
    "coluna2"
   ]
  },
  {
   "cell_type": "code",
   "execution_count": 198,
   "metadata": {},
   "outputs": [
    {
     "data": {
      "text/plain": [
       "array([44, 77,  3])"
      ]
     },
     "execution_count": 198,
     "metadata": {},
     "output_type": "execute_result"
    }
   ],
   "source": [
    "coluna3 = a2D[1:,3] # Da linha um até a última, selecionar a coluna 3\n",
    "coluna3"
   ]
  },
  {
   "cell_type": "code",
   "execution_count": 199,
   "metadata": {},
   "outputs": [
    {
     "data": {
      "text/plain": [
       "array([[[0.78182908, 0.00526454, 0.55334328, 0.30343627, 0.24116351],\n",
       "        [0.48522443, 0.72478981, 0.49533075, 0.39646813, 0.66120136],\n",
       "        [0.87634293, 0.827534  , 0.59725808, 0.68958905, 0.81873582],\n",
       "        [0.92441861, 0.93775054, 0.34351565, 0.04690492, 0.66856275]],\n",
       "\n",
       "       [[0.76256688, 0.67175544, 0.92580279, 0.88290847, 0.22647062],\n",
       "        [0.50293848, 0.88843636, 0.15565039, 0.82424436, 0.93077215],\n",
       "        [0.61084272, 0.38595687, 0.42572998, 0.22653038, 0.73062669],\n",
       "        [0.2707424 , 0.04596892, 0.58214523, 0.9265451 , 0.54401682]],\n",
       "\n",
       "       [[0.22941064, 0.46697791, 0.70405032, 0.21585575, 0.62333657],\n",
       "        [0.83265928, 0.25485005, 0.00846545, 0.74258178, 0.44064677],\n",
       "        [0.92633292, 0.66650543, 0.51859941, 0.16635793, 0.00954166],\n",
       "        [0.16692921, 0.68542973, 0.08175751, 0.38645968, 0.44341854]]])"
      ]
     },
     "execution_count": 199,
     "metadata": {},
     "output_type": "execute_result"
    }
   ],
   "source": [
    "# Array de 3 dimensões\n",
    "a3D"
   ]
  },
  {
   "cell_type": "code",
   "execution_count": 200,
   "metadata": {},
   "outputs": [
    {
     "data": {
      "text/plain": [
       "array([[0.76256688, 0.67175544, 0.92580279, 0.88290847, 0.22647062],\n",
       "       [0.50293848, 0.88843636, 0.15565039, 0.82424436, 0.93077215],\n",
       "       [0.61084272, 0.38595687, 0.42572998, 0.22653038, 0.73062669],\n",
       "       [0.2707424 , 0.04596892, 0.58214523, 0.9265451 , 0.54401682]])"
      ]
     },
     "execution_count": 200,
     "metadata": {},
     "output_type": "execute_result"
    }
   ],
   "source": [
    "# Acessando a página/face 1\n",
    "face1 = a3D[1]\n",
    "face1"
   ]
  },
  {
   "cell_type": "code",
   "execution_count": 201,
   "metadata": {},
   "outputs": [
    {
     "data": {
      "text/plain": [
       "array([[0.67175544, 0.92580279, 0.88290847],\n",
       "       [0.88843636, 0.15565039, 0.82424436],\n",
       "       [0.38595687, 0.42572998, 0.22653038]])"
      ]
     },
     "execution_count": 201,
     "metadata": {},
     "output_type": "execute_result"
    }
   ],
   "source": [
    "# Acessando uma parte da face1\n",
    "subface1 = a3D[1,0:3, 1:4]\n",
    "subface1"
   ]
  },
  {
   "cell_type": "code",
   "execution_count": 202,
   "metadata": {},
   "outputs": [
    {
     "data": {
      "text/plain": [
       "array([0.87634293, 0.827534  , 0.59725808, 0.68958905, 0.81873582])"
      ]
     },
     "execution_count": 202,
     "metadata": {},
     "output_type": "execute_result"
    }
   ],
   "source": [
    "linha2face0 = a3D[0,2] # outra forma: linha2face0 = a3D[0,2,:]\n",
    "linha2face0"
   ]
  },
  {
   "cell_type": "code",
   "execution_count": 203,
   "metadata": {},
   "outputs": [
    {
     "data": {
      "text/plain": [
       "array([[[0.78182908, 0.00526454, 0.55334328, 0.30343627, 0.24116351],\n",
       "        [0.48522443, 0.72478981, 0.49533075, 0.39646813, 0.66120136],\n",
       "        [0.87634293, 0.827534  , 0.59725808, 0.68958905, 0.81873582],\n",
       "        [0.92441861, 0.93775054, 0.34351565, 0.04690492, 0.66856275]],\n",
       "\n",
       "       [[0.76256688, 0.67175544, 0.92580279, 0.88290847, 0.22647062],\n",
       "        [0.50293848, 0.88843636, 0.15565039, 0.82424436, 0.93077215],\n",
       "        [0.61084272, 0.38595687, 0.42572998, 0.22653038, 0.73062669],\n",
       "        [0.2707424 , 0.04596892, 0.58214523, 0.9265451 , 0.54401682]],\n",
       "\n",
       "       [[0.22941064, 0.46697791, 0.70405032, 0.21585575, 0.62333657],\n",
       "        [0.83265928, 0.25485005, 0.00846545, 0.74258178, 0.44064677],\n",
       "        [0.92633292, 0.66650543, 0.51859941, 0.16635793, 0.00954166],\n",
       "        [0.16692921, 0.68542973, 0.08175751, 0.38645968, 0.44341854]]])"
      ]
     },
     "execution_count": 203,
     "metadata": {},
     "output_type": "execute_result"
    }
   ],
   "source": [
    "a3D"
   ]
  },
  {
   "cell_type": "code",
   "execution_count": 204,
   "metadata": {},
   "outputs": [
    {
     "data": {
      "text/plain": [
       "array([[0.48522443, 0.72478981, 0.49533075, 0.39646813, 0.66120136],\n",
       "       [0.50293848, 0.88843636, 0.15565039, 0.82424436, 0.93077215],\n",
       "       [0.83265928, 0.25485005, 0.00846545, 0.74258178, 0.44064677]])"
      ]
     },
     "execution_count": 204,
     "metadata": {},
     "output_type": "execute_result"
    }
   ],
   "source": [
    "linha1todasfaces = a3D[:,1] # outra forma: linha1todasfaces = a3D[:,1,:]\n",
    "linha1todasfaces"
   ]
  },
  {
   "cell_type": "code",
   "execution_count": 205,
   "metadata": {},
   "outputs": [
    {
     "data": {
      "text/plain": [
       "array([[0.30343627, 0.39646813, 0.68958905, 0.04690492],\n",
       "       [0.88290847, 0.82424436, 0.22653038, 0.9265451 ],\n",
       "       [0.21585575, 0.74258178, 0.16635793, 0.38645968]])"
      ]
     },
     "execution_count": 205,
     "metadata": {},
     "output_type": "execute_result"
    }
   ],
   "source": [
    "coluna3todasfaces = a3D[:,:,3]\n",
    "coluna3todasfaces"
   ]
  },
  {
   "cell_type": "markdown",
   "metadata": {},
   "source": [
    "### Indexação com booleanos"
   ]
  },
  {
   "cell_type": "code",
   "execution_count": 206,
   "metadata": {},
   "outputs": [
    {
     "data": {
      "text/plain": [
       "array([[151, 404, 118,  66,  88, 293, 177, 483],\n",
       "       [403, 267, 439, 254, 451, 444, 395,  93],\n",
       "       [ 96,  92,  71, 375, 293, 420,  94, 257],\n",
       "       [ 81,  99, 233, 333,  40, 200,  14,  72],\n",
       "       [217, 390, 368,   7, 113,  74, 199, 303],\n",
       "       [114, 141, 294, 476, 263, 133, 477, 440],\n",
       "       [222,  21, 382, 157,  46, 282, 285, 204],\n",
       "       [ 26, 356, 141, 284,  52, 152, 278,  70],\n",
       "       [ 42, 194, 413, 332,  82,  32, 121, 428],\n",
       "       [135,  48, 245, 125, 285, 364, 460, 223]])"
      ]
     },
     "execution_count": 206,
     "metadata": {},
     "output_type": "execute_result"
    }
   ],
   "source": [
    "a2Db = np.random.randint(1, 501, (10, 8)) # Cria um ndarray de 4 linhas x 5 colunas com elementos entre 1 e 100\n",
    "a2Db"
   ]
  },
  {
   "cell_type": "code",
   "execution_count": 207,
   "metadata": {},
   "outputs": [
    {
     "data": {
      "text/plain": [
       "array([[False,  True, False, False, False,  True, False,  True],\n",
       "       [ True,  True,  True,  True,  True,  True,  True, False],\n",
       "       [False, False, False,  True,  True,  True, False,  True],\n",
       "       [False, False, False,  True, False, False, False, False],\n",
       "       [False,  True,  True, False, False, False, False,  True],\n",
       "       [False, False,  True,  True,  True, False,  True,  True],\n",
       "       [False, False,  True, False, False,  True,  True, False],\n",
       "       [False,  True, False,  True, False, False,  True, False],\n",
       "       [False, False,  True,  True, False, False, False,  True],\n",
       "       [False, False, False, False,  True,  True,  True, False]])"
      ]
     },
     "execution_count": 207,
     "metadata": {},
     "output_type": "execute_result"
    }
   ],
   "source": [
    "a2Db >= 250"
   ]
  },
  {
   "cell_type": "code",
   "execution_count": 208,
   "metadata": {},
   "outputs": [
    {
     "data": {
      "text/plain": [
       "array([404, 293, 483, 403, 267, 439, 254, 451, 444, 395, 375, 293, 420,\n",
       "       257, 333, 390, 368, 303, 294, 476, 263, 477, 440, 382, 282, 285,\n",
       "       356, 284, 278, 413, 332, 428, 285, 364, 460])"
      ]
     },
     "execution_count": 208,
     "metadata": {},
     "output_type": "execute_result"
    }
   ],
   "source": [
    "a2Db[a2Db >= 250]"
   ]
  },
  {
   "cell_type": "code",
   "execution_count": 209,
   "metadata": {},
   "outputs": [
    {
     "data": {
      "text/plain": [
       "222.4"
      ]
     },
     "execution_count": 209,
     "metadata": {},
     "output_type": "execute_result"
    }
   ],
   "source": [
    "a2Db.mean()"
   ]
  },
  {
   "cell_type": "code",
   "execution_count": 210,
   "metadata": {},
   "outputs": [
    {
     "data": {
      "text/plain": [
       "array([151, 118,  66,  88, 177,  93,  96,  92,  71,  94,  81,  99,  40,\n",
       "       200,  14,  72, 217,   7, 113,  74, 199, 114, 141, 133, 222,  21,\n",
       "       157,  46, 204,  26, 141,  52, 152,  70,  42, 194,  82,  32, 121,\n",
       "       135,  48, 125])"
      ]
     },
     "execution_count": 210,
     "metadata": {},
     "output_type": "execute_result"
    }
   ],
   "source": [
    "a2Db[a2Db <= a2Db.mean()]"
   ]
  }
 ],
 "metadata": {
  "kernelspec": {
   "display_name": "Python 3",
   "language": "python",
   "name": "python3"
  },
  "language_info": {
   "codemirror_mode": {
    "name": "ipython",
    "version": 3
   },
   "file_extension": ".py",
   "mimetype": "text/x-python",
   "name": "python",
   "nbconvert_exporter": "python",
   "pygments_lexer": "ipython3",
   "version": "3.9.7"
  }
 },
 "nbformat": 4,
 "nbformat_minor": 2
}
