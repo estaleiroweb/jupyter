{
 "cells": [
  {
   "cell_type": "markdown",
   "metadata": {},
   "source": [
    "# Aula 3\n",
    "\n",
    "Qual a diferença entre acessar a2D[:] e a2D"
   ]
  },
  {
   "cell_type": "code",
   "execution_count": 1,
   "metadata": {},
   "outputs": [
    {
     "name": "stdout",
     "output_type": "stream",
     "text": [
      "[[38  5  5 46 11]\n",
      " [92 81 61 75 80]\n",
      " [12  7 81 88 60]\n",
      " [27 92  6  2 76]]\n",
      "\n",
      "[27 92  6  2 76]\n",
      "[27 92  6  2 76]\n",
      "[27 92  6  2 76]\n"
     ]
    }
   ],
   "source": [
    "# Importando o NumPy\n",
    "import numpy as np\n",
    "\n",
    "a2D = np.random.randint(1, 101, (4,5)) # Cria um ndarray de 4 linhas x 5 colunas com elementos entre 1 e 100\n",
    "\n",
    "print(a2D)\n",
    "print()\n",
    "\n",
    "# Resultados iguais\n",
    "print(a2D[:][3])\n",
    "print(a2D[3])\n",
    "print(a2D[:][:][3])\n",
    "\n",
    "# logo a2D==a2D[:] and a2D==a2D[:][:] ...\n"
   ]
  }
 ],
 "metadata": {
  "kernelspec": {
   "display_name": "base",
   "language": "python",
   "name": "python3"
  },
  "language_info": {
   "codemirror_mode": {
    "name": "ipython",
    "version": 3
   },
   "file_extension": ".py",
   "mimetype": "text/x-python",
   "name": "python",
   "nbconvert_exporter": "python",
   "pygments_lexer": "ipython3",
   "version": "3.9.7"
  }
 },
 "nbformat": 4,
 "nbformat_minor": 2
}
