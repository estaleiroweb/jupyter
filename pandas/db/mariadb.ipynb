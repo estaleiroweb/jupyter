{
 "cells": [
  {
   "cell_type": "markdown",
   "metadata": {},
   "source": [
    "# pandas.read_sql"
   ]
  },
  {
   "cell_type": "markdown",
   "metadata": {},
   "source": [
    "https://pandas.pydata.org/docs/reference/"
   ]
  },
  {
   "cell_type": "markdown",
   "metadata": {},
   "source": []
  },
  {
   "cell_type": "code",
   "execution_count": 1,
   "metadata": {},
   "outputs": [],
   "source": [
    "import mariadb"
   ]
  },
  {
   "cell_type": "code",
   "execution_count": 3,
   "metadata": {},
   "outputs": [],
   "source": [
    "from mysql.connector import FieldType"
   ]
  },
  {
   "cell_type": "code",
   "execution_count": 18,
   "metadata": {},
   "outputs": [
    {
     "data": {
      "text/plain": [
       "['c:\\\\AppData\\\\Code\\\\jupyter\\\\pandas\\\\db',\n",
       " 'c:\\\\Program Files\\\\Python37\\\\python37.zip',\n",
       " 'c:\\\\Program Files\\\\Python37\\\\DLLs',\n",
       " 'c:\\\\Program Files\\\\Python37\\\\lib',\n",
       " 'c:\\\\Program Files\\\\Python37',\n",
       " '',\n",
       " 'C:\\\\Users\\\\F8034906\\\\AppData\\\\Roaming\\\\Python\\\\Python37\\\\site-packages',\n",
       " 'C:\\\\Users\\\\F8034906\\\\AppData\\\\Roaming\\\\Python\\\\Python37\\\\site-packages\\\\win32',\n",
       " 'C:\\\\Users\\\\F8034906\\\\AppData\\\\Roaming\\\\Python\\\\Python37\\\\site-packages\\\\win32\\\\lib',\n",
       " 'C:\\\\Users\\\\F8034906\\\\AppData\\\\Roaming\\\\Python\\\\Python37\\\\site-packages\\\\Pythonwin',\n",
       " 'c:\\\\Program Files\\\\Python37\\\\lib\\\\site-packages',\n",
       " 'C:\\\\Users\\\\F8034906\\\\AppData\\\\Roaming\\\\Python\\\\Python37\\\\site-packages\\\\IPython\\\\extensions',\n",
       " 'C:\\\\Users\\\\F8034906\\\\.ipython',\n",
       " 'C:\\\\AppData\\\\Code\\\\py',\n",
       " 'C:\\\\AppData\\\\Code\\\\py']"
      ]
     },
     "execution_count": 18,
     "metadata": {},
     "output_type": "execute_result"
    }
   ],
   "source": [
    "import sys\n",
    "# sys.path.insert(1, 'C:\\AppData\\Code\\py')\n",
    "sys.path.append('C:\\AppData\\Code\\py')\n",
    "import passwd\n",
    "sys.path"
   ]
  },
  {
   "cell_type": "code",
   "execution_count": 17,
   "metadata": {},
   "outputs": [
    {
     "ename": "ModuleNotFoundError",
     "evalue": "No module named 'C'",
     "output_type": "error",
     "traceback": [
      "\u001b[1;31m---------------------------------------------------------------------------\u001b[0m",
      "\u001b[1;31mModuleNotFoundError\u001b[0m                       Traceback (most recent call last)",
      "\u001b[1;32m~\\AppData\\Local\\Temp\\ipykernel_23252\\1981886193.py\u001b[0m in \u001b[0;36m<module>\u001b[1;34m\u001b[0m\n\u001b[1;32m----> 1\u001b[1;33m \u001b[1;32mimport\u001b[0m \u001b[0mC\u001b[0m\u001b[1;33m.\u001b[0m\u001b[0mAppData\u001b[0m\u001b[1;33m.\u001b[0m\u001b[0mpasswd\u001b[0m\u001b[1;33m\u001b[0m\u001b[1;33m\u001b[0m\u001b[0m\n\u001b[0m",
      "\u001b[1;31mModuleNotFoundError\u001b[0m: No module named 'C'"
     ]
    }
   ],
   "source": [
    "import AppData.passwd"
   ]
  },
  {
   "cell_type": "code",
   "execution_count": 4,
   "metadata": {},
   "outputs": [
    {
     "data": {
      "text/plain": [
       "{'user': 'ro', 'password': 'tim_cp[ro]', 'host': 'evoice', 'database': 'test'}"
      ]
     },
     "execution_count": 4,
     "metadata": {},
     "output_type": "execute_result"
    }
   ],
   "source": [
    "dsn=passwd.dsn['evoice']\n",
    "dsn"
   ]
  },
  {
   "cell_type": "code",
   "execution_count": 5,
   "metadata": {},
   "outputs": [],
   "source": [
    "field_type = {\n",
    "    0: 'DECIMAL',\n",
    "    1: 'TINY',\n",
    "    2: 'SHORT',\n",
    "    3: 'LONG',\n",
    "    4: 'FLOAT',\n",
    "    5: 'DOUBLE',\n",
    "    6: 'NULL',\n",
    "    7: 'TIMESTAMP',\n",
    "    8: 'LONGLONG',\n",
    "    9: 'INT24',\n",
    "    10: 'DATE',\n",
    "    11: 'TIME',\n",
    "    12: 'DATETIME',\n",
    "    13: 'YEAR',\n",
    "    14: 'NEWDATE',\n",
    "    15: 'VARCHAR',\n",
    "    16: 'BIT',\n",
    "    246: 'NEWDECIMAL',\n",
    "    247: 'INTERVAL',\n",
    "    248: 'SET',\n",
    "    249: 'TINY_BLOB',\n",
    "    250: 'MEDIUM_BLOB',\n",
    "    251: 'LONG_BLOB',\n",
    "    252: 'BLOB',\n",
    "    253: 'VAR_STRING',\n",
    "    254: 'STRING',\n",
    "    255: 'GEOMETRY',\n",
    "}\n"
   ]
  },
  {
   "cell_type": "code",
   "execution_count": 6,
   "metadata": {},
   "outputs": [],
   "source": [
    "try:\n",
    "    conn = mariadb.connect(**dsn)\n",
    "except mariadb.Error as e:\n",
    "    print(f\"Error connecting to MariaDB Platform: {e}\")\n",
    "    # sys.exit(1)\n",
    "cur = conn.cursor()\n"
   ]
  },
  {
   "cell_type": "code",
   "execution_count": 7,
   "metadata": {},
   "outputs": [],
   "source": [
    "cur.execute(\"SELECT a.*, now() Dt FROM Aluno a\")\n"
   ]
  },
  {
   "cell_type": "code",
   "execution_count": 8,
   "metadata": {},
   "outputs": [
    {
     "data": {
      "text/plain": [
       "False"
      ]
     },
     "metadata": {},
     "output_type": "display_data"
    }
   ],
   "source": [
    "display(cur.closed)\n"
   ]
  },
  {
   "cell_type": "code",
   "execution_count": 14,
   "metadata": {},
   "outputs": [
    {
     "data": {
      "text/plain": [
       "3"
      ]
     },
     "metadata": {},
     "output_type": "display_data"
    }
   ],
   "source": [
    "display(cur.affected_rows)\n"
   ]
  },
  {
   "cell_type": "code",
   "execution_count": 15,
   "metadata": {},
   "outputs": [
    {
     "data": {
      "text/plain": [
       "3"
      ]
     },
     "metadata": {},
     "output_type": "display_data"
    }
   ],
   "source": [
    "display(cur.rowcount)\n"
   ]
  },
  {
   "cell_type": "code",
   "execution_count": 8,
   "metadata": {},
   "outputs": [
    {
     "data": {
      "text/plain": [
       "0"
      ]
     },
     "metadata": {},
     "output_type": "display_data"
    }
   ],
   "source": [
    "display(cur.insert_id)\n"
   ]
  },
  {
   "cell_type": "code",
   "execution_count": 11,
   "metadata": {},
   "outputs": [
    {
     "data": {
      "text/plain": [
       "None"
      ]
     },
     "metadata": {},
     "output_type": "display_data"
    }
   ],
   "source": [
    "display(cur.lastrowid)\n"
   ]
  },
  {
   "cell_type": "code",
   "execution_count": 9,
   "metadata": {},
   "outputs": [
    {
     "data": {
      "text/plain": [
       "(('id', 3, 2, 10, 0, 0, False, 49699, 'a', 'id', 'Aluno'),\n",
       " ('Matricula', 3, 2, 10, 0, 0, True, 49188, 'a', 'Matricula', 'Aluno'),\n",
       " ('Nome', 253, 100, 400, 0, 0, False, 20489, 'a', 'Nome', 'Aluno'),\n",
       " ('Coluna 4', 253, 100, 400, 0, 0, False, 20485, 'a', 'Coluna 4', 'Aluno'),\n",
       " ('Coluna 5', 253, 100, 400, 0, 0, False, 4097, 'a', 'Coluna 5', 'Aluno'),\n",
       " ('Coluna 3', 3, 2, 10, 0, 0, False, 32801, 'a', 'Coluna 3', 'Aluno'),\n",
       " ('Nasc', 10, 2, 10, 0, 0, True, 128, 'a', 'Nasc', 'Aluno'),\n",
       " ('Obs', 252, 65535, 262140, 0, 0, True, 16, 'a', 'Obs', 'Aluno'),\n",
       " ('Dt', 12, 4, 19, 0, 0, False, 129, '', '', ''))"
      ]
     },
     "metadata": {},
     "output_type": "display_data"
    }
   ],
   "source": [
    "display(cur.description)\n"
   ]
  },
  {
   "cell_type": "code",
   "execution_count": 25,
   "metadata": {},
   "outputs": [
    {
     "data": {
      "text/plain": [
       "['Matricula', 'Nome', 'DataNascimento', 'Curso', 'Dt']"
      ]
     },
     "metadata": {},
     "output_type": "display_data"
    }
   ],
   "source": [
    "fields = [field_md[0] for field_md in cur.description]\n",
    "display(fields)\n"
   ]
  },
  {
   "cell_type": "code",
   "execution_count": 75,
   "metadata": {},
   "outputs": [
    {
     "data": {
      "text/plain": [
       "{0: {'field': 'Matricula',\n",
       "  'table': 'Aluno',\n",
       "  'type': 'LONG',\n",
       "  'type_byFT': 'LONG',\n",
       "  'x2': 2,\n",
       "  'len': 10,\n",
       "  'x4': 0,\n",
       "  'x5': 0,\n",
       "  'isNull': True,\n",
       "  'flags': 32800,\n",
       "  'tableAlias': 'a',\n",
       "  'fieldAlias': 'Matricula'},\n",
       " 1: {'field': 'Nome',\n",
       "  'table': 'Aluno',\n",
       "  'type': 'VAR_STRING',\n",
       "  'type_byFT': 'VAR_STRING',\n",
       "  'x2': 100,\n",
       "  'len': 400,\n",
       "  'x4': 0,\n",
       "  'x5': 0,\n",
       "  'isNull': True,\n",
       "  'flags': 0,\n",
       "  'tableAlias': 'a',\n",
       "  'fieldAlias': 'Nome'},\n",
       " 2: {'field': 'DataNascimento',\n",
       "  'table': 'Aluno',\n",
       "  'type': 'DATE',\n",
       "  'type_byFT': 'DATE',\n",
       "  'x2': 2,\n",
       "  'len': 10,\n",
       "  'x4': 0,\n",
       "  'x5': 0,\n",
       "  'isNull': True,\n",
       "  'flags': 128,\n",
       "  'tableAlias': 'a',\n",
       "  'fieldAlias': 'DataNascimento'},\n",
       " 3: {'field': 'Curso',\n",
       "  'table': 'Aluno',\n",
       "  'type': 'STRING',\n",
       "  'type_byFT': 'STRING',\n",
       "  'x2': 3,\n",
       "  'len': 12,\n",
       "  'x4': 0,\n",
       "  'x5': 0,\n",
       "  'isNull': True,\n",
       "  'flags': 0,\n",
       "  'tableAlias': 'a',\n",
       "  'fieldAlias': 'Curso'},\n",
       " 4: {'field': 'Dt',\n",
       "  'table': '',\n",
       "  'type': 'DATETIME',\n",
       "  'type_byFT': 'DATETIME',\n",
       "  'x2': 4,\n",
       "  'len': 19,\n",
       "  'x4': 0,\n",
       "  'x5': 0,\n",
       "  'isNull': False,\n",
       "  'flags': 129,\n",
       "  'tableAlias': '',\n",
       "  'fieldAlias': ''}}"
      ]
     },
     "metadata": {},
     "output_type": "display_data"
    }
   ],
   "source": [
    "# ('Matricula', 3, 2, 10, 0, 0, True, 32800, 'a', 'Matricula', 'Aluno')\n",
    "mydict = {\n",
    "    idx:{\n",
    "        'field':cur.description[idx][0],\n",
    "        'table':cur.description[idx][10],\n",
    "        'type':field_type[cur.description[idx][1]],\n",
    "        'type_byFT':FieldType.get_info(cur.description[idx][1]),\n",
    "        'x2':cur.description[idx][2],\n",
    "        'len':cur.description[idx][3],\n",
    "        'x4':cur.description[idx][4],\n",
    "        'x5':cur.description[idx][5],\n",
    "        'isNull':cur.description[idx][6],\n",
    "        'flags':cur.description[idx][7],\n",
    "        'tableAlias':cur.description[idx][8],\n",
    "        'fieldAlias':cur.description[idx][9],\n",
    "        # '':FieldType.\n",
    "    } \n",
    "    for idx in range(len(cur.description))\n",
    "}\n",
    "display(mydict)\n"
   ]
  },
  {
   "cell_type": "code",
   "execution_count": 18,
   "metadata": {},
   "outputs": [
    {
     "data": {
      "text/plain": [
       "False"
      ]
     },
     "metadata": {},
     "output_type": "display_data"
    }
   ],
   "source": [
    "display(cur.sp_outparams)\n"
   ]
  },
  {
   "cell_type": "code",
   "execution_count": 19,
   "metadata": {},
   "outputs": [
    {
     "data": {
      "text/plain": [
       "'SELECT a.*, now() Dt FROM Aluno a'"
      ]
     },
     "metadata": {},
     "output_type": "display_data"
    }
   ],
   "source": [
    "display(cur.statement)\n"
   ]
  },
  {
   "cell_type": "code",
   "execution_count": 20,
   "metadata": {},
   "outputs": [
    {
     "data": {
      "text/plain": [
       "0"
      ]
     },
     "metadata": {},
     "output_type": "display_data"
    }
   ],
   "source": [
    "display(cur.warnings)\n"
   ]
  },
  {
   "cell_type": "code",
   "execution_count": 10,
   "metadata": {},
   "outputs": [
    {
     "name": "stdout",
     "output_type": "stream",
     "text": [
      "(1918023, 'Camila Braga', datetime.date(1999, 3, 12), 'COM')\n",
      "(1918142, 'João Lage', datetime.date(2001, 11, 20), 'PRO')\n",
      "(1828201, 'Pedro Santos', datetime.date(2000, 9, 2), 'COM')\n"
     ]
    }
   ],
   "source": [
    "cur.execute(cur.statement)\n",
    "for tuple in cur:\n",
    "    print(tuple)\n"
   ]
  },
  {
   "cell_type": "code",
   "execution_count": 52,
   "metadata": {},
   "outputs": [
    {
     "data": {
      "text/plain": [
       "(1918023,\n",
       " 'Camila Braga',\n",
       " datetime.date(1999, 3, 12),\n",
       " 'COM',\n",
       " datetime.datetime(2022, 10, 12, 18, 52, 16))"
      ]
     },
     "metadata": {},
     "output_type": "display_data"
    },
    {
     "data": {
      "text/plain": [
       "(1918142,\n",
       " 'João Lage',\n",
       " datetime.date(2001, 11, 20),\n",
       " 'PRO',\n",
       " datetime.datetime(2022, 10, 12, 18, 52, 16))"
      ]
     },
     "metadata": {},
     "output_type": "display_data"
    },
    {
     "data": {
      "text/plain": [
       "(1828201,\n",
       " 'Pedro Santos',\n",
       " datetime.date(2000, 9, 2),\n",
       " 'COM',\n",
       " datetime.datetime(2022, 10, 12, 18, 52, 16))"
      ]
     },
     "metadata": {},
     "output_type": "display_data"
    }
   ],
   "source": [
    "cur.execute(cur.statement)\n",
    "row = cur.fetchone()\n",
    "while row is not None:\n",
    "    display(row)\n",
    "    row = cur.fetchone()\n"
   ]
  },
  {
   "cell_type": "code",
   "execution_count": 51,
   "metadata": {},
   "outputs": [
    {
     "data": {
      "text/plain": [
       "0"
      ]
     },
     "metadata": {},
     "output_type": "display_data"
    },
    {
     "data": {
      "text/plain": [
       "(1918023,\n",
       " 'Camila Braga',\n",
       " datetime.date(1999, 3, 12),\n",
       " 'COM',\n",
       " datetime.datetime(2022, 10, 12, 18, 47, 25))"
      ]
     },
     "metadata": {},
     "output_type": "display_data"
    },
    {
     "data": {
      "text/plain": [
       "1"
      ]
     },
     "metadata": {},
     "output_type": "display_data"
    },
    {
     "data": {
      "text/plain": [
       "2"
      ]
     },
     "metadata": {},
     "output_type": "display_data"
    }
   ],
   "source": [
    "cur.execute(cur.statement)\n",
    "display(cur.rownumber)\n",
    "display(cur.fetchone())\n",
    "display(cur.rownumber)\n",
    "cur.next()\n",
    "display(cur.rownumber)\n"
   ]
  },
  {
   "cell_type": "code",
   "execution_count": 48,
   "metadata": {},
   "outputs": [
    {
     "data": {
      "text/plain": [
       "[]"
      ]
     },
     "metadata": {},
     "output_type": "display_data"
    }
   ],
   "source": [
    "cur.execute(cur.statement)\n",
    "display(cur.fetchall())\n"
   ]
  },
  {
   "cell_type": "code",
   "execution_count": null,
   "metadata": {},
   "outputs": [],
   "source": [
    "# display()\n",
    "# commit() and rollback()\n",
    "# conn.autocommit = False\n"
   ]
  },
  {
   "cell_type": "code",
   "execution_count": null,
   "metadata": {},
   "outputs": [],
   "source": [
    "conn.close()\n"
   ]
  }
 ],
 "metadata": {
  "kernelspec": {
   "display_name": "Python 3.7.4rc1 64-bit",
   "language": "python",
   "name": "python3"
  },
  "language_info": {
   "codemirror_mode": {
    "name": "ipython",
    "version": 3
   },
   "file_extension": ".py",
   "mimetype": "text/x-python",
   "name": "python",
   "nbconvert_exporter": "python",
   "pygments_lexer": "ipython3",
   "version": "3.7.4rc1"
  },
  "orig_nbformat": 4,
  "vscode": {
   "interpreter": {
    "hash": "5109d816b82be14675a6b11f8e0f0d2e80f029176ed3710d54e125caa8520dfd"
   }
  }
 },
 "nbformat": 4,
 "nbformat_minor": 2
}
