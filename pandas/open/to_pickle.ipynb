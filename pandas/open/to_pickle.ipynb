{
 "cells": [
  {
   "cell_type": "markdown",
   "metadata": {},
   "source": [
    "# pandas.to_pickle"
   ]
  },
  {
   "cell_type": "markdown",
   "metadata": {},
   "source": [
    "https://pandas.pydata.org/docs/reference/"
   ]
  },
  {
   "cell_type": "markdown",
   "metadata": {},
   "source": []
  },
  {
   "cell_type": "code",
   "execution_count": 2,
   "metadata": {},
   "outputs": [],
   "source": [
    "import pandas as pd\n"
   ]
  },
  {
   "cell_type": "code",
   "execution_count": 3,
   "metadata": {},
   "outputs": [],
   "source": [
    "data = {\n",
    "    'ID': {\n",
    "        0: 23, 1: 43, 2: 12,\n",
    "        3: 13, 4: 67, 5: 89,\n",
    "        6: 90, 7: 56, 8: 34\n",
    "    },\n",
    "    'Name': {\n",
    "        0: 'Ram', 1: 'Deep',\n",
    "        2: 'Yash', 3: 'Aman',\n",
    "        4: 'Arjun', 5: 'Aditya',\n",
    "        6: 'Divya', 7: 'Chalsea',\n",
    "        8: 'Akash'\n",
    "    },\n",
    "    'Marks': {\n",
    "        0: 89, 1: 97, 2: 45, 3: 78,\n",
    "        4: 56, 5: 76, 6: 100, 7: 87,\n",
    "        8: 81\n",
    "    },\n",
    "    'Grade': {\n",
    "        0: 'B', 1: 'A', 2: 'F', 3: 'C',\n",
    "        4: 'E', 5: 'C', 6: 'A', 7: 'B',\n",
    "        8: 'B'\n",
    "    }\n",
    "}\n",
    "df = pd.DataFrame(data)\n"
   ]
  },
  {
   "cell_type": "code",
   "execution_count": 4,
   "metadata": {},
   "outputs": [],
   "source": [
    "file = 'file.pkl'\n",
    "pd.to_pickle(data,file)"
   ]
  }
 ],
 "metadata": {
  "kernelspec": {
   "display_name": "Python 3.8.10 64-bit",
   "language": "python",
   "name": "python3"
  },
  "language_info": {
   "codemirror_mode": {
    "name": "ipython",
    "version": 3
   },
   "file_extension": ".py",
   "mimetype": "text/x-python",
   "name": "python",
   "nbconvert_exporter": "python",
   "pygments_lexer": "ipython3",
   "version": "3.8.10"
  },
  "orig_nbformat": 4,
  "vscode": {
   "interpreter": {
    "hash": "916dbcbb3f70747c44a77c7bcd40155683ae19c65e1c03b4aa3499c5328201f1"
   }
  }
 },
 "nbformat": 4,
 "nbformat_minor": 2
}
