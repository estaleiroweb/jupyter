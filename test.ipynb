{
 "cells": [
  {
   "cell_type": "code",
   "execution_count": null,
   "metadata": {},
   "outputs": [
    {
     "data": {
      "text/plain": [
       "[{1: '22222',\n",
       "  2: 'aaaaaaa',\n",
       "  3: '444444',\n",
       "  4: 'bbbbbb',\n",
       "  'xyz': '22222',\n",
       "  'coluna2': 'aaaaaaa',\n",
       "  'coluna4': 'bbbbbb'},\n",
       " {1: '333333',\n",
       "  2: 'bbbbb',\n",
       "  3: '1',\n",
       "  4: 'c',\n",
       "  'xyz': '333333',\n",
       "  'coluna2': 'bbbbb',\n",
       "  'coluna4': 'c'},\n",
       " {1: '2', 2: 'c', 3: '2', 4: 'c', 'xyz': '2', 'coluna2': 'c', 'coluna4': 'c'}]"
      ]
     },
     "metadata": {},
     "output_type": "display_data"
    }
   ],
   "source": [
    "import re\n",
    "\n",
    "a = '''\n",
    "22222   aaaaaaa 444444 bbbbbb\n",
    "333333 bbbbb 1 c\n",
    "2 c 2 c\n",
    "'''\n",
    "padrao = r'(?P<xyz>\\d+)\\s+(?P<coluna2>\\w+)\\s+(\\d+)\\s+(?P<coluna4>\\w+)'\n",
    "matches = re.finditer(padrao, a)\n",
    "ret=[{i: valor for i, valor in enumerate(match.groups(), 1)} | match.groupdict() for match in matches]\n",
    "display(ret)\n",
    "    \n",
    "    "
   ]
  }
 ],
 "metadata": {
  "kernelspec": {
   "display_name": "Python 3",
   "language": "python",
   "name": "python3"
  },
  "language_info": {
   "codemirror_mode": {
    "name": "ipython",
    "version": 3
   },
   "file_extension": ".py",
   "mimetype": "text/x-python",
   "name": "python",
   "nbconvert_exporter": "python",
   "pygments_lexer": "ipython3",
   "version": "3.12.4"
  }
 },
 "nbformat": 4,
 "nbformat_minor": 2
}
