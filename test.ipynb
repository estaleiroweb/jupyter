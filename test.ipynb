{
 "cells": [
  {
   "cell_type": "code",
   "execution_count": null,
   "metadata": {},
   "outputs": [
    {
     "data": {
      "text/plain": [
       "[{1: '22222',\n",
       "  2: 'aaaaaaa',\n",
       "  3: '444444',\n",
       "  4: 'bbbbbb',\n",
       "  'xyz': '22222',\n",
       "  'coluna2': 'aaaaaaa',\n",
       "  'coluna4': 'bbbbbb'},\n",
       " {1: '333333',\n",
       "  2: 'bbbbb',\n",
       "  3: '1',\n",
       "  4: 'c',\n",
       "  'xyz': '333333',\n",
       "  'coluna2': 'bbbbb',\n",
       "  'coluna4': 'c'},\n",
       " {1: '2', 2: 'c', 3: '2', 4: 'c', 'xyz': '2', 'coluna2': 'c', 'coluna4': 'c'}]"
      ]
     },
     "metadata": {},
     "output_type": "display_data"
    }
   ],
   "source": [
    "import re\n",
    "\n",
    "a = '''\n",
    "22222   aaaaaaa 444444 bbbbbb\n",
    "333333 bbbbb 1 c\n",
    "2 c 2 c\n",
    "'''\n",
    "padrao = r'(?P<xyz>\\d+)\\s+(?P<coluna2>\\w+)\\s+(\\d+)\\s+(?P<coluna4>\\w+)'\n",
    "matches = re.finditer(padrao, a)\n",
    "ret = [{i: valor for i, valor in enumerate(\n",
    "    match.groups(), 1)} | match.groupdict() for match in matches]\n",
    "display(ret)"
   ]
  },
  {
   "cell_type": "code",
   "execution_count": 97,
   "metadata": {},
   "outputs": [
    {
     "name": "stdout",
     "output_type": "stream",
     "text": [
      "100 [2, 0, 1, 0, 0, 1, 1, 1, 1, 0, 0, 1, 3, 2, 2, 0, 4, 4, 1, 1, 0, 0, 0, 0, 3, 0, 0, 1, 0, 1, 2, 0, 1, 2, 2, 3, 0, 2, 0, 0, 1, 0, 1, 1, 0, 0, 1, 1, 0, 2, 0, 0, 1, 1, 1, 0, 1, 0, 1, 1, 2, 3, 0, 1, 2, 0, 1, 2, 1, 1, 4, 1, 0, 1, 1, 3, 0, 0, 2, 1, 2, 3, 2, 2, 2, 0, 0, 1, 0, 0, 0, 0, 0, 0, 2, 0, 1, 3, 1, 0]\n",
      "100 [2, 0, 1, 0, 0, 1, 1, 1, 1, 0, 0, 1, 3, 2, 2, 0, 4, 4, 1, 1, 0, 0, 0, 0, 3, 0, 0, 1, 0, 1, 2, 0, 1, 2, 2, 3, 0, 2, 0, 0, 1, 0, 1, 1, 0, 0, 1, 1, 0, 2, 0, 0, 1, 1, 1, 0, 1, 0, 1, 1, 2, 3, 0, 1, 2, 0, 1, 2, 1, 1, 4, 1, 0, 1, 1, 3, 0, 0, 2, 1, 2, 3, 2, 2, 2, 0, 0, 1, 0, 0, 0, 0, 0, 0, 2, 0, 1, 3, 1, 0]\n",
      "True\n"
     ]
    }
   ],
   "source": [
    "def countingSort(arr):\n",
    "    a_count = [0]*100\n",
    "    # l = 1\n",
    "    for i in arr:\n",
    "        # if i >= l:\n",
    "            # a_count += [0]*(i-l+1)\n",
    "            # l = i+1\n",
    "        # print(i,len(a_count),a_count)\n",
    "        a_count[i] += 1\n",
    "    return a_count\n",
    "    out = []\n",
    "    for i in range(l+1):\n",
    "        if a_count[i] != 0:\n",
    "            out += [i]*a_count[i]\n",
    "    return out\n",
    "\n",
    "\n",
    "# arr = [63,25,73,1,98,73,56,84,86,57,16,83,8,25,81,56,9,53,98,67,99,12,83,89,80,91,39,86,76,85,74,39,25,90,59,10,94,32,44,3,89,30,27,79,46,96,27,32,18,21,92,69,81,40,40,34,68,78,24,87,42,69,23,41,78,22,6,90,99,89,50,30,20,1,43,3,70,95,33,46,44,9,69,48,33,60,65,16,82,67,61,32,21,79,75,75,13,87,70,33]\n",
    "# e = [0,2,0,2,0,0,1,0,1,2,1,0,1,1,0,0,2,0,1,0,1,2,1,1,1,3,0,2,0,0,2,0,3,3,1,0,0,0,0,2,2,1,1,1,2,0,2,0,1,0,1,0,0,1,0,0,2,1,0,1,1,1,0,1,0,1,0,2,1,3,2,0,0,2,1,2,1,0,2,2,1,2,1,2,1,1,2,2,0,3,2,1,1,0,1,1,1,0,2,2]\n",
    "arr = [63,54,17,78,43,70,32,97,16,94,74,18,60,61,35,83,13,56,75,52,70,12,24,37,17,0,16,64,34,81,82,24,69,2,30,61,83,37,97,16,70,53,0,61,12,17,97,67,33,30,49,70,11,40,67,94,84,60,35,58,19,81,16,14,68,46,42,81,75,87,13,84,33,34,14,96,7,59,17,98,79,47,71,75,8,27,73,66,64,12,29,35,80,78,80,6,5,24,49,82]\n",
    "e = [2,0,1,0,0,1,1,1,1,0,0,1,3,2,2,0,4,4,1,1,0,0,0,0,3,0,0,1,0,1,2,0,1,2,2,3,0,2,0,0,1,0,1,1,0,0,1,1,0,2,0,0,1,1,1,0,1,0,1,1,2,3,0,1,2,0,1,2,1,1,4,1,0,1,1,3,0,0,2,1,2,3,2,2,2,0,0,1,0,0,0,0,0,0,2,0,1,3,1,0]\n",
    "\n",
    "res=countingSort(arr)\n",
    "print(len(res),res)\n",
    "print(len(e),e)\n",
    "print(res==e)\n",
    "# print([] + [0]*3)\n"
   ]
  },
  {
   "cell_type": "code",
   "execution_count": 5,
   "metadata": {},
   "outputs": [
    {
     "name": "stdout",
     "output_type": "stream",
     "text": [
      "4\t(0,0)=112  \t(3,0)=62   \t(0,3)=119  \t(3,3)=108  \tMax: 119  \tTotal: 119\n",
      "4\t(0,1)=42   \t(3,1)=98   \t(0,2)=83   \t(3,2)=114  \tMax: 114  \tTotal: 233\n",
      "4\t(1,0)=56   \t(2,0)=15   \t(1,3)=49   \t(2,3)=43   \tMax: 56   \tTotal: 289\n",
      "4\t(1,1)=125  \t(2,1)=78   \t(1,2)=56   \t(2,2)=101  \tMax: 125  \tTotal: 414\n",
      "414\n"
     ]
    }
   ],
   "source": [
    "def flippingMatrix(matrix):\n",
    "    def pr(matrix, i, j):\n",
    "        return f'({i},{j})={matrix[i][j]: <5}'\n",
    "    l = len(matrix)\n",
    "    n = l // 2\n",
    "    total = 0\n",
    "    r = range(n)\n",
    "\n",
    "    for i in r:\n",
    "        for j in r:\n",
    "            idx_i = l - 1 - i\n",
    "            idx_j = l - 1 - j\n",
    "            m = max(matrix[i][j], matrix[idx_i][j],\n",
    "                    matrix[i][idx_j], matrix[idx_i][idx_j])\n",
    "            total += m\n",
    "            print(\n",
    "                l,\n",
    "                pr(matrix, i, j),\n",
    "                pr(matrix, idx_i, j),\n",
    "                pr(matrix, i, idx_j),\n",
    "                pr(matrix, idx_i, idx_j),\n",
    "                f'Max: {m: <5}',f'Total: {total}',\n",
    "                sep='\\t'\n",
    "            )\n",
    "\n",
    "    return total\n",
    "\n",
    "\n",
    "matrix = [\n",
    "    [112, 42, 83, 119],\n",
    "    [56, 125, 56, 49],\n",
    "    [15, 78, 101, 43],\n",
    "    [62, 98, 114, 108]\n",
    "]\n",
    "result = flippingMatrix(matrix)  # 414\n",
    "print(result)"
   ]
  },
  {
   "cell_type": "code",
   "execution_count": null,
   "metadata": {},
   "outputs": [],
   "source": []
  },
  {
   "cell_type": "markdown",
   "metadata": {},
   "source": [
    "Quicksort usually has a running time of `n x log(n)`, but is there an algorithm that can sort even faster? In general, this is not possible. Most sorting algorithms are comparison sorts, i.e. they sort a list just by comparing the elements to one another. A comparison sort algorithm cannot beat `n x log(n)` (worst-case) running time, since `n x log(n)`represents the minimum number of comparisons needed to know where to place each element. For more details, you can see these notes (PDF).\n",
    "\n",
    "Alternative Sorting\n",
    "Another sorting method, the counting sort, does not require comparison. Instead, you create an integer array whose index range covers the entire range of values in your array to sort. Each time a value occurs in the original array, you increment the counter at that index. At the end, run through your counting array, printing the value of each non-zero valued index that number of times.\n"
   ]
  }
 ],
 "metadata": {
  "kernelspec": {
   "display_name": "Python 3",
   "language": "python",
   "name": "python3"
  },
  "language_info": {
   "codemirror_mode": {
    "name": "ipython",
    "version": 3
   },
   "file_extension": ".py",
   "mimetype": "text/x-python",
   "name": "python",
   "nbconvert_exporter": "python",
   "pygments_lexer": "ipython3",
   "version": "3.12.4"
  }
 },
 "nbformat": 4,
 "nbformat_minor": 2
}
