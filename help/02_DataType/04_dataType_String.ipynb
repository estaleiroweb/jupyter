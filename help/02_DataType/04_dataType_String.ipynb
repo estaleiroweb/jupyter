{
 "cells": [
  {
   "cell_type": "markdown",
   "metadata": {},
   "source": [
    "# Data Type - String"
   ]
  },
  {
   "cell_type": "markdown",
   "metadata": {},
   "source": [
    "##### Methods"
   ]
  },
  {
   "cell_type": "markdown",
   "metadata": {},
   "source": [
    "| Method         | Description                                                                                   |\n",
    "| -------------- | --------------------------------------------------------------------------------------------- |\n",
    "| capitalize()   | Converts the first character to upper case                                                    |\n",
    "| casefold()     | Converts string into lower case                                                               |\n",
    "| center()       | Returns a centered string (padding)                                                           |\n",
    "| count()        | Returns the number of times a specified value occurs in a string                              |\n",
    "| encode()       | Returns an encoded version of the string                                                      |\n",
    "| endswith()     | Returns true if the string ends with the specified value                                      |\n",
    "| expandtabs()   | Sets the tab size of the string                                                               |\n",
    "| find()         | Searches the string for a specified value and returns the position of where it was found      |\n",
    "| format()       | Formats specified values in a string                                                          |\n",
    "| format_map()   | Formats specified values in a string                                                          |\n",
    "| index()        | Searches the string for a specified value and returns the position of where it was found      |\n",
    "| isalnum()      | Returns True if all characters in the string are alphanumeric                                 |\n",
    "| isalpha()      | Returns True if all characters in the string are in the alphabet                              |\n",
    "| isdecimal()    | Returns True if all characters in the string are decimals                                     |\n",
    "| isdigit()      | Returns True if all characters in the string are digits                                       |\n",
    "| isidentifier() | Returns True if the string is an identifier                                                   |\n",
    "| islower()      | Returns True if all characters in the string are lower case                                   |\n",
    "| isnumeric()    | Returns True if all characters in the string are numeric                                      |\n",
    "| isprintable()  | Returns True if all characters in the string are printable                                    |\n",
    "| isspace()      | Returns True if all characters in the string are whitespaces                                  |\n",
    "| istitle()      | Returns True if the string follows the rules of a title                                       |\n",
    "| isupper()      | Returns True if all characters in the string are upper case                                   |\n",
    "| join()         | Joins the elements of an iterable to the end of the string                                    |\n",
    "| ljust()        | Returns a left justified version of the string (padding)                                      |\n",
    "| lower()        | Converts a string into lower case                                                             |\n",
    "| lstrip()       | Returns a left trim version of the string                                                     |\n",
    "| maketrans()    | Returns a translation table to be used in translations                                        |\n",
    "| partition()    | Returns a tuple where the string is parted into three parts                                   |\n",
    "| replace()      | Returns a string where a specified value is replaced with a specified value                   |\n",
    "| rfind()        | Searches the string for a specified value and returns the last position of where it was found |\n",
    "| rindex()       | Searches the string for a specified value and returns the last position of where it was found |\n",
    "| rjust()        | Returns a right justified version of the string (padding)                                     |\n",
    "| rpartition()   | Returns a tuple where the string is parted into three parts                                   |\n",
    "| rsplit()       | Splits the string at the specified separator, and returns a list                              |\n",
    "| rstrip()       | Returns a right trim version of the string                                                    |\n",
    "| split()        | Splits the string at the specified separator, and returns a list                              |\n",
    "| splitlines()   | Splits the string at line breaks and returns a list                                           |\n",
    "| startswith()   | Returns true if the string starts with the specified value                                    |\n",
    "| strip()        | Returns a trimmed version of the string                                                       |\n",
    "| swapcase()     | Swaps cases, lower case becomes upper case and vice versa                                     |\n",
    "| title()        | Converts the first character of each word to upper case                                       |\n",
    "| translate()    | Returns a translated string                                                                   |\n",
    "| upper()        | Converts a string into upper case                                                             |\n",
    "| zfill()        | Fills the string with a specified number of 0 values at the beginning                         |\n",
    "| isspace()      | Espaço                                                                                        |\n",
    "| isalpha()      | a-zA-Z                                                                                        |\n",
    "| islower()      | a-z                                                                                           |\n",
    "| isupper()      | A-Z                                                                                           |\n",
    "| isalnum()      | ASCII extendida                                                                               |\n",
    "| isascii()      | ASCII não extendida                                                                           |\n",
    "| isprintable()  | ASCII extendida >=32                                                                          |\n",
    "| isdecimal()    | 0-9                                                                                           |\n",
    "| isdigit()      | isdecimal + subscrito e sobrescrito                                                           |\n",
    "| isnumeric()    | isdigit + caracteres UNICODE que repesenta frações, romanos etc                               |\n",
    "| isidentifier() | se pode ser um identificador (nome de variável, função etc)                                   |\n",
    "| istitle()      | Se todas as palavras começam (apenas) com letras maiúsculas                                   |\n"
   ]
  },
  {
   "cell_type": "markdown",
   "metadata": {},
   "source": [
    "#### Access String"
   ]
  },
  {
   "cell_type": "code",
   "execution_count": 18,
   "metadata": {},
   "outputs": [
    {
     "name": "stdout",
     "output_type": "stream",
     "text": [
      "ABCDEFGHIJKLMNOPQRSTUVWXYZ\n",
      "ZYXWVUTSRQPONMLKJIHGFEDCBA\n",
      "BláBláBlá\n"
     ]
    }
   ],
   "source": [
    "x='ABCDEFGHIJKLMNOPQRSTUVWXYZ'\n",
    "print(x)\n",
    "print(x[::-1])\n",
    "print('Blá'*3)"
   ]
  },
  {
   "cell_type": "markdown",
   "metadata": {},
   "source": [
    "#### Substring"
   ]
  },
  {
   "cell_type": "code",
   "execution_count": 21,
   "metadata": {},
   "outputs": [
    {
     "name": "stdout",
     "output_type": "stream",
     "text": [
      "A\n",
      "Z\n",
      "CDEF\n",
      "CE\n",
      "V\n",
      "VWX\n",
      "FEDCB\n",
      "FEDCBA\n",
      "FEDCBA\n",
      "Python está dentro de A linguagem Python é legal!: True\n",
      "Python não está dentro de A linguagem Python é legal!: False\n"
     ]
    }
   ],
   "source": [
    "print(x[0])\n",
    "print(x[-1])\n",
    "print(x[2:6])\n",
    "print(x[2:6:2])\n",
    "print(x[-5])\n",
    "print(x[-5:-2])\n",
    "print(x[5:0:-1])\n",
    "print(x[5::-1])\n",
    "print(x[5:None:-1])\n",
    "s='A linguagem Python é legal!'\n",
    "p='Python'\n",
    "print(f'{p} está dentro de {s}: {p in s}')\n",
    "print(f'{p} não está dentro de {s}: {p not in s}')"
   ]
  },
  {
   "cell_type": "markdown",
   "metadata": {},
   "source": [
    "#### String Types"
   ]
  },
  {
   "cell_type": "code",
   "execution_count": 17,
   "metadata": {},
   "outputs": [
    {
     "name": "stdout",
     "output_type": "stream",
     "text": [
      "A █ █ Texto\n",
      "\n",
      "\\x41 \\u2588 \\U00002588 Texto\\n\n",
      "A █ █ texto test, decimal  12, float 1.235\n",
      "\n",
      "b'A \\\\u2588 \\\\U00002588 Hello\\n'\n",
      "\n",
      "\tolá\n",
      "\n"
     ]
    }
   ],
   "source": [
    "varStr = 'test'\n",
    "varFloat = 1.234567\n",
    "varDec = 12\n",
    "\n",
    "print('\\x41 \\u2588 \\U00002588 Texto\\n')\n",
    "print(r'\\x41 \\u2588 \\U00002588 Texto\\n')\n",
    "print(f'\\x41 \\u2588 \\U00002588 texto {varStr}, decimal {varDec:3d}, float {varFloat:.3f}\\n')\n",
    "print(b'\\x41 \\u2588 \\U00002588 Hello\\n')\n",
    "# print(' # cause error\n",
    "#  olá\n",
    "# ')\n",
    "print('''\n",
    "\tolá\n",
    "''')"
   ]
  },
  {
   "cell_type": "markdown",
   "metadata": {},
   "source": [
    "#### Formating"
   ]
  },
  {
   "cell_type": "markdown",
   "metadata": {},
   "source": [
    "| format_spec | [[<span style=\"color:cyan\">fill</span>]<span style=\"color:mediumaquamarine\">align</span>][<span style=\"color:red\">sign</span>][#][0][<span style=\"color:green\">width</span>][<span style=\"color:darksalmon\">separator</span>][.<span style=\"color:blueviolet\">precision</span>][<span style=\"color:darkcyan\">type</span>]\n",
    "|-------------|--------------------------------------------------------------\n",
    "| <span style=\"color:dodgerblue\">fill</span>        | any character\n",
    "| <span style=\"color:mediumaquamarine\">align</span> | \"<\", \">\", \"=\", \"^\"\n",
    "| <span style=\"color:red\">sign</span>               | \"+\", \"-\", \" \"\n",
    "| <span style=\"color:green\">width</span>            | integer\n",
    "| <span style=\"color:blueviolet\">precision</span>   | integer\n",
    "| <span style=\"color:darksalmon\">separator</span>   | ,\n",
    "| <span style=\"color:darkcyan\">type</span>          | \"b\", \"c\", \"d\", \"e\", \"E\", \"f\", \"F\", \"g\", \"G\", \"n\", \"o\", \"s\", \"x\", \"X\", \"%\""
   ]
  },
  {
   "cell_type": "markdown",
   "metadata": {},
   "source": [
    "| Types     | Description\n",
    "|-----------|---------------------------\n",
    "| b\t        | The argument is treated as an integer and presented as a binary number.\n",
    "| c\t        | The argument is treated as an integer and presented as the character with that ASCII.\n",
    "| d\t        | The argument is treated as an integer and presented as a (signed) decimal number.\n",
    "| e\t        | The argument is treated as scientific notation (e.g. 1.2e+2).\n",
    "| E\t        | Like the e specifier but uses uppercase letter (e.g. 1.2E+2).\n",
    "| f\t        | The argument is treated as a float and presented as a floating-point number (locale aware).\n",
    "| F\t        | The argument is treated as a float and presented as a floating-point number (non-locale aware).\n",
    "| g\t        | General format.<br>Let P equal the precision if nonzero, 6 if the precision is omitted, or 1 if the precision is zero.<br>Then, if a conversion with style E would have an exponent of X:<br>If P > X ≥ −4, the conversion is with style f and precision P − (X + 1).<br>Otherwise, the conversion is with style e and precision P − 1.\n",
    "| G\t        | Like the g specifier but uses E and f.\n",
    "| o\t        | The argument is treated as an integer and presented as an octal number.\n",
    "| s\t        | The argument is treated and presented as a string.\n",
    "| x\t        | The argument is treated as an integer and presented as a hexadecimal number (with lowercase letters).\n",
    "| X\t        | The argument is treated as an integer and presented as a hexadecimal number (with uppercase letters).\n",
    "| %\t        | A literal percent character. No argument is required."
   ]
  },
  {
   "cell_type": "code",
   "execution_count": 22,
   "metadata": {},
   "outputs": [
    {
     "name": "stdout",
     "output_type": "stream",
     "text": [
      "Meu nome é Zé e tenho 18 anos\n",
      "Meu nome é Zé e tenho 18 anos. Tenho 18 anos com o Zé\n",
      "Dec:62 hex:3e HEX:3E Oct:76 Bin:111110\n",
      "Dec:62 hex:3e HEX:3E Oct:76 Bin:111110\n",
      "Dec:1.23342e+06 hex:1.23342E+06\n"
     ]
    }
   ],
   "source": [
    "print('Meu nome é {} e tenho {} anos'.format('Zé', 18))\n",
    "print('Meu nome é {0} e tenho {1} anos. Tenho {1} anos com o {0}'.format('Zé', 18))\n",
    "v=62\n",
    "print('Dec:{0:d} hex:{0:x} HEX:{0:X} Oct:{0:o} Bin:{0:b}'.format(v))\n",
    "print(f'Dec:{v:d} hex:{v:x} HEX:{v:X} Oct:{v:o} Bin:{v:b}')\n",
    "v=1233423\n",
    "print(f'Dec:{v:g} hex:{v:G}')"
   ]
  },
  {
   "cell_type": "code",
   "execution_count": 1,
   "metadata": {},
   "outputs": [
    {
     "name": "stdout",
     "output_type": "stream",
     "text": [
      "1.000.000\n",
      "1e+06\n",
      "123,12\n"
     ]
    }
   ],
   "source": [
    "import locale\n",
    "\n",
    "try:\n",
    "    locale.setlocale(locale.LC_ALL, '')\n",
    "except locale.Error:\n",
    "    locale.setlocale(locale.LC_ALL, 'C')\n",
    "\n",
    "print(\"{:n}\".format(1000000))\n",
    "print(\"{:n}\".format(1000000.12))\n",
    "print(\"{:n}\".format(123.12))"
   ]
  },
  {
   "cell_type": "code",
   "execution_count": 116,
   "metadata": {},
   "outputs": [
    {
     "name": "stdout",
     "output_type": "stream",
     "text": [
      "The empty \n",
      "The empty\n",
      "Do math: 3 * 6 = 18\n",
      "The A \n",
      "The █ \n"
     ]
    }
   ],
   "source": [
    "v = 'empty'\n",
    "print('The {} '.format(v))\n",
    "print(f'The {v}')\n",
    "print(f\"Do math: 3 * 6 = {3 * 6}\")\n",
    "print('The {:c} '.format(65))\n",
    "print('The {:c} '.format(0x2588))\n"
   ]
  },
  {
   "cell_type": "code",
   "execution_count": 106,
   "metadata": {},
   "outputs": [
    {
     "name": "stdout",
     "output_type": "stream",
     "text": [
      "| Andre Iguodala   |  4 |  3 |  7 |\n",
      "| Klay Thompson    |  5 |  0 | 21 |\n",
      "| Stephen Curry    |  5 |  8 | 36 |\n",
      "| Draymon Green    |  9 |  4 | 11 |\n",
      "| Andrew Bogut     |  3 |  0 |  2 |\n"
     ]
    }
   ],
   "source": [
    "# define format row\n",
    "row = \"| {player:<16s} | {reb:2d} | {ast:2d} | {pts:2d} |\".format\n",
    "starters = [\n",
    "    ['Andre Iguodala', 4, 3, 7],\n",
    "    ['Klay Thompson', 5, 0, 21],\n",
    "    ['Stephen Curry', 5, 8, 36],\n",
    "    ['Draymon Green', 9, 4, 11],\n",
    "    ['Andrew Bogut', 3, 0, 2],\n",
    "]\n",
    "for p in starters:\n",
    "    print(row(player=p[0], reb=p[1], ast=p[2], pts=p[3]))"
   ]
  },
  {
   "cell_type": "code",
   "execution_count": 122,
   "metadata": {},
   "outputs": [
    {
     "name": "stdout",
     "output_type": "stream",
     "text": [
      "varIntP:            12345\t| varIntN:            -12345\t| Format: (17d)\n",
      "varIntP:           +12345\t| varIntN:            -12345\t| Format: (+17d)\n",
      "varIntP:            12345\t| varIntN:            -12345\t| Format: (-17d)\n",
      "varIntP:00000000000012345\t| varIntN: -0000000000012345\t| Format: (017d)\n",
      "varIntP:           12,345\t| varIntN:           -12,345\t| Format: (17,d)\n",
      "varIntP:0,000,000,012,345\t| varIntN: -0,000,000,012,345\t| Format: (017,d)\n",
      "varIntP:12345            \t| varIntN: -12345           \t| Format: (<17d)\n",
      "varIntP:      12345      \t| varIntN:      -12345      \t| Format: (^17d)\n",
      "varIntP:            12345\t| varIntN: -           12345\t| Format: (=17d)\n",
      "varIntP:+           12345\t| varIntN: -           12345\t| Format: (=+17d)\n"
     ]
    }
   ],
   "source": [
    "varIntP = 12345\n",
    "varIntN = -12345\n",
    "vFloatP = 12345.6789\n",
    "vFloatN = -12345.6789\n",
    "varStr = 'test'\n",
    "\n",
    "for frmt in ('17d', '+17d', '-17d', '017d', '17,d', '017,d', '<17d', '^17d',\n",
    "             '=17d', '=+17d'):\n",
    "    print(\n",
    "        f'varIntP:{varIntP:{frmt}}\\t| varIntN: {varIntN:{frmt}}\\t| Format: ({frmt})'\n",
    "    )"
   ]
  },
  {
   "cell_type": "code",
   "execution_count": 79,
   "metadata": {},
   "outputs": [
    {
     "name": "stdout",
     "output_type": "stream",
     "text": [
      "vFloatP:     12345.678900\t| vFloatN:     -12345.678900\t| Format: (17f)\n",
      "vFloatP:    +12345.678900\t| vFloatN:     -12345.678900\t| Format: (+17f)\n",
      "vFloatP:     12345.678900\t| vFloatN:     -12345.678900\t| Format: (-17f)\n",
      "vFloatP:0000012345.678900\t| vFloatN: -000012345.678900\t| Format: (017f)\n",
      "vFloatP:    12,345.678900\t| vFloatN:    -12,345.678900\t| Format: (17,f)\n",
      "vFloatP:       +12,345.68\t| vFloatN:        -12,345.68\t| Format: (+17,.2f)\n",
      "vFloatP:     12345.678900\t| vFloatN:     -12345.678900\t| Format: (17F)\n",
      "vFloatP:    +12345.678900\t| vFloatN:     -12345.678900\t| Format: (+17F)\n",
      "vFloatP:     12345.678900\t| vFloatN:     -12345.678900\t| Format: (-17F)\n",
      "vFloatP:0000012345.678900\t| vFloatN: -000012345.678900\t| Format: (017F)\n",
      "vFloatP:    12,345.678900\t| vFloatN:    -12,345.678900\t| Format: (17,F)\n",
      "vFloatP:       +12,345.68\t| vFloatN:        -12,345.68\t| Format: (+17,.2F)\n"
     ]
    }
   ],
   "source": [
    "for frmt in ('17f', '+17f', '-17f', '017f', '17,f', '+17,.2f'):\n",
    "    print(\n",
    "        f'vFloatP:{vFloatP:{frmt}}\\t| vFloatN: {vFloatN:{frmt}}\\t| Format: ({frmt})'\n",
    "    )\n",
    "for frmt in ('17F', '+17F', '-17F', '017F', '17,F', '+17,.2F'):\n",
    "    print(\n",
    "        f'vFloatP:{vFloatP:{frmt}}\\t| vFloatN: {vFloatN:{frmt}}\\t| Format: ({frmt})'\n",
    "    )"
   ]
  },
  {
   "cell_type": "code",
   "execution_count": 81,
   "metadata": {},
   "outputs": [
    {
     "name": "stdout",
     "output_type": "stream",
     "text": [
      "vFloatP:     1.234568e+04\t| vFloatN:     -1.234568e+04\t| Format: (17e)\n",
      "vFloatP:    +1.234568e+04\t| vFloatN:     -1.234568e+04\t| Format: (+17e)\n",
      "vFloatP:     1.234568e+04\t| vFloatN:     -1.234568e+04\t| Format: (-17e)\n",
      "vFloatP:000001.234568e+04\t| vFloatN: -00001.234568e+04\t| Format: (017e)\n",
      "vFloatP:     1.234568e+04\t| vFloatN:     -1.234568e+04\t| Format: (17,e)\n",
      "vFloatP:        +1.23e+04\t| vFloatN:         -1.23e+04\t| Format: (+17,.2e)\n",
      "vFloatP:     1.234568E+04\t| vFloatN:     -1.234568E+04\t| Format: (17E)\n",
      "vFloatP:    +1.234568E+04\t| vFloatN:     -1.234568E+04\t| Format: (+17E)\n",
      "vFloatP:     1.234568E+04\t| vFloatN:     -1.234568E+04\t| Format: (-17E)\n",
      "vFloatP:000001.234568E+04\t| vFloatN: -00001.234568E+04\t| Format: (017E)\n",
      "vFloatP:     1.234568E+04\t| vFloatN:     -1.234568E+04\t| Format: (17,E)\n",
      "vFloatP:        +1.23E+04\t| vFloatN:         -1.23E+04\t| Format: (+17,.2E)\n"
     ]
    }
   ],
   "source": [
    "for frmt in ('17e', '+17e', '-17e', '017e', '17,e', '+17,.2e'):\n",
    "    print(\n",
    "        f'vFloatP:{vFloatP:{frmt}}\\t| vFloatN: {vFloatN:{frmt}}\\t| Format: ({frmt})'\n",
    "    )\n",
    "for frmt in ('17E', '+17E', '-17E', '017E', '17,E', '+17,.2E'):\n",
    "    print(\n",
    "        f'vFloatP:{vFloatP:{frmt}}\\t| vFloatN: {vFloatN:{frmt}}\\t| Format: ({frmt})'\n",
    "    )\n",
    "# print(f'varIntP: {varIntP:{frmt}} varIntN: {varIntN:{frmt}} ({frmt})')\n"
   ]
  },
  {
   "cell_type": "markdown",
   "metadata": {},
   "source": [
    "#### Padding\n",
    "f'{message:{fill}{align}{width}}'"
   ]
  },
  {
   "cell_type": "markdown",
   "metadata": {},
   "source": []
  },
  {
   "cell_type": "code",
   "execution_count": 7,
   "metadata": {},
   "outputs": [
    {
     "name": "stdout",
     "output_type": "stream",
     "text": [
      "Texto padding:|test-----------|\n",
      "Texto padding:|-----------test|\n",
      "Texto padding:|-----test------|\n",
      "Texto padding:|     test      |\n",
      "\n",
      "test-----------\n",
      "-----------test\n",
      "------test-----\n",
      "      test     \n"
     ]
    }
   ],
   "source": [
    "var='test'\n",
    "print(f'Texto padding:|{var:-<15}|')\n",
    "print(f'Texto padding:|{var:->15}|')\n",
    "print(f'Texto padding:|{var:-^15}|')\n",
    "print(f'Texto padding:|{var:^15}|')\n",
    "\n",
    "print()\n",
    "\n",
    "print(var.ljust(15, '-'))\n",
    "print(var.rjust(15, '-'))\n",
    "print(var.center(15, '-'))\n",
    "print(var.center(15))"
   ]
  },
  {
   "cell_type": "markdown",
   "metadata": {},
   "source": [
    "#### is....."
   ]
  },
  {
   "cell_type": "code",
   "execution_count": 41,
   "metadata": {},
   "outputs": [
    {
     "name": "stdout",
     "output_type": "stream",
     "text": [
      "False\n",
      "True\n",
      "True\n",
      "True\n",
      "True\n",
      "False\n",
      "False\n",
      "False\n",
      "True\n",
      "<class 'str'>\n"
     ]
    }
   ],
   "source": [
    "print('á'.isascii())\n",
    "print('ab'.isascii())\n",
    "print('ab'.islower())\n",
    "print('12²'.isdigit())\n",
    "print('12²á'.isalnum())\n",
    "print('12²á'.isidentifier())\n",
    "print('12²á\\n'.isprintable())\n",
    "print(\"12a\".isidentifier())\n",
    "print(\"var_nome\".isidentifier())\n",
    "\n"
   ]
  }
 ],
 "metadata": {
  "kernelspec": {
   "display_name": "Python 3.7.4rc1 64-bit",
   "language": "python",
   "name": "python3"
  },
  "language_info": {
   "codemirror_mode": {
    "name": "ipython",
    "version": 3
   },
   "file_extension": ".py",
   "mimetype": "text/x-python",
   "name": "python",
   "nbconvert_exporter": "python",
   "pygments_lexer": "ipython3",
   "version": "3.7.4rc1"
  },
  "orig_nbformat": 4,
  "vscode": {
   "interpreter": {
    "hash": "5109d816b82be14675a6b11f8e0f0d2e80f029176ed3710d54e125caa8520dfd"
   }
  }
 },
 "nbformat": 4,
 "nbformat_minor": 2
}
