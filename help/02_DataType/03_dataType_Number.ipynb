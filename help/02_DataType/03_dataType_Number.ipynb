{
 "cells": [
  {
   "cell_type": "markdown",
   "metadata": {},
   "source": [
    "# Data Type - Number\n",
    "\n",
    "| Método/Atributo                               | Tipo  | Descrição                                                                                                                 |\n",
    "| --------------------------------------------- | ----- | ------------------------------------------------------------------------------------------------------------------------- |\n",
    "| bit_length()                                  | int   | Retorna o número de bits necessários para representar o número em binário, excluindo o sinal e zeros à esquerda.          |\n",
    "| conjugate()                                   | float | Retorna o conjugado complexo do número (para compatibilidade com números complexos; retorna o próprio número para float). |\n",
    "| from_bytes(bytes, byteorder, *, signed=False) | int   | Converte uma sequência de bytes para um inteiro.                                                                          |\n",
    "| to_bytes(length, byteorder, *, signed=False)  | int   | Converte o inteiro para uma sequência de bytes de comprimento especificado.                                               |\n",
    "| as_integer_ratio()                            | float | Retorna uma tupla representando a fração equivalente ao número (numerador e denominador).                                 |\n",
    "| is_integer()                                  | float | Retorna True se o número for um inteiro (sem parte decimal).                                                              |\n",
    "| hex()                                         | float | Retorna a representação hexadecimal do número.                                                                            |\n",
    "| fromhex(s)                                    | float | Converte uma string hexadecimal em um número float.                                                                       |\n",
    "\n",
    "\n",
    "## Específicos para float\n",
    "\n",
    "| Atributo                                      | Tipo  | Descrição                                                                                                                 |\n",
    "| --------------------------------------------- | ----- | ------------------------------------------------------------------------------------------------------------------------- |\n",
    "| real                                          | float | Parte real do número (para float, é o próprio número).                                                                    |\n",
    "| imag                                          | float | Parte imaginária do número (para float, sempre 0.0).                                                                      |"
   ]
  },
  {
   "cell_type": "markdown",
   "metadata": {},
   "source": [
    "Exemplo para int"
   ]
  },
  {
   "cell_type": "code",
   "execution_count": 1,
   "metadata": {},
   "outputs": [
    {
     "name": "stdout",
     "output_type": "stream",
     "text": [
      "6\n",
      "b'\\x00*'\n",
      "42\n"
     ]
    }
   ],
   "source": [
    "x = 42\n",
    "print(x.bit_length())  # Saída: 6\n",
    "print(x.to_bytes(2, byteorder='big'))  # Saída: b'\\x00*'\n",
    "\n",
    "y = int.from_bytes(b'\\x00*', byteorder='big')\n",
    "print(y)  # Saída: 42"
   ]
  },
  {
   "cell_type": "markdown",
   "metadata": {},
   "source": [
    "Exemplo para float"
   ]
  },
  {
   "cell_type": "code",
   "execution_count": 2,
   "metadata": {},
   "outputs": [
    {
     "name": "stdout",
     "output_type": "stream",
     "text": [
      "True\n",
      "0x1.5000000000000p+5\n",
      "42.0\n",
      "7070651414971679 2251799813685248\n"
     ]
    }
   ],
   "source": [
    "x = 42.0\n",
    "print(x.is_integer())  # Saída: True\n",
    "print(x.hex())  # Saída: '0x1.5p+5'\n",
    "\n",
    "y = float.fromhex('0x1.5p+5')\n",
    "print(y)  # Saída: 42.0\n",
    "\n",
    "z = 3.14\n",
    "numerator, denominator = z.as_integer_ratio()\n",
    "print(numerator, denominator)  # Saída: 7070651414971679 2251799813685248"
   ]
  },
  {
   "cell_type": "code",
   "execution_count": 2,
   "metadata": {},
   "outputs": [
    {
     "name": "stdout",
     "output_type": "stream",
     "text": [
      "0.1428571428571428571428571428571428571428571428571428571428571428571428571428571428571428571428571428571428571428571428571428571428571428571428571428571428571428571428571428571428571428571428571428571428571428571428571428571428571428571428571428571428571428571428571428571428571428571428571428571428571428571428571428571428571428571428571428571428571428571428571428571428571428571428571428571428571428571428571428571428571428571428571428571428571428571428571428571428571428571428571428571428571428571428571428571428571428571428571428571428571428571428571428571428571428571428571428571428571428571428571428571428571428571428571428571428571428571428571428571428571428571428571428571428571428571428571428571428571428571428571428571428571428571428571428571428571428571428571428571428571428571428571428571428571428571428571428571428571428571428571428571428571428571428571428571428571428571428571428571428571428571428571428571428571428571428571428571428571428571428571428571428571428571428571428571428571429\n"
     ]
    }
   ],
   "source": [
    "from decimal import Decimal, getcontext\n",
    "\n",
    "# Define a precisão global\n",
    "getcontext().prec = 1005  # 1005 para garantir arredondamento correto até 1000 casas\n",
    "\n",
    "num = Decimal(1) / Decimal(7)\n",
    "formatado = num.quantize(Decimal('1.' + '0'*1000))  # Define o número com 1000 zeros\n",
    "\n",
    "print(formatado)"
   ]
  },
  {
   "cell_type": "code",
   "execution_count": 1,
   "metadata": {},
   "outputs": [
    {
     "name": "stdout",
     "output_type": "stream",
     "text": [
      "3.1415926535897932384626433832795028841971693993751058209749445923078164062862089986280348253421170679821480865132823066470938446095505822317253594081284811174502841027019385211055596446229489549303819644288109756659334461284756482337867831652712019091456485669234603486104543266482133936072602491412737245870066063155881748815209209628292540917153643678925903600113305305488204665213841469519415116094330572703657595919530921861173819326117931051185480744623799627495673518857527248912279381830119491298336733624406566430860213949463952247371907021798609437027705392171762931767523846748184676694051320005681271452635608277857713427577896091736371787214684409012249534301465495853710507922796892589235420199561121290219608640344181598136297747713099605187072113499999983729780499510597317328160963185950244594553469083026425223082533446850352619311881710100031378387528865875332083814206171776691473035982534904287554687311595628638823537875937519577818577805321712268066130019278766111959092164201989\n"
     ]
    }
   ],
   "source": [
    "from decimal import Decimal, getcontext\n",
    "import math\n",
    "\n",
    "def calcular_pi_1000_digitos():\n",
    "    # Define a precisão com uma margem extra (por segurança no arredondamento)\n",
    "    getcontext().prec = 1050\n",
    "\n",
    "    # Inicialização do algoritmo de Gauss-Legendre\n",
    "    a = Decimal(1)\n",
    "    b = Decimal(1) / Decimal(2).sqrt()\n",
    "    t = Decimal(1) / Decimal(4)\n",
    "    p = Decimal(1)\n",
    "\n",
    "    for _ in range(10):  # 10 iterações são suficientes para ~1000 dígitos\n",
    "        a_novo = (a + b) / 2\n",
    "        b = (a * b).sqrt()\n",
    "        t -= p * (a - a_novo)**2\n",
    "        a = a_novo\n",
    "        p *= 2\n",
    "\n",
    "    pi = (a + b)**2 / (4 * t)\n",
    "\n",
    "    # Reduz a string para exatamente 1000 casas decimais\n",
    "    pi_str = str(pi.quantize(Decimal('1.' + '0' * 1000)))\n",
    "    return pi_str\n",
    "\n",
    "print(calcular_pi_1000_digitos())\n"
   ]
  }
 ],
 "metadata": {
  "kernelspec": {
   "display_name": "Python 3",
   "language": "python",
   "name": "python3"
  },
  "language_info": {
   "codemirror_mode": {
    "name": "ipython",
    "version": 3
   },
   "file_extension": ".py",
   "mimetype": "text/x-python",
   "name": "python",
   "nbconvert_exporter": "python",
   "pygments_lexer": "ipython3",
   "version": "3.12.4"
  }
 },
 "nbformat": 4,
 "nbformat_minor": 2
}
