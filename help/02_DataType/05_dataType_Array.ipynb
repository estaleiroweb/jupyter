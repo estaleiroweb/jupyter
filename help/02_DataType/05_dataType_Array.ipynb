{
 "cells": [
  {
   "cell_type": "markdown",
   "metadata": {},
   "source": [
    "# Data Type - Arrays (List, Tuple, Set, Dictionary)"
   ]
  },
  {
   "cell_type": "markdown",
   "metadata": {},
   "source": [
    "#### Resume\n",
    "| Collection | Brackets | Ordered | Changeable | add/remove Itens | Indexed | Allows duplicate | Caso de Uso              |\n",
    "| ---------- | :------: | :-----: | :--------: | :--------------: | :-----: | :--------------: | ------------------------ |\n",
    "| List       |    []    |   Yes   |    Yes     |       Yes        |   Yes   |       Yes        | Vetor simples            |\n",
    "| Tuple      |    ()    |   Yes   |     No     |        No        |   Yes   |       Yes        | Velocidade + Inalterável |\n",
    "| Set        |    {}    |   No    |     No     |       Yes        |   No    |        No        | Operações de Conjuntos   |\n",
    "| Dictionary |    {}    |  Yes*   |    Yes     |       Yes        |   Yes   |        No        | Key-Value                |\n",
    "\n",
    "\\* As of Python version 3.7, dictionaries are ordered. In Python 3.6 and earlier, dictionaries are unordered.\n"
   ]
  },
  {
   "cell_type": "markdown",
   "metadata": {},
   "source": [
    "#### Methods\n",
    "| Method                        | List | Tuple | Set | Dict | Description                                                                                                 |\n",
    "| ----------------------------- | :--: | :---: | :-: | :--: | ----------------------------------------------------------------------------------------------------------- |\n",
    "| add()                         |      |       | Yes |      | Adds an element to the set                                                                                  |\n",
    "| append()                      | Yes  |       |     |      | Adds an element at the end of the collection                                                                |\n",
    "| clear()                       | Yes  |       | Yes | Yes  | Removes all the elements from the collection                                                                |\n",
    "| copy()                        | Yes  |       | Yes | Yes  | Returns a copy of the collection                                                                            |\n",
    "| count()                       | Yes  |  Yes  |     |      | Returns the number of elements with the specified value                                                     |\n",
    "| difference()                  |      |       | Yes |      | Returns a set containing the difference between two or more sets                                            |\n",
    "| difference_update()           |      |       | Yes |      | Removes the items in this set that are also included in another, specified set                              |\n",
    "| discard()                     |      |       | Yes |      | Remove the specified item                                                                                   |\n",
    "| extend()                      | Yes  |       |     |      | Add the elements of a collection (or any iterable), to the end of the current collection                    |\n",
    "| fromkeys()                    |      |       |     | Yes  | Returns a dictionary with the specified keys and value                                                      |\n",
    "| get()                         |      |       |     | Yes  | Returns the value of the specified key                                                                      |\n",
    "| index()                       | Yes  |  Yes  |     |      | Returns the index of the first element with the specified value                                             |\n",
    "| insert()                      | Yes  |       |     |      | Adds an element at the specified position                                                                   |\n",
    "| intersection()                |      |       | Yes |      | Returns a set, that is the intersection of two other sets                                                   |\n",
    "| intersection_update()         |      |       | Yes |      | Removes the items in this set that are not present in other, specified set(s)                               |\n",
    "| isdisjoint()                  |      |       | Yes |      | Returns whether two sets have a intersection or not                                                         |\n",
    "| issubset()                    |      |       | Yes |      | Returns whether another set contains this set or not                                                        |\n",
    "| issuperset()                  |      |       | Yes |      | Returns whether this set contains another set or not                                                        |\n",
    "| items()                       |      |       |     | Yes  | Returns a list containing a tuple for each key value pair                                                   |\n",
    "| keys()                        |      |       |     | Yes  | Returns a list containing the dictionary's keys                                                             |\n",
    "| pop()                         | Yes  |       | Yes | Yes  | Removes the element at the specified position                                                               |\n",
    "| popitem()                     |      |       |     | Yes  | Removes the last inserted keyNovalue pair                                                                   |\n",
    "| remove()                      | Yes  |       | Yes |      | Removes the item with the specified value                                                                   |\n",
    "| reverse()                     | Yes  |       |     |      | Reverses the order of the collection                                                                        |\n",
    "| setdefault()                  |      |       |     | Yes  | Returns the value of the specified key. If the key does not exist: insert the key, with the specified value |\n",
    "| sort()                        | Yes  |       |     |      | Sorts the collection                                                                                        |\n",
    "| symmetric_difference()        |      |       | Yes |      | Returns a set with the symmetric differences of two sets                                                    |\n",
    "| symmetric_difference_update() |      |       | Yes |      | inserts the symmetric differences from this set and another                                                 |\n",
    "| union()                       |      |       | Yes |      | Return a set containing the union of sets                                                                   |\n",
    "| update()                      |      |       | Yes | Yes  | Update the set with the union of this set and others                                                        |\n",
    "| values()                      |      |       |     | Yes  | Returns a list of all the values in the dictionary                                                          |"
   ]
  },
  {
   "cell_type": "markdown",
   "metadata": {},
   "source": [
    "#### Operações\n",
    "\n",
    "| Operação     | List | Tuple | Set | Dict | Descrição                                                               |\n",
    "| ------------ | ---- | ----- | --- | ---- | ----------------------------------------------------------------------- |\n",
    "| `len`        | Yes  | Yes   | Yes | Yes  | Retorna o número de itens.                                              |\n",
    "| `max`        | Yes  | Yes   | Yes |      | Retorna o item com o maior valor.                                       |\n",
    "| `min`        | Yes  | Yes   | Yes |      | Retorna o item com o menor valor.                                       |\n",
    "| `sum`        | Yes  | Yes   | Yes |      | Retorna a soma dos itens.                                               |\n",
    "| `sorted`     | Yes  | Yes   | Yes | Yes  | Retorna uma lista ordenada dos itens.                                   |\n",
    "| `any`        | Yes  | Yes   | Yes | Yes  | Retorna `True` se algum item for verdadeiro.                            |\n",
    "| `all`        | Yes  | Yes   | Yes | Yes  | Retorna `True` se todos os itens forem verdadeiros.                     |\n",
    "| `enumerate`  | Yes  | Yes   |     |      | Retorna um enumerador para os itens.                                    |\n",
    "| `zip`        | Yes  | Yes   |     |      | Combina elementos de iteráveis em tuplas.                               |\n",
    "| `in`         | Yes  | Yes   | Yes | Yes  | Verifica se um item está presente.                                      |\n",
    "| `not in`     | Yes  | Yes   | Yes | Yes  | Verifica se um item não está presente.                                  |\n",
    "| `map`        | Yes  | Yes   |     |      | Aplica uma função a todos os itens.                                     |\n",
    "| `filter`     | Yes  | Yes   |     |      | Filtra itens com base em uma função.                                    |\n",
    "| `reduce`     | Yes  | Yes   |     |      | Reduz itens usando uma função binária.                                  |\n",
    "| `isinstance` | Yes  | Yes   | Yes | Yes  | Verifica se um objeto é uma instância de uma classe ou tipo específico. |\n",
    "| `reversed`   | Yes  | Yes   |     |      | Retorna um iterador que acessa os itens em ordem inversa.               |\n",
    "| `iter`       | Yes  | Yes   | Yes | Yes  | Retorna um iterador para o objeto.                                      |\n",
    "| `next`       | Yes  | Yes   | Yes | Yes  | Retorna o próximo item de um iterador.                                  |"
   ]
  },
  {
   "cell_type": "markdown",
   "metadata": {},
   "source": [
    "#### Definindo"
   ]
  },
  {
   "cell_type": "code",
   "execution_count": null,
   "metadata": {},
   "outputs": [
    {
     "name": "stdout",
     "output_type": "stream",
     "text": [
      "Listas:\n",
      "<class 'list'>\n",
      "3\n",
      "1\n",
      "Tuplas:\n",
      "<class 'tuple'>\n",
      "3\n",
      "Conjuntos:\n",
      "<class 'set'>\n",
      "Dicionários:\n",
      "<class 'dict'>\n",
      "<class 'dict'>\n",
      "True\n"
     ]
    }
   ],
   "source": [
    "\n",
    "print('Listas:')\n",
    "thislist = [\"apple\", \"banana\", \"cherry\", \"orange\", \"kiwi\", \"mango\"]\n",
    "tropical = [\"mango\", \"pineapple\", \"papaya\"]\n",
    "thislistNesed = [[\"mango\", \"pineapple\", \"papaya\"], [\n",
    "    \"apple\", \"banana\", \"cherry\", \"orange\", \"kiwi\", \"mango\"]]\n",
    "thislist2 = []\n",
    "thislist3 = list()\n",
    "thislist4 = [5, 5, 5, 2, 2, 3, 3, 4, 4, 4, 5, 5, 5]\n",
    "print(type(thislist))\n",
    "print(thislist4.count(4))\n",
    "print(thislist.count(\"banana\"))\n",
    "\n",
    "print('Tuplas:')\n",
    "thistuple = (\"apple\", \"banana\", \"cherry\", \"orange\", \"kiwi\", \"mango\")\n",
    "thistuple2 = ()\n",
    "thistuple3 = tuple()\n",
    "thistuple4 = (5, 5, 5, 2, 2, 3, 3, 4, 4, 4, 5, 5, 5)\n",
    "print(type(thistuple))\n",
    "print(thistuple4.count(4))\n",
    "\n",
    "print('Conjuntos:')\n",
    "thisset = {\"apple\", \"banana\", \"cherry\",\n",
    "           \"orange\", \"kiwi\", \"mango\"}  # type: ignore\n",
    "thisset2 = set()\n",
    "print(type(thisset))\n",
    "\n",
    "print('Dicionários:')\n",
    "thisdict = {\"model\": \"Mustang\", \"year\": 1964, \"brand\": \"Ford\"}  # type: ignore\n",
    "thisdict2 = dict()\n",
    "thisdict3 = {}\n",
    "thisdict4 = dict.fromkeys([1, 2, 3, 4])\n",
    "print(type(thisdict))\n",
    "print(type(thisdict3))\n",
    "print(isinstance(thisdict, dict))"
   ]
  },
  {
   "cell_type": "markdown",
   "metadata": {},
   "source": [
    "#### Acessando Listas"
   ]
  },
  {
   "cell_type": "code",
   "execution_count": 20,
   "metadata": {},
   "outputs": [
    {
     "name": "stdout",
     "output_type": "stream",
     "text": [
      "lista[início:fim:step]\n",
      "all ['apple', 'banana', 'cherry', 'orange', 'kiwi', 'mango']\n",
      "all [5, 5, 5, 2, 2, 3, 3, 4, 4, 4, 5, 5, 5]\n",
      "0 apple\n",
      "\"banana\" 1\n",
      "-1 mango\n",
      "2: ['cherry', 'orange', 'kiwi', 'mango']\n",
      "2:5 ['cherry', 'orange', 'kiwi']\n",
      "-3: ['orange', 'kiwi', 'mango']\n",
      "-3:-1 ['orange', 'kiwi']\n",
      "::1 ['apple', 'cherry', 'kiwi']\n",
      "[0][2] papaya\n"
     ]
    }
   ],
   "source": [
    "# List = string\n",
    "print('lista[início:fim:step]')\n",
    "print('all', thislist)\n",
    "print('all', thislist4)\n",
    "print('0', thislist[0])\n",
    "print('\"banana\"', thislist.index(\"banana\"))\n",
    "print('-1', thislist[-1])\n",
    "print('2:', thislist[2:])\n",
    "print('2:5', thislist[2:5])\n",
    "print('-3:', thislist[-3:])\n",
    "print('-3:-1', thislist[-3:-1])\n",
    "print('::1', thislist[::2])\n",
    "print('[0][2]', thislistNesed[0][2])"
   ]
  },
  {
   "cell_type": "markdown",
   "metadata": {},
   "source": [
    "#### Acessando Tuplas"
   ]
  },
  {
   "cell_type": "code",
   "execution_count": 21,
   "metadata": {},
   "outputs": [
    {
     "name": "stdout",
     "output_type": "stream",
     "text": [
      "tupla[início:fim:step]\n",
      "all ('apple', 'banana', 'cherry', 'orange', 'kiwi', 'mango')\n",
      "all (5, 5, 5, 2, 2, 3, 3, 4, 4, 4, 5, 5, 5)\n",
      "0 apple\n",
      "\"banana\" 1\n",
      "-1 mango\n",
      "2: ('cherry', 'orange', 'kiwi', 'mango')\n",
      "2:5 ('cherry', 'orange', 'kiwi')\n",
      "-3: ('orange', 'kiwi', 'mango')\n",
      "-3:-1 ('orange', 'kiwi')\n",
      "::1 ('apple', 'cherry', 'kiwi')\n"
     ]
    }
   ],
   "source": [
    "# Tuple = string\n",
    "print('tupla[início:fim:step]')\n",
    "print('all', thistuple)\n",
    "print('all', thistuple4)\n",
    "print('0', thistuple[0])\n",
    "print('\"banana\"', thistuple.index(\"banana\"))\n",
    "print('-1', thistuple[-1])\n",
    "print('2:', thistuple[2:])\n",
    "print('2:5', thistuple[2:5])\n",
    "print('-3:', thistuple[-3:])\n",
    "print('-3:-1', thistuple[-3:-1])\n",
    "print('::1', thistuple[::2])"
   ]
  },
  {
   "cell_type": "markdown",
   "metadata": {},
   "source": [
    "#### Acessando Conjuntos"
   ]
  },
  {
   "cell_type": "code",
   "execution_count": 35,
   "metadata": {},
   "outputs": [
    {
     "name": "stdout",
     "output_type": "stream",
     "text": [
      "lista[início:fim:step]\n",
      "all {'banana', 'orange', 'cherry', 'apple', 'kiwi', 'mango'}\n"
     ]
    }
   ],
   "source": [
    "print('lista[início:fim:step]')\n",
    "print('all', thisset)\n",
    "# print('0',thisset.)\n",
    "# print('-1',thistuple[-1])\n",
    "# print('2:',thistuple[2:])\n",
    "# print('2:5',thistuple[2:5])\n",
    "# print('-3:',thistuple[-3:])\n",
    "# print('-3:-1',thistuple[-3:-1])\n",
    "# print('::1',thistuple[::2])"
   ]
  },
  {
   "cell_type": "markdown",
   "metadata": {},
   "source": [
    "#### Acessando Dicionários"
   ]
  },
  {
   "cell_type": "code",
   "execution_count": 18,
   "metadata": {},
   "outputs": [
    {
     "name": "stdout",
     "output_type": "stream",
     "text": [
      "{'model': 'Mustang', 'year': 1964, 'brand': 'Ford'}\n",
      "Mustang\n",
      "Mustang\n",
      "None\n",
      "dict_keys(['model', 'year', 'brand'])\n",
      "dict_values(['Mustang', 1964, 'Ford'])\n",
      "dict_items([('model', 'Mustang'), ('year', 1964), ('brand', 'Ford')])\n"
     ]
    }
   ],
   "source": [
    "print(thisdict)\n",
    "print(thisdict[\"model\"])\n",
    "print(thisdict.get(\"model\"))\n",
    "print(thisdict.get(\"xpto\"))\n",
    "print(thisdict.keys())  # get list of keys\n",
    "print(thisdict.values())  # get list of values\n",
    "print(thisdict.items())  # get list of values"
   ]
  },
  {
   "cell_type": "markdown",
   "metadata": {},
   "source": [
    "## OrderedDict\n",
    "\n",
    "### `OrderedDict` vs `dict` em Python\n",
    "\n",
    "O `OrderedDict` (da biblioteca `collections`) é uma subclasse do dicionário (`dict`) que **mantém a ordem de inserção das chaves**, enquanto um `dict` comum (antes do Python 3.7) não garantia ordem. A partir do Python 3.7, os dicionários padrão (`dict`) também passaram a preservar a ordem de inserção, mas o `OrderedDict` ainda tem vantagens específicas.\n",
    "\n",
    "## **Principais benefícios do `OrderedDict`**\n",
    "1. **Garantia de ordem de inserção**  \n",
    "   - Antes do Python 3.7, `dict` não mantinha a ordem das chaves. O `OrderedDict` foi criado para resolver isso.\n",
    "   - Mesmo após o Python 3.7, `OrderedDict` ainda é útil em cenários onde a ordem é crítica e você quer garantir compatibilidade com versões antigas.\n",
    "\n",
    "2. **Métodos úteis para manipulação de ordem**  \n",
    "   - `move_to_end(key, last=True|False)`: Move uma chave para o início ou fim do dicionário.\n",
    "   - `popitem(last=True|False)`: Remove e retorna um item na ordem FIFO (útil para caches).\n",
    "\n",
    "3. **Igualdade (`==`) considera a ordem**  \n",
    "   - Dois `OrderedDict`s são iguais **somente** se tiverem as mesmas chaves, valores **e mesma ordem**.\n",
    "   - Um `dict` comum não considera a ordem na comparação.\n",
    "\n",
    "4. **Melhor para implementação de estruturas ordenadas**  \n",
    "   - Útil para LRU Caches (Least Recently Used), filas ordenadas e estruturas onde a ordem importa.\n",
    "\n",
    "## **Quando Usar `OrderedDict`?**\n",
    "✅ **Se você precisa de garantia de ordem em versões antigas do Python (< 3.7).**  \n",
    "✅ **Se precisa de métodos como `move_to_end()` ou `popitem(last=False)`.**  \n",
    "✅ **Se a ordem é parte da lógica do seu programa (ex: LRU Cache).**  \n",
    "\n",
    "❌ **Se você só quer um dicionário simples (Python ≥ 3.7, `dict` já é suficiente).**  \n",
    "\n",
    "### **Resumo**\n",
    "| **Característica**         | `dict` (Python ≥ 3.7) | `OrderedDict`              |\n",
    "| -------------------------- | --------------------- | -------------------------- |\n",
    "| Mantém ordem de inserção   | Sim                   | Sim                        |\n",
    "| Métodos de ordenação       | Não                   | (`move_to_end`, `popitem`) |\n",
    "| Comparação considera ordem | Não                   | Sim                        |\n",
    "| Eficiência                 | Mais rápido           | Um pouco mais lento        |"
   ]
  },
  {
   "cell_type": "code",
   "execution_count": 4,
   "metadata": {},
   "outputs": [
    {
     "name": "stdout",
     "output_type": "stream",
     "text": [
      "{'a': 1, 'b': 2, 'c': 3}\n",
      "OrderedDict([('a', 1), ('b', 2), ('c', 3)])\n"
     ]
    }
   ],
   "source": [
    "from collections import OrderedDict\n",
    "\n",
    "# Dicionário comum (Python ≥ 3.7 mantém ordem)\n",
    "d = {'a': 1, 'b': 2, 'c': 3}\n",
    "\n",
    "# OrderedDict (sempre mantém ordem)\n",
    "od = OrderedDict(d)\n",
    "\n",
    "print(d)       # {'a': 1, 'b': 2, 'c': 3} (ordem mantida, mas não garantida antes do Python 3.7)\n",
    "print(od)      # OrderedDict([('a', 1), ('b', 2), ('c', 3)]) (sempre ordenado)"
   ]
  },
  {
   "cell_type": "code",
   "execution_count": 2,
   "metadata": {},
   "outputs": [
    {
     "name": "stdout",
     "output_type": "stream",
     "text": [
      "OrderedDict([('a', 1), ('c', 3), ('b', 2)])\n",
      "OrderedDict([('c', 3), ('b', 2)])\n"
     ]
    }
   ],
   "source": [
    "od = OrderedDict([('a', 1), ('b', 2), ('c', 3)])\n",
    "\n",
    "# Move 'b' para o final\n",
    "od.move_to_end('b')\n",
    "print(od)  # OrderedDict([('a', 1), ('c', 3), ('b', 2)])\n",
    "\n",
    "# Remove o primeiro item (FIFO)\n",
    "od.popitem(last=False)\n",
    "print(od)  # OrderedDict([('c', 3), ('b', 2)])"
   ]
  },
  {
   "cell_type": "code",
   "execution_count": 6,
   "metadata": {},
   "outputs": [
    {
     "name": "stdout",
     "output_type": "stream",
     "text": [
      "True\n",
      "{'a': 1, 'b': 2}\n",
      "{'b': 2, 'a': 1}\n"
     ]
    }
   ],
   "source": [
    "d1 = {'a': 1, 'b': 2}\n",
    "d2 = {'b': 2, 'a': 1}\n",
    "print(d1 == d2)  # True (dict não considera ordem)\n",
    "print(d1)\n",
    "print(d2)"
   ]
  },
  {
   "cell_type": "code",
   "execution_count": 8,
   "metadata": {},
   "outputs": [
    {
     "name": "stdout",
     "output_type": "stream",
     "text": [
      "False\n",
      "OrderedDict([('a', 1), ('b', 2)])\n",
      "OrderedDict([('b', 2), ('a', 1)])\n"
     ]
    }
   ],
   "source": [
    "\n",
    "od1 = OrderedDict(d1)\n",
    "od2 = OrderedDict(d2)\n",
    "print(od1 == od2)  # False (OrderedDict compara ordem também)\n",
    "print(od1)\n",
    "print(od2)"
   ]
  },
  {
   "cell_type": "markdown",
   "metadata": {},
   "source": [
    "#### Alter"
   ]
  },
  {
   "cell_type": "code",
   "execution_count": 36,
   "metadata": {},
   "outputs": [
    {
     "name": "stdout",
     "output_type": "stream",
     "text": [
      "['apple', 'banana', 'cherry', 'orange', 'kiwi', 'mango']\n",
      "['apple', 'blackcurrant', 'cherry', 'orange', 'kiwi', 'mango']\n",
      "['apple', 'bbbb', 'watermelon', 'orange', 'kiwi', 'mango']\n",
      "{'brand': 'Ford', 'model': 'Mustang', 'year': 1964}\n",
      "{'brand': 'Ford', 'model': 'Mustang', 'year': 2018}\n",
      "{'brand': 'Ford', 'model': 'Mustang', 'year': 2020}\n"
     ]
    }
   ],
   "source": [
    "alias_list = thislist  # Referência\n",
    "copy_list = thislist.copy()\n",
    "\n",
    "print(thislist)\n",
    "thislist[1] = \"blackcurrant\"\n",
    "print(thislist)\n",
    "thislist[1:3] = [\"bbbb\", \"watermelon\"]\n",
    "print(thislist)\n",
    "\n",
    "print(thisdict)\n",
    "thisdict[\"year\"] = 2018\n",
    "print(thisdict)\n",
    "thisdict.update({\"year\": 2020})  # type: ignore\n",
    "print(thisdict)"
   ]
  },
  {
   "cell_type": "markdown",
   "metadata": {},
   "source": [
    "#### Insert"
   ]
  },
  {
   "cell_type": "code",
   "execution_count": 42,
   "metadata": {},
   "outputs": [
    {
     "name": "stdout",
     "output_type": "stream",
     "text": [
      "['apple', 'banana', 'cherry', 'orange', 'kiwi', 'mango']\n",
      "['apple', 'banana', 'watermelon', 'cherry', 'orange', 'kiwi', 'mango']\n",
      "['apple', 'banana', 'watermelon', 'cherry', 'orange', 'kiwi', 'mango', 'orange']\n",
      "['apple', 'banana', 'watermelon', 'cherry', 'orange', 'kiwi', 'mango', 'orange', 'mango', 'pineapple', 'papaya']\n",
      "['apple', 'banana', 'watermelon', 'cherry', 'orange', 'kiwi', 'mango', 'orange', 'mango', 'pineapple', 'papaya', 'apple', 'banana', 'cherry', 'orange', 'kiwi', 'mango']\n",
      "('apple', 'banana', 'cherry', 'orange', 'kiwi', 'mango')\n",
      "('apple', 'banana', 'cherry', 'orange', 'kiwi', 'mango', 'orange')\n",
      "('apple', 'banana', 'cherry', 'orange', 'kiwi', 'mango', 'orange', 'orange')\n",
      "{'brand': 'Ford', 'model': 'Mustang', 'year': 1964}\n",
      "{'brand': 'Ford', 'model': 'Mustang', 'year': 1964, 'color': 'red'}\n"
     ]
    }
   ],
   "source": [
    "print(thislist)\n",
    "thislist.insert(2, \"watermelon\")\n",
    "print(thislist)\n",
    "thislist.append(\"orange\")\n",
    "print(thislist)\n",
    "thislist.extend(tropical)\n",
    "print(thislist)\n",
    "thislist.extend(thistuple)\n",
    "print(thislist)\n",
    "\n",
    "print(thistuple)\n",
    "y = list(thistuple)\n",
    "y.append(\"orange\")\n",
    "thistuple = tuple(y)\n",
    "print(thistuple)\n",
    "\n",
    "thistuple += (\"orange\", )\n",
    "print(thistuple)\n",
    "\n",
    "print(thisdict)\n",
    "thisdict[\"color\"] = \"red\"\n",
    "thisdict.update({\"color\": \"red\"})  # type: ignore\n",
    "print(thisdict)"
   ]
  },
  {
   "cell_type": "markdown",
   "metadata": {},
   "source": [
    "#### Unpack"
   ]
  },
  {
   "cell_type": "code",
   "execution_count": 5,
   "metadata": {},
   "outputs": [
    {
     "name": "stdout",
     "output_type": "stream",
     "text": [
      "apple\n",
      "banana\n",
      "cherry\n"
     ]
    }
   ],
   "source": [
    "thistuple = (\"apple\", \"banana\", \"cherry\")\n",
    "(fruit1, fruit2, fruit3) = thistuple\n",
    "print(fruit1)\n",
    "print(fruit2)\n",
    "print(fruit3)"
   ]
  },
  {
   "cell_type": "markdown",
   "metadata": {},
   "source": [
    "#### Loop"
   ]
  },
  {
   "cell_type": "code",
   "execution_count": 6,
   "metadata": {},
   "outputs": [
    {
     "name": "stdout",
     "output_type": "stream",
     "text": [
      "### List 1\n",
      "apple\n",
      "bbbb\n",
      "watermelon\n",
      "watermelon\n",
      "orange\n",
      "kiwi\n",
      "mango\n",
      "orange\n",
      "mango\n",
      "pineapple\n",
      "papaya\n",
      "apple\n",
      "banana\n",
      "cherry\n",
      "\n",
      "### List 2\n",
      "apple\n",
      "bbbb\n",
      "watermelon\n",
      "watermelon\n",
      "orange\n",
      "kiwi\n",
      "mango\n",
      "orange\n",
      "mango\n",
      "pineapple\n",
      "papaya\n",
      "apple\n",
      "banana\n",
      "cherry\n",
      "\n",
      "### List 4\n",
      "apple\n",
      "bbbb\n",
      "watermelon\n",
      "watermelon\n",
      "orange\n",
      "kiwi\n",
      "mango\n",
      "orange\n",
      "mango\n",
      "pineapple\n",
      "papaya\n",
      "apple\n",
      "banana\n",
      "cherry\n",
      "\n",
      "### thisset\n",
      "apple\n",
      "banana\n",
      "cherry\n",
      "\n",
      "### thisdict 1\n",
      "brand Ford\n",
      "model Mustang\n",
      "year 2020\n",
      "color red\n",
      "\n",
      "### thisdict 2\n",
      "brand\n",
      "model\n",
      "year\n",
      "color\n",
      "\n",
      "### thisdict 3\n",
      "Ford\n",
      "Mustang\n",
      "2020\n",
      "red\n",
      "\n",
      "### thisdict 4\n",
      "brand Ford\n",
      "model Mustang\n",
      "year 2020\n",
      "color red\n",
      "\n"
     ]
    }
   ],
   "source": [
    "print('### List 1')\n",
    "for x in thislist:\n",
    "    print(x)\n",
    "print()\n",
    "\n",
    "print('### List 2')\n",
    "for i in range(len(thislist)):\n",
    "    print(thislist[i])\n",
    "print()\n",
    "\n",
    "print('### List 4')\n",
    "i = 0\n",
    "while i < len(thislist):\n",
    "    print(thislist[i])\n",
    "    i += 1\n",
    "print()\n",
    "\n",
    "# idem tuple\n",
    "\n",
    "print('### thisset')\n",
    "for x in thisset:\n",
    "    print(x)\n",
    "print()\n",
    "\n",
    "print('### thisdict 1')\n",
    "for x in thisdict:\n",
    "    print(x, thisdict[x])\n",
    "print()\n",
    "\n",
    "print('### thisdict 2')\n",
    "for x in thisdict.keys():\n",
    "    print(x)\n",
    "print()\n",
    "\n",
    "print('### thisdict 3')\n",
    "for x in thisdict.values():\n",
    "    print(x)\n",
    "print()\n",
    "\n",
    "print('### thisdict 4')\n",
    "for x, y in thisdict.items():\n",
    "    print(x, y)\n",
    "print()"
   ]
  },
  {
   "cell_type": "markdown",
   "metadata": {},
   "source": [
    "#### Comprehension\n",
    "```python\n",
    "newlist = [<expression> for <item> in <iterable> if <condition == True>] \n",
    "newlist = [<expression> for <item> in <iterable>]\n",
    "newlist = [<expression> if <condition == True> else <value> for <item> in <iterable>] \n",
    "```"
   ]
  },
  {
   "cell_type": "code",
   "execution_count": 7,
   "metadata": {},
   "outputs": [
    {
     "name": "stdout",
     "output_type": "stream",
     "text": [
      "apple\n",
      "bbbb\n",
      "watermelon\n",
      "watermelon\n",
      "orange\n",
      "kiwi\n",
      "mango\n",
      "orange\n",
      "mango\n",
      "pineapple\n",
      "papaya\n",
      "apple\n",
      "banana\n",
      "cherry\n",
      "\n",
      "['apple', 'watermelon', 'watermelon', 'orange', 'mango', 'orange', 'mango', 'pineapple', 'papaya', 'apple', 'banana']\n",
      "['apple', 'bbbb', 'watermelon', 'watermelon', 'orange', 'kiwi', 'mango', 'orange', 'mango', 'pineapple', 'papaya', 'apple', 'orange', 'cherry']\n"
     ]
    }
   ],
   "source": [
    "[print(x) for x in thislist]\n",
    "print()\n",
    "\n",
    "newlist = []\n",
    "for x in thislist:\n",
    "    if \"a\" in x:\n",
    "        newlist.append(x)\n",
    "\n",
    "newlist = [x for x in thislist if \"a\" in x]\n",
    "print(newlist)\n",
    "\n",
    "newlist = [x if x != \"banana\" else \"orange\" for x in thislist]\n",
    "print(newlist)"
   ]
  },
  {
   "cell_type": "markdown",
   "metadata": {},
   "source": [
    "#### Sort"
   ]
  },
  {
   "cell_type": "code",
   "execution_count": 8,
   "metadata": {},
   "outputs": [
    {
     "name": "stdout",
     "output_type": "stream",
     "text": [
      "['apple', 'apple', 'banana', 'bbbb', 'cherry', 'kiwi', 'mango', 'mango', 'orange', 'orange', 'papaya', 'pineapple', 'watermelon', 'watermelon']\n",
      "['watermelon', 'watermelon', 'pineapple', 'papaya', 'orange', 'orange', 'mango', 'mango', 'kiwi', 'cherry', 'bbbb', 'banana', 'apple', 'apple']\n",
      "[50, 65, 23, 82, 100]\n",
      "[100, 82, 23, 65, 50]\n",
      "['apple', 'apple', 'banana', 'mango', 'mango', 'orange', 'orange', 'papaya', 'pineapple', 'watermelon', 'watermelon']\n"
     ]
    }
   ],
   "source": [
    "thislist.sort()\n",
    "print(thislist)\n",
    "\n",
    "thislist.sort(reverse=True)\n",
    "print(thislist)\n",
    "\n",
    "\n",
    "def myfunc(n):\n",
    "    return abs(n - 50)\n",
    "\n",
    "\n",
    "thislist = [100, 50, 65, 82, 23]\n",
    "thislist.sort(key=myfunc)\n",
    "print(thislist)\n",
    "\n",
    "thislist.reverse()\n",
    "print(thislist)\n",
    "\n",
    "thislist = [\n",
    "    'apple', 'watermelon', 'watermelon', 'orange', 'mango', 'orange', 'mango',\n",
    "    'pineapple', 'papaya', 'apple', 'banana'\n",
    "]\n",
    "thislist.sort(key=str.lower)\n",
    "print(thislist)"
   ]
  },
  {
   "cell_type": "markdown",
   "metadata": {},
   "source": [
    "#### Copy"
   ]
  },
  {
   "cell_type": "code",
   "execution_count": 9,
   "metadata": {},
   "outputs": [
    {
     "name": "stdout",
     "output_type": "stream",
     "text": [
      "['apple', 'banana', 'cherry']\n",
      "['apple', 'banana', 'cherry']\n",
      "{'brand': 'Ford', 'model': 'Mustang', 'year': 2020, 'color': 'red'}\n",
      "{'brand': 'Ford', 'model': 'Mustang', 'year': 2020, 'color': 'red'}\n"
     ]
    }
   ],
   "source": [
    "thislist = [\"apple\", \"banana\", \"cherry\"]\n",
    "mylist = thislist.copy()\n",
    "print(mylist)\n",
    "\n",
    "mylist = list(thislist)\n",
    "print(mylist)\n",
    "\n",
    "mydict = thisdict.copy()\n",
    "print(mydict)\n",
    "\n",
    "mydict = dict(thisdict)\n",
    "print(mydict)"
   ]
  },
  {
   "cell_type": "markdown",
   "metadata": {},
   "source": [
    "#### Join"
   ]
  },
  {
   "cell_type": "code",
   "execution_count": 10,
   "metadata": {},
   "outputs": [
    {
     "name": "stdout",
     "output_type": "stream",
     "text": [
      "['a', 'b', 'c', 1, 2, 3]\n",
      "['a', 'b', 'c', 1, 2, 3]\n",
      "['a', 'b', 'c', 1, 2, 3]\n",
      "{1, 2, 'c', 3, 'a', 'b'}\n",
      "{1, 2, 'c', 3, 'a', 'b'}\n",
      "{'apple'}\n",
      "{'apple'}\n",
      "{'google', 'microsoft', 'banana', 'cherry'}\n",
      "{'google', 'microsoft', 'banana', 'cherry'}\n"
     ]
    }
   ],
   "source": [
    "list1 = [\"a\", \"b\", \"c\"]\n",
    "list2 = [1, 2, 3]\n",
    "list3 = list1 + list2\n",
    "print(list3)\n",
    "\n",
    "list1 = [\"a\", \"b\", \"c\"]\n",
    "list2 = [1, 2, 3]\n",
    "for x in list2:\n",
    "    list1.append(x)\n",
    "print(list1)\n",
    "\n",
    "list1 = [\"a\", \"b\", \"c\"]\n",
    "list2 = [1, 2, 3]\n",
    "list1.extend(list2)\n",
    "print(list1)\n",
    "\n",
    "set1 = {\"a\", \"b\", \"c\"}\n",
    "set2 = {1, 2, 3}\n",
    "set3 = set1.union(set2)\n",
    "print(set3)\n",
    "\n",
    "set1 = {\"a\", \"b\", \"c\"}\n",
    "set2 = {1, 2, 3}\n",
    "set1.update(set2)\n",
    "print(set1)\n",
    "\n",
    "x = {\"apple\", \"banana\", \"cherry\"}\n",
    "y = {\"google\", \"microsoft\", \"apple\"}\n",
    "x.intersection_update(y)\n",
    "print(x)\n",
    "\n",
    "x = {\"apple\", \"banana\", \"cherry\"}\n",
    "y = {\"google\", \"microsoft\", \"apple\"}\n",
    "z = x.intersection(y)\n",
    "print(z)\n",
    "\n",
    "x = {\"apple\", \"banana\", \"cherry\"}\n",
    "y = {\"google\", \"microsoft\", \"apple\"}\n",
    "x.symmetric_difference_update(y)\n",
    "print(x)\n",
    "\n",
    "x = {\"apple\", \"banana\", \"cherry\"}\n",
    "y = {\"google\", \"microsoft\", \"apple\"}\n",
    "z = x.symmetric_difference(y)\n",
    "print(z)"
   ]
  },
  {
   "cell_type": "markdown",
   "metadata": {},
   "source": [
    "#### Remove"
   ]
  },
  {
   "cell_type": "code",
   "execution_count": null,
   "metadata": {},
   "outputs": [],
   "source": [
    "thislist = [\"apple\", \"banana\", \"cherry\", \"apple\", \"banana\", \"cherry\"]\n",
    "thislist.remove(\"banana\")\n",
    "del thislist[1]  # Remove the second item. same unset php\n",
    "thislist.pop(0)  # Remove the first item\n",
    "thislist.pop(1)  # Remove the second item\n",
    "thislist.pop(-1)  # Remove last item\n",
    "thislist.pop()  # Remove last item\n",
    "thislist.clear()  # Clear the List\n",
    "del thislist  # Delete the entire list. same unset php\n",
    "\n",
    "thistuple = (\"apple\", \"banana\", \"cherry\")\n",
    "y = list(thistuple)\n",
    "y.remove(\"apple\")\n",
    "thistuple = tuple(y)\n",
    "\n",
    "thisdict = {\"brand\": \"Ford\", \"model\": \"Mustang\", \"year\": 1964}\n",
    "thisdict.pop('model')\n",
    "del thisdict[\"year\"]\n",
    "thisdict.popitem()  # removes the last inserted\n",
    "thisdict.clear()"
   ]
  },
  {
   "cell_type": "markdown",
   "metadata": {},
   "source": [
    "Transpose"
   ]
  },
  {
   "cell_type": "code",
   "execution_count": 1,
   "metadata": {},
   "outputs": [],
   "source": [
    "import numpy as np\n",
    "import six"
   ]
  },
  {
   "cell_type": "code",
   "execution_count": 48,
   "metadata": {},
   "outputs": [
    {
     "name": "stdout",
     "output_type": "stream",
     "text": [
      "[[1, 4, 7], [2, 5, 8], [3, 6, 9]]\n",
      "[[1, 4, 7], [2, 5, 8], [3, 6, 9]]\n",
      "[[1, 4, 7], [2, 5, 8], [3, 6, 9]]\n",
      "[[1, 4, 7], [2, 5, 8], [3, 6, 9]]\n",
      "[[1, 4, 7], [2, 5, 8], [3, 6, 9]]\n",
      "[[1, 4, 7], [2, 5, 8], [3, 6, 9]]\n",
      "[[1, 4, 7], [2, 5, 8], [3, 6, 9]]\n"
     ]
    }
   ],
   "source": [
    "l = [[1, 2, 3], [4, 5, 6], [7, 8, 9]]\n",
    "\n",
    "print(list(map(list, zip(*l))))\n",
    "print(list(map(lambda *x: list(x), *l)))\n",
    "# print(list(map(list, itertools.zip_longest(*l, fillvalue=None))))\n",
    "print([[row[i] for row in l] for i in range(len(l[0]))])\n",
    "print(list(map(list, six.moves.zip_longest(*l, fillvalue='-'))))\n",
    "print(np.array(l).T.tolist())\n",
    "print(list(map(list, np.transpose(l))))"
   ]
  },
  {
   "cell_type": "code",
   "execution_count": 47,
   "metadata": {},
   "outputs": [
    {
     "name": "stdout",
     "output_type": "stream",
     "text": [
      "{'Apple': 'In stock', 'Pear': 'In stock', 'Peach': 'In stock', 'Banana': 'In stock'}\n",
      "{'Apple': 'In stock', 'Pear': 'In stock', 'Peach': 'In stock', 'Banana': 'In stock'}\n",
      "{'Apple': 0.35, 'Pear': 0.4, 'Peach': 0.4, 'Banana': 0.28}\n"
     ]
    }
   ],
   "source": [
    "fruits = [\"Apple\", \"Pear\", \"Peach\", \"Banana\"]\n",
    "prices = [0.35, 0.40, 0.40, 0.28]\n",
    "\n",
    "print(dict.fromkeys(fruits, \"In stock\"))\n",
    "print({fruit: \"In stock\" for fruit in fruits})\n",
    "print(dict(zip(fruits, prices)))"
   ]
  },
  {
   "cell_type": "code",
   "execution_count": 43,
   "metadata": {},
   "outputs": [
    {
     "name": "stdout",
     "output_type": "stream",
     "text": [
      "x y z\n",
      "[1, 2, 3] [4, 5, 6] [7, 8, 9]\n",
      "dict_values([[1, 2, 3], [4, 5, 6], [7, 8, 9]])\n",
      "[([1, 2, 3],), ([4, 5, 6],), ([7, 8, 9],)]\n",
      "[{'x': 1, 'y': 4, 'z': 7}, {'x': 2, 'y': 5, 'z': 8}, {'x': 3, 'y': 6, 'z': 9}]\n",
      "[{'x': 1, 'y': 2, 'z': 3}, {'x': 4, 'y': 5, 'z': 6}, {'x': 7, 'y': 8, 'z': 9}]\n"
     ]
    }
   ],
   "source": [
    "t = {'x': [1, 2, 3], 'y': [4, 5, 6], 'z': [7, 8, 9]}\n",
    "\n",
    "print(*t)\n",
    "print(*t.values())\n",
    "print(t.values())\n",
    "print(list(zip(t.values())))\n",
    "print([dict(zip(t, col)) for col in zip(*t.values())])\n",
    "print([dict(zip(t, col)) for col in t.values()])"
   ]
  },
  {
   "cell_type": "code",
   "execution_count": 65,
   "metadata": {},
   "outputs": [
    {
     "name": "stdout",
     "output_type": "stream",
     "text": [
      "{'brand': ['Ford', 'BMW', 'Honda', 'Fiat'], 'model': ['Mustang', 'X8', 'Civic', 'Cronos'], 'year': [1964, 2023, 2005, 2020]}\n",
      "{'brand': 'Ford', 'model': 'Mustang', 'year': 1964} {'brand': 'BMW', 'model': 'X8', 'year': 2023} {'brand': 'Honda', 'model': 'Civic', 'year': 2005} {'brand': 'Fiat', 'model': 'Cronos', 'year': 2020}\n"
     ]
    }
   ],
   "source": [
    "t = [\n",
    "    {\"brand\": \"Ford\", \"model\": \"Mustang\", \"year\": 1964},\n",
    "    {\"brand\": \"BMW\", \"model\": \"X8\", \"year\": 2023},\n",
    "    {\"brand\": \"Honda\", \"model\": \"Civic\", \"year\": 2005},\n",
    "    {\"brand\": \"Fiat\", \"model\": \"Cronos\", \"year\": 2020},\n",
    "]\n",
    "\n",
    "print({k: list(map(lambda d: d[k], t)) for k in t[0].keys()})\n",
    "print(*t)"
   ]
  },
  {
   "cell_type": "code",
   "execution_count": 100,
   "metadata": {},
   "outputs": [
    {
     "name": "stdout",
     "output_type": "stream",
     "text": [
      "raw: 123\n",
      "transp: 321\n",
      "\n",
      "raw: 123.456\n",
      "transp: 456.123\n",
      "\n",
      "raw: 1\t2\t3\n",
      "4\t5\t6\n",
      "7\t8\t9\n",
      "transp: 1\t4\t7\n",
      "2\t5\t8\n",
      "3\t6\t9\n",
      "\n",
      "raw: {'x': [1, 2, 3], 'y': [4, 5, 6], 'z': [7, 8, 9]}\n",
      "transp: [{'x': 1, 'y': 2, 'z': 3}, {'x': 4, 'y': 5, 'z': 6}, {'x': 7, 'y': 8, 'z': 9}]\n",
      "\n",
      "raw: [[1, 2, 3], [4, 5, 6], [7, 8, 9]]\n",
      "transp: [[1, 4, 7], [2, 5, 8], [3, 6, 9]]\n",
      "\n",
      "raw: [{'brand': 'Ford', 'model': 'Mustang', 'year': 1964}, {'brand': 'BMW', 'model': 'X8', 'year': 2023}, {'brand': 'Honda', 'model': 'Civic', 'year': 2005}, {'brand': 'Fiat', 'model': 'Cronos', 'year': 2020}]\n",
      "transp: {'brand': ['Ford', 'BMW', 'Honda', 'Fiat'], 'model': ['Mustang', 'X8', 'Civic', 'Cronos'], 'year': [1964, 2023, 2005, 2020]}\n",
      "\n"
     ]
    }
   ],
   "source": [
    "import re\n",
    "\n",
    "\n",
    "def transpose(val: 'list|tuple|dict') -> 'list|tuple|dict|int|float|str|None':\n",
    "    t = type(val)\n",
    "    if t == dict:\n",
    "        return [dict(zip(val, col)) for col in val.values()]\n",
    "    if t in [list, tuple]:\n",
    "        if not val:\n",
    "            return\n",
    "        t = type(val[0])\n",
    "        if t == dict:\n",
    "            return {k: list(map(lambda d: d[k], val)) for k in val[0].keys()}\n",
    "        elif t in [list, tuple]:\n",
    "            return list(map(list, zip(*val)))\n",
    "    if t == int:\n",
    "        return int(f'{val}'[::-1])\n",
    "    if t == float:\n",
    "        return float('.'.join(f'{val}'.split('.')[::-1]))\n",
    "    if t == str:\n",
    "        val = val.replace('\\r\\n', '\\n').replace('\\r', '\\n')\n",
    "        x = str(transpose([i.split('\\t') for i in val.split('\\n')]))\n",
    "        return '\\n'.join(['\\t'.join(i) for i in x])\n",
    "    return val\n",
    "\n",
    "\n",
    "tests = [\n",
    "    123,\n",
    "    123.456,\n",
    "    '1\\t2\\t3\\n4\\t5\\t6\\n7\\t8\\t9',\n",
    "    {'x': [1, 2, 3], 'y': [4, 5, 6], 'z': [7, 8, 9]},\n",
    "    [[1, 2, 3], [4, 5, 6], [7, 8, 9]],\n",
    "    [\n",
    "        {\"brand\": \"Ford\", \"model\": \"Mustang\", \"year\": 1964},\n",
    "        {\"brand\": \"BMW\", \"model\": \"X8\", \"year\": 2023},\n",
    "        {\"brand\": \"Honda\", \"model\": \"Civic\", \"year\": 2005},\n",
    "        {\"brand\": \"Fiat\", \"model\": \"Cronos\", \"year\": 2020},\n",
    "    ],\n",
    "]\n",
    "for i in tests:\n",
    "    print('raw:', i)\n",
    "    print('transp:', transpose(i))\n",
    "    print()"
   ]
  },
  {
   "cell_type": "code",
   "execution_count": 88,
   "metadata": {},
   "outputs": [
    {
     "data": {
      "text/plain": [
       "456.123"
      ]
     },
     "execution_count": 88,
     "metadata": {},
     "output_type": "execute_result"
    }
   ],
   "source": [
    "float('.'.join('123.456'.split('.')[::-1]))"
   ]
  },
  {
   "cell_type": "markdown",
   "metadata": {},
   "source": [
    "Resume list of list"
   ]
  },
  {
   "cell_type": "code",
   "execution_count": 55,
   "metadata": {},
   "outputs": [
    {
     "name": "stdout",
     "output_type": "stream",
     "text": [
      "[{'brand': 'Ford', 'model': 'Mustang', 'year': 1964}, {'brand': 'BMW', 'model': 'X8', 'year': 2023}, {'brand': 'Honda', 'model': 'Civic', 'year': 2005}, {'brand': 'Fiat', 'model': 'Cronos', 'year': 2020}]\n"
     ]
    }
   ],
   "source": [
    "table = [\n",
    "    [{\"brand\": \"Ford\", \"model\": \"Mustang\", \"year\": 1964},\n",
    "        {\"brand\": \"BMW\", \"model\": \"X8\", \"year\": 2023},],\n",
    "    [{\"brand\": \"Honda\", \"model\": \"Civic\", \"year\": 2005},],\n",
    "    [{\"brand\": \"Fiat\", \"model\": \"Cronos\", \"year\": 2020},],\n",
    "]\n",
    "# print(list(itertools.chain.from_iterable(table)))"
   ]
  }
 ],
 "metadata": {
  "kernelspec": {
   "display_name": "Python 3",
   "language": "python",
   "name": "python3"
  },
  "language_info": {
   "codemirror_mode": {
    "name": "ipython",
    "version": 3
   },
   "file_extension": ".py",
   "mimetype": "text/x-python",
   "name": "python",
   "nbconvert_exporter": "python",
   "pygments_lexer": "ipython3",
   "version": "3.12.4"
  },
  "orig_nbformat": 4
 },
 "nbformat": 4,
 "nbformat_minor": 2
}
