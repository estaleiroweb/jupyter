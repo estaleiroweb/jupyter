{
 "cells": [
  {
   "cell_type": "markdown",
   "metadata": {},
   "source": [
    "# Tipo de Dados"
   ]
  },
  {
   "cell_type": "markdown",
   "metadata": {},
   "source": [
    "## Comportamento\n",
    "\n",
    "- **Iterable** - useful for generators.\n",
    "- **Any** - when it could be anything.\n",
    "- **Union** - when it could be anything within a specified set of types, as opposed to Any.\n",
    "- **Optional** - when it might be None. Shorthand for Union[T, None].\n",
    "- **TypeVar** - used with generics.\n",
    "- **Callable** - used primarily for functions, but could be used for other callables."
   ]
  },
  {
   "cell_type": "markdown",
   "metadata": {},
   "source": [
    "## Primitivos Simples\n",
    "\n",
    "- int: Inteiro\n",
    "- float: Ponto Flutuante\n",
    "- bool: Booleano\n",
    "- str: String\n",
    "\n",
    "## Derivados\n",
    "\n",
    "- char: Caracter\n",
    "- byte: Byte\n",
    "- short: Short\n",
    "- long: Long\n",
    "- double: Double\n",
    "- void: Nada\n",
    "\n",
    "## Compostos\n",
    "\n",
    "- list: Listas\n",
    "- tuple: Tuplas\n",
    "- set: Conjuntos\n",
    "- dict: Dicionários\n"
   ]
  },
  {
   "cell_type": "markdown",
   "metadata": {},
   "source": [
    "## Classes\n",
    "\n",
    "| Class     | Types                         |\n",
    "|-----------|-------------------------------|\n",
    "| Text      | str                           |\n",
    "| Numeric   | int, float, complex           |\n",
    "| Sequence  | list, tuple, range            |\n",
    "| Mapping   | dict                          |\n",
    "| Set       | set, frozenset                |\n",
    "| Boolean   | bool                          |\n",
    "| Binary    | bytes, bytearray, memoryview  |\n",
    "| None      | NoneType                      |"
   ]
  },
  {
   "cell_type": "markdown",
   "metadata": {},
   "source": [
    "## Atribuições\n",
    "\n",
    "| Types        | Direct Assign                                   | Function Assign\n",
    "|--------------|-------------------------------------------------|--------------------------------------------------\n",
    "| NoneType     | x = None                                        | x = None\n",
    "| int          | x = 20                                          | x = int(20)\n",
    "| float        | x = 20.5                                        | x = float(20.5)\n",
    "| complex      | x = 1j                                          | x = complex(1j)\n",
    "| list         | x = ['apple', 'banana', 'cherry']               | x = list((\"apple\", \"banana\", \"cherry\"))\n",
    "| tuple        | x = ('apple', 'banana', 'cherry')               | x = tuple((\"apple\", \"banana\", \"cherry\"))\n",
    "| set          | x = {'apple', 'banana', 'cherry'}               | x = set((\"apple\", \"banana\", \"cherry\"))\n",
    "| dict         | x = {'name' : 'John', 'age' : 36}               | x = dict(name=\"John\", age=36)\n",
    "| range        | x = range(6)                                    | x = range(6)\n",
    "| bytearray    | x = bytearray(5)                                | x = bytearray(5)\n",
    "| memoryview   | x = memoryview(bytes(5))                        | x = memoryview(bytes(5))\n",
    "| frozenset    | x = frozenset({'apple', 'banana', 'cherry'})    | x = frozenset((\"apple\", \"banana\", \"cherry\"))\n",
    "| bool         | x = True                                        | x = bool(5)\n",
    "| str          | x = 'Hello World'                               | x = str(\"Hello World\")\n",
    "| str          | x = \"Hello World\"                               | x = str(\"Hello World\")\n",
    "| str/comment  | x = '''Hello World'''                           | x = str(\"Hello World\")\n",
    "| str/comment  | x = \"\"\"Hello World\"\"\"                           | x = str(\"Hello World\")\n",
    "| str(unicode) | x = u'Hello'                                    | x = str(\"Hello World\")\n",
    "| str(called)  | x = f'texto {variable} texto {variable:3d} {variable:.3f}' |\n",
    "| str(raw)     | x = r'Hello'                                    | x = r'Hello'\n",
    "| bytes        | x = b'Hello'                                    | x = bytes(5)\n",
    "| bytearray    | x = bytearray(5)                                | x = bytearray(5)\n"
   ]
  },
  {
   "cell_type": "code",
   "execution_count": null,
   "metadata": {},
   "outputs": [
    {
     "name": "stdout",
     "output_type": "stream",
     "text": [
      "NoneType        <class 'NoneType'>        None\n",
      "int             <class 'int'>             20\n",
      "float           <class 'float'>           20.5\n",
      "complex         <class 'complex'>         1j\n",
      "list            <class 'list'>            ['apple', 'banana', 'cherry']\n",
      "tuple           <class 'tuple'>           ('apple', 'banana', 'cherry')\n",
      "set             <class 'set'>             {'apple', 'cherry', 'banana'}\n",
      "dict            <class 'dict'>            {'name': 'John', 'age': 36}\n",
      "range           <class 'range'>           range(0, 6)\n",
      "bytearray       <class 'bytearray'>       bytearray(b'\\x00\\x00\\x00\\x00\\x00')\n",
      "memoryview      <class 'memoryview'>      <memory at 0x00000178AA3024C8>\n",
      "frozenset       <class 'frozenset'>       frozenset({'apple', 'cherry', 'banana'})\n",
      "bool            <class 'bool'>            True\n",
      "str             <class 'str'>             Hello World\n",
      "str/comment     <class 'str'>             Hello World\n",
      "str(unicode)    <class 'str'>             Hello\n",
      "\n",
      "str(called)     <class 'str'>             texto test, decimal  12, float 1.235\n",
      "\n",
      "str(raw)        <class 'str'>             Hello\\n\n",
      "bytes           <class 'bytes'>           b'Hello\\n'\n"
     ]
    }
   ],
   "source": [
    "varStr = 'test'\n",
    "varFloat = 1.234567\n",
    "varDec = 12\n",
    "\n",
    "myDict = {\n",
    "    'NoneType': None,\n",
    "    'int': 20,\n",
    "    'float': 20.5,\n",
    "    'complex': 1j,\n",
    "    'list': ['apple', 'banana', 'cherry'],\n",
    "    'tuple': ('apple', 'banana', 'cherry'),\n",
    "    'set': {'apple', 'banana', 'cherry'},\n",
    "    'dict': {\n",
    "        'name': 'John',\n",
    "        'age': 36\n",
    "    },\n",
    "    'range': range(6),\n",
    "    'bytearray': bytearray(5),\n",
    "    'memoryview': memoryview(bytes(5)),\n",
    "    'frozenset': frozenset({'apple', 'banana', 'cherry'}),\n",
    "    'bool': True,\n",
    "    'str': 'Hello World',\n",
    "    'str': \"Hello World\",\n",
    "    'str/comment': '''Hello World''',\n",
    "    'str/comment': \"\"\"Hello World\"\"\",\n",
    "    'str(unicode)': u'Hello\\n',\n",
    "    'str(called)':\n",
    "    f'texto {varStr}, decimal {varDec:3d}, float {varFloat:.3f}\\n',\n",
    "    'str(raw)': r'Hello\\n',\n",
    "    'bytes': b'Hello\\n',\n",
    "    'bytearray': bytearray(5),\n",
    "}\n",
    "for k, v in myDict.items():\n",
    "    t = str(type(v))\n",
    "    print(f'{k: <15}', f'{t: <25}', v)\n"
   ]
  },
  {
   "cell_type": "markdown",
   "metadata": {},
   "source": [
    "## Typing Module"
   ]
  },
  {
   "cell_type": "code",
   "execution_count": null,
   "metadata": {},
   "outputs": [],
   "source": [
    "from typing import Any, List, Dict, Set, Sequence, Tuple, Callable, Optional, Generic, TypeVar, TypeAlias\n",
    "\n",
    "# !pip install mypy\n",
    "# mypy <file> # to check types"
   ]
  },
  {
   "cell_type": "code",
   "execution_count": null,
   "metadata": {},
   "outputs": [],
   "source": [
    "def add_num(a: int, b: int, c: int) -> int:\n",
    "    return a + b + c\n",
    "\n",
    "\n",
    "def show_add_num(a: int, b: int, c: int) -> None:\n",
    "    print(a + b + c)"
   ]
  },
  {
   "cell_type": "code",
   "execution_count": null,
   "metadata": {},
   "outputs": [],
   "source": [
    "a: int = 1\n",
    "b: 'int|str'=1\n",
    "# c: 'list[int]' = [1,2,3] # ERROR \n",
    "# d: 'list[list[int]]' = [[1,2,3],[1,2,3]] # ERROR \n",
    "e: 'list|tuple'=[1,2,3]\n",
    "f: List[List[int]] = [[1,2,3],[1,2,3]]\n",
    "# g: dict[str,str] = {'a':'b'} # ERROR \n",
    "h: Dict[str,str] = {'a':'b'}\n",
    "i: Set[str] = {'a','b'}\n",
    "j: Sequence[int] = [1,2,3]\n",
    "k: Sequence[int] = (1,2,3)\n",
    "l: tuple = (1,2,3)\n",
    "m: Tuple[int,int,int] = (1,2,3)\n"
   ]
  },
  {
   "cell_type": "code",
   "execution_count": null,
   "metadata": {},
   "outputs": [],
   "source": [
    "Vector = List[float]\n",
    "Vectors = List[Vector]\n",
    "\n",
    "\n",
    "def fn(x: int, y: int) -> None:\n",
    "    print(x + y)\n",
    "\n",
    "\n",
    "def f1(v: Vectors) -> Vector: # type: ignore\n",
    "    pass\n",
    "\n",
    "\n",
    "def f2(v: Optional[bool] = False):\n",
    "    ...\n",
    "\n",
    "\n",
    "def f3(v: Any):\n",
    "    pass\n",
    "\n",
    "\n",
    "def f4(fn: Callable[[int, int, Optional[int]], int]) -> None:\n",
    "    fn(1, 2) # type: ignore\n",
    "\n",
    "\n",
    "def f5(x: int, y: int) -> int:\n",
    "    return x + y\n",
    "\n",
    "\n",
    "def f6(x: int, y: int, z: int = 0) -> int:\n",
    "    return x + y + z\n",
    "\n",
    "\n",
    "def f7() -> Callable[[int, int, Optional[int]], int]:\n",
    "    def xpto(x: int, y: int, z: int = 3) -> int:\n",
    "        return x + y\n",
    "    return xpto # type: ignore\n",
    "\n",
    "\n",
    "def f8() -> Callable[[int, int], int]:\n",
    "    return lambda x, y: x + y\n",
    "\n",
    "\n",
    "def f9() -> Callable[[int, int], int]:\n",
    "    fn: Callable[[int, int], int] = lambda x, y: x+y\n",
    "    return fn\n",
    "\n",
    "\n",
    "f4(f5)\n",
    "f4(f6)"
   ]
  },
  {
   "cell_type": "code",
   "execution_count": null,
   "metadata": {},
   "outputs": [],
   "source": [
    "T = TypeVar('T')\n",
    "\n",
    "\n",
    "def f10(l: List[T], idx: int) -> T:\n",
    "    return l[idx]"
   ]
  }
 ],
 "metadata": {
  "kernelspec": {
   "display_name": "Python 3.7.4rc1 64-bit",
   "language": "python",
   "name": "python3"
  },
  "language_info": {
   "codemirror_mode": {
    "name": "ipython",
    "version": 3
   },
   "file_extension": ".py",
   "mimetype": "text/x-python",
   "name": "python",
   "nbconvert_exporter": "python",
   "pygments_lexer": "ipython3",
   "version": "3.9.7"
  },
  "orig_nbformat": 4,
  "vscode": {
   "interpreter": {
    "hash": "5109d816b82be14675a6b11f8e0f0d2e80f029176ed3710d54e125caa8520dfd"
   }
  }
 },
 "nbformat": 4,
 "nbformat_minor": 2
}
