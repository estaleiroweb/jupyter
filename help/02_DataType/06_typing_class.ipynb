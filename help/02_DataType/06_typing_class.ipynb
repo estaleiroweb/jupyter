{
 "cells": [
  {
   "cell_type": "markdown",
   "metadata": {},
   "source": [
    "# `typing` Class\n",
    "\n",
    "A classe typing fornece diversos tipos para anotação de tipos em Python. Aqui estão alguns dos principais:"
   ]
  },
  {
   "cell_type": "code",
   "execution_count": null,
   "metadata": {},
   "outputs": [],
   "source": [
    "from typing import Any\n"
   ]
  },
  {
   "cell_type": "markdown",
   "metadata": {},
   "source": [
    "## Tipos Primitivos\n",
    "\n",
    "Esses tipos representam valores básicos:\n",
    "\n",
    "| Tipo    | Descrição                        | Exemplo de Uso          |\n",
    "| ------- | -------------------------------- | ----------------------- |\n",
    "| `int`   | Número inteiro                   | `idade: int = 25`       |\n",
    "| `float` | Número decimal (ponto flutuante) | `altura: float = 1.75`  |\n",
    "| `bool`  | Valor booleano (True/False)      | `ativo: bool = True`    |\n",
    "| `str`   | Texto (string)                   | `nome: str = \"Ana\"`     |\n",
    "| `bytes` | Sequência de bytes               | `dados: bytes = b\"abc\"` |"
   ]
  },
  {
   "cell_type": "markdown",
   "metadata": {},
   "source": [
    "## Tipos Genéricos\n",
    "Tipos que podem conter qualquer valor:\n",
    "\n",
    "| Tipo          | Descrição                   | Exemplo de Uso                   |\n",
    "| ------------- | --------------------------- | -------------------------------- |\n",
    "| `Any`         | Qualquer tipo de dado       | `valor: Any = \"texto\"`           |\n",
    "| `Union[X, Y]` | Pode ser do tipo `X` ou `Y` | `numero: Union[int, float] = 10` |\n",
    "| `Optional[X]` | Pode ser `X` ou `None`      | `idade: Optional[int] = None`    |\n",
    "\n",
    "🔹 **Nota**: `Optional[X]` é equivalente a `Union[X, None]`."
   ]
  },
  {
   "cell_type": "markdown",
   "metadata": {},
   "source": [
    "## Tipos para Estruturas de Dados\n",
    "Tipos para listas, dicionários e tuplas:\n",
    "\n",
    "| Tipo          | Descrição                            | Exemplo de Uso                          |\n",
    "| ------------- | ------------------------------------ | --------------------------------------- |\n",
    "| `List[X]`     | Lista de elementos do tipo `X`       | `numeros: List[int] = [1, 2, 3]`        |\n",
    "| `Tuple[X, Y]` | Tupla com tipos fixos                | `ponto: Tuple[int, int] = (10, 20)`     |\n",
    "| `Set[X]`      | Conjunto de elementos                | `nomes: Set[str] = {\"Ana\", \"Carlos\"}`   |\n",
    "| `Dict[K, V]`  | Dicionário com chave `K` e valor `V` | `dados: Dict[str, int] = {\"idade\": 25}` |"
   ]
  },
  {
   "cell_type": "markdown",
   "metadata": {},
   "source": [
    "## Tipos para Funções\n",
    "\n",
    "Anotação de tipos nos argumentos e no retorno:"
   ]
  },
  {
   "cell_type": "code",
   "execution_count": null,
   "metadata": {},
   "outputs": [],
   "source": [
    "from typing import Callable\n",
    "\n",
    "def somar(a: int, b: int) -> int:\n",
    "    return a + b"
   ]
  },
  {
   "cell_type": "code",
   "execution_count": null,
   "metadata": {},
   "outputs": [],
   "source": [
    "def executar(func: Callable[[int, int], int], x: int, y: int) -> int:\n",
    "    return func(x, y)"
   ]
  },
  {
   "cell_type": "markdown",
   "metadata": {},
   "source": [
    "## Tipos Especiais\n",
    "| Tipo                 | Descrição                 | Exemplo de Uso                                          |\n",
    "| -------------------- | ------------------------- | ------------------------------------------------------- |\n",
    "| `Iterable[X]`        | Algo que pode ser iterado | `def processar(dados: Iterable[str]) -> None:`          |\n",
    "| `Generator[Y, S, R]` | Define um gerador         | `def gerador() -> Generator[int, None, None]: yield 10` |\n"
   ]
  }
 ],
 "metadata": {
  "language_info": {
   "name": "python"
  }
 },
 "nbformat": 4,
 "nbformat_minor": 2
}
