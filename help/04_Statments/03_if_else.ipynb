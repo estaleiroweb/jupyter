{
 "cells": [
  {
   "cell_type": "markdown",
   "metadata": {},
   "source": [
    "# If Else"
   ]
  },
  {
   "cell_type": "code",
   "execution_count": 1,
   "metadata": {},
   "outputs": [
    {
     "name": "stdout",
     "output_type": "stream",
     "text": [
      "b is greater than a\n",
      "B\n",
      "B\n"
     ]
    }
   ],
   "source": [
    "a=0\n",
    "b=1\n",
    "\n",
    "if b > a:\n",
    "\tprint(\"b is greater than a\")\n",
    "elif a == b:\n",
    "\tprint(\"a and b are equal\")\n",
    "else :\n",
    "\tprint(\"a is greater than b\")\n",
    "\n",
    "if a > b: print(\"a is greater than b\")\n",
    "\n",
    "print(\"A\") if a > b else print(\"B\")\n",
    "\n",
    "print(\"A\") if a > b else print(\"=\") if a == b else print(\"B\")\n",
    "\n",
    "if b > a:\n",
    "\tpass\n",
    "if b > a:\n",
    "\t..."
   ]
  },
  {
   "cell_type": "markdown",
   "metadata": {},
   "source": [
    "## If Ternário"
   ]
  },
  {
   "cell_type": "code",
   "execution_count": 2,
   "metadata": {},
   "outputs": [
    {
     "name": "stdout",
     "output_type": "stream",
     "text": [
      "1\n",
      "2\n"
     ]
    }
   ],
   "source": [
    "print(1 if True else 2)\n",
    "print(1 if False else 2)"
   ]
  }
 ],
 "metadata": {
  "kernelspec": {
   "display_name": "Python 3",
   "language": "python",
   "name": "python3"
  },
  "language_info": {
   "codemirror_mode": {
    "name": "ipython",
    "version": 3
   },
   "file_extension": ".py",
   "mimetype": "text/x-python",
   "name": "python",
   "nbconvert_exporter": "python",
   "pygments_lexer": "ipython3",
   "version": "3.10.11"
  },
  "orig_nbformat": 4
 },
 "nbformat": 4,
 "nbformat_minor": 2
}
