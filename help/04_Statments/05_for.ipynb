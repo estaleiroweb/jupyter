{
 "cells": [
  {
   "cell_type": "markdown",
   "metadata": {},
   "source": [
    "# For Loop"
   ]
  },
  {
   "cell_type": "code",
   "execution_count": null,
   "metadata": {},
   "outputs": [
    {
     "name": "stdout",
     "output_type": "stream",
     "text": [
      "apple\n",
      "banana\n"
     ]
    }
   ],
   "source": [
    "fruits = [\"apple\", \"banana\", \"cherry\"]\n",
    "for x in fruits:\n",
    "\tprint(x)\n",
    "\tif x == \"banana\":\n",
    "\t\tbreak # Declaração de Interrupção\n",
    "\tif x == \"apple\":\n",
    "\t\tcontinue # Declaração de Controle de Laço"
   ]
  },
  {
   "cell_type": "code",
   "execution_count": 2,
   "metadata": {},
   "outputs": [
    {
     "name": "stdout",
     "output_type": "stream",
     "text": [
      "b\n",
      "a\n",
      "n\n",
      "a\n",
      "n\n",
      "a\n"
     ]
    }
   ],
   "source": [
    "for x in \"banana\":\n",
    "\tprint(x)"
   ]
  },
  {
   "cell_type": "code",
   "execution_count": 3,
   "metadata": {},
   "outputs": [
    {
     "name": "stdout",
     "output_type": "stream",
     "text": [
      "0\n",
      "1\n",
      "2\n",
      "3\n",
      "4\n",
      "5\n"
     ]
    }
   ],
   "source": [
    "for x in range(6):\n",
    "\tprint(x)"
   ]
  },
  {
   "cell_type": "code",
   "execution_count": 4,
   "metadata": {},
   "outputs": [
    {
     "name": "stdout",
     "output_type": "stream",
     "text": [
      "2\n",
      "3\n",
      "4\n",
      "5\n"
     ]
    }
   ],
   "source": [
    "for x in range(2,6):\n",
    "\tprint(x)"
   ]
  },
  {
   "cell_type": "code",
   "execution_count": 5,
   "metadata": {},
   "outputs": [
    {
     "name": "stdout",
     "output_type": "stream",
     "text": [
      "2\n",
      "5\n",
      "8\n",
      "11\n",
      "14\n",
      "17\n",
      "20\n",
      "23\n",
      "26\n",
      "29\n"
     ]
    }
   ],
   "source": [
    "for x in range(2, 30, 3):\n",
    "\tprint(x)"
   ]
  },
  {
   "cell_type": "code",
   "execution_count": 6,
   "metadata": {},
   "outputs": [
    {
     "name": "stdout",
     "output_type": "stream",
     "text": [
      "0\n",
      "1\n",
      "2\n",
      "3\n",
      "4\n",
      "5\n",
      "Finally finished!\n"
     ]
    }
   ],
   "source": [
    "for x in range(6): #Print all numbers from 0 to 5, and print a message when the loop has ended\n",
    "\tprint(x)\n",
    "else:\n",
    "\tprint(\"Finally finished!\")"
   ]
  },
  {
   "cell_type": "code",
   "execution_count": 7,
   "metadata": {},
   "outputs": [
    {
     "name": "stdout",
     "output_type": "stream",
     "text": [
      "1\n",
      "19\n",
      "5\n",
      "12\n",
      "6\n"
     ]
    }
   ],
   "source": [
    "tupla = (1,19,5,12,6)\n",
    "for e in tupla:\n",
    "    print(e)"
   ]
  },
  {
   "cell_type": "code",
   "execution_count": 8,
   "metadata": {},
   "outputs": [
    {
     "name": "stdout",
     "output_type": "stream",
     "text": [
      "valores 1, 2 e 3\n",
      "valores 4, 5 e 6\n",
      "valores 7, 8 e 9\n"
     ]
    }
   ],
   "source": [
    "lista_tupla = [(1,2,3),(4,5,6),(7,8,9)]\n",
    "for a,b,c in lista_tupla:\n",
    "    print(f'valores {a}, {b} e {c}')"
   ]
  },
  {
   "cell_type": "code",
   "execution_count": 9,
   "metadata": {},
   "outputs": [
    {
     "name": "stdout",
     "output_type": "stream",
     "text": [
      "Element 1 contido em conj2\n",
      "Element 2 contido em conj2\n",
      "Element 4 contido em conj2\n"
     ]
    }
   ],
   "source": [
    "conj1={1,5,2,6,3,4}\n",
    "conj2={1,17,12,4,2,20}\n",
    "for e in conj1:\n",
    "    if e in conj2:\n",
    "        print(f'Element {e} contido em conj2')"
   ]
  },
  {
   "cell_type": "code",
   "execution_count": 10,
   "metadata": {},
   "outputs": [
    {
     "name": "stdout",
     "output_type": "stream",
     "text": [
      "Keys: \n",
      "a\n",
      "b\n",
      "Values: \n",
      "11\n",
      "22\n",
      "Key=>Values: \n",
      "a=>11\n",
      "b=>22\n"
     ]
    }
   ],
   "source": [
    "dic={'a':11,'b':22}\n",
    "\n",
    "print('Keys: ')\n",
    "for k in dic:\n",
    "    print(k)\n",
    "print('Values: ')\n",
    "for v in dic.values():\n",
    "    print(v)\n",
    "print('Key=>Values: ')\n",
    "for k,v in dic.items():\n",
    "    print(f'{k}=>{v}')\n"
   ]
  }
 ],
 "metadata": {
  "kernelspec": {
   "display_name": "Python 3",
   "language": "python",
   "name": "python3"
  },
  "language_info": {
   "codemirror_mode": {
    "name": "ipython",
    "version": 3
   },
   "file_extension": ".py",
   "mimetype": "text/x-python",
   "name": "python",
   "nbconvert_exporter": "python",
   "pygments_lexer": "ipython3",
   "version": "3.10.11"
  },
  "orig_nbformat": 4
 },
 "nbformat": 4,
 "nbformat_minor": 2
}
