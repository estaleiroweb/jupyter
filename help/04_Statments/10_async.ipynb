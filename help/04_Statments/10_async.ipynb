{
 "cells": [
  {
   "cell_type": "markdown",
   "metadata": {},
   "source": [
    "# Declarações de Assincronismo\n",
    "\n",
    "O Python tem suporte a programação assíncrona usando `async def` e `await`, o que permite executar tarefas sem bloquear o programa inteiro. Isso é essencial para operações de I/O, como chamadas de API, acesso a bancos de dados e leitura/escrita de arquivos.\n"
   ]
  },
  {
   "cell_type": "markdown",
   "metadata": {},
   "source": [
    "## `async def` → Define uma função assíncrona"
   ]
  },
  {
   "cell_type": "code",
   "execution_count": 1,
   "metadata": {},
   "outputs": [],
   "source": [
    "async def tarefa():\n",
    "    return \"Executando...\"\n"
   ]
  },
  {
   "cell_type": "markdown",
   "metadata": {},
   "source": [
    "## `await` → Aguarda a execução de uma função assíncrona"
   ]
  },
  {
   "cell_type": "code",
   "execution_count": 5,
   "metadata": {},
   "outputs": [
    {
     "data": {
      "text/plain": [
       "'Executando...'"
      ]
     },
     "execution_count": 5,
     "metadata": {},
     "output_type": "execute_result"
    }
   ],
   "source": [
    "await tarefa()\n",
    "await tarefa()\n",
    "await tarefa()\n",
    "await tarefa()\n"
   ]
  },
  {
   "cell_type": "markdown",
   "metadata": {},
   "source": [
    "## 1. O que são `async def` e `await`?\n",
    "\n",
    "\n",
    "### `async def`\n",
    "\n",
    "- Declara uma função assíncrona (corrotina).  \n",
    "- Essas funções não executam imediatamente; precisam ser chamadas de forma assíncrona.  \n",
    "\n",
    "### `await`\n",
    "\n",
    "- Pausa a execução da função assíncrona até que a corrotina seja concluída.  \n",
    "- Somente pode ser usado dentro de funções `async def`.  "
   ]
  },
  {
   "cell_type": "markdown",
   "metadata": {},
   "source": [
    "## 2. Criando Funções Assíncronas\n",
    "\n",
    "- `asyncio.sleep(2)` simula uma tarefa que leva 2 segundos.  \n",
    "- O `await` faz a função esperar sem bloquear o programa."
   ]
  },
  {
   "cell_type": "code",
   "execution_count": null,
   "metadata": {},
   "outputs": [
    {
     "name": "stdout",
     "output_type": "stream",
     "text": [
      "fim\n"
     ]
    },
    {
     "name": "stderr",
     "output_type": "stream",
     "text": [
      "C:\\Users\\helbe\\AppData\\Local\\Temp\\ipykernel_11528\\3989064724.py:11: RuntimeWarning: coroutine 'minha_corrotina' was never awaited\n",
      "  minha_corrotina()\n",
      "RuntimeWarning: Enable tracemalloc to get the object allocation traceback\n"
     ]
    }
   ],
   "source": [
    "import asyncio\n",
    "\n",
    "async def minha_corrotina():\n",
    "    print(\"Começou\")\n",
    "    await asyncio.sleep(2)  # Simula uma tarefa demorada\n",
    "    print(\"Terminou\")\n",
    "\n",
    "# Executando a função assíncrona\n",
    "# asyncio.run(minha_corrotina())\n",
    "\n",
    "await minha_corrotina()\n",
    "print('fim')\n"
   ]
  },
  {
   "cell_type": "markdown",
   "metadata": {},
   "source": [
    "## 3. Executando Múltiplas Tarefas Simultaneamente\n",
    "\n",
    "Se tivermos várias tarefas, podemos rodá-las em paralelo.\n",
    "\n",
    "- Todas começam ao mesmo tempo, e cada uma termina conforme seu tempo de espera."
   ]
  },
  {
   "cell_type": "code",
   "execution_count": null,
   "metadata": {},
   "outputs": [
    {
     "name": "stdout",
     "output_type": "stream",
     "text": [
      "fim\n"
     ]
    },
    {
     "name": "stderr",
     "output_type": "stream",
     "text": [
      "C:\\Users\\helbe\\AppData\\Local\\Temp\\ipykernel_11528\\4055489090.py:16: RuntimeWarning: coroutine 'main' was never awaited\n",
      "  main()\n",
      "RuntimeWarning: Enable tracemalloc to get the object allocation traceback\n"
     ]
    }
   ],
   "source": [
    "import asyncio\n",
    "\n",
    "async def tarefa(nome, tempo):\n",
    "    print(f\"{nome} começou...\")\n",
    "    await asyncio.sleep(tempo)  # Simula um tempo de espera\n",
    "    print(f\"{nome} terminou!\")\n",
    "\n",
    "async def main():\n",
    "    # Executa três tarefas ao mesmo tempo\n",
    "    await asyncio.gather(\n",
    "        tarefa(\"Tarefa 1\", 2),\n",
    "        tarefa(\"Tarefa 2\", 1),\n",
    "        tarefa(\"Tarefa 3\", 3)\n",
    "    )\n",
    "\n",
    "await main()\n",
    "print('fim')\n"
   ]
  },
  {
   "cell_type": "markdown",
   "metadata": {},
   "source": [
    "## 4. Criando uma Fila Assíncrona (`asyncio.Queue`)\n",
    "\n",
    "Se quisermos processar tarefas em uma fila, podemos usar `asyncio.Queue`.\n",
    "\n",
    "- O código processa itens da fila um por um de forma assíncrona."
   ]
  },
  {
   "cell_type": "code",
   "execution_count": 15,
   "metadata": {},
   "outputs": [
    {
     "name": "stdout",
     "output_type": "stream",
     "text": [
      "Processando item 1...\n",
      "Item 1 processado.\n",
      "Processando item 2...\n",
      "Item 2 processado.\n",
      "Processando item 3...\n",
      "Item 3 processado.\n",
      "Processando item 4...\n",
      "Item 4 processado.\n",
      "Processando item 5...\n",
      "Item 5 processado.\n",
      "fim\n"
     ]
    }
   ],
   "source": [
    "import asyncio\n",
    "\n",
    "async def processar_fila(fila):\n",
    "    while not fila.empty():\n",
    "        item = await fila.get()\n",
    "        print(f\"Processando item {item}...\")\n",
    "        await asyncio.sleep(1)  # Simula tempo de processamento\n",
    "        print(f\"Item {item} processado.\")\n",
    "\n",
    "async def main():\n",
    "    fila = asyncio.Queue()\n",
    "\n",
    "    # Adicionando itens na fila\n",
    "    for i in range(1, 6):\n",
    "        await fila.put(i)\n",
    "\n",
    "    await processar_fila(fila)\n",
    "\n",
    "await main()\n",
    "print('fim')"
   ]
  },
  {
   "cell_type": "markdown",
   "metadata": {},
   "source": [
    "## 5. Trabalhando com `asyncio.create_task()`\n",
    "\n",
    "Se quisermos iniciar uma tarefa e continuar executando código, podemos usar `asyncio.create_task()`.\n",
    "\n",
    "- O código não espera a função assíncrona terminar antes de continuar."
   ]
  },
  {
   "cell_type": "code",
   "execution_count": 18,
   "metadata": {},
   "outputs": [
    {
     "name": "stdout",
     "output_type": "stream",
     "text": [
      "Iniciando...\n",
      "Fazendo outra coisa enquanto a tarefa está rodando...\n",
      "Tarefa longa iniciada...\n",
      "Tarefa longa concluída!\n",
      "Finalizado!\n"
     ]
    }
   ],
   "source": [
    "import asyncio\n",
    "\n",
    "async def tarefa_longa():\n",
    "    print(\"Tarefa longa iniciada...\")\n",
    "    await asyncio.sleep(5)\n",
    "    print(\"Tarefa longa concluída!\")\n",
    "\n",
    "async def main():\n",
    "    print(\"Iniciando...\")\n",
    "    task = asyncio.create_task(tarefa_longa())\n",
    "    print(\"Fazendo outra coisa enquanto a tarefa está rodando...\")\n",
    "    await task  # Aguarda a tarefa terminar\n",
    "    print(\"Finalizado!\")\n",
    "\n",
    "await main()"
   ]
  },
  {
   "cell_type": "markdown",
   "metadata": {},
   "source": [
    "## 6. Lendo um Arquivo Assíncrono\n",
    "\n",
    "Se estivermos lidando com arquivos, podemos usar `aiofiles`.\n",
    "\n",
    "- O uso de `aiofiles` permite leitura assíncrona de arquivos.\n"
   ]
  },
  {
   "cell_type": "code",
   "execution_count": 20,
   "metadata": {},
   "outputs": [
    {
     "name": "stdout",
     "output_type": "stream",
     "text": [
      "{\n",
      " \"cells\": [\n",
      "  {\n",
      "   \"cell_type\": \"markdown\",\n",
      "   \"metadata\": {},\n",
      "   \"source\": [\n",
      "    \"# DeclaraÃ§Ãµes de Assincronismo\\n\",\n",
      "    \"\\n\",\n",
      "    \"O Python tem suporte a programaÃ§Ã£o assÃ­ncrona usando `async def` e `await`, o que permite executar tarefas sem bloquear o programa inteiro. Isso Ã© essencial para operaÃ§Ãµes de I/O, como chamadas de API, acesso a bancos de dados e leitura/escrita de arquivos.\\n\"\n",
      "   ]\n",
      "  },\n",
      "  {\n",
      "   \"cell_type\": \"markdown\",\n",
      "   \"metadata\": {},\n",
      "   \"source\": [\n",
      "    \"## `async def` â†’ Define uma funÃ§Ã£o assÃ­ncrona\"\n",
      "   ]\n",
      "  },\n",
      "  {\n",
      "   \"cell_type\": \"code\",\n",
      "   \"execution_count\": 1,\n",
      "   \"metadata\": {},\n",
      "   \"outputs\": [],\n",
      "   \"source\": [\n",
      "    \"async def tarefa():\\n\",\n",
      "    \"    return \\\"Executando...\\\"\\n\"\n",
      "   ]\n",
      "  },\n",
      "  {\n",
      "   \"cell_type\": \"markdown\",\n",
      "   \"metadata\": {},\n",
      "   \"source\": [\n",
      "    \"## `await` â†’ Aguarda a execuÃ§Ã£o de uma funÃ§Ã£o assÃ­ncrona\"\n",
      "   ]\n",
      "  },\n",
      "  {\n",
      "   \"cell_type\": \"code\",\n",
      "   \"execution_count\": 5,\n",
      "   \"metadata\": {},\n",
      "   \"outputs\": [\n",
      "    {\n",
      "     \"data\": {\n",
      "      \"text/plain\": [\n",
      "       \"'Executando...'\"\n",
      "      ]\n",
      "     },\n",
      "     \"execution_count\": 5,\n",
      "     \"metadata\": {},\n",
      "     \"output_type\": \"execute_result\"\n",
      "    }\n",
      "   ],\n",
      "   \"source\": [\n",
      "    \"await tarefa()\\n\",\n",
      "    \"await tarefa()\\n\",\n",
      "    \"await tarefa()\\n\",\n",
      "    \"await tarefa()\\n\"\n",
      "   ]\n",
      "  },\n",
      "  {\n",
      "   \"cell_type\": \"markdown\",\n",
      "   \"metadata\": {},\n",
      "   \"source\": [\n",
      "    \"## 1. O que sÃ£o `async def` e `await`?\\n\",\n",
      "    \"\\n\",\n",
      "    \"\\n\",\n",
      "    \"### `async def`\\n\",\n",
      "    \"\\n\",\n",
      "    \"- Declara uma funÃ§Ã£o assÃ­ncrona (corrotina).  \\n\",\n",
      "    \"- Essas funÃ§Ãµes nÃ£o executam imediatamente; precisam ser chamadas de forma assÃ­ncrona.  \\n\",\n",
      "    \"\\n\",\n",
      "    \"### `await`\\n\",\n",
      "    \"\\n\",\n",
      "    \"- Pausa a execuÃ§Ã£o da funÃ§Ã£o assÃ­ncrona atÃ© que a corrotina seja concluÃ­da.  \\n\",\n",
      "    \"- Somente pode ser usado dentro de funÃ§Ãµes `async def`.  \"\n",
      "   ]\n",
      "  },\n",
      "  {\n",
      "   \"cell_type\": \"markdown\",\n",
      "   \"metadata\": {},\n",
      "   \"source\": [\n",
      "    \"## 2. Criando FunÃ§Ãµes AssÃ­ncronas\\n\",\n",
      "    \"\\n\",\n",
      "    \"- `asyncio.sleep(2)` simula uma tarefa que leva 2 segundos.  \\n\",\n",
      "    \"- O `await` faz a funÃ§Ã£o esperar sem bloquear o programa.\"\n",
      "   ]\n",
      "  },\n",
      "  {\n",
      "   \"cell_type\": \"code\",\n",
      "   \"execution_count\": null,\n",
      "   \"metadata\": {},\n",
      "   \"outputs\": [\n",
      "    {\n",
      "     \"name\": \"stdout\",\n",
      "     \"output_type\": \"stream\",\n",
      "     \"text\": [\n",
      "      \"ComeÃ§ou\\n\",\n",
      "      \"Terminou\\n\",\n",
      "      \"ComeÃ§ou\\n\",\n",
      "      \"Terminou\\n\"\n",
      "     ]\n",
      "    }\n",
      "   ],\n",
      "   \"source\": [\n",
      "    \"import asyncio\\n\",\n",
      "    \"\\n\",\n",
      "    \"async def minha_corrotina():\\n\",\n",
      "    \"    print(\\\"ComeÃ§ou\\\")\\n\",\n",
      "    \"    await asyncio.sleep(2)  # Simula uma tarefa demorada\\n\",\n",
      "    \"    print(\\\"Terminou\\\")\\n\",\n",
      "    \"\\n\",\n",
      "    \"# Executando a funÃ§Ã£o assÃ­ncrona\\n\",\n",
      "    \"# asyncio.run(minha_corrotina())\\n\",\n",
      "    \"\\n\",\n",
      "    \"await minha_corrotina()\\n\"\n",
      "   ]\n",
      "  },\n",
      "  {\n",
      "   \"cell_type\": \"markdown\",\n",
      "   \"metadata\": {},\n",
      "   \"source\": [\n",
      "    \"\\n\",\n",
      "    \"### Exemplo Simples\\n\",\n",
      "    \"\\n\",\n",
      "    \"```python\\n\",\n",
      "    \"\\n\",\n",
      "    \"```\\n\",\n",
      "    \"\\n\",\n",
      "    \"\\n\",\n",
      "    \"---\\n\",\n",
      "    \"\\n\",\n",
      "    \"## 3. Executando MÃºltiplas Tarefas Simultaneamente\\n\",\n",
      "    \"\\n\",\n",
      "    \"Se tivermos vÃ¡rias tarefas, podemos rodÃ¡-las em paralelo.\\n\",\n",
      "    \"\\n\",\n",
      "    \"### Exemplo com `asyncio.gather()`\\n\",\n",
      "    \"\\n\",\n",
      "    \"```python\\n\",\n",
      "    \"import asyncio\\n\",\n",
      "    \"\\n\",\n",
      "    \"async def tarefa(nome, tempo):\\n\",\n",
      "    \"    print(f\\\"{nome} comeÃ§ou...\\\")\\n\",\n",
      "    \"    await asyncio.sleep(tempo)  # Simula um tempo de espera\\n\",\n",
      "    \"    print(f\\\"{nome} terminou!\\\")\\n\",\n",
      "    \"\\n\",\n",
      "    \"async def main():\\n\",\n",
      "    \"    # Executa trÃªs tarefas ao mesmo tempo\\n\",\n",
      "    \"    await asyncio.gather(\\n\",\n",
      "    \"        tarefa(\\\"Tarefa 1\\\", 2),\\n\",\n",
      "    \"        tarefa(\\\"Tarefa 2\\\", 1),\\n\",\n",
      "    \"        tarefa(\\\"Tarefa 3\\\", 3)\\n\",\n",
      "    \"    )\\n\",\n",
      "    \"\\n\",\n",
      "    \"asyncio.run(main())\\n\",\n",
      "    \"```\\n\",\n",
      "    \"ðŸ“Œ **SaÃ­da esperada:**  \\n\",\n",
      "    \"```\\n\",\n",
      "    \"Tarefa 1 comeÃ§ou...\\n\",\n",
      "    \"Tarefa 2 comeÃ§ou...\\n\",\n",
      "    \"Tarefa 3 comeÃ§ou...\\n\",\n",
      "    \"Tarefa 2 terminou!\\n\",\n",
      "    \"Tarefa 1 terminou!\\n\",\n",
      "    \"Tarefa 3 terminou!\\n\",\n",
      "    \"```\\n\",\n",
      "    \"âœ… Todas comeÃ§am ao mesmo tempo, e cada uma termina conforme seu tempo de espera.\\n\",\n",
      "    \"\\n\",\n",
      "    \"---\\n\",\n",
      "    \"\\n\",\n",
      "    \"## 4. Criando uma Fila AssÃ­ncrona (`asyncio.Queue`)\\n\",\n",
      "    \"\\n\",\n",
      "    \"Se quisermos processar tarefas em uma fila, podemos usar `asyncio.Queue`.\\n\",\n",
      "    \"\\n\",\n",
      "    \"```python\\n\",\n",
      "    \"import asyncio\\n\",\n",
      "    \"\\n\",\n",
      "    \"async def processar_fila(fila):\\n\",\n",
      "    \"    while not fila.empty():\\n\",\n",
      "    \"        item = await fila.get()\\n\",\n",
      "    \"        print(f\\\"Processando item {item}...\\\")\\n\",\n",
      "    \"        await asyncio.sleep(1)  # Simula tempo de processamento\\n\",\n",
      "    \"        print(f\\\"Item {item} processado.\\\")\\n\",\n",
      "    \"\\n\",\n",
      "    \"async def main():\\n\",\n",
      "    \"    fila = asyncio.Queue()\\n\",\n",
      "    \"\\n\",\n",
      "    \"    # Adicionando itens na fila\\n\",\n",
      "    \"    for i in range(1, 6):\\n\",\n",
      "    \"        await fila.put(i)\\n\",\n",
      "    \"\\n\",\n",
      "    \"    await processar_fila(fila)\\n\",\n",
      "    \"\\n\",\n",
      "    \"asyncio.run(main())\\n\",\n",
      "    \"```\\n\",\n",
      "    \"ðŸ“Œ **SaÃ­da esperada:**  \\n\",\n",
      "    \"```\\n\",\n",
      "    \"Processando item 1...\\n\",\n",
      "    \"Item 1 processado.\\n\",\n",
      "    \"Processando item 2...\\n\",\n",
      "    \"Item 2 processado.\\n\",\n",
      "    \"...\\n\",\n",
      "    \"```\\n\",\n",
      "    \"âœ… O cÃ³digo processa itens da fila um por um de forma assÃ­ncrona.\\n\",\n",
      "    \"\\n\",\n",
      "    \"---\\n\",\n",
      "    \"\\n\",\n",
      "    \"## 5. Trabalhando com `asyncio.create_task()`\\n\",\n",
      "    \"\\n\",\n",
      "    \"Se quisermos iniciar uma tarefa e continuar executando cÃ³digo, podemos usar `asyncio.create_task()`.\\n\",\n",
      "    \"\\n\",\n",
      "    \"```python\\n\",\n",
      "    \"import asyncio\\n\",\n",
      "    \"\\n\",\n",
      "    \"async def tarefa_longa():\\n\",\n",
      "    \"    print(\\\"Tarefa longa iniciada...\\\")\\n\",\n",
      "    \"    await asyncio.sleep(5)\\n\",\n",
      "    \"    print(\\\"Tarefa longa concluÃ­da!\\\")\\n\",\n",
      "    \"\\n\",\n",
      "    \"async def main():\\n\",\n",
      "    \"    print(\\\"Iniciando...\\\")\\n\",\n",
      "    \"    task = asyncio.create_task(tarefa_longa())\\n\",\n",
      "    \"    print(\\\"Fazendo outra coisa enquanto a tarefa estÃ¡ rodando...\\\")\\n\",\n",
      "    \"    await task  # Aguarda a tarefa terminar\\n\",\n",
      "    \"    print(\\\"Finalizado!\\\")\\n\",\n",
      "    \"\\n\",\n",
      "    \"asyncio.run(main())\\n\",\n",
      "    \"```\\n\",\n",
      "    \"âœ… O cÃ³digo nÃ£o espera a funÃ§Ã£o assÃ­ncrona terminar antes de continuar.\\n\",\n",
      "    \"\\n\",\n",
      "    \"---\\n\",\n",
      "    \"\\n\",\n",
      "    \"## 6. Lendo um Arquivo AssÃ­ncrono\\n\",\n",
      "    \"\\n\",\n",
      "    \"Se estivermos lidando com arquivos, podemos usar `aiofiles`.\\n\",\n",
      "    \"\\n\",\n",
      "    \"```python\\n\",\n",
      "    \"import asyncio\\n\",\n",
      "    \"import aiofiles\\n\",\n",
      "    \"\\n\",\n",
      "    \"async def ler_arquivo():\\n\",\n",
      "    \"    async with aiofiles.open(\\\"meuarquivo.txt\\\", mode=\\\"r\\\") as f:\\n\",\n",
      "    \"        conteudo = await f.read()\\n\",\n",
      "    \"        print(conteudo)\\n\",\n",
      "    \"\\n\",\n",
      "    \"asyncio.run(ler_arquivo())\\n\",\n",
      "    \"```\\n\",\n",
      "    \"âœ… O uso de `aiofiles` permite leitura assÃ­ncrona de arquivos.\\n\",\n",
      "    \"\\n\",\n",
      "    \"---\\n\",\n",
      "    \"\\n\",\n",
      "    \"## 7. Fazendo RequisiÃ§Ãµes HTTP AssÃ­ncronas\\n\",\n",
      "    \"\\n\",\n",
      "    \"Podemos usar `aiohttp` para chamadas HTTP assÃ­ncronas.\\n\",\n",
      "    \"\\n\",\n",
      "    \"```python\\n\",\n",
      "    \"import asyncio\\n\",\n",
      "    \"import aiohttp\\n\",\n",
      "    \"\\n\",\n",
      "    \"async def buscar_dados(url):\\n\",\n",
      "    \"    async with aiohttp.ClientSession() as session:\\n\",\n",
      "    \"        async with session.get(url) as resposta:\\n\",\n",
      "    \"            dados = await resposta.text()\\n\",\n",
      "    \"            print(dados[:200])  # Mostra os primeiros 200 caracteres\\n\",\n",
      "    \"\\n\",\n",
      "    \"asyncio.run(buscar_dados(\\\"https://jsonplaceholder.typicode.com/todos/1\\\"))\\n\",\n",
      "    \"```\\n\",\n",
      "    \"âœ… Isso permite chamadas de API sem bloquear a execuÃ§Ã£o.\\n\",\n",
      "    \"\\n\",\n",
      "    \"---\\n\",\n",
      "    \"\\n\",\n",
      "    \"## 8. Quando NÃƒO Usar `async def` e `await`?\\n\",\n",
      "    \"\\n\",\n",
      "    \"ðŸš« Quando as tarefas forem CPU-bound (pesadas para o processador).  \\n\",\n",
      "    \"ðŸ”¹ Para isso, use `concurrent.futures` com `ThreadPoolExecutor` ou `ProcessPoolExecutor`.  \\n\",\n",
      "    \"\\n\",\n",
      "    \"```python\\n\",\n",
      "    \"import concurrent.futures\\n\",\n",
      "    \"\\n\",\n",
      "    \"def tarefa_pesada():\\n\",\n",
      "    \"    soma = sum(range(10**7))\\n\",\n",
      "    \"    return soma\\n\",\n",
      "    \"\\n\",\n",
      "    \"with concurrent.futures.ThreadPoolExecutor() as executor:\\n\",\n",
      "    \"    futuro = executor.submit(tarefa_pesada)\\n\",\n",
      "    \"    print(futuro.result())\\n\",\n",
      "    \"```\\n\",\n",
      "    \"âœ… Uso de `ThreadPoolExecutor` para evitar bloqueios em tarefas pesadas.\\n\",\n",
      "    \"\\n\",\n",
      "    \"---\\n\",\n",
      "    \"\\n\",\n",
      "    \"## 9. ConclusÃ£o\\n\",\n",
      "    \"\\n\",\n",
      "    \"- `async def` cria funÃ§Ãµes assÃ­ncronas.  \\n\",\n",
      "    \"- `await` pausa a execuÃ§Ã£o e aguarda a conclusÃ£o de uma corrotina.  \\n\",\n",
      "    \"- `asyncio.run()` inicia a execuÃ§Ã£o assÃ­ncrona.  \\n\",\n",
      "    \"- `asyncio.gather()` executa mÃºltiplas tarefas em paralelo.  \\n\",\n",
      "    \"- `asyncio.create_task()` cria tarefas independentes.  \\n\",\n",
      "    \"- `aiohttp` e `aiofiles` permitem operaÃ§Ãµes de rede e arquivos assÃ­ncronos.  \\n\"\n",
      "   ]\n",
      "  }\n",
      " ],\n",
      " \"metadata\": {\n",
      "  \"kernelspec\": {\n",
      "   \"display_name\": \"Python 3\",\n",
      "   \"language\": \"python\",\n",
      "   \"name\": \"python3\"\n",
      "  },\n",
      "  \"language_info\": {\n",
      "   \"codemirror_mode\": {\n",
      "    \"name\": \"ipython\",\n",
      "    \"version\": 3\n",
      "   },\n",
      "   \"file_extension\": \".py\",\n",
      "   \"mimetype\": \"text/x-python\",\n",
      "   \"name\": \"python\",\n",
      "   \"nbconvert_exporter\": \"python\",\n",
      "   \"pygments_lexer\": \"ipython3\",\n",
      "   \"version\": \"3.10.11\"\n",
      "  }\n",
      " },\n",
      " \"nbformat\": 4,\n",
      " \"nbformat_minor\": 2\n",
      "}\n",
      "\n"
     ]
    }
   ],
   "source": [
    "import asyncio\n",
    "import aiofiles\n",
    "\n",
    "async def ler_arquivo():\n",
    "    async with aiofiles.open(\"10_async.ipynb\", mode=\"r\") as f:\n",
    "        conteudo = await f.read()\n",
    "        print(conteudo)\n",
    "\n",
    "await ler_arquivo()"
   ]
  },
  {
   "cell_type": "markdown",
   "metadata": {},
   "source": [
    "## 7. Fazendo Requisições HTTP Assíncronas\n",
    "\n",
    "Podemos usar `aiohttp` para chamadas HTTP assíncronas.\n",
    "\n",
    "- Isso permite chamadas de API sem bloquear a execução."
   ]
  },
  {
   "cell_type": "code",
   "execution_count": 21,
   "metadata": {},
   "outputs": [
    {
     "name": "stdout",
     "output_type": "stream",
     "text": [
      "{\n",
      "  \"userId\": 1,\n",
      "  \"id\": 1,\n",
      "  \"title\": \"delectus aut autem\",\n",
      "  \"completed\": false\n",
      "}\n"
     ]
    }
   ],
   "source": [
    "import asyncio\n",
    "import aiohttp\n",
    "\n",
    "async def buscar_dados(url):\n",
    "    async with aiohttp.ClientSession() as session:\n",
    "        async with session.get(url) as resposta:\n",
    "            dados = await resposta.text()\n",
    "            print(dados[:200])  # Mostra os primeiros 200 caracteres\n",
    "\n",
    "await buscar_dados(\"https://jsonplaceholder.typicode.com/todos/1\")"
   ]
  },
  {
   "cell_type": "markdown",
   "metadata": {},
   "source": [
    "## 8. Quando NÃO Usar `async def` e `await`?\n",
    "\n",
    "- 🚫 Quando as tarefas forem CPU-bound (pesadas para o processador).\n",
    "- 🔹 Para isso, use `concurrent.futures` com `ThreadPoolExecutor` ou `ProcessPoolExecutor`.\n",
    "- Uso de `ThreadPoolExecutor` para evitar bloqueios em tarefas pesadas."
   ]
  },
  {
   "cell_type": "code",
   "execution_count": 22,
   "metadata": {},
   "outputs": [
    {
     "name": "stdout",
     "output_type": "stream",
     "text": [
      "49999995000000\n"
     ]
    }
   ],
   "source": [
    "import concurrent.futures\n",
    "\n",
    "def tarefa_pesada():\n",
    "    soma = sum(range(10**7))\n",
    "    return soma\n",
    "\n",
    "with concurrent.futures.ThreadPoolExecutor() as executor:\n",
    "    futuro = executor.submit(tarefa_pesada)\n",
    "    print(futuro.result())"
   ]
  },
  {
   "cell_type": "markdown",
   "metadata": {},
   "source": [
    "## 9. Conclusão\n",
    "\n",
    "- `async def` cria funções assíncronas.  \n",
    "- `await` pausa a execução e aguarda a conclusão de uma corrotina.  \n",
    "- `asyncio.run()` inicia a execução assíncrona.  \n",
    "- `asyncio.gather()` executa múltiplas tarefas em paralelo.  \n",
    "- `asyncio.create_task()` cria tarefas independentes.  \n",
    "- `aiohttp` e `aiofiles` permitem operações de rede e arquivos assíncronos.  \n"
   ]
  }
 ],
 "metadata": {
  "kernelspec": {
   "display_name": "Python 3",
   "language": "python",
   "name": "python3"
  },
  "language_info": {
   "codemirror_mode": {
    "name": "ipython",
    "version": 3
   },
   "file_extension": ".py",
   "mimetype": "text/x-python",
   "name": "python",
   "nbconvert_exporter": "python",
   "pygments_lexer": "ipython3",
   "version": "3.10.11"
  }
 },
 "nbformat": 4,
 "nbformat_minor": 2
}
