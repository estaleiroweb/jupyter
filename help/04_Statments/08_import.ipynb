{
 "cells": [
  {
   "cell_type": "markdown",
   "metadata": {},
   "source": [
    "# Declarações de Importação `import` e `__init__.py`\n",
    "\n",
    "O comando `import` em Python é fundamental para permitir a reutilização de código. \n",
    "Ele possibilita que você traga módulos e pacotes para dentro do seu programa. \n",
    "\n",
    "Já o arquivo `__init__.py` tem um papel especial em pacotes, ajudando a definir a estrutura de pacotes e controlando o comportamento dos imports.\n"
   ]
  },
  {
   "cell_type": "markdown",
   "metadata": {},
   "source": [
    "## `import`\n",
    "\n",
    "O `import` é utilizado para carregar módulos e pacotes em um programa Python. Ele permite que você use funcionalidades de outros arquivos Python, sem precisar duplicar o código.\n"
   ]
  },
  {
   "cell_type": "markdown",
   "metadata": {},
   "source": [
    "### `import` → Importa um módulo inteiro"
   ]
  },
  {
   "cell_type": "code",
   "execution_count": 2,
   "metadata": {},
   "outputs": [
    {
     "name": "stdout",
     "output_type": "stream",
     "text": [
      "4.0\n"
     ]
    }
   ],
   "source": [
    "import math  # Importa o módulo completo\n",
    "print(math.sqrt(16))  # Usa a função sqrt do módulo math"
   ]
  },
  {
   "cell_type": "markdown",
   "metadata": {},
   "source": [
    "### `from` ... `import` → Importa elementos específicos de um módulo"
   ]
  },
  {
   "cell_type": "code",
   "execution_count": 3,
   "metadata": {},
   "outputs": [
    {
     "name": "stdout",
     "output_type": "stream",
     "text": [
      "4.0\n"
     ]
    }
   ],
   "source": [
    "from math import sqrt  # Importa apenas a função sqrt\n",
    "print(sqrt(16))\n"
   ]
  },
  {
   "cell_type": "markdown",
   "metadata": {},
   "source": [
    "### `as` → Renomeia um módulo importado"
   ]
  },
  {
   "cell_type": "code",
   "execution_count": 4,
   "metadata": {},
   "outputs": [
    {
     "name": "stdout",
     "output_type": "stream",
     "text": [
      "[1 2 3]\n"
     ]
    }
   ],
   "source": [
    "import numpy as np  # Usa um alias para o módulo numpy\n",
    "print(np.array([1, 2, 3]))\n"
   ]
  },
  {
   "cell_type": "markdown",
   "metadata": {},
   "source": [
    "### `*` Importar tudo de um módulo (não recomendado)"
   ]
  },
  {
   "cell_type": "code",
   "execution_count": 5,
   "metadata": {},
   "outputs": [
    {
     "name": "stdout",
     "output_type": "stream",
     "text": [
      "4.0\n"
     ]
    }
   ],
   "source": [
    "from math import *  # Importa todas as funções e variáveis\n",
    "print(sqrt(16))"
   ]
  },
  {
   "cell_type": "markdown",
   "metadata": {},
   "source": [
    "### Importar módulos de pacotes (submódulos)"
   ]
  },
  {
   "cell_type": "code",
   "execution_count": null,
   "metadata": {},
   "outputs": [],
   "source": [
    "import meu_pacote.modulo1  # Importa o subpacote de um pacote\n"
   ]
  },
  {
   "cell_type": "markdown",
   "metadata": {},
   "source": [
    "# Pacote\n",
    "\n",
    "Um **pacote** é uma coleção de módulos (arquivos `.py`) agrupados em uma pasta. \n",
    "Para que o Python entenda que a pasta deve ser tratada como um pacote, ela precisa conter um arquivo especial chamado `__init__.py`.\n",
    "\n",
    "\tmeu_pacote/\n",
    "\t│\n",
    "\t├── __init__.py\n",
    "\t├── modulo1.py\n",
    "\t├── modulo2.py\n",
    "\t└── subpacote/\n",
    "\t\t├── __init__.py\n",
    "\t\t└── modulo3.py\n"
   ]
  },
  {
   "cell_type": "markdown",
   "metadata": {},
   "source": [
    "### O que é o `__init__.py`?\n",
    "\n",
    "O arquivo `__init__.py` é fundamental para a definição de pacotes em Python. Ele permite que a pasta seja reconhecida como um pacote e também pode conter código de inicialização do pacote.\n",
    "\n",
    "#### Funções do `__init__.py`\n",
    "1. **Transformar uma pasta em um pacote**:  \n",
    "   Sem o `__init__.py`, o Python não reconhece a pasta como um pacote.  \n",
    "   Com ele, a pasta pode conter submódulos e ser tratada como um único pacote.\n",
    "   \n",
    "2. **Executar Código de Inicialização**:  \n",
    "   O arquivo `__init__.py` pode conter código que será executado sempre que o pacote for importado.  \n",
    "   Isso pode incluir inicialização de variáveis, configurações, ou até importações de submódulos.\n"
   ]
  },
  {
   "cell_type": "code",
   "execution_count": 6,
   "metadata": {},
   "outputs": [
    {
     "name": "stdout",
     "output_type": "stream",
     "text": [
      "Pacote meu_pacote inicializado!\n"
     ]
    }
   ],
   "source": [
    "# meu_pacote/__init__.py\n",
    "print(\"Pacote meu_pacote inicializado!\")"
   ]
  },
  {
   "cell_type": "markdown",
   "metadata": {},
   "source": [
    "### Exemplo de uso de `__init__.py`:\n",
    "\n",
    "Quando você importa um pacote, o Python executa o código dentro do arquivo `__init__.py`.\n",
    "\n",
    "1. **Módulos ou pacotes sem `__init__.py`**:  \n",
    "   Desde o Python 3.3, você pode criar pacotes sem a necessidade do arquivo `__init__.py`, mas **não será tratado como um pacote regular**.  \n",
    "   Ao importar, o comportamento pode ser diferente.\n",
    "2. **Pacote vazio**:  \n",
    "   O `__init__.py` pode ser vazio ou conter código de inicialização.  \n",
    "   Mesmo que o arquivo não contenha nada, ele ainda permite que a pasta seja tratada como um pacote.\n",
    "\n"
   ]
  },
  {
   "cell_type": "code",
   "execution_count": 11,
   "metadata": {},
   "outputs": [
    {
     "name": "stdout",
     "output_type": "stream",
     "text": [
      "Pacote meu_pacote!\n",
      "Script do módulo 1\n",
      "Script do módulo 2\n",
      "### Função do módulo 1\n",
      "### Função do módulo 2\n",
      "----------------------------------------------------------------------------------------------------\n",
      "Pacote meu_pacote!\n",
      "Script do módulo 1\n",
      "Script do módulo 2\n",
      "### Função do módulo 1\n",
      "----------------------------------------------------------------------------------------------------\n",
      "Script do módulo 1\n",
      "Script do scr\n",
      "Script do módulo 2\n",
      "### Função do SCR\n",
      "### Função do outros_scripts.módulo 2\n",
      "### Função do outros_scripts.módulo 1\n",
      "----------------------------------------------------------------------------------------------------\n"
     ]
    }
   ],
   "source": [
    "# %reset -f # Limpa todas as variáveis\n",
    "# %reset?\n",
    "# %who\n",
    "# %whos\n",
    "# %who_ls\n",
    "# %xdel -n meu_pacote\n",
    "# %run 08-1_import.py\n",
    "\n",
    "!python 08-1_import.py # import meu_pacote\n",
    "print('-'*100)\n",
    "\n",
    "!python 08-2_import.py # from meu_pacote import func1\n",
    "print('-'*100)\n",
    "\n",
    "!python 08-3_import.py # from meu_pacote.modulo1 import func1 e esse importa outros da raiz/relativo\n",
    "print('-'*100)\n"
   ]
  },
  {
   "cell_type": "markdown",
   "metadata": {},
   "source": [
    "**Como o `import` Funciona Internamente**:\n",
    "\n",
    "Quando você usa o `import`, o Python segue um caminho específico para encontrar o módulo ou pacote. Ele verifica:\n",
    "\n",
    "1. **Módulos e pacotes já carregados**: O Python mantém um cache de módulos carregados em `sys.modules`.\n",
    "2. **Diretórios do sistema**: Ele procura o arquivo no diretório atual e nos diretórios definidos em `sys.path`.\n"
   ]
  },
  {
   "cell_type": "code",
   "execution_count": null,
   "metadata": {},
   "outputs": [
    {
     "name": "stdout",
     "output_type": "stream",
     "text": [
      "['d:\\\\Docs\\\\Code\\\\jupyter\\\\help\\\\04_Statments', 'c:\\\\Users\\\\helbe\\\\AppData\\\\Local\\\\Programs\\\\Python\\\\Python310\\\\python310.zip', 'c:\\\\Users\\\\helbe\\\\AppData\\\\Local\\\\Programs\\\\Python\\\\Python310\\\\DLLs', 'c:\\\\Users\\\\helbe\\\\AppData\\\\Local\\\\Programs\\\\Python\\\\Python310\\\\lib', 'c:\\\\Users\\\\helbe\\\\AppData\\\\Local\\\\Programs\\\\Python\\\\Python310', '', 'C:\\\\Users\\\\helbe\\\\AppData\\\\Roaming\\\\Python\\\\Python310\\\\site-packages', 'C:\\\\Users\\\\helbe\\\\AppData\\\\Roaming\\\\Python\\\\Python310\\\\site-packages\\\\win32', 'C:\\\\Users\\\\helbe\\\\AppData\\\\Roaming\\\\Python\\\\Python310\\\\site-packages\\\\win32\\\\lib', 'C:\\\\Users\\\\helbe\\\\AppData\\\\Roaming\\\\Python\\\\Python310\\\\site-packages\\\\Pythonwin', 'c:\\\\Users\\\\helbe\\\\AppData\\\\Local\\\\Programs\\\\Python\\\\Python310\\\\lib\\\\site-packages']\n"
     ]
    }
   ],
   "source": [
    "import sys\n",
    "print(sys.path)  # Mostra os diretórios onde Python busca módulos\n",
    "\n",
    "# Se o Python encontrar o módulo na lista de diretórios, ele o carrega e armazena em `sys.modules`. \n",
    "# Para módulos já carregados, o Python simplesmente reutiliza a versão já carregada."
   ]
  },
  {
   "cell_type": "markdown",
   "metadata": {},
   "source": [
    "## Conclusão\n",
    "\n",
    "- **`import`** permite carregar módulos e pacotes para reutilização de código.  \n",
    "- **`__init__.py`** transforma uma pasta em um pacote, e pode ser usado para executar código ou importar submódulos.  \n",
    "- **Usar `__init__.py`** de maneira estratégica pode tornar seu pacote mais fácil de usar e manter.  \n",
    "- **Sem `__init__.py`**, o Python trata a pasta como um diretório normal, e não como um pacote.\n"
   ]
  }
 ],
 "metadata": {
  "kernelspec": {
   "display_name": "Python 3",
   "language": "python",
   "name": "python3"
  },
  "language_info": {
   "codemirror_mode": {
    "name": "ipython",
    "version": 3
   },
   "file_extension": ".py",
   "mimetype": "text/x-python",
   "name": "python",
   "nbconvert_exporter": "python",
   "pygments_lexer": "ipython3",
   "version": "3.10.11"
  }
 },
 "nbformat": 4,
 "nbformat_minor": 2
}
