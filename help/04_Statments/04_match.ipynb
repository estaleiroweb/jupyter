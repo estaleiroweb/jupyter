{
 "cells": [
  {
   "cell_type": "markdown",
   "metadata": {},
   "source": [
    "# match case\n",
    "\n",
    "Estruturas de pattern matching (a partir do Python 3.10)"
   ]
  },
  {
   "cell_type": "code",
   "execution_count": null,
   "metadata": {},
   "outputs": [
    {
     "name": "stdout",
     "output_type": "stream",
     "text": [
      "Iniciando\n"
     ]
    }
   ],
   "source": [
    "comando = \"start\"\n",
    "match comando:\n",
    "    case \"start\":\n",
    "        print(\"Iniciando\")\n",
    "    case \"stop\":\n",
    "        print(\"Parando\")\n",
    "    case _:  # else\n",
    "        print(\"Comando inválido\")"
   ]
  },
  {
   "cell_type": "markdown",
   "metadata": {},
   "source": [
    "Correspondência com Condições (if no case)\n"
   ]
  },
  {
   "cell_type": "code",
   "execution_count": 6,
   "metadata": {},
   "outputs": [
    {
     "name": "stdout",
     "output_type": "stream",
     "text": [
      "Maior que 5\n"
     ]
    }
   ],
   "source": [
    "valor = 10\n",
    "\n",
    "match valor:\n",
    "    case x if x > 5:\n",
    "        print(\"Maior que 5\")\n",
    "    case x if x < 5:\n",
    "        print(\"Menor que 5\")\n",
    "    case _:\n",
    "        print(\"É 5\")\n"
   ]
  },
  {
   "cell_type": "markdown",
   "metadata": {},
   "source": [
    "O match pode capturar valores em variáveis para uso posterior"
   ]
  },
  {
   "cell_type": "code",
   "execution_count": null,
   "metadata": {},
   "outputs": [
    {
     "name": "stdout",
     "output_type": "stream",
     "text": [
      "João tem 30 anos\n"
     ]
    }
   ],
   "source": [
    "dados = (\"João\", 30)\n",
    "match dados:\n",
    "    # Se dados corresponder ao primeiro padrão, ele extrai idade\n",
    "    case (\"João\", idade):\n",
    "        print(f\"João tem {idade} anos\")\n",
    "    case (_, _):\n",
    "        print(\"Nome desconhecido\")"
   ]
  },
  {
   "cell_type": "markdown",
   "metadata": {},
   "source": [
    "Correspondência com Dicionários"
   ]
  },
  {
   "cell_type": "code",
   "execution_count": 4,
   "metadata": {},
   "outputs": [
    {
     "name": "stdout",
     "output_type": "stream",
     "text": [
      "Alice - Idade: 25\n"
     ]
    }
   ],
   "source": [
    "pessoa = {\"nome\": \"Alice\", \"idade\": 25}\n",
    "\n",
    "match pessoa:\n",
    "    case {\"nome\": \"Joaõ\", \"idade\": idade}:\n",
    "        print(f\"Joaõ - Idade: {idade}\")\n",
    "    case {\"nome\": \"Alice\", \"idade\": idade}:\n",
    "        print(f\"Alice - Idade: {idade}\")\n"
   ]
  },
  {
   "cell_type": "markdown",
   "metadata": {},
   "source": [
    "Correspondência com Classes"
   ]
  },
  {
   "cell_type": "code",
   "execution_count": 5,
   "metadata": {},
   "outputs": [
    {
     "name": "stdout",
     "output_type": "stream",
     "text": [
      "Carlos tem 40 anos\n"
     ]
    }
   ],
   "source": [
    "class Pessoa:\n",
    "    def __init__(self, nome, idade):\n",
    "        self.nome = nome\n",
    "        self.idade = idade\n",
    "\n",
    "p = Pessoa(\"Carlos\", 40)\n",
    "\n",
    "match p:\n",
    "    case Pessoa(nome=\"Carlos\", idade=idade):\n",
    "        print(f\"Carlos tem {idade} anos\")\n"
   ]
  },
  {
   "cell_type": "markdown",
   "metadata": {},
   "source": [
    "Verificando Diferentes Tipos de Dados"
   ]
  },
  {
   "cell_type": "code",
   "execution_count": 7,
   "metadata": {},
   "outputs": [
    {
     "name": "stdout",
     "output_type": "stream",
     "text": [
      "É uma lista\n"
     ]
    }
   ],
   "source": [
    "dado = [1, 2, 3]\n",
    "\n",
    "match dado:\n",
    "    case int():\n",
    "        print(\"É um número inteiro\")\n",
    "    case str():\n",
    "        print(\"É uma string\")\n",
    "    case list():\n",
    "        print(\"É uma lista\")\n"
   ]
  },
  {
   "cell_type": "markdown",
   "metadata": {},
   "source": [
    "Correspondência Complexa"
   ]
  },
  {
   "cell_type": "code",
   "execution_count": 8,
   "metadata": {},
   "outputs": [
    {
     "name": "stdout",
     "output_type": "stream",
     "text": [
      "Pedido de 2 pizzas\n"
     ]
    }
   ],
   "source": [
    "pedido = (\"pizza\", 2)\n",
    "\n",
    "match pedido:\n",
    "    case (\"pizza\", quantidade) if quantidade > 1:\n",
    "        print(f\"Pedido de {quantidade} pizzas\")\n",
    "    case (\"pizza\", _):\n",
    "        print(\"Pedido de 1 pizza\")\n",
    "    case _:\n",
    "        print(\"Pedido desconhecido\")\n"
   ]
  },
  {
   "cell_type": "markdown",
   "metadata": {},
   "source": [
    "## 5. Benefícios\n",
    "\n",
    "- Mais organizado que `if-elif-else`.\n",
    "- Mais poderoso com *pattern matching*.\n",
    "- Melhor legibilidade e manutenção do código.\n",
    "\n",
    "## 6. Quando NÃO Usar\n",
    "\n",
    "- Quando for necessário compatibilidade com versões anteriores ao Python 3.10.\n",
    "- Para comparações simples que podem ser feitas com `if-elif-else`.\n",
    "- Se o número de casos for pequeno e não justificar o uso do `match`.\n",
    "\n",
    "## 7. Conclusão\n",
    "\n",
    "O `match case` é um recurso poderoso para tornar o código mais limpo e eficiente. \n",
    "Ele pode ser usado para substituir `if-elif-else`, verificar padrões complexos em listas, dicionários e objetos, além de permitir condições adicionais dentro dos `case`.\n"
   ]
  }
 ],
 "metadata": {
  "kernelspec": {
   "display_name": "Python 3",
   "language": "python",
   "name": "python3"
  },
  "language_info": {
   "codemirror_mode": {
    "name": "ipython",
    "version": 3
   },
   "file_extension": ".py",
   "mimetype": "text/x-python",
   "name": "python",
   "nbconvert_exporter": "python",
   "pygments_lexer": "ipython3",
   "version": "3.10.11"
  }
 },
 "nbformat": 4,
 "nbformat_minor": 2
}
