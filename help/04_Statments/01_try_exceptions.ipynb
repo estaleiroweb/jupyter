{
 "cells": [
  {
   "cell_type": "markdown",
   "metadata": {},
   "source": [
    "# Exceptions\n",
    "\n",
    "`try`, `except`, `finally` → Tratamento de exceções"
   ]
  },
  {
   "cell_type": "code",
   "execution_count": 1,
   "metadata": {},
   "outputs": [
    {
     "name": "stdout",
     "output_type": "stream",
     "text": [
      "Ocorreu um erro: division by zero\n"
     ]
    }
   ],
   "source": [
    "try:\n",
    "    resultado = 10 / 0  # Isso gera um erro (divisão por zero)\n",
    "except Exception as e:  # Captura qualquer erro\n",
    "    print(f\"Ocorreu um erro: {e}\")\n"
   ]
  },
  {
   "cell_type": "code",
   "execution_count": 2,
   "metadata": {},
   "outputs": [
    {
     "name": "stdout",
     "output_type": "stream",
     "text": [
      "Erro: Digite um número válido!\n"
     ]
    }
   ],
   "source": [
    "try:\n",
    "    numero = int(input(\"Digite um número: \"))\n",
    "    resultado = 10 / numero\n",
    "except ZeroDivisionError:\n",
    "    print(\"Erro: Não é possível dividir por zero!\")\n",
    "except ValueError:\n",
    "    print(\"Erro: Digite um número válido!\")\n",
    "except Exception as e:\n",
    "    print(f\"Erro inesperado: {e}\")\n"
   ]
  },
  {
   "cell_type": "code",
   "execution_count": 3,
   "metadata": {},
   "outputs": [
    {
     "name": "stdout",
     "output_type": "stream",
     "text": [
      "Erro: O arquivo não foi encontrado.\n",
      "Operação finalizada.\n"
     ]
    }
   ],
   "source": [
    "try:\n",
    "    arquivo = open(\"dados.txt\", \"r\")  # Tenta abrir um arquivo\n",
    "    conteudo = arquivo.read()\n",
    "except FileNotFoundError:\n",
    "    print(\"Erro: O arquivo não foi encontrado.\")\n",
    "else:\n",
    "    print(\"Arquivo lido com sucesso!\")\n",
    "finally:\n",
    "    print(\"Operação finalizada.\")\n"
   ]
  },
  {
   "cell_type": "code",
   "execution_count": 4,
   "metadata": {},
   "outputs": [
    {
     "name": "stdout",
     "output_type": "stream",
     "text": [
      "Erro: O divisor não pode ser zero.\n"
     ]
    }
   ],
   "source": [
    "def dividir(a, b):\n",
    "    if b == 0:\n",
    "        raise ValueError(\"O divisor não pode ser zero.\")\n",
    "    return a / b\n",
    "\n",
    "try:\n",
    "    print(dividir(10, 0))\n",
    "except ValueError as e:\n",
    "    print(f\"Erro: {e}\")\n"
   ]
  },
  {
   "cell_type": "markdown",
   "metadata": {},
   "source": [
    "O Python possui uma hierarquia de exceções integrada. Aqui está uma lista das principais classes de exceção organizadas hierarquicamente:\n",
    "\n",
    "---\n",
    "\n",
    "### 🔹 **Hierarquia das Exceções em Python**\n",
    "A raiz de todas as exceções é a classe `BaseException`, mas normalmente usamos `Exception` como base para capturar erros.\n",
    "\n",
    "```\n",
    "BaseException\n",
    " ├── SystemExit\n",
    " ├── KeyboardInterrupt\n",
    " ├── GeneratorExit\n",
    " └── Exception\n",
    "      ├── ArithmeticError\n",
    "      │   ├── FloatingPointError\n",
    "      │   ├── OverflowError\n",
    "      │   └── ZeroDivisionError\n",
    "      ├── AssertionError\n",
    "      ├── AttributeError\n",
    "      ├── BufferError\n",
    "      ├── EOFError\n",
    "      ├── ImportError\n",
    "      │   └── ModuleNotFoundError\n",
    "      ├── LookupError\n",
    "      │   ├── IndexError\n",
    "      │   └── KeyError\n",
    "      ├── MemoryError\n",
    "      ├── NameError\n",
    "      │   └── UnboundLocalError\n",
    "      ├── OSError\n",
    "      │   ├── BlockingIOError\n",
    "      │   ├── ChildProcessError\n",
    "      │   ├── ConnectionError\n",
    "      │   │   ├── BrokenPipeError\n",
    "      │   │   ├── ConnectionAbortedError\n",
    "      │   │   ├── ConnectionRefusedError\n",
    "      │   │   └── ConnectionResetError\n",
    "      │   ├── FileExistsError\n",
    "      │   ├── FileNotFoundError\n",
    "      │   ├── InterruptedError\n",
    "      │   ├── IsADirectoryError\n",
    "      │   ├── NotADirectoryError\n",
    "      │   ├── PermissionError\n",
    "      │   ├── ProcessLookupError\n",
    "      │   └── TimeoutError\n",
    "      ├── ReferenceError\n",
    "      ├── RuntimeError\n",
    "      │   ├── NotImplementedError\n",
    "      │   ├── RecursionError\n",
    "      ├── StopIteration\n",
    "      ├── StopAsyncIteration\n",
    "      ├── SyntaxError\n",
    "      │   └── IndentationError\n",
    "      │       └── TabError\n",
    "      ├── SystemError\n",
    "      ├── TypeError\n",
    "      ├── ValueError\n",
    "      │   └── UnicodeError\n",
    "      │       ├── UnicodeDecodeError\n",
    "      │       ├── UnicodeEncodeError\n",
    "      │       └── UnicodeTranslateError\n",
    "      ├── Warning\n",
    "          ├── DeprecationWarning\n",
    "          ├── PendingDeprecationWarning\n",
    "          ├── RuntimeWarning\n",
    "          ├── SyntaxWarning\n",
    "          ├── UserWarning\n",
    "          ├── FutureWarning\n",
    "          ├── ImportWarning\n",
    "          ├── UnicodeWarning\n",
    "          ├── BytesWarning\n",
    "          ├── ResourceWarning\n",
    "```\n",
    "\n",
    "---\n",
    "\n",
    "### 🔹 **Explicação das Principais Exceções**\n",
    "Aqui estão algumas das exceções mais comuns e quando elas ocorrem:\n",
    "\n",
    "| **Exceção**                 | **Descrição** |\n",
    "|-----------------------------|--------------|\n",
    "| `ZeroDivisionError`         | Tentativa de dividir por zero (`10 / 0`). |\n",
    "| `TypeError`                 | Operação inválida entre tipos diferentes (`\"texto\" + 5`). |\n",
    "| `ValueError`                | Valor inválido para uma operação (`int(\"abc\")`). |\n",
    "| `IndexError`                | Acessar um índice fora dos limites da lista (`lista[10]`). |\n",
    "| `KeyError`                  | Chave inexistente em um dicionário (`dicionario[\"chave_invalida\"]`). |\n",
    "| `FileNotFoundError`         | Arquivo não encontrado (`open(\"arquivo.txt\")`). |\n",
    "| `ImportError`               | Falha ao importar um módulo inexistente (`import modulo_inexistente`). |\n",
    "| `ModuleNotFoundError`       | Subclasse de `ImportError`, ocorre ao não encontrar um módulo. |\n",
    "| `AttributeError`            | Acessar um atributo que não existe (`obj.inexistente`). |\n",
    "| `NameError`                 | Variável não definida (`print(variavel_nao_definida)`). |\n",
    "| `MemoryError`               | Quando o sistema fica sem memória disponível. |\n",
    "| `OverflowError`             | Resultado numérico muito grande para ser representado. |\n",
    "| `RecursionError`            | Excesso de chamadas recursivas (`def f(): f(); f()`). |\n",
    "| `PermissionError`           | Falta de permissão para acessar um arquivo ou recurso. |\n",
    "| `UnicodeDecodeError`        | Erro ao decodificar um texto com codificação incorreta. |\n",
    "| `TimeoutError`              | Uma operação excedeu o tempo limite. |\n",
    "| `AssertionError`            | Falha em uma asserção `assert x > 0`. |\n",
    "\n",
    "---\n",
    "\n",
    "### 🔹 **Capturando múltiplas exceções**\n",
    "Você pode capturar múltiplas exceções ao mesmo tempo:\n",
    "```python\n",
    "try:\n",
    "    x = int(input(\"Digite um número: \"))\n",
    "    resultado = 10 / x\n",
    "except (ZeroDivisionError, ValueError) as e:\n",
    "    print(f\"Erro: {e}\")\n",
    "```\n"
   ]
  }
 ],
 "metadata": {
  "kernelspec": {
   "display_name": "Python 3",
   "language": "python",
   "name": "python3"
  },
  "language_info": {
   "codemirror_mode": {
    "name": "ipython",
    "version": 3
   },
   "file_extension": ".py",
   "mimetype": "text/x-python",
   "name": "python",
   "nbconvert_exporter": "python",
   "pygments_lexer": "ipython3",
   "version": "3.10.11"
  }
 },
 "nbformat": 4,
 "nbformat_minor": 2
}
