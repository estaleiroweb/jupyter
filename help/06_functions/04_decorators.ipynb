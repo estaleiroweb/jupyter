{
 "cells": [
  {
   "cell_type": "markdown",
   "metadata": {},
   "source": [
    "# Decorators com Funções"
   ]
  },
  {
   "cell_type": "markdown",
   "metadata": {},
   "source": [
    "Em Python, **decorators** (decoradores) são uma maneira elegante de modificar ou estender o comportamento de funções ou métodos sem modificar diretamente seu código. Eles são frequentemente usados para adicionar funcionalidades, como verificação de permissões, logging, medição de tempo, etc., de maneira reutilizável e legível.\n",
    "\n",
    "### Como funcionam os Decorators?\n",
    "Decorators são basicamente **funções** que recebem outra **função ou classe** como argumento e **retornam uma nova função** ou classe com funcionalidades adicionais. Eles são aplicados utilizando a sintaxe **`@decorator_name`** acima da definição de uma função ou método.\n"
   ]
  },
  {
   "cell_type": "markdown",
   "metadata": {},
   "source": [
    "### Exemplo Simples de Decorator em Funções\n"
   ]
  },
  {
   "cell_type": "code",
   "execution_count": 1,
   "metadata": {},
   "outputs": [
    {
     "name": "stdout",
     "output_type": "stream",
     "text": [
      "Antes da função ser chamada\n",
      "Função original sendo chamada.\n",
      "Depois da função ser chamada\n"
     ]
    }
   ],
   "source": [
    "def meu_decorator(func):\n",
    "    def wrapper():\n",
    "        print(\"Antes da função ser chamada\")\n",
    "        func()\n",
    "        print(\"Depois da função ser chamada\")\n",
    "    return wrapper\n",
    "\n",
    "@meu_decorator\n",
    "def minha_funcao():\n",
    "    print(\"Função original sendo chamada.\")\n",
    "\n",
    "# Chamada da função\n",
    "minha_funcao()"
   ]
  },
  {
   "cell_type": "markdown",
   "metadata": {},
   "source": [
    "Quando `minha_funcao()` é chamada, na verdade, o Python está chamando a função `wrapper` criada no `meu_decorator`, que executa a funcionalidade adicional antes e depois da chamada da função original.\n"
   ]
  },
  {
   "cell_type": "markdown",
   "metadata": {},
   "source": [
    "### Decorators com Argumentos\n",
    "\n",
    "Se a função que você deseja decorar tiver parâmetros, o decorator precisa ser ajustado para aceitar e passar os argumentos corretamente."
   ]
  },
  {
   "cell_type": "code",
   "execution_count": 2,
   "metadata": {},
   "outputs": [
    {
     "name": "stdout",
     "output_type": "stream",
     "text": [
      "Antes da função ser chamada\n",
      "Olá, João!\n",
      "Depois da função ser chamada\n"
     ]
    }
   ],
   "source": [
    "def meu_decorator(func):\n",
    "    def wrapper(*args, **kwargs):\n",
    "        print(\"Antes da função ser chamada\")\n",
    "        result = func(*args, **kwargs)\n",
    "        print(\"Depois da função ser chamada\")\n",
    "        return result\n",
    "    return wrapper\n",
    "\n",
    "@meu_decorator\n",
    "def saudacao(nome):\n",
    "    print(f\"Olá, {nome}!\")\n",
    "\n",
    "saudacao(\"João\")"
   ]
  },
  {
   "cell_type": "markdown",
   "metadata": {},
   "source": [
    "O `*args` e `**kwargs` permitem que o decorator funcione com funções de qualquer assinatura.\n"
   ]
  },
  {
   "cell_type": "markdown",
   "metadata": {},
   "source": [
    "### Decorators com Retorno de Funções\n",
    "\n",
    "Um decorator pode também alterar o valor de retorno da função original. Aqui está um exemplo onde o decorator altera o valor retornado pela função:"
   ]
  },
  {
   "cell_type": "code",
   "execution_count": 3,
   "metadata": {},
   "outputs": [
    {
     "name": "stdout",
     "output_type": "stream",
     "text": [
      "Antes da função ser chamada\n",
      "Depois da função ser chamada\n",
      "Resultado modificado: Olá, Maria!\n"
     ]
    }
   ],
   "source": [
    "def meu_decorator(func):\n",
    "    def wrapper(*args, **kwargs):\n",
    "        print(\"Antes da função ser chamada\")\n",
    "        result = func(*args, **kwargs)\n",
    "        print(\"Depois da função ser chamada\")\n",
    "        return f\"Resultado modificado: {result}\"\n",
    "    return wrapper\n",
    "\n",
    "@meu_decorator\n",
    "def saudacao(nome):\n",
    "    return f\"Olá, {nome}!\"\n",
    "\n",
    "print(saudacao(\"Maria\"))\n"
   ]
  },
  {
   "cell_type": "markdown",
   "metadata": {},
   "source": [
    "### Creating Decorators"
   ]
  },
  {
   "cell_type": "code",
   "execution_count": 4,
   "metadata": {},
   "outputs": [
    {
     "name": "stdout",
     "output_type": "stream",
     "text": [
      "HELLO THERE\n",
      "HELLO THERE\n",
      "['HELLO', 'THERE']\n",
      "My arguments are: Nairobi, Accra\n",
      "None\n",
      "The positional arguments are ()\n",
      "The keyword arguments are {}\n",
      "No arguments here.\n",
      "The positional arguments are (1, 2, 3)\n",
      "The keyword arguments are {}\n",
      "1 2 3\n",
      "The wrapper can access all the variables\n",
      "\t- from the decorator maker: Pandas Numpy Scikit-learn\n",
      "\t- from the function call: Pandas Science Tools\n",
      "and pass them to the decorated function\n",
      "This is the decorated function and it only knows about its arguments: Pandas Science Tools\n"
     ]
    }
   ],
   "source": [
    "# https://www.datacamp.com/tutorial/decorators-python?utm_source=google&utm_medium=paid_search&utm_campaignid=19589720824&utm_adgroupid=143216588537&utm_device=c&utm_keyword=&utm_matchtype=&utm_network=g&utm_adpostion=&utm_creative=661628555495&utm_targetid=dsa-1947282172981&utm_loc_interest_ms=&utm_loc_physical_ms=1031586&utm_content=dsa~page~community-tuto&utm_campaign=230119_1-sea~dsa~tutorials_2-b2c_3-row-p2_4-prc_5-na_6-na_7-le_8-pdsh-go_9-na_10-na_11-na&gclid=Cj0KCQjwoeemBhCfARIsADR2QCvUUfoOANAUK9CKv2oMJrHQo_IIDlOH6VFdN7HXuQrYADqTDq4iwD8aAs9aEALw_wcB\n",
    "def uppercase_decorator(function):\n",
    "    def wrapper():\n",
    "        func = function()\n",
    "        make_uppercase = func.upper()\n",
    "        return make_uppercase\n",
    "\n",
    "    return wrapper\n",
    "\n",
    "\n",
    "def split_string(function):\n",
    "    def wrapper():\n",
    "        func = function()\n",
    "        splitted_string = func.split()\n",
    "        return splitted_string\n",
    "\n",
    "    return wrapper\n",
    "\n",
    "\n",
    "def say_hi0():\n",
    "    return 'hello there'\n",
    "\n",
    "\n",
    "@uppercase_decorator\n",
    "def say_hi1():\n",
    "    return 'hello there'\n",
    "\n",
    "\n",
    "@split_string\n",
    "@uppercase_decorator\n",
    "def say_hi2():\n",
    "    return 'hello there'\n",
    "\n",
    "\n",
    "def decorator_with_arguments(function):\n",
    "    def wrapper_accepting_arguments(arg1, arg2):\n",
    "        print(\"My arguments are: {0}, {1}\".format(arg1, arg2))\n",
    "        function(arg1, arg2)\n",
    "    return wrapper_accepting_arguments\n",
    "\n",
    "\n",
    "@decorator_with_arguments\n",
    "def cities(city_one, city_two):\n",
    "    return \"Cities I love are {0} and {1}\".format(city_one, city_two)\n",
    "\n",
    "\n",
    "def a_decorator_passing_arbitrary_arguments(function_to_decorate):\n",
    "    def a_wrapper_accepting_arbitrary_arguments(*args, **kwargs):\n",
    "        print('The positional arguments are', args)\n",
    "        print('The keyword arguments are', kwargs)\n",
    "        function_to_decorate(*args)\n",
    "    return a_wrapper_accepting_arbitrary_arguments\n",
    "\n",
    "\n",
    "@a_decorator_passing_arbitrary_arguments\n",
    "def function_with_no_argument():\n",
    "    print(\"No arguments here.\")\n",
    "\n",
    "\n",
    "@a_decorator_passing_arbitrary_arguments\n",
    "def function_with_arguments(a, b, c):\n",
    "    print(a, b, c)\n",
    "\n",
    "def decorator_maker_with_arguments(decorator_arg1, decorator_arg2, decorator_arg3):\n",
    "    def decorator(func):\n",
    "        def wrapper(function_arg1, function_arg2, function_arg3) :\n",
    "            \"This is the wrapper function\"\n",
    "            print(\"The wrapper can access all the variables\\n\"\n",
    "                  \"\\t- from the decorator maker: {0} {1} {2}\\n\"\n",
    "                  \"\\t- from the function call: {3} {4} {5}\\n\"\n",
    "                  \"and pass them to the decorated function\"\n",
    "                  .format(decorator_arg1, decorator_arg2,decorator_arg3,\n",
    "                          function_arg1, function_arg2,function_arg3))\n",
    "            return func(function_arg1, function_arg2,function_arg3)\n",
    "\n",
    "        return wrapper\n",
    "\n",
    "    return decorator\n",
    "\n",
    "pandas = \"Pandas\"\n",
    "@decorator_maker_with_arguments(pandas, \"Numpy\",\"Scikit-learn\")\n",
    "def decorated_function_with_arguments(function_arg1, function_arg2,function_arg3):\n",
    "    print(\"This is the decorated function and it only knows about its arguments: {0}\"\n",
    "           \" {1}\" \" {2}\".format(function_arg1, function_arg2,function_arg3))\n",
    "\n",
    "\n",
    "decorate = uppercase_decorator(say_hi0)\n",
    "print(decorate())\n",
    "print(say_hi1())\n",
    "print(say_hi2())\n",
    "print(cities(\"Nairobi\", \"Accra\"))\n",
    "function_with_no_argument()\n",
    "function_with_arguments(1, 2, 3)\n",
    "decorated_function_with_arguments(pandas, \"Science\", \"Tools\")\n"
   ]
  }
 ],
 "metadata": {
  "kernelspec": {
   "display_name": "Python 3",
   "language": "python",
   "name": "python3"
  },
  "language_info": {
   "codemirror_mode": {
    "name": "ipython",
    "version": 3
   },
   "file_extension": ".py",
   "mimetype": "text/x-python",
   "name": "python",
   "nbconvert_exporter": "python",
   "pygments_lexer": "ipython3",
   "version": "3.10.11"
  }
 },
 "nbformat": 4,
 "nbformat_minor": 2
}
