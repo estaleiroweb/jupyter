{
 "cells": [
  {
   "cell_type": "markdown",
   "metadata": {},
   "source": [
    "# Function definitions"
   ]
  },
  {
   "cell_type": "markdown",
   "metadata": {},
   "source": [
    "Function with 2 required parameters and return 2 values"
   ]
  },
  {
   "cell_type": "code",
   "execution_count": null,
   "metadata": {},
   "outputs": [],
   "source": [
    "def func_name1(parm1, parm2):\n",
    "    return 1, 3\n",
    "func_name1(1,2)"
   ]
  },
  {
   "cell_type": "markdown",
   "metadata": {},
   "source": [
    "Function with 2 optional parameters and return 1 value\\\n",
    "Call function declaring the second parameter"
   ]
  },
  {
   "cell_type": "code",
   "execution_count": null,
   "metadata": {},
   "outputs": [],
   "source": [
    "def func_name2(max=10, min=0):\n",
    "    return max\n",
    "func_name2(min=1)"
   ]
  },
  {
   "cell_type": "markdown",
   "metadata": {},
   "source": [
    "Function with 2 optional typed parameters and typed return\\\n",
    "Call function without parameters"
   ]
  },
  {
   "cell_type": "code",
   "execution_count": null,
   "metadata": {},
   "outputs": [],
   "source": [
    "def func_name3(max: int = 10, min: int = 0) -> int:\n",
    "    return max\n",
    "func_name3()"
   ]
  },
  {
   "cell_type": "markdown",
   "metadata": {},
   "source": [
    "Function with list int typed parameter"
   ]
  },
  {
   "cell_type": "code",
   "execution_count": 5,
   "metadata": {},
   "outputs": [
    {
     "data": {
      "text/plain": [
       "1"
      ]
     },
     "execution_count": 5,
     "metadata": {},
     "output_type": "execute_result"
    }
   ],
   "source": [
    "def func_name42(l: 'list[int]', index: int = 0) -> int:\n",
    "    return l[index]\n",
    "func_name42([1,2,3,4,5])"
   ]
  },
  {
   "cell_type": "markdown",
   "metadata": {},
   "source": [
    "Function with n parameters (list)"
   ]
  },
  {
   "cell_type": "code",
   "execution_count": null,
   "metadata": {},
   "outputs": [],
   "source": [
    "def func_name5(*kids):\n",
    "    print(\"The youngest child is \" + kids[2])\n",
    "\n",
    "\n",
    "def junte(*args, sep='/'):\n",
    "    return sep.join(args)\n",
    "\n",
    "\n",
    "func_name5('Emil', 'Tobias', 'Linus')\n",
    "junte('Emil', 'Tobias', 'Linus')"
   ]
  },
  {
   "cell_type": "markdown",
   "metadata": {},
   "source": [
    "Function with 1+n parameters (dict)"
   ]
  },
  {
   "cell_type": "code",
   "execution_count": null,
   "metadata": {},
   "outputs": [],
   "source": [
    "def func_name6(student, **grades):\n",
    "    for key, value in grades.items():\n",
    "        print(f'{student}: {key}={value}')\n",
    "func_name6('test1', FirstTest=68, SecondTest=72)"
   ]
  },
  {
   "cell_type": "markdown",
   "metadata": {},
   "source": [
    "Function usign global variable"
   ]
  },
  {
   "cell_type": "code",
   "execution_count": 17,
   "metadata": {},
   "outputs": [
    {
     "name": "stdout",
     "output_type": "stream",
     "text": [
      "external global\n",
      "internal global\n",
      "internal local\n",
      "external local\n",
      "external global\n",
      "external global 2\n",
      "external global 2\n"
     ]
    }
   ],
   "source": [
    "gVar = 'global'\n",
    "\n",
    "\n",
    "def func_name7():\n",
    "    return gVar  # global var\n",
    "\n",
    "\n",
    "def func_name8():\n",
    "    gVar = 'local'  # local var defining\n",
    "    print('internal:', globals()['gVar'])  # getting global var\n",
    "    print('internal:', locals()['gVar'])  # getting local var\n",
    "    return gVar  # local var\n",
    "\n",
    "\n",
    "def func_name9():\n",
    "    global gVar  # implicite global var defining\n",
    "    gVar = 'global 2'  # global var defining\n",
    "    return gVar  # global var\n",
    "\n",
    "\n",
    "print('external:', func_name7())\n",
    "print('external:', func_name8())\n",
    "print('external:', gVar)\n",
    "print('external:', func_name9())\n",
    "print('external:', gVar)\n"
   ]
  },
  {
   "cell_type": "markdown",
   "metadata": {},
   "source": [
    "Call function as list/tuple/set/dict arguments"
   ]
  },
  {
   "cell_type": "code",
   "execution_count": 31,
   "metadata": {},
   "outputs": [
    {
     "name": "stdout",
     "output_type": "stream",
     "text": [
      "List:\n",
      "arg1 = one, arg2 = two, arg3 = three\n",
      "arg1 = one, arg2 = two, arg3 = three\n",
      "\n",
      "Tuple:\n",
      "arg1 = one, arg2 = two, arg3 = three\n",
      "arg1 = one, arg2 = two, arg3 = three\n",
      "\n",
      "Set:\n",
      "arg1 = three, arg2 = two, arg3 = one\n",
      "arg1 = three, arg2 = two, arg3 = one\n",
      "\n",
      "Dict:\n",
      "arg1 = one, arg2 = two, arg3 = three\n",
      "arg1 = one, arg2 = two, arg3 = three\n"
     ]
    }
   ],
   "source": [
    "def func_name10(arg1, arg2, arg3):\n",
    "    print('arg1 =', arg1,end=', ')\n",
    "    print('arg2 =', arg2,end=', ')\n",
    "    print('arg3 =', arg3)\n",
    "\n",
    "\n",
    "print('List:')\n",
    "l = ['one', 'two', 'three']\n",
    "func_name10(*l)\n",
    "func_name10(*['one', 'two', 'three'])\n",
    "\n",
    "print('\\nTuple:')\n",
    "t = ('one', 'two', 'three')\n",
    "func_name10(*t)\n",
    "func_name10(*('one', 'two', 'three'))\n",
    "\n",
    "print('\\nSet:')\n",
    "s = {'one', 'two', 'three'}\n",
    "func_name10(*s)\n",
    "func_name10(*{'one', 'two', 'three'})\n",
    "\n",
    "print('\\nDict:')\n",
    "d = {'arg1': 'one', 'arg2': 'two', 'arg3': 'three'}\n",
    "func_name10(**d)\n",
    "func_name10(**{'arg1': 'one', 'arg2': 'two', 'arg3': 'three'})"
   ]
  }
 ],
 "metadata": {
  "kernelspec": {
   "display_name": "Python 3",
   "language": "python",
   "name": "python3"
  },
  "language_info": {
   "codemirror_mode": {
    "name": "ipython",
    "version": 3
   },
   "file_extension": ".py",
   "mimetype": "text/x-python",
   "name": "python",
   "nbconvert_exporter": "python",
   "pygments_lexer": "ipython3",
   "version": "3.10.11"
  },
  "orig_nbformat": 4
 },
 "nbformat": 4,
 "nbformat_minor": 2
}
