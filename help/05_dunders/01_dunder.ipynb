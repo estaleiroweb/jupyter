{
 "cells": [
  {
   "cell_type": "markdown",
   "metadata": {},
   "source": [
    "# Dunders"
   ]
  },
  {
   "cell_type": "markdown",
   "metadata": {},
   "source": [
    "O nome \"dunder\" vem de \"double underscore\" (duplo sublinhado).\n",
    "\n",
    "São métodos ou atributos especiais em Python que possuem **dois underscores (`__`) antes e depois do nome**. O nome vem de **\"Double Underscore\"**, e esses métodos são usados internamente pelo Python para diversas operações.  \n",
    "\n",
    "Exemplos:  \n",
    "- `__init__` (construtor de classe)  \n",
    "- `__str__` (representação em string)  \n",
    "- `__len__` (define o comportamento da função `len()`)  "
   ]
  },
  {
   "cell_type": "markdown",
   "metadata": {},
   "source": [
    "### Dunders de Metadados\n",
    "| **Dunder**        | **Descrição**                                                         | **Acc** |\n",
    "| ----------------- | --------------------------------------------------------------------- | :-----: |\n",
    "| `__name__`        | Nome do módulo ou `\"__main__\"` se for executado diretamente           |    R    |\n",
    "| `__path__`        | Caminho de pacotes, disponível apenas em pacotes                      |    R    |\n",
    "| `__debug__`       | `True` se o Python estiver rodando sem otimização (`-O`)              |    R    |\n",
    "| `__spec__`        | Informações sobre a importação do módulo                              |    R    |\n",
    "| `__file__`        | Caminho do arquivo do script Python/módulo                            |   RW    |\n",
    "| `__version__`     | A versão do módulo                                                    |   RW    |\n",
    "| `__author__`      | O autor ou autores do módulo                                          |   RW    |\n",
    "| `__doc__`         | Docstring do módulo, classe ou função                                 |   RW    |\n",
    "| `__all__`         | Itens que são exportados quando import * é usado                      |   RW    |\n",
    "| `__package__`     | Nome do pacote a partir do qual o módulo foi carregado                |   RW    |\n",
    "| `__loader__`      | O carregador do módulo                                                |   RW    |\n",
    "| `__maintainer__`  | O mantenedor ativo do código                                          |   RW    |\n",
    "| `__status__`      | O status do projeto (ex. Stable, Beta)                                |   RW    |\n",
    "| `__credits__`     | Contribuidores do projeto                                             |   RW    |\n",
    "| `__copyright__`   | Informação de direitos autorais                                       |   RW    |\n",
    "| `__license__`     | Licença sob a qual o módulo é distribuído                             |   RW    |\n",
    "| `__builtins__`    | Dicionário com todas as funções embutidas (`print()`, `len()`, etc.). |    R    |\n",
    "| `__dict__`        | Dicionário com todos os atributos de um objeto.                       |    R    |\n",
    "| `__annotations__` | Anotações de tipo de uma função ou classe.                            |    R    |\n",
    "| `__import__`      | Função para importar módulos dinamicamente.                           |    R    |\n",
    "\n",
    "## Resumo\n",
    "| Situação                      | `__name__`        | `__package__` |\n",
    "| ----------------------------- | ----------------- | ------------- |\n",
    "| Arquivo executado diretamente | `\"__main__\"`      | `None`        |\n",
    "| Módulo importado de um pacote | `\"pacote.modulo\"` | `\"pacote\"`    |"
   ]
  },
  {
   "cell_type": "code",
   "execution_count": null,
   "metadata": {},
   "outputs": [
    {
     "name": "stdout",
     "output_type": "stream",
     "text": [
      "__main__\n",
      "Este script está sendo executado diretamente.\n",
      "----------------------------------------------------------------------------------------------------\n",
      "Não executado a partir de um arquivo\n",
      "----------------------------------------------------------------------------------------------------\n",
      "Este código está em modo de depuração!\n",
      "----------------------------------------------------------------------------------------------------\n",
      "3.10.11 (tags/v3.10.11:7d4cc5a, Apr  5 2023, 00:38:17) [MSC v.1929 64 bit (AMD64)]\n",
      "----------------------------------------------------------------------------------------------------\n"
     ]
    }
   ],
   "source": [
    "import os\n",
    "\n",
    "print(__name__)  # \"__main__\" se for executado diretamente\n",
    "if __name__ == \"__main__\":\n",
    "    print(\"Este script está sendo executado diretamente.\")\n",
    "print('-'*100)\n",
    "\n",
    "# print(__file__)  # Caminho do script\n",
    "print(os.path.abspath(__file__) if \"__file__\" in globals() else \"Não executado a partir de um arquivo\")\n",
    "print('-'*100)\n",
    "\n",
    "if __debug__:\n",
    "    print(\"Este código está em modo de depuração!\")\n",
    "else:\n",
    "    print(\"Este código NÃO está em modo de depuração!\")\n",
    "print('-'*100)\n",
    "\n",
    "import sys\n",
    "print(sys.version)  # Versão do Python\n",
    "print('-'*100)\n"
   ]
  },
  {
   "cell_type": "code",
   "execution_count": null,
   "metadata": {},
   "outputs": [
    {
     "name": "stdout",
     "output_type": "stream",
     "text": [
      "Este script está sendo executado diretamente.\n",
      "9\n",
      "hello\n"
     ]
    }
   ],
   "source": [
    "print(__builtins__.sum([1,2,3,3]))\n",
    "__builtins__.print('hello')"
   ]
  },
  {
   "cell_type": "code",
   "execution_count": 25,
   "metadata": {},
   "outputs": [
    {
     "name": "stdout",
     "output_type": "stream",
     "text": [
      "__dict__:\n",
      "{'x': 10}\n",
      "----------------------------------------------------------------------------------------------------\n",
      "__annotations__:\n",
      "{'x': <class 'int'>, 'y': <class 'str'>}\n",
      "{'x': <class 'int'>}\n",
      "{'x': <class 'int'>}\n",
      "{'a': <class 'int'>, 'b': <class 'int'>, 'return': <class 'int'>}\n",
      "----------------------------------------------------------------------------------------------------\n",
      "__doc__:\n",
      "file: This is the example module.\n",
      "\n",
      "This module does stuff.\n",
      "\n",
      "function: Exemplo de docstring de função\n",
      "class: Exemplo de docstring de classe\n",
      "Object: Exemplo de docstring de classe\n",
      "method: Exemplo de docstring de método\n",
      "method: Exemplo de docstring de método\n",
      "----------------------------------------------------------------------------------------------------\n"
     ]
    }
   ],
   "source": [
    "\"\"\"This is the example module.\n",
    "\n",
    "This module does stuff.\n",
    "\"\"\"\n",
    "\n",
    "\n",
    "class Teste:\n",
    "    \"\"\"Exemplo de docstring de classe\"\"\"\n",
    "\n",
    "    def __init__(self, x: int = 0):\n",
    "        \"\"\"Exemplo de docstring de método\"\"\"\n",
    "        self.x = x\n",
    "\n",
    "\n",
    "def soma(a: int, b: int) -> int:\n",
    "    \"\"\"Exemplo de docstring de função\"\"\"\n",
    "    return a + b\n",
    "\n",
    "\n",
    "x: int = 10\n",
    "y: str = \"Olá, Mundo\"\n",
    "\n",
    "\n",
    "obj = Teste(10)\n",
    "\n",
    "print('__dict__:')\n",
    "print(obj.__dict__)\n",
    "print('-'*100)\n",
    "\n",
    "print('__annotations__:')\n",
    "print(__annotations__)\n",
    "print(obj.__init__.__annotations__)\n",
    "print(Teste.__init__.__annotations__)\n",
    "print(soma.__annotations__)\n",
    "print('-'*100)\n",
    "\n",
    "print('__doc__:')\n",
    "print(f'file: {__doc__}')\n",
    "print(f'function: {soma.__doc__}')\n",
    "print(f'class: {Teste.__doc__}')\n",
    "print(f'Object: {obj.__doc__}')\n",
    "print(f'method: {Teste.__init__.__doc__}')\n",
    "print(f'method: {obj.__init__.__doc__}')\n",
    "print('-'*100)\n"
   ]
  },
  {
   "cell_type": "code",
   "execution_count": 26,
   "metadata": {},
   "outputs": [
    {
     "name": "stdout",
     "output_type": "stream",
     "text": [
      "5.0\n"
     ]
    }
   ],
   "source": [
    "modulo = __import__(\"math\")\n",
    "print(modulo.sqrt(25))  # 5.0"
   ]
  },
  {
   "cell_type": "markdown",
   "metadata": {},
   "source": [
    "\n",
    "\n",
    "## Existe algumas libs que adicionam mais Dunders\n",
    "\n",
    "1. **NumPy** adiciona `__array__` e `__array_wrap__` para personalizar arrays.\n",
    "2. **Pandas** usa `__dataframe__` para integrar DataFrames.\n",
    "3. **Django** adiciona `__meta__` para manipulação de modelos.\n",
    "4. **matplotlib** usa `__mpl_repr__` para representação de gráficos."
   ]
  },
  {
   "cell_type": "code",
   "execution_count": 28,
   "metadata": {},
   "outputs": [
    {
     "name": "stdout",
     "output_type": "stream",
     "text": [
      "6\n"
     ]
    }
   ],
   "source": [
    "import numpy as np\n",
    "class MeuArray:\n",
    "    def __array__(self):\n",
    "        return np.array([1, 2, 3])\n",
    "\n",
    "a = MeuArray()\n",
    "print(np.sum(a))  # 6"
   ]
  },
  {
   "cell_type": "markdown",
   "metadata": {},
   "source": [
    "## Principais Dunders e suas funções\n",
    "\n",
    "| **Dunder**                            | **Descrição**                                         |\n",
    "| ------------------------------------- | ----------------------------------------------------- |\n",
    "| `__init__`                            | Inicializa um objeto (construtor).                    |\n",
    "| `__str__`                             | Define a representação em string (`str(obj)`).        |\n",
    "| `__repr__`                            | Representação oficial para debug (`repr(obj)`).       |\n",
    "| `__len__`                             | Define o tamanho de um objeto (`len(obj)`).           |\n",
    "| `__call__`                            | Permite que o objeto seja chamado como uma função.    |\n",
    "| `__getitem__`                         | Permite acessar elementos com `obj[chave]`.           |\n",
    "| `__setitem__`                         | Permite modificar elementos com `obj[chave] = valor`. |\n",
    "| `__delitem__`                         | Permite deletar elementos com `del obj[chave]`.       |\n",
    "| `__contains__`                        | Define o comportamento do operador `in`.              |\n",
    "| `__eq__`, `__lt__`, `__gt__`, etc.    | Definem comparações (`==`, `<`, `>`).                 |\n",
    "| `__add__`, `__sub__`, `__mul__`, etc. | Definem operações matemáticas (`+`, `-`, `*`).        |"
   ]
  },
  {
   "cell_type": "markdown",
   "metadata": {},
   "source": [
    "### Exemplo com `__init__`, `__str__` e `__len__`"
   ]
  },
  {
   "cell_type": "code",
   "execution_count": 29,
   "metadata": {},
   "outputs": [
    {
     "name": "stdout",
     "output_type": "stream",
     "text": [
      "Livro: Python Avançado, 450 páginas\n",
      "450\n"
     ]
    }
   ],
   "source": [
    "class Livro:\n",
    "    def __init__(self, titulo, paginas):\n",
    "        self.titulo = titulo\n",
    "        self.paginas = paginas\n",
    "\n",
    "    def __str__(self):\n",
    "        return f\"Livro: {self.titulo}, {self.paginas} páginas\"\n",
    "\n",
    "    def __len__(self):\n",
    "        return self.paginas\n",
    "\n",
    "\n",
    "# Testando\n",
    "meu_livro = Livro(\"Python Avançado\", 450)\n",
    "print(meu_livro)    # Chama __str__\n",
    "print(len(meu_livro))  # Chama __len__"
   ]
  },
  {
   "cell_type": "markdown",
   "metadata": {},
   "source": [
    "### Exemplo com `__getitem__` e `__setitem__`"
   ]
  },
  {
   "cell_type": "code",
   "execution_count": 30,
   "metadata": {},
   "outputs": [
    {
     "name": "stdout",
     "output_type": "stream",
     "text": [
      "João\n",
      "Não encontrado\n"
     ]
    }
   ],
   "source": [
    "class MinhaLista:\n",
    "    def __init__(self):\n",
    "        self.dados = {}\n",
    "\n",
    "    def __getitem__(self, chave):\n",
    "        return self.dados.get(chave, \"Não encontrado\")\n",
    "\n",
    "    def __setitem__(self, chave, valor):\n",
    "        self.dados[chave] = valor\n",
    "\n",
    "# Testando\n",
    "lista = MinhaLista()\n",
    "lista[\"nome\"] = \"João\"\n",
    "print(lista[\"nome\"])  # Chama __getitem__\n",
    "print(lista[\"idade\"]) # Retorna \"Não encontrado\""
   ]
  },
  {
   "cell_type": "markdown",
   "metadata": {},
   "source": [
    "### Exemplo com `__call__`"
   ]
  },
  {
   "cell_type": "code",
   "execution_count": 31,
   "metadata": {},
   "outputs": [
    {
     "name": "stdout",
     "output_type": "stream",
     "text": [
      "20\n"
     ]
    }
   ],
   "source": [
    "class Multiplicador:\n",
    "    def __init__(self, fator):\n",
    "        self.fator = fator\n",
    "\n",
    "    def __call__(self, valor):\n",
    "        return valor * self.fator\n",
    "\n",
    "# Testando\n",
    "dobro = Multiplicador(2)\n",
    "print(dobro(10))  # Chama __call__"
   ]
  }
 ],
 "metadata": {
  "kernelspec": {
   "display_name": "Python 3",
   "language": "python",
   "name": "python3"
  },
  "language_info": {
   "codemirror_mode": {
    "name": "ipython",
    "version": 3
   },
   "file_extension": ".py",
   "mimetype": "text/x-python",
   "name": "python",
   "nbconvert_exporter": "python",
   "pygments_lexer": "ipython3",
   "version": "3.10.11"
  }
 },
 "nbformat": 4,
 "nbformat_minor": 2
}
