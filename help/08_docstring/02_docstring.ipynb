{
 "cells": [
  {
   "cell_type": "markdown",
   "metadata": {},
   "source": [
    "# Docstrings\n",
    "\n",
    "As **docstrings** são um tipo especial de comentário usado para documentar módulos, classes, funções e métodos no Python. Elas ajudam a tornar o código mais compreensível e facilitam a geração automática de documentação.  \n"
   ]
  },
  {
   "cell_type": "markdown",
   "metadata": {},
   "source": [
    "## Diferença entre Comentários e Docstrings\n",
    "\n",
    "| Característica         | Comentários (`#`)         | Docstrings (`\"\"\" \"\"\"`)                |\n",
    "| ---------------------- | ------------------------- | ------------------------------------- |\n",
    "| Propósito              | Explicar partes do código | Documentar módulos, funções e classes |\n",
    "| Padrão Python (PEP 8)  | Simples e curtos          | Estruturados e detalhados             |\n",
    "| Acessível via `help()` | ❌ Não                     | ✅ Sim                                 |\n",
    "| Armazenado na memória  | ❌ Não                     | ✅ Sim                                 |"
   ]
  },
  {
   "cell_type": "markdown",
   "metadata": {},
   "source": [
    "## O que são Docstrings?\n",
    "\n",
    "- São **strings de múltiplas linhas** (`\"\"\" \"\"\"` ou `''' '''`) colocadas logo após a definição de um módulo, função, classe ou método\n",
    "- Diferente de comentários comuns (`#`), as **docstrings ficam armazenadas na memória** e podem ser acessadas com `help()`, `__doc__` ou ferramentas de documentação\n",
    "- O `help()` formata melhor a saída da docstring"
   ]
  },
  {
   "cell_type": "markdown",
   "metadata": {},
   "source": [
    "## Como Usar Docstrings?\n",
    "\n",
    "- Funções e Métodos: A docstring deve ficar **imediatamente após a declaração** da função/método.  \n",
    "- Classes: A docstring de uma classe deve ficar **logo após a declaração da classe**.  \n",
    "- Módulos: Módulos também podem ter docstrings no início do arquivo.  \n",
    "- Scripts (Módulos Executáveis): Se o código for um script executável, use uma **docstring no topo** explicando sua finalidade.  \n"
   ]
  },
  {
   "cell_type": "code",
   "execution_count": 4,
   "metadata": {},
   "outputs": [
    {
     "name": "stdout",
     "output_type": "stream",
     "text": [
      "\n",
      "Este módulo contém funções matemáticas personalizadas.\n",
      "Autor: Seu Nome\n",
      "Data: 2025-03-02\n",
      "\n",
      "ou ...\n",
      "\n",
      "Script para analisar dados de vendas.\n",
      "Uso:\n",
      "    python analise.py <arquivo.csv>\n",
      "\n",
      "----------------------------------------------------------------------------------------------------\n",
      "Retorna a soma de dois números.\n",
      "\n",
      "    Parâmetros:\n",
      "    a (int, float) - Primeiro número\n",
      "    b (int, float) - Segundo número\n",
      "\n",
      "    Retorno:\n",
      "    int, float - Soma de `a` e `b`\n",
      "    \n",
      "----------------------------------------------------------------------------------------------------\n",
      "Help on function somar in module __main__:\n",
      "\n",
      "somar(a, b)\n",
      "    Retorna a soma de dois números.\n",
      "    \n",
      "    Parâmetros:\n",
      "    a (int, float) - Primeiro número\n",
      "    b (int, float) - Segundo número\n",
      "    \n",
      "    Retorno:\n",
      "    int, float - Soma de `a` e `b`\n",
      "\n",
      "None\n",
      "----------------------------------------------------------------------------------------------------\n",
      "Classe que representa um animal genérico.\n",
      "----------------------------------------------------------------------------------------------------\n",
      "Método que deve ser sobrescrito pelas subclasses.\n",
      "----------------------------------------------------------------------------------------------------\n"
     ]
    }
   ],
   "source": [
    "\"\"\"\n",
    "Este módulo contém funções matemáticas personalizadas.\n",
    "Autor: Seu Nome\n",
    "Data: 2025-03-02\n",
    "\n",
    "ou ...\n",
    "\n",
    "Script para analisar dados de vendas.\n",
    "Uso:\n",
    "    python analise.py <arquivo.csv>\n",
    "\"\"\"\n",
    "\n",
    "def somar(a, b):\n",
    "    \"\"\"Retorna a soma de dois números.\n",
    "\n",
    "    Parâmetros:\n",
    "    a (int, float) - Primeiro número\n",
    "    b (int, float) - Segundo número\n",
    "\n",
    "    Retorno:\n",
    "    int, float - Soma de `a` e `b`\n",
    "    \"\"\"\n",
    "    return a + b\n",
    "\n",
    "class Animal:\n",
    "    \"\"\"Classe que representa um animal genérico.\"\"\"\n",
    "    \n",
    "    def __init__(self, nome):\n",
    "        \"\"\"Inicializa o animal com um nome.\"\"\"\n",
    "        self.nome = nome\n",
    "\n",
    "    def falar(self):\n",
    "        \"\"\"Método que deve ser sobrescrito pelas subclasses.\"\"\"\n",
    "        raise NotImplementedError(\"Subclasses devem implementar este método!\")\n",
    "    \n",
    "\n",
    "print(__doc__)\n",
    "print('-'*100)\n",
    "\n",
    "print(somar.__doc__)\n",
    "print('-'*100)\n",
    "\n",
    "print(help(somar))\n",
    "print('-'*100)\n",
    "\n",
    "print(Animal.__doc__)\n",
    "print('-'*100)\n",
    "\n",
    "print(Animal.falar.__doc__)\n",
    "print('-'*100)\n"
   ]
  },
  {
   "cell_type": "markdown",
   "metadata": {},
   "source": [
    "## Convenções de Formatação\n",
    "\n",
    "O **PEP 257** define boas práticas para docstrings.  "
   ]
  },
  {
   "cell_type": "markdown",
   "metadata": {},
   "source": [
    "### Formato Simples (1 linha)\n",
    "\n",
    "Se a explicação for curta, use uma única linha.  "
   ]
  },
  {
   "cell_type": "code",
   "execution_count": null,
   "metadata": {},
   "outputs": [],
   "source": [
    "def quadrado(n):\n",
    "    \"\"\"Retorna o quadrado de um número.\"\"\"\n",
    "    return n * n"
   ]
  },
  {
   "cell_type": "markdown",
   "metadata": {},
   "source": [
    "### Formato Detalhado (Múltiplas Linhas)\n",
    "\n",
    "Use **múltiplas linhas** para explicações mais detalhadas.  "
   ]
  },
  {
   "cell_type": "code",
   "execution_count": null,
   "metadata": {},
   "outputs": [],
   "source": [
    "def dividir(a, b):\n",
    "    \"\"\"Retorna a divisão de `a` por `b`.\n",
    "\n",
    "    Args:\n",
    "    a (int, float) - Numerador\n",
    "    b (int, float) - Denominador\n",
    "\n",
    "    Returns:\n",
    "    float - Resultado da divisão\n",
    "\n",
    "    Exceptions:\n",
    "    ZeroDivisionError - Se `b` for 0\n",
    "    \"\"\"\n",
    "    if b == 0:\n",
    "        raise ZeroDivisionError(\"Denominador não pode ser zero!\")\n",
    "    return a / b"
   ]
  },
  {
   "cell_type": "markdown",
   "metadata": {},
   "source": [
    "## Docstrings e Ferramentas de Documentação\n",
    "\n",
    "Ferramentas como **Sphinx, pydoc e Doxygen** podem extrair docstrings para gerar **documentação automática**.  \n",
    "\n",
    "Exemplo de docstring no estilo **Google**:"
   ]
  },
  {
   "cell_type": "markdown",
   "metadata": {},
   "source": [
    "\n",
    "```python\n",
    "def multiplicar(a: int, b: int) -> int:\n",
    "    \"\"\"Multiplica dois números.\n",
    "\n",
    "    Args:\n",
    "        a (int): Primeiro número.\n",
    "        b (int): Segundo número.\n",
    "\n",
    "    Returns:\n",
    "        int: O produto de `a` e `b`.\n",
    "    \"\"\"\n",
    "    return a * b\n",
    "```\n",
    "\n",
    "## Resumo Rápido\n",
    "\n",
    "- **Docstrings são usadas para documentar código.**\n",
    "- **Podem ser acessadas com `help()` e `__doc__`.**\n",
    "- **Seguem convenções do PEP 257.** <https://peps.python.org/pep-0257/>\n",
    "- **Ferramentas como Sphinx usam docstrings para gerar documentação automática.**\n"
   ]
  }
 ],
 "metadata": {
  "kernelspec": {
   "display_name": "Python 3",
   "language": "python",
   "name": "python3"
  },
  "language_info": {
   "codemirror_mode": {
    "name": "ipython",
    "version": 3
   },
   "file_extension": ".py",
   "mimetype": "text/x-python",
   "name": "python",
   "nbconvert_exporter": "python",
   "pygments_lexer": "ipython3",
   "version": "3.10.11"
  }
 },
 "nbformat": 4,
 "nbformat_minor": 2
}
