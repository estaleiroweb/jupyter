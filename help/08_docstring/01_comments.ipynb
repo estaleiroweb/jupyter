{
 "cells": [
  {
   "cell_type": "markdown",
   "metadata": {},
   "source": [
    "# Comentários no Python 💬\n",
    "\n",
    "Comentários são trechos de código ignorados pelo interpretador do Python. Eles são essenciais para documentar e explicar o código, tornando-o mais compreensível para outros desenvolvedores (ou para você mesmo no futuro!).  \n"
   ]
  },
  {
   "cell_type": "markdown",
   "metadata": {},
   "source": [
    "##  Comentários de Linha Única  \n",
    "\n",
    "Para criar um comentário de linha única, use o caractere `#` antes do texto:\n",
    "\n",
    "🔹 Tudo após `#` na mesma linha será ignorado pelo interpretador.  \n"
   ]
  },
  {
   "cell_type": "code",
   "execution_count": null,
   "metadata": {},
   "outputs": [],
   "source": [
    "# Este é um comentário de uma linha\n",
    "print(\"Olá, mundo!\")  # Comentário no final da linha"
   ]
  },
  {
   "cell_type": "markdown",
   "metadata": {},
   "source": [
    "##  Comentários de Múltiplas Linhas  \n",
    "\n",
    "O Python não possui um **comentário de múltiplas linhas** oficial, mas existem algumas maneiras de simular isso.  "
   ]
  },
  {
   "cell_type": "markdown",
   "metadata": {},
   "source": [
    "###  Método 1: Usando `#` em várias linhas  "
   ]
  },
  {
   "cell_type": "code",
   "execution_count": null,
   "metadata": {},
   "outputs": [],
   "source": [
    "# Este é um comentário de várias linhas\n",
    "# que descreve um trecho de código\n",
    "# explicando sua funcionalidade."
   ]
  },
  {
   "cell_type": "markdown",
   "metadata": {},
   "source": [
    "###  Método 2: Usando Strings de Múltiplas Linhas (`\"\"\"` ou `'''`)  \n",
    "\n",
    "Strings de múltiplas linhas podem ser usadas como comentários, pois o Python as ignora quando não são atribuídas a uma variável:\n",
    "\n",
    "🔹 Esse método **não é um comentário real**, mas sim uma string multilinha que não é usada.  \n"
   ]
  },
  {
   "cell_type": "code",
   "execution_count": null,
   "metadata": {},
   "outputs": [],
   "source": [
    "\"\"\"\n",
    "Este é um comentário de múltiplas linhas.\n",
    "Ele pode ser usado para documentar partes do código.\n",
    "\"\"\"\n",
    "print(\"Executando código...\")"
   ]
  },
  {
   "cell_type": "markdown",
   "metadata": {},
   "source": [
    "##  Comentários em Docstrings (Documentação Oficial do Código)  \n",
    "\n",
    "O Python permite documentar funções, classes e módulos usando **docstrings**, que são **strings de múltiplas linhas** (`\"\"\" \"\"\"` ou `''' '''`) logo após a definição de uma função, classe ou módulo.\n",
    "\n",
    "🔹 Essa documentação pode ser acessada com `help()`:\n",
    "\n",
    "💡 **Dica:** Docstrings são amplamente usadas para **geração automática de documentação** em frameworks como Sphinx."
   ]
  },
  {
   "cell_type": "code",
   "execution_count": 1,
   "metadata": {},
   "outputs": [
    {
     "name": "stdout",
     "output_type": "stream",
     "text": [
      "Help on function somar in module __main__:\n",
      "\n",
      "somar(a, b)\n",
      "    Retorna a soma de dois números.\n",
      "    Parâmetros:\n",
      "    a (int, float) - Primeiro número\n",
      "    b (int, float) - Segundo número\n",
      "\n",
      "None\n"
     ]
    }
   ],
   "source": [
    "def somar(a, b):\n",
    "    \"\"\" \n",
    "    Retorna a soma de dois números.\n",
    "    Parâmetros:\n",
    "    a (int, float) - Primeiro número\n",
    "    b (int, float) - Segundo número\n",
    "    \"\"\"\n",
    "    return a + b\n",
    "\n",
    "print(help(somar))\n"
   ]
  },
  {
   "cell_type": "markdown",
   "metadata": {},
   "source": [
    "##  Comentários em Código Pythonico (PEP 8)  \n",
    "\n",
    "O **PEP 8** (guia de estilo do Python) recomenda:\n",
    "\n",
    "- ✅ **Comentários devem ser claros, diretos e úteis.**\n",
    "- ✅ **Evite redundância** – o código deve ser legível por si só.\n",
    "- ✅ **Use inglês nos comentários** se o código for para um projeto internacional."
   ]
  },
  {
   "cell_type": "code",
   "execution_count": null,
   "metadata": {},
   "outputs": [],
   "source": [
    "# Ruim ❌\n",
    "x = 10  # A variável x recebe 10\n",
    "\n",
    "# Bom ✅\n",
    "limite_de_usuarios = 100  # Max number of allow users"
   ]
  },
  {
   "cell_type": "markdown",
   "metadata": {},
   "source": [
    "##  Comentários em Código Python Interativo (`#!` e `# -*- coding: utf-8 -*-`)  \n",
    "\n",
    "- 🔹 **Shebang (`#!`)** → Indica ao sistema qual interpretador usar (usado em scripts de terminal sempre na primeira linha).  \n",
    "- 🔹 **Encoding (`# -*- coding: utf-8 -*-`)** → Define a codificação de caracteres, útil para caracteres especiais.  \n"
   ]
  },
  {
   "cell_type": "code",
   "execution_count": null,
   "metadata": {},
   "outputs": [],
   "source": [
    "#!/usr/bin/env python3\n",
    "# -*- coding: utf-8 -*-"
   ]
  }
 ],
 "metadata": {
  "kernelspec": {
   "display_name": "Python 3",
   "language": "python",
   "name": "python3"
  },
  "language_info": {
   "codemirror_mode": {
    "name": "ipython",
    "version": 3
   },
   "file_extension": ".py",
   "mimetype": "text/x-python",
   "name": "python",
   "nbconvert_exporter": "python",
   "pygments_lexer": "ipython3",
   "version": "3.10.11"
  }
 },
 "nbformat": 4,
 "nbformat_minor": 2
}
