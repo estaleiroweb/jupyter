{
 "cells": [
  {
   "cell_type": "markdown",
   "metadata": {},
   "source": [
    "https://sparkbyexamples.com/pandas/pandas-read-excel-with-examples/"
   ]
  },
  {
   "cell_type": "code",
   "execution_count": null,
   "metadata": {},
   "outputs": [],
   "source": [
    "file='file.xlsx'"
   ]
  },
  {
   "cell_type": "code",
   "execution_count": null,
   "metadata": {},
   "outputs": [],
   "source": [
    "# xlsx, xls\n",
    "from openpyxl import load_workbook\n",
    "\n",
    "def get_sheetnames_xlsx(file):\n",
    "    wb = load_workbook(file, read_only=True, keep_links=False)\n",
    "    return wb.sheetnames"
   ]
  },
  {
   "cell_type": "code",
   "execution_count": null,
   "metadata": {},
   "outputs": [],
   "source": [
    "# xlsb\n",
    "from pyxlsb import open_workbook\n",
    "\n",
    "def get_sheetnames_xlsb(filepath):\n",
    "  with open_workbook(filepath) as wb:\n",
    "     return wb.sheets"
   ]
  },
  {
   "cell_type": "code",
   "execution_count": null,
   "metadata": {},
   "outputs": [],
   "source": [
    "import pandas as pd\n",
    "excel_Sheet_names = (pd.ExcelFile(file)).sheet_names\n",
    "\n",
    "#for '.xlsx' use only  openpyxl\n",
    "\n",
    "from openpyxl import load_workbook\n",
    "excel_Sheet_names = (load_workbook(file, read_only=True)).sheet_names"
   ]
  },
  {
   "cell_type": "code",
   "execution_count": null,
   "metadata": {},
   "outputs": [],
   "source": [
    "from zipfile import ZipFile\n",
    "from bs4 import BeautifulSoup  # you also need to install \"lxml\" for the XML parser\n",
    "\n",
    "with ZipFile(file) as zipped_file:\n",
    "    summary = zipped_file.open(r'xl/workbook.xml').read()\n",
    "soup = BeautifulSoup(summary, \"xml\")\n",
    "sheets = [sheet.get(\"name\") for sheet in soup.find_all(\"sheet\")]"
   ]
  },
  {
   "cell_type": "code",
   "execution_count": null,
   "metadata": {},
   "outputs": [],
   "source": [
    "def get_sheet_details(file_path):\n",
    "    sheets = []\n",
    "    file_name = os.path.splitext(os.path.split(file_path)[-1])[0]\n",
    "    # Make a temporary directory with the file name\n",
    "    directory_to_extract_to = os.path.join(settings.MEDIA_ROOT, file_name)\n",
    "    os.mkdir(directory_to_extract_to)\n",
    "\n",
    "    # Extract the xlsx file as it is just a zip file\n",
    "    zip_ref = zipfile.ZipFile(file_path, 'r')\n",
    "    zip_ref.extractall(directory_to_extract_to)\n",
    "    zip_ref.close()\n",
    "\n",
    "    # Open the workbook.xml which is very light and only has meta data, get sheets from it\n",
    "    path_to_workbook = os.path.join(directory_to_extract_to, 'xl', 'workbook.xml')\n",
    "    with open(path_to_workbook, 'r') as f:\n",
    "        xml = f.read()\n",
    "        dictionary = xmltodict.parse(xml)\n",
    "        for sheet in dictionary['workbook']['sheets']['sheet']:\n",
    "            sheet_details = {\n",
    "                'id': sheet['@sheetId'],\n",
    "                'name': sheet['@name']\n",
    "            }\n",
    "            sheets.append(sheet_details)\n",
    "\n",
    "    # Delete the extracted files directory\n",
    "    shutil.rmtree(directory_to_extract_to)\n",
    "    return sheets"
   ]
  },
  {
   "cell_type": "code",
   "execution_count": null,
   "metadata": {},
   "outputs": [],
   "source": [
    "import xml.etree.ElementTree as ET\n",
    "import zipfile\n",
    "\n",
    "def xlsxSheets(f):\n",
    "    zf = zipfile.ZipFile(f)\n",
    "\n",
    "    f = zf.open(r'xl/workbook.xml')\n",
    "\n",
    "    l = f.readline()\n",
    "    l = f.readline()\n",
    "    root = ET.fromstring(l)\n",
    "    sheets=[]\n",
    "    for c in root.findall('{http://schemas.openxmlformats.org/spreadsheetml/2006/main}sheets/*'):\n",
    "        sheets.append(c.attrib['name'])\n",
    "    return sheets\n"
   ]
  }
 ],
 "metadata": {
  "kernelspec": {
   "display_name": "Python 3.8.10 64-bit",
   "language": "python",
   "name": "python3"
  },
  "language_info": {
   "name": "python",
   "version": "3.8.10"
  },
  "orig_nbformat": 4,
  "vscode": {
   "interpreter": {
    "hash": "916dbcbb3f70747c44a77c7bcd40155683ae19c65e1c03b4aa3499c5328201f1"
   }
  }
 },
 "nbformat": 4,
 "nbformat_minor": 2
}
