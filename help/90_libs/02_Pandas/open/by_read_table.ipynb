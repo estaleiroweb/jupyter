{
 "cells": [
  {
   "cell_type": "markdown",
   "metadata": {},
   "source": [
    "# pandas.read_tableengine"
   ]
  },
  {
   "cell_type": "markdown",
   "metadata": {},
   "source": [
    "https://pandas.pydata.org/docs/reference/\n",
    "https://pandas.pydata.org/docs/reference/api/pandas.read_table.html"
   ]
  },
  {
   "cell_type": "markdown",
   "metadata": {},
   "source": [
    "pandas.read_table(filepath_or_buffer, sep=_NoDefault.no_default, delimiter=None, header='infer', names=_NoDefault.no_default, index_col=None, usecols=None, squeeze=None, prefix=_NoDefault.no_default, mangle_dupe_cols=True, dtype=None, engine=None, converters=None, true_values=None, false_values=None, skipinitialspace=False, skiprows=None, skipfooter=0, nrows=None, na_values=None, keep_default_na=True, na_filter=True, verbose=False, skip_blank_lines=True, parse_dates=False, infer_datetime_format=False, keep_date_col=False, date_parser=None, dayfirst=False, cache_dates=True, iterator=False, chunksize=None, compression='infer', thousands=None, decimal='.', lineterminator=None, quotechar='\"', quoting=0, doublequote=True, escapechar=None, comment=None, encoding=None, encoding_errors='strict', dialect=None, error_bad_lines=None, warn_bad_lines=None, on_bad_lines=None, delim_whitespace=False, low_memory=True, memory_map=False, float_precision=None, storage_options=None)"
   ]
  },
  {
   "cell_type": "code",
   "execution_count": 1,
   "metadata": {},
   "outputs": [],
   "source": [
    "import pandas as pd\n"
   ]
  },
  {
   "cell_type": "code",
   "execution_count": 4,
   "metadata": {},
   "outputs": [
    {
     "data": {
      "text/html": [
       "<div>\n",
       "<style scoped>\n",
       "    .dataframe tbody tr th:only-of-type {\n",
       "        vertical-align: middle;\n",
       "    }\n",
       "\n",
       "    .dataframe tbody tr th {\n",
       "        vertical-align: top;\n",
       "    }\n",
       "\n",
       "    .dataframe thead th {\n",
       "        text-align: right;\n",
       "    }\n",
       "</style>\n",
       "<table border=\"1\" class=\"dataframe\">\n",
       "  <thead>\n",
       "    <tr style=\"text-align: right;\">\n",
       "      <th></th>\n",
       "      <th>Courses</th>\n",
       "      <th>Fee</th>\n",
       "      <th>Duration</th>\n",
       "      <th>Discount</th>\n",
       "    </tr>\n",
       "  </thead>\n",
       "  <tbody>\n",
       "    <tr>\n",
       "      <th>0</th>\n",
       "      <td>Spark</td>\n",
       "      <td>25000</td>\n",
       "      <td>50 Days</td>\n",
       "      <td>2000</td>\n",
       "    </tr>\n",
       "    <tr>\n",
       "      <th>1</th>\n",
       "      <td>Pandas</td>\n",
       "      <td>20000</td>\n",
       "      <td>35 Days</td>\n",
       "      <td>1000</td>\n",
       "    </tr>\n",
       "    <tr>\n",
       "      <th>2</th>\n",
       "      <td>Java</td>\n",
       "      <td>15000</td>\n",
       "      <td>NaN</td>\n",
       "      <td>800</td>\n",
       "    </tr>\n",
       "    <tr>\n",
       "      <th>3</th>\n",
       "      <td>Python</td>\n",
       "      <td>15000</td>\n",
       "      <td>30 Days</td>\n",
       "      <td>500</td>\n",
       "    </tr>\n",
       "    <tr>\n",
       "      <th>4</th>\n",
       "      <td>PHP</td>\n",
       "      <td>18000</td>\n",
       "      <td>30 Days</td>\n",
       "      <td>800</td>\n",
       "    </tr>\n",
       "  </tbody>\n",
       "</table>\n",
       "</div>"
      ],
      "text/plain": [
       "  Courses    Fee Duration  Discount\n",
       "0   Spark  25000  50 Days      2000\n",
       "1  Pandas  20000  35 Days      1000\n",
       "2    Java  15000      NaN       800\n",
       "3  Python  15000  30 Days       500\n",
       "4     PHP  18000  30 Days       800"
      ]
     },
     "metadata": {},
     "output_type": "display_data"
    }
   ],
   "source": [
    "file = 'file.tsv'\n",
    "df = pd.read_table(file)\n",
    "display(df)"
   ]
  },
  {
   "cell_type": "code",
   "execution_count": 5,
   "metadata": {},
   "outputs": [
    {
     "data": {
      "text/html": [
       "<div>\n",
       "<style scoped>\n",
       "    .dataframe tbody tr th:only-of-type {\n",
       "        vertical-align: middle;\n",
       "    }\n",
       "\n",
       "    .dataframe tbody tr th {\n",
       "        vertical-align: top;\n",
       "    }\n",
       "\n",
       "    .dataframe thead th {\n",
       "        text-align: right;\n",
       "    }\n",
       "</style>\n",
       "<table border=\"1\" class=\"dataframe\">\n",
       "  <thead>\n",
       "    <tr style=\"text-align: right;\">\n",
       "      <th></th>\n",
       "      <th>Código OACI CIAD   Nome                                                                                Município                   UF                Município Servido     UF Servido        LATGEOPOINT   LONGEOPOINT   Latitude   Longitude    AltitudOperação Diurna      Operação Noturna     Designação 1Comprimento 1Largura 1Resistência 1     Superfície Designação 2Comprimento 2Largura 2Resistência 2     Superfície Situação  Validade do RegistPortaria de RegisLink Portaria</th>\n",
       "    </tr>\n",
       "  </thead>\n",
       "  <tbody>\n",
       "    <tr>\n",
       "      <th>0</th>\n",
       "      <td>SBRB        AC0001 Plácido de Castro          ...</td>\n",
       "    </tr>\n",
       "    <tr>\n",
       "      <th>1</th>\n",
       "      <td>SNGA        ES0007 Guarapari                  ...</td>\n",
       "    </tr>\n",
       "    <tr>\n",
       "      <th>2</th>\n",
       "      <td>SBIZ        MA0002 Prefeito Renato Moreira    ...</td>\n",
       "    </tr>\n",
       "    <tr>\n",
       "      <th>3</th>\n",
       "      <td>SBPC        MG0018 Embaixador Walther Moreira ...</td>\n",
       "    </tr>\n",
       "    <tr>\n",
       "      <th>4</th>\n",
       "      <td>SSCD        MS0007 Chapadão do Sul            ...</td>\n",
       "    </tr>\n",
       "    <tr>\n",
       "      <th>...</th>\n",
       "      <td>...</td>\n",
       "    </tr>\n",
       "    <tr>\n",
       "      <th>492</th>\n",
       "      <td>SWPG        MT0010 Porto dos Gaúchos          ...</td>\n",
       "    </tr>\n",
       "    <tr>\n",
       "      <th>493</th>\n",
       "      <td>SNIU        BA0030 Ipiaú                      ...</td>\n",
       "    </tr>\n",
       "    <tr>\n",
       "      <th>494</th>\n",
       "      <td>SBCH        SC0003 Serafin Enoss Bertaso      ...</td>\n",
       "    </tr>\n",
       "    <tr>\n",
       "      <th>495</th>\n",
       "      <td>SDAG        RJ0010 Angra Dos Reis             ...</td>\n",
       "    </tr>\n",
       "    <tr>\n",
       "      <th>496</th>\n",
       "      <td>SNMA        PA0019 Monte Alegre               ...</td>\n",
       "    </tr>\n",
       "  </tbody>\n",
       "</table>\n",
       "<p>497 rows × 1 columns</p>\n",
       "</div>"
      ],
      "text/plain": [
       "    Código OACI CIAD   Nome                                                                                Município                   UF                Município Servido     UF Servido        LATGEOPOINT   LONGEOPOINT   Latitude   Longitude    AltitudOperação Diurna      Operação Noturna     Designação 1Comprimento 1Largura 1Resistência 1     Superfície Designação 2Comprimento 2Largura 2Resistência 2     Superfície Situação  Validade do RegistPortaria de RegisLink Portaria                                         \n",
       "0    SBRB        AC0001 Plácido de Castro          ...                                                                                                                                                                                                                                                                                                                                                                                                                                                                                 \n",
       "1    SNGA        ES0007 Guarapari                  ...                                                                                                                                                                                                                                                                                                                                                                                                                                                                                 \n",
       "2    SBIZ        MA0002 Prefeito Renato Moreira    ...                                                                                                                                                                                                                                                                                                                                                                                                                                                                                 \n",
       "3    SBPC        MG0018 Embaixador Walther Moreira ...                                                                                                                                                                                                                                                                                                                                                                                                                                                                                 \n",
       "4    SSCD        MS0007 Chapadão do Sul            ...                                                                                                                                                                                                                                                                                                                                                                                                                                                                                 \n",
       "..                                                 ...                                                                                                                                                                                                                                                                                                                                                                                                                                                                                 \n",
       "492  SWPG        MT0010 Porto dos Gaúchos          ...                                                                                                                                                                                                                                                                                                                                                                                                                                                                                 \n",
       "493  SNIU        BA0030 Ipiaú                      ...                                                                                                                                                                                                                                                                                                                                                                                                                                                                                 \n",
       "494  SBCH        SC0003 Serafin Enoss Bertaso      ...                                                                                                                                                                                                                                                                                                                                                                                                                                                                                 \n",
       "495  SDAG        RJ0010 Angra Dos Reis             ...                                                                                                                                                                                                                                                                                                                                                                                                                                                                                 \n",
       "496  SNMA        PA0019 Monte Alegre               ...                                                                                                                                                                                                                                                                                                                                                                                                                                                                                 \n",
       "\n",
       "[497 rows x 1 columns]"
      ]
     },
     "metadata": {},
     "output_type": "display_data"
    }
   ],
   "source": [
    "file = 'file.txt'\n",
    "df = pd.read_table(file)\n",
    "display(df)"
   ]
  }
 ],
 "metadata": {
  "kernelspec": {
   "display_name": "Python 3.8.10 64-bit",
   "language": "python",
   "name": "python3"
  },
  "language_info": {
   "codemirror_mode": {
    "name": "ipython",
    "version": 3
   },
   "file_extension": ".py",
   "mimetype": "text/x-python",
   "name": "python",
   "nbconvert_exporter": "python",
   "pygments_lexer": "ipython3",
   "version": "3.8.10"
  },
  "orig_nbformat": 4,
  "vscode": {
   "interpreter": {
    "hash": "916dbcbb3f70747c44a77c7bcd40155683ae19c65e1c03b4aa3499c5328201f1"
   }
  }
 },
 "nbformat": 4,
 "nbformat_minor": 2
}
