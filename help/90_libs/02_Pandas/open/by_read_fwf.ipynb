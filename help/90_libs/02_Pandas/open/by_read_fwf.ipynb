{
 "cells": [
  {
   "cell_type": "markdown",
   "metadata": {},
   "source": [
    "# pandas.read_fwf"
   ]
  },
  {
   "cell_type": "markdown",
   "metadata": {},
   "source": [
    "https://pandas.pydata.org/docs/reference/\n",
    "https://pandas.pydata.org/docs/reference/api/pandas.read_fwf.html"
   ]
  },
  {
   "cell_type": "markdown",
   "metadata": {},
   "source": [
    "pandas.read_fwf(filepath_or_buffer, colspecs='infer', widths=None, infer_nrows=100, **kwds)"
   ]
  },
  {
   "cell_type": "code",
   "execution_count": 3,
   "metadata": {},
   "outputs": [],
   "source": [
    "import pandas as pd\n"
   ]
  },
  {
   "cell_type": "code",
   "execution_count": 13,
   "metadata": {},
   "outputs": [],
   "source": [
    "headings = ['probe', 'year', 'doy', 'hour', 'minute', 'second',\n",
    "            'naverage', 'Bx', 'By', 'Bz', '|B|',\n",
    "            'sigma_Bx', 'sigma_By', 'sigma_Bz']\n",
    "colspecs = [(1, 2), (2, 4), (4, 7), (7, 9), (9, 11), (11, 13),\n",
    "            (13, 15), (15, 22), (22, 29), (29, 36), (36, 42), (42, 48),\n",
    "            (48, 54), (54, 60)]\n"
   ]
  },
  {
   "cell_type": "code",
   "execution_count": 20,
   "metadata": {},
   "outputs": [
    {
     "data": {
      "text/html": [
       "<div>\n",
       "<style scoped>\n",
       "    .dataframe tbody tr th:only-of-type {\n",
       "        vertical-align: middle;\n",
       "    }\n",
       "\n",
       "    .dataframe tbody tr th {\n",
       "        vertical-align: top;\n",
       "    }\n",
       "\n",
       "    .dataframe thead th {\n",
       "        text-align: right;\n",
       "    }\n",
       "</style>\n",
       "<table border=\"1\" class=\"dataframe\">\n",
       "  <thead>\n",
       "    <tr style=\"text-align: right;\">\n",
       "      <th></th>\n",
       "      <th>Resistência 2</th>\n",
       "      <th>Superfície.1</th>\n",
       "      <th>Situação</th>\n",
       "      <th>Validade do Regist</th>\n",
       "      <th>Portaria de Regis</th>\n",
       "      <th>Link Portaria</th>\n",
       "    </tr>\n",
       "  </thead>\n",
       "  <tbody>\n",
       "    <tr>\n",
       "      <th>0</th>\n",
       "      <td>NaN</td>\n",
       "      <td>NaN</td>\n",
       "      <td>Cadastrado</td>\n",
       "      <td>23/08/2028</td>\n",
       "      <td>PA2018-2577</td>\n",
       "      <td>https://pergamum.anac.gov.br/arquivos/PA2018-2...</td>\n",
       "    </tr>\n",
       "    <tr>\n",
       "      <th>1</th>\n",
       "      <td>NaN</td>\n",
       "      <td>NaN</td>\n",
       "      <td>Cadastrado</td>\n",
       "      <td>06/11/2027</td>\n",
       "      <td>PA2017-3632</td>\n",
       "      <td>https://pergamum.anac.gov.br/arquivos/PA2017-3...</td>\n",
       "    </tr>\n",
       "    <tr>\n",
       "      <th>2</th>\n",
       "      <td>NaN</td>\n",
       "      <td>NaN</td>\n",
       "      <td>Cadastrado</td>\n",
       "      <td>24/07/2028</td>\n",
       "      <td>PA2018-2252</td>\n",
       "      <td>https://pergamum.anac.gov.br/arquivos/PA2018-2...</td>\n",
       "    </tr>\n",
       "    <tr>\n",
       "      <th>3</th>\n",
       "      <td>NaN</td>\n",
       "      <td>NaN</td>\n",
       "      <td>Cadastrado</td>\n",
       "      <td>20/02/2029</td>\n",
       "      <td>PA2019-0534</td>\n",
       "      <td>https://pergamum.anac.gov.br/arquivos/PA2019-0...</td>\n",
       "    </tr>\n",
       "    <tr>\n",
       "      <th>4</th>\n",
       "      <td>NaN</td>\n",
       "      <td>NaN</td>\n",
       "      <td>Cadastrado</td>\n",
       "      <td>01/10/2028</td>\n",
       "      <td>PA2018-2968</td>\n",
       "      <td>https://pergamum.anac.gov.br/arquivos/PA2018-2...</td>\n",
       "    </tr>\n",
       "    <tr>\n",
       "      <th>5</th>\n",
       "      <td>65/F/A/X/T</td>\n",
       "      <td>Asfalto</td>\n",
       "      <td>Cadastrado</td>\n",
       "      <td>25/07/2026</td>\n",
       "      <td>PA2016-1883</td>\n",
       "      <td>https://pergamum.anac.gov.br/arquivos/PA2016-1...</td>\n",
       "    </tr>\n",
       "    <tr>\n",
       "      <th>6</th>\n",
       "      <td>NaN</td>\n",
       "      <td>NaN</td>\n",
       "      <td>Cadastrado</td>\n",
       "      <td>15/03/2026</td>\n",
       "      <td>PA2016-0575</td>\n",
       "      <td>https://pergamum.anac.gov.br/arquivos/PA2016-0...</td>\n",
       "    </tr>\n",
       "    <tr>\n",
       "      <th>7</th>\n",
       "      <td>NaN</td>\n",
       "      <td>NaN</td>\n",
       "      <td>Cadastrado</td>\n",
       "      <td>NaN</td>\n",
       "      <td>NaN</td>\n",
       "      <td>NaN</td>\n",
       "    </tr>\n",
       "  </tbody>\n",
       "</table>\n",
       "</div>"
      ],
      "text/plain": [
       "  Resistência 2 Superfície.1    Situação Validade do Regist Portaria de Regis  \\\n",
       "0           NaN          NaN  Cadastrado         23/08/2028       PA2018-2577   \n",
       "1           NaN          NaN  Cadastrado         06/11/2027       PA2017-3632   \n",
       "2           NaN          NaN  Cadastrado         24/07/2028       PA2018-2252   \n",
       "3           NaN          NaN  Cadastrado         20/02/2029       PA2019-0534   \n",
       "4           NaN          NaN  Cadastrado         01/10/2028       PA2018-2968   \n",
       "5    65/F/A/X/T      Asfalto  Cadastrado         25/07/2026       PA2016-1883   \n",
       "6           NaN          NaN  Cadastrado         15/03/2026       PA2016-0575   \n",
       "7           NaN          NaN  Cadastrado                NaN               NaN   \n",
       "\n",
       "                                       Link Portaria  \n",
       "0  https://pergamum.anac.gov.br/arquivos/PA2018-2...  \n",
       "1  https://pergamum.anac.gov.br/arquivos/PA2017-3...  \n",
       "2  https://pergamum.anac.gov.br/arquivos/PA2018-2...  \n",
       "3  https://pergamum.anac.gov.br/arquivos/PA2019-0...  \n",
       "4  https://pergamum.anac.gov.br/arquivos/PA2018-2...  \n",
       "5  https://pergamum.anac.gov.br/arquivos/PA2016-1...  \n",
       "6  https://pergamum.anac.gov.br/arquivos/PA2016-0...  \n",
       "7                                                NaN  "
      ]
     },
     "metadata": {},
     "output_type": "display_data"
    }
   ],
   "source": [
    "file = 'file.txt'\n",
    "cols = [\n",
    "    12, 7, 84, 28, 18, 22, 18, 14, 14, 11, 13, 7, 21,\n",
    "    21, 12, 13, 9, 18, 11, 12, 13, 9, 18, 11, 10, 18, 17, 54\n",
    "]\n",
    "df = pd.read_fwf(file, widths=cols) # ,header=None | 0 | [0,1] , names=headings\n",
    "display(df.iloc[:, -6:].head(8))"
   ]
  }
 ],
 "metadata": {
  "kernelspec": {
   "display_name": "Python 3.8.10 64-bit",
   "language": "python",
   "name": "python3"
  },
  "language_info": {
   "codemirror_mode": {
    "name": "ipython",
    "version": 3
   },
   "file_extension": ".py",
   "mimetype": "text/x-python",
   "name": "python",
   "nbconvert_exporter": "python",
   "pygments_lexer": "ipython3",
   "version": "3.8.10"
  },
  "orig_nbformat": 4,
  "vscode": {
   "interpreter": {
    "hash": "916dbcbb3f70747c44a77c7bcd40155683ae19c65e1c03b4aa3499c5328201f1"
   }
  }
 },
 "nbformat": 4,
 "nbformat_minor": 2
}
