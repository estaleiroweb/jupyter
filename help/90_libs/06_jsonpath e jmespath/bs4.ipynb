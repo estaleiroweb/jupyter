{
 "cells": [
  {
   "cell_type": "markdown",
   "id": "1c31fbc0",
   "metadata": {},
   "source": [
    "# bs4 lib\n",
    "\n",
    "A biblioteca **BeautifulSoup** (geralmente importada como `bs4`) é uma ferramenta poderosa em Python para fazer **web scraping**. Ela facilita a extração de dados de documentos HTML e XML analisando-os e fornecendo maneiras fáceis de navegar, pesquisar e modificar a árvore de análise.\n",
    "\n",
    "Pense no BeautifulSoup como um navegador web que lê o código-fonte de uma página e o organiza de forma que você possa encontrar rapidamente os pedaços de informação que procura, mesmo que o HTML não esteja perfeitamente formatado."
   ]
  },
  {
   "cell_type": "code",
   "execution_count": 1,
   "id": "6b5c893f",
   "metadata": {},
   "outputs": [
    {
     "name": "stdout",
     "output_type": "stream",
     "text": [
      "Requirement already satisfied: beautifulsoup4 in c:\\users\\helbe\\appdata\\local\\programs\\python\\python310\\lib\\site-packages (4.12.3)\n",
      "Requirement already satisfied: soupsieve>1.2 in c:\\users\\helbe\\appdata\\local\\programs\\python\\python310\\lib\\site-packages (from beautifulsoup4) (2.6)\n",
      "Note: you may need to restart the kernel to use updated packages.\n"
     ]
    }
   ],
   "source": [
    "%pip install beautifulsoup4"
   ]
  },
  {
   "cell_type": "markdown",
   "id": "04f35e98",
   "metadata": {},
   "source": [
    "## Como o BeautifulSoup Funciona?\n",
    "\n",
    "1.  **Parsing:** Você passa um documento HTML ou XML (geralmente como uma string ou um objeto de arquivo) para o construtor `BeautifulSoup`.\n",
    "2.  **Árvore de Análise:** O BeautifulSoup cria uma estrutura de árvore Python a partir do documento, onde cada elemento HTML/XML, string de texto, comentário, etc., é representado como um **objeto**.\n",
    "3.  **Navegação e Busca:** Você usa os métodos e propriedades desses objetos para navegar pela árvore e encontrar tags, atributos ou textos específicos."
   ]
  },
  {
   "cell_type": "markdown",
   "id": "7b82d081",
   "metadata": {},
   "source": [
    "## Mapeamento de Componentes (Objetos) no BeautifulSoup\n",
    "\n",
    "O BeautifulSoup lida com diferentes tipos de componentes dentro de um documento, cada um representado por uma classe de objeto:\n",
    "\n",
    "  - **`BeautifulSoup` Object:** Representa o documento inteiro. É o ponto de entrada para todas as operações.\n",
    "  - **`Tag` Object:** Representa uma tag HTML ou XML (ex: `<p>`, `<div>`, `<a>`). Tags têm nomes, atributos e podem ter conteúdo (filhos).\n",
    "  - **`NavigableString` Object:** Representa uma string de texto dentro de uma tag. Não tem atributos ou filhos.\n",
    "  - **`Comment` Object:** Uma subclasse especial de `NavigableString` que representa um comentário HTML/XML."
   ]
  },
  {
   "cell_type": "markdown",
   "id": "0d35a6dc",
   "metadata": {},
   "source": [
    "## Métodos e Propriedades Principais\n",
    "\n",
    "Vamos mergulhar nos métodos e propriedades mais usados, com exemplos práticos.\n",
    "\n",
    "Primeiro, preparemos um documento HTML de exemplo:"
   ]
  },
  {
   "cell_type": "code",
   "execution_count": 2,
   "id": "7ece9814",
   "metadata": {},
   "outputs": [],
   "source": [
    "from bs4 import BeautifulSoup\n",
    "from data import html_doc # data.py\n",
    "\n",
    "soup = BeautifulSoup(html_doc, 'html.parser') # 'html.parser' é o parser padrão e mais comum\n"
   ]
  },
  {
   "cell_type": "markdown",
   "id": "9149800e",
   "metadata": {},
   "source": [
    "### 1. Navegando na Árvore (Propriedades)\n",
    "\n",
    "Você pode acessar tags como propriedades do objeto `BeautifulSoup` ou de outras `Tag`s.\n",
    "\n",
    "  - **`soup.tag_name`**: Acessa a *primeira* ocorrência da tag.\n",
    "  - **`tag.parent`**: Acessa o elemento pai da tag.\n",
    "  - **`tag.children`**: Um gerador para os filhos diretos da tag.\n",
    "  - **`tag.contents`**: Uma lista dos filhos diretos da tag.\n",
    "  - **`tag.descendants`**: Um gerador para todos os elementos descendentes da tag (filhos, netos, etc.).\n",
    "  - **`tag.next_sibling`, `tag.previous_sibling`**: Próximo/anterior irmão da tag (inclui strings de nova linha se houver).\n",
    "  - **`tag.next_element`, `tag.previous_element`**: Próximo/anterior elemento na ordem de leitura do documento (inclui strings e comentários).\n"
   ]
  },
  {
   "cell_type": "code",
   "execution_count": 3,
   "id": "18ffcd61",
   "metadata": {},
   "outputs": [
    {
     "name": "stdout",
     "output_type": "stream",
     "text": [
      "Tag <body>: body\n",
      "Pai de <body>: html\n",
      "Tag <h1>: Bem-vindo ao Meu Site\n",
      "\n",
      "Filhos diretos de <ul>:\n",
      "  - li\n",
      "  - li\n",
      "  - li\n",
      "\n",
      "Descendentes de <header> (primeiros 5):\n",
      "  - <h1>\n",
      "  - 'Bem-vindo ao Meu Site'\n",
      "  - <nav>\n",
      "\n",
      "Próximo irmão real de 'paragrafo-info': <p> - Este é outro parágrafo.\n"
     ]
    }
   ],
   "source": [
    "# Acessando a primeira tag <body>\n",
    "body_tag = soup.body\n",
    "print(f\"Tag <body>: {body_tag.name}\")\n",
    "\n",
    "# Acessando o pai de <body>\n",
    "print(f\"Pai de <body>: {body_tag.parent.name}\")\n",
    "\n",
    "# Acessando o primeiro <h1>\n",
    "h1_tag = soup.h1\n",
    "print(f\"Tag <h1>: {h1_tag.get_text()}\")\n",
    "\n",
    "# Acessando filhos de <ul>\n",
    "ul_tag = soup.ul\n",
    "print(\"\\nFilhos diretos de <ul>:\")\n",
    "for child in ul_tag.children:\n",
    "    if child.name: # Checa se é uma tag\n",
    "        print(f\"  - {child.name}\")\n",
    "\n",
    "# Acessando todos os descendentes de <header>\n",
    "header_tag = soup.header\n",
    "print(\"\\nDescendentes de <header> (primeiros 5):\")\n",
    "for i, descendant in enumerate(header_tag.descendants):\n",
    "    if i >= 5: break\n",
    "    if descendant.name:\n",
    "        print(f\"  - <{descendant.name}>\")\n",
    "    elif descendant.strip(): # Se for texto não vazio\n",
    "        print(f\"  - '{descendant.strip()}'\")\n",
    "\n",
    "# Acessando o irmão próximo de <p class=\"paragrafo-info\">\n",
    "p_info = soup.find('p', class_='paragrafo-info')\n",
    "next_sibling = p_info.next_sibling\n",
    "# next_sibling pode ser uma NavigableString de nova linha, então pegamos o próximo elemento real\n",
    "while next_sibling and not next_sibling.name:\n",
    "    next_sibling = next_sibling.next_sibling\n",
    "if next_sibling:\n",
    "    print(f\"\\nPróximo irmão real de 'paragrafo-info': <{next_sibling.name}> - {next_sibling.get_text().strip()}\")"
   ]
  },
  {
   "cell_type": "markdown",
   "id": "02628473",
   "metadata": {},
   "source": [
    "### 2. Atributos de Tags (Propriedades)\n",
    "\n",
    "Atributos de tags podem ser acessados como se fossem itens de um dicionário, ou usando `.get()`.\n",
    "\n",
    "  - `tag['attribute_name']`: Acessa o valor de um atributo.\n",
    "  - `tag.get('attribute_name')`: Uma forma mais segura, retorna `None` se o atributo não existir.\n",
    "  - `tag.attrs`: Um dicionário contendo todos os atributos da tag.\n"
   ]
  },
  {
   "cell_type": "code",
   "execution_count": 4,
   "id": "be63695c",
   "metadata": {},
   "outputs": [
    {
     "name": "stdout",
     "output_type": "stream",
     "text": [
      "Href do link 'Home': /\n",
      "Classes do link 'Home': ['menu-link', 'active']\n",
      "Alt da imagem: Foto histórica\n",
      "Src da imagem: historia.jpg\n",
      "Atributo 'data-id' da imagem: 123\n",
      "Atributo 'non-existent' da imagem (get): None\n",
      "\n",
      "Todos os atributos da imagem:\n",
      "{'src': 'historia.jpg', 'alt': 'Foto histórica', 'data-id': '123'}\n"
     ]
    }
   ],
   "source": [
    "link_home = soup.find('a', id='home') # Vamos usar find para pegar um elemento específico\n",
    "print(f\"Href do link 'Home': {link_home['href']}\")\n",
    "print(f\"Classes do link 'Home': {link_home['class']}\") # Retorna uma lista de classes\n",
    "\n",
    "# Acessando um atributo que pode não existir com .get()\n",
    "img_tag = soup.find('img')\n",
    "print(f\"Alt da imagem: {img_tag.get('alt')}\")\n",
    "print(f\"Src da imagem: {img_tag.get('src')}\")\n",
    "print(f\"Atributo 'data-id' da imagem: {img_tag.get('data-id')}\")\n",
    "print(f\"Atributo 'non-existent' da imagem (get): {img_tag.get('non-existent')}\") # Retorna None\n",
    "# print(img_tag['non-existent']) # Isso causaria um KeyError\n",
    "\n",
    "print(\"\\nTodos os atributos da imagem:\")\n",
    "print(img_tag.attrs)"
   ]
  },
  {
   "cell_type": "markdown",
   "id": "eeff9fc3",
   "metadata": {},
   "source": [
    "### 3. Busca de Elementos (Métodos Essenciais)\n",
    "\n",
    "Esses são os métodos mais usados para encontrar tags na árvore.\n",
    "\n",
    "  - **`soup.find(name, attrs, recursive, string, **kwargs)`**: Encontra a *primeira* tag que corresponde aos critérios.\n",
    "\n",
    "  - **`soup.find_all(name, attrs, recursive, string, limit, **kwargs)`**: Encontra *todas* as tags que correspondem aos critérios. Retorna uma lista de `Tag`s.\n",
    "\n",
    "      - `name`: Nome da tag (ex: `'div'`, `['p', 'span']`, `True` para qualquer tag).\n",
    "      - `attrs`: Um dicionário de atributos (ex: `{'class': 'menu-link', 'id': 'home'}`).\n",
    "      - `recursive` (padrão `True`): Se `False`, busca apenas filhos diretos.\n",
    "      - `string`: Busca tags por seu conteúdo de texto.\n",
    "      - `limit`: Limita o número de resultados retornados por `find_all`.\n",
    "      - `**kwargs`: Pode passar atributos diretamente (ex: `class_='menu-link'`, `id='home'`). Note `class_` para evitar conflito com a palavra-chave `class` do Python.\n",
    "\n",
    "  - **`soup.select(selector, limit=None)`**: Encontra todas as tags que correspondem a um **seletor CSS**. Retorna uma lista de `Tag`s. É o método mais flexível para buscas complexas.\n",
    "\n",
    "  - **`soup.select_one(selector)`**: Encontra a *primeira* tag que corresponde a um **seletor CSS**.\n"
   ]
  },
  {
   "cell_type": "code",
   "execution_count": 5,
   "id": "3770c71a",
   "metadata": {},
   "outputs": [
    {
     "name": "stdout",
     "output_type": "stream",
     "text": [
      "\n",
      "Primeiro parágrafo: 'Este é um parágrafo sobre a história da empresa.'\n",
      "\n",
      "Todos os links de menu:\n",
      "  - Home (Href: /)\n",
      "  - Sobre Nós (Href: /sobre)\n",
      "  - Contato (Href: /contato)\n",
      "\n",
      "Primeiro serviço web: 'Desenvolvimento Web'\n",
      "\n",
      "Parágrafo com texto específico: 'Este é um parágrafo sobre a história da empresa.'\n",
      "\n",
      "Elementos selecionados por CSS Selector:\n",
      "  - P da seção: 'Este é um parágrafo sobre a história da empresa.'\n",
      "  - P da seção: 'Este é outro parágrafo.'\n",
      "  - Descrição do serviço mobile: 'Aplicativos inovadores para Android e iOS.'\n",
      "  - Link ativo: 'Home'\n"
     ]
    }
   ],
   "source": [
    "# Usando find()\n",
    "primeiro_paragrafo = soup.find('p')\n",
    "print(f\"\\nPrimeiro parágrafo: '{primeiro_paragrafo.get_text(strip=True)}'\")\n",
    "\n",
    "# Usando find_all()\n",
    "todos_links_menu = soup.find_all('a', class_='menu-link')\n",
    "print(\"\\nTodos os links de menu:\")\n",
    "for link in todos_links_menu:\n",
    "    print(f\"  - {link.get_text(strip=True)} (Href: {link['href']})\")\n",
    "\n",
    "# Buscando por atributos específicos\n",
    "primeiro_servico_web = soup.find('div', attrs={'data-tipo': 'web'})\n",
    "print(f\"\\nPrimeiro serviço web: '{primeiro_servico_web.h4.get_text(strip=True)}'\")\n",
    "\n",
    "# Buscando por texto\n",
    "paragrafo_historia = soup.find('p', string=\"Este é um parágrafo sobre a história da empresa.\")\n",
    "print(f\"\\nParágrafo com texto específico: '{paragrafo_historia.get_text(strip=True)}'\")\n",
    "\n",
    "# Usando select() com seletores CSS\n",
    "print(\"\\nElementos selecionados por CSS Selector:\")\n",
    "# Seleciona todos os 'p' dentro de uma 'section' com id 'primeira-secao'\n",
    "paragrafos_secao = soup.select('section#primeira-secao p')\n",
    "for p in paragrafos_secao:\n",
    "    print(f\"  - P da seção: '{p.get_text(strip=True)}'\")\n",
    "\n",
    "# Seleciona o <span> dentro de um <div class=\"servico\"> cujo data-tipo é \"mobile\"\n",
    "span_servico_mobile = soup.select_one('div.servico[data-tipo=\"mobile\"] span')\n",
    "print(f\"  - Descrição do serviço mobile: '{span_servico_mobile.get_text(strip=True)}'\")\n",
    "\n",
    "# Seleciona o primeiro link com a classe 'menu-link' e 'active'\n",
    "link_ativo = soup.select_one('a.menu-link.active')\n",
    "if link_ativo:\n",
    "    print(f\"  - Link ativo: '{link_ativo.get_text(strip=True)}'\")"
   ]
  },
  {
   "cell_type": "markdown",
   "id": "915e5c91",
   "metadata": {},
   "source": [
    "### 4. Acessando Conteúdo de Texto\n",
    "\n",
    "  - `tag.get_text(separator=\"\", strip=False)`: Extrai todo o texto contido em uma tag e seus filhos.\n",
    "      - `separator`: String para colocar entre o texto de tags aninhadas.\n",
    "      - `strip`: Se `True`, remove espaços em branco extras do início/fim.\n",
    "  - `tag.string`: Acessa o texto direto, se a tag tiver apenas um nó de texto filho. Retorna `None` ou o primeiro texto se houver múltiplos filhos.\n"
   ]
  },
  {
   "cell_type": "code",
   "execution_count": null,
   "id": "5bd98f4e",
   "metadata": {},
   "outputs": [],
   "source": [
    "h1_text = soup.h1.get_text()\n",
    "print(f\"Texto do H1 (com espaços): '{h1_text}'\")\n",
    "\n",
    "h1_stripped_text = soup.h1.get_text(strip=True)\n",
    "print(f\"Texto do H1 (sem espaços): '{h1_stripped_text}'\")\n",
    "\n",
    "# Texto de um span dentro de um div de serviço\n",
    "dev_web_span = soup.select_one('div[data-tipo=\"web\"] span')\n",
    "print(f\"Texto do span 'Desenvolvimento Web': '{dev_web_span.string}'\")\n",
    "\n",
    "# Exemplo de tag.string vs. tag.get_text() com filhos múltiplos\n",
    "nav_tag = soup.nav\n",
    "# print(nav_tag.string) # Isso retornaria None ou o primeiro texto direto, não o texto combinado\n",
    "\n",
    "# Isso extrai todo o texto dentro da nav, incluindo de seus filhos (ul, li, a)\n",
    "print(f\"\\nTexto completo da navegação (get_text): '{nav_tag.get_text(strip=True, separator=' | ')}'\")"
   ]
  },
  {
   "cell_type": "markdown",
   "id": "0abf8fd2",
   "metadata": {},
   "source": [
    "### 5. Modificando a Árvore (Métodos)\n",
    "\n",
    "BeautifulSoup também permite modificar a árvore, o que pode ser útil antes de salvar o HTML de volta ou para testes.\n",
    "\n",
    "  - `tag.append(child)`: Adiciona um filho no final da tag.\n",
    "  - `tag.insert(position, child)`: Insere um filho em uma posição específica.\n",
    "  - `tag.extract()`: Remove a tag do documento e a retorna.\n",
    "  - `tag.decompose()`: Remove a tag do documento, sem retorná-la.\n",
    "  - `tag.replace_with(new_tag)`: Substitui a tag por uma nova tag.\n",
    "  - `tag.wrap(wrapper_tag)`: Envolve a tag com outra tag.\n",
    "  - `tag.unwrap()`: Remove a tag pai e mantém seus filhos.\n",
    "  - `tag['attr'] = 'new_value'`: Modifica o valor de um atributo.\n",
    "  - `del tag['attr']`: Remove um atributo.\n",
    "  - `tag.string = 'new text'`: Altera o texto direto de uma tag (se ela tiver apenas um filho de texto).\n"
   ]
  },
  {
   "cell_type": "code",
   "execution_count": 6,
   "id": "af8c1616",
   "metadata": {},
   "outputs": [
    {
     "name": "stdout",
     "output_type": "stream",
     "text": [
      "\n",
      "Parágrafo do rodapé modificado: '© 2025 Exemplo - Nova mensagem de direitos.'\n",
      "Classes do link 'Voltar ao topo' após adição: ['scroll-top', 'active-scroll']\n",
      "Atributos da imagem após remover 'alt': {'src': 'historia.jpg', 'data-id': '123'}\n",
      "\n",
      "HTML do menu após adicionar 'Blog':\n",
      "<ul>\n",
      " <li>\n",
      "  <a class=\"menu-link active\" href=\"/\" id=\"home\">\n",
      "   Home\n",
      "  </a>\n",
      " </li>\n",
      " <li>\n",
      "  <a class=\"menu-link\" href=\"/sobre\">\n",
      "   Sobre Nós\n",
      "  </a>\n",
      " </li>\n",
      " <li>\n",
      "  <a class=\"menu-link\" href=\"/contato\">\n",
      "   Contato\n",
      "  </a>\n",
      " </li>\n",
      " <li>\n",
      "  <a class=\"menu-link\" href=\"/blog\">\n",
      "   Blog\n",
      "  </a>\n",
      " </li>\n",
      "</ul>\n",
      "\n",
      "\n",
      "Div 'Desenvolvimento Mobile' removida do HTML.\n"
     ]
    }
   ],
   "source": [
    "# Modificando o texto de um parágrafo\n",
    "footer_p = soup.select_one('footer p')\n",
    "footer_p.string = \"© 2025 Exemplo - Nova mensagem de direitos.\"\n",
    "print(f\"\\nParágrafo do rodapé modificado: '{footer_p.get_text(strip=True)}'\")\n",
    "\n",
    "# Adicionando uma nova classe a um link\n",
    "scroll_top_link = soup.select_one('a.scroll-top')\n",
    "if scroll_top_link:\n",
    "    scroll_top_link['class'].append('active-scroll')\n",
    "    print(f\"Classes do link 'Voltar ao topo' após adição: {scroll_top_link['class']}\")\n",
    "\n",
    "# Removendo um atributo\n",
    "del img_tag['alt']\n",
    "print(f\"Atributos da imagem após remover 'alt': {img_tag.attrs}\")\n",
    "\n",
    "# Criando e adicionando um novo elemento\n",
    "new_li = soup.new_tag('li')\n",
    "new_a = soup.new_tag('a', href=\"/blog\")\n",
    "new_a['class'] = ['menu-link']\n",
    "new_a.string = \"Blog\"\n",
    "new_li.append(new_a)\n",
    "\n",
    "soup.ul.append(new_li) # Adiciona o novo item ao menu\n",
    "print(\"\\nHTML do menu após adicionar 'Blog':\")\n",
    "print(soup.ul.prettify()) # prettify() para imprimir formatado\n",
    "\n",
    "# Removendo um elemento\n",
    "servico_mobile_div = soup.select_one('div.servico[data-tipo=\"mobile\"]')\n",
    "if servico_mobile_div:\n",
    "    servico_mobile_div.extract()\n",
    "    print(\"\\nDiv 'Desenvolvimento Mobile' removida do HTML.\")\n",
    "    # Para ver o HTML completo após a remoção:\n",
    "    # print(soup.prettify())"
   ]
  }
 ],
 "metadata": {
  "kernelspec": {
   "display_name": "Python 3",
   "language": "python",
   "name": "python3"
  },
  "language_info": {
   "codemirror_mode": {
    "name": "ipython",
    "version": 3
   },
   "file_extension": ".py",
   "mimetype": "text/x-python",
   "name": "python",
   "nbconvert_exporter": "python",
   "pygments_lexer": "ipython3",
   "version": "3.10.11"
  }
 },
 "nbformat": 4,
 "nbformat_minor": 5
}
