{
 "cells": [
  {
   "cell_type": "markdown",
   "id": "42e905a0",
   "metadata": {},
   "source": [
    "# JSONPath vs JMESPath"
   ]
  },
  {
   "cell_type": "code",
   "execution_count": 1,
   "id": "9802ec06",
   "metadata": {},
   "outputs": [
    {
     "name": "stdout",
     "output_type": "stream",
     "text": [
      "Requirement already satisfied: beautifulsoup4 in c:\\users\\helbe\\appdata\\local\\programs\\python\\python310\\lib\\site-packages (4.12.3)Note: you may need to restart the kernel to use updated packages.\n",
      "\n",
      "Requirement already satisfied: lxml in c:\\users\\helbe\\appdata\\local\\programs\\python\\python310\\lib\\site-packages (5.4.0)\n",
      "Requirement already satisfied: jsonpath-ng in c:\\users\\helbe\\appdata\\local\\programs\\python\\python310\\lib\\site-packages (1.7.0)\n",
      "Requirement already satisfied: jmespath in c:\\users\\helbe\\appdata\\local\\programs\\python\\python310\\lib\\site-packages (1.0.1)\n",
      "Requirement already satisfied: jsonpointer in c:\\users\\helbe\\appdata\\local\\programs\\python\\python310\\lib\\site-packages (3.0.0)\n",
      "Requirement already satisfied: soupsieve>1.2 in c:\\users\\helbe\\appdata\\local\\programs\\python\\python310\\lib\\site-packages (from beautifulsoup4) (2.6)\n",
      "Requirement already satisfied: ply in c:\\users\\helbe\\appdata\\local\\programs\\python\\python310\\lib\\site-packages (from jsonpath-ng) (3.11)\n"
     ]
    }
   ],
   "source": [
    "%pip install beautifulsoup4 lxml jsonpath-ng jmespath jsonpointer"
   ]
  },
  {
   "cell_type": "code",
   "execution_count": null,
   "id": "11df6386",
   "metadata": {},
   "outputs": [],
   "source": [
    "import json\n",
    "from bs4 import BeautifulSoup\n",
    "from lxml import html\n",
    "from jsonpath_ng import jsonpath, parse\n",
    "import jmespath\n",
    "import jsonpointer\n",
    "from data import json_data, html_doc # data.py\n"
   ]
  },
  {
   "cell_type": "markdown",
   "id": "2c8ead97",
   "metadata": {},
   "source": [
    "## 1. Dados de Exemplo"
   ]
  },
  {
   "cell_type": "code",
   "execution_count": null,
   "id": "8c38f14e",
   "metadata": {},
   "outputs": [],
   "source": [
    "\n",
    "from data import json_data, html_doc # data.py"
   ]
  },
  {
   "cell_type": "markdown",
   "id": "7c8a743f",
   "metadata": {},
   "source": [
    "## 2. Demonstração"
   ]
  },
  {
   "cell_type": "markdown",
   "id": "508c46c3",
   "metadata": {},
   "source": [
    "### 2.1 CSS Path (BeautifulSoup)"
   ]
  },
  {
   "cell_type": "code",
   "execution_count": 5,
   "id": "60f74dd2",
   "metadata": {},
   "outputs": [
    {
     "name": "stdout",
     "output_type": "stream",
     "text": [
      "CSS Selector: 'h1'\n",
      "  Elemento 1: <h1> - Texto: 'Bem-vindo!'\n",
      "------------------------------\n",
      "CSS Selector: '#homeLink'\n",
      "  Elemento 1: <a> - Texto: 'Home'\n",
      "------------------------------\n",
      "CSS Selector: '.menu-item'\n",
      "  Elemento 1: <a> - Texto: 'Home'\n",
      "  Elemento 2: <a> - Texto: 'Sobre'\n",
      "------------------------------\n",
      "CSS Selector: 'p.texto-destaque'\n",
      "  Elemento 1: <p> - Texto: 'Este é o primeiro parágrafo.'\n",
      "------------------------------\n",
      "CSS Selector: 'div.card span'\n",
      "  Elemento 1: <span> - Texto: 'Detalhe do Item 1'\n",
      "  Elemento 2: <span> - Texto: 'Detalhe do Item 2'\n",
      "------------------------------\n",
      "CSS Selector: 'section#conteudo-principal > p'\n",
      "  Elemento 1: <p> - Texto: 'Este é o primeiro parágrafo.'\n",
      "  Elemento 2: <p> - Texto: 'Este é o segundo parágrafo.'\n",
      "------------------------------\n",
      "CSS Selector: 'input[type=\"text\"]'\n",
      "  Elemento 1: <input> - Texto: ''\n",
      "------------------------------\n",
      "CSS Selector: 'span[data-info=\"id-1\"]'\n",
      "  Elemento 1: <span> - Texto: 'Detalhe do Item 1'\n",
      "------------------------------\n",
      "CSS Selector: 'div.card:nth-of-type(2) h3'\n",
      "  Elemento 1: <h3> - Texto: 'Item 2'\n",
      "------------------------------\n"
     ]
    }
   ],
   "source": [
    "soup = BeautifulSoup(html_doc, 'html.parser')\n",
    "\n",
    "def run_css_selector(selector: str):\n",
    "    \"\"\"\n",
    "    Executes a CSS selector using BeautifulSoup and prints the results.\n",
    "    \"\"\"\n",
    "    print(f\"CSS Selector: '{selector}'\")\n",
    "    elements = soup.select(selector)\n",
    "    if elements:\n",
    "        for i, el in enumerate(elements):\n",
    "            print(f\"  Elemento {i+1}: <{el.name}> - Texto: '{el.get_text(strip=True)}'\")\n",
    "    else:\n",
    "        print(\"  Nenhum elemento encontrado.\")\n",
    "    print(\"-\" * 30)\n",
    "\n",
    "run_css_selector('h1')\n",
    "run_css_selector('#homeLink')\n",
    "run_css_selector('.menu-item')\n",
    "run_css_selector('p.texto-destaque')\n",
    "run_css_selector('div.card span') # Span dentro de div com classe 'card'\n",
    "run_css_selector('section#conteudo-principal > p') # Pargrafo filho direto de section#conteudo-principal\n",
    "run_css_selector('input[type=\"text\"]')\n",
    "run_css_selector('span[data-info=\"id-1\"]')\n",
    "run_css_selector('div.card:nth-of-type(2) h3') # Título do segundo card"
   ]
  },
  {
   "cell_type": "markdown",
   "id": "a47e9413",
   "metadata": {},
   "source": [
    "### 2.2 XPath (lxml)"
   ]
  },
  {
   "cell_type": "code",
   "execution_count": 6,
   "id": "2d67e5ea",
   "metadata": {},
   "outputs": [
    {
     "name": "stdout",
     "output_type": "stream",
     "text": [
      "XPath: '//h1'\n",
      "  Elemento 1: <h1> - Texto: 'Bem-vindo!'\n",
      "------------------------------\n",
      "XPath: '//a[@id=\"homeLink\"]'\n",
      "  Elemento 1: <a> - Texto: 'Home'\n",
      "------------------------------\n",
      "XPath: '//*[@class=\"menu-item\"]'\n",
      "  Elemento 1: <a> - Texto: 'Home'\n",
      "  Elemento 2: <a> - Texto: 'Sobre'\n",
      "------------------------------\n",
      "XPath: '//p[@class=\"texto-destaque\"]'\n",
      "  Elemento 1: <p> - Texto: 'Este é o primeiro parágrafo.'\n",
      "------------------------------\n",
      "XPath: '//div[@class=\"card\"]/span'\n",
      "  Elemento 1: <span> - Texto: 'Detalhe do Item 1'\n",
      "  Elemento 2: <span> - Texto: 'Detalhe do Item 2'\n",
      "------------------------------\n",
      "XPath: '//section[@id=\"conteudo-principal\"]/p'\n",
      "  Elemento 1: <p> - Texto: 'Este é o primeiro parágrafo.'\n",
      "  Elemento 2: <p> - Texto: 'Este é o segundo parágrafo.'\n",
      "------------------------------\n",
      "XPath: '//input[@type=\"text\"]'\n",
      "  Elemento 1: <input> - Texto: ''\n",
      "------------------------------\n",
      "XPath: '//span[@data-info=\"id-1\"]'\n",
      "  Elemento 1: <span> - Texto: 'Detalhe do Item 1'\n",
      "------------------------------\n",
      "XPath: '(//div[@class=\"card\"])[2]/h3'\n",
      "  Elemento 1: <h3> - Texto: 'Item 2'\n",
      "------------------------------\n"
     ]
    }
   ],
   "source": [
    "tree = html.fromstring(html_doc)\n",
    "\n",
    "def run_xpath_selector(xpath_expr: str):\n",
    "    \"\"\"\n",
    "    Executes an XPath expression using lxml and prints the results.\n",
    "    \"\"\"\n",
    "    print(f\"XPath: '{xpath_expr}'\")\n",
    "    elements = tree.xpath(xpath_expr)\n",
    "    if elements:\n",
    "        for i, el in enumerate(elements):\n",
    "            if hasattr(el, 'tag'): # Check if it's an element node\n",
    "                print(f\"  Elemento {i+1}: <{el.tag}> - Texto: '{el.text_content().strip()}'\")\n",
    "            else: # Likely an attribute or text node\n",
    "                print(f\"  Resultado {i+1}: '{el}'\")\n",
    "    else:\n",
    "        print(\"  Nenhum resultado encontrado.\")\n",
    "    print(\"-\" * 30)\n",
    "\n",
    "run_xpath_selector('//h1')\n",
    "run_xpath_selector('//a[@id=\"homeLink\"]')\n",
    "run_xpath_selector('//*[@class=\"menu-item\"]')\n",
    "run_xpath_selector('//p[@class=\"texto-destaque\"]')\n",
    "run_xpath_selector('//div[@class=\"card\"]/span')\n",
    "run_xpath_selector('//section[@id=\"conteudo-principal\"]/p')\n",
    "run_xpath_selector('//input[@type=\"text\"]')\n",
    "run_xpath_selector('//span[@data-info=\"id-1\"]')\n",
    "run_xpath_selector('(//div[@class=\"card\"])[2]/h3') # Segundo card"
   ]
  },
  {
   "cell_type": "markdown",
   "id": "70cba75b",
   "metadata": {},
   "source": [
    "### 2.3 JSONPath (jsonpath-ng)"
   ]
  },
  {
   "cell_type": "code",
   "execution_count": 7,
   "id": "e3e749df",
   "metadata": {},
   "outputs": [
    {
     "name": "stdout",
     "output_type": "stream",
     "text": [
      "JSONPath: '$.livraria.titulo'\n",
      "  Resultados (1):\n",
      "    Match 1: Catálogo de Livros Técnicos\n",
      "------------------------------\n",
      "JSONPath: '$.livraria.livros[*].titulo'\n",
      "  Resultados (4):\n",
      "    Match 1: Aprendendo JSONPath\n",
      "    Match 2: Dominando JMESPath\n",
      "    Match 3: Introdução ao Web Scraping\n",
      "    Match 4: Python para Iniciantes\n",
      "------------------------------\n",
      "JSONPath: '$.livraria.livros[1].autores[0]'\n",
      "  Resultados (1):\n",
      "    Match 1: Charlie\n",
      "------------------------------\n"
     ]
    }
   ],
   "source": [
    "def run_jsonpath_query(query: str):\n",
    "    \"\"\"\n",
    "    Executes a JSONPath query and prints the results.\n",
    "    \"\"\"\n",
    "    print(f\"JSONPath: '{query}'\")\n",
    "    jsonpath_expr = parse(query)\n",
    "    matches = jsonpath_expr.find(json_data)\n",
    "    if matches:\n",
    "        print(f\"  Resultados ({len(matches)}):\")\n",
    "        for i, match in enumerate(matches):\n",
    "            print(f\"    Match {i+1}: {match.value}\")\n",
    "    else:\n",
    "        print(\"  Nenhum resultado encontrado.\")\n",
    "    print(\"-\" * 30)\n",
    "\n",
    "run_jsonpath_query('$.livraria.titulo')\n",
    "run_jsonpath_query('$.livraria.livros[*].titulo')\n",
    "run_jsonpath_query('$.livraria.livros[1].autores[0]')\n"
   ]
  },
  {
   "cell_type": "markdown",
   "id": "95cdd84f",
   "metadata": {},
   "source": [
    "#### JSONPath - Limitação para Remodelação/Funções ---\n",
    "\n",
    "JSONPath (jsonpath-ng) não suporta remodelagem de saída ou funções complexas como 'contains' nativamente na expressão.\n",
    "\n",
    "Para 'remodelar' o output ou usar 'contains', você precisaria de pós-processamento em Python.\n",
    "\n",
    "- Ex: Para '{titulo: titulo, primeiroAutor: autores[0]}' você selecionaria os dados e construiria em código.\n",
    "- Ex: Para 'livros com 'Programação' em tags': Faria o filtro no Python após a seleção inicial."
   ]
  },
  {
   "cell_type": "code",
   "execution_count": 8,
   "id": "3836b700",
   "metadata": {},
   "outputs": [],
   "source": [
    "# run_jsonpath_query('$.livraria.livros[?disponivel=true].titulo') # Filtrando livros disponíveis\n",
    "# run_jsonpath_query('$.livraria.livros[?(@.preco > 25 && @.editora.nome == \"Editora Inovação\")].titulo') # Filtro complexo\n",
    "# run_jsonpath_query('$.usuarios[?isAdmin=true].ultimosAcessos') # Seleciona array de acessos do admin"
   ]
  },
  {
   "cell_type": "markdown",
   "id": "d2cec7bc",
   "metadata": {},
   "source": [
    "### 2.4 JMESPath (jmespath)"
   ]
  },
  {
   "cell_type": "code",
   "execution_count": 9,
   "id": "bd800328",
   "metadata": {},
   "outputs": [
    {
     "name": "stdout",
     "output_type": "stream",
     "text": [
      "JMESPath: 'livraria.titulo'\n",
      "  Resultado: Catálogo de Livros Técnicos\n",
      "------------------------------\n",
      "JMESPath: 'livraria.livros[*].titulo'\n",
      "  Resultado: ['Aprendendo JSONPath', 'Dominando JMESPath', 'Introdução ao Web Scraping', 'Python para Iniciantes']\n",
      "------------------------------\n",
      "JMESPath: 'livraria.livros[1].autores[0]'\n",
      "  Resultado: Charlie\n",
      "------------------------------\n",
      "JMESPath: 'livraria.livros[?disponivel].titulo'\n",
      "  Resultado: ['Aprendendo JSONPath', 'Introdução ao Web Scraping', 'Python para Iniciantes']\n",
      "------------------------------\n",
      "JMESPath: 'livraria.livros[?preco > `25.00` && editora.nome == `Editora Inovação`].titulo'\n",
      "  Resultado: ['Aprendendo JSONPath']\n",
      "------------------------------\n",
      "JMESPath: 'usuarios[?isAdmin][0].ultimosAcessos[-1]'\n",
      "  Nenhum resultado encontrado ou resultado vazio.\n",
      "------------------------------\n"
     ]
    }
   ],
   "source": [
    "def run_jmespath_query(query: str):\n",
    "    \"\"\"\n",
    "    Executes a JMESPath query and prints the results.\n",
    "    \"\"\"\n",
    "    print(f\"JMESPath: '{query}'\")\n",
    "    result = jmespath.search(query, json_data)\n",
    "    if result is not None and result != []:\n",
    "        print(f\"  Resultado: {result}\")\n",
    "    else:\n",
    "        print(\"  Nenhum resultado encontrado ou resultado vazio.\")\n",
    "    print(\"-\" * 30)\n",
    "\n",
    "run_jmespath_query('livraria.titulo')\n",
    "run_jmespath_query('livraria.livros[*].titulo')\n",
    "run_jmespath_query('livraria.livros[1].autores[0]')\n",
    "run_jmespath_query('livraria.livros[?disponivel].titulo') # Filtrando livros disponíveis (mais conciso)\n",
    "run_jmespath_query('livraria.livros[?preco > `25.00` && editora.nome == `Editora Inovação`].titulo') # Filtro complexo\n",
    "run_jmespath_query('usuarios[?isAdmin][0].ultimosAcessos[-1]') # Último acesso do admin (com índice negativo)\n"
   ]
  },
  {
   "cell_type": "markdown",
   "id": "69358f94",
   "metadata": {},
   "source": [
    "#### 2.4.1 JMESPath: Vantagem na remodelação (Projections)\n"
   ]
  },
  {
   "cell_type": "code",
   "execution_count": 10,
   "id": "f58d77ef",
   "metadata": {},
   "outputs": [
    {
     "name": "stdout",
     "output_type": "stream",
     "text": [
      "JMESPath: 'livraria.livros[*].{titulo: titulo, primeiroAutor: autores[0]}'\n",
      "  Resultado: [{'titulo': 'Aprendendo JSONPath', 'primeiroAutor': 'Alice'}, {'titulo': 'Dominando JMESPath', 'primeiroAutor': 'Charlie'}, {'titulo': 'Introdução ao Web Scraping', 'primeiroAutor': 'David'}, {'titulo': 'Python para Iniciantes', 'primeiroAutor': 'Grace'}]\n",
      "------------------------------\n"
     ]
    }
   ],
   "source": [
    "run_jmespath_query('livraria.livros[*].{titulo: titulo, primeiroAutor: autores[0]}') # Remodelação!"
   ]
  },
  {
   "cell_type": "markdown",
   "id": "383719d3",
   "metadata": {},
   "source": [
    "#### 2.4.2 JMESPath - Vantagem: Remodelação (Projections)"
   ]
  },
  {
   "cell_type": "code",
   "execution_count": 11,
   "id": "3635c6fe",
   "metadata": {},
   "outputs": [
    {
     "name": "stdout",
     "output_type": "stream",
     "text": [
      "\n",
      "--- JMESPath - Vantagem: Funções ---\n",
      "JMESPath: 'livraria.livros[?tags && contains(tags, `Programação`)].titulo'\n",
      "  Resultado: ['Python para Iniciantes']\n",
      "------------------------------\n",
      "JMESPath: 'livraria.livros[*].autores | [0] | length(@)'\n",
      "  Resultado: 2\n",
      "------------------------------\n",
      "JMESPath: 'livraria.livros[0].autores | length(@)'\n",
      "  Resultado: 2\n",
      "------------------------------\n",
      "JMESPath: 'livraria.livros[0].autores | join(`, `, @)'\n",
      "  Resultado: Alice, Bob\n",
      "------------------------------\n"
     ]
    }
   ],
   "source": [
    "print(\"\\n--- JMESPath - Vantagem: Funções ---\")\n",
    "run_jmespath_query('livraria.livros[?tags && contains(tags, `Programação`)].titulo') # Usando função 'contains' com verificação de existência de 'tags'\n",
    "run_jmespath_query('livraria.livros[*].autores | [0] | length(@)') # Comprimento do array de autores do primeiro livro\n",
    "run_jmespath_query('livraria.livros[0].autores | length(@)') # Comprimento do array de autores do primeiro livro\n",
    "run_jmespath_query('livraria.livros[0].autores | join(`, `, @)') # Juntando autores do primeiro livro"
   ]
  },
  {
   "cell_type": "markdown",
   "id": "6379298e",
   "metadata": {},
   "source": [
    "### 2.5 JSON Pointer (jsonpointer)"
   ]
  },
  {
   "cell_type": "code",
   "execution_count": 12,
   "id": "e967d8fa",
   "metadata": {},
   "outputs": [
    {
     "name": "stdout",
     "output_type": "stream",
     "text": [
      "JSON Pointer: ''\n",
      "  Resultado: {'livraria': {'titulo': 'Catálogo de Livros Técnicos', 'autorPrincipal': 'Dr. Tech', 'livros': [{'titulo': 'Aprendendo JSONPath', 'autores': ['Alice', 'Bob'], 'ano': 2020, 'preco': 25.5, 'disponivel': True, 'editora': {'nome': 'Editora Inovação', 'cidade': 'São Paulo'}}, {'titulo': 'Dominando JMESPath', 'autores': ['Charlie'], 'ano': 2021, 'preco': 30.0, 'disponivel': False, 'editora': {'nome': 'Editora Global', 'cidade': 'Rio de Janeiro'}}, {'titulo': 'Introdução ao Web Scraping', 'autores': ['David', 'Eve', 'Frank'], 'ano': 2019, 'preco': 20.0, 'disponivel': True, 'editora': {'nome': 'Editora Inovação', 'cidade': 'São Paulo'}}, {'titulo': 'Python para Iniciantes', 'autores': ['Grace'], 'ano': 2022, 'preco': 35.0, 'disponivel': True, 'tags': ['Programação', 'Iniciante']}]}, 'usuarios': [{'id': 1, 'nome': 'Ana', 'isAdmin': True, 'ultimosAcessos': ['2025-06-19', '2025-06-20']}, {'id': 2, 'nome': 'Bruno', 'isAdmin': False, 'ultimosAcessos': ['2025-06-18']}], 'configuracoes': {'tema': 'escuro', 'notificacoes': True, 'chave/com~slash': 'valor com barra e til'}}\n",
      "------------------------------\n",
      "JSON Pointer: '/livraria/titulo'\n",
      "  Resultado: Catálogo de Livros Técnicos\n",
      "------------------------------\n",
      "JSON Pointer: '/livraria/livros/0'\n",
      "  Resultado: {'titulo': 'Aprendendo JSONPath', 'autores': ['Alice', 'Bob'], 'ano': 2020, 'preco': 25.5, 'disponivel': True, 'editora': {'nome': 'Editora Inovação', 'cidade': 'São Paulo'}}\n",
      "------------------------------\n",
      "JSON Pointer: '/livraria/livros/0/autores/0'\n",
      "  Resultado: Alice\n",
      "------------------------------\n",
      "JSON Pointer: '/usuarios/1/nome'\n",
      "  Resultado: Bruno\n",
      "------------------------------\n",
      "JSON Pointer: '/configuracoes/chave~1com~0slash'\n",
      "  Resultado: valor com barra e til\n",
      "------------------------------\n",
      "JSON Pointer: '/caminho/que/nao/existe'\n",
      "  Erro: member 'caminho' not found in {'livraria': {'titulo': 'Catálogo de Livros Técnicos', 'autorPrincipal': 'Dr. Tech', 'livros': [{'titulo': 'Aprendendo JSONPath', 'autores': ['Alice', 'Bob'], 'ano': 2020, 'preco': 25.5, 'disponivel': True, 'editora': {'nome': 'Editora Inovação', 'cidade': 'São Paulo'}}, {'titulo': 'Dominando JMESPath', 'autores': ['Charlie'], 'ano': 2021, 'preco': 30.0, 'disponivel': False, 'editora': {'nome': 'Editora Global', 'cidade': 'Rio de Janeiro'}}, {'titulo': 'Introdução ao Web Scraping', 'autores': ['David', 'Eve', 'Frank'], 'ano': 2019, 'preco': 20.0, 'disponivel': True, 'editora': {'nome': 'Editora Inovação', 'cidade': 'São Paulo'}}, {'titulo': 'Python para Iniciantes', 'autores': ['Grace'], 'ano': 2022, 'preco': 35.0, 'disponivel': True, 'tags': ['Programação', 'Iniciante']}]}, 'usuarios': [{'id': 1, 'nome': 'Ana', 'isAdmin': True, 'ultimosAcessos': ['2025-06-19', '2025-06-20']}, {'id': 2, 'nome': 'Bruno', 'isAdmin': False, 'ultimosAcessos': ['2025-06-18']}], 'configuracoes': {'tema': 'escuro', 'notificacoes': True, 'chave/com~slash': 'valor com barra e til'}}\n",
      "------------------------------\n"
     ]
    }
   ],
   "source": [
    "def run_json_pointer(pointer: str):\n",
    "    \"\"\"\n",
    "    Resolves a JSON Pointer and prints the result.\n",
    "    \"\"\"\n",
    "    print(f\"JSON Pointer: '{pointer}'\")\n",
    "    try:\n",
    "        result = jsonpointer.resolve_pointer(json_data, pointer)\n",
    "        print(f\"  Resultado: {result}\")\n",
    "    except jsonpointer.JsonPointerException as e:\n",
    "        print(f\"  Erro: {e}\")\n",
    "    print(\"-\" * 30)\n",
    "\n",
    "run_json_pointer('') # O documento inteiro\n",
    "run_json_pointer('/livraria/titulo')\n",
    "run_json_pointer('/livraria/livros/0') # Primeiro livro\n",
    "run_json_pointer('/livraria/livros/0/autores/0') # Primeiro autor do primeiro livro\n",
    "run_json_pointer('/usuarios/1/nome') # Nome do segundo usuário\n",
    "run_json_pointer('/configuracoes/chave~1com~0slash') # Chave com caracteres especiais (escaped)\n",
    "run_json_pointer('/caminho/que/nao/existe') # Caminho inexistente"
   ]
  }
 ],
 "metadata": {
  "kernelspec": {
   "display_name": "Python 3",
   "language": "python",
   "name": "python3"
  },
  "language_info": {
   "codemirror_mode": {
    "name": "ipython",
    "version": 3
   },
   "file_extension": ".py",
   "mimetype": "text/x-python",
   "name": "python",
   "nbconvert_exporter": "python",
   "pygments_lexer": "ipython3",
   "version": "3.10.11"
  }
 },
 "nbformat": 4,
 "nbformat_minor": 5
}
