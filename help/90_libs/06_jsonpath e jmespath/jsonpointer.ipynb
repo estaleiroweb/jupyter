{
 "cells": [
  {
   "cell_type": "markdown",
   "id": "ad5e4001",
   "metadata": {},
   "source": [
    "# jsonpointer lib\n",
    "\n",
    "A biblioteca **`jsonpointer`** em Python é uma implementação da especificação **JSON Pointer (RFC 6901)**. JSON Pointer é uma sintaxe para identificar valores específicos dentro de um documento JSON, semelhante a como o XPath identifica partes de um documento XML, ou como um caminho de arquivo identifica um arquivo em um sistema de arquivos.\n",
    "\n",
    "Basicamente, um JSON Pointer é uma string que descreve o \"caminho\" para um valor específico dentro de uma estrutura JSON. Ele é muito útil para:\n",
    "\n",
    "  - Acessar partes aninhadas de um JSON de forma precisa.\n",
    "  - Referenciar partes de um JSON para operações como adição, remoção ou substituição em patches JSON (JSON Patch - RFC 6902).\n",
    "  - Comunicar a localização exata de um dado entre sistemas.\n",
    "\n",
    "\n",
    "### Como `jsonpointer` Funciona?\n",
    "\n",
    "A biblioteca `jsonpointer` em Python permite que você faça duas operações principais:\n",
    "\n",
    "1.  **Avaliar um JSON Pointer:** Dado um JSON Pointer e um documento JSON, ele encontra e retorna o valor no caminho especificado.\n",
    "2.  **Gerar um JSON Pointer:** Dado um documento JSON e um valor, ele pode (em alguns casos, se o valor for único no caminho) gerar o JSON Pointer correspondente.\n"
   ]
  },
  {
   "cell_type": "code",
   "execution_count": 1,
   "id": "5a395857",
   "metadata": {},
   "outputs": [
    {
     "name": "stdout",
     "output_type": "stream",
     "text": [
      "Requirement already satisfied: jsonpointer in c:\\users\\helbe\\appdata\\local\\programs\\python\\python310\\lib\\site-packages (3.0.0)\n",
      "Note: you may need to restart the kernel to use updated packages.\n"
     ]
    }
   ],
   "source": [
    "%pip install jsonpointer"
   ]
  },
  {
   "cell_type": "code",
   "execution_count": 2,
   "id": "965ed59e",
   "metadata": {},
   "outputs": [],
   "source": [
    "import jsonpointer\n",
    "import json\n",
    "from data import json_data # data.py"
   ]
  },
  {
   "cell_type": "code",
   "execution_count": 3,
   "id": "4e42cc98",
   "metadata": {},
   "outputs": [],
   "source": [
    "def run_jsonpointer_example(pointer_string: str):\n",
    "    \"\"\"\n",
    "    Executes a JSON Pointer evaluation and prints the results.\n",
    "    \"\"\"\n",
    "    print(f\"\\n--- JSON Pointer: '{pointer_string}' ---\")\n",
    "    try:\n",
    "        result = jsonpointer.resolve_pointer(json_data, pointer_string)\n",
    "        print(f\"  Resultado: {result}\")\n",
    "    except jsonpointer.JsonPointerException as e:\n",
    "        print(f\"  Erro ao resolver ponteiro: {e}\")\n",
    "    except KeyError as e:\n",
    "        print(f\"  Erro: Chave não encontrada - {e}\")\n",
    "    except IndexError as e:\n",
    "        print(f\"  Erro: Índice fora dos limites - {e}\")\n"
   ]
  },
  {
   "cell_type": "markdown",
   "id": "222b73c4",
   "metadata": {},
   "source": [
    "## Métodos e Propriedades Principais\n",
    "\n",
    "A API da biblioteca `jsonpointer` é bastante concisa, focando em sua funcionalidade principal.\n",
    "\n",
    "Vamos usar o mesmo documento JSON de exemplo para as demonstrações:"
   ]
  },
  {
   "cell_type": "markdown",
   "id": "f402907e",
   "metadata": {},
   "source": [
    "### 1. `jsonpointer.resolve_pointer(document, pointer_string)`\n",
    "\n",
    "  - **O que faz:** A função principal para encontrar um valor em um documento JSON usando um JSON Pointer.\n",
    "  - **`document`**: O objeto JSON (Python `dict` ou `list`) em que a pesquisa será realizada.\n",
    "  - **`pointer_string`**: A string JSON Pointer.\n",
    "  - **Retorna:** O valor encontrado no caminho especificado.\n",
    "  - **Levanta:** `jsonpointer.JsonPointerException` (subclasse de `KeyError` ou `IndexError`) se o ponteiro for inválido ou o caminho não for encontrado.\n",
    "\n",
    "**Sintaxe do JSON Pointer:**\n",
    "\n",
    "  - Um JSON Pointer é uma string que começa com `/` (a menos que seja a string vazia `\"\"`, que se refere ao documento inteiro).\n",
    "  - Cada `/` é seguido por um \"token de referência\" que indica a próxima chave de objeto ou índice de array.\n",
    "  - **Caracteres Especiais:** Se um token de referência contiver os caracteres `~` ou `/`, eles devem ser escapados:\n",
    "      - `~` é escapado como `~0`\n",
    "      - `/` é escapado como `~1`\n",
    "  - **`/-`**: Quando usado como o último token de referência em um array, indica o \"final do array\", útil para adição de elementos (embora `jsonpointer.resolve_pointer` não adicione, é um conceito importante para JSON Patch).\n"
   ]
  },
  {
   "cell_type": "code",
   "execution_count": 4,
   "id": "0523de55",
   "metadata": {},
   "outputs": [
    {
     "name": "stdout",
     "output_type": "stream",
     "text": [
      "\n",
      "--- JSON Pointer: '/' ---\n",
      "  Erro ao resolver ponteiro: member '' not found in {'livraria': {'titulo': 'Catálogo de Livros Técnicos', 'autorPrincipal': 'Dr. Tech', 'livros': [{'titulo': 'Aprendendo JSONPath', 'autores': ['Alice', 'Bob'], 'ano': 2020, 'preco': 25.5, 'disponivel': True, 'editora': {'nome': 'Editora Inovação', 'cidade': 'São Paulo'}}, {'titulo': 'Dominando JMESPath', 'autores': ['Charlie'], 'ano': 2021, 'preco': 30.0, 'disponivel': False, 'editora': {'nome': 'Editora Global', 'cidade': 'Rio de Janeiro'}}, {'titulo': 'Introdução ao Web Scraping', 'autores': ['David', 'Eve', 'Frank'], 'ano': 2019, 'preco': 20.0, 'disponivel': True, 'editora': {'nome': 'Editora Inovação', 'cidade': 'São Paulo'}}, {'titulo': 'Python para Iniciantes', 'autores': ['Grace'], 'ano': 2022, 'preco': 35.0, 'disponivel': True, 'tags': ['Programação', 'Iniciante']}]}, 'usuarios': [{'id': 1, 'nome': 'Ana', 'isAdmin': True, 'ultimosAcessos': ['2025-06-19', '2025-06-20']}, {'id': 2, 'nome': 'Bruno', 'isAdmin': False, 'ultimosAcessos': ['2025-06-18']}], 'configuracoes': {'tema': 'escuro', 'notificacoes': True, 'chave~com/traco': 'valor'}}\n",
      "\n",
      "--- JSON Pointer: '/livraria/titulo' ---\n",
      "  Resultado: Catálogo de Livros Técnicos\n",
      "\n",
      "--- JSON Pointer: '/livraria/livros/0' ---\n",
      "  Resultado: {'titulo': 'Aprendendo JSONPath', 'autores': ['Alice', 'Bob'], 'ano': 2020, 'preco': 25.5, 'disponivel': True, 'editora': {'nome': 'Editora Inovação', 'cidade': 'São Paulo'}}\n",
      "\n",
      "--- JSON Pointer: '/livraria/livros/0/titulo' ---\n",
      "  Resultado: Aprendendo JSONPath\n",
      "\n",
      "--- JSON Pointer: '/livraria/livros/2/autores/1' ---\n",
      "  Resultado: Eve\n",
      "\n",
      "--- JSON Pointer: '/configuracoes/chave~0com~1traco' ---\n",
      "  Resultado: valor\n",
      "\n",
      "--- JSON Pointer: '/livraria/livros/5/titulo' ---\n",
      "  Erro ao resolver ponteiro: index '5' is out of bounds\n",
      "\n",
      "--- JSON Pointer: '/usuarios/0/email' ---\n",
      "  Erro ao resolver ponteiro: member 'email' not found in {'id': 1, 'nome': 'Ana', 'isAdmin': True, 'ultimosAcessos': ['2025-06-19', '2025-06-20']}\n"
     ]
    }
   ],
   "source": [
    "# Ponteiro para o documento raiz (string vazia)\n",
    "run_jsonpointer_example('/')\n",
    "\n",
    "# Acessando um valor de objeto\n",
    "run_jsonpointer_example('/livraria/titulo')\n",
    "\n",
    "# Acessando um elemento de array pelo índice\n",
    "run_jsonpointer_example('/livraria/livros/0') # O primeiro livro (índice 0)\n",
    "run_jsonpointer_example('/livraria/livros/0/titulo') # O título do primeiro livro\n",
    "run_jsonpointer_example('/livraria/livros/2/autores/1') # O segundo autor do terceiro livro\n",
    "\n",
    "# Acessando uma chave de objeto com caracteres especiais (escapando '~' e '/')\n",
    "run_jsonpointer_example('/configuracoes/chave~0com~1traco')\n",
    "\n",
    "# Tentando acessar um caminho que não existe (levantará JsonPointerException)\n",
    "run_jsonpointer_example('/livraria/livros/5/titulo') # Índice 5 não existe\n",
    "run_jsonpointer_example('/usuarios/0/email') # Campo 'email' não existe"
   ]
  },
  {
   "cell_type": "markdown",
   "id": "d13fdfef",
   "metadata": {},
   "source": [
    "### 2. `jsonpointer.JsonPointerException`\n",
    "\n",
    "Esta é a classe de exceção levantada pela biblioteca quando um JSON Pointer não pode ser resolvido. Ela é uma subclasse de `KeyError` (para chaves de objeto não encontradas) e `IndexError` (para índices de array fora dos limites). Isso permite que você capture erros específicos de acesso ao JSON.\n",
    "\n",
    "**Exemplo de tratamento de exceção:** (Já incluído na função `run_jsonpointer_example`)"
   ]
  },
  {
   "cell_type": "markdown",
   "id": "a255b4e8",
   "metadata": {},
   "source": [
    "### 3. `jsonpointer.JsonPointer(pointer_string)` (Classe)\n",
    "\n",
    "Embora `resolve_pointer()` seja a função de conveniência, você também pode instanciar um objeto `JsonPointer`. Este objeto pode ser usado para realizar a resolução.\n",
    "\n",
    "  - **`pointer_obj = jsonpointer.JsonPointer(pointer_string)`**: Cria um objeto ponteiro.\n",
    "  - **`pointer_obj.resolve(document)`**: Resolve o ponteiro no documento. É equivalente a `jsonpointer.resolve_pointer(document, pointer_string)`.\n",
    "  - **`str(pointer_obj)`**: Retorna a string do ponteiro."
   ]
  },
  {
   "cell_type": "code",
   "execution_count": 5,
   "id": "377e346f",
   "metadata": {},
   "outputs": [
    {
     "name": "stdout",
     "output_type": "stream",
     "text": [
      "Objeto ponteiro criado: /livraria/livros/1/preco\n",
      "String do ponteiro: /livraria/livros/1/preco\n",
      "Preço do segundo livro (usando objeto JsonPointer): 30.0\n",
      "Preço de outro documento: 100.0\n"
     ]
    }
   ],
   "source": [
    "# Criando um objeto JsonPointer\n",
    "pointer_obj = jsonpointer.JsonPointer('/livraria/livros/1/preco')\n",
    "print(f\"Objeto ponteiro criado: {pointer_obj}\")\n",
    "print(f\"String do ponteiro: {str(pointer_obj)}\")\n",
    "\n",
    "# Resolvendo o ponteiro usando o método do objeto\n",
    "preco_segundo_livro = pointer_obj.resolve(json_data)\n",
    "print(f\"Preço do segundo livro (usando objeto JsonPointer): {preco_segundo_livro}\")\n",
    "\n",
    "# Você pode reutilizar o objeto ponteiro para diferentes documentos\n",
    "other_data = {\"livraria\": {\"livros\": [{\"preco\": 100.0}]}}\n",
    "preco_other = jsonpointer.JsonPointer('/livraria/livros/0/preco').resolve(other_data)\n",
    "print(f\"Preço de outro documento: {preco_other}\")"
   ]
  },
  {
   "cell_type": "markdown",
   "id": "188299d7",
   "metadata": {},
   "source": [
    "### 4. `jsonpointer.set_pointer(document, pointer_string, value)`\n",
    "\n",
    "  - **O que faz:** Define um valor em um caminho específico dentro de um documento JSON. É uma operação de modificação. Se o caminho não existir, ele tentará criá-lo.\n",
    "  - **`document`**: O objeto JSON (Python `dict` ou `list`) a ser modificado.\n",
    "  - **`pointer_string`**: O JSON Pointer para o local onde o valor será definido.\n",
    "  - **`value`**: O novo valor a ser definido.\n",
    "  - **Retorna:** O documento modificado."
   ]
  },
  {
   "cell_type": "code",
   "execution_count": 7,
   "id": "fb557f91",
   "metadata": {},
   "outputs": [
    {
     "name": "stdout",
     "output_type": "stream",
     "text": [
      "Novo título da livraria: Novo Catálogo\n",
      "Novo preço do primeiro livro: 29.99\n",
      "Configurações com novo idioma: pt-BR\n",
      "Total de livros após adição: 5\n",
      "Último livro adicionado: Programação Web com Flask\n",
      "  Erro: member 'novo' not found in {'livraria': {'titulo': 'Novo Catálogo', 'autorPrincipal': 'Dr. Tech', 'livros': [{'titulo': 'Aprendendo JSONPath', 'autores': ['Alice', 'Bob'], 'ano': 2020, 'preco': 29.99, 'disponivel': True, 'editora': {'nome': 'Editora Inovação', 'cidade': 'São Paulo'}}, {'titulo': 'Dominando JMESPath', 'autores': ['Charlie'], 'ano': 2021, 'preco': 30.0, 'disponivel': False, 'editora': {'nome': 'Editora Global', 'cidade': 'Rio de Janeiro'}}, {'titulo': 'Introdução ao Web Scraping', 'autores': ['David', 'Eve', 'Frank'], 'ano': 2019, 'preco': 20.0, 'disponivel': True, 'editora': {'nome': 'Editora Inovação', 'cidade': 'São Paulo'}}, {'titulo': 'Python para Iniciantes', 'autores': ['Grace'], 'ano': 2022, 'preco': 35.0, 'disponivel': True, 'tags': ['Programação', 'Iniciante']}, {'titulo': 'Programação Web com Flask', 'autores': ['João'], 'ano': 2024, 'preco': 45.0, 'disponivel': True}]}, 'usuarios': [{'id': 1, 'nome': 'Ana', 'isAdmin': True, 'ultimosAcessos': ['2025-06-19', '2025-06-20']}, {'id': 2, 'nome': 'Bruno', 'isAdmin': False, 'ultimosAcessos': ['2025-06-18']}], 'configuracoes': {'tema': 'escuro', 'notificacoes': True, 'chave~com/traco': 'valor', 'idioma': 'pt-BR'}}\n"
     ]
    }
   ],
   "source": [
    "# Criar uma cópia do json_data para não alterar o original\n",
    "from exceptiongroup import catch\n",
    "\n",
    "\n",
    "data_to_modify = json.loads(json.dumps(json_data))\n",
    "\n",
    "# Modificando o título da livraria\n",
    "jsonpointer.set_pointer(data_to_modify, '/livraria/titulo', 'Novo Catálogo')\n",
    "print(f\"Novo título da livraria: {data_to_modify['livraria']['titulo']}\")\n",
    "\n",
    "# Modificando o preço do primeiro livro\n",
    "jsonpointer.set_pointer(data_to_modify, '/livraria/livros/0/preco', 29.99)\n",
    "print(f\"Novo preço do primeiro livro: {data_to_modify['livraria']['livros'][0]['preco']}\")\n",
    "\n",
    "# Adicionando um novo campo a um objeto (se o caminho já existir até o penúltimo nível)\n",
    "jsonpointer.set_pointer(data_to_modify, '/configuracoes/idioma', 'pt-BR')\n",
    "print(f\"Configurações com novo idioma: {data_to_modify['configuracoes']['idioma']}\")\n",
    "\n",
    "# Adicionando um novo livro ao final do array de livros\n",
    "# O token '-' indica o final do array para adição\n",
    "new_book = {\n",
    "    \"titulo\": \"Programação Web com Flask\",\n",
    "    \"autores\": [\"João\"],\n",
    "    \"ano\": 2024,\n",
    "    \"preco\": 45.00,\n",
    "    \"disponivel\": True\n",
    "}\n",
    "jsonpointer.set_pointer(data_to_modify, '/livraria/livros/-', new_book)\n",
    "print(f\"Total de livros após adição: {len(data_to_modify['livraria']['livros'])}\")\n",
    "print(f\"Último livro adicionado: {data_to_modify['livraria']['livros'][-1]['titulo']}\")\n",
    "\n",
    "# Tentando definir em um caminho que não existe (ele cria os intermediários se forem objetos/listas)\n",
    "# Cuidado: se '/novo/caminho' não existir, ele criará 'novo' como um dicionário e depois 'caminho'\n",
    "# Isso pode ser útil, mas também pode levar a erros se você esperar que um índice de array seja criado em vez de um objeto.\n",
    "try:\n",
    "    jsonpointer.set_pointer(data_to_modify, '/novo/caminho/para/valor', 'Teste')\n",
    "    print(f\"\\nNovo caminho criado: {data_to_modify['novo']['caminho']['para']['valor']}\")\n",
    "except jsonpointer.JsonPointerException as e:\n",
    "    print(f\"  Erro: {e}\")"
   ]
  },
  {
   "cell_type": "markdown",
   "id": "270ce732",
   "metadata": {},
   "source": [
    "### 5. `jsonpointer.JsonPointerException` (Propriedades)\n",
    "\n",
    "A exceção `JsonPointerException` tem algumas propriedades úteis para depuração:\n",
    "\n",
    "  - `e.path`: O JSON Pointer que causou o erro.\n",
    "  - `e.document`: O documento JSON onde o erro ocorreu.\n",
    "  - `e.message`: A mensagem de erro detalhada."
   ]
  },
  {
   "cell_type": "markdown",
   "id": "8067bf67",
   "metadata": {},
   "source": [
    "### Casos de Uso Comuns para `jsonpointer`\n",
    "\n",
    "  - **JSON Patch (RFC 6902)**: JSON Pointer é a base do JSON Patch, que é uma especificação para descrever um conjunto de operações (add, remove, replace, move, copy, test) a serem aplicadas a um documento JSON. A biblioteca `jsonpatch` em Python usa `jsonpointer` internamente.\n",
    "  - **APIs RESTful**: Usado para referenciar partes de recursos em requisições ou respostas de API.\n",
    "  - **Configurações**: Acessar valores específicos em arquivos de configuração JSON.\n",
    "  - **Validação de Dados**: Identificar a localização exata de erros de validação em um documento JSON.\n"
   ]
  }
 ],
 "metadata": {
  "kernelspec": {
   "display_name": "Python 3",
   "language": "python",
   "name": "python3"
  },
  "language_info": {
   "codemirror_mode": {
    "name": "ipython",
    "version": 3
   },
   "file_extension": ".py",
   "mimetype": "text/x-python",
   "name": "python",
   "nbconvert_exporter": "python",
   "pygments_lexer": "ipython3",
   "version": "3.10.11"
  }
 },
 "nbformat": 4,
 "nbformat_minor": 5
}
