{
 "cells": [
  {
   "cell_type": "markdown",
   "id": "f6bba156",
   "metadata": {},
   "source": [
    "# jmespath lib\n",
    "\n",
    "A biblioteca **`jmespath`** em Python é uma implementação da linguagem de consulta **JMESPath (JSON MEssaging Specification Path)**. JMESPath é uma linguagem de consulta declarativa projetada para extrair e transformar elementos de um documento JSON (ou estruturas de dados Python equivalentes).\n",
    "\n",
    "Enquanto o JSONPath (como implementado por `jsonpath-ng`) é primariamente focado em *extração*, o **JMESPath vai além**, oferecendo poderosas capacidades de **transformação e remodelação** dos dados, além de funções integradas para processamento de valores. Isso o torna incrivelmente útil para:\n",
    "\n",
    "  - Extrair subconjuntos de dados.\n",
    "  - Remodelar a estrutura de documentos JSON.\n",
    "  - Filtrar elementos com base em condições complexas.\n",
    "  - Mapear dados para diferentes formatos."
   ]
  },
  {
   "cell_type": "code",
   "execution_count": 1,
   "id": "b81e2abd",
   "metadata": {},
   "outputs": [
    {
     "name": "stdout",
     "output_type": "stream",
     "text": [
      "Requirement already satisfied: jmespath in c:\\users\\helbe\\appdata\\local\\programs\\python\\python310\\lib\\site-packages (1.0.1)\n",
      "Note: you may need to restart the kernel to use updated packages.\n"
     ]
    }
   ],
   "source": [
    "%pip install jmespath"
   ]
  },
  {
   "cell_type": "markdown",
   "id": "ee4ae0b9",
   "metadata": {},
   "source": [
    "## Como `jmespath` Funciona?\n",
    "\n",
    "O processo de uso de `jmespath` é bastante direto:\n",
    "\n",
    "1.  Você define uma **expressão JMESPath** como uma string.\n",
    "2.  Você usa a função principal `jmespath.search()` para aplicar essa expressão a um documento JSON (ou um dicionário/lista Python).\n",
    "3.  A função retorna o resultado da consulta, que pode ser um valor único, uma lista, um dicionário, ou `None` se nada for encontrado."
   ]
  },
  {
   "cell_type": "markdown",
   "id": "d901b39d",
   "metadata": {},
   "source": [
    "## Métodos e Propriedades Principais\n",
    "\n",
    "A biblioteca `jmespath` é mais simples em sua API de alto nível do que `jsonpath-ng` ou `lxml`, focando-se principalmente em uma função de busca central.\n",
    "\n",
    "Vamos usar o mesmo documento JSON de exemplo para demonstrações:"
   ]
  },
  {
   "cell_type": "code",
   "execution_count": 2,
   "id": "0ea6c2f6",
   "metadata": {},
   "outputs": [],
   "source": [
    "import jmespath\n",
    "import json\n",
    "from data import json_data # data.py"
   ]
  },
  {
   "cell_type": "code",
   "execution_count": 3,
   "id": "765fd34c",
   "metadata": {},
   "outputs": [],
   "source": [
    "def run_jmespath_query(query: str):\n",
    "    \"\"\"\n",
    "    Executes a JMESPath query and prints the results.\n",
    "    \"\"\"\n",
    "    print(f\"\\n--- JMESPath Query: '{query}' ---\")\n",
    "    try:\n",
    "        result = jmespath.search(query, json_data)\n",
    "        if result is not None and result != []:\n",
    "            print(f\"  Resultado: {result}\")\n",
    "        else:\n",
    "            print(\"  Nenhum resultado encontrado ou resultado vazio.\")\n",
    "    except Exception as e:\n",
    "        print(f\"  Erro ao executar query: {e}\")"
   ]
  },
  {
   "cell_type": "markdown",
   "id": "263924f6",
   "metadata": {},
   "source": [
    "### 1. Função Principal: `jmespath.search()`\n",
    "\n",
    "  - **O que faz:** É a função central para executar uma expressão JMESPath.\n",
    "  - **Sintaxe:** `jmespath.search(expression, data)`\n",
    "      - `expression`: A string JMESPath que você deseja executar.\n",
    "      - `data`: O documento JSON (como um dicionário ou lista Python) no qual a pesquisa será realizada.\n",
    "  - **Retorna:** O resultado da avaliação da expressão, que pode ser um tipo Python (`dict`, `list`, `str`, `int`, `float`, `bool`, `None`) correspondente aos tipos JSON.\n"
   ]
  },
  {
   "cell_type": "code",
   "execution_count": 4,
   "id": "af28fea0",
   "metadata": {},
   "outputs": [
    {
     "name": "stdout",
     "output_type": "stream",
     "text": [
      "\n",
      "--- JMESPath Query: 'livraria.titulo' ---\n",
      "  Resultado: Catálogo de Livros Técnicos\n",
      "\n",
      "--- JMESPath Query: 'livraria.livros[0].titulo' ---\n",
      "  Resultado: Aprendendo JSONPath\n",
      "\n",
      "--- JMESPath Query: 'livraria.livros[*].titulo' ---\n",
      "  Resultado: ['Aprendendo JSONPath', 'Dominando JMESPath', 'Introdução ao Web Scraping', 'Python para Iniciantes']\n",
      "\n",
      "--- JMESPath Query: 'usuarios[1].nome' ---\n",
      "  Resultado: Bruno\n",
      "\n",
      "--- JMESPath Query: 'configuracoes.\"chave-com-traco\"' ---\n",
      "  Nenhum resultado encontrado ou resultado vazio.\n",
      "\n",
      "--- JMESPath Query: 'configuracoes.`chave-com-traco`' ---\n",
      "  Erro ao executar query: Expecting: ['quoted_identifier', 'unquoted_identifier', 'lbracket', 'lbrace'], got: literal: Parse error at column 14, token \"chave-com-traco\" (LITERAL), for expression:\n",
      "\"configuracoes.`chave-com-traco`\"\n",
      "               ^\n"
     ]
    }
   ],
   "source": [
    "# Selecionando um valor simples\n",
    "run_jmespath_query('livraria.titulo')\n",
    "\n",
    "# Selecionando o título do primeiro livro (índice 0)\n",
    "run_jmespath_query('livraria.livros[0].titulo')\n",
    "\n",
    "# Selecionando todos os títulos de livros\n",
    "run_jmespath_query('livraria.livros[*].titulo')\n",
    "\n",
    "# Selecionando o nome do segundo usuário\n",
    "run_jmespath_query('usuarios[1].nome')\n",
    "\n",
    "# Selecionando chave com traço (necessita aspas invertidas ou de ponto)\n",
    "run_jmespath_query('configuracoes.\"chave-com-traco\"')\n",
    "run_jmespath_query('configuracoes.`chave-com-traco`') # Aspas invertidas são preferenciais para chaves complexas"
   ]
  },
  {
   "cell_type": "markdown",
   "id": "c2f4a177",
   "metadata": {},
   "source": [
    "### 2. Sintaxe e Recursos JMESPath\n",
    "\n",
    "JMESPath tem uma sintaxe rica e poderosa para diversas operações:\n",
    "\n",
    "  - **`chave`**: Acesso a membros de objetos. Ex: `livraria.titulo`\n",
    "  - **`[índice]`**: Acesso a elementos de arrays. Ex: `livros[0]`\n",
    "  - **`[*]`**: Wildcard para todos os elementos em um array ou todos os valores em um objeto. Ex: `livros[*].titulo`\n",
    "  - **`[]` (Projeções)**: Permite transformar a estrutura dos dados.\n",
    "      - **`[?condição]` (Filtro)**: Filtra elementos de um array com base em uma condição. Ex: `livros[?disponivel]`\n",
    "      - **`{chave: expressão, ...}` (Objeto Projection)**: Cria um novo objeto (dicionário) com chaves e valores derivados. Ex: `livros[*].{Titulo: titulo, Preco: preco}`\n",
    "      - **`[expressão]` (Array Projection)**: Aplica uma expressão a cada elemento de um array e coleta os resultados em um novo array. Ex: `livros[*].autores[0]` (primeiro autor de cada livro)\n",
    "  - **`|` (Pipe)**: Encadeia operações, passando o resultado da expressão anterior para a próxima. Ex: `livros[*].autores | [0]` (pega todos os autores e então o primeiro de cada lista)\n",
    "  - **Funções:** JMESPath tem uma rica biblioteca de funções built-in. As funções são chamadas com `funcao(argumento1, argumento2, ...)`.\n",
    "      - **Tipos de literais:**\n",
    "          - **Strings:** `'meu texto'`, `\"meu texto\"`.\n",
    "          - **Números:** `123`, `12.3`.\n",
    "          - **Booleanos:** `true`, `false`.\n",
    "          - **Nulos:** `null`.\n",
    "          - **Backticks (`` ` ``):** Usados para literais que podem confundir o parser, como números em comparações com strings ou chaves de objeto. Ex: ` preco >  `25.00\\`\\`\n",
    "  - **`@`**: Representa o elemento atual no contexto de um filtro ou projeção.\n"
   ]
  },
  {
   "cell_type": "code",
   "execution_count": 5,
   "id": "563dd0d5",
   "metadata": {},
   "outputs": [
    {
     "name": "stdout",
     "output_type": "stream",
     "text": [
      "\n",
      "--- Filtros JMESPath ---\n",
      "\n",
      "--- JMESPath Query: 'livraria.livros[?disponivel].titulo' ---\n",
      "  Resultado: ['Aprendendo JSONPath', 'Introdução ao Web Scraping', 'Python para Iniciantes']\n",
      "\n",
      "--- JMESPath Query: 'livraria.livros[?!disponivel].titulo' ---\n",
      "  Resultado: ['Dominando JMESPath']\n",
      "\n",
      "--- JMESPath Query: 'livraria.livros[?preco > `25.00` && editora.nome == `Editora Inovação`].titulo' ---\n",
      "  Resultado: ['Aprendendo JSONPath']\n",
      "\n",
      "--- JMESPath Query: 'usuarios[?isAdmin].nome' ---\n",
      "  Resultado: ['Ana']\n",
      "\n",
      "--- Projeções JMESPath (Remodelagem de Dados) ---\n",
      "\n",
      "--- JMESPath Query: 'livraria.livros[*].{Titulo: titulo, PrimeiroAutor: autores[0]}' ---\n",
      "  Resultado: [{'Titulo': 'Aprendendo JSONPath', 'PrimeiroAutor': 'Alice'}, {'Titulo': 'Dominando JMESPath', 'PrimeiroAutor': 'Charlie'}, {'Titulo': 'Introdução ao Web Scraping', 'PrimeiroAutor': 'David'}, {'Titulo': 'Python para Iniciantes', 'PrimeiroAutor': 'Grace'}]\n",
      "\n",
      "--- JMESPath Query: 'livraria.livros[?preco < `30`].{Titulo: titulo, CidadeEditora: editora.cidade}' ---\n",
      "  Resultado: [{'Titulo': 'Aprendendo JSONPath', 'CidadeEditora': 'São Paulo'}, {'Titulo': 'Introdução ao Web Scraping', 'CidadeEditora': 'São Paulo'}]\n",
      "\n",
      "--- Funções JMESPath ---\n",
      "\n",
      "--- JMESPath Query: 'livraria.livros[0].autores | length(@)' ---\n",
      "  Resultado: 2\n",
      "\n",
      "--- JMESPath Query: 'livraria.titulo | length(@)' ---\n",
      "  Resultado: 27\n",
      "\n",
      "--- JMESPath Query: 'livraria.livros[?contains(tags, `Programação`)].titulo' ---\n",
      "  Erro ao executar query: In function contains(), invalid type for value: None, expected one of: ['array', 'string'], received: \"null\"\n",
      "\n",
      "--- JMESPath Query: 'livraria.livros[?contains(titulo, `JSONPath`)].titulo' ---\n",
      "  Resultado: ['Aprendendo JSONPath']\n",
      "\n",
      "--- JMESPath Query: 'livraria.livros[0].autores | join(`, `, @)' ---\n",
      "  Resultado: Alice, Bob\n",
      "\n",
      "--- JMESPath Query: 'usuarios[0].ultimosAcessos | reverse(@)' ---\n",
      "  Resultado: ['2025-06-20', '2025-06-19']\n",
      "\n",
      "--- JMESPath Query: 'livraria.livros[*].preco | max(@)' ---\n",
      "  Resultado: 35.0\n",
      "\n",
      "--- JMESPath Query: 'livraria.livros[*].preco | sum(@)' ---\n",
      "  Resultado: 110.5\n",
      "\n",
      "--- JMESPath Query: 'livraria.livros[0].preco | type(@)' ---\n",
      "  Resultado: number\n",
      "\n",
      "--- JMESPath Query: 'livraria.editora | values(@)' ---\n",
      "  Erro ao executar query: In function values(), invalid type for value: None, expected one of: ['object'], received: \"null\"\n",
      "\n",
      "--- JMESPath Query: 'livraria.{dados: editora | values(@)}' ---\n",
      "  Erro ao executar query: In function values(), invalid type for value: None, expected one of: ['object'], received: \"null\"\n",
      "\n",
      "--- JMESPath Query: 'livraria.editora | keys(@)' ---\n",
      "  Erro ao executar query: In function keys(), invalid type for value: None, expected one of: ['object'], received: \"null\"\n",
      "\n",
      "--- JMESPath Query: 'livraria.livros | sort_by(@, &preco).titulo' ---\n",
      "  Nenhum resultado encontrado ou resultado vazio.\n",
      "\n",
      "--- Operador Pipe para Transformações em Sequência ---\n",
      "\n",
      "--- JMESPath Query: 'livraria.livros[?disponivel].{Titulo: titulo, PrimeiroAutor: autores[0]} | sort_by(@, &Titulo)' ---\n",
      "  Resultado: [{'Titulo': 'Aprendendo JSONPath', 'PrimeiroAutor': 'Alice'}, {'Titulo': 'Introdução ao Web Scraping', 'PrimeiroAutor': 'David'}, {'Titulo': 'Python para Iniciantes', 'PrimeiroAutor': 'Grace'}]\n",
      "\n",
      "--- JMESPath: Fatiamento de Array ---\n",
      "\n",
      "--- JMESPath Query: 'livraria.livros[0:2]' ---\n",
      "  Resultado: [{'titulo': 'Aprendendo JSONPath', 'autores': ['Alice', 'Bob'], 'ano': 2020, 'preco': 25.5, 'disponivel': True, 'editora': {'nome': 'Editora Inovação', 'cidade': 'São Paulo'}}, {'titulo': 'Dominando JMESPath', 'autores': ['Charlie'], 'ano': 2021, 'preco': 30.0, 'disponivel': False, 'editora': {'nome': 'Editora Global', 'cidade': 'Rio de Janeiro'}}]\n",
      "\n",
      "--- JMESPath Query: 'livraria.livros[0], livraria.livros[1]' ---\n",
      "  Erro ao executar query: Unexpected token: ,: Parse error at column 18, token \",\" (COMMA), for expression:\n",
      "\"livraria.livros[0], livraria.livros[1]\"\n",
      "                   ^\n",
      "\n",
      "--- JMESPath Query: '[livraria.livros[0], livraria.livros[1]]' ---\n",
      "  Resultado: [{'titulo': 'Aprendendo JSONPath', 'autores': ['Alice', 'Bob'], 'ano': 2020, 'preco': 25.5, 'disponivel': True, 'editora': {'nome': 'Editora Inovação', 'cidade': 'São Paulo'}}, {'titulo': 'Dominando JMESPath', 'autores': ['Charlie'], 'ano': 2021, 'preco': 30.0, 'disponivel': False, 'editora': {'nome': 'Editora Global', 'cidade': 'Rio de Janeiro'}}]\n"
     ]
    }
   ],
   "source": [
    "print(\"\\n--- Filtros JMESPath ---\")\n",
    "\n",
    "# Filtrando livros disponíveis (mais conciso que JSONPath)\n",
    "run_jmespath_query('livraria.livros[?disponivel].titulo')\n",
    "\n",
    "# Filtrando livros não disponíveis\n",
    "run_jmespath_query('livraria.livros[?!disponivel].titulo')\n",
    "\n",
    "# Filtrando livros com preço maior que 25 E da Editora Inovação\n",
    "run_jmespath_query('livraria.livros[?preco > `25.00` && editora.nome == `Editora Inovação`].titulo')\n",
    "\n",
    "# Filtrando usuários administradores\n",
    "run_jmespath_query('usuarios[?isAdmin].nome')\n",
    "\n",
    "print(\"\\n--- Projeções JMESPath (Remodelagem de Dados) ---\")\n",
    "\n",
    "# Remodelando para pegar título e primeiro autor de cada livro\n",
    "run_jmespath_query('livraria.livros[*].{Titulo: titulo, PrimeiroAutor: autores[0]}')\n",
    "\n",
    "# Remodelando para pegar título e cidade da editora para livros com preço menor que 30\n",
    "run_jmespath_query('livraria.livros[?preco < `30`].{Titulo: titulo, CidadeEditora: editora.cidade}')\n",
    "\n",
    "print(\"\\n--- Funções JMESPath ---\")\n",
    "\n",
    "# length(): Comprimento de arrays ou strings\n",
    "run_jmespath_query('livraria.livros[0].autores | length(@)') # Comprimento do array de autores do primeiro livro\n",
    "run_jmespath_query('livraria.titulo | length(@)') # Comprimento da string do título\n",
    "\n",
    "# contains(): Verifica se um array contém um valor ou se uma string contém um substring\n",
    "run_jmespath_query('livraria.livros[?contains(tags, `Programação`)].titulo') # Livros com a tag 'Programação'\n",
    "run_jmespath_query('livraria.livros[?contains(titulo, `JSONPath`)].titulo') # Livros cujo título contém 'JSONPath'\n",
    "\n",
    "# join(): Junta elementos de um array de strings com um delimitador\n",
    "run_jmespath_query('livraria.livros[0].autores | join(`, `, @)') # Juntando autores do primeiro livro\n",
    "\n",
    "# reverse(): Inverte um array ou string\n",
    "run_jmespath_query('usuarios[0].ultimosAcessos | reverse(@)') # Invertendo a ordem dos acessos\n",
    "\n",
    "# max()/min(): Pega o valor máximo/mínimo de um array de números\n",
    "run_jmespath_query('livraria.livros[*].preco | max(@)') # Preço máximo entre os livros\n",
    "\n",
    "# sum(): Soma os elementos de um array de números\n",
    "run_jmespath_query('livraria.livros[*].preco | sum(@)') # Soma dos preços dos livros\n",
    "\n",
    "# type(): Retorna o tipo do valor\n",
    "run_jmespath_query('livraria.livros[0].preco | type(@)')\n",
    "\n",
    "# values(): Retorna os valores de um objeto como um array\n",
    "run_jmespath_query('livraria.editora | values(@)') # Isso não funcionaria aqui, pois editora não é um objeto raiz de busca.\n",
    "# Exemplo correto de values:\n",
    "run_jmespath_query('livraria.{dados: editora | values(@)}') # Usa projeção para pegar os valores da editora\n",
    "\n",
    "# keys(): Retorna as chaves de um objeto como um array\n",
    "run_jmespath_query('livraria.editora | keys(@)')\n",
    "\n",
    "# Sort_by(): Ordena um array de objetos por uma chave\n",
    "run_jmespath_query('livraria.livros | sort_by(@, &preco).titulo') # Ordena livros por preço e pega os títulos\n",
    "\n",
    "print(\"\\n--- Operador Pipe para Transformações em Sequência ---\")\n",
    "# Seleciona os livros disponíveis, depois para cada um, pega o título e o primeiro autor,\n",
    "# e então ordena o resultado final pelo título\n",
    "run_jmespath_query('livraria.livros[?disponivel].{Titulo: titulo, PrimeiroAutor: autores[0]} | sort_by(@, &Titulo)')\n",
    "\n",
    "print(\"\\n--- JMESPath: Fatiamento de Array ---\")\n",
    "# JMESPath não tem a mesma sintaxe de slicing [start:end:step] do JSONPath.\n",
    "# Para fatiar arrays, você geralmente combinaria filtros ou funções se necessário,\n",
    "# ou usaria a indexação direta. Por exemplo, para os dois primeiros:\n",
    "run_jmespath_query('livraria.livros[0:2]') # JMESPath apenas aceita um único índice ou [*]. Slicing como [0:2] não é padrão aqui.\n",
    "# Para os dois primeiros livros em JMESPath, você geralmente faria:\n",
    "run_jmespath_query('livraria.livros[0], livraria.livros[1]') # Não é ideal, mas ilustra a limitação.\n",
    "# Ou se for um subconjunto simples, pode-se usar a projeção de array com indices\n",
    "# livros[0:2] NÃO É UMA SINTAXE PADRÃO DE JMESPATH PARA SLICING.\n",
    "# Em JMESPath, fatiamento é mais complexo, geralmente feito com funções ou na linguagem hospedeira.\n",
    "# Para o primeiro e segundo livro, você pegaria os elementos individualmente ou filtraria.\n",
    "# Ex: Para obter o primeiro e o segundo livro, você faria:\n",
    "run_jmespath_query('[livraria.livros[0], livraria.livros[1]]')"
   ]
  },
  {
   "cell_type": "markdown",
   "id": "8416bbab",
   "metadata": {},
   "source": [
    "### 3. Compilação de Expressões (`jmespath.compile()`)\n",
    "\n",
    "Embora `jmespath.search()` seja conveniente para uso único, para expressões que serão usadas repetidamente, é mais eficiente compilá-las uma vez:\n",
    "\n",
    "  - **`jmespath.compile(expression)`**:\n",
    "      - **O que faz:** Compila a expressão JMESPath em um objeto de expressão.\n",
    "      - **Retorna:** Um objeto `jmespath.parser.ParsedResult` que possui um método `search()` próprio.\n"
   ]
  },
  {
   "cell_type": "code",
   "execution_count": 6,
   "id": "bd74e678",
   "metadata": {},
   "outputs": [
    {
     "name": "stdout",
     "output_type": "stream",
     "text": [
      "Resultado da expressão compilada: ['Python para Iniciantes']\n",
      "Resultado com outros dados: ['Novo Livro']\n"
     ]
    }
   ],
   "source": [
    "# Compila a expressão uma vez\n",
    "compiled_expression = jmespath.compile('livraria.livros[?preco > `30`].titulo')\n",
    "\n",
    "# Usa a expressão compilada múltiplas vezes (aqui, apenas uma vez para demonstração)\n",
    "result_compiled = compiled_expression.search(json_data)\n",
    "print(f\"Resultado da expressão compilada: {result_compiled}\")\n",
    "\n",
    "# Você pode usar a mesma expressão compilada com outros dados\n",
    "other_data = {\"livraria\": {\"livros\": [{\"titulo\": \"Novo Livro\", \"preco\": 40.0}]}}\n",
    "result_other_data = compiled_expression.search(other_data)\n",
    "print(f\"Resultado com outros dados: {result_other_data}\")"
   ]
  },
  {
   "cell_type": "markdown",
   "id": "89500eb6",
   "metadata": {},
   "source": [
    "## Exceções Comuns\n",
    "\n",
    "  - **`jmespath.exceptions.JMESPathError`**: A classe base para todos os erros JMESPath.\n",
    "  - **`jmespath.exceptions.LexerError`**: Erro de tokenização na expressão JMESPath (caracteres inesperados).\n",
    "  - **`jmespath.exceptions.ParseError`**: Erro de sintaxe na expressão JMESPath.\n",
    "  - **`jmespath.exceptions.ArityError`**: Função chamada com o número incorreto de argumentos.\n",
    "  - **`jmespath.exceptions.JMESPathTypeError`**: Tipo de dado inválido fornecido para uma operação ou função.\n",
    "  - **`jmespath.exceptions.UnknownFunctionError`**: Tentativa de chamar uma função que não existe.\n"
   ]
  }
 ],
 "metadata": {
  "kernelspec": {
   "display_name": "Python 3",
   "language": "python",
   "name": "python3"
  },
  "language_info": {
   "codemirror_mode": {
    "name": "ipython",
    "version": 3
   },
   "file_extension": ".py",
   "mimetype": "text/x-python",
   "name": "python",
   "nbconvert_exporter": "python",
   "pygments_lexer": "ipython3",
   "version": "3.10.11"
  }
 },
 "nbformat": 4,
 "nbformat_minor": 5
}
