{
 "cells": [
  {
   "cell_type": "markdown",
   "id": "0225a701",
   "metadata": {},
   "source": [
    "# json lib\n",
    "\n",
    "A biblioteca padrão `json` do Python é essencial para trabalhar com dados no formato **JSON (JavaScript Object Notation)**. JSON é um formato leve de intercâmbio de dados, fácil para humanos lerem e escreverem, e fácil para máquinas analisarem e gerarem. É o formato mais comum para APIs web e arquivos de configuração.\n",
    "\n",
    "A biblioteca `json` em Python permite que você converta objetos Python em strings JSON e vice-versa. Essa conversão é frequentemente chamada de **serialização** (Python para JSON) e **desserialização** (JSON para Python)."
   ]
  },
  {
   "cell_type": "code",
   "execution_count": 1,
   "id": "6adc8ac0",
   "metadata": {},
   "outputs": [],
   "source": [
    "import json\n",
    "import datetime"
   ]
  },
  {
   "cell_type": "markdown",
   "id": "b87b82e3",
   "metadata": {},
   "source": [
    "## Mapeamento Python para JSON\n",
    "\n",
    "É importante entender como os tipos de dados Python são mapeados para os tipos de dados JSON e vice-versa:\n",
    "\n",
    "| Tipo Python       | Tipo JSON     |\n",
    "| :---------------- | :------------ |\n",
    "| `dict`            | `object`      |\n",
    "| `list`, `tuple`   | `array`       |\n",
    "| `str`             | `string`      |\n",
    "| `int`, `float`    | `number`      |\n",
    "| `True`            | `true`        |\n",
    "| `False`           | `false`       |\n",
    "| `None`            | `null`        |"
   ]
  },
  {
   "cell_type": "markdown",
   "id": "0f38d2b0",
   "metadata": {},
   "source": [
    "## Métodos Principais da Biblioteca `json`\n",
    "\n",
    "A biblioteca `json` oferece quatro métodos principais para serialização e desserialização:"
   ]
  },
  {
   "cell_type": "markdown",
   "id": "90e55d31",
   "metadata": {},
   "source": [
    "### 1. `json.dumps()` (Dump String)\n",
    "\n",
    "  - **O que faz:** Serializa um objeto Python (como um dicionário ou lista) em uma **string JSON**.\n",
    "\n",
    "  - **Sintaxe:** `json.dumps(obj, *, skipkeys=False, ensure_ascii=True, check_circular=True, allow_nan=True, cls=None, indent=None, separators=None, default=None, sort_keys=False, **kw)`\n",
    "\n",
    "  - **Parâmetros Comuns:**\n",
    "\n",
    "      - `obj`: O objeto Python que você quer serializar.\n",
    "      - `indent` (opcional): Se for um número inteiro, os arrays e objetos JSON serão \"pretty-printed\" com esse número de espaços para indentação. Torna o JSON mais legível.\n",
    "      - `sort_keys` (opcional): Se `True`, as chaves dos objetos JSON serão ordenadas alfabeticamente. Útil para consistência.\n",
    "      - `ensure_ascii` (opcional): Se `True` (padrão), todos os caracteres não-ASCII na saída serão escapados (ex: `á` se torna `\\u00e1`). Se `False`, caracteres não-ASCII podem ser impressos diretamente.\n",
    "      - `separators` (opcional): Uma tupla `(item_separator, key_separator)`. Por padrão, é `(', ', ': ')`. Útil para formatos compactos (ex: `(',', ':')`).\n",
    "      - `default` (opcional): Uma função que será chamada para objetos que `json.dumps()` não consegue serializar por padrão (ex: `datetime` objects). Essa função deve retornar uma representação serializável do objeto, ou levantar um `TypeError`.\n",
    "      "
   ]
  },
  {
   "cell_type": "code",
   "execution_count": 2,
   "id": "c738c0f4",
   "metadata": {},
   "outputs": [
    {
     "name": "stdout",
     "output_type": "stream",
     "text": [
      "--- json.dumps() ---\n",
      "\n",
      "JSON Básico (compacto):\n",
      "{\"nome\": \"Alice\", \"idade\": 30, \"cidade\": \"Contagem\", \"isStudent\": false, \"habilidades\": [\"Python\", \"SQL\", \"Comunica\\u00e7\\u00e3o\"], \"preferencias\": null, \"registro\": \"2025-06-21T15:45:00\"}\n",
      "\n",
      "JSON com indentação (legível):\n",
      "{\n",
      "    \"nome\": \"Alice\",\n",
      "    \"idade\": 30,\n",
      "    \"cidade\": \"Contagem\",\n",
      "    \"isStudent\": false,\n",
      "    \"habilidades\": [\n",
      "        \"Python\",\n",
      "        \"SQL\",\n",
      "        \"Comunica\\u00e7\\u00e3o\"\n",
      "    ],\n",
      "    \"preferencias\": null,\n",
      "    \"registro\": \"2025-06-21T15:45:00\"\n",
      "}\n",
      "\n",
      "JSON com chaves ordenadas e caracteres não-ASCII diretos:\n",
      "{\n",
      "  \"cidade\": \"Contagem\",\n",
      "  \"habilidades\": [\n",
      "    \"Python\",\n",
      "    \"SQL\",\n",
      "    \"Comunicação\"\n",
      "  ],\n",
      "  \"idade\": 30,\n",
      "  \"isStudent\": false,\n",
      "  \"nome\": \"Alice\",\n",
      "  \"preferencias\": null,\n",
      "  \"registro\": \"2025-06-21T15:45:00\"\n",
      "}\n",
      "\n",
      "JSON compacto (sem espaços):\n",
      "{\"nome\":\"Alice\",\"idade\":30,\"cidade\":\"Contagem\",\"isStudent\":false,\"habilidades\":[\"Python\",\"SQL\",\"Comunica\\u00e7\\u00e3o\"],\"preferencias\":null,\"registro\":\"2025-06-21T15:45:00\"}\n"
     ]
    }
   ],
   "source": [
    "# Objeto Python para serializar\n",
    "data_python = {\n",
    "    \"nome\": \"Alice\",\n",
    "    \"idade\": 30,\n",
    "    \"cidade\": \"Contagem\", # Olá de Contagem!\n",
    "    \"isStudent\": False,\n",
    "    \"habilidades\": [\"Python\", \"SQL\", \"Comunicação\"],\n",
    "    \"preferencias\": None,\n",
    "    \"registro\": datetime.datetime(2025, 6, 21, 15, 45) # Objeto não serializável por padrão\n",
    "}\n",
    "\n",
    "# Função para serializar datetime (exemplo de 'default')\n",
    "def date_serializer(obj):\n",
    "    if isinstance(obj, datetime.datetime):\n",
    "        return obj.isoformat()\n",
    "    raise TypeError(f\"Object of type {obj.__class__.__name__} is not JSON serializable\")\n",
    "\n",
    "print(\"--- json.dumps() ---\")\n",
    "\n",
    "# 1. Serialização básica para string JSON\n",
    "json_string_basic = json.dumps(data_python, default=date_serializer)\n",
    "print(\"\\nJSON Básico (compacto):\")\n",
    "print(json_string_basic)\n",
    "\n",
    "# 2. Serialização com indentação para legibilidade\n",
    "json_string_pretty = json.dumps(data_python, indent=4, default=date_serializer)\n",
    "print(\"\\nJSON com indentação (legível):\")\n",
    "print(json_string_pretty)\n",
    "\n",
    "# 3. Serialização com chaves ordenadas e sem escape de ASCII\n",
    "json_string_sorted_no_ascii = json.dumps(data_python, indent=2, sort_keys=True, ensure_ascii=False, default=date_serializer)\n",
    "print(\"\\nJSON com chaves ordenadas e caracteres não-ASCII diretos:\")\n",
    "print(json_string_sorted_no_ascii)\n",
    "\n",
    "# 4. Serialização compacta (sem espaços após vírgulas e dois pontos)\n",
    "json_string_compact = json.dumps(data_python, separators=(',', ':'), default=date_serializer)\n",
    "print(\"\\nJSON compacto (sem espaços):\")\n",
    "print(json_string_compact)"
   ]
  },
  {
   "cell_type": "markdown",
   "id": "921f855a",
   "metadata": {},
   "source": [
    "### 2. `json.loads()` (Load String)\n",
    "\n",
    "  - **O que faz:** Desserializa uma **string JSON** em um objeto Python.\n",
    "\n",
    "  - **Sintaxe:** `json.loads(s, *, encoding=None, cls=None, object_hook=None, parse_float=None, parse_int=None, parse_constant=None, object_pairs_hook=None, **kw)`\n",
    "\n",
    "  - **Parâmetros Comuns:**\n",
    "\n",
    "      - `s`: A string JSON que você quer desserializar.\n",
    "      - `object_hook` (opcional): Uma função que será chamada com o resultado de cada objeto JSON decodificado (dicionário). Pode ser usada para converter dicionários JSON em instâncias de classes Python customizadas."
   ]
  },
  {
   "cell_type": "code",
   "execution_count": 3,
   "id": "b976e837",
   "metadata": {},
   "outputs": [
    {
     "name": "stdout",
     "output_type": "stream",
     "text": [
      "\n",
      "--- json.loads() ---\n",
      "\n",
      "Objeto Python desserializado:\n",
      "{'produto': 'Notebook X1', 'preco': 1200.5, 'emEstoque': True, 'caracteristicas': {'RAM': '16GB', 'Armazenamento': '512GB SSD'}, 'coresDisponiveis': ['Preto', 'Prata'], 'fornecedor': None}\n",
      "Tipo do objeto principal: <class 'dict'>\n",
      "Preço: 1200.5 (Tipo: <class 'float'>)\n",
      "Está em estoque? True (Tipo: <class 'bool'>)\n",
      "\n",
      "Objeto desserializado com object_hook (instância customizada):\n",
      "Produto(nome='Smartphone Y2', preco=800.0, em_estoque=True)\n",
      "Tipo do objeto principal: <class '__main__.Produto'>\n"
     ]
    }
   ],
   "source": [
    "# String JSON para desserializar\n",
    "json_string = \"\"\"\n",
    "{\n",
    "    \"produto\": \"Notebook X1\",\n",
    "    \"preco\": 1200.50,\n",
    "    \"emEstoque\": true,\n",
    "    \"caracteristicas\": {\n",
    "        \"RAM\": \"16GB\",\n",
    "        \"Armazenamento\": \"512GB SSD\"\n",
    "    },\n",
    "    \"coresDisponiveis\": [\"Preto\", \"Prata\"],\n",
    "    \"fornecedor\": null\n",
    "}\n",
    "\"\"\"\n",
    "\n",
    "print(\"\\n--- json.loads() ---\")\n",
    "\n",
    "# Desserialização básica para objeto Python\n",
    "python_obj = json.loads(json_string)\n",
    "print(\"\\nObjeto Python desserializado:\")\n",
    "print(python_obj)\n",
    "print(f\"Tipo do objeto principal: {type(python_obj)}\")\n",
    "print(f\"Preço: {python_obj['preco']} (Tipo: {type(python_obj['preco'])})\")\n",
    "print(f\"Está em estoque? {python_obj['emEstoque']} (Tipo: {type(python_obj['emEstoque'])})\")\n",
    "\n",
    "# Exemplo com object_hook para converter para uma classe customizada\n",
    "class Produto:\n",
    "    def __init__(self, produto, preco, emEstoque, caracteristicas, coresDisponiveis, fornecedor):\n",
    "        self.nome_produto = produto\n",
    "        self.preco = preco\n",
    "        self.em_estoque = emEstoque\n",
    "        self.specs = caracteristicas\n",
    "        self.cores = coresDisponiveis\n",
    "        self.fornecedor = fornecedor\n",
    "    \n",
    "    def __repr__(self):\n",
    "        return f\"Produto(nome='{self.nome_produto}', preco={self.preco}, em_estoque={self.em_estoque})\"\n",
    "\n",
    "def produto_object_hook(d):\n",
    "    if \"produto\" in d and \"preco\" in d:\n",
    "        return Produto(**d)\n",
    "    return d\n",
    "\n",
    "json_string_produto = \"\"\"\n",
    "{\n",
    "    \"produto\": \"Smartphone Y2\",\n",
    "    \"preco\": 800.00,\n",
    "    \"emEstoque\": true,\n",
    "    \"caracteristicas\": {\"Tela\": \"AMOLED\"},\n",
    "    \"coresDisponiveis\": [\"Azul\"],\n",
    "    \"fornecedor\": \"TechCorp\"\n",
    "}\n",
    "\"\"\"\n",
    "produto_instance = json.loads(json_string_produto, object_hook=produto_object_hook)\n",
    "print(\"\\nObjeto desserializado com object_hook (instância customizada):\")\n",
    "print(produto_instance)\n",
    "print(f\"Tipo do objeto principal: {type(produto_instance)}\")"
   ]
  },
  {
   "cell_type": "markdown",
   "id": "17415c48",
   "metadata": {},
   "source": [
    "### 3. `json.dump()` (Dump to File)\n",
    "\n",
    "  - **O que faz:** Serializa um objeto Python e o escreve diretamente em um **arquivo (file-like object)**.\n",
    "\n",
    "  - **Sintaxe:** `json.dump(obj, fp, *, skipkeys=False, ensure_ascii=True, check_circular=True, allow_nan=True, cls=None, indent=None, separators=None, default=None, sort_keys=False, **kw)`\n",
    "\n",
    "  - **Parâmetros Comuns:**\n",
    "\n",
    "      - `obj`: O objeto Python a ser serializado.\n",
    "      - `fp`: O objeto arquivo (`file pointer`) para o qual a string JSON será escrita.\n",
    "      - Os outros parâmetros são os mesmos de `json.dumps()`."
   ]
  },
  {
   "cell_type": "code",
   "execution_count": 4,
   "id": "7568413e",
   "metadata": {},
   "outputs": [
    {
     "name": "stdout",
     "output_type": "stream",
     "text": [
      "\n",
      "--- json.dump() ---\n",
      "Dados salvos em 'dados_empresa.json'\n",
      "\n",
      "Conteúdo do arquivo salvo:\n",
      "{\n",
      "    \"empresa\": \"Minha Startup Local\",\n",
      "    \"fundacao_ano\": 2023,\n",
      "    \"localizacao\": \"Contagem - MG\",\n",
      "    \"servicos\": [\n",
      "        \"Desenvolvimento Web\",\n",
      "        \"Consultoria de Dados\"\n",
      "    ],\n",
      "    \"funcionarios_ativos\": 15\n",
      "}\n"
     ]
    }
   ],
   "source": [
    "# Objeto Python para salvar em arquivo\n",
    "dados_para_arquivo = {\n",
    "    \"empresa\": \"Minha Startup Local\",\n",
    "    \"fundacao_ano\": 2023,\n",
    "    \"localizacao\": \"Contagem - MG\",\n",
    "    \"servicos\": [\"Desenvolvimento Web\", \"Consultoria de Dados\"],\n",
    "    \"funcionarios_ativos\": 15\n",
    "}\n",
    "\n",
    "arquivo_json = \"dados_empresa.json\"\n",
    "\n",
    "print(f\"\\n--- json.dump() ---\")\n",
    "\n",
    "# Salvando dados em um arquivo JSON com indentação\n",
    "with open(arquivo_json, 'w', encoding='utf-8') as f:\n",
    "    json.dump(dados_para_arquivo, f, indent=4, ensure_ascii=False) # ensure_ascii=False para acentos\n",
    "print(f\"Dados salvos em '{arquivo_json}'\")\n",
    "\n",
    "# Lendo o arquivo para confirmar (opcional)\n",
    "with open(arquivo_json, 'r', encoding='utf-8') as f:\n",
    "    conteudo_lido = f.read()\n",
    "print(\"\\nConteúdo do arquivo salvo:\")\n",
    "print(conteudo_lido)"
   ]
  },
  {
   "cell_type": "markdown",
   "id": "7ae3a0a0",
   "metadata": {},
   "source": [
    "### 4. `json.load()` (Load From File)\n",
    "\n",
    "  - **O que faz:** Desserializa um documento JSON lido de um **arquivo (file-like object)** em um objeto Python.\n",
    "\n",
    "  - **Sintaxe:** `json.load(fp, *, encoding=None, cls=None, object_hook=None, parse_float=None, parse_int=None, parse_constant=None, object_pairs_hook=None, **kw)`\n",
    "\n",
    "  - **Parâmetros Comuns:**\n",
    "\n",
    "      - `fp`: O objeto arquivo (`file pointer`) do qual o JSON será lido.\n",
    "      - Os outros parâmetros são os mesmos de `json.loads()`."
   ]
  },
  {
   "cell_type": "code",
   "execution_count": 5,
   "id": "60a9319f",
   "metadata": {},
   "outputs": [
    {
     "name": "stdout",
     "output_type": "stream",
     "text": [
      "\n",
      "--- json.load() ---\n",
      "\n",
      "Dados carregados de 'dados_empresa.json':\n",
      "{'empresa': 'Minha Startup Local', 'fundacao_ano': 2023, 'localizacao': 'Contagem - MG', 'servicos': ['Desenvolvimento Web', 'Consultoria de Dados'], 'funcionarios_ativos': 15}\n",
      "Tipo dos dados carregados: <class 'dict'>\n",
      "Nome da empresa: Minha Startup Local\n"
     ]
    }
   ],
   "source": [
    "# Certifique-se de que 'dados_empresa.json' foi criado pelo exemplo anterior\n",
    "arquivo_json_para_ler = \"dados_empresa.json\"\n",
    "\n",
    "print(f\"\\n--- json.load() ---\")\n",
    "\n",
    "# Carregando dados de um arquivo JSON\n",
    "try:\n",
    "    with open(arquivo_json_para_ler, 'r', encoding='utf-8') as f:\n",
    "        dados_carregados = json.load(f)\n",
    "    print(f\"\\nDados carregados de '{arquivo_json_para_ler}':\")\n",
    "    print(dados_carregados)\n",
    "    print(f\"Tipo dos dados carregados: {type(dados_carregados)}\")\n",
    "    print(f\"Nome da empresa: {dados_carregados['empresa']}\")\n",
    "except FileNotFoundError:\n",
    "    print(f\"Erro: O arquivo '{arquivo_json_para_ler}' não foi encontrado. Execute o exemplo de json.dump() primeiro.\")"
   ]
  },
  {
   "cell_type": "markdown",
   "id": "fe3cc64f",
   "metadata": {},
   "source": [
    "## Propriedades e Exceções\n",
    "\n",
    "A biblioteca `json` não tem propriedades diretas como um objeto, mas sim funcionalidades através de seus métodos e classes."
   ]
  },
  {
   "cell_type": "markdown",
   "id": "1d31fe80",
   "metadata": {},
   "source": [
    "- **`json.JSONDecodeError`**: Subclasse de `ValueError`. É levantada quando a string JSON fornecida para `json.loads()` ou o arquivo para `json.load()` não é um JSON válido.\n"
   ]
  },
  {
   "cell_type": "code",
   "execution_count": 6,
   "id": "034b001d",
   "metadata": {},
   "outputs": [
    {
     "name": "stdout",
     "output_type": "stream",
     "text": [
      "\n",
      "Erro de Decodificação JSON: Expecting property name enclosed in double quotes: line 1 column 2 (char 1)\n"
     ]
    }
   ],
   "source": [
    "try:\n",
    "\tjson.loads(\"{'chave': 'valor'}\") # Aspas simples são inválidas em JSON\n",
    "except json.JSONDecodeError as e:\n",
    "\tprint(f\"\\nErro de Decodificação JSON: {e}\")"
   ]
  },
  {
   "cell_type": "markdown",
   "id": "7ff8116a",
   "metadata": {},
   "source": [
    "- **`TypeError`**: Pode ser levantado por `json.dumps()` ou `json.dump()` se você tentar serializar um objeto Python que não tem um mapeamento JSON direto e nenhum `default` foi fornecido ou a função `default` falhou.\n"
   ]
  },
  {
   "cell_type": "code",
   "execution_count": 7,
   "id": "33fff71b",
   "metadata": {},
   "outputs": [
    {
     "name": "stdout",
     "output_type": "stream",
     "text": [
      "\n",
      "Erro de Tipo ao Serializar: Object of type date is not JSON serializable\n"
     ]
    }
   ],
   "source": [
    "try:\n",
    "\tjson.dumps(datetime.date.today()) # datetime não é serializável por padrão\n",
    "except TypeError as e:\n",
    "\tprint(f\"\\nErro de Tipo ao Serializar: {e}\")"
   ]
  },
  {
   "cell_type": "markdown",
   "id": "ec828f3a",
   "metadata": {},
   "source": [
    "\n",
    "## Outros Recursos Úteis\n",
    "\n",
    "  - **`json.JSONEncoder` e `json.JSONDecoder`**: São as classes subjacentes que `dumps()/dump()` e `loads()/load()` usam. Você pode estendê-las para lidar com serialização/desserialização de tipos de dados complexos de forma mais sofisticada.\n",
    "  - **`json.dumps` com `cls`**: Você pode passar uma subclasse personalizada de `json.JSONEncoder` para o parâmetro `cls` em `dumps()` ou `dump()` para um controle mais granular sobre como os objetos Python são serializados.\n",
    "\n",
    "A biblioteca `json` é uma ferramenta fundamental no kit de ferramentas de qualquer desenvolvedor Python. Dominar seus métodos e entender o mapeamento de tipos é crucial para interagir com o vasto mundo das APIs e serviços web."
   ]
  }
 ],
 "metadata": {
  "kernelspec": {
   "display_name": "Python 3",
   "language": "python",
   "name": "python3"
  },
  "language_info": {
   "codemirror_mode": {
    "name": "ipython",
    "version": 3
   },
   "file_extension": ".py",
   "mimetype": "text/x-python",
   "name": "python",
   "nbconvert_exporter": "python",
   "pygments_lexer": "ipython3",
   "version": "3.10.11"
  }
 },
 "nbformat": 4,
 "nbformat_minor": 5
}
