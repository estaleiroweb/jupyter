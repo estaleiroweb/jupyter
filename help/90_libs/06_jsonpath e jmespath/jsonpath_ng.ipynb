{
 "cells": [
  {
   "cell_type": "markdown",
   "id": "cf796363",
   "metadata": {},
   "source": [
    "# jsonpath_ng lib\n",
    "\n",
    "A biblioteca **`jsonpath_ng`** em Python é uma implementação robusta e poderosa da linguagem **JSONPath**. Como vimos antes, JSONPath é uma linguagem de consulta para JSON, similar ao XPath para XML, permitindo que você selecione e extraia partes específicas de um documento JSON de forma declarativa.\n",
    "\n",
    "`jsonpath_ng` se destaca por ser uma implementação flexível e rica em recursos, que se esforça para ser compatível com a especificação JSONPath, mas com algumas nuances e extensões que a tornam muito útil em ambientes Python."
   ]
  },
  {
   "cell_type": "markdown",
   "id": "9dd46557",
   "metadata": {},
   "source": [
    "## Como `jsonpath_ng` Funciona?\n",
    "\n",
    "O processo geral de uso de `jsonpath_ng` envolve duas etapas principais:\n",
    "\n",
    "1.  **Parsing da Expressão JSONPath:** Primeiro, você \"compila\" sua string de expressão JSONPath em um objeto de expressão `jsonpath_ng`. Isso permite que a biblioteca entenda a estrutura da sua consulta.\n",
    "2.  **Busca no Documento JSON:** Em seguida, você usa o objeto de expressão compilada para buscar (ou \"encontrar\") os valores correspondentes dentro de um documento JSON (geralmente um dicionário ou lista Python).\n",
    "\n",
    "A biblioteca retorna os resultados como uma lista de objetos `Match`, onde cada `Match` contém o valor encontrado e informações sobre seu caminho no documento original.\n"
   ]
  },
  {
   "cell_type": "code",
   "execution_count": 1,
   "id": "390a5bb1",
   "metadata": {},
   "outputs": [
    {
     "name": "stdout",
     "output_type": "stream",
     "text": [
      "Requirement already satisfied: jsonpath-ng in c:\\users\\helbe\\appdata\\local\\programs\\python\\python310\\lib\\site-packages (1.7.0)\n",
      "Requirement already satisfied: ply in c:\\users\\helbe\\appdata\\local\\programs\\python\\python310\\lib\\site-packages (from jsonpath-ng) (3.11)\n",
      "Note: you may need to restart the kernel to use updated packages.\n"
     ]
    }
   ],
   "source": [
    "%pip install jsonpath-ng"
   ]
  },
  {
   "cell_type": "markdown",
   "id": "e4d1f257",
   "metadata": {},
   "source": [
    "## Classes e Métodos Principais\n",
    "\n",
    "Vamos mergulhar nas principais classes, métodos e propriedades com exemplos práticos.\n",
    "\n",
    "Primeiro, preparemos o documento JSON de exemplo que usamos anteriormente:\n"
   ]
  },
  {
   "cell_type": "code",
   "execution_count": 2,
   "id": "20833066",
   "metadata": {},
   "outputs": [],
   "source": [
    "import json\n",
    "import time\n",
    "from jsonpath_ng import jsonpath, parse\n",
    "from jsonpath_ng.ext import parse as ext_parse\n",
    "from jsonpath_ng.jsonpath import Index, Fields, Child, Where, Union  # Descendant\n",
    "from jsonpath_ng.lexer import JsonPathLexer\n",
    "from data import json_data  # data.py"
   ]
  },
  {
   "cell_type": "code",
   "execution_count": 3,
   "id": "69d28717",
   "metadata": {},
   "outputs": [],
   "source": [
    "def run_jsonpath_query(query: str):\n",
    "    \"\"\"\n",
    "    Executes a JSONPath query using jsonpath-ng and prints the results.\n",
    "    \"\"\"\n",
    "    print(f\"\\n--- JSONPath Query: '{query}' ---\")\n",
    "    try:\n",
    "        jsonpath_expr = parse(query)\n",
    "        matches = jsonpath_expr.find(json_data)\n",
    "        if matches:\n",
    "            print(f\"  Resultados ({len(matches)}):\")\n",
    "            for i, match in enumerate(matches):\n",
    "                # O objeto 'match' tem propriedades 'value' e 'path'\n",
    "                print(\n",
    "                    f\"    Match {i+1}: Valor = {match.value}, Caminho = {match.path}\")\n",
    "        else:\n",
    "            print(\"  Nenhum resultado encontrado.\")\n",
    "    except Exception as e:\n",
    "        print(f\"  Erro ao executar query: {e}\")\n",
    "\n",
    "\n",
    "def separador(titulo):\n",
    "    \"\"\"Função auxiliar para separar seções\"\"\"\n",
    "    print(f\"\\n{'='*80}\")\n",
    "    print(f\" {titulo}\")\n",
    "    print(f\"{'='*80}\")\n",
    "\n",
    "\n",
    "def exemplo(descricao, codigo, resultado):\n",
    "    \"\"\"Função auxiliar para mostrar exemplos\"\"\"\n",
    "    print(f\"\\n📌 {descricao}\")\n",
    "    print(f\"Código: {codigo}\")\n",
    "    print(f\"Resultado: {resultado}\")\n",
    "    \n",
    "def tr_dict(obj):\n",
    "    out=''\n",
    "    for i in obj:\n",
    "        out+=f'\\n  - {i}: {obj[i]}'\n",
    "    return out\n",
    "    "
   ]
  },
  {
   "cell_type": "markdown",
   "id": "1520f9b2",
   "metadata": {},
   "source": [
    "### 1. Funções de Parsing e Busca\n",
    "\n",
    "  - **`jsonpath_ng.parse(jsonpath_string)`**:\n",
    "\n",
    "      - **O que faz:** Recebe uma string que representa uma expressão JSONPath e a compila em um objeto de expressão. Este é o ponto de partida para qualquer consulta.\n",
    "      - **Retorna:** Uma instância de `jsonpath_ng.JsonPath` (ou uma de suas subclasses, como `Child`, `Slice`, `Filter`, etc.).\n",
    "\n",
    "  - **`jsonpath_expr.find(data)`**:\n",
    "\n",
    "      - **O que faz:** É um método do objeto de expressão JSONPath compilado. Ele executa a consulta JSONPath no `data` (seu documento JSON, que deve ser um dicionário ou lista Python) e retorna todos os `Match`es encontrados.\n",
    "      - **`data`**: O objeto Python (geralmente um `dict` ou `list`) no qual a pesquisa será realizada.\n",
    "      - **Retorna:** Uma lista de objetos `jsonpath_ng.jsonpath.Match`.\n"
   ]
  },
  {
   "cell_type": "code",
   "execution_count": 4,
   "id": "df597f2c",
   "metadata": {},
   "outputs": [
    {
     "name": "stdout",
     "output_type": "stream",
     "text": [
      "\n",
      "--- JSONPath Query: '$.livraria.titulo' ---\n",
      "  Resultados (1):\n",
      "    Match 1: Valor = Catálogo de Livros Técnicos, Caminho = titulo\n",
      "\n",
      "--- JSONPath Query: '$.livraria.livros[*].titulo' ---\n",
      "  Resultados (4):\n",
      "    Match 1: Valor = Aprendendo JSONPath, Caminho = titulo\n",
      "    Match 2: Valor = Dominando JMESPath, Caminho = titulo\n",
      "    Match 3: Valor = Introdução ao Web Scraping, Caminho = titulo\n",
      "    Match 4: Valor = Python para Iniciantes, Caminho = titulo\n",
      "\n",
      "--- JSONPath Query: '$.livraria.livros[1].autores[0]' ---\n",
      "  Resultados (1):\n",
      "    Match 1: Valor = Charlie, Caminho = [0]\n"
     ]
    }
   ],
   "source": [
    "# Exemplo 1: Selecionando um valor simples\n",
    "run_jsonpath_query('$.livraria.titulo')\n",
    "\n",
    "# Exemplo 2: Selecionando todos os títulos de livros\n",
    "run_jsonpath_query('$.livraria.livros[*].titulo')\n",
    "\n",
    "# Exemplo 3: Selecionando o primeiro autor do segundo livro\n",
    "run_jsonpath_query('$.livraria.livros[1].autores[0]')"
   ]
  },
  {
   "cell_type": "markdown",
   "id": "232a76b5",
   "metadata": {},
   "source": [
    "### 2. O Objeto `Match`\n",
    "\n",
    "Quando `find()` retorna resultados, eles vêm na forma de uma lista de objetos `Match`. Um objeto `Match` tem duas propriedades principais:\n",
    "\n",
    "  - **`match.value`**: O valor real encontrado no documento JSON.\n",
    "  - **`match.path`**: O objeto de caminho (uma instância de `jsonpath_ng.jsonpath.JsonPath`) que levou a este valor. Pode ser útil para entender de onde o valor veio. Para obter o caminho como string, você pode usar `str(match.path)`.\n",
    "\n",
    "**Exemplos:** (Os exemplos acima já demonstram o uso de `match.value` e `match.path`)\n"
   ]
  },
  {
   "cell_type": "markdown",
   "id": "17422b33",
   "metadata": {},
   "source": [
    "### 3. Sintaxe e Recursos JSONPath Comuns em `jsonpath_ng`\n",
    "\n",
    "`jsonpath_ng` suporta a maioria dos elementos da sintaxe JSONPath.\n",
    "\n",
    "  - **`$`**: O elemento raiz do objeto JSON.\n",
    "  - **`.`**: Operador de ponto, usado para acessar membros de objeto. Ex: `$.livraria.titulo`\n",
    "  - **`[]`**: Operador de subscrição para arrays ou para chaves de objeto com caracteres especiais.\n",
    "      - **`[index]`**: Acessa um elemento de array pelo índice. Ex: `$.livraria.livros[0]`\n",
    "      - **`[start:end:step]`**: Fatiamento de array (slicing). Ex: `$.livraria.livros[0:2]`\n",
    "      - **`['key-with-hyphen']`**: Acessa uma chave de objeto com caracteres especiais. Ex: `$.configuracoes['chave-com-traco']`\n",
    "      - **`[index1, index2]`**: Seleção de múltiplos índices de array. Ex: `$.livraria.livros[0,2].titulo`\n",
    "  - **`*`**: Wildcard para todos os membros de objeto ou todos os elementos de array. Ex: `$.livraria.livros[*].titulo`\n",
    "  - **`..`**: Operador de descendência recursiva. Busca o nome em qualquer nível abaixo do atual. (Cuidado com o desempenho em documentos grandes). Ex: `$.livraria..titulo` (encontraria todos os campos `titulo` em qualquer profundidade).\n",
    "  - **`?()`**: Expressão de filtro. Permite filtrar elementos de um array ou membros de objeto baseados em uma condição.\n",
    "      - **`@`**: Representa o elemento atual no filtro.\n",
    "      - **Operadores de comparação:** `==`, `!=`, `<`, `<=`, `>`, `>=`.\n",
    "      - **Operadores lógicos:** `&&` (AND), `||` (OR).\n",
    "      - **Expressões regulares:** Alguns parsers suportam `~= /regex/`. `jsonpath-ng` usa `@.field =~ \"regex\"`.\n"
   ]
  },
  {
   "cell_type": "code",
   "execution_count": 5,
   "id": "56c6b03c",
   "metadata": {},
   "outputs": [
    {
     "name": "stdout",
     "output_type": "stream",
     "text": [
      "\n",
      "--- JSONPath Query: '$.configuracoes[\"chave-com-traco\"]' ---\n",
      "  Nenhum resultado encontrado.\n",
      "\n",
      "--- JSONPath Query: '$.livraria.livros[0:2].titulo' ---\n",
      "  Resultados (2):\n",
      "    Match 1: Valor = Aprendendo JSONPath, Caminho = titulo\n",
      "    Match 2: Valor = Dominando JMESPath, Caminho = titulo\n",
      "\n",
      "--- JSONPath Query: '$.livraria.livros[0,2].titulo' ---\n",
      "  Erro ao executar query: Parse error at 1:19 near token , (,)\n",
      "\n",
      "--- JSONPath Query: '$.livraria..titulo' ---\n",
      "  Resultados (5):\n",
      "    Match 1: Valor = Catálogo de Livros Técnicos, Caminho = titulo\n",
      "    Match 2: Valor = Aprendendo JSONPath, Caminho = titulo\n",
      "    Match 3: Valor = Dominando JMESPath, Caminho = titulo\n",
      "    Match 4: Valor = Introdução ao Web Scraping, Caminho = titulo\n",
      "    Match 5: Valor = Python para Iniciantes, Caminho = titulo\n",
      "\n",
      "--- JSONPath Query: '$.livraria.livros[?(@.disponivel == true)].titulo' ---\n",
      "  Erro ao executar query: Error on line 1, col 18: Unexpected character: ? \n",
      "\n",
      "--- JSONPath Query: '$.livraria.livros[?(@.preco > 25 && @.editora.nome == \"Editora Inovação\")].titulo' ---\n",
      "  Erro ao executar query: Error on line 1, col 18: Unexpected character: ? \n",
      "\n",
      "--- JSONPath Query: '$.usuarios[?(@.isAdmin == true)].ultimosAcessos' ---\n",
      "  Erro ao executar query: Error on line 1, col 11: Unexpected character: ? \n",
      "\n",
      "--- JSONPath Query: '$.livraria.livros[?(\"Programação\" in @.tags)].titulo' ---\n",
      "  Erro ao executar query: Error on line 1, col 18: Unexpected character: ? \n",
      "\n",
      "--- JSONPath Query: '$.livraria.livros[?(@.editora.nome =~ \"Inovação\")].titulo' ---\n",
      "  Erro ao executar query: Error on line 1, col 18: Unexpected character: ? \n"
     ]
    }
   ],
   "source": [
    "# Selecionando chaves com caracteres especiais\n",
    "run_jsonpath_query('$.configuracoes[\"chave-com-traco\"]')\n",
    "\n",
    "# Fatiamento de array (slicing): os dois primeiros livros\n",
    "run_jsonpath_query('$.livraria.livros[0:2].titulo')\n",
    "\n",
    "# Seleção de múltiplos índices: primeiro e terceiro livro\n",
    "run_jsonpath_query('$.livraria.livros[0,2].titulo')\n",
    "\n",
    "# Descendência recursiva: todos os títulos em qualquer nível\n",
    "# Este pode ser pesado para documentos muito grandes!\n",
    "run_jsonpath_query('$.livraria..titulo')\n",
    "\n",
    "# Filtro de livros disponíveis (conforme a correção anterior)\n",
    "run_jsonpath_query('$.livraria.livros[?(@.disponivel == true)].titulo')\n",
    "\n",
    "# Filtro complexo: livros com preço > 25 E da Editora Inovação\n",
    "run_jsonpath_query(\n",
    "    '$.livraria.livros[?(@.preco > 25 && @.editora.nome == \"Editora Inovação\")].titulo')\n",
    "\n",
    "# Filtrando usuários administradores e pegando seus últimos acessos\n",
    "run_jsonpath_query('$.usuarios[?(@.isAdmin == true)].ultimosAcessos')\n",
    "\n",
    "# Filtrando livros que contenham 'Programação' na lista de tags\n",
    "# jsonpath-ng não tem uma função 'contains' nativa para arrays como JMESPath.\n",
    "# Para este caso, você precisaria de uma expressão mais complexa ou pós-processamento.\n",
    "# Exemplo aproximado que busca por um item específico, mas não é um 'contains' genérico:\n",
    "run_jsonpath_query('$.livraria.livros[?(\"Programação\" in @.tags)].titulo')\n",
    "# Nota: A sintaxe '\"Programação\" in @.tags' funciona para testar se um elemento está em uma lista.\n",
    "\n",
    "# Filtrando usando regex (se o nome da editora contiver \"Inovação\")\n",
    "# A sintaxe de regex em jsonpath-ng é `@.field =~ \"regex\"`.\n",
    "run_jsonpath_query('$.livraria.livros[?(@.editora.nome =~ \"Inovação\")].titulo')"
   ]
  },
  {
   "cell_type": "markdown",
   "id": "8668e1c5",
   "metadata": {},
   "source": [
    "### 4. Expressões Compostas (`|`)\n",
    "\n",
    "Você pode combinar múltiplas expressões JSONPath usando o operador de união (`|`). Isso retorna os resultados de todas as expressões combinadas.\n"
   ]
  },
  {
   "cell_type": "code",
   "execution_count": 6,
   "id": "9ec2f00e",
   "metadata": {},
   "outputs": [
    {
     "name": "stdout",
     "output_type": "stream",
     "text": [
      "\n",
      "--- JSONPath Query: '$.livraria.livros[*].titulo | $.usuarios[*].nome' ---\n",
      "  Resultados (8):\n",
      "    Match 1: Valor = Ana, Caminho = nome\n",
      "    Match 2: Valor = Bruno, Caminho = nome\n",
      "    Match 3: Valor = Ana, Caminho = nome\n",
      "    Match 4: Valor = Bruno, Caminho = nome\n",
      "    Match 5: Valor = Ana, Caminho = nome\n",
      "    Match 6: Valor = Bruno, Caminho = nome\n",
      "    Match 7: Valor = Ana, Caminho = nome\n",
      "    Match 8: Valor = Bruno, Caminho = nome\n"
     ]
    }
   ],
   "source": [
    "# Títulos de livros OU nomes de usuários\n",
    "run_jsonpath_query('$.livraria.livros[*].titulo | $.usuarios[*].nome')"
   ]
  },
  {
   "cell_type": "markdown",
   "id": "0ea861b9",
   "metadata": {},
   "source": [
    "### 5. `JsonPath` Objects (Propriedades da Expressão Compilada)\n",
    "\n",
    "Quando você compila uma expressão com `parse()`, o objeto retornado (uma instância de `JsonPath` ou suas subclasses) tem algumas propriedades e métodos:\n",
    "\n",
    "  - **`expr.find(data)`**: O método principal de busca, já discutido.\n",
    "  - **`expr.map(data_or_list_of_data)`**: Aplica a expressão a cada item de uma lista de dados.\n",
    "  - **`expr.update(data, value)`**: Atualiza o valor dos elementos encontrados.\n",
    "  - **`expr.values(data)`**: Retorna apenas os valores encontrados, sem os objetos `Match`.\n",
    "  - **`str(expr)`**: Retorna a string da expressão original.\n"
   ]
  },
  {
   "cell_type": "code",
   "execution_count": 7,
   "id": "d15feb18",
   "metadata": {},
   "outputs": [
    {
     "name": "stdout",
     "output_type": "stream",
     "text": [
      "--- expr.find(data) ---\n",
      "Valor do título da livraria: 'Catálogo de Livros Técnicos'\n"
     ]
    }
   ],
   "source": [
    "print(\"--- expr.find(data) ---\")\n",
    "\n",
    "# Parse the JSONPath expression\n",
    "titulo_path_expr = parse('$.livraria.titulo')\n",
    "\n",
    "# Execute the find method\n",
    "matches = titulo_path_expr.find(json_data)\n",
    "\n",
    "if matches:\n",
    "    # Access the value from the Match object\n",
    "    titulo_valor = matches[0].value\n",
    "    print(f\"Valor do título da livraria: '{titulo_valor}'\")\n",
    "else:\n",
    "    print(\"Nenhum título encontrado.\")"
   ]
  },
  {
   "cell_type": "code",
   "execution_count": 8,
   "id": "d636ec78",
   "metadata": {},
   "outputs": [
    {
     "name": "stdout",
     "output_type": "stream",
     "text": [
      "\n",
      "Títulos de todos os livros:\n",
      "- Aprendendo JSONPath\n",
      "- Dominando JMESPath\n",
      "- Introdução ao Web Scraping\n",
      "- Python para Iniciantes\n"
     ]
    }
   ],
   "source": [
    "# Example with multiple results\n",
    "livro_titulos_expr = parse('$.livraria.livros[*].titulo')\n",
    "livro_titulo_matches = livro_titulos_expr.find(json_data)\n",
    "\n",
    "print(\"\\nTítulos de todos os livros:\")\n",
    "for match in livro_titulo_matches:\n",
    "    print(f\"- {match.value}\")"
   ]
  },
  {
   "cell_type": "markdown",
   "id": "268c3dc1",
   "metadata": {},
   "source": [
    "# 1. CLASSE JSONPath - Métodos e Atributos Básicos"
   ]
  },
  {
   "cell_type": "code",
   "execution_count": 9,
   "id": "13bc58b7",
   "metadata": {},
   "outputs": [
    {
     "name": "stdout",
     "output_type": "stream",
     "text": [
      "\n",
      "📌 parse() - Criar parser JSONPath\n",
      "Código: parse('$.livraria.titulo').find(json_data)\n",
      "Resultado: ['Catálogo de Livros Técnicos']\n"
     ]
    }
   ],
   "source": [
    "# parse() - Criar parser JSONPath\n",
    "jsonpath_expr = parse('$.livraria.titulo')\n",
    "match = jsonpath_expr.find(json_data)\n",
    "exemplo(\n",
    "    \"parse() - Criar parser JSONPath\",\n",
    "    \"parse('$.livraria.titulo').find(json_data)\",\n",
    "    [m.value for m in match]\n",
    ")"
   ]
  },
  {
   "cell_type": "code",
   "execution_count": 10,
   "id": "513a361f",
   "metadata": {},
   "outputs": [
    {
     "name": "stdout",
     "output_type": "stream",
     "text": [
      "\n",
      "📌 find() - Encontrar todas as ocorrências\n",
      "Código: parse('$.livraria.livros[*].titulo').find(json_data)\n",
      "Resultado: ['Aprendendo JSONPath', 'Dominando JMESPath', 'Introdução ao Web Scraping', 'Python para Iniciantes']\n"
     ]
    }
   ],
   "source": [
    "# find() - Encontrar todas as ocorrências\n",
    "matches = parse('$.livraria.livros[*].titulo').find(json_data)\n",
    "exemplo(\n",
    "    \"find() - Encontrar todas as ocorrências\",\n",
    "    \"parse('$.livraria.livros[*].titulo').find(json_data)\",\n",
    "    [m.value for m in matches]\n",
    ")"
   ]
  },
  {
   "cell_type": "code",
   "execution_count": 11,
   "id": "13441d56",
   "metadata": {},
   "outputs": [
    {
     "name": "stdout",
     "output_type": "stream",
     "text": [
      "\n",
      "📌 update() - Atualizar valores\n",
      "Código: parse('$.livraria.autorPrincipal').update(data_copy, 'Prof. Novo')\n",
      "Resultado: Prof. Novo\n"
     ]
    }
   ],
   "source": [
    "# update() - Atualizar valores\n",
    "data_copy = json.loads(json.dumps(json_data))  # Deep copy\n",
    "parse('$.livraria.autorPrincipal').update(data_copy, 'Prof. Novo')\n",
    "exemplo(\n",
    "    \"update() - Atualizar valores\",\n",
    "    \"parse('$.livraria.autorPrincipal').update(data_copy, 'Prof. Novo')\",\n",
    "    data_copy['livraria']['autorPrincipal']\n",
    ")"
   ]
  },
  {
   "cell_type": "code",
   "execution_count": 12,
   "id": "12ae3cea",
   "metadata": {},
   "outputs": [
    {
     "name": "stdout",
     "output_type": "stream",
     "text": [
      "\n",
      "📌 filter() - Filtrar matches (preços > 25)\n",
      "Código: [m for m in parse('$.livraria.livros[*].preco').find(json_data) if m.value > 25]\n",
      "Resultado: [25.5, 30.0, 35.0]\n"
     ]
    }
   ],
   "source": [
    "# filter() - Filtrar matches\n",
    "all_precos = parse('$.livraria.livros[*].preco').find(json_data)\n",
    "filtered_precos = [m for m in all_precos if m.value > 25]\n",
    "exemplo(\n",
    "    \"filter() - Filtrar matches (preços > 25)\",\n",
    "    \"[m for m in parse('$.livraria.livros[*].preco').find(json_data) if m.value > 25]\",\n",
    "    [m.value for m in filtered_precos]\n",
    ")\n"
   ]
  },
  {
   "cell_type": "code",
   "execution_count": 13,
   "id": "b7990279",
   "metadata": {},
   "outputs": [
    {
     "name": "stdout",
     "output_type": "stream",
     "text": [
      "\n",
      "📌 find_first/safe_find_first - Encontrar primeira ocorrência\n",
      "Código: function\n",
      "Resultado: \n",
      "  - value: 25.5\n",
      "  - path: preco\n",
      "  - full_path: livraria.livros.[0].preco\n",
      "  - context: DatumInContext(value={'titulo': 'Aprendendo JSONPath', 'autores': ['Alice', 'Bob'], 'ano': 2020, 'preco': 25.5, 'disponivel': True, 'editora': {'nome': 'Editora Inovação', 'cidade': 'São Paulo'}}, path=Index(index=0), context=DatumInContext(value=[{'titulo': 'Aprendendo JSONPath', 'autores': ['Alice', 'Bob'], 'ano': 2020, 'preco': 25.5, 'disponivel': True, 'editora': {'nome': 'Editora Inovação', 'cidade': 'São Paulo'}}, {'titulo': 'Dominando JMESPath', 'autores': ['Charlie'], 'ano': 2021, 'preco': 30.0, 'disponivel': False, 'editora': {'nome': 'Editora Global', 'cidade': 'Rio de Janeiro'}}, {'titulo': 'Introdução ao Web Scraping', 'autores': ['David', 'Eve', 'Frank'], 'ano': 2019, 'preco': 20.0, 'disponivel': True, 'editora': {'nome': 'Editora Inovação', 'cidade': 'São Paulo'}}, {'titulo': 'Python para Iniciantes', 'autores': ['Grace'], 'ano': 2022, 'preco': 35.0, 'disponivel': True, 'tags': ['Programação', 'Iniciante']}], path=Fields('livros'), context=DatumInContext(value={'titulo': 'Catálogo de Livros Técnicos', 'autorPrincipal': 'Dr. Tech', 'livros': [{'titulo': 'Aprendendo JSONPath', 'autores': ['Alice', 'Bob'], 'ano': 2020, 'preco': 25.5, 'disponivel': True, 'editora': {'nome': 'Editora Inovação', 'cidade': 'São Paulo'}}, {'titulo': 'Dominando JMESPath', 'autores': ['Charlie'], 'ano': 2021, 'preco': 30.0, 'disponivel': False, 'editora': {'nome': 'Editora Global', 'cidade': 'Rio de Janeiro'}}, {'titulo': 'Introdução ao Web Scraping', 'autores': ['David', 'Eve', 'Frank'], 'ano': 2019, 'preco': 20.0, 'disponivel': True, 'editora': {'nome': 'Editora Inovação', 'cidade': 'São Paulo'}}, {'titulo': 'Python para Iniciantes', 'autores': ['Grace'], 'ano': 2022, 'preco': 35.0, 'disponivel': True, 'tags': ['Programação', 'Iniciante']}]}, path=Fields('livraria'), context=DatumInContext(value={'livraria': {'titulo': 'Catálogo de Livros Técnicos', 'autorPrincipal': 'Dr. Tech', 'livros': [{'titulo': 'Aprendendo JSONPath', 'autores': ['Alice', 'Bob'], 'ano': 2020, 'preco': 25.5, 'disponivel': True, 'editora': {'nome': 'Editora Inovação', 'cidade': 'São Paulo'}}, {'titulo': 'Dominando JMESPath', 'autores': ['Charlie'], 'ano': 2021, 'preco': 30.0, 'disponivel': False, 'editora': {'nome': 'Editora Global', 'cidade': 'Rio de Janeiro'}}, {'titulo': 'Introdução ao Web Scraping', 'autores': ['David', 'Eve', 'Frank'], 'ano': 2019, 'preco': 20.0, 'disponivel': True, 'editora': {'nome': 'Editora Inovação', 'cidade': 'São Paulo'}}, {'titulo': 'Python para Iniciantes', 'autores': ['Grace'], 'ano': 2022, 'preco': 35.0, 'disponivel': True, 'tags': ['Programação', 'Iniciante']}]}, 'usuarios': [{'id': 1, 'nome': 'Ana', 'isAdmin': True, 'ultimosAcessos': ['2025-06-19', '2025-06-20']}, {'id': 2, 'nome': 'Bruno', 'isAdmin': False, 'ultimosAcessos': ['2025-06-18']}], 'configuracoes': {'tema': 'escuro', 'notificacoes': True, 'chave~com/traco': 'valor'}}, path=Root(), context=None))))\n",
      "  - type.context: <class 'jsonpath_ng.jsonpath.DatumInContext'>\n"
     ]
    }
   ],
   "source": [
    "# find_first() - Encontrar primeira ocorrência\n",
    "# Em vez de find_first() (que não existe)\n",
    "def safe_find_first(expression, data):\n",
    "    matches = parse(expression).find(data)\n",
    "    return matches[0] if matches else None\n",
    "\n",
    "match = safe_find_first('$.livraria.livros[*].preco',json_data)\n",
    "exemplo(\n",
    "    \"find_first/safe_find_first - Encontrar primeira ocorrência\",\n",
    "    \"function\",\n",
    "    tr_dict({\n",
    "        'value': match.value,\n",
    "        'path': match.path,\n",
    "        'full_path': match.full_path,\n",
    "        'context': match.context,\n",
    "        'type.context': type(match.context),\n",
    "    }) if match else None\n",
    ")"
   ]
  },
  {
   "cell_type": "code",
   "execution_count": 14,
   "id": "c05eeea7",
   "metadata": {},
   "outputs": [
    {
     "name": "stdout",
     "output_type": "stream",
     "text": [
      "\n",
      "📌 update_first() - Atualizar primeira ocorrência\n",
      "Código: function\n",
      "Resultado: 99.99\n"
     ]
    }
   ],
   "source": [
    "# update_first() - Atualizar primeira ocorrência\n",
    "data_copy2 = json.loads(json.dumps(json_data))\n",
    "def safe_update_first(expression, data, new_value):\n",
    "    \"\"\"\n",
    "    Simula update_first() que não existe na jsonpath-ng padrão\n",
    "    Atualiza apenas o primeiro match encontrado\n",
    "    Retorna True se atualizou, False se não encontrou matches\n",
    "    \"\"\"\n",
    "    matches = parse(expression).find(data)\n",
    "    if matches:\n",
    "        # Pega o primeiro match\n",
    "        first_match = matches[0]\n",
    "        # Atualiza usando o caminho completo do primeiro match\n",
    "        first_match.full_path.update(data, new_value)\n",
    "        return True\n",
    "    return False\n",
    "\n",
    "safe_update_first('$.livraria.livros[*].preco',data_copy2, 99.99)\n",
    "exemplo(\n",
    "    \"update_first() - Atualizar primeira ocorrência\",\n",
    "    \"function\",\n",
    "    data_copy2['livraria']['livros'][0]['preco']\n",
    ")"
   ]
  },
  {
   "cell_type": "markdown",
   "id": "5aeced8b",
   "metadata": {},
   "source": [
    "# 3. OPERADORES E SINTAXES ESPECIAIS\n"
   ]
  },
  {
   "cell_type": "code",
   "execution_count": 15,
   "id": "be82a521",
   "metadata": {},
   "outputs": [
    {
     "name": "stdout",
     "output_type": "stream",
     "text": [
      "\n",
      "📌 Root ($) - Raiz do documento\n",
      "Código: parse('$').find(json_data)\n",
      "Resultado: Tipo: <class 'dict'>, Chaves: ['livraria', 'usuarios', 'configuracoes']\n"
     ]
    }
   ],
   "source": [
    "# 3.1 Root ($) - Raiz do documento\n",
    "root_matches = parse('$').find(json_data)\n",
    "exemplo(\n",
    "    \"Root ($) - Raiz do documento\",\n",
    "    \"parse('$').find(json_data)\",\n",
    "    f\"Tipo: {type(root_matches[0].value)}, Chaves: {list(root_matches[0].value.keys())}\"\n",
    ")\n"
   ]
  },
  {
   "cell_type": "code",
   "execution_count": 16,
   "id": "c2255c49",
   "metadata": {},
   "outputs": [
    {
     "name": "stdout",
     "output_type": "stream",
     "text": [
      "\n",
      "📌 Current (@) - Em filtros (extensão)\n",
      "Código: Usado em expressões como: $.livraria.livros[?(@.preco > 25)]\n",
      "Resultado: Expressão criada (precisa de ext_parse para funcionar)\n"
     ]
    }
   ],
   "source": [
    "# 3.2 Current (@) - Contexto atual (usado em filtros)\n",
    "# Nota: @ é usado em expressões de filtro\n",
    "current_example = ext_parse('$.livraria.livros[?(@.preco > 25)]')\n",
    "exemplo(\n",
    "    \"Current (@) - Em filtros (extensão)\",\n",
    "    \"Usado em expressões como: $.livraria.livros[?(@.preco > 25)]\",\n",
    "    \"Expressão criada (precisa de ext_parse para funcionar)\"\n",
    ")"
   ]
  },
  {
   "cell_type": "code",
   "execution_count": 17,
   "id": "656b03ef",
   "metadata": {},
   "outputs": [
    {
     "name": "stdout",
     "output_type": "stream",
     "text": [
      "\n",
      "📌 Wildcard (*) - Todos os elementos\n",
      "Código: parse('$.livraria.livros[*].titulo').find(json_data)\n",
      "Resultado: ['Aprendendo JSONPath', 'Dominando JMESPath', 'Introdução ao Web Scraping', 'Python para Iniciantes']\n"
     ]
    }
   ],
   "source": [
    "# 3.3 Wildcard (*) - Todos os elementos\n",
    "wildcard_matches = parse('$.livraria.livros[*].titulo').find(json_data)\n",
    "exemplo(\n",
    "    \"Wildcard (*) - Todos os elementos\",\n",
    "    \"parse('$.livraria.livros[*].titulo').find(json_data)\",\n",
    "    [m.value for m in wildcard_matches]\n",
    ")"
   ]
  },
  {
   "cell_type": "code",
   "execution_count": 18,
   "id": "de2dbf4f",
   "metadata": {},
   "outputs": [
    {
     "name": "stdout",
     "output_type": "stream",
     "text": [
      "\n",
      "📌 Recursive Descent (..) - Busca recursiva\n",
      "Código: parse('$..titulo').find(json_data)\n",
      "Resultado: ['Catálogo de Livros Técnicos', 'Aprendendo JSONPath', 'Dominando JMESPath', 'Introdução ao Web Scraping', 'Python para Iniciantes']\n"
     ]
    }
   ],
   "source": [
    "# 3.4 Recursive Descent (..) - Busca recursiva\n",
    "recursive_matches = parse('$..titulo').find(json_data)\n",
    "exemplo(\n",
    "    \"Recursive Descent (..) - Busca recursiva\",\n",
    "    \"parse('$..titulo').find(json_data)\",\n",
    "    [m.value for m in recursive_matches]\n",
    ")"
   ]
  },
  {
   "cell_type": "code",
   "execution_count": 19,
   "id": "570adc67",
   "metadata": {},
   "outputs": [
    {
     "name": "stdout",
     "output_type": "stream",
     "text": [
      "\n",
      "📌 Array Slice ([1:3]) - Fatias de array\n",
      "Código: parse('$.livraria.livros[1:3]').find(json_data)\n",
      "Resultado: ['Dominando JMESPath', 'Introdução ao Web Scraping']\n"
     ]
    }
   ],
   "source": [
    "# 3.5 Array Slice ([start:end]) - Fatias de array\n",
    "slice_matches = parse('$.livraria.livros[1:3]').find(json_data)\n",
    "exemplo(\n",
    "    \"Array Slice ([1:3]) - Fatias de array\",\n",
    "    \"parse('$.livraria.livros[1:3]').find(json_data)\",\n",
    "    [m.value['titulo'] for m in slice_matches]\n",
    ")"
   ]
  },
  {
   "cell_type": "code",
   "execution_count": 20,
   "id": "0785f22a",
   "metadata": {},
   "outputs": [
    {
     "name": "stdout",
     "output_type": "stream",
     "text": [
      "\n",
      "📌 Array Index ([2]) - Índice específico\n",
      "Código: parse('$.livraria.livros[2].titulo').find(json_data)\n",
      "Resultado: ['Introdução ao Web Scraping']\n"
     ]
    }
   ],
   "source": [
    "# 3.6 Array Index ([n]) - Índice específico\n",
    "index_match = parse('$.livraria.livros[2].titulo').find(json_data)\n",
    "exemplo(\n",
    "    \"Array Index ([2]) - Índice específico\",\n",
    "    \"parse('$.livraria.livros[2].titulo').find(json_data)\",\n",
    "    [m.value for m in index_match]\n",
    ")"
   ]
  },
  {
   "cell_type": "code",
   "execution_count": 21,
   "id": "2de59a0f",
   "metadata": {},
   "outputs": [
    {
     "name": "stdout",
     "output_type": "stream",
     "text": [
      "\n",
      "📌 Multiple Array Indices ([0,2]) - Múltiplos índices\n",
      "Código: parse('$.livraria.livros[0,2]').find(json_data)\n",
      "Resultado: ['Aprendendo JSONPath', 'Introdução ao Web Scraping']\n"
     ]
    }
   ],
   "source": [
    "# 3.7 Multiple Array Indices ([1,3]) - Múltiplos índices\n",
    "# multi_index = ext_parse('$.livraria.livros[0,2]').find(json_data)\n",
    "multi_index = parse('$.livraria.livros[0]').find(json_data)\n",
    "multi_index.extend(parse('$.livraria.livros[2]').find(json_data))\n",
    "exemplo(\n",
    "    \"Multiple Array Indices ([0,2]) - Múltiplos índices\",\n",
    "    \"parse('$.livraria.livros[0,2]').find(json_data)\",\n",
    "    [m.value['titulo'] for m in multi_index]\n",
    ")"
   ]
  },
  {
   "cell_type": "code",
   "execution_count": 22,
   "id": "8420c564",
   "metadata": {},
   "outputs": [
    {
     "name": "stdout",
     "output_type": "stream",
     "text": [
      "\n",
      "📌 Last Array Index ([-1]) - Último elemento\n",
      "Código: parse('$.livraria.livros[-1].titulo').find(json_data)\n",
      "Resultado: ['Python para Iniciantes']\n"
     ]
    }
   ],
   "source": [
    "# 3.8 Last Array Index ([-1]) - Último elemento\n",
    "last_match = parse('$.livraria.livros[-1].titulo').find(json_data)\n",
    "exemplo(\n",
    "    \"Last Array Index ([-1]) - Último elemento\",\n",
    "    \"parse('$.livraria.livros[-1].titulo').find(json_data)\",\n",
    "    [m.value for m in last_match]\n",
    ")"
   ]
  },
  {
   "cell_type": "markdown",
   "id": "67f1bab4",
   "metadata": {},
   "source": [
    "# 4. EXTENSÕES (jsonpath_ng.ext)\n"
   ]
  },
  {
   "cell_type": "code",
   "execution_count": 23,
   "id": "a981189d",
   "metadata": {},
   "outputs": [
    {
     "name": "stdout",
     "output_type": "stream",
     "text": [
      "\n",
      "📌 Filtros com expressões [?(@.preco > 25)]\n",
      "Código: ext_parse('$.livraria.livros[?(@.preco > 25)]').find(json_data)\n",
      "Resultado: ['Dominando JMESPath', 'Python para Iniciantes']\n"
     ]
    }
   ],
   "source": [
    "# 4.1 Filtros com expressões\n",
    "try:\n",
    "    filter_expr = ext_parse('$.livraria.livros[?(@.preco > 25)]')\n",
    "    filter_matches = filter_expr.find(json_data)\n",
    "    exemplo(\n",
    "        \"Filtros com expressões [?(@.preco > 25)]\",\n",
    "        \"ext_parse('$.livraria.livros[?(@.preco > 25)]').find(json_data)\",\n",
    "        [m.value['titulo'] for m in filter_matches]\n",
    "    )\n",
    "except:\n",
    "    exemplo(\n",
    "        \"Filtros com expressões\",\n",
    "        \"ext_parse('$.livraria.livros[?(@.preco > 25)]')\",\n",
    "        \"Requer jsonpath-ng-ext para funcionar completamente\"\n",
    "    )\n"
   ]
  },
  {
   "cell_type": "code",
   "execution_count": 24,
   "id": "a11c08d5",
   "metadata": {},
   "outputs": [
    {
     "name": "stdout",
     "output_type": "stream",
     "text": [
      "\n",
      "📌 Filtros booleanos [?(@.disponivel == true)]\n",
      "Código: ext_parse('$.livraria.livros[?(@.disponivel == true)]').find(json_data)\n",
      "Resultado: ['Aprendendo JSONPath', 'Introdução ao Web Scraping', 'Python para Iniciantes']\n"
     ]
    }
   ],
   "source": [
    "# 4.2 Filtros com operadores de comparação\n",
    "try:\n",
    "    bool_filter = ext_parse('$.livraria.livros[?(@.disponivel == true)]')\n",
    "    bool_matches = bool_filter.find(json_data)\n",
    "    exemplo(\n",
    "        \"Filtros booleanos [?(@.disponivel == true)]\",\n",
    "        \"ext_parse('$.livraria.livros[?(@.disponivel == true)]').find(json_data)\",\n",
    "        [m.value['titulo'] for m in bool_matches]\n",
    "    )\n",
    "except:\n",
    "    exemplo(\n",
    "        \"Filtros booleanos\",\n",
    "        \"ext_parse('$.livraria.livros[?(@.disponivel == true)]')\",\n",
    "        \"Funcionalidade de extensão\"\n",
    "    )\n"
   ]
  },
  {
   "cell_type": "code",
   "execution_count": 25,
   "id": "5fc07fac",
   "metadata": {},
   "outputs": [
    {
     "name": "stdout",
     "output_type": "stream",
     "text": [
      "\n",
      "📌 Operadores lógicos [?(@.preco > 20 & @.disponivel == true)]\n",
      "Código: ext_parse('$.livraria.livros[?(@.preco > 20 & @.disponivel == true)]')\n",
      "Resultado: ['Aprendendo JSONPath', 'Python para Iniciantes']\n"
     ]
    }
   ],
   "source": [
    "# 4.3 Operadores lógicos (and, or)\n",
    "try:\n",
    "    logic_filter = ext_parse(\n",
    "        '$.livraria.livros[?(@.preco > 20 & @.disponivel == true)]')\n",
    "    logic_matches = logic_filter.find(json_data)\n",
    "    exemplo(\n",
    "        \"Operadores lógicos [?(@.preco > 20 & @.disponivel == true)]\",\n",
    "        \"ext_parse('$.livraria.livros[?(@.preco > 20 & @.disponivel == true)]')\",\n",
    "        [m.value['titulo']\n",
    "            for m in logic_matches] if logic_matches else \"Sem matches\"\n",
    "    )\n",
    "except:\n",
    "    exemplo(\n",
    "        \"Operadores lógicos\",\n",
    "        \"Exemplo: $.livraria.livros[?(@.preco > 20 & @.disponivel == true)]\",\n",
    "        \"Funcionalidade de extensão\"\n",
    "    )\n"
   ]
  },
  {
   "cell_type": "markdown",
   "id": "74497a3e",
   "metadata": {},
   "source": [
    "# 5. CLASSES INTERNAS E SUBCLASSES\n"
   ]
  },
  {
   "cell_type": "code",
   "execution_count": 26,
   "id": "a601e06c",
   "metadata": {},
   "outputs": [
    {
     "name": "stdout",
     "output_type": "stream",
     "text": [
      "\n",
      "📌 Fields('titulo') - Classe para campos\n",
      "Código: Fields('titulo')\n",
      "Resultado: Tipo: <class 'jsonpath_ng.jsonpath.Fields'>\n"
     ]
    }
   ],
   "source": [
    "# 5.1 Fields - Acesso a campos\n",
    "fields_expr = Fields('titulo')\n",
    "exemplo(\n",
    "    \"Fields('titulo') - Classe para campos\",\n",
    "    \"Fields('titulo')\",\n",
    "    f\"Tipo: {type(fields_expr)}\"\n",
    ")\n"
   ]
  },
  {
   "cell_type": "code",
   "execution_count": 27,
   "id": "f4ce2985",
   "metadata": {},
   "outputs": [
    {
     "name": "stdout",
     "output_type": "stream",
     "text": [
      "\n",
      "📌 Index(0) - Classe para índices\n",
      "Código: Index(0)\n",
      "Resultado: Tipo: <class 'jsonpath_ng.jsonpath.Index'>\n"
     ]
    }
   ],
   "source": [
    "# 5.2 Index - Acesso por índice\n",
    "index_expr = Index(0)\n",
    "exemplo(\n",
    "    \"Index(0) - Classe para índices\",\n",
    "    \"Index(0)\",\n",
    "    f\"Tipo: {type(index_expr)}\"\n",
    ")\n"
   ]
  },
  {
   "cell_type": "code",
   "execution_count": 28,
   "id": "26dc6c8d",
   "metadata": {},
   "outputs": [
    {
     "name": "stdout",
     "output_type": "stream",
     "text": [
      "\n",
      "📌 Child(Fields('livraria'), Fields('titulo')) - Relacionamento pai-filho\n",
      "Código: Child(Fields('livraria'), Fields('titulo')).find(json_data)\n",
      "Resultado: ['Catálogo de Livros Técnicos']\n"
     ]
    }
   ],
   "source": [
    "# 5.3 Child - Relacionamento pai-filho\n",
    "try:\n",
    "    child_expr = Child(Fields('livraria'), Fields('titulo'))\n",
    "    child_result = child_expr.find(json_data)\n",
    "    exemplo(\n",
    "        \"Child(Fields('livraria'), Fields('titulo')) - Relacionamento pai-filho\",\n",
    "        \"Child(Fields('livraria'), Fields('titulo')).find(json_data)\",\n",
    "        [m.value for m in child_result]\n",
    "    )\n",
    "except Exception as e:\n",
    "    exemplo(\n",
    "        \"Child - Relacionamento pai-filho\",\n",
    "        \"Child(Fields('livraria'), Fields('titulo'))\",\n",
    "        f\"Erro: {str(e)}\"\n",
    "    )\n"
   ]
  },
  {
   "cell_type": "code",
   "execution_count": 29,
   "id": "4debc386",
   "metadata": {},
   "outputs": [
    {
     "name": "stdout",
     "output_type": "stream",
     "text": [
      "\n",
      "📌 Descendant - Busca descendente\n",
      "Código: Descendant(Fields('livraria'), Fields('titulo'))\n",
      "Resultado: Classe interna para busca descendente\n"
     ]
    }
   ],
   "source": [
    "# 5.4 Descendant - Busca descendente\n",
    "try:\n",
    "    desc_expr = Descendant(Fields('livraria'), Fields('titulo'))\n",
    "    desc_result = desc_expr.find(json_data)\n",
    "    exemplo(\n",
    "        \"Descendant - Busca descendente\",\n",
    "        \"Descendant(Fields('livraria'), Fields('titulo')).find(json_data)\",\n",
    "        [m.value for m in desc_result]\n",
    "    )\n",
    "except Exception as e:\n",
    "    exemplo(\n",
    "        \"Descendant - Busca descendente\",\n",
    "        \"Descendant(Fields('livraria'), Fields('titulo'))\",\n",
    "        f\"Classe interna para busca descendente\"\n",
    "    )\n"
   ]
  },
  {
   "cell_type": "markdown",
   "id": "5c939915",
   "metadata": {},
   "source": [
    "# 6. CASOS ESPECIAIS E CARACTERES ESPECIAIS\n"
   ]
  },
  {
   "cell_type": "code",
   "execution_count": 30,
   "id": "9c0af44a",
   "metadata": {},
   "outputs": [
    {
     "name": "stdout",
     "output_type": "stream",
     "text": [
      "\n",
      "📌 Chaves com caracteres especiais\n",
      "Código: parse(\"$.configuracoes['chave~com/traco']\").find(json_data)\n",
      "Resultado: ['valor']\n"
     ]
    }
   ],
   "source": [
    "# 6.1 Chaves com caracteres especiais\n",
    "special_key = parse(\"$.configuracoes['chave~com/traco']\").find(json_data)\n",
    "exemplo(\n",
    "    \"Chaves com caracteres especiais\",\n",
    "    \"parse(\\\"$.configuracoes['chave~com/traco']\\\").find(json_data)\",\n",
    "    [m.value for m in special_key]\n",
    ")\n"
   ]
  },
  {
   "cell_type": "code",
   "execution_count": 31,
   "id": "67413da9",
   "metadata": {},
   "outputs": [
    {
     "name": "stdout",
     "output_type": "stream",
     "text": [
      "\n",
      "📌 Chaves normais (sem escape necessário)\n",
      "Código: parse('$.configuracoes.tema').find(json_data)\n",
      "Resultado: ['escuro']\n"
     ]
    }
   ],
   "source": [
    "# 6.2 Escape de caracteres\n",
    "try:\n",
    "    # Para chaves que podem ter pontos ou outros caracteres especiais\n",
    "    escaped_example = parse('$.configuracoes.tema').find(json_data)\n",
    "    exemplo(\n",
    "        \"Chaves normais (sem escape necessário)\",\n",
    "        \"parse('$.configuracoes.tema').find(json_data)\",\n",
    "        [m.value for m in escaped_example]\n",
    "    )\n",
    "except Exception as e:\n",
    "    exemplo(\n",
    "        \"Escape de caracteres\",\n",
    "        \"parse('$.configuracoes.tema')\",\n",
    "        f\"Erro: {str(e)}\"\n",
    "    )\n"
   ]
  },
  {
   "cell_type": "markdown",
   "id": "d0d931f1",
   "metadata": {},
   "source": [
    "# 7. MÉTODOS UTILITÁRIOS E ANÁLISE\n"
   ]
  },
  {
   "cell_type": "code",
   "execution_count": 32,
   "id": "b4d8f576",
   "metadata": {},
   "outputs": [
    {
     "name": "stdout",
     "output_type": "stream",
     "text": [
      "\n",
      "📌 str(expression) - Representação string\n",
      "Código: str(parse('$.livraria.livros[*].titulo'))\n",
      "Resultado: $.livraria.livros.[*].titulo\n"
     ]
    }
   ],
   "source": [
    "# 7.1 str() - Representação string\n",
    "expr = parse('$.livraria.livros[*].titulo')\n",
    "exemplo(\n",
    "    \"str(expression) - Representação string\",\n",
    "    \"str(parse('$.livraria.livros[*].titulo'))\",\n",
    "    str(expr)\n",
    ")\n"
   ]
  },
  {
   "cell_type": "code",
   "execution_count": 33,
   "id": "e43e38f5",
   "metadata": {},
   "outputs": [
    {
     "name": "stdout",
     "output_type": "stream",
     "text": [
      "\n",
      "📌 repr(expression) - Representação técnica\n",
      "Código: repr(parse('$.livraria.livros[*].titulo'))\n",
      "Resultado: Child(Child(Child(Child(Root(), Fields('livraria')), Fields('livros')), Slice(start=None,end=None,step=None)), Fields('titulo'))\n"
     ]
    }
   ],
   "source": [
    "# 7.2 repr() - Representação técnica\n",
    "exemplo(\n",
    "    \"repr(expression) - Representação técnica\",\n",
    "    \"repr(parse('$.livraria.livros[*].titulo'))\",\n",
    "    repr(expr)\n",
    ")"
   ]
  },
  {
   "cell_type": "code",
   "execution_count": 34,
   "id": "87df5505",
   "metadata": {},
   "outputs": [
    {
     "name": "stdout",
     "output_type": "stream",
     "text": [
      "\n",
      "📌 Análise de caminho complexo ($..editora.nome)\n",
      "Código: parse('$..editora.nome').find(json_data)\n",
      "Resultado: ['Editora Inovação', 'Editora Global', 'Editora Inovação']\n"
     ]
    }
   ],
   "source": [
    "# 7.3 Análise de caminho complexo\n",
    "complex_path = parse('$..editora.nome')\n",
    "complex_matches = complex_path.find(json_data)\n",
    "exemplo(\n",
    "    \"Análise de caminho complexo ($..editora.nome)\",\n",
    "    \"parse('$..editora.nome').find(json_data)\",\n",
    "    [m.value for m in complex_matches]\n",
    ")"
   ]
  },
  {
   "cell_type": "markdown",
   "id": "012c7cd7",
   "metadata": {},
   "source": [
    "# 8. COMBINAÇÕES E PADRÕES AVANÇADOS\n"
   ]
  },
  {
   "cell_type": "code",
   "execution_count": 35,
   "id": "1fad09a2",
   "metadata": {},
   "outputs": [
    {
     "name": "stdout",
     "output_type": "stream",
     "text": [
      "\n",
      "📌 União de caminhos (titulo | autorPrincipal)\n",
      "Código: parse('$.livraria.titulo | $.livraria.autorPrincipal').find(json_data)\n",
      "Resultado: ['Dr. Tech']\n"
     ]
    }
   ],
   "source": [
    "# 8.1 União de caminhos (usando |)\n",
    "try:\n",
    "    union_expr = parse('$.livraria.titulo | $.livraria.autorPrincipal')\n",
    "    union_matches = union_expr.find(json_data)\n",
    "    exemplo(\n",
    "        \"União de caminhos (titulo | autorPrincipal)\",\n",
    "        \"parse('$.livraria.titulo | $.livraria.autorPrincipal').find(json_data)\",\n",
    "        [m.value for m in union_matches]\n",
    "    )\n",
    "except:\n",
    "    # Alternativa manual\n",
    "    titulo_matches = parse('$.livraria.titulo').find(json_data)\n",
    "    autor_matches = parse('$.livraria.autorPrincipal').find(json_data)\n",
    "    exemplo(\n",
    "        \"União manual de caminhos\",\n",
    "        \"Combinação de duas consultas separadas\",\n",
    "        [m.value for m in titulo_matches + autor_matches]\n",
    "    )\n"
   ]
  },
  {
   "cell_type": "code",
   "execution_count": 36,
   "id": "eeee254b",
   "metadata": {},
   "outputs": [
    {
     "name": "stdout",
     "output_type": "stream",
     "text": [
      "\n",
      "📌 Aninhamento profundo (livros -> editora -> cidade)\n",
      "Código: parse('$.livraria.livros[*].editora.cidade').find(json_data)\n",
      "Resultado: ['São Paulo', 'Rio de Janeiro', 'São Paulo']\n"
     ]
    }
   ],
   "source": [
    "# 8.2 Aninhamento profundo\n",
    "deep_matches = parse('$.livraria.livros[*].editora.cidade').find(json_data)\n",
    "exemplo(\n",
    "    \"Aninhamento profundo (livros -> editora -> cidade)\",\n",
    "    \"parse('$.livraria.livros[*].editora.cidade').find(json_data)\",\n",
    "    [m.value for m in deep_matches]\n",
    ")"
   ]
  },
  {
   "cell_type": "code",
   "execution_count": 37,
   "id": "53c4a770",
   "metadata": {},
   "outputs": [
    {
     "name": "stdout",
     "output_type": "stream",
     "text": [
      "\n",
      "📌 Arrays dentro de objetos (todos os autores)\n",
      "Código: parse('$.livraria.livros[*].autores[*]').find(json_data)\n",
      "Resultado: ['Alice', 'Bob', 'Charlie', 'David', 'Eve', 'Frank', 'Grace']\n"
     ]
    }
   ],
   "source": [
    "# 8.3 Arrays dentro de objetos\n",
    "autores_matches = parse('$.livraria.livros[*].autores[*]').find(json_data)\n",
    "exemplo(\n",
    "    \"Arrays dentro de objetos (todos os autores)\",\n",
    "    \"parse('$.livraria.livros[*].autores[*]').find(json_data)\",\n",
    "    [m.value for m in autores_matches]\n",
    ")"
   ]
  },
  {
   "cell_type": "markdown",
   "id": "155f1d0a",
   "metadata": {},
   "source": [
    "# 9. TRATAMENTO DE ERROS E CASOS EXTREMOS\n"
   ]
  },
  {
   "cell_type": "code",
   "execution_count": 38,
   "id": "61aa320d",
   "metadata": {},
   "outputs": [
    {
     "name": "stdout",
     "output_type": "stream",
     "text": [
      "\n",
      "📌 Caminho inexistente\n",
      "Código: parse('$.caminho.inexistente').find(json_data)\n",
      "Resultado: Resultado: 0 matches encontrados\n"
     ]
    }
   ],
   "source": [
    "# 9.1 Caminho inexistente\n",
    "inexistente = parse('$.caminho.inexistente').find(json_data)\n",
    "exemplo(\n",
    "    \"Caminho inexistente\",\n",
    "    \"parse('$.caminho.inexistente').find(json_data)\",\n",
    "    f\"Resultado: {len(inexistente)} matches encontrados\"\n",
    ")"
   ]
  },
  {
   "cell_type": "code",
   "execution_count": 39,
   "id": "b0f296b4",
   "metadata": {},
   "outputs": [
    {
     "name": "stdout",
     "output_type": "stream",
     "text": [
      "\n",
      "📌 Índice fora do range [10]\n",
      "Código: parse('$.livraria.livros[10]').find(json_data)\n",
      "Resultado: Resultado: 0 matches encontrados\n"
     ]
    }
   ],
   "source": [
    "# 9.2 Índice fora do range\n",
    "try:\n",
    "    fora_range = parse('$.livraria.livros[10]').find(json_data)\n",
    "    exemplo(\n",
    "        \"Índice fora do range [10]\",\n",
    "        \"parse('$.livraria.livros[10]').find(json_data)\",\n",
    "        f\"Resultado: {len(fora_range)} matches encontrados\"\n",
    "    )\n",
    "except Exception as e:\n",
    "    exemplo(\n",
    "        \"Índice fora do range\",\n",
    "        \"parse('$.livraria.livros[10]')\",\n",
    "        f\"Tratamento silencioso: retorna lista vazia\"\n",
    "    )"
   ]
  },
  {
   "cell_type": "markdown",
   "id": "013c5776",
   "metadata": {},
   "source": [
    "# PERFORMANCE E OTIMIZAÇÃO\n"
   ]
  },
  {
   "cell_type": "code",
   "execution_count": 40,
   "id": "ca6a475f",
   "metadata": {},
   "outputs": [
    {
     "name": "stdout",
     "output_type": "stream",
     "text": [
      "\n",
      "📌 Reutilização de expressões\n",
      "Código: expr = parse('$.livraria.livros[*].preco'); expr.find(data)\n",
      "Resultado: Mesma expressão usada 2 vezes\n"
     ]
    }
   ],
   "source": [
    "# Reutilização de expressões\n",
    "expr_reutilizavel = parse('$.livraria.livros[*].preco')\n",
    "resultado1 = expr_reutilizavel.find(json_data)\n",
    "resultado2 = expr_reutilizavel.find(json_data)  # Reutilização\n",
    "exemplo(\n",
    "    \"Reutilização de expressões\",\n",
    "    \"expr = parse('$.livraria.livros[*].preco'); expr.find(data)\",\n",
    "    f\"Mesma expressão usada {2} vezes\"\n",
    ")"
   ]
  },
  {
   "cell_type": "code",
   "execution_count": 41,
   "id": "3d7df37d",
   "metadata": {},
   "outputs": [
    {
     "name": "stdout",
     "output_type": "stream",
     "text": [
      "\n",
      "📌 find_first() vs find() - Performance\n",
      "Código: Comparação de tempos de execução\n",
      "Resultado: find_first(): 0.018604s, find(): 0.018632s\n"
     ]
    }
   ],
   "source": [
    "# find_first() vs find() para um resultado\n",
    "start = time.time()\n",
    "primeiro = safe_find_first('$.livraria.livros[*].titulo',json_data)\n",
    "tempo_first = time.time() - start\n",
    "\n",
    "start = time.time()\n",
    "todos = parse('$.livraria.livros[*].titulo').find(json_data)\n",
    "tempo_all = time.time() - start\n",
    "\n",
    "exemplo(\n",
    "    \"find_first() vs find() - Performance\",\n",
    "    \"Comparação de tempos de execução\",\n",
    "    f\"find_first(): {tempo_first:.6f}s, find(): {tempo_all:.6f}s\"\n",
    ")"
   ]
  },
  {
   "cell_type": "markdown",
   "id": "34fce42b",
   "metadata": {},
   "source": [
    "# RESUMO FINAL\n",
    "\n",
    "- PRINCIPAIS MÉTODOS DA CLASSE JSONPath:\n",
    "   - `parse(expression)`         - Criar parser JSONPath\n",
    "   - `find(data)`                - Encontrar todas as ocorrências\n",
    "   - `find_first(data)`          - Encontrar primeira ocorrência\n",
    "   - `update(data, value)`       - Atualizar todos os valores\n",
    "   - `update_first(data, value)` - Atualizar primeiro valor\n",
    "\n",
    "- ATRIBUTOS DE DatumInContext (resultado das buscas):\n",
    "   - `.value`      - Valor encontrado\n",
    "   - `.path`       - Caminho JSONPath\n",
    "   - `.full_path`  - Caminho completo\n",
    "   - `.context`    - Contexto do match\n",
    "\n",
    "- OPERADORES JSONPATH:\n",
    "   - `$`           - Raiz do documento\n",
    "   - `@`           - Contexto atual (em filtros)\n",
    "   - `*`           - Wildcard (todos os elementos)\n",
    "   - `..`          - Busca recursiva (descendant)\n",
    "   - `[n]`         - Índice específico\n",
    "   - `[start:end]` - Slice de array\n",
    "   - `[a,b,c]`     - Múltiplos índices\n",
    "   - `['key']`     - Chave com caracteres especiais\n",
    "\n",
    "- EXTENSÕES (jsonpath_ng.ext):\n",
    "   - `[?(@.prop > value)]`    - Filtros com comparação\n",
    "   - `[?(@.prop == value)]`   - Filtros de igualdade\n",
    "   - `[?(@.a > 1 & @.b < 5)]` - Operadores lógicos\n",
    "\n",
    "- CLASSES INTERNAS:\n",
    "   - `Fields()`     - Acesso a campos\n",
    "   - `Index()`      - Acesso por índice\n",
    "   - `Child()`      - Relacionamento pai-filho\n",
    "   - `Descendant()` - Busca descendente\n",
    "   - `Union()`      - União de expressões\n",
    "\n",
    "- DICAS DE PERFORMANCE:\n",
    "   - Reutilize expressões compiladas\n",
    "   - Use find_first() quando precisar apenas do primeiro resultado\n",
    "   - Prefira caminhos específicos a buscas recursivas quando possível"
   ]
  },
  {
   "cell_type": "markdown",
   "id": "d88528de",
   "metadata": {},
   "source": [
    "## Exceções Comuns\n",
    "\n",
    "  - **`jsonpath_ng.exceptions.JsonPathLexerError`**: Ocorre quando a expressão JSONPath contém caracteres inesperados ou está malformada sintaticamente (erros de tokenização).\n",
    "  - **`jsonpath_ng.exceptions.JsonPathParserError`**: Ocorre quando a expressão JSONPath é sintaticamente válida, mas semanticamente incorreta ou segue uma estrutura que o parser não entende.\n"
   ]
  }
 ],
 "metadata": {
  "kernelspec": {
   "display_name": "Python 3",
   "language": "python",
   "name": "python3"
  },
  "language_info": {
   "codemirror_mode": {
    "name": "ipython",
    "version": 3
   },
   "file_extension": ".py",
   "mimetype": "text/x-python",
   "name": "python",
   "nbconvert_exporter": "python",
   "pygments_lexer": "ipython3",
   "version": "3.10.11"
  }
 },
 "nbformat": 4,
 "nbformat_minor": 5
}
