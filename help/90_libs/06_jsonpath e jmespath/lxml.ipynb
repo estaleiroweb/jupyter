{
 "cells": [
  {
   "cell_type": "markdown",
   "id": "80f67f8d",
   "metadata": {},
   "source": [
    "# lxml  lib\n",
    "\n",
    "A biblioteca **`lxml`** é uma das mais poderosas e flexíveis ferramentas em Python para processar XML e HTML. Ela combina a velocidade e eficiência das bibliotecas C **libxml2** e **libxslt** com a simplicidade e familiaridade da API do Python. Isso a torna uma excelente escolha para web scraping, parsing de XML em larga escala, transformação XSLT, e validação de esquemas.\n",
    "\n",
    "Enquanto `BeautifulSoup` é conhecida por sua capacidade de lidar com HTML malformado (graças a parsers como `html.parser`), `lxml` é geralmente **mais rápida** e **mais aderente aos padrões XML/HTML**, oferecendo um controle mais preciso sobre a estrutura do documento."
   ]
  },
  {
   "cell_type": "markdown",
   "id": "c988cc12",
   "metadata": {},
   "source": [
    "### Como `lxml` Funciona?\n",
    "\n",
    "`lxml` opera criando uma representação em árvore do seu documento XML ou HTML na memória. Essa árvore é baseada na especificação do **ElementTree API**, que é um padrão para manipulação de XML em Python.\n",
    "\n",
    "Você pode criar essa árvore a partir de uma string, um arquivo, ou até mesmo um URL, e então usar métodos para navegar, buscar, modificar e serializar o documento.\n"
   ]
  },
  {
   "cell_type": "code",
   "execution_count": 1,
   "id": "7e1e7039",
   "metadata": {},
   "outputs": [
    {
     "name": "stdout",
     "output_type": "stream",
     "text": [
      "Requirement already satisfied: lxml in c:\\users\\helbe\\appdata\\local\\programs\\python\\python310\\lib\\site-packages (5.4.0)\n",
      "Requirement already satisfied: cssselect in c:\\users\\helbe\\appdata\\local\\programs\\python\\python310\\lib\\site-packages (1.3.0)\n",
      "Note: you may need to restart the kernel to use updated packages.\n"
     ]
    }
   ],
   "source": [
    "%pip install lxml cssselect"
   ]
  },
  {
   "cell_type": "markdown",
   "id": "b982bc60",
   "metadata": {},
   "source": [
    "### Módulos Principais em `lxml`\n",
    "\n",
    "`lxml` é dividido em alguns módulos principais:\n",
    "\n",
    "  - **`lxml.etree`**: O módulo principal para trabalhar com XML. Fornece a API ElementTree.\n",
    "  - **`lxml.html`**: Um módulo de conveniência construído sobre `lxml.etree` para tornar o trabalho com HTML mais fácil, adicionando funcionalidades específicas de HTML (como manipulação de formulários, tratamento de links, etc.). É o módulo que você mais usará para web scraping."
   ]
  },
  {
   "cell_type": "markdown",
   "id": "8b91f992",
   "metadata": {},
   "source": [
    "### Métodos e Propriedades Principais\n",
    "\n",
    "Vamos usar exemplos práticos para demonstrar os principais métodos e propriedades.\n",
    "\n",
    "Primeiro, preparemos um documento HTML de exemplo e um XML de exemplo para cobrir ambos os cenários:"
   ]
  },
  {
   "cell_type": "code",
   "execution_count": 2,
   "id": "c353b90f",
   "metadata": {},
   "outputs": [],
   "source": [
    "import io # Para simular arquivos\n",
    "from lxml import (\n",
    "    html, # para HTML\n",
    "    etree,  # Para XML\n",
    ")\n",
    "from lxml.html import HtmlElement\n",
    "from lxml.etree import _Element # Importe _Element explicitamente\n",
    "from data import xml_doc, html_doc  # data.py"
   ]
  },
  {
   "cell_type": "markdown",
   "id": "4b12475e",
   "metadata": {},
   "source": [
    "### 1. Criação e Parsers\n",
    "\n",
    "  - **`html.fromstring(html_string)`**: Cria uma árvore HTML a partir de uma string.\n",
    "  - **`html.parse(file_object_or_path)`**: Cria uma árvore HTML a partir de um arquivo ou URL.\n",
    "  - **`etree.fromstring(xml_string)`**: Cria uma árvore XML a partir de uma string.\n",
    "  - **`etree.parse(file_object_or_path)`**: Cria uma árvore XML a partir de um arquivo ou URL.\n",
    "  - **`html.document_fromstring()` / `etree.fromstring()`**: Função para parsing robusto de strings.\n"
   ]
  },
  {
   "cell_type": "code",
   "execution_count": 3,
   "id": "f0771aa3",
   "metadata": {},
   "outputs": [
    {
     "name": "stdout",
     "output_type": "stream",
     "text": [
      "<html lang=\"pt-br\">\n",
      "<head>\n",
      "    <meta charset=\"UTF-8\">\n",
      "    <title>Exemplo BeautifulSoup</title>\n",
      "    <link rel=\"stylesheet\" href=\"styles.css\">\n",
      "</head>\n",
      "<body>\n",
      "    <header>\n",
      "        <h1>Bem-vindo ao Meu Site</h1>\n",
      "        <nav>\n",
      "            <ul id=\"lista-produtos\">\n",
      "                <li><a href=\"/\" class=\"menu-link active\" id=\"home\">Home</a></li>\n",
      "                <li><a href=\"/sobre\" class=\"menu-link\">Sobre N&#243;s</a></li>\n",
      "                <li><a href=\"/contato\" class=\"menu-link\">Contato</a></li>\n",
      "            </ul>\n",
      "        </nav>\n",
      "    </header>\n",
      "\n",
      "    <main>\n",
      "        <section id=\"primeira-secao\">\n",
      "            <h2>Nossa Hist&#243;ria</h2>\n",
      "            <p class=\"paragrafo-info\">Este &#233; um par&#225;grafo sobre a hist&#243;ria da empresa.</p>\n",
      "            <p>Este &#233; outro par&#225;grafo.</p>\n",
      "            <img src=\"historia.jpg\" alt=\"Foto hist&#243;rica\" data-id=\"123\">\n",
      "        </section>\n",
      "\n",
      "        <section class=\"conteudo-extra\">\n",
      "            <h3>Nossos Servi&#231;os</h3>\n",
      "            <div class=\"servico\" data-tipo=\"web\">\n",
      "                <h4>Desenvolvimento Web</h4>\n",
      "                <span>Sites modernos e responsivos.</span>\n",
      "            </div>\n",
      "            <div class=\"servico\" data-tipo=\"mobile\">\n",
      "                <h4>Desenvolvimento Mobile</h4>\n",
      "                <span>Aplicativos inovadores para Android e iOS.</span>\n",
      "            </div>\n",
      "        </section>\n",
      "    </main>\n",
      "\n",
      "    <footer>\n",
      "        <p>&#169; 2025 Exemplo. Todos os direitos reservados.</p>\n",
      "        <a href=\"#topo\" class=\"scroll-top\">Voltar ao topo</a>\n",
      "    </footer>\n",
      "</body>\n",
      "</html>\n",
      "\n"
     ]
    }
   ],
   "source": [
    "# Criando as árvores de análise\n",
    "html_tree:HtmlElement = html.fromstring(html_doc)\n",
    "# html_tree=html.parse('c:/file.html')\n",
    "# html_tree=html.parse('http://xpto.com')\n",
    "print(html.tostring(html_tree, pretty_print=True).decode())\n"
   ]
  },
  {
   "cell_type": "code",
   "execution_count": 4,
   "id": "eca07bde",
   "metadata": {},
   "outputs": [
    {
     "name": "stdout",
     "output_type": "stream",
     "text": [
      "<livros>\n",
      "    <livro id=\"bk001\" categoria=\"ficcao\">\n",
      "        <titulo>A Jornada Estelar</titulo>\n",
      "        <autor>Alice Smith</autor>\n",
      "        <ano>2020</ano>\n",
      "        <preco moeda=\"USD\">25.00</preco>\n",
      "    </livro>\n",
      "    <livro id=\"bk002\" categoria=\"tecnologia\">\n",
      "        <titulo>Python Avan&#231;ado</titulo>\n",
      "        <autor>Bob Johnson</autor>\n",
      "        <ano>2022</ano>\n",
      "        <preco moeda=\"BRL\">120.00</preco>\n",
      "    </livro>\n",
      "</livros>\n",
      "\n"
     ]
    }
   ],
   "source": [
    "xml_tree: _Element = etree.fromstring(xml_doc.encode(\n",
    "    'utf-8'))  # Para XML, usamos etree.fromstring\n",
    "# xml_tree=etree.parse('c:/file.xml')\n",
    "# xml_tree=etree.parse('http://xpto.com')\n",
    "print(etree.tostring(xml_tree, pretty_print=True).decode())"
   ]
  },
  {
   "cell_type": "markdown",
   "id": "daf7d025",
   "metadata": {},
   "source": [
    "### 2. Navegação na Árvore (Propriedades)\n",
    "\n",
    "Elementos em `lxml` (objetos `Element` ou `HtmlElement`) têm várias propriedades para navegação:\n",
    "\n",
    "  - **`element.tag`**: O nome da tag (ex: `'div'`, `'p'`).\n",
    "  - **`element.text`**: O texto diretamente contido *dentro* da tag, mas *antes* de qualquer tag filha.\n",
    "  - **`element.tail`**: O texto que vem *imediatamente depois* da tag de fechamento do elemento, mas antes da próxima tag irmão.\n",
    "  - **`element.getparent()`**: O elemento pai.\n",
    "  - **`element.getchildren()`**: Uma lista de filhos diretos.\n",
    "  - **`element.find(css_or_xpath)` / `element.findall(css_or_xpath)`**: Métodos para encontrar elementos dentro de um contexto.\n",
    "  - **`element.iter()`**: Itera sobre o elemento e todos os seus descendentes.\n",
    "  - **`element.xpath(xpath_expr)`**: O método mais poderoso para busca.\n",
    "  - **`element.cssselect(css_selector)`**: Método para busca via seletores CSS (disponível em `lxml.html`).\n"
   ]
  },
  {
   "cell_type": "code",
   "execution_count": 5,
   "id": "3492e0b9",
   "metadata": {},
   "outputs": [
    {
     "name": "stdout",
     "output_type": "stream",
     "text": [
      "--- Navegação na Árvore (HTML) ---\n",
      "Tag do corpo: body\n",
      "Texto do H1: 'Bem-vindo ao Meu Site'\n",
      "Pai do H1 (tag): header\n",
      "\n",
      "Filhos da primeira-secao:\n",
      "  - <h2> - 'Nossa História'\n",
      "  - <p> - 'Este é um parágrafo sobre a história da empresa.'\n",
      "  - <p> - 'Este é outro parágrafo.'\n",
      "  - <img> - 'None'\n",
      "\n",
      "Texto do parágrafo intro: '\n",
      "                '\n",
      "Texto do segundo parágrafo: 'Este é outro parágrafo.'\n"
     ]
    }
   ],
   "source": [
    "print(\"--- Navegação na Árvore (HTML) ---\")\n",
    "\n",
    "# Acessando o corpo do HTML\n",
    "body_element:HtmlElement = html_tree.body\n",
    "print(f\"Tag do corpo: {body_element.tag}\")\n",
    "\n",
    "# Acessando o título principal (H1)\n",
    "h1_element:HtmlElement = html_tree.xpath('//h1')[0] # Usando XPath para pegar o primeiro H1\n",
    "print(f\"Texto do H1: '{h1_element.text}'\")\n",
    "\n",
    "# Acessando o pai do H1\n",
    "header_element:HtmlElement = h1_element.getparent()\n",
    "print(f\"Pai do H1 (tag): {header_element.tag}\")\n",
    "\n",
    "# Iterando sobre os filhos de <ul>\n",
    "ul_element:HtmlElement = html_tree.get_element_by_id('primeira-secao')\n",
    "print(\"\\nFilhos da primeira-secao:\")\n",
    "for child in ul_element.getchildren():\n",
    "    print(f\"  - <{child.tag}> - '{child.text}'\")\n",
    "\n",
    "# Acessando o texto e o tail (texto após a tag)\n",
    "p_intro:HtmlElement = html_tree.xpath('//div[@class=\"servico\"]')[0]\n",
    "print(f\"\\nTexto do parágrafo intro: '{p_intro.text}'\")\n",
    "# Note: 'tail' seria relevante se houvesse texto entre </p> e a próxima tag irmão.\n",
    "# Para o segundo parágrafo:\n",
    "p_second:HtmlElement = html_tree.xpath('//section[@id=\"primeira-secao\"]/p')[1]\n",
    "print(f\"Texto do segundo parágrafo: '{p_second.text}'\")"
   ]
  },
  {
   "cell_type": "markdown",
   "id": "02a28367",
   "metadata": {},
   "source": [
    "### 3. Atributos de Elementos (Propriedades e Métodos)\n",
    "\n",
    "  - **`element.attrib`**: Um dicionário contendo todos os atributos do elemento.\n",
    "  - **`element.get('attribute_name')`**: Retorna o valor de um atributo. Mais seguro que o acesso direto, pois não levanta erro se o atributo não existir (retorna `None`).\n",
    "  - **`element.set('attribute_name', 'value')`**: Define o valor de um atributo.\n",
    "  - **`del element.attrib['attribute_name']`**: Remove um atributo.\n"
   ]
  },
  {
   "cell_type": "code",
   "execution_count": 6,
   "id": "d30642ea",
   "metadata": {},
   "outputs": [
    {
     "name": "stdout",
     "output_type": "stream",
     "text": [
      "\n",
      "--- Acesso e Modificação de Atributos (HTML) ---\n",
      "\n",
      "Href do link Home: #topo\n",
      "Classes do link Home: scroll-top\n",
      "Atributos da imagem: {'src': 'historia.jpg', 'alt': 'Foto histórica', 'data-id': '123'}\n",
      "Atributo 'data-version': None\n",
      "Novo alt da imagem: Novo Alt da Imagem\n",
      "Imagem com novo atributo: {'src': 'historia.jpg', 'alt': 'Novo Alt da Imagem', 'data-id': '123', 'data-new-attr': 'algum valor'}\n",
      "Imagem sem 'data-version': {'src': 'historia.jpg', 'alt': 'Novo Alt da Imagem', 'data-new-attr': 'algum valor'}\n"
     ]
    }
   ],
   "source": [
    "print(\"\\n--- Acesso e Modificação de Atributos (HTML) ---\")\n",
    "\n",
    "# Acessando atributos do link Home\n",
    "link_home:HtmlElement = html_tree.xpath('//a[@class=\"scroll-top\"]')[0]\n",
    "print(f\"\\nHref do link Home: {link_home.get('href')}\")\n",
    "print(f\"Classes do link Home: {link_home.get('class')}\") # Retorna string se for 1, lista se múltiplos\n",
    "\n",
    "# Acessando todos os atributos de uma imagem\n",
    "img_element:HtmlElement = html_tree.xpath('//img')[0]\n",
    "print(f\"Atributos da imagem: {img_element.attrib}\")\n",
    "print(f\"Atributo 'data-version': {img_element.get('data-version')}\")\n",
    "\n",
    "# Modificando um atributo\n",
    "img_element.set('alt', 'Novo Alt da Imagem')\n",
    "print(f\"Novo alt da imagem: {img_element.get('alt')}\")\n",
    "\n",
    "# Adicionando um novo atributo\n",
    "img_element.set('data-new-attr', 'algum valor')\n",
    "print(f\"Imagem com novo atributo: {img_element.attrib}\")\n",
    "\n",
    "# Removendo um atributo\n",
    "del img_element.attrib['data-id']\n",
    "print(f\"Imagem sem 'data-version': {img_element.attrib}\")"
   ]
  },
  {
   "cell_type": "markdown",
   "id": "f620ce1c",
   "metadata": {},
   "source": [
    "### 4. Busca de Elementos (Métodos Essenciais)\n",
    "\n",
    "`lxml` brilha com suas capacidades de busca:\n",
    "\n",
    "  - **`element.xpath(xpath_expression)`**: O método mais poderoso para buscar elementos usando expressões XPath 1.0. Retorna uma lista de elementos, strings ou atributos.\n",
    "      - Ex: `//a`, `//div[@class=\"my-class\"]`, `//img/@src`, `//p[contains(text(), 'algum texto')]`\n",
    "  - **`element.cssselect(css_selector)`**: Disponível no módulo `lxml.html`. Permite usar seletores CSS (como no BeautifulSoup) para encontrar elementos.\n",
    "      - Ex: `div.my-class`, `a#myId`, `p:nth-child(2)`\n",
    "  - **`element.find()` / `element.findall()`: (ElementTree API)** Métodos mais simples para buscar descendentes diretos ou em qualquer nível, mas não tão poderosos quanto XPath ou CSS Selectors.\n"
   ]
  },
  {
   "cell_type": "code",
   "execution_count": 7,
   "id": "fab70dae",
   "metadata": {},
   "outputs": [
    {
     "name": "stdout",
     "output_type": "stream",
     "text": [
      "\n",
      "Buscas com XPath:\n",
      "Total de links: 4\n",
      "Itens de produto:\n",
      "Src da imagem: historia.jpg\n",
      "Título do segundo livro (XML): 'Python Avançado'\n",
      "\n",
      "Buscas com CSS Selectors:\n",
      "Texto do parágrafo intro (CSS): '\n",
      "                '\n",
      "Links de navegação (CSS):\n",
      "Terceiro produto (CSS): 'Este é outro parágrafo.'\n"
     ]
    }
   ],
   "source": [
    "# Usando XPath (mais comum e poderoso em lxml)\n",
    "print(\"\\nBuscas com XPath:\")\n",
    "# Seleciona todos os links\n",
    "all_links:HtmlElement = html_tree.xpath('//a')\n",
    "print(f\"Total de links: {len(all_links)}\")\n",
    "\n",
    "# Seleciona todos os itens de produto\n",
    "product_items:HtmlElement = html_tree.xpath('//li[@class=\"item-produto\"]')\n",
    "print(\"Itens de produto:\")\n",
    "for item in product_items:\n",
    "    print(f\"  - {item.text}\")\n",
    "\n",
    "# Seleciona o texto de um atributo (src da imagem)\n",
    "image_src:HtmlElement = html_tree.xpath('//img/@src')[0]\n",
    "print(f\"Src da imagem: {image_src}\")\n",
    "\n",
    "# Seleciona o título do segundo livro no XML\n",
    "segundo_titulo_xml:_Element = xml_tree.xpath('//livro[2]/titulo/text()')[0]\n",
    "print(f\"Título do segundo livro (XML): '{segundo_titulo_xml}'\")\n",
    "\n",
    "# Usando CSS Selectors (apenas em lxml.html)\n",
    "print(\"\\nBuscas com CSS Selectors:\")\n",
    "# Seleciona o parágrafo com a classe 'servico'\n",
    "intro_div:HtmlElement = html_tree.cssselect('div.servico')[0]\n",
    "print(f\"Texto do parágrafo intro (CSS): '{intro_div.text}'\")\n",
    "\n",
    "# Seleciona todos os elementos com a classe 'nav-link'\n",
    "nav_links_css:HtmlElement = html_tree.cssselect('.nav-link')\n",
    "print(\"Links de navegação (CSS):\")\n",
    "for link in nav_links_css:\n",
    "    print(f\"  - {link.text} (Href: {link.get('href')})\")\n",
    "\n",
    "# Seleciona o terceiro item da lista de produtos\n",
    "terceiro_produto_css:HtmlElement = html_tree.cssselect('#primeira-secao *:nth-child(3)')[0]\n",
    "print(f\"Terceiro produto (CSS): '{terceiro_produto_css.text}'\")"
   ]
  },
  {
   "cell_type": "markdown",
   "id": "247683d3",
   "metadata": {},
   "source": [
    "### 5. Modificação da Árvore\n",
    "\n",
    "`lxml` oferece métodos para adicionar, remover e substituir elementos na árvore.\n",
    "\n",
    "  - **`element.append(child_element)`**: Adiciona um elemento filho no final.\n",
    "  - **`element.insert(position, child_element)`**: Insere um elemento filho em uma posição específica.\n",
    "  - **`element.remove(child_element)`**: Remove um filho direto.\n",
    "  - **`element.addnext(element)`**: Adiciona um irmão após o elemento atual.\n",
    "  - **`element.addprevious(element)`**: Adiciona um irmão antes do elemento atual.\n",
    "  - **`element.replace(old_child, new_child)`**: Substitui um filho.\n",
    "  - **`element.getparent().remove(element)`**: Remove o próprio elemento (um pouco mais verboso que `BeautifulSoup.extract()`).\n"
   ]
  },
  {
   "cell_type": "code",
   "execution_count": 11,
   "id": "c7152248",
   "metadata": {},
   "outputs": [
    {
     "name": "stdout",
     "output_type": "stream",
     "text": [
      "\n",
      "Parágrafo do rodapé modificado: '© 2025 LXML Demo - Direitos Reservados.'\n",
      "\n",
      "Lista de produtos após adicionar 'Smartwatch':\n",
      "<ul id=\"lista-produtos\">\n",
      "                <li><a href=\"/\" class=\"menu-link active\" id=\"home\">Home</a></li>\n",
      "                <li><a href=\"/sobre\" class=\"menu-link\">Sobre Nós</a></li>\n",
      "                <li><a href=\"/contato\" class=\"menu-link\">Contato</a></li>\n",
      "            <li class=\"item-produto\">Smartwatch</li><li class=\"item-produto\">Smartwatch</li><li class=\"item-produto\">Smartwatch</li><li class=\"item-produto\">Smartwatch</li></ul>\n",
      "        \n",
      "\n",
      "\n",
      "Lista de produtos após remover 'Contato':\n",
      "<ul id=\"lista-produtos\">\n",
      "                <li><a href=\"/\" class=\"menu-link active\" id=\"home\">Home</a></li>\n",
      "                <li><a href=\"/sobre\" class=\"menu-link\">Sobre Nós</a></li>\n",
      "                <li/>\n",
      "            <li class=\"item-produto\">Smartwatch</li><li class=\"item-produto\">Smartwatch</li><li class=\"item-produto\">Smartwatch</li><li class=\"item-produto\">Smartwatch</li></ul>\n",
      "        \n",
      "\n",
      "\n",
      "HTML do cabeçalho após substituir H1:\n",
      "<header>\n",
      "        <h1>Bem-vindo Novamente!</h1><nav>\n",
      "            <ul id=\"lista-produtos\">\n",
      "                <li><a href=\"/\" class=\"menu-link active\" id=\"home\">Home</a></li>\n",
      "                <li><a href=\"/sobre\" class=\"menu-link\">Sobre Nós</a></li>\n",
      "                <li/>\n",
      "            <li class=\"item-produto\">Smartwatch</li><li class=\"item-produto\">Smartwatch</li><li class=\"item-produto\">Smartwatch</li><li class=\"item-produto\">Smartwatch</li></ul>\n",
      "        </nav>\n",
      "    </header>\n",
      "\n",
      "    \n",
      "\n"
     ]
    }
   ],
   "source": [
    "# Modificando o texto de um elemento\n",
    "footer_p_lxml = html_tree.xpath('//footer/p')[0]\n",
    "footer_p_lxml.text = \"© 2025 LXML Demo - Direitos Reservados.\"\n",
    "print(f\"\\nParágrafo do rodapé modificado: '{footer_p_lxml.text}'\")\n",
    "\n",
    "# Adicionando um novo item à lista de produtos\n",
    "lista_produtos = html_tree.get_element_by_id('lista-produtos')\n",
    "new_li = etree.Element('li', attrib={'class': 'item-produto'}) # Criando um novo elemento\n",
    "new_li.text = \"Smartwatch\"\n",
    "lista_produtos.append(new_li)\n",
    "print(\"\\nLista de produtos após adicionar 'Smartwatch':\")\n",
    "# Para ver o HTML atualizado, precisamos serializá-lo\n",
    "print(etree.tostring(lista_produtos, pretty_print=True, encoding='unicode'))\n",
    "\n",
    "# Removendo um elemento\n",
    "item_tablet = html_tree.xpath('//li/a[text()=\"Contato\"]')[0]\n",
    "item_tablet.getparent().remove(item_tablet) # Remove o 'Contato' da lista\n",
    "print(\"\\nLista de produtos após remover 'Contato':\")\n",
    "print(etree.tostring(lista_produtos, pretty_print=True, encoding='unicode'))\n",
    "\n",
    "# Substituindo um elemento\n",
    "old_h1 = html_tree.xpath('//h1')[0]\n",
    "new_h1 = etree.Element('h1')\n",
    "new_h1.text = \"Bem-vindo Novamente!\"\n",
    "old_h1.getparent().replace(old_h1, new_h1)\n",
    "print(\"\\nHTML do cabeçalho após substituir H1:\")\n",
    "print(etree.tostring(html_tree.xpath('//header')[0], pretty_print=True, encoding='unicode'))"
   ]
  },
  {
   "cell_type": "markdown",
   "id": "ccaa5a27",
   "metadata": {},
   "source": [
    "### 6. Serialização (Salvando a Árvore)\n",
    "\n",
    "  - **`etree.tostring(element, pretty_print=False, encoding='utf-8', xml_declaration=False)`**: Converte um elemento (ou a árvore inteira) de volta para uma string de bytes ou unicode.\n",
    "      - `pretty_print`: Se `True`, formata a saída com indentação.\n",
    "      - `encoding`: Codificação da saída. Se `unicode`, retorna string Python.\n",
    "      - `xml_declaration`: Se `True`, inclui `<?xml version=\"1.0\"?>` no início (para XML).\n",
    "\n",
    "**Exemplos:** (Já vistos nos exemplos de modificação)\n"
   ]
  },
  {
   "cell_type": "markdown",
   "id": "cdc5f6aa",
   "metadata": {},
   "source": [
    "### Outros Recursos Avançados\n",
    "\n",
    "  - **XSLT Transformations**: `lxml` tem suporte completo a XSLT para transformar documentos XML/HTML.\n",
    "  - **Schema Validation**: Suporte para validação de XML contra DTDs, XML Schema e RelaxNG.\n",
    "  - **Namespaces**: Gerenciamento robusto de namespaces em XML.\n",
    "  - **Error Handling**: Controle detalhado sobre como erros de parsing são tratados.\n",
    "  - **Iteração Eficiente**: Métodos como `iterparse` para parsing de grandes arquivos XML sem carregar tudo na memória.\n"
   ]
  }
 ],
 "metadata": {
  "kernelspec": {
   "display_name": "Python 3",
   "language": "python",
   "name": "python3"
  },
  "language_info": {
   "codemirror_mode": {
    "name": "ipython",
    "version": 3
   },
   "file_extension": ".py",
   "mimetype": "text/x-python",
   "name": "python",
   "nbconvert_exporter": "python",
   "pygments_lexer": "ipython3",
   "version": "3.10.11"
  }
 },
 "nbformat": 4,
 "nbformat_minor": 5
}
