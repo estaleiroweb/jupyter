{
 "cells": [
  {
   "cell_type": "markdown",
   "id": "e3602d6c",
   "metadata": {},
   "source": [
    "# tabulate\n",
    "\n",
    "A biblioteca **`tabulate`** em Python é usada para **formatar dados tabulares** (como listas de listas, dicionários ou DataFrames) em **tabelas bem organizadas e legíveis**. Ela é especialmente útil para exibir dados em formato de texto, como em terminais, logs ou relatórios simples.\n"
   ]
  },
  {
   "cell_type": "code",
   "execution_count": 4,
   "id": "0234c5ab",
   "metadata": {},
   "outputs": [
    {
     "name": "stdout",
     "output_type": "stream",
     "text": [
      "Requirement already satisfied: tabulate in c:\\users\\f8034906\\appdata\\local\\programs\\python\\python312\\lib\\site-packages (0.9.0)\n",
      "Note: you may need to restart the kernel to use updated packages.\n"
     ]
    }
   ],
   "source": [
    "%pip install tabulate\n",
    "from tabulate import tabulate,simple_separated_format"
   ]
  },
  {
   "cell_type": "markdown",
   "id": "b11de718",
   "metadata": {},
   "source": [
    "## Como funciona\n",
    "\n",
    "A função principal é:\n",
    "\n",
    "```python\n",
    "from tabulate import tabulate\n",
    "\n",
    "tabulate(data, headers=(), tablefmt='simple')\n",
    "```\n",
    "\n",
    "- **`data`**: lista de listas, lista de dicionários, dicionário de listas, etc.\n",
    "- **`headers`**: pode ser uma lista de nomes de colunas, `\"keys\"` (para usar as chaves dos dicionários), ou `\"firstrow\"` (para usar a primeira linha como cabeçalho).\n",
    "- **`tablefmt`**: define o estilo da tabela (ex: `\"plain\"`, `\"grid\"`, `\"pipe\"`, `\"fancy_grid\"`, `\"github\"`, etc.)\n",
    "\n",
    "**Recursos adicionais**:\n",
    "\n",
    "- **Alinhamento**: você pode alinhar colunas com `colalign=(\"left\", \"center\", \"right\")`\n",
    "- **Numeração de linhas**: use `showindex=True`\n",
    "- **Formatar números**: use `floatfmt=\".2f\"` para casas decimais\n",
    "\n",
    "### 📌 **Descrição dos parâmetros**\n",
    "\n",
    "| Parâmetro                | Tipo              | Descrição                                                                                                                    |\n",
    "| ------------------------ | ----------------- | ---------------------------------------------------------------------------------------------------------------------------- |\n",
    "| **`tabular_data`**       | lista, dict, etc. | Os dados tabulares a serem formatados. Pode ser lista de listas, lista de dicionários, dicionário de listas, etc.            |\n",
    "| **`headers`**            | lista, str, bool  | Define os cabeçalhos. Opções: `\"keys\"`, `\"firstrow\"`, lista de strings, `()` (sem cabeçalho), `None`.                        |\n",
    "| **`tablefmt`**           | str               | Estilo da tabela. Exemplos: `\"plain\"`, `\"simple\"`, `\"grid\"`, `\"pipe\"`, `\"fancy_grid\"`, `\"github\"`, `\"html\"`, `\"latex\"`, etc. |\n",
    "| **`floatfmt`**           | str ou lista      | Formato de números de ponto flutuante. Ex: `\".2f\"` para duas casas decimais. Pode ser uma lista para colunas específicas.    |\n",
    "| **`intfmt`**             | str ou lista      | Formato para inteiros. Ex: `\",\"` para separador de milhar.                                                                   |\n",
    "| **`numalign`**           | str               | Alinhamento de números. Opções: `\"right\"`, `\"center\"`, `\"left\"`, `\"decimal\"`.                                                |\n",
    "| **`stralign`**           | str               | Alinhamento de strings. Opções: `\"right\"`, `\"center\"`, `\"left\"`.                                                             |\n",
    "| **`missingval`**         | str               | Valor a ser exibido para dados ausentes (`None`). Padrão: `\"\"`.                                                              |\n",
    "| **`showindex`**          | bool, str         | Mostra índice. Opções: `True`, `False`, `\"always\"`, `\"default\"`, `\"never\"`.                                                  |\n",
    "| **`disable_numparse`**   | bool              | Se `True`, não tenta converter strings em números automaticamente.                                                           |\n",
    "| **`colalign`**           | tupla/lista       | Alinhamento por coluna. Ex: `(\"left\", \"center\", \"right\")`.                                                                   |\n",
    "| **`maxcolwidths`**       | int/list          | Largura máxima das colunas de dados. Pode truncar texto.                                                                     |\n",
    "| **`rowalign`**           | str/list          | Alinhamento vertical das células. Ex: `\"top\"`, `\"middle\"`, `\"bottom\"`.                                                       |\n",
    "| **`maxheadercolwidths`** | int/list          | Largura máxima das colunas de cabeçalho.                                                                                     |\n"
   ]
  },
  {
   "cell_type": "code",
   "execution_count": 2,
   "id": "7f22b61d",
   "metadata": {},
   "outputs": [
    {
     "name": "stdout",
     "output_type": "stream",
     "text": [
      "+--------+---------+\n",
      "| Nome   |   Idade |\n",
      "+========+=========+\n",
      "| Alice  |      24 |\n",
      "+--------+---------+\n",
      "| Bob    |      19 |\n",
      "+--------+---------+\n",
      "| Carol  |      32 |\n",
      "+--------+---------+\n"
     ]
    }
   ],
   "source": [
    "# Exemplo 1: Lista de listas\n",
    "data_list = [['Alice', 24], ['Bob', 19], ['Carol', 32]]\n",
    "headers_list = ['Nome', 'Idade']\n",
    "print(tabulate(data_list, headers=headers_list, tablefmt='grid'))"
   ]
  },
  {
   "cell_type": "code",
   "execution_count": 4,
   "id": "6baa20d4",
   "metadata": {},
   "outputs": [
    {
     "name": "stdout",
     "output_type": "stream",
     "text": [
      "╒════════╤═════════╕\n",
      "│ Nome   │   Idade │\n",
      "╞════════╪═════════╡\n",
      "│ Alice  │      24 │\n",
      "├────────┼─────────┤\n",
      "│ Bob    │      19 │\n",
      "├────────┼─────────┤\n",
      "│ Carol  │      32 │\n",
      "╘════════╧═════════╛\n"
     ]
    }
   ],
   "source": [
    "# Exemplo 2: Lista de dicionários\n",
    "data_dict_list = [\n",
    "    {'Nome': 'Alice', 'Idade': 24},\n",
    "    {'Nome': 'Bob', 'Idade': 19},\n",
    "    {'Nome': 'Carol', 'Idade': 32}\n",
    "]\n",
    "print(tabulate(data_dict_list, headers='keys', tablefmt='fancy_grid'))"
   ]
  },
  {
   "cell_type": "code",
   "execution_count": 34,
   "id": "33430734",
   "metadata": {},
   "outputs": [],
   "source": [
    "def pr(tbls: list[str], sep: str = '  ▐  '):\n",
    "    \"\"\"Function to print multiple tables side by side.\n",
    "\n",
    "    Args:\n",
    "        tbls (list[str]): List of tables as strings, where each table is separated by newlines.\n",
    "        sep (str, optional): Separator between columns. Defaults to '  │  '.\n",
    "    \"\"\"\n",
    "    a_len = []\n",
    "    max_row = 0\n",
    "    for k, v in enumerate(tbls):\n",
    "        tbls[k] = v.split('\\n')\n",
    "        a_len.append(max(len(s) for s in tbls[k]))\n",
    "        max_row = max(max_row, len(tbls[k]))\n",
    "    for r in range(max_row):\n",
    "        for k, v in enumerate(tbls):\n",
    "            if r < len(v):\n",
    "                print(f'{v[r]: <{a_len[k]}}', end=sep)\n",
    "            else:\n",
    "                print(' ' * (a_len[k]), end=sep)\n",
    "        print()"
   ]
  },
  {
   "cell_type": "code",
   "execution_count": 35,
   "id": "17241ee6",
   "metadata": {},
   "outputs": [
    {
     "name": "stdout",
     "output_type": "stream",
     "text": [
      "|-------|----|  ▐  Nome      Idade  ▐  \n",
      "| Alice | 24 |  ▐  ------  -------  ▐  \n",
      "| Bob   | 19 |  ▐  Alice        24  ▐  \n",
      "| Carol | 32 |  ▐  Bob          19  ▐  \n",
      "                ▐  Carol        32  ▐  \n"
     ]
    }
   ],
   "source": [
    "# Exemplo 3: Dicionário de listas\n",
    "data_dict = {\n",
    "    'Nome': ['Alice', 'Bob', 'Carol'],\n",
    "    'Idade': [24, 19, 32]\n",
    "}\n",
    "headers = 'keys'\n",
    "\n",
    "pr([\n",
    "    tabulate(data_dict,  tablefmt='github'),\n",
    "    tabulate(data_dict, headers=headers, tablefmt='simple'),\n",
    "])"
   ]
  },
  {
   "cell_type": "code",
   "execution_count": 19,
   "id": "684f25e2",
   "metadata": {},
   "outputs": [
    {
     "name": "stdout",
     "output_type": "stream",
     "text": [
      "                                                                                                                                \n",
      "Formato: plain    Formato: simple   Formato: grid          Formato: pipe          Formato: fancy_grid    Formato: github        \n",
      "Nome      Idade   Nome      Idade   +--------+---------+   | Nome   |   Idade |   ╒════════╤═════════╕   | Nome   |   Idade |   \n",
      "Alice        24   ------  -------   | Nome   |   Idade |   |:-------|--------:|   │ Nome   │   Idade │   |--------|---------|   \n",
      "Bob          19   Alice        24   +========+=========+   | Alice  |      24 |   ╞════════╪═════════╡   | Alice  |      24 |   \n",
      "Carol        32   Bob          19   | Alice  |      24 |   | Bob    |      19 |   │ Alice  │      24 │   | Bob    |      19 |   \n",
      "                  Carol        32   +--------+---------+   | Carol  |      32 |   ├────────┼─────────┤   | Carol  |      32 |   \n",
      "                                    | Bob    |      19 |                          │ Bob    │      19 │                          \n",
      "                                    +--------+---------+                          ├────────┼─────────┤                          \n",
      "                                    | Carol  |      32 |                          │ Carol  │      32 │                          \n",
      "                                    +--------+---------+                          ╘════════╧═════════╛                          \n"
     ]
    }
   ],
   "source": [
    "# Função para demonstrar diferentes formatos de tabela\n",
    "lst = []\n",
    "for fmt in ['plain', 'simple', 'grid', 'pipe', 'fancy_grid', 'github']:\n",
    "    lst.append(\n",
    "        f'\\nFormato: {fmt}\\n' +\n",
    "        tabulate(data_dict, headers=headers, tablefmt=fmt))\n",
    "pr(lst)"
   ]
  },
  {
   "cell_type": "code",
   "execution_count": 27,
   "id": "1587bf3b",
   "metadata": {},
   "outputs": [
    {
     "name": "stdout",
     "output_type": "stream",
     "text": [
      "Alinhamento:      Numeração Linhas:     Formatação Num:   Separador:   \n",
      " Nome     Idade       Nome      Idade   Nome      Idade   Alice\\t24    \n",
      "------  -------   --  ------  -------   ------  -------   Bob  \\t19    \n",
      "Alice        24    0  Alice        24   Alice        24   Carol\\t32    \n",
      " Bob         19    1  Bob          19   Bob          19                \n",
      "Carol        32    2  Carol        32   Carol        32                \n"
     ]
    }
   ],
   "source": [
    "# Funções diversas\n",
    "\n",
    "pr([\n",
    "    'Alinhamento:\\n' +\n",
    "    tabulate(data_dict, headers=headers, tablefmt='simple',\n",
    "             colalign=('center', 'right')),\n",
    "\n",
    "    'Numeração Linhas:\\n' +\n",
    "    tabulate(data_dict, headers=headers, tablefmt='simple', showindex=True),\n",
    "\n",
    "    'Formatação Num:\\n' +\n",
    "    tabulate(data_dict, headers=headers, tablefmt='simple', floatfmt='.2f'),\n",
    "\n",
    "    'Separador:\\n' +\n",
    "    tabulate(data_dict, tablefmt=simple_separated_format(\"\\\\t\")),\n",
    "])"
   ]
  },
  {
   "cell_type": "code",
   "execution_count": 28,
   "id": "e9c206a7",
   "metadata": {},
   "outputs": [
    {
     "name": "stdout",
     "output_type": "stream",
     "text": [
      "╒════╤════════╤═════════╕\n",
      "│    │   Nome │   Idade │\n",
      "╞════╪════════╪═════════╡\n",
      "│ 0  │  Alice │    24.6 │\n",
      "├────┼────────┼─────────┤\n",
      "│ 1  │    Bob │     N/A │\n",
      "├────┼────────┼─────────┤\n",
      "│ 2  │  Carol │    32.1 │\n",
      "╘════╧════════╧═════════╛\n"
     ]
    }
   ],
   "source": [
    "data = [[\"Alice\", 24.567], [\"Bob\", None], [\"Carol\", 32.1]]\n",
    "headers = [\"Nome\", \"Idade\"]\n",
    "\n",
    "print(tabulate(\n",
    "    data,\n",
    "    headers=headers,\n",
    "    tablefmt=\"fancy_grid\",\n",
    "    floatfmt=\".1f\",\n",
    "    numalign=\"right\",\n",
    "    stralign=\"center\",\n",
    "    missingval=\"N/A\",\n",
    "    showindex=True,\n",
    "    colalign=(\"center\", \"right\")\n",
    "))\n",
    "\n"
   ]
  }
 ],
 "metadata": {
  "kernelspec": {
   "display_name": "Python 3",
   "language": "python",
   "name": "python3"
  },
  "language_info": {
   "codemirror_mode": {
    "name": "ipython",
    "version": 3
   },
   "file_extension": ".py",
   "mimetype": "text/x-python",
   "name": "python",
   "nbconvert_exporter": "python",
   "pygments_lexer": "ipython3",
   "version": "3.12.4"
  }
 },
 "nbformat": 4,
 "nbformat_minor": 5
}
