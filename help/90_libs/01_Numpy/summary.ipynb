{
 "cells": [
  {
   "cell_type": "markdown",
   "metadata": {},
   "source": [
    "# Numpy"
   ]
  },
  {
   "cell_type": "markdown",
   "metadata": {},
   "source": [
    "- Documentação : https://numpy.org/doc/stable/user/absolute_beginners.html#numpy-the-absolute-basics-for-beginners\n",
    "- Instalação: https://numpy.org/install/\n",
    "  - Insira o código abaixo no Anaconda Prompt: `pip install numpy`\n",
    "- Importação: https://numpy.org/doc/stable/user/absolute_beginners.html#how-to-import-numpy\n",
    "  - `import numpy as np`"
   ]
  },
  {
   "cell_type": "code",
   "execution_count": 1,
   "metadata": {},
   "outputs": [],
   "source": [
    "import numpy as np"
   ]
  },
  {
   "cell_type": "markdown",
   "metadata": {},
   "source": [
    "## O que é um array?\n",
    "Tipos de arrays:\n",
    "ndarrays -> significam arrays com N dimensões<br>\n",
    "1-D array-> Possui apenas uma dimensão. Será comumente chamado de <b> vetor ou vector </b> <br>\n",
    "2-D array -> Possui 2 dimensões. Será comumente chamado de <b> matriz ou matrix</b> <br>\n",
    "3-D ou Mais array -> Possui 3 ou mais dimensões. Será comumente chamado de <b>tensor</b> \n",
    "                                     \n",
    "https://numpy.org/doc/stable/reference/arrays.html#arrays"
   ]
  },
  {
   "cell_type": "markdown",
   "metadata": {},
   "source": [
    "## Criando um Array\n",
    "\n",
    "| Método/Atributo     | Descrição Resumida                                                                                      |\n",
    "| ------------------- | ------------------------------------------------------------------------------------------------------- |\n",
    "| np.array()          | Cria uma matriz NumPy a partir de uma lista, tupla ou outra matriz.                                     |\n",
    "| np.zeros()          | Cria uma matriz de zeros com a forma especificada.                                                      |\n",
    "| np.ones()           | Cria uma matriz de uns com a forma especificada.                                                        |\n",
    "| np.arange()         | Cria uma matriz com valores espaçados uniformemente dentro de um intervalo.                             |\n",
    "| np.linspace()       | Cria uma matriz com números igualmente espaçados em um intervalo especificado.                          |\n",
    "| np.full()           | Cria uma matriz com conteúdo segundo argumento                                                          |\n",
    "| np.eye()            | Cria uma matriz identidade de forma especificada.                                                       |\n",
    "| np.random.rand()    | Cria uma matriz de forma especificada com valores aleatórios de uma distribuição uniforme entre [0, 1). |\n",
    "| np.random.randn()   | Cria uma matriz de forma especificada com valores aleatórios de uma distribuição normal padrão.         |\n",
    "| np.random.randint() | Cria uma matriz de forma especificada com valores aleatórios de uma                                     |\n",
    "| np.random.random()  | Cria uma matriz de forma especificada com valores aleatórios de uma distribuição normal padrão          |\n",
    "| np.random.uniform() | Cria uma matriz de forma especificada com valores aleatórios de                                         |\n",
    "| np.random.seed()    | Especifica um padrão para obter os mesmos números aleatórios                                            |\n",
    "| np.nan              | Valor não aplicável (None)                                                                              |"
   ]
  },
  {
   "cell_type": "markdown",
   "metadata": {},
   "source": [
    "## Manipulação\n",
    "\n",
    "| Método/Atributo  | Descrição Resumida                                                            |\n",
    "| ---------------- | ----------------------------------------------------------------------------- |\n",
    "| obj.dtype        | Tipo do array                                                                 |\n",
    "| obj.dtype.name   | String de dType                                                               |\n",
    "| obj.shape        | Mostra ou altera o formato(dimensões) do array obj.shape=(2,4)                |\n",
    "| obj.size         | Número de elementos do array                                                  |\n",
    "| obj.ndim         | Número de dimensões do array                                                  |\n",
    "| obj.itemsize     | Tamanho de cada elemento do array                                             |\n",
    "| obj.nbytes       | Tamanho total do array em bytes                                               |\n",
    "| obj.T            | Transpõe o array. Idem obj.transpose()                                        |\n",
    "| obj.append()     | Adiciona elementos no fim do array transformando em linear                    |\n",
    "| obj.insert()     | Insere elementos em uma posição especificada do array transformando em linear |\n",
    "| obj.delete()     | Remove elementos do array                                                     |\n",
    "| obj.copy()       | Cria uma cópia do array                                                       |\n",
    "| obj.sort()       | Ordena os elementos do array                                                  |\n",
    "| obj.transpose()  | Transpõe as dimensões de uma matriz.                                          |\n",
    "| obj.reshape()    | Dá uma nova forma a uma matriz sem alterar seus dados. Idem obj.shape         |\n",
    "| obj.flatten()    | Cópia elementos do array multidimencional para forma linear                   |\n",
    "| obj.ravel()      | Cópia elementos do array multidimencional para forma linear                   |\n",
    "| np.concatenate() | Concatena matrizes ao longo de um eixo existente.                             |\n",
    "| np.vstack()      | O mesmo que np.concatenate((obj1, obj2), axis = 0)                            |\n",
    "| np.hstack()      | O mesmo que np.concatenate((obj1, obj2), axis = 1)                            |\n",
    "| np.stack()       | Concatena                                                                     |\n",
    "| np.split()       | Divide uma matriz em várias submatrizes.                                      |\n",
    "| np.hsplit()      | Divide uma matriz em várias submatrizes horizontalmente (colunas).            |\n",
    "| np.vsplit()      | Divide uma matriz em várias submatrizes verticalmente (linhas).               |\n",
    "| np.where()       | Retorna os índices dos elementos que satisfazem uma condição.                 |\n",
    "| obj.unique()     | Retorna os elementos únicos de uma matriz.                                    |\n",
    "| obj.reverse()    | Inverte a ordem dos elementos do array                                        |\n",
    "| obj.tolist()     | Transforma o array em uma lista                                               |\n",
    "| obj.flat         | Itera sobre todos os elementos do array                                       |\n",
    "| obj.swapaxes     | Troca o eixo i com o eixo j                                                   |\n",
    "| obj.view         | Retorna uma cópia do array com uma nova forma                                 |\n",
    "| obj.item         | Retorna um elemento do array                                                  |\n",
    "| obj.astype       | Retorna uma cópia do array com um tipo de dados diferente                     |\n",
    "| obj.itemset      | Atribui um valor a um elemento do array                                       |\n",
    "| obj.itemget      | Retorna o valor de um elemento do array                                       |\n",
    "| obj.fill         | Atribui um valor a todos os elementos do array                                |\n",
    "| obj.argsort      | Retorna os índices dos elementos ordenados                                    |\n",
    "| obj.clip         | Retorna uma cópia do array com os elementos limitados                         |\n",
    "| obj.ptp          | Retorna o intervalo máximo dos elementos do array                             |\n"
   ]
  },
  {
   "cell_type": "markdown",
   "metadata": {},
   "source": [
    "## Cálculos\n",
    "\n",
    "| Método/Atributo | Descrição Resumida                                                      |\n",
    "| --------------- | ----------------------------------------------------------------------- |\n",
    "| np.add()        | O mesmo que obj + obj2                                                  |\n",
    "| np.subtract()   | O mesmo que obj - obj2                                                  |\n",
    "| np.multiply()   | O mesmo que obj * obj2                                                  |\n",
    "| np.divide()     | O mesmo que obj / obj2                                                  |\n",
    "| np.sqrt()       | Raiz                                                                    |\n",
    "| np.mod()        | O mesmo que obj % obj2                                                  |\n",
    "| np.power()      | O mesmo que obj ** obj2                                                 |\n",
    "| np.remainder()  | O mesmo que obj % obj2                                                  |\n",
    "| np.floor()      | O mesmo que obj // obj2                                                 |\n",
    "| np.ceil()       | O mesmo que obj // obj2                                                 |\n",
    "| np.trunc()      | O mesmo que obj // obj2                                                 |\n",
    "| np.round()      | O mesmo que obj // obj2                                                 |\n",
    "| obj.min()       | Retorna o menor valor ao longo de um eixo especificado.                 |\n",
    "| obj.max()       | Retorna o maior valor ao longo de um eixo especificado.                 |\n",
    "| obj.sum()       | Calcula a soma dos elementos ao longo de um eixo especificado.          |\n",
    "| obj.mean()      | Média dos elementos do array                                            |\n",
    "| obj.std()       | Calcula o desvio padrão dos elementos ao longo de um eixo especificado. |\n",
    "| obj.var()       | Calcula a variância dos elementos ao longo de um eixo especificado.     |\n",
    "| obj.dot()       | Calcula o produto escalar de duas matrizes.                             |\n",
    "| obj.argmin()    | Retorna os índices do menor valor ao longo de um eixo especificado.     |\n",
    "| obj.argmax()    | Retorna os índices do maior valor ao longo de um eixo especificado.     |\n",
    "| obj.cumsum()    | Retorna a soma cumulativa dos elementos ao longo de um eixo.            |\n",
    "| obj.cumprod()   | Retorna o produto cumulativo dos elementos ao longo de um eixo.         |\n",
    "| obj.cummin()    | Retorna o valor mínimo cumulativo dos elementos do array                |\n",
    "| obj.cummax()    | Retorna o valor máximo cumulativo dos elementos do array                |\n",
    "| obj.median()    | Calcula a mediana dos elementos ao longo de um eixo especificado.       |\n",
    "| obj.linalg.inv()    | Calcula a inversa de uma matriz quadrada.                                                               |\n",
    "| obj.linalg.det()    | Calcula o determinante de uma matriz.                                                                   |\n",
    "| obj.linalg.eig()    | Retorna os valores próprios e vetores próprios de uma matriz quadrada.                                  |\n",
    "| obj.linalg.svd()    | Calcula a decomposição em valores singulares (SVD) de uma matriz.                                       |\n"
   ]
  },
  {
   "cell_type": "markdown",
   "metadata": {},
   "source": [
    "## Funções Nativas\n",
    "\n",
    "Menor performance\n",
    "\n",
    "| Método/Atributo | Descrição Resumida                |\n",
    "| --------------- | --------------------------------- |\n",
    "| len()           | Retorna a quantidade de elementos |\n",
    "| sum()           | Mesmo que obj.sum(axis = 0)       |\n",
    "| min()           | Mesmo que obj.min(axis = 0)       |\n",
    "| max()           | Mesmo que obj.max(axis = 0)       |\n",
    "| mean()          | Mesmo que obj.mean(axis = 0)      |\n",
    "| std()           | Mesmo que obj.std(axis = 0)       |\n",
    "| var()           | Mesmo que obj.var(axis = 0)       |\n",
    "| dot()           | Mesmo que obj.dot()               |"
   ]
  },
  {
   "cell_type": "markdown",
   "metadata": {},
   "source": [
    "## Performance\n",
    "\n",
    "| Máis Rápido    | Mais Lento  |\n",
    "| -------------- | ----------- |\n",
    "| Multiplicação  | Potenciação |\n",
    "| Comprehensions | np.append() |\n",
    "| np.Operations  | Operations  |"
   ]
  },
  {
   "cell_type": "markdown",
   "metadata": {},
   "source": [
    "\n",
    "### `np.array()`\n",
    "\n",
    "https://numpy.org/doc/stable/reference/generated/numpy.array.html?highlight=numpy%20array#numpy-array"
   ]
  },
  {
   "cell_type": "code",
   "execution_count": 2,
   "metadata": {},
   "outputs": [
    {
     "name": "stdout",
     "output_type": "stream",
     "text": [
      "[1 2 3 4 5 6]\n",
      "<class 'numpy.ndarray'>\n"
     ]
    }
   ],
   "source": [
    "a = np.array([1,2,3,4,5,6])\n",
    "print(a)\n",
    "print(type(a))"
   ]
  },
  {
   "cell_type": "markdown",
   "metadata": {},
   "source": [
    "### np.zeros()\n",
    "https://numpy.org/doc/stable/reference/generated/numpy.zeros.html"
   ]
  },
  {
   "cell_type": "code",
   "execution_count": 3,
   "metadata": {},
   "outputs": [
    {
     "name": "stdout",
     "output_type": "stream",
     "text": [
      "[[[0. 0. 0. 0. 0. 0.]\n",
      "  [0. 0. 0. 0. 0. 0.]\n",
      "  [0. 0. 0. 0. 0. 0.]]\n",
      "\n",
      " [[0. 0. 0. 0. 0. 0.]\n",
      "  [0. 0. 0. 0. 0. 0.]\n",
      "  [0. 0. 0. 0. 0. 0.]]\n",
      "\n",
      " [[0. 0. 0. 0. 0. 0.]\n",
      "  [0. 0. 0. 0. 0. 0.]\n",
      "  [0. 0. 0. 0. 0. 0.]]\n",
      "\n",
      " [[0. 0. 0. 0. 0. 0.]\n",
      "  [0. 0. 0. 0. 0. 0.]\n",
      "  [0. 0. 0. 0. 0. 0.]]\n",
      "\n",
      " [[0. 0. 0. 0. 0. 0.]\n",
      "  [0. 0. 0. 0. 0. 0.]\n",
      "  [0. 0. 0. 0. 0. 0.]]]\n"
     ]
    }
   ],
   "source": [
    "zero_array = np.zeros(shape = (5,3,6))\n",
    "print(zero_array)"
   ]
  },
  {
   "cell_type": "markdown",
   "metadata": {},
   "source": [
    "### np.ones()\n",
    "https://numpy.org/doc/stable/reference/generated/numpy.ones.html"
   ]
  },
  {
   "cell_type": "code",
   "execution_count": 4,
   "metadata": {},
   "outputs": [
    {
     "name": "stdout",
     "output_type": "stream",
     "text": [
      "[1. 1.]\n"
     ]
    }
   ],
   "source": [
    "um_array = np.ones(2)\n",
    "print(um_array)"
   ]
  },
  {
   "cell_type": "markdown",
   "metadata": {},
   "source": [
    "### no.empty()\n",
    "https://numpy.org/doc/stable/reference/generated/numpy.empty.html"
   ]
  },
  {
   "cell_type": "code",
   "execution_count": 5,
   "metadata": {},
   "outputs": [
    {
     "name": "stdout",
     "output_type": "stream",
     "text": [
      "[1.21540131e-311 0.00000000e+000 9.82395511e+252]\n"
     ]
    }
   ],
   "source": [
    "vazio_array = np.empty(3)\n",
    "print(vazio_array)"
   ]
  },
  {
   "cell_type": "markdown",
   "metadata": {},
   "source": [
    "### np.arange()\n",
    "https://numpy.org/doc/stable/reference/generated/numpy.arange.html"
   ]
  },
  {
   "cell_type": "code",
   "execution_count": 6,
   "metadata": {},
   "outputs": [
    {
     "name": "stdout",
     "output_type": "stream",
     "text": [
      "[0 1 2 3 4 5 6 7 8 9]\n",
      "[ 3  5  7  9 11 13]\n"
     ]
    }
   ],
   "source": [
    "# Dá uma sequência de números:\n",
    "zero_dez = np.arange(10)\n",
    "print(zero_dez)\n",
    "pula_dois = np.arange(3,15,2)\n",
    "print(pula_dois)\n"
   ]
  },
  {
   "cell_type": "markdown",
   "metadata": {},
   "source": [
    "### np.linspace()\n",
    "https://numpy.org/doc/stable/reference/generated/numpy.linspace.html"
   ]
  },
  {
   "cell_type": "code",
   "execution_count": 7,
   "metadata": {},
   "outputs": [
    {
     "name": "stdout",
     "output_type": "stream",
     "text": [
      "(array([ 0.,  5., 10., 15., 20., 25., 30., 35., 40., 45., 50., 55., 60.,\n",
      "       65., 70., 75., 80., 85., 90., 95.]), np.float64(5.0))\n"
     ]
    }
   ],
   "source": [
    "array_linear = np.linspace(0, 100 , num = 20, endpoint = False, retstep = True)\n",
    "print(array_linear)"
   ]
  },
  {
   "cell_type": "markdown",
   "metadata": {},
   "source": [
    "## Descobrindo o tamanho de um array\n",
    "\n",
    "- Número de dimensões : https://numpy.org/doc/stable/reference/generated/numpy.ndarray.ndim.html <br>\n",
    "- Número de items: https://numpy.org/doc/stable/reference/generated/numpy.ndarray.size.html\n",
    "- Formato : https://numpy.org/doc/stable/reference/generated/numpy.ndarray.shape.html\n"
   ]
  },
  {
   "cell_type": "code",
   "execution_count": 8,
   "metadata": {},
   "outputs": [
    {
     "name": "stdout",
     "output_type": "stream",
     "text": [
      "[[[0. 0. 0. 0. 0. 0.]\n",
      "  [0. 0. 0. 0. 0. 0.]\n",
      "  [0. 0. 0. 0. 0. 0.]]\n",
      "\n",
      " [[0. 0. 0. 0. 0. 0.]\n",
      "  [0. 0. 0. 0. 0. 0.]\n",
      "  [0. 0. 0. 0. 0. 0.]]\n",
      "\n",
      " [[0. 0. 0. 0. 0. 0.]\n",
      "  [0. 0. 0. 0. 0. 0.]\n",
      "  [0. 0. 0. 0. 0. 0.]]\n",
      "\n",
      " [[0. 0. 0. 0. 0. 0.]\n",
      "  [0. 0. 0. 0. 0. 0.]\n",
      "  [0. 0. 0. 0. 0. 0.]]\n",
      "\n",
      " [[0. 0. 0. 0. 0. 0.]\n",
      "  [0. 0. 0. 0. 0. 0.]\n",
      "  [0. 0. 0. 0. 0. 0.]]]\n"
     ]
    }
   ],
   "source": [
    "zero_array = np.zeros(shape = (5,3,6))\n",
    "print(zero_array)"
   ]
  },
  {
   "cell_type": "code",
   "execution_count": 9,
   "metadata": {},
   "outputs": [
    {
     "name": "stdout",
     "output_type": "stream",
     "text": [
      "(5, 3, 6)\n",
      "90\n",
      "3\n"
     ]
    }
   ],
   "source": [
    "print(zero_array.shape)\n",
    "print(zero_array.size)\n",
    "print(zero_array.ndim)"
   ]
  },
  {
   "cell_type": "markdown",
   "metadata": {},
   "source": [
    "### Mudando o tamanho de um array\n",
    "\n",
    "https://numpy.org/doc/stable/reference/generated/numpy.reshape.html"
   ]
  },
  {
   "cell_type": "markdown",
   "metadata": {},
   "source": [
    "### Rankeando um array"
   ]
  },
  {
   "cell_type": "markdown",
   "metadata": {},
   "source": [
    "https://numpy.org/doc/stable/reference/generated/numpy.sort.html"
   ]
  },
  {
   "cell_type": "markdown",
   "metadata": {},
   "source": [
    "## Transformando um Vetor (1-D) em uma matrix(2-D)\n",
    ".newaxis:https://numpy.org/doc/stable/reference/constants.html?#numpy.newaxis <br>\n",
    ".expand_dims:https://numpy.org/doc/stable/reference/generated/numpy.expand_dims.html#numpy.expand_dims"
   ]
  },
  {
   "cell_type": "code",
   "execution_count": 10,
   "metadata": {},
   "outputs": [
    {
     "name": "stdout",
     "output_type": "stream",
     "text": [
      "(3,)\n"
     ]
    }
   ],
   "source": [
    "a = np.array( [ 1, 2, 3])\n",
    "print(a.shape)"
   ]
  },
  {
   "cell_type": "code",
   "execution_count": 11,
   "metadata": {},
   "outputs": [
    {
     "name": "stdout",
     "output_type": "stream",
     "text": [
      "(1, 3)\n",
      "[[1 2 3]]\n"
     ]
    }
   ],
   "source": [
    "a2 = a[np.newaxis,:]\n",
    "print(a2.shape)\n",
    "print(a2)"
   ]
  },
  {
   "cell_type": "code",
   "execution_count": 12,
   "metadata": {},
   "outputs": [
    {
     "name": "stdout",
     "output_type": "stream",
     "text": [
      "(3, 1)\n",
      "[[1]\n",
      " [2]\n",
      " [3]]\n"
     ]
    }
   ],
   "source": [
    "a2 = a[:,np.newaxis]\n",
    "print(a2.shape)\n",
    "print(a2)"
   ]
  },
  {
   "cell_type": "code",
   "execution_count": 13,
   "metadata": {},
   "outputs": [
    {
     "name": "stdout",
     "output_type": "stream",
     "text": [
      "[[1]\n",
      " [2]\n",
      " [2]]\n"
     ]
    }
   ],
   "source": [
    "a2[2][0] = 2\n",
    "print(a2)"
   ]
  },
  {
   "cell_type": "markdown",
   "metadata": {},
   "source": [
    "### Concatenando arrays\n",
    "\n",
    "https://numpy.org/doc/stable/reference/generated/numpy.concatenate.html"
   ]
  },
  {
   "cell_type": "code",
   "execution_count": 14,
   "metadata": {},
   "outputs": [
    {
     "name": "stdout",
     "output_type": "stream",
     "text": [
      "[1 2 3 4 5 6]\n",
      "[4 5 6 1 2 3]\n"
     ]
    }
   ],
   "source": [
    "a = np.array( [1, 2, 3])\n",
    "b = np.array( [4, 5, 6])\n",
    "\n",
    "c=np.concatenate((a,b))\n",
    "d=np.concatenate((b,a))\n",
    "\n",
    "print(c)\n",
    "print(d)\n"
   ]
  },
  {
   "cell_type": "markdown",
   "metadata": {},
   "source": [
    "### Consultando itens de uma array\n",
    "\n",
    "https://numpy.org/doc/stable/user/absolute_beginners.html#indexing-and-slicing"
   ]
  },
  {
   "cell_type": "code",
   "execution_count": 15,
   "metadata": {},
   "outputs": [
    {
     "name": "stdout",
     "output_type": "stream",
     "text": [
      "[[ 1  2  3  4]\n",
      " [ 5  6  7  8]\n",
      " [ 9 10 11 12]]\n",
      "------------\n",
      "[1 2 3 4 5 6 7]\n"
     ]
    }
   ],
   "source": [
    "a = np.array([[1 , 2, 3, 4], [5, 6, 7, 8], [9, 10, 11, 12]])\n",
    "print(a)\n",
    "print('------------')\n",
    "print(a[a<8])"
   ]
  },
  {
   "cell_type": "markdown",
   "metadata": {},
   "source": [
    "### Operações com Arrays\n",
    "\n",
    "- Soma: https://numpy.org/doc/stable/reference/generated/numpy.sum.html#numpy.sum\n",
    "- Valor mínimo: https://numpy.org/doc/stable/reference/generated/numpy.ndarray.min.html\n",
    "- Valor máximo: https://numpy.org/doc/stable/reference/generated/numpy.ndarray.max.html\n",
    "- Média: https://numpy.org/doc/stable/reference/generated/numpy.ndarray.mean.html"
   ]
  },
  {
   "cell_type": "code",
   "execution_count": 16,
   "metadata": {},
   "outputs": [
    {
     "name": "stdout",
     "output_type": "stream",
     "text": [
      "3\n",
      "1\n",
      "2.0\n",
      "6\n"
     ]
    }
   ],
   "source": [
    "a = np.array( [1, 2, 3])\n",
    "\n",
    "print(a.max())\n",
    "print(a.min())\n",
    "print(a.mean())\n",
    "print(a.sum())\n"
   ]
  },
  {
   "cell_type": "markdown",
   "metadata": {},
   "source": [
    "### Gerando amostras aleatórias\n"
   ]
  },
  {
   "cell_type": "code",
   "execution_count": 17,
   "metadata": {},
   "outputs": [],
   "source": [
    "from numpy.random import default_rng"
   ]
  },
  {
   "cell_type": "code",
   "execution_count": 18,
   "metadata": {},
   "outputs": [
    {
     "name": "stdout",
     "output_type": "stream",
     "text": [
      "[[1 5 3 7]\n",
      " [4 7 0 8]]\n"
     ]
    }
   ],
   "source": [
    "rng= default_rng()\n",
    "aleatorio = rng.integers(10, size=(2,4))\n",
    "print(aleatorio)"
   ]
  },
  {
   "cell_type": "markdown",
   "metadata": {},
   "source": [
    "## Diferença entre Arrays e Listas"
   ]
  },
  {
   "cell_type": "code",
   "execution_count": 19,
   "metadata": {},
   "outputs": [
    {
     "name": "stdout",
     "output_type": "stream",
     "text": [
      "Essa é o array 'a': [1 3 4 5 6 5 7 8]\n",
      "Esse é tipo de 'a': <class 'numpy.ndarray'>\n",
      "-------------------------------------\n",
      "Essa é a 'lista_a': [1, 3, 4, 5, 6, 5, 7, 8]\n",
      "Esse é tipo de 'lista_a': <class 'list'>\n"
     ]
    }
   ],
   "source": [
    "a = np.array([1,3,4,5,6,5,7,8])\n",
    "print(\"Essa é o array 'a':\",a)\n",
    "print(\"Esse é tipo de 'a':\",type(a))\n",
    "print('-------------------------------------')\n",
    "lista_a=[1,3,4,5,6,5,7,8]\n",
    "print(\"Essa é a 'lista_a':\", lista_a)\n",
    "print(\"Esse é tipo de 'lista_a':\",type(lista_a))"
   ]
  },
  {
   "cell_type": "code",
   "execution_count": 20,
   "metadata": {},
   "outputs": [
    {
     "name": "stdout",
     "output_type": "stream",
     "text": [
      "['1' 'Daniel' '2' '3' '4' '5' '6' '7' '8']\n",
      "<class 'numpy.str_'>\n"
     ]
    }
   ],
   "source": [
    "#arrays não permitem tipos de dados distintos:\n",
    "a = np.array([1,'Daniel',2,3,4,5,6,7,8])\n",
    "print(a)\n",
    "print(type(a[0]))"
   ]
  },
  {
   "cell_type": "code",
   "execution_count": 21,
   "metadata": {},
   "outputs": [
    {
     "name": "stdout",
     "output_type": "stream",
     "text": [
      "['1' 'Daniel' '2' '3' '4' '5' '6' '7' '8']\n",
      "<class 'int'>\n"
     ]
    }
   ],
   "source": [
    "#já as listas sim:\n",
    "lista_a = [1,'Daniel',2,3,4,5,6,7,8]\n",
    "print(a)\n",
    "print(type(lista_a[0]))"
   ]
  },
  {
   "cell_type": "markdown",
   "metadata": {},
   "source": [
    "## Comparando o processamento"
   ]
  },
  {
   "cell_type": "code",
   "execution_count": 29,
   "metadata": {},
   "outputs": [
    {
     "name": "stdout",
     "output_type": "stream",
     "text": [
      "<class 'numpy.ndarray'> [48 90 87 ... 58 44 85]\n",
      "<class 'numpy.ndarray'> [59 49 43 ... 41 75 21]\n",
      "<class 'numpy.ndarray'> [2832 4410 3741 ... 2378 3300 1785]\n"
     ]
    }
   ],
   "source": [
    "from time import process_time\n",
    "\n",
    "lista_a = rng.integers(10, 100, 10000000)\n",
    "print(type(lista_a), lista_a)\n",
    "\n",
    "lista_b = rng.integers(10, 100, 10000000)\n",
    "print(type(lista_b), lista_b)\n",
    "\n",
    "lista_c = lista_a * lista_b\n",
    "print(type(lista_c), lista_c)"
   ]
  },
  {
   "cell_type": "code",
   "execution_count": 30,
   "metadata": {},
   "outputs": [
    {
     "name": "stdout",
     "output_type": "stream",
     "text": [
      "<class 'numpy.ndarray'>\n",
      "10000000\n"
     ]
    }
   ],
   "source": [
    "print(type(lista_a))\n",
    "print(len(lista_a))"
   ]
  },
  {
   "cell_type": "code",
   "execution_count": 31,
   "metadata": {},
   "outputs": [
    {
     "name": "stdout",
     "output_type": "stream",
     "text": [
      "5.234375\n"
     ]
    }
   ],
   "source": [
    "c=[]\n",
    "t1 = process_time()\n",
    "for i in range(len(lista_a)):\n",
    "    c.append(lista_a[i] * lista_b[i])\n",
    "t2 = process_time()\n",
    "\n",
    "print(t2-t1)\n"
   ]
  },
  {
   "cell_type": "code",
   "execution_count": 32,
   "metadata": {},
   "outputs": [
    {
     "name": "stdout",
     "output_type": "stream",
     "text": [
      "<class 'numpy.ndarray'>\n",
      "[79 52 49 ... 38 52 27]\n",
      "0.15625\n"
     ]
    }
   ],
   "source": [
    "a = rng.integers(10, 100, 10000000)\n",
    "b = rng.integers(10, 100, 10000000)\n",
    "print(type(a))\n",
    "print(a)\n",
    "t1a=process_time()\n",
    "c=a*b\n",
    "t2a=process_time()\n",
    "print(t2a-t1a)"
   ]
  },
  {
   "cell_type": "code",
   "execution_count": 33,
   "metadata": {},
   "outputs": [
    {
     "data": {
      "image/png": "[encoded data removed]",
      "text/plain": [
       "<Figure size 640x480 with 1 Axes>"
      ]
     },
     "metadata": {},
     "output_type": "display_data"
    }
   ],
   "source": [
    "import matplotlib.pyplot as plt\n",
    "\n",
    "dados_x = rng.integers(20, size = 30)\n",
    "dados_y = rng.integers(12, size = 30)\n",
    "\n",
    "plt.scatter(x = dados_x, y = dados_y)\n",
    "plt.show()\n"
   ]
  }
 ],
 "metadata": {
  "kernelspec": {
   "display_name": "Python 3",
   "language": "python",
   "name": "python3"
  },
  "language_info": {
   "codemirror_mode": {
    "name": "ipython",
    "version": 3
   },
   "file_extension": ".py",
   "mimetype": "text/x-python",
   "name": "python",
   "nbconvert_exporter": "python",
   "pygments_lexer": "ipython3",
   "version": "3.10.11"
  }
 },
 "nbformat": 4,
 "nbformat_minor": 2
}
