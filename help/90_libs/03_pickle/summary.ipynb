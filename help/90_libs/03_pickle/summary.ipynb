{
 "cells": [
  {
   "cell_type": "markdown",
   "metadata": {},
   "source": [
    "# `pickle`\n",
    "\n",
    "O módulo `pickle` do Python permite **serializar** e **desserializar** objetos Python, ou seja, converter objetos em bytes para armazenamento ou transmissão e restaurá-los depois.  \n",
    "\n",
    "## O que é Serialização (Pickling) e Desserialização (Unpickling)?\n",
    "\n",
    "- **Serialização** (Pickling) → Converte um objeto Python em uma sequência de bytes para ser armazenado ou transmitido.  \n",
    "- **Desserialização** (Unpickling) → Converte essa sequência de bytes de volta no objeto original.  \n",
    "\n",
    "Isso é útil para armazenar estados de objetos, trocar dados entre programas e salvar sessões.  \n"
   ]
  },
  {
   "cell_type": "code",
   "execution_count": 8,
   "metadata": {},
   "outputs": [],
   "source": [
    "import os\n",
    "import pickle\n",
    "\n",
    "file=\"dados.pkl\"\n",
    "dados = {\"nome\": \"Alice\", \"idade\": 30, \"cidade\": \"São Paulo\"}"
   ]
  },
  {
   "cell_type": "code",
   "execution_count": 4,
   "metadata": {},
   "outputs": [
    {
     "name": "stdout",
     "output_type": "stream",
     "text": [
      "Dados salvos com sucesso!\n"
     ]
    }
   ],
   "source": [
    "# Salvando em um arquivo\n",
    "with open(file, \"wb\") as f:\n",
    "    pickle.dump(dados, f)\n",
    "\n",
    "print(\"Dados salvos com sucesso!\")\n",
    "\n",
    "# - `wb` → Modo **write binary**, necessário para arquivos `pickle`.  \n",
    "# - `pickle.dump(objeto, arquivo)` → Serializa e salva no arquivo.  "
   ]
  },
  {
   "cell_type": "code",
   "execution_count": 5,
   "metadata": {},
   "outputs": [
    {
     "name": "stdout",
     "output_type": "stream",
     "text": [
      "Dados recuperados: {'nome': 'Alice', 'idade': 30, 'cidade': 'São Paulo'}\n"
     ]
    }
   ],
   "source": [
    "# Lendo do arquivo\n",
    "dados_carregados={}\n",
    "if os.path.exists(file):\n",
    "    with open(file, \"rb\") as f:\n",
    "        dados_carregados=pickle.load(f)\n",
    "print(\"Dados recuperados:\", dados_carregados)\n",
    "\n",
    "# - `rb` → **Read binary**, para ler arquivos `pickle`.  \n",
    "# - `pickle.load(arquivo)` → Recupera o objeto original.  "
   ]
  },
  {
   "cell_type": "code",
   "execution_count": 9,
   "metadata": {},
   "outputs": [
    {
     "name": "stdout",
     "output_type": "stream",
     "text": [
      "['banana', 'maçã', 'uva']\n"
     ]
    }
   ],
   "source": [
    "# Serializa para bytes\n",
    "dados_serializados = pickle.dumps(\n",
    "    [\"banana\", \"maçã\", \"uva\"]\n",
    ")\n",
    "\n",
    "# Desserializa\n",
    "print(pickle.loads(dados_serializados))\n",
    "\n",
    "# - `pickle.dumps(objeto)` → Retorna os dados serializados como `bytes`.\n",
    "# - `pickle.loads(bytes_serializados)` → Recupera os dados a partir dos bytes."
   ]
  },
  {
   "cell_type": "markdown",
   "metadata": {},
   "source": [
    "## O Que Pode e o Que Não Pode Ser Serializado?\n",
    "\n",
    "✅ **O que pode ser serializado?**:\n",
    "\n",
    "- Tipos básicos: `int`, `float`, `str`, `list`, `tuple`, `dict`, `set`.  \n",
    "- Objetos de classes definidas pelo usuário (com restrições).  \n",
    "\n",
    "❌ **O que não pode ser serializado?**:\n",
    "\n",
    "- **Arquivos abertos** (`open(\"arquivo.txt\")`).  \n",
    "- **Sockets, conexões de banco de dados** e outros objetos do sistema.  \n",
    "- **Funções e classes** (salvo com módulos extras).  "
   ]
  },
  {
   "cell_type": "code",
   "execution_count": 10,
   "metadata": {},
   "outputs": [
    {
     "ename": "TypeError",
     "evalue": "cannot pickle '_io.TextIOWrapper' object",
     "output_type": "error",
     "traceback": [
      "\u001b[1;31m---------------------------------------------------------------------------\u001b[0m",
      "\u001b[1;31mTypeError\u001b[0m                                 Traceback (most recent call last)",
      "Cell \u001b[1;32mIn[10], line 4\u001b[0m\n\u001b[0;32m      1\u001b[0m f \u001b[38;5;241m=\u001b[39m \u001b[38;5;28mopen\u001b[39m(\u001b[38;5;124m\"\u001b[39m\u001b[38;5;124mmeuarquivo.txt\u001b[39m\u001b[38;5;124m\"\u001b[39m, \u001b[38;5;124m\"\u001b[39m\u001b[38;5;124mw\u001b[39m\u001b[38;5;124m\"\u001b[39m)\n\u001b[0;32m      3\u001b[0m \u001b[38;5;28;01mwith\u001b[39;00m \u001b[38;5;28mopen\u001b[39m(\u001b[38;5;124m\"\u001b[39m\u001b[38;5;124mdados.pkl\u001b[39m\u001b[38;5;124m\"\u001b[39m, \u001b[38;5;124m\"\u001b[39m\u001b[38;5;124mwb\u001b[39m\u001b[38;5;124m\"\u001b[39m) \u001b[38;5;28;01mas\u001b[39;00m arq:\n\u001b[1;32m----> 4\u001b[0m     \u001b[43mpickle\u001b[49m\u001b[38;5;241;43m.\u001b[39;49m\u001b[43mdump\u001b[49m\u001b[43m(\u001b[49m\u001b[43mf\u001b[49m\u001b[43m,\u001b[49m\u001b[43m \u001b[49m\u001b[43marq\u001b[49m\u001b[43m)\u001b[49m  \u001b[38;5;66;03m# Gera erro: TypeError: cannot pickle '_io.TextIOWrapper' object\u001b[39;00m\n",
      "\u001b[1;31mTypeError\u001b[0m: cannot pickle '_io.TextIOWrapper' object"
     ]
    }
   ],
   "source": [
    "f = open(\"meuarquivo.txt\", \"w\")\n",
    "\n",
    "with open(\"dados.pkl\", \"wb\") as arq:\n",
    "    pickle.dump(f, arq)  # Gera erro: TypeError: cannot pickle '_io.TextIOWrapper' object"
   ]
  },
  {
   "cell_type": "markdown",
   "metadata": {},
   "source": [
    "## Serializando Objetos de Classes Próprias\n",
    "\n",
    "Se você tiver uma classe personalizada, pode serializar/deserializar objetos dela:\n"
   ]
  },
  {
   "cell_type": "code",
   "execution_count": 13,
   "metadata": {},
   "outputs": [
    {
     "name": "stdout",
     "output_type": "stream",
     "text": [
      "Nome: Carlos, Idade: 25\n"
     ]
    }
   ],
   "source": [
    "class Pessoa:\n",
    "    def __init__(self, nome, idade):\n",
    "        self.nome = nome\n",
    "        self.idade = idade\n",
    "\n",
    "pessoa = Pessoa(\"Carlos\", 25)\n",
    "\n",
    "# Serializar objeto\n",
    "with open(\"pessoa.pkl\", \"wb\") as f:\n",
    "    pickle.dump(pessoa, f)\n",
    "\n",
    "# Desserializar objeto\n",
    "with open(\"pessoa.pkl\", \"rb\") as f:\n",
    "    pessoa_carregada = pickle.load(f)\n",
    "\n",
    "print(f\"Nome: {pessoa_carregada.nome}, Idade: {pessoa_carregada.idade}\")\n",
    "\n",
    "# - 📌 **Isso funciona porque `pickle` salva o estado do objeto e não sua implementação**.  \n",
    "# - ⚠️ **Se o código da classe mudar depois de salvar, pode haver problemas ao recarregar**.  \n"
   ]
  },
  {
   "cell_type": "markdown",
   "metadata": {},
   "source": [
    "## Evitando Ataques de Segurança\n",
    "\n",
    "O `pickle` **NÃO É SEGURO** para carregar arquivos de fontes desconhecidas. \n",
    "\n",
    "Um atacante pode injetar código malicioso que será executado ao desserializar.\n"
   ]
  },
  {
   "cell_type": "code",
   "execution_count": null,
   "metadata": {},
   "outputs": [
    {
     "name": "stdout",
     "output_type": "stream",
     "text": [
      "0\n"
     ]
    }
   ],
   "source": [
    "class Ataque:\n",
    "    def __reduce__(self):\n",
    "        return (os.system, (\"echo HACKED!\",))  # Executa comando no sistema\n",
    "\n",
    "\n",
    "# Criando um objeto malicioso\n",
    "exploit = pickle.dumps(Ataque())\n",
    "\n",
    "# Salvando o exploit\n",
    "with open(\"exploit.pkl\", \"wb\") as f:\n",
    "    f.write(exploit)\n",
    "\n",
    "# Carregando o exploit (simula um ataque)\n",
    "with open(\"exploit.pkl\", \"rb\") as f:\n",
    "    hacker_carregada = pickle.load(f)  # Isso executa \"echo HACKED!\" no sistema\n",
    "print(hacker_carregada)"
   ]
  },
  {
   "cell_type": "markdown",
   "metadata": {},
   "source": [
    "### Como evitar?\n",
    "\n",
    "Se precisar carregar `pickle` de fontes externas, use o **módulo `pickle.load()` com `restricting` (`safe_load`)** ou prefira `json` para dados simples.  \n"
   ]
  },
  {
   "cell_type": "markdown",
   "metadata": {},
   "source": [
    "## Alternativas ao Pickle\n",
    "\n",
    "| Alternativa | Quando Usar?                         | Prós                    | Contras                             |\n",
    "| ----------- | ------------------------------------ | ----------------------- | ----------------------------------- |\n",
    "| `json`      | Estruturas simples (`dict`, `list`)  | Leve e seguro           | Não salva classes/objetos complexos |\n",
    "| `shelve`    | Armazenar múltiplos objetos em disco | Simples e prático       | Baseado em `pickle`, não seguro     |\n",
    "| `msgpack`   | Alternativa binária ao `json`        | Mais eficiente que JSON | Menos compatível                    |\n",
    "\n",
    "## Resumo\n",
    "\n",
    "- ✔ **`pickle` é útil para armazenar objetos Python complexos**.  \n",
    "- ✔ **Usado para salvar estados, cache e comunicação entre processos**.  \n",
    "- ❌ **Não deve ser usado para carregar dados de fontes não confiáveis**.  \n",
    "- 💡 **Para dados simples, `json` pode ser uma alternativa melhor**.  \n"
   ]
  }
 ],
 "metadata": {
  "kernelspec": {
   "display_name": "Python 3",
   "language": "python",
   "name": "python3"
  },
  "language_info": {
   "codemirror_mode": {
    "name": "ipython",
    "version": 3
   },
   "file_extension": ".py",
   "mimetype": "text/x-python",
   "name": "python",
   "nbconvert_exporter": "python",
   "pygments_lexer": "ipython3",
   "version": "3.10.11"
  }
 },
 "nbformat": 4,
 "nbformat_minor": 2
}
