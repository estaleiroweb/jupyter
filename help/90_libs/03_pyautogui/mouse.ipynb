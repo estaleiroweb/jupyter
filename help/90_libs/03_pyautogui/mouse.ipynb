{
 "cells": [
  {
   "cell_type": "code",
   "execution_count": 1,
   "metadata": {},
   "outputs": [
    {
     "name": "stdout",
     "output_type": "stream",
     "text": [
      "Requirement already satisfied: pyautogui in c:\\program files\\python37\\lib\\site-packages (0.9.53)\n",
      "Requirement already satisfied: pymsgbox in c:\\program files\\python37\\lib\\site-packages (from pyautogui) (1.0.9)\n",
      "Requirement already satisfied: PyTweening>=1.0.1 in c:\\program files\\python37\\lib\\site-packages (from pyautogui) (1.0.4)\n",
      "Requirement already satisfied: pyscreeze>=0.1.21 in c:\\program files\\python37\\lib\\site-packages (from pyautogui) (0.1.28)\n",
      "Requirement already satisfied: pygetwindow>=0.0.5 in c:\\program files\\python37\\lib\\site-packages (from pyautogui) (0.0.9)\n",
      "Requirement already satisfied: mouseinfo in c:\\program files\\python37\\lib\\site-packages (from pyautogui) (0.1.3)\n",
      "Requirement already satisfied: pyrect in c:\\program files\\python37\\lib\\site-packages (from pygetwindow>=0.0.5->pyautogui) (0.2.0)\n",
      "Requirement already satisfied: Pillow>=5.2.0 in c:\\program files\\python37\\lib\\site-packages (from pyscreeze>=0.1.21->pyautogui) (9.2.0)\n",
      "Requirement already satisfied: pyperclip in c:\\program files\\python37\\lib\\site-packages (from mouseinfo->pyautogui) (1.8.2)\n",
      "Note: you may need to restart the kernel to use updated packages.\n"
     ]
    }
   ],
   "source": [
    "#%pip install pyautogui"
   ]
  },
  {
   "cell_type": "code",
   "execution_count": 1,
   "metadata": {},
   "outputs": [],
   "source": [
    "import pyautogui"
   ]
  },
  {
   "cell_type": "code",
   "execution_count": 2,
   "metadata": {},
   "outputs": [
    {
     "data": {
      "text/plain": [
       "[Size(width=1920, height=1080), Point(x=2794, y=703)]"
      ]
     },
     "execution_count": 2,
     "metadata": {},
     "output_type": "execute_result"
    }
   ],
   "source": [
    "[pyautogui.size(),pyautogui.position()]"
   ]
  },
  {
   "cell_type": "code",
   "execution_count": 24,
   "metadata": {},
   "outputs": [
    {
     "data": {
      "text/plain": [
       "[True, False, True]"
      ]
     },
     "execution_count": 24,
     "metadata": {},
     "output_type": "execute_result"
    }
   ],
   "source": [
    "[\n",
    "    pyautogui.onScreen(0, 0),\n",
    "    pyautogui.onScreen(0, 9999),\n",
    "    pyautogui.onScreen(1919, 1079)\n",
    "]"
   ]
  },
  {
   "cell_type": "code",
   "execution_count": 35,
   "metadata": {},
   "outputs": [],
   "source": [
    "# pyautogui.moveTo(x, y, duration=num_seconds)  # move mouse to XY coordinates over num_second seconds\n",
    "# pyautogui.moveRel(xOffset, yOffset, duration=num_seconds)  # move mouse relative to its current position\n",
    "pyautogui.moveTo(100, 200)  # moves mouse to X of 100, Y of 200.\n",
    "pyautogui.move(0, 500)  # moves mouse to X of 100, Y of 500.\n",
    "pyautogui.move(600, 0)  # moves mouse to X of 600, Y of 500.\n",
    "pyautogui.move(-30, 0)  # move the mouse left 30 pixels.\n"
   ]
  },
  {
   "cell_type": "code",
   "execution_count": null,
   "metadata": {},
   "outputs": [],
   "source": [
    "# pyautogui.dragTo(x, y, duration=num_seconds)  # drag mouse to XY\n",
    "# pyautogui.dragRel(xOffset, yOffset, duration=num_seconds)  # drag mouse relative to its current position\n",
    "pyautogui.moveTo(100, 200, 2)  #  2 seconds\n",
    "pyautogui.dragTo(200, 300, button='left')\n",
    "pyautogui.dragTo(300, 400, 2, button='left')#  2 seconds"
   ]
  },
  {
   "cell_type": "code",
   "execution_count": 42,
   "metadata": {},
   "outputs": [],
   "source": [
    "# start slow, end fast\n",
    "pyautogui.moveTo(1, 1)\n",
    "pyautogui.moveTo(100, 100, 2, pyautogui.easeInQuad)"
   ]
  },
  {
   "cell_type": "code",
   "execution_count": 43,
   "metadata": {},
   "outputs": [],
   "source": [
    "# start fast, end slow\n",
    "pyautogui.moveTo(1, 1)\n",
    "pyautogui.moveTo(100, 100, 2, pyautogui.easeOutQuad)"
   ]
  },
  {
   "cell_type": "code",
   "execution_count": 44,
   "metadata": {},
   "outputs": [],
   "source": [
    "# start and end fast, slow in middle\n",
    "pyautogui.moveTo(1, 1)\n",
    "pyautogui.moveTo(100, 100, 2, pyautogui.easeInOutQuad)"
   ]
  },
  {
   "cell_type": "code",
   "execution_count": 45,
   "metadata": {},
   "outputs": [],
   "source": [
    "# bounce at the end\n",
    "pyautogui.moveTo(1, 1)\n",
    "pyautogui.moveTo(100, 100, 2, pyautogui.easeInBounce)"
   ]
  },
  {
   "cell_type": "code",
   "execution_count": 56,
   "metadata": {},
   "outputs": [],
   "source": [
    "# rubber band at the end\n",
    "pyautogui.moveTo(720, 600)\n",
    "pyautogui.moveTo(100, 100, 2, pyautogui.easeInElastic)"
   ]
  },
  {
   "cell_type": "code",
   "execution_count": 57,
   "metadata": {},
   "outputs": [],
   "source": [
    "# pyautogui.click(x=moveToX, y=moveToY, clicks=num_of_clicks, interval=secs_between_clicks, button='left')\n",
    "pyautogui.click()  # click the mouse\n",
    "pyautogui.click(x=100, y=200)  # move to 100, 200, then click the left mouse button.\n",
    "pyautogui.click(button='right')  # right-click the mouse\n",
    "# pyautogui.rightClick(x=moveToX, y=moveToY)\n",
    "# pyautogui.middleClick(x=moveToX, y=moveToY)\n",
    "# pyautogui.doubleClick(x=moveToX, y=moveToY)\n",
    "# pyautogui.tripleClick(x=moveToX, y=moveToY)"
   ]
  },
  {
   "cell_type": "code",
   "execution_count": null,
   "metadata": {},
   "outputs": [],
   "source": [
    "pyautogui.mouseDown(); pyautogui.mouseUp()  # does the same thing as a left-button mouse click\n",
    "pyautogui.mouseDown(button='right')  # press the right button down\n",
    "pyautogui.mouseUp(button='right', x=100, y=200)  # move the mouse to 100, 200, then release the right button up."
   ]
  },
  {
   "cell_type": "code",
   "execution_count": null,
   "metadata": {},
   "outputs": [],
   "source": [
    "# pyautogui.scroll(amount_to_scroll, x=moveToX, y=moveToY)\n",
    "pyautogui.scroll(10)   # scroll up 10 \"clicks\"\n",
    "pyautogui.scroll(-10)  # scroll down 10 \"clicks\"\n",
    "pyautogui.scroll(10, x=100, y=100)  # move mouse cursor to 100, 200, then scroll up 10 \"clicks\"\n",
    "\n",
    "pyautogui.hscroll(10)   # scroll right 10 \"clicks\"\n",
    "pyautogui.hscroll(-10)   # scroll left 10 \"clicks\""
   ]
  }
 ],
 "metadata": {
  "kernelspec": {
   "display_name": "Python 3.7.4rc1 64-bit",
   "language": "python",
   "name": "python3"
  },
  "language_info": {
   "codemirror_mode": {
    "name": "ipython",
    "version": 3
   },
   "file_extension": ".py",
   "mimetype": "text/x-python",
   "name": "python",
   "nbconvert_exporter": "python",
   "pygments_lexer": "ipython3",
   "version": "3.7.4rc1"
  },
  "orig_nbformat": 4,
  "vscode": {
   "interpreter": {
    "hash": "5109d816b82be14675a6b11f8e0f0d2e80f029176ed3710d54e125caa8520dfd"
   }
  }
 },
 "nbformat": 4,
 "nbformat_minor": 2
}
