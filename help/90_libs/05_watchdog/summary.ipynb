{
 "cells": [
  {
   "cell_type": "markdown",
   "metadata": {},
   "source": [
    "# Watchdog\n",
    "\n",
    "O `watchdog` é uma biblioteca do Python usada para monitorar alterações em arquivos e diretórios. Ele detecta eventos como criação, modificação, movimentação e exclusão de arquivos em tempo real, permitindo que ações sejam disparadas automaticamente.\n"
   ]
  },
  {
   "cell_type": "markdown",
   "metadata": {},
   "source": [
    "## Instalação\n",
    "\n",
    "Antes de usar o `watchdog`, você precisa instalá-lo:"
   ]
  },
  {
   "cell_type": "code",
   "execution_count": 1,
   "metadata": {},
   "outputs": [
    {
     "name": "stdout",
     "output_type": "stream",
     "text": [
      "Collecting watchdog\n",
      "  Downloading watchdog-6.0.0-py3-none-win_amd64.whl.metadata (44 kB)\n",
      "Downloading watchdog-6.0.0-py3-none-win_amd64.whl (79 kB)\n",
      "Installing collected packages: watchdog\n",
      "Successfully installed watchdog-6.0.0\n",
      "Note: you may need to restart the kernel to use updated packages.\n"
     ]
    },
    {
     "name": "stderr",
     "output_type": "stream",
     "text": [
      "\n",
      "[notice] A new release of pip is available: 24.3.1 -> 25.0.1\n",
      "[notice] To update, run: python.exe -m pip install --upgrade pip\n"
     ]
    }
   ],
   "source": [
    "%pip install watchdog"
   ]
  },
  {
   "cell_type": "markdown",
   "metadata": {},
   "source": [
    "## Principais Componentes\n",
    "\n",
    "O `watchdog` possui os seguintes componentes principais:\n",
    "\n",
    "1. **EventHandler (Manipulador de Eventos)**:\n",
    "   - Define ações personalizadas ao detectar eventos.\n",
    "   \n",
    "2. **Observer**:\n",
    "   - Monitora diretórios e envia eventos para o `EventHandler`.\n",
    "\n",
    "3. **Eventos Monitoráveis**:\n",
    "   - `on_created(event)`: Arquivo ou diretório criado.\n",
    "   - `on_modified(event)`: Arquivo ou diretório modificado.\n",
    "   - `on_deleted(event)`: Arquivo ou diretório excluído.\n",
    "   - `on_moved(event)`: Arquivo ou diretório movido."
   ]
  },
  {
   "cell_type": "markdown",
   "metadata": {},
   "source": [
    "## Exemplo Simples: Monitorando um Diretório\n",
    "\n",
    "Aqui está um código que monitora um diretório e dispara ações ao detectar mudanças:"
   ]
  },
  {
   "cell_type": "code",
   "execution_count": 7,
   "metadata": {},
   "outputs": [
    {
     "ename": "NameError",
     "evalue": "name '__file__' is not defined",
     "output_type": "error",
     "traceback": [
      "\u001b[1;31m---------------------------------------------------------------------------\u001b[0m",
      "\u001b[1;31mNameError\u001b[0m                                 Traceback (most recent call last)",
      "Cell \u001b[1;32mIn[7], line 1\u001b[0m\n\u001b[1;32m----> 1\u001b[0m \u001b[38;5;28mprint\u001b[39m(\u001b[38;5;124mf\u001b[39m\u001b[38;5;124m\"\u001b[39m\u001b[38;5;124mArquivo atual é: \u001b[39m\u001b[38;5;132;01m{\u001b[39;00m\u001b[38;5;18;43m__file__\u001b[39;49m\u001b[38;5;132;01m}\u001b[39;00m\u001b[38;5;124m\"\u001b[39m)\n",
      "\u001b[1;31mNameError\u001b[0m: name '__file__' is not defined"
     ]
    }
   ],
   "source": [
    "print(f\"Arquivo atual é: {__file__}\")\n"
   ]
  },
  {
   "cell_type": "code",
   "execution_count": 6,
   "metadata": {},
   "outputs": [
    {
     "ename": "NameError",
     "evalue": "name '__file__' is not defined",
     "output_type": "error",
     "traceback": [
      "\u001b[1;31m---------------------------------------------------------------------------\u001b[0m",
      "\u001b[1;31mNameError\u001b[0m                                 Traceback (most recent call last)",
      "Cell \u001b[1;32mIn[6], line 6\u001b[0m\n\u001b[0;32m      1\u001b[0m \u001b[38;5;66;03m# import os\u001b[39;00m\n\u001b[0;32m      2\u001b[0m \u001b[38;5;66;03m# import time\u001b[39;00m\n\u001b[0;32m      3\u001b[0m \u001b[38;5;66;03m# from watchdog.observers import Observer\u001b[39;00m\n\u001b[0;32m      4\u001b[0m \u001b[38;5;66;03m# from watchdog.events import FileSystemEventHandler\u001b[39;00m\n\u001b[1;32m----> 6\u001b[0m \u001b[38;5;28mprint\u001b[39m(\u001b[38;5;124mf\u001b[39m\u001b[38;5;124m\"\u001b[39m\u001b[38;5;124mArquivo atual é: \u001b[39m\u001b[38;5;132;01m{\u001b[39;00m\u001b[38;5;18;43m__file__\u001b[39;49m\u001b[38;5;132;01m}\u001b[39;00m\u001b[38;5;124m\"\u001b[39m)\n\u001b[0;32m      8\u001b[0m \u001b[38;5;66;03m# pasta_atual = os.path.dirname(os.path.abspath(__file__))\u001b[39;00m\n\u001b[0;32m      9\u001b[0m \u001b[38;5;66;03m# print(f\"A pasta do script atual é: {pasta_atual}\")\u001b[39;00m\n\u001b[0;32m     10\u001b[0m \u001b[38;5;66;03m# quit()\u001b[39;00m\n\u001b[0;32m     12\u001b[0m \u001b[38;5;124;03m\"\"\"\u001b[39;00m\n\u001b[0;32m     13\u001b[0m \u001b[38;5;124;03mclass MonitorHandler(FileSystemEventHandler):\u001b[39;00m\n\u001b[0;32m     14\u001b[0m \u001b[38;5;124;03m    def on_created(self, event):\u001b[39;00m\n\u001b[1;32m   (...)\u001b[0m\n\u001b[0;32m     39\u001b[0m \u001b[38;5;124;03m    observer.join()\u001b[39;00m\n\u001b[0;32m     40\u001b[0m \u001b[38;5;124;03m\"\"\"\u001b[39;00m\n",
      "\u001b[1;31mNameError\u001b[0m: name '__file__' is not defined"
     ]
    }
   ],
   "source": [
    "# import os\n",
    "# import time\n",
    "# from watchdog.observers import Observer\n",
    "# from watchdog.events import FileSystemEventHandler\n",
    "\n",
    "print(f\"Arquivo atual é: {__file__}\")\n",
    "\n",
    "# pasta_atual = os.path.dirname(os.path.abspath(__file__))\n",
    "# print(f\"A pasta do script atual é: {pasta_atual}\")\n",
    "# quit()\n",
    "\n",
    "\"\"\"\n",
    "class MonitorHandler(FileSystemEventHandler):\n",
    "    def on_created(self, event):\n",
    "        print(f\"Arquivo criado: {event.src_path}\")\n",
    "\n",
    "    def on_modified(self, event):\n",
    "        print(f\"Arquivo modificado: {event.src_path}\")\n",
    "\n",
    "    def on_deleted(self, event):\n",
    "        print(f\"Arquivo deletado: {event.src_path}\")\n",
    "\n",
    "    def on_moved(self, event):\n",
    "        print(f\"Arquivo movido: {event.src_path} -> {event.dest_path}\")\n",
    "\n",
    "\n",
    "if __name__ == \"__main__\":\n",
    "    caminho = \"/caminho/para/monitorar\"  # Altere para o diretório desejado\n",
    "    event_handler = MonitorHandler()\n",
    "    observer = Observer()\n",
    "    observer.schedule(event_handler, caminho, recursive=True)\n",
    "\n",
    "    observer.start()\n",
    "    try:\n",
    "        while True:\n",
    "            time.sleep(1)\n",
    "    except KeyboardInterrupt:\n",
    "        observer.stop()\n",
    "    observer.join()\n",
    "\"\"\""
   ]
  },
  {
   "cell_type": "markdown",
   "metadata": {},
   "source": [
    "### Explicação do Código\n",
    "\n",
    "1. **Criamos uma classe `MonitorHandler` que herda `FileSystemEventHandler`.**  \n",
    "   - Implementamos métodos para lidar com criação, modificação, exclusão e movimentação de arquivos.\n",
    "   \n",
    "2. **Instanciamos um `Observer` e associamos ao diretório alvo.**  \n",
    "   - O `schedule()` define o diretório a ser monitorado e se a verificação será recursiva.\n",
    "\n",
    "3. **O `observer.start()` inicia a escuta.**  \n",
    "   - O código entra em um loop infinito (`while True`) para continuar monitorando.\n",
    "   - Se o usuário interromper (`CTRL + C`), o `observer.stop()` finaliza o processo."
   ]
  },
  {
   "cell_type": "markdown",
   "metadata": {},
   "source": [
    "## Exemplo Avançado: Monitorando e Executando um Script\n",
    "\n",
    "Este código executa um comando sempre que um arquivo for modificado:"
   ]
  },
  {
   "cell_type": "code",
   "execution_count": null,
   "metadata": {},
   "outputs": [],
   "source": [
    "import subprocess\n",
    "import time\n",
    "from watchdog.observers import Observer\n",
    "from watchdog.events import FileSystemEventHandler\n",
    "\n",
    "class ScriptHandler(FileSystemEventHandler):\n",
    "    def on_modified(self, event):\n",
    "        if event.is_directory:\n",
    "            return\n",
    "        print(f\"Modificação detectada: {event.src_path}\")\n",
    "        subprocess.run([\"python3\", \"script_a_ser_executado.py\"])\n",
    "\n",
    "if __name__ == \"__main__\":\n",
    "    caminho = \"/caminho/monitorado\"\n",
    "    event_handler = ScriptHandler()\n",
    "    observer = Observer()\n",
    "    observer.schedule(event_handler, caminho, recursive=False)\n",
    "    \n",
    "    observer.start()\n",
    "    try:\n",
    "        while True:\n",
    "            time.sleep(1)\n",
    "    except KeyboardInterrupt:\n",
    "        observer.stop()\n",
    "    observer.join()"
   ]
  },
  {
   "cell_type": "markdown",
   "metadata": {},
   "source": [
    "## Aplicações do `watchdog`\n",
    "\n",
    "- **Monitoramento de logs em tempo real.**\n",
    "- **Execução automática de testes ou scripts quando um arquivo é alterado.**\n",
    "- **Sincronização automática de arquivos.**\n",
    "- **Monitoramento de uploads e downloads em diretórios específicos.**\n",
    "- **Automação de tarefas em servidores.**\n",
    "\n",
    "## Conclusão\n",
    "\n",
    "O `watchdog` é uma excelente ferramenta para automação e monitoramento de arquivos. Ele permite reagir dinamicamente a mudanças no sistema de arquivos, ideal para scripts administrativos e processos contínuos."
   ]
  }
 ],
 "metadata": {
  "kernelspec": {
   "display_name": "Python 3",
   "language": "python",
   "name": "python3"
  },
  "language_info": {
   "codemirror_mode": {
    "name": "ipython",
    "version": 3
   },
   "file_extension": ".py",
   "mimetype": "text/x-python",
   "name": "python",
   "nbconvert_exporter": "python",
   "pygments_lexer": "ipython3",
   "version": "3.12.4"
  }
 },
 "nbformat": 4,
 "nbformat_minor": 2
}
