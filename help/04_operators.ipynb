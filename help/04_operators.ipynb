{
 "cells": [
  {
   "cell_type": "markdown",
   "metadata": {},
   "source": [
    "# Operadores\n",
    "\n",
    "| Type       | Operator | Name                         | Example               | Same as    |\n",
    "| ---------- | -------- | ---------------------------- | --------------------- | ---------- |\n",
    "| Arithmetic | +        | Addition                     | x + y                 |            |\n",
    "| Arithmetic | -        | Subtraction                  | x - y                 |            |\n",
    "| Arithmetic | *        | Multiplication               | x * y                 |            |\n",
    "| Arithmetic | /        | Division                     | x / y                 |            |\n",
    "| Arithmetic | %        | Rest                         | x % y                 |            |\n",
    "| Arithmetic | **       | Exponentiation               | x ** y                |            |\n",
    "| Arithmetic | **       | Radiciação                   | x ** (1/y)            |            |\n",
    "| Arithmetic | //       | Floor division               | x // y                |            |\n",
    "| Assignment | =        | Attrib                       | x = 5                 | x = 5      |\n",
    "| Assignment | +=       | Increment                    | x += 3                | x = x + 3  |\n",
    "| Assignment | -=       | Decrement                    | x -= 3                | x = x - 3  |\n",
    "| Assignment | *=       | Self Multiplication          | x *= 3                | x = x * 3  |\n",
    "| Assignment | /=       | Self Division                | x /= 3                | x = x / 3  |\n",
    "| Assignment | %=       | Self Rest                    | x %= 3                | x = x % 3  |\n",
    "| Assignment | **=      | Self Exponentiation          | x **= 3               | x = x ** 3 |\n",
    "| Assignment | //=      | Self Floor division          | x //= 3               | x = x // 3 |\n",
    "| Assignment | &=       | Self Bitwise AND             | x &= 3                | x = x & 3  |\n",
    "| Assignment | \\|=      | Self Bitwise OR              | x \\|= 3               | x = x \\| 3 |\n",
    "| Assignment | ^=       | Self Bitwise XOR             | x ^= 3                | x = x ^ 3  |\n",
    "| Assignment | >>=      | Self Bitwise left shift      | x >>= 3               | x = x >> 3 |\n",
    "| Assignment | <<=      | Self Bitwise right shift     | x <<= 3               | x = x << 3 |\n",
    "| Comparison | ==       | Equal                        | x == y                |            |\n",
    "| Comparison | !=       | Not equal                    | x != y                |            |\n",
    "| Comparison | >        | Greater than                 | x > y                 |            |\n",
    "| Comparison | <        | Less than                    | x < y                 |            |\n",
    "| Comparison | >=       | Greater than or equal to     | x >= y                |            |\n",
    "| Comparison | <=       | Less than or equal to        | x <= y                |            |\n",
    "| Logical    | and      | and                          | x < 5 and  x < 10     |            |\n",
    "| Logical    | or       | or                           | x < 5 or x < 4        |            |\n",
    "| Logical    | not      | not                          | not(x < 5 and x < 10) |            |\n",
    "| Identity   | is       | Same object                  | x is y                |            |\n",
    "| Identity   | is not   | Not same object              | x is not y            |            |\n",
    "| Membership | in       | Is present in the object     | x in (1,2,3,'abcd')               |            |\n",
    "| Membership | not in   | Is not present in the object | x not in y            |            |\n",
    "| Bitwise    | &        | AND                          | x &  y                |            |\n",
    "| Bitwise    | \\|       | OR                           | x \\|  y               |            |\n",
    "| Bitwise    | ^        | XOR                          | x ^  y                |            |\n",
    "| Bitwise    | ~        | NOT                          | ~x                    |            |\n",
    "| Bitwise    | <<       | Zero fill left shift         | x << y                |            |\n",
    "| Bitwise    | >>       | Signed right shift           | x >> y                |            |\n",
    "\n",
    "## Precedência de Operadores\n",
    "\n",
    "1. Parênteses\n",
    "2. Potenciação\n",
    "3. Multiplicação e Divisão\n",
    "4. Soma e Subtração"
   ]
  },
  {
   "cell_type": "markdown",
   "metadata": {},
   "source": [
    "Ex: $\\sqrt[3]{27}$ ou $27^{\\frac{1}{3}}$\n"
   ]
  },
  {
   "cell_type": "code",
   "execution_count": 1,
   "metadata": {},
   "outputs": [
    {
     "data": {
      "text/plain": [
       "3.0"
      ]
     },
     "execution_count": 1,
     "metadata": {},
     "output_type": "execute_result"
    }
   ],
   "source": [
    "27 ** (1/3)"
   ]
  }
 ],
 "metadata": {
  "kernelspec": {
   "display_name": "Python 3.7.4rc1 64-bit",
   "language": "python",
   "name": "python3"
  },
  "language_info": {
   "codemirror_mode": {
    "name": "ipython",
    "version": 3
   },
   "file_extension": ".py",
   "mimetype": "text/x-python",
   "name": "python",
   "nbconvert_exporter": "python",
   "pygments_lexer": "ipython3",
   "version": "3.9.7"
  },
  "orig_nbformat": 4,
  "vscode": {
   "interpreter": {
    "hash": "5109d816b82be14675a6b11f8e0f0d2e80f029176ed3710d54e125caa8520dfd"
   }
  }
 },
 "nbformat": 4,
 "nbformat_minor": 2
}
