{
 "cells": [
  {
   "cell_type": "markdown",
   "metadata": {},
   "source": [
    "# Convenção PEP8\n",
    "\n",
    "<https://peps.python.org/pep-0008/>"
   ]
  },
  {
   "cell_type": "markdown",
   "metadata": {},
   "source": [
    "- Importações \n",
    "  - em linhas separadas \n",
    "  - ordem: bibliotecas padrão, bibliotecas de terceiros e módulos locais\n",
    "  - Evite from module import *\n",
    "- Indentação: Usar apenas 4 espaços por nível\n",
    "- Comprimento das Linhas:\n",
    "  - de código: <=79 caracteres\n",
    "  - de comentários e docstrings: <=72 caracteres\n",
    "- Quebra de Linhas\n",
    "  - para continuar linhas longas: barra invertida (\\)\n",
    "  - devem ocorrer após operadores binários (ex: +, -, *, etc.)\n",
    "- Linhas em Branco entre\n",
    "  - Definições de Funções e Classes: 2 linhas em branco\n",
    "  - Blocos de Código dentro de Funções: 1 linha em branco\n",
    "- Espaços em Branco em Expressões e Instruções\n",
    "  - Evite espaços dentro de parênteses, colchetes ou chaves \"() [] {}\"\n",
    "  - Não use espaços antes de uma vírgula, ponto e vírgula ou dois pontos \", ; :\"\n",
    "  - Coloque um espaço ao redor de operadores (ex: a = b + c).\n",
    "- Docstrings\n",
    "  - Use aspas triplas para docstrings \"\"\" ... \"\"\"\n",
    "  - Resuma o propósito da função ou classe na primeira linha\n",
    "- Comentários\n",
    "  - Use # seguido de um espaço para comentários em linha\n",
    "  - para explicar \"por que\" e não \"o que\"\n",
    "  - devem ser completos e concisos\n",
    "- Convenções de Codificação\n",
    "  - Use o padrão UTF-8 para arquivos de código fonte.\n",
    "  - Defina explicitamente o encoding no início do arquivo se não for usar UTF-8: # -*- coding: <encoding-name> -*-\n",
    "- Nomes de Variáveis, Funções e Classes\n",
    "  - nomes significativos que expliquem a utilidade/representatividade\n",
    "  - evite nomes muito longos.\n",
    "  - não use palavras-chave(palavras reservadas) ou nomes de funções\n",
    "\n",
    "  | Elemento   | Padrão      | Exemplo                       |\n",
    "  | ---------- | ----------- | ----------------------------- |\n",
    "  | Variáveis  | Snake Case  | `lower_case_with_underscores` |\n",
    "  | Funções    | Snake Case  | `lower_case_with_underscores` |\n",
    "  | Classes    | Pascal Case | `CapitalizedWords`            |\n",
    "  | Exceções   | Pascal Case | `CapitalizedWords`            |\n",
    "  | Constantes | Upper Case  | `ALL_CAPS_WITH_UNDERSCORES`   |"
   ]
  },
  {
   "cell_type": "markdown",
   "metadata": {},
   "source": [
    "## Glossário\n",
    "\n",
    "- Camel Case: myVariableName\n",
    "- Pascal Case: MyVariableName\n",
    "- Snake Case: my_variable_name\n",
    "- Kebab Case: my-variable-name\n",
    "- Upper Kebab Case: MY-VARIABLE-NAME\n"
   ]
  }
 ],
 "metadata": {
  "kernelspec": {
   "display_name": "Python 3.7.4rc1 64-bit",
   "language": "python",
   "name": "python3"
  },
  "language_info": {
   "codemirror_mode": {
    "name": "ipython",
    "version": 3
   },
   "file_extension": ".py",
   "mimetype": "text/x-python",
   "name": "python",
   "nbconvert_exporter": "python",
   "pygments_lexer": "ipython3",
   "version": "3.7.4"
  },
  "orig_nbformat": 4,
  "vscode": {
   "interpreter": {
    "hash": "5109d816b82be14675a6b11f8e0f0d2e80f029176ed3710d54e125caa8520dfd"
   }
  }
 },
 "nbformat": 4,
 "nbformat_minor": 2
}
