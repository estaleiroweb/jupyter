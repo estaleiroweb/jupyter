{
 "cells": [
  {
   "cell_type": "markdown",
   "metadata": {},
   "source": [
    "# STD (Stamdard) and CLI (Command Line Interface)"
   ]
  },
  {
   "cell_type": "markdown",
   "metadata": {},
   "source": [
    "## `print()` → Saída de Dados no Terminal\n",
    "\n",
    "O `print()` exibe mensagens no terminal.  "
   ]
  },
  {
   "cell_type": "code",
   "execution_count": null,
   "metadata": {},
   "outputs": [],
   "source": [
    "nome='Fulano'\n",
    "\n",
    "print(\"Olá, Mundo!\")\n",
    "print(\"Nome:\", nome)  # Exibe várias informações separadas por espaço\n",
    "print(\"Python\", \"é\", \"legal\", sep=\"-\")  # Define separador personalizado\n",
    "\n",
    "# Parâmetros úteis\n",
    "print(\"Texto sem nova linha\", end=\" \")  # Impede a quebra de linha\n",
    "print(\"Continua na mesma linha\")"
   ]
  },
  {
   "cell_type": "markdown",
   "metadata": {},
   "source": [
    "## `input()` → Entrada de Dados do Usuário\n",
    "\n",
    "A função `input()` permite que o usuário digite um valor no terminal.\n",
    "\n",
    "🔹 **Sempre retorna uma string**, então pode ser necessário converter para outro tipo:  \n"
   ]
  },
  {
   "cell_type": "code",
   "execution_count": null,
   "metadata": {},
   "outputs": [],
   "source": [
    "nome = input(\"Digite seu nome: \")\n",
    "print(f\"Olá, {nome}!\")\n",
    "\n",
    "idade = int(input(\"Digite sua idade: \"))  # Converte para inteiro\n",
    "altura = float(input(\"Digite sua altura: \"))  # Converte para float"
   ]
  },
  {
   "cell_type": "markdown",
   "metadata": {},
   "source": [
    "## `sys.stdin` e `sys.stdout` → Entrada e Saída Padrão\n",
    "\n",
    "Para leitura e escrita diretamente na entrada e saída padrão:"
   ]
  },
  {
   "cell_type": "code",
   "execution_count": null,
   "metadata": {},
   "outputs": [],
   "source": [
    "import sys\n",
    "\n",
    "nome = sys.stdin.readline().strip()  # Lê uma linha do terminal\n",
    "sys.stdout.write(f\"Olá, {nome}\\n\")  # Exibe no terminal sem adicionar espaço extra"
   ]
  },
  {
   "cell_type": "markdown",
   "metadata": {},
   "source": [
    "## `getpass.getpass()` → Entrada Segura (Oculta Senha)\n",
    "\n",
    "Quando precisar esconder a entrada do usuário (como senhas), use `getpass()`:\n",
    "\n",
    "🔹 **Evita exibir a senha no terminal.**\n"
   ]
  },
  {
   "cell_type": "code",
   "execution_count": null,
   "metadata": {},
   "outputs": [],
   "source": [
    "import getpass\n",
    "\n",
    "senha = getpass.getpass(\"Digite sua senha: \")\n",
    "print(\"Senha recebida com sucesso!\")"
   ]
  },
  {
   "cell_type": "markdown",
   "metadata": {},
   "source": [
    "## `argparse` → Argumentos de Linha de Comando (CLI)\n",
    "\n",
    "O módulo `argparse` permite criar scripts que aceitam **parâmetros via linha de comando**:"
   ]
  },
  {
   "cell_type": "code",
   "execution_count": null,
   "metadata": {},
   "outputs": [],
   "source": [
    "import argparse\n",
    "\n",
    "parser = argparse.ArgumentParser(description=\"Exemplo de argparse\")\n",
    "parser.add_argument(\"--nome\", type=str, help=\"Seu nome\")\n",
    "args = parser.parse_args()\n",
    "\n",
    "print(f\"Olá, {args.nome}!\")\n",
    "\n",
    "# Executando no terminal: python script.py --nome João\n",
    "# Saída: Olá, João!"
   ]
  },
  {
   "cell_type": "markdown",
   "metadata": {},
   "source": [
    "## `click` → Criação de CLI de Forma Simples\n",
    "\n",
    "O `click` facilita a criação de **interfaces de linha de comando** mais elaboradas:\n",
    "\n",
    "O click suporta vários tipos de dados:\n",
    "\n",
    "| Tipo  | Exemplo                                |\n",
    "| ----- | -------------------------------------- |\n",
    "| str   | @click.argument(\"nome\", type=str)      |\n",
    "| int   | @click.option(\"--idade\", type=int)     |\n",
    "| float | @click.option(\"--altura\", type=float)  |\n",
    "| bool  | @click.option(\"--debug\", is_flag=True) |\n",
    "\n",
    "Resumo:\n",
    "\n",
    "| Função                        | Descrição                       |\n",
    "| ----------------------------- | ------------------------------- |\n",
    "| `@click.command()`            | Define um comando CLI           |\n",
    "| `@click.option()`             | Adiciona opções ao comando      |\n",
    "| `@click.argument()`           | Define argumentos obrigatórios  |\n",
    "| `@click.group()`              | Cria grupos de comandos         |\n",
    "| `click.secho()`               | Imprime texto colorido          |\n",
    "| `click.confirmation_option()` | Solicita confirmação do usuário |\n",
    "| `click.prompt()`              | Lê entrada do usuário           |\n",
    "| `click.progressbar()`         | Exibe uma barra de progresso    |\n"
   ]
  },
  {
   "cell_type": "code",
   "execution_count": null,
   "metadata": {},
   "outputs": [],
   "source": [
    "import click\n",
    "\n",
    "@click.command()\n",
    "@click.option(\"--nome\", prompt=\"Digite seu nome\", help=\"Seu nome\")\n",
    "def saudacao(nome):\n",
    "    click.echo(f\"Olá, {nome}!\")\n",
    "\n",
    "if __name__ == \"__main__\":\n",
    "    saudacao()\n",
    "\n",
    "# Execução no terminal: python script.py\n"
   ]
  }
 ],
 "metadata": {
  "kernelspec": {
   "display_name": "Python 3",
   "language": "python",
   "name": "python3"
  },
  "language_info": {
   "codemirror_mode": {
    "name": "ipython",
    "version": 3
   },
   "file_extension": ".py",
   "mimetype": "text/x-python",
   "name": "python",
   "nbconvert_exporter": "python",
   "pygments_lexer": "ipython3",
   "version": "3.10.11"
  }
 },
 "nbformat": 4,
 "nbformat_minor": 2
}
