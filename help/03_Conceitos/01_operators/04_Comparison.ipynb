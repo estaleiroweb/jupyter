{
 "cells": [
  {
   "cell_type": "markdown",
   "metadata": {},
   "source": [
    "# Operadores Comparação\n",
    "\n",
    "| Type       | Operator | Name                         | Example               | Same as    |\n",
    "| ---------- | -------- | ---------------------------- | --------------------- | ---------- |\n",
    "| Comparison | ==       | Equal                        | x == y                |            |\n",
    "| Comparison | !=       | Not equal                    | x != y                |            |\n",
    "| Comparison | >        | Greater than                 | x > y                 |            |\n",
    "| Comparison | <        | Less than                    | x < y                 |            |\n",
    "| Comparison | >=       | Greater than or equal to     | x >= y                |            |\n",
    "| Comparison | <=       | Less than or equal to        | x <= y                |            |\n"
   ]
  },
  {
   "cell_type": "code",
   "execution_count": 14,
   "metadata": {},
   "outputs": [
    {
     "name": "stdout",
     "output_type": "stream",
     "text": [
      "   x,y ➡️ 5 , 5\n",
      "x == y ➡️ True\n",
      "x != y ➡️ False\n",
      " x > y ➡️ False\n",
      " x < y ➡️ False\n",
      "x >= y ➡️ True\n",
      "x <= y ➡️ True\n",
      "--------------------\n",
      "   x,y ➡️ 5 , 4\n",
      "x == y ➡️ False\n",
      "x != y ➡️ True\n",
      " x > y ➡️ True\n",
      " x < y ➡️ False\n",
      "x >= y ➡️ True\n",
      "x <= y ➡️ False\n",
      "--------------------\n"
     ]
    }
   ],
   "source": [
    "def show(x, y):\n",
    "    print('   x,y ➡️', x, ',', y)\n",
    "    print('x == y ➡️', x == y)\n",
    "    print('x != y ➡️', x != y)\n",
    "    print(' x > y ➡️', x > y)\n",
    "    print(' x < y ➡️', x < y)\n",
    "    print('x >= y ➡️', x >= y)\n",
    "    print('x <= y ➡️', x <= y)\n",
    "    print('-'*20)\n",
    "\n",
    "\n",
    "show(5, 5)\n",
    "show(5, 4)"
   ]
  }
 ],
 "metadata": {
  "kernelspec": {
   "display_name": "Python 3",
   "language": "python",
   "name": "python3"
  },
  "language_info": {
   "codemirror_mode": {
    "name": "ipython",
    "version": 3
   },
   "file_extension": ".py",
   "mimetype": "text/x-python",
   "name": "python",
   "nbconvert_exporter": "python",
   "pygments_lexer": "ipython3",
   "version": "3.10.11"
  },
  "orig_nbformat": 4
 },
 "nbformat": 4,
 "nbformat_minor": 2
}
