{
 "cells": [
  {
   "cell_type": "markdown",
   "metadata": {},
   "source": [
    "# Operadores Lógicos\n",
    "\n",
    "| Type       | Operator | Name                         | Example               | Same as    |\n",
    "| ---------- | -------- | ---------------------------- | --------------------- | ---------- |\n",
    "| Logical    | and      | and                          | x < 5 and  x < 10     |            |\n",
    "| Logical    | or       | or                           | x < 5 or x < 4        |            |\n",
    "| Logical    | not      | not                          | not(x < 5 and x < 10) |            |\n"
   ]
  },
  {
   "cell_type": "code",
   "execution_count": 4,
   "metadata": {},
   "outputs": [
    {
     "name": "stdout",
     "output_type": "stream",
     "text": [
      "    x,y ➡️ True , True\n",
      "x and y ➡️ True\n",
      " x or y ➡️ True\n",
      "  not x ➡️ True\n",
      "  not y ➡️ True\n",
      "------------------------------\n",
      "    x,y ➡️ True , False\n",
      "x and y ➡️ False\n",
      " x or y ➡️ True\n",
      "  not x ➡️ True\n",
      "  not y ➡️ False\n",
      "------------------------------\n"
     ]
    }
   ],
   "source": [
    "def show(x, y):\n",
    "    print('    x,y ➡️', x, ',', y)\n",
    "    print('x and y ➡️', x and y)\n",
    "    print(' x or y ➡️', x or y)\n",
    "    print('  not x ➡️', x)\n",
    "    print('  not y ➡️', y)\n",
    "    print('-'*30)\n",
    "show(True, True)\n",
    "show(True, False)\n"
   ]
  }
 ],
 "metadata": {
  "kernelspec": {
   "display_name": "Python 3",
   "language": "python",
   "name": "python3"
  },
  "language_info": {
   "codemirror_mode": {
    "name": "ipython",
    "version": 3
   },
   "file_extension": ".py",
   "mimetype": "text/x-python",
   "name": "python",
   "nbconvert_exporter": "python",
   "pygments_lexer": "ipython3",
   "version": "3.10.11"
  },
  "orig_nbformat": 4
 },
 "nbformat": 4,
 "nbformat_minor": 2
}
