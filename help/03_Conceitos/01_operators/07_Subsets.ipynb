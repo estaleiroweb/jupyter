{
 "cells": [
  {
   "cell_type": "markdown",
   "metadata": {},
   "source": [
    "# Sub Conjuntos (subsets)\n",
    "\n",
    "| Type       | Operator | Name                         | Example               | Same as    |\n",
    "| ---------- | -------- | ---------------------------- | --------------------- | ---------- |\n",
    "| Identity   | is       | Same object                  | x is y                |            |\n",
    "| Identity   | is not   | Not same object              | x is not y            |            |\n",
    "| Membership | in       | Is present in the object     | x in (1,2,3,'abcd')   |            |\n",
    "| Membership | not in   | Is not present in the object | x not in y            |            |\n"
   ]
  },
  {
   "cell_type": "code",
   "execution_count": 1,
   "metadata": {},
   "outputs": [],
   "source": [
    "def b(text, x):\n",
    "    print(f'{text:>10} ➡️ {x}')"
   ]
  },
  {
   "cell_type": "code",
   "execution_count": 6,
   "metadata": {},
   "outputs": [
    {
     "name": "stdout",
     "output_type": "stream",
     "text": [
      "         x ➡️ 5\n",
      "         y ➡️ 1\n",
      "    x is y ➡️ False\n",
      "x is not y ➡️ True\n",
      "----------------------------------------\n",
      "         x ➡️ 5\n",
      "         y ➡️ 1\n",
      "    x is y ➡️ False\n",
      "x is not y ➡️ True\n",
      "----------------------------------------\n",
      "         x ➡️ 5\n",
      "         y ➡️ 5\n",
      "    x is y ➡️ True\n",
      "x is not y ➡️ False\n",
      "----------------------------------------\n"
     ]
    }
   ],
   "source": [
    "def show_is(x, y):\n",
    "    b('x', x)\n",
    "    b('y', y)\n",
    "    b('x is y', x is y)\n",
    "    b('x is not y', x is not y)\n",
    "    print('-'*40)\n",
    "\n",
    "show_is(5, '1')\n",
    "show_is(5, 1)\n",
    "show_is(5, 5)"
   ]
  },
  {
   "cell_type": "code",
   "execution_count": 9,
   "metadata": {},
   "outputs": [
    {
     "name": "stdout",
     "output_type": "stream",
     "text": [
      "         x ➡️ 5\n",
      "         y ➡️ (1, 2, 3)\n",
      "    x in y ➡️ False\n",
      "x not in y ➡️ True\n",
      "----------------------------------------\n",
      "         x ➡️ 5\n",
      "         y ➡️ (1, 5, 3)\n",
      "    x in y ➡️ True\n",
      "x not in y ➡️ False\n",
      "----------------------------------------\n",
      "         x ➡️ c\n",
      "         y ➡️ {'a': 1, 'b': 2, 'c': 3}\n",
      "    x in y ➡️ True\n",
      "x not in y ➡️ False\n",
      "----------------------------------------\n",
      "         x ➡️ d\n",
      "         y ➡️ {'a': 1, 'b': 2, 'c': 3}\n",
      "    x in y ➡️ False\n",
      "x not in y ➡️ True\n",
      "----------------------------------------\n"
     ]
    }
   ],
   "source": [
    "def show_in(x, y):\n",
    "    b('x', x)\n",
    "    b('y', y)\n",
    "    b('x in y', x in y)\n",
    "    b('x not in y', x not in y)\n",
    "    print('-'*40)\n",
    "\n",
    "show_in(5, (1,2,3))\n",
    "show_in(5, (1,5,3))\n",
    "show_in('c', {'a':1,'b':2,'c':3})\n",
    "show_in('d', {'a':1,'b':2,'c':3})"
   ]
  }
 ],
 "metadata": {
  "kernelspec": {
   "display_name": "Python 3",
   "language": "python",
   "name": "python3"
  },
  "language_info": {
   "codemirror_mode": {
    "name": "ipython",
    "version": 3
   },
   "file_extension": ".py",
   "mimetype": "text/x-python",
   "name": "python",
   "nbconvert_exporter": "python",
   "pygments_lexer": "ipython3",
   "version": "3.10.11"
  },
  "orig_nbformat": 4
 },
 "nbformat": 4,
 "nbformat_minor": 2
}
