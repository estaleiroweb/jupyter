{
 "cells": [
  {
   "cell_type": "markdown",
   "metadata": {},
   "source": [
    "# Operadores Aritiméticos\n",
    "\n",
    "| Type       | Operator | Name                         | Example               |\n",
    "| ---------- | -------- | ---------------------------- | --------------------- |\n",
    "| Arithmetic | +        | Addition                     | x + y                 |\n",
    "| Arithmetic | -        | Subtraction                  | x - y                 |\n",
    "| Arithmetic | *        | Multiplication               | x * y                 |\n",
    "| Arithmetic | /        | Division                     | x / y                 |\n",
    "| Arithmetic | %        | Rest                         | x % y                 |\n",
    "| Arithmetic | **       | Exponentiation               | x ** y                |\n",
    "| Arithmetic | **       | Radiciação                   | x ** (1/y)            |\n",
    "| Arithmetic | //       | Floor division               | x // y                |\n"
   ]
  },
  {
   "cell_type": "code",
   "execution_count": 6,
   "metadata": {},
   "outputs": [
    {
     "name": "stdout",
     "output_type": "stream",
     "text": [
      "       x,y  ➡️  2 , 3\n",
      "     x + y  ➡️  5\n",
      "     x - y  ➡️  -1\n",
      "     x * y  ➡️  6\n",
      "     x / y  ➡️  0.6666666666666666\n",
      "     x % y  ➡️  2\n",
      "    x ** y  ➡️  8\n",
      "x ** (1/y)  ➡️  1.2599210498948732\n",
      "    x // y  ➡️  0\n",
      "----------------------------------------\n"
     ]
    }
   ],
   "source": [
    "def show(x, y):\n",
    "    print('       x,y  ➡️ ', x, ',', y)\n",
    "    print('     x + y  ➡️ ', x + y)\n",
    "    print('     x - y  ➡️ ', x - y)\n",
    "    print('     x * y  ➡️ ', x * y)\n",
    "    print('     x / y  ➡️ ', x / y)\n",
    "    print('     x % y  ➡️ ', x % y)\n",
    "    print('    x ** y  ➡️ ', x ** y)\n",
    "    print('x ** (1/y)  ➡️ ', x ** (1/y))\n",
    "    print('    x // y  ➡️ ', x // y)\n",
    "    print('-'*40)\n",
    "\n",
    "\n",
    "show(2, 3)"
   ]
  }
 ],
 "metadata": {
  "kernelspec": {
   "display_name": "Python 3",
   "language": "python",
   "name": "python3"
  },
  "language_info": {
   "codemirror_mode": {
    "name": "ipython",
    "version": 3
   },
   "file_extension": ".py",
   "mimetype": "text/x-python",
   "name": "python",
   "nbconvert_exporter": "python",
   "pygments_lexer": "ipython3",
   "version": "3.10.11"
  },
  "orig_nbformat": 4
 },
 "nbformat": 4,
 "nbformat_minor": 2
}
