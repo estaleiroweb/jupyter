{
 "cells": [
  {
   "cell_type": "markdown",
   "metadata": {},
   "source": [
    "# Operadores Binário\n",
    "\n",
    "| Type       | Operator | Name                         | Example               | Same as    |\n",
    "| ---------- | -------- | ---------------------------- | --------------------- | ---------- |\n",
    "| Bitwise    | &        | AND                          | x &  y                |            |\n",
    "| Bitwise    | \\|       | OR                           | x \\|  y               |            |\n",
    "| Bitwise    | ^        | XOR                          | x ^  y                |            |\n",
    "| Bitwise    | ~        | NOT                          | ~x                    |            |\n",
    "| Bitwise    | <<       | Zero fill left shift         | x << y                |            |\n",
    "| Bitwise    | >>       | Signed right shift           | x >> y                |            |\n",
    "| Assignment | &=       | Self Bitwise AND             | x &= 3                | x = x & 3  |\n",
    "| Assignment | \\|=      | Self Bitwise OR              | x \\|= 3               | x = x \\| 3 |\n",
    "| Assignment | ^=       | Self Bitwise XOR             | x ^= 3                | x = x ^ 3  |\n",
    "| Assignment | >>=      | Self Bitwise left shift      | x >>= 3               | x = x >> 3 |\n",
    "| Assignment | <<=      | Self Bitwise right shift     | x <<= 3               | x = x << 3 |"
   ]
  },
  {
   "cell_type": "code",
   "execution_count": 19,
   "metadata": {},
   "outputs": [],
   "source": [
    "def b(text, x):\n",
    "    b = int(bin(x).replace('0b', ''))  # sem '0b\n",
    "    print(f'{text:>10} ➡️ {b:016d} = {x}')"
   ]
  },
  {
   "cell_type": "code",
   "execution_count": 20,
   "metadata": {},
   "outputs": [
    {
     "name": "stdout",
     "output_type": "stream",
     "text": [
      "         x ➡️ 0000000000000101 = 5\n",
      "         y ➡️ 0000000000000001 = 1\n",
      "     x & y ➡️ 0000000000000001 = 1\n",
      "     x | y ➡️ 0000000000000101 = 5\n",
      "     x ^ y ➡️ 0000000000000100 = 4\n",
      "        ~x ➡️ -000000000000110 = -6\n",
      "    x << y ➡️ 0000000000001010 = 10\n",
      "    x >> y ➡️ 0000000000000010 = 2\n",
      "----------------------------------------\n"
     ]
    }
   ],
   "source": [
    "def show(x, y):\n",
    "    b('x', x)\n",
    "    b('y', y)\n",
    "    b('x & y', x & y)\n",
    "    b('x | y', x | y)\n",
    "    b('x ^ y', x ^ y)\n",
    "    b('~x', ~x)\n",
    "    b('x << y', x << y)\n",
    "    b('x >> y', x >> y)\n",
    "    print('-'*40)\n",
    "\n",
    "show(5, 1)"
   ]
  },
  {
   "cell_type": "code",
   "execution_count": 25,
   "metadata": {},
   "outputs": [
    {
     "name": "stdout",
     "output_type": "stream",
     "text": [
      "         x ➡️ 0000000000001000 = 8\n",
      "         y ➡️ 0000000000000010 = 2\n",
      "    x &= 2 ➡️ 0000000000000000 = 0\n",
      "    x |= 2 ➡️ 0000000000000010 = 2\n",
      "   x <<= 2 ➡️ 0000000000001000 = 8\n",
      "   x >>= 2 ➡️ 0000000000000010 = 2\n",
      "    x ^= 2 ➡️ 0000000000000000 = 0\n",
      "----------------------------------------\n"
     ]
    }
   ],
   "source": [
    "def show(x, y):\n",
    "    b('x', x)\n",
    "    b('y', y)\n",
    "    x &= y\n",
    "    b(f'x &= {y}', x)\n",
    "    x |= y\n",
    "    b(f'x |= {y}', x)\n",
    "    x <<= y\n",
    "    b(f'x <<= {y}', x)\n",
    "    x >>= y\n",
    "    b(f'x >>= {y}', x)\n",
    "    x ^= y\n",
    "    b(f'x ^= {y}', x)\n",
    "    print('-'*40)\n",
    "\n",
    "\n",
    "show(8, 2)"
   ]
  }
 ],
 "metadata": {
  "kernelspec": {
   "display_name": "Python 3",
   "language": "python",
   "name": "python3"
  },
  "language_info": {
   "codemirror_mode": {
    "name": "ipython",
    "version": 3
   },
   "file_extension": ".py",
   "mimetype": "text/x-python",
   "name": "python",
   "nbconvert_exporter": "python",
   "pygments_lexer": "ipython3",
   "version": "3.10.11"
  },
  "orig_nbformat": 4
 },
 "nbformat": 4,
 "nbformat_minor": 2
}
