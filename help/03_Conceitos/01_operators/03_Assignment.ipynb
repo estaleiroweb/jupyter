{
 "cells": [
  {
   "cell_type": "markdown",
   "metadata": {},
   "source": [
    "# Operadores Atribuição\n",
    "\n",
    "| Type       | Operator | Name                         | Example               | Same as    |\n",
    "| ---------- | -------- | ---------------------------- | --------------------- | ---------- |\n",
    "| Assignment | =        | Attrib                       | x = 5                 | x = 5      |\n",
    "| Assignment | +=       | Increment                    | x += 3                | x = x + 3  |\n",
    "| Assignment | -=       | Decrement                    | x -= 3                | x = x - 3  |\n",
    "| Assignment | *=       | Self Multiplication          | x *= 3                | x = x * 3  |\n",
    "| Assignment | /=       | Self Division                | x /= 3                | x = x / 3  |\n",
    "| Assignment | %=       | Self Rest                    | x %= 3                | x = x % 3  |\n",
    "| Assignment | **=      | Self Exponentiation          | x **= 3               | x = x ** 3 |\n",
    "| Assignment | //=      | Self Floor division          | x //= 3               | x = x // 3 |\n",
    "\n"
   ]
  },
  {
   "cell_type": "code",
   "execution_count": 9,
   "metadata": {},
   "outputs": [
    {
     "name": "stdout",
     "output_type": "stream",
     "text": [
      "  x=5 ➡️ x = 5\n",
      " x+=3 ➡️ x = 8\n",
      " x-=3 ➡️ x = 5\n",
      " x*=3 ➡️ x = 15\n",
      " x/=3 ➡️ x = 5.0\n",
      " x%=3 ➡️ x = 2.0\n",
      "x**=3 ➡️ x = 8.0\n",
      "x//=3 ➡️ x = 2.0\n",
      "--------------------\n"
     ]
    }
   ],
   "source": [
    "def show(x, y):\n",
    "    print(f'  x={x} ➡️ x =', x)\n",
    "    x += y\n",
    "    print(f' x+={y} ➡️ x =', x)\n",
    "    x -= y\n",
    "    print(f' x-={y} ➡️ x =', x)\n",
    "    x *= y\n",
    "    print(f' x*={y} ➡️ x =', x)\n",
    "    x /= y\n",
    "    print(f' x/={y} ➡️ x =', x)\n",
    "    x %= y\n",
    "    print(f' x%={y} ➡️ x =', x)\n",
    "    x **= y\n",
    "    print(f'x**={y} ➡️ x =', x)\n",
    "    x //= y\n",
    "    print(f'x//={y} ➡️ x =', x)\n",
    "    print('-'*20)\n",
    "\n",
    "\n",
    "show(5, 3)"
   ]
  }
 ],
 "metadata": {
  "kernelspec": {
   "display_name": "Python 3",
   "language": "python",
   "name": "python3"
  },
  "language_info": {
   "codemirror_mode": {
    "name": "ipython",
    "version": 3
   },
   "file_extension": ".py",
   "mimetype": "text/x-python",
   "name": "python",
   "nbconvert_exporter": "python",
   "pygments_lexer": "ipython3",
   "version": "3.10.11"
  },
  "orig_nbformat": 4
 },
 "nbformat": 4,
 "nbformat_minor": 2
}
