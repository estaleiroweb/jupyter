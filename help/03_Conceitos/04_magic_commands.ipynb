{
 "cells": [
  {
   "cell_type": "markdown",
   "metadata": {},
   "source": [
    "# Comandos Mágicos\n",
    "\n",
    "<https://ipython.readthedocs.io/en/stable/interactive/magics.html>"
   ]
  },
  {
   "cell_type": "markdown",
   "metadata": {},
   "source": [
    "## Júpiter\n",
    "\n",
    "%timeit <command>: Performance\n",
    "%matplotlib inline: Plot graphs"
   ]
  },
  {
   "cell_type": "code",
   "execution_count": 11,
   "metadata": {},
   "outputs": [
    {
     "name": "stdout",
     "output_type": "stream",
     "text": [
      "SHELL echo prins: <xpto abc>\n",
      "Python string\n",
      "string\n"
     ]
    }
   ],
   "source": [
    "%alias nome_cmd echo \"SHELL echo prins: <%l>\"\n",
    "%nome_cmd xpto abc\n",
    "\n",
    "%alias sh_cmd echo\n",
    "PATH='Python string'\n",
    "%sh_cmd $PATH\n",
    "%sh_cmd $${PATH}"
   ]
  }
 ],
 "metadata": {
  "kernelspec": {
   "display_name": "base",
   "language": "python",
   "name": "python3"
  },
  "language_info": {
   "codemirror_mode": {
    "name": "ipython",
    "version": 3
   },
   "file_extension": ".py",
   "mimetype": "text/x-python",
   "name": "python",
   "nbconvert_exporter": "python",
   "pygments_lexer": "ipython3",
   "version": "3.9.7"
  }
 },
 "nbformat": 4,
 "nbformat_minor": 2
}
