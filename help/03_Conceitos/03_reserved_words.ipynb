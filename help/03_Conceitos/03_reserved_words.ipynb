{
 "cells": [
  {
   "cell_type": "markdown",
   "metadata": {},
   "source": [
    "# Palavras Reservadas"
   ]
  },
  {
   "cell_type": "markdown",
   "metadata": {},
   "source": [
    "and\tas\tassert\tbreak\tclass\tcontinue\n",
    "def\tdel\telif\telse\texcept\texec\n",
    "finally\tfor\tfrom\tglobal\tif\timport\n",
    "in\tis\tlambda\tnonlocal\tnot\tor\n",
    "pass\traise\treturn\ttry\twhile\twith\n",
    "yield\tTrue\tFalse\tNone"
   ]
  },
  {
   "cell_type": "markdown",
   "metadata": {},
   "source": [
    "```python\n",
    "len(list|tuple|set|dict|str|int|float)       #               return lenght of element\n",
    "value=call(obj,'method')\n",
    "func = getattr(obj, 'method')\n",
    "func()\n",
    "value=getattr(obj, 'attribute')     # obj.attribute\n",
    "setattr(obj, 'attribute', 'value')  # obj.attribute = 'value'\n",
    "delattr(obj, 'attribute')           # del obj.attribute\n",
    "\n",
    "locals()                                                                  returns a dictionary with the current local symbol table\n",
    "globals()                                                                 returns a dictionary with the global symbol table\n",
    "locals()[\"myfunction_myClass\"]                                            returns a function or class as lambda\n",
    "globals()[\"myfunction_myClass\"]                                           returns a function or class as lambda\n",
    "locals()[\"myfunction_myClass\"](parameter)                                 returns a function or class object passing parameter\n",
    "globals()[\"myfunction_myClass\"](parameter)                                returns a function or class object passing parameter\n",
    "getattr(\n",
    "\tlocals().get(\"foo\") or globals().get(\"foo\") or __import__(\"foo\"), \n",
    "\t\"bar\"\n",
    ")()\n",
    "getattr(\n",
    "\tnext((\n",
    "\t\tx for x in (\n",
    "\t\t\tf(\"foo\") for f in [locals().get, globals().get, self.__dict__.get, __import__]\n",
    "\t\t) if x\n",
    "\t)),\n",
    "\t\"bar\"\n",
    ")()\n",
    "```"
   ]
  }
 ],
 "metadata": {
  "kernelspec": {
   "display_name": "Python 3.7.4rc1 64-bit",
   "language": "python",
   "name": "python3"
  },
  "language_info": {
   "codemirror_mode": {
    "name": "ipython",
    "version": 3
   },
   "file_extension": ".py",
   "mimetype": "text/x-python",
   "name": "python",
   "nbconvert_exporter": "python",
   "pygments_lexer": "ipython3",
   "version": "3.7.4"
  },
  "orig_nbformat": 4,
  "vscode": {
   "interpreter": {
    "hash": "5109d816b82be14675a6b11f8e0f0d2e80f029176ed3710d54e125caa8520dfd"
   }
  }
 },
 "nbformat": 4,
 "nbformat_minor": 2
}
