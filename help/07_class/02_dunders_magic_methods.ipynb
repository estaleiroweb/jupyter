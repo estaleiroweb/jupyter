{
 "cells": [
  {
   "cell_type": "markdown",
   "metadata": {},
   "source": [
    "# Dunders em Classes (Magic methods)\n",
    "\n",
    "Os **métodos mágicos** (ou **dunder methods**) são métodos especiais que começam e terminam com **dois underscores** (`__`). Eles são usados para definir comportamentos específicos em objetos, como inicialização, representação e operações matemáticas."
   ]
  },
  {
   "cell_type": "markdown",
   "metadata": {},
   "source": [
    "## Getter And Setters - decorators\n",
    "\n",
    "Os métodos mágicos `__getattr__`, `__setattr__` e `__delattr__` podem ser elegantemente substituidos por decorators."
   ]
  },
  {
   "cell_type": "code",
   "execution_count": null,
   "metadata": {},
   "outputs": [
    {
     "name": "stdout",
     "output_type": "stream",
     "text": [
      "Get __a\n",
      "0\n",
      "Get __name\n",
      "\n",
      "Set __a\n",
      "Get __a\n",
      "2\n",
      "Del __a\n"
     ]
    }
   ],
   "source": [
    "class Example_Getters_N_Setters:\n",
    "    def __init__(self):\n",
    "        self.__a: int = 0\n",
    "        self.__name: str = ''\n",
    "\n",
    "    @property\n",
    "    def attribute(self) -> int:\n",
    "        \"\"\"Ajuda sobre o atributo\"\"\"\n",
    "        print('Get __a')\n",
    "        return self.__a\n",
    "\n",
    "    @attribute.setter\n",
    "    def attribute(self, val: int) -> None:\n",
    "        print('Set __a')\n",
    "        self.__a = val\n",
    "\n",
    "    @attribute.deleter\n",
    "    def attribute(self):\n",
    "        print('Del __a')\n",
    "        self.__a = 0\n",
    "\n",
    "    @property\n",
    "    def name(self) -> str:\n",
    "        print('Get __name')\n",
    "        return self.__name\n",
    "\n",
    "    @name.setter\n",
    "    def name(self, val: str) -> None:\n",
    "        print('Set __name')\n",
    "        self.__name = val\n",
    "\n",
    "    @name.deleter\n",
    "    def name(self):\n",
    "        print('Del __name')\n",
    "        self.__name = ''\n",
    "\n",
    "\n",
    "o = Example_Getters_N_Setters()\n",
    "print(o.attribute)\n",
    "print(o.name)\n",
    "o.attribute = 2\n",
    "print(o.attribute)\n",
    "del(o.attribute)"
   ]
  },
  {
   "cell_type": "markdown",
   "metadata": {},
   "source": [
    "Esses métodos não precisam ser chamados diretamente – Python os chama automaticamente quando necessário.\n",
    "\n",
    "## Principais Métodos Mágicos\n",
    "\n",
    "- **Inicializar objetos** → `__init__`\n",
    "- **Representação em string** → `__str__`, `__repr__`\n",
    "- **Operações matemáticas** → `__add__`, `__sub__`\n",
    "- **Comparação de objetos** → `__eq__`, `__lt__`, `__gt__`\n",
    "- **Manipulação de índices** → `__getitem__`, `__setitem__`\n",
    "- **Chamadas como função** → `__call__`\n",
    "- **Gerenciamento de contexto** → `__enter__`, `__exit__`"
   ]
  },
  {
   "cell_type": "code",
   "execution_count": null,
   "metadata": {},
   "outputs": [
    {
     "name": "stdout",
     "output_type": "stream",
     "text": [
      "----------------------------------------------------------------------------------------------------\n",
      "Chamando uma classe\n",
      "----------------------------------------------------------------------------------------------------\n",
      "Criando um objeto\n",
      "----------------------------------------------------------------------------------------------------\n",
      "Atributos: Toyota Corolla\n",
      "----------------------------------------------------------------------------------------------------\n",
      "Representação Amigável\n",
      "Carro: Toyota Corolla\n",
      "----------------------------------------------------------------------------------------------------\n",
      "Representação Técnica\n",
      "Carro(\"Toyota\", \"Corolla\")\n",
      "----------------------------------------------------------------------------------------------------\n",
      "Representação Amigável\n",
      "Carro: Toyota Corolla\n",
      "----------------------------------------------------------------------------------------------------\n",
      "Tamanho do Objeto\n",
      "13\n",
      "----------------------------------------------------------------------------------------------------\n",
      "Destruindo um objeto\n"
     ]
    }
   ],
   "source": [
    "class Carro:\n",
    "    def __new__(cls, marca, modelo):\n",
    "        \"\"\"Chamado automaticamente quando um objeto da classe é instanciada.\"\"\"\n",
    "        print('-'*100)\n",
    "        print(\"Chamando uma classe\")\n",
    "        inst = object.__new__(cls)\n",
    "        return inst\n",
    "\n",
    "    # __class__ __doc__ __getattribute__ __getnewargs__ __init_subclass__\n",
    "\n",
    "    def __init__(self, marca, modelo):\n",
    "        \"\"\"Chamado automaticamente quando um objeto da classe é criado.\"\"\"\n",
    "        print('-'*100)\n",
    "        print(\"Criando um objeto\")\n",
    "        self.marca = marca\n",
    "        self.modelo = modelo\n",
    "\n",
    "    def __del__(self):\n",
    "        \"\"\"Chamado automaticamente quando um objeto da classe é deletado.\"\"\"\n",
    "        print('-'*100)\n",
    "        print(\"Destruindo um objeto\")\n",
    "\n",
    "    def __str__(self):\n",
    "        \"\"\"\n",
    "            Define a **representação em string** do objeto quando `print(objeto)` é chamado. \n",
    "\n",
    "            Se `__str__` não for definido, o `print(objeto)` retorna algo como `<__main__.Carro object at 0x...>`.\n",
    "        \"\"\"\n",
    "        print('-'*100)\n",
    "        print(\"Representação Amigável\")\n",
    "        return f\"Carro: {self.marca} {self.modelo}\"\n",
    "\n",
    "    def __repr__(self):\n",
    "        \"\"\"Retorna uma **string técnica** que pode ser usada para recriar o objeto.\"\"\"\n",
    "        print('-'*100)\n",
    "        print(\"Representação Técnica\")\n",
    "        return f'Carro(\"{self.marca}\", \"{self.modelo}\")'\n",
    "\n",
    "    def __len__(self):\n",
    "        \"\"\"Chamado quando `len(objeto)` é usado.\"\"\"\n",
    "        print('-'*100)\n",
    "        print(\"Tamanho do Objeto\")\n",
    "        return len(self.marca+self.modelo)\n",
    "\n",
    "\n",
    "carro = Carro(\"Toyota\", \"Corolla\")  # call __new__ e __init__\n",
    "print('-'*100)\n",
    "print('Atributos:', carro.marca, carro.modelo)  # get values marca and modelo\n",
    "print(carro)  # call __str__\n",
    "print(repr(carro))  # call __repr__\n",
    "print(len(carro))  # call __len__\n",
    "del (carro)  # call __del__"
   ]
  },
  {
   "cell_type": "code",
   "execution_count": 38,
   "metadata": {},
   "outputs": [
    {
     "name": "stdout",
     "output_type": "stream",
     "text": [
      "{}\n",
      "9999-9999\n",
      "{'João': '9999-9999'}\n",
      "Contato não encontrado\n",
      "{}\n"
     ]
    }
   ],
   "source": [
    "class Agenda:\n",
    "    def __init__(self):\n",
    "        self.contatos = {}\n",
    "\n",
    "    def __str__(self):\n",
    "        return f\"{self.contatos}\"\n",
    "\n",
    "    def __setitem__(self, nome, telefone):\n",
    "        self.contatos[nome] = telefone\n",
    "\n",
    "    def __getitem__(self, nome):\n",
    "        return self.contatos.get(nome, \"Contato não encontrado\")\n",
    "\n",
    "    def __delitem__(self, nome):\n",
    "        if nome in self.contatos:\n",
    "            del self.contatos[nome]\n",
    "\n",
    "\n",
    "# Criando e manipulando contatos como um dicionário\n",
    "agenda = Agenda()\n",
    "print(agenda)\n",
    "agenda[\"João\"] = \"9999-9999\"  # __setitem__\n",
    "print(agenda[\"João\"])  # __getitem__ → 9999-9999\n",
    "print(agenda)\n",
    "del agenda[\"João\"]  # __delitem__\n",
    "print(agenda[\"João\"])  # Contato não encontrado\n",
    "print(agenda)\n"
   ]
  },
  {
   "cell_type": "code",
   "execution_count": 39,
   "metadata": {},
   "outputs": [
    {
     "name": "stdout",
     "output_type": "stream",
     "text": [
      "8\n"
     ]
    }
   ],
   "source": [
    "class Somar:\n",
    "    def __call__(self, a, b):\n",
    "        return a + b\n",
    "\n",
    "soma = Somar()\n",
    "print(soma(3, 5))  # 8"
   ]
  },
  {
   "cell_type": "code",
   "execution_count": 40,
   "metadata": {},
   "outputs": [
    {
     "name": "stdout",
     "output_type": "stream",
     "text": [
      "False\n",
      "True\n",
      "False\n"
     ]
    }
   ],
   "source": [
    "class Pessoa:\n",
    "    def __init__(self, nome, idade):\n",
    "        self.nome = nome\n",
    "        self.idade = idade\n",
    "\n",
    "    def __eq__(self, other):\n",
    "        return self.idade == other.idade\n",
    "\n",
    "    def __lt__(self, other):\n",
    "        return self.idade < other.idade\n",
    "\n",
    "    def __gt__(self, other):\n",
    "        return self.idade > other.idade\n",
    "\n",
    "p1 = Pessoa(\"Ana\", 25)\n",
    "p2 = Pessoa(\"Carlos\", 30)\n",
    "\n",
    "print(p1 == p2)  # False\n",
    "print(p1 < p2)   # True\n",
    "print(p1 > p2)   # False"
   ]
  },
  {
   "cell_type": "code",
   "execution_count": 41,
   "metadata": {},
   "outputs": [
    {
     "name": "stdout",
     "output_type": "stream",
     "text": [
      "R$80.00\n"
     ]
    }
   ],
   "source": [
    "class Dinheiro:\n",
    "    def __init__(self, valor):\n",
    "        self.valor = valor\n",
    "\n",
    "    def __add__(self, outro):\n",
    "        return Dinheiro(self.valor + outro.valor)\n",
    "\n",
    "    def __str__(self):\n",
    "        return f\"R${self.valor:.2f}\"\n",
    "\n",
    "carteira1 = Dinheiro(50)\n",
    "carteira2 = Dinheiro(30)\n",
    "\n",
    "total = carteira1 + carteira2\n",
    "print(total)  # R$80.00"
   ]
  },
  {
   "cell_type": "code",
   "execution_count": 42,
   "metadata": {},
   "outputs": [
    {
     "name": "stdout",
     "output_type": "stream",
     "text": [
      "Opening file\n",
      "Closening file\n"
     ]
    }
   ],
   "source": [
    "class Arquivo:\n",
    "    def __init__(self, nome):\n",
    "        self.nome = nome\n",
    "\n",
    "    def __enter__(self):\n",
    "        print('Opening file')\n",
    "        self.arquivo = open(self.nome, \"w\")\n",
    "        return self.arquivo\n",
    "\n",
    "    def __exit__(self, tipo, valor, traceback):\n",
    "        print('Closening file')\n",
    "        self.arquivo.close()\n",
    "\n",
    "# Usando com 'with'\n",
    "with Arquivo(\"teste.txt\") as arq:\n",
    "    arq.write(\"Olá, mundo!\")\n",
    "\n",
    "# O arquivo será fechado automaticamente"
   ]
  },
  {
   "cell_type": "markdown",
   "metadata": {},
   "source": [
    "## Others Magic Methods"
   ]
  },
  {
   "cell_type": "code",
   "execution_count": null,
   "metadata": {},
   "outputs": [],
   "source": [
    "# required foward\n",
    "import math\n",
    "\n",
    "\n",
    "class Value:\n",
    "    myVal = 0\n",
    "    # 'as_integer_ratio bit_length conjugate denominator from_bytes imag numerator real to_bytes'\n",
    "    # __reduce__ __reduce_ex__ __repr__ __subclasshook__\n",
    "\n",
    "    def conv2Num(self, n) -> 'int|float':\n",
    "        return int(n) if isinstance(n, int) or isinstance(n, float) else float(n)"
   ]
  },
  {
   "cell_type": "markdown",
   "metadata": {},
   "source": [
    "Creating Class and instance Object"
   ]
  },
  {
   "cell_type": "code",
   "execution_count": null,
   "metadata": {},
   "outputs": [],
   "source": [
    "class MathOperations(Value):\n",
    "    def __add__(self, other): return self.myVal + self.conv2Num(other)\n",
    "    def __sub__(self, other): return self.myVal - self.conv2Num(other)\n",
    "    def __mul__(self, other): return self.myVal * self.conv2Num(other)\n",
    "    def __floordiv__(self, other): return self.myVal // self.conv2Num(other)\n",
    "    def __truediv__(self, other): return self.myVal / self.conv2Num(other)\n",
    "    def __mod__(self, other): return self.myVal % self.conv2Num(other)\n",
    "    def __pow__(self, other): return self.myVal ** self.conv2Num(other)\n",
    "    def __iadd__(self, other): self.myVal += self.conv2Num(other)\n",
    "    def __isub__(self, other): self.myVal -= self.conv2Num(other)\n",
    "    def __imul__(self, other): self.myVal *= self.conv2Num(other)\n",
    "    def __ifloordiv__(self, other): self.myVal //= self.conv2Num(other)\n",
    "    def __itruediv__(self, other): self.myVal /= self.conv2Num(other)\n",
    "    def __idiv__(self, other): self.myVal /= self.conv2Num(other)\n",
    "    def __imod__(self, other): self.myVal %= self.conv2Num(other)\n",
    "    def __ipow__(self, other): self.myVal **= self.conv2Num(other)\n",
    "    # __radd__ __rdivmod__ __rpow__ __rmod__ __rmul__ __rsub__ __rfloordiv__ __rtruediv__ __divmod__\n",
    "\n",
    "\n",
    "class FunctionOperations(Value):\n",
    "    def __pos__(self): return abs(self.myVal)\n",
    "    def __neg__(self): return abs(self.myVal) * -1\n",
    "    def __abs__(self): return abs(self.myVal)\n",
    "    def __ceil__(self): return math.ceil(self.myVal)\n",
    "    def __floor__(self): return math.floor(self.myVal)\n",
    "    def __trunc__(self): return math.trunc(self.myVal)\n",
    "    def __round__(self, n): return round(self.myVal, n)\n",
    "    def __nonzero__(self): return self.myVal != None and self.myVal != 0\n",
    "    def __dir__(self): return dir(self.myVal)\n",
    "    def __sizeof__(self): return self.myVal.__sizeof__  # sys.getsizeof()\n",
    "\n",
    "\n",
    "class LogicOperations(Value):\n",
    "    def __eq__(self, other): return self.myVal == other\n",
    "    def __ne__(self, other): return self.myVal != other\n",
    "    def __lt__(self, other): return self.myVal < other\n",
    "    def __le__(self, other): return self.myVal <= other\n",
    "    def __gt__(self, other): return self.myVal > other\n",
    "    def __ge__(self, other): return self.myVal >= other\n",
    "    def __and__(self, other): return self.myVal and other\n",
    "    def __or__(self, other): return self.myVal or other\n",
    "    def __bool__(self): return bool(self.myVal)\n",
    "\n",
    "\n",
    "class BinaryOperations(Value):\n",
    "    def __lshift__(self, other): return self.myVal << other\n",
    "    def __rlshift__(self, other): return self.myVal >> other\n",
    "    # def __xor__(self): return self.myVal ^ other\n",
    "    def __invert__(self): return ~self.myVal\n",
    "    def __ilshift__(self, other): self.myVal <<= other\n",
    "    def __irshift__(self, other): self.myVal >>= other\n",
    "    def __iand__(self, other): self.myVal &= other\n",
    "    def __ior__(self, other): self.myVal |= other\n",
    "    def __ixor__(self, other): self.myVal ^= other\n",
    "    # __rand__ __ror__ __rxor__ __rrshift__ __rshift__\n",
    "\n",
    "\n",
    "class StringOprations(Value):\n",
    "    def __str__(self):\n",
    "        '''Invoked with print()'''\n",
    "        return f'name={self.myVal}'\n",
    "\n",
    "    def __repr__(self): return repr(self.myVal)\n",
    "    # def __unicode__(self): return unicode(self.myVal)\n",
    "    def __format__(self, formatstr): return str(self.myVal).format(formatstr)\n",
    "    def __hash__(self): return hash(self.myVal)\n",
    "\n",
    "\n",
    "class CastOperations(Value):\n",
    "    def __int__(self): return int(self.myVal)\n",
    "    def __float__(self): return float(self.myVal)\n",
    "    def __complex__(self): return complex(self.myVal)\n",
    "    def __oct__(self): return oct(self.myVal)\n",
    "    def __hex__(self): return hex(self.myVal)\n",
    "    # def __index__(self): return int(self.myVal) #To get called on type conversion to an int when the object is used in a slice expression.\n",
    "\n",
    "\n",
    "class InstanceOparations:\n",
    "    def __new__(cls):\n",
    "        print(\"__new__ magic method is called\")\n",
    "        inst = object.__new__(cls)\n",
    "        return inst\n",
    "\n",
    "    def __init__(self):\n",
    "        print(\"__init__ magic method is called\")\n",
    "        self.name = 'Satya'\n",
    "\n",
    "    def __del__(self):\n",
    "        print(\"Destructor\")\n",
    "    # __class__ __doc__ __getattribute__ __getnewargs__ __init_subclass__\n",
    "\n",
    "\n",
    "class AttributeOparations:\n",
    "    def __delattr__(self, name):\n",
    "        ...\n",
    "\n",
    "    def __setattr__(self, name, value):\n",
    "        ...\n",
    "\n",
    "    def __getattr__(self, name):\n",
    "        if name[0:4] == 'get_':\n",
    "            return None\n",
    "        try:\n",
    "            return getattr(self, 'get_'+name)()\n",
    "        except:\n",
    "            ...\n",
    "        k = self.__dict__.keys()\n",
    "        if name in k:\n",
    "            return self.__dict__[name]\n",
    "        name = '_'+name\n",
    "        if name in k:\n",
    "            return self.__dict__[name]\n",
    "        name = '_'+name\n",
    "        if name in k:\n",
    "            return self.__dict__[name]\n",
    "        return None"
   ]
  },
  {
   "cell_type": "code",
   "execution_count": null,
   "metadata": {},
   "outputs": [
    {
     "name": "stdout",
     "output_type": "stream",
     "text": [
      "test0\n",
      "TEST1\n",
      "TEST2\n"
     ]
    }
   ],
   "source": [
    "class Example:  # ClassName(extends,...)\n",
    "    public_static_attribute = 'value'\n",
    "    _protected_static_attribute = 'value'\n",
    "    __private_static_attribute: str = 'value'\n",
    "\n",
    "    def __init__(self, name: str = 'Example'):\n",
    "        '''Constuctor'''\n",
    "        self.staticMethod(name)\n",
    "        self.public_instance_attribute = name\n",
    "        self._protected_instance_attribute = name\n",
    "        self.__private_instance_attribute = name\n",
    "\n",
    "    def __setattr__(self, name, value):\n",
    "        self.__dict__[name] = value.upper()\n",
    "\n",
    "    def __getattr__(self, name):\n",
    "        return 'Frob does not have `{}` attribute.'.format(str(name))\n",
    "\n",
    "    def __str__(self):\n",
    "        # return str(self.Converse2Metres())\n",
    "        return ''\n",
    "\n",
    "    def methodWithSelfArgument(self, obj: 'Example') -> None:\n",
    "        pass\n",
    "\n",
    "    @staticmethod\n",
    "    def staticMethod(name):\n",
    "        if len(name) < 3:\n",
    "            raise ValueError('Tamanho do Nome < 3')\n",
    "        if ' ' in name:\n",
    "            raise ValueError('Nome inválido com espaço')\n",
    "\n",
    "    @classmethod\n",
    "    def normalMethod(cls):\n",
    "        cls.__private_static_attribute = 10\n",
    "\n",
    "\n",
    "Example.public_static_attribute = 'test0'\n",
    "f1 = Example('Example_1')\n",
    "f1.public_static_attribute = 'test1'\n",
    "f2 = Example('Example_2')\n",
    "f2.public_static_attribute = 'test2'\n",
    "print(Example.public_static_attribute)\n",
    "print(f1.public_static_attribute)\n",
    "print(f2.public_static_attribute)"
   ]
  }
 ],
 "metadata": {
  "kernelspec": {
   "display_name": "Python 3",
   "language": "python",
   "name": "python3"
  },
  "language_info": {
   "codemirror_mode": {
    "name": "ipython",
    "version": 3
   },
   "file_extension": ".py",
   "mimetype": "text/x-python",
   "name": "python",
   "nbconvert_exporter": "python",
   "pygments_lexer": "ipython3",
   "version": "3.10.11"
  }
 },
 "nbformat": 4,
 "nbformat_minor": 2
}
