{
 "cells": [
  {
   "cell_type": "markdown",
   "metadata": {},
   "source": [
    "# Decorators com Classes\n",
    "\n",
    "Além de decorar funções, você também pode usar decorators em **métodos de classe** ou **classe inteira**.\n"
   ]
  },
  {
   "cell_type": "markdown",
   "metadata": {},
   "source": [
    "### Decorators em Métodos\n",
    "\n",
    "Decorators também podem ser usados em métodos de uma classe para alterar seu comportamento, por exemplo, adicionar verificações antes da execução do método."
   ]
  },
  {
   "cell_type": "code",
   "execution_count": 3,
   "metadata": {},
   "outputs": [
    {
     "name": "stdout",
     "output_type": "stream",
     "text": [
      "Chamando o método meu_metodo1\n",
      "Valor recebido: 10\n",
      "Texto personalizado meu_metodo2\n",
      "Valor recebido: 11\n"
     ]
    }
   ],
   "source": [
    "def decorator_metodo(func):\n",
    "    def wrapper(self, *args, **kwargs):\n",
    "        print(f\"Chamando o método {func.__name__}\")\n",
    "        return func(self, *args, **kwargs)\n",
    "    return wrapper\n",
    "\n",
    "def decorator_metodo_arg(text):\n",
    "    def decorator(func):\n",
    "        def wrapper(self, *args, **kwargs):\n",
    "            print(f\"{text} {func.__name__}\")\n",
    "            return func(self, *args, **kwargs)\n",
    "        return wrapper\n",
    "    return decorator\n",
    "\n",
    "class MinhaClasse:\n",
    "    @decorator_metodo\n",
    "    def meu_metodo1(self, valor):\n",
    "        print(f\"Valor recebido: {valor}\")\n",
    "    @decorator_metodo_arg('Texto personalizado')\n",
    "    def meu_metodo2(self, valor):\n",
    "        print(f\"Valor recebido: {valor}\")\n",
    "\n",
    "obj = MinhaClasse()\n",
    "obj.meu_metodo1(10)\n",
    "obj.meu_metodo2(11)"
   ]
  },
  {
   "cell_type": "markdown",
   "metadata": {},
   "source": [
    "### Decorators em Classes Inteiras\n",
    "\n",
    "Você pode até mesmo usar um decorator para modificar o comportamento de toda uma classe, como, por exemplo, modificar a forma como os métodos são invocados ou alterar a criação de instâncias."
   ]
  },
  {
   "cell_type": "code",
   "execution_count": 2,
   "metadata": {},
   "outputs": [
    {
     "name": "stdout",
     "output_type": "stream",
     "text": [
      "Acessando o atributo: metodo\n",
      "Método da classe original.\n"
     ]
    }
   ],
   "source": [
    "def decorador_de_classe(cls):\n",
    "    class Wrapper:\n",
    "        def __init__(self, *args, **kwargs):\n",
    "            self.objeto = cls(*args, **kwargs)\n",
    "        def __getattr__(self, attr):\n",
    "            print(f\"Acessando o atributo: {attr}\")\n",
    "            return getattr(self.objeto, attr)\n",
    "    return Wrapper\n",
    "\n",
    "@decorador_de_classe\n",
    "class MinhaClasse:\n",
    "    def metodo(self):\n",
    "        print(\"Método da classe original.\")\n",
    "\n",
    "obj = MinhaClasse()\n",
    "obj.metodo()"
   ]
  },
  {
   "cell_type": "markdown",
   "metadata": {},
   "source": [
    "### Decorators Padrão (Built-in)\n",
    "\n",
    "Existem alguns decorators padrões em Python que são usados com frequência, como:\n",
    "\n",
    "- **`@staticmethod`**: Define um método estático, que não tem acesso ao objeto `self` ou à classe `cls`.\n",
    "- **`@classmethod`**: Define um método de classe, que tem acesso à classe `cls`, mas não ao objeto `self`.\n",
    "- **`@property`**: Transforma um método em um atributo de leitura."
   ]
  },
  {
   "cell_type": "code",
   "execution_count": null,
   "metadata": {},
   "outputs": [
    {
     "name": "stdout",
     "output_type": "stream",
     "text": [
      "Método Estático\n",
      "Método de Classe\n"
     ]
    }
   ],
   "source": [
    "class MinhaClasse:\n",
    "    @staticmethod\n",
    "    def metodo_estatico():\n",
    "        print(\"Método Estático\")\n",
    "\n",
    "    @classmethod\n",
    "    def metodo_de_classe(cls):\n",
    "        print(\"Método de Classe\")\n",
    "\n",
    "MinhaClasse.metodo_estatico()\n",
    "MinhaClasse.metodo_de_classe()"
   ]
  },
  {
   "cell_type": "code",
   "execution_count": 1,
   "metadata": {},
   "outputs": [
    {
     "name": "stdout",
     "output_type": "stream",
     "text": [
      "5\n",
      "10\n",
      "314.159\n",
      "0\n"
     ]
    }
   ],
   "source": [
    "class Circulo:\n",
    "    def __init__(self, raio):\n",
    "        self._raio = raio  # Atributo privado (por convenção)\n",
    "    \n",
    "    @property\n",
    "    def raio(self):\n",
    "        return self._raio\n",
    "    \n",
    "    @raio.setter\n",
    "    def raio(self, valor):\n",
    "        if valor < 0:\n",
    "            raise ValueError(\"O raio não pode ser negativo!\")\n",
    "        self._raio = valor\n",
    "\n",
    "    @raio.deleter\n",
    "    def raio(self):\n",
    "        self._raio = 0\n",
    "            \n",
    "    @property\n",
    "    def area(self):\n",
    "        return 3.14159 * (self._raio ** 2)\n",
    "\n",
    "# Criando um objeto da classe\n",
    "circulo = Circulo(5)\n",
    "\n",
    "# Acessando a propriedade \"raio\" como se fosse um atributo\n",
    "print(circulo.raio)  # Saída: 5\n",
    "\n",
    "# Alterando o valor do raio\n",
    "circulo.raio = 10\n",
    "print(circulo.raio)  # Saída: 10\n",
    "\n",
    "# Acessando a propriedade \"area\", que é calculada dinamicamente\n",
    "print(circulo.area)  # Saída: 314.159\n",
    "\n",
    "del(circulo.raio)\n",
    "print(circulo.raio)  # Saída: 0\n",
    "\n"
   ]
  },
  {
   "cell_type": "markdown",
   "metadata": {},
   "source": [
    "### Conclusão\n",
    "\n",
    "Os **decorators** são uma poderosa característica do Python, permitindo modificar o comportamento de funções e classes de maneira modular e reutilizável. Eles ajudam a evitar a repetição de código e a implementar funcionalidades adicionais de forma limpa e concisa. Além disso, decoradores são frequentemente utilizados em projetos de código aberto, frameworks e APIs para adicionar funcionalidades como autenticação, caching, logging, e muito mais."
   ]
  }
 ],
 "metadata": {
  "kernelspec": {
   "display_name": "Python 3",
   "language": "python",
   "name": "python3"
  },
  "language_info": {
   "codemirror_mode": {
    "name": "ipython",
    "version": 3
   },
   "file_extension": ".py",
   "mimetype": "text/x-python",
   "name": "python",
   "nbconvert_exporter": "python",
   "pygments_lexer": "ipython3",
   "version": "3.10.11"
  }
 },
 "nbformat": 4,
 "nbformat_minor": 2
}
