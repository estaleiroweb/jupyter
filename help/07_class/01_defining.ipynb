{
 "cells": [
  {
   "cell_type": "markdown",
   "metadata": {},
   "source": [
    "# Class definitions\n",
    "\n",
    "## Programação Orientada a Objetos (POO)\n",
    "\n",
    "A Programação Orientada a Objetos (POO) é um paradigma de programação baseado no conceito de objetos, que encapsulam dados e comportamentos relacionados. O objetivo da POO é estruturar o código de forma modular e reutilizável, tornando-o mais fácil de entender, manter e escalar.\n",
    "\n",
    "### Elementos\n",
    "\n",
    "A **Programação Orientada a Objetos (POO)** possui vários elementos fundamentais que ajudam a estruturar o código de forma modular, reutilizável e escalável. Os principais elementos são:\n",
    "\n",
    "1. **Classe**: Define um modelo para criar objetos.\n",
    "2. **Objeto**: Instância de uma classe.\n",
    "3. **Atributo**: Dados armazenados em um objeto.\n",
    "4. **Método**: Função dentro da classe que define comportamentos.\n",
    "5. **Visibilidade**: Define o nível de acesso a atributos e métodos dentro de uma classe.\n",
    "6. **Encapsulamento**: Restringe o acesso direto aos dados internos.\n",
    "7. **Herança**: Permite que uma classe reutilize características de outra.\n",
    "8. **Polimorfismo**: Objetos de diferentes classes podem ser tratados de forma unificada.\n",
    "9. **Abstração**: Oculta detalhes internos e expõe apenas o necessário.\n",
    "10. **Interface**: Define um conjunto de métodos obrigatórios.\n"
   ]
  },
  {
   "cell_type": "markdown",
   "metadata": {},
   "source": [
    "## 1. Classe\n",
    "\n",
    "Uma **classe** é um modelo ou molde para criar objetos. Define atributos (dados) e métodos (comportamentos).  \n"
   ]
  },
  {
   "cell_type": "code",
   "execution_count": 16,
   "metadata": {},
   "outputs": [],
   "source": [
    "class Carro:\n",
    "    def __init__(self, marca, modelo):\n",
    "        self.marca = marca\n",
    "        self.modelo = modelo\n",
    "\n",
    "    def detalhes(self):\n",
    "        return f\"Carro: {self.marca} {self.modelo}\""
   ]
  },
  {
   "cell_type": "markdown",
   "metadata": {},
   "source": [
    "## 2. Objeto\n",
    "\n",
    "Um **objeto** é uma instância de uma classe. Cada objeto possui seus próprios dados e pode executar métodos definidos na classe."
   ]
  },
  {
   "cell_type": "code",
   "execution_count": 17,
   "metadata": {},
   "outputs": [
    {
     "name": "stdout",
     "output_type": "stream",
     "text": [
      "Carro: Toyota Corolla\n"
     ]
    }
   ],
   "source": [
    "meu_carro = Carro(\"Toyota\", \"Corolla\")\n",
    "print(meu_carro.detalhes())"
   ]
  },
  {
   "cell_type": "markdown",
   "metadata": {},
   "source": [
    "## 3. Atributo\n",
    "\n",
    "São as variáveis associadas a um objeto. Podem ser:\n",
    "\n",
    "- **Atributos de instância**: específicos de cada objeto\n",
    "- **Atributos de classe**: compartilhados entre todos os objetos da classe"
   ]
  },
  {
   "cell_type": "code",
   "execution_count": 18,
   "metadata": {},
   "outputs": [
    {
     "name": "stdout",
     "output_type": "stream",
     "text": [
      "Canis lupus familiaris\n"
     ]
    }
   ],
   "source": [
    "class Cachorro:\n",
    "    especie = \"Canis lupus familiaris\"  # Atributo de classe\n",
    "\n",
    "    def __init__(self, nome, idade):\n",
    "        self.nome = nome  # Atributo de instância\n",
    "        self.idade = idade\n",
    "\n",
    "\n",
    "dog1 = Cachorro(\"Rex\", 3)\n",
    "print(dog1.especie)"
   ]
  },
  {
   "cell_type": "markdown",
   "metadata": {},
   "source": [
    "## 4. Método\n",
    "\n",
    "São funções dentro de uma classe que definem o comportamento dos objetos."
   ]
  },
  {
   "cell_type": "code",
   "execution_count": 19,
   "metadata": {},
   "outputs": [
    {
     "name": "stdout",
     "output_type": "stream",
     "text": [
      "Olá, meu nome é Carlos.\n"
     ]
    }
   ],
   "source": [
    "class Pessoa:\n",
    "    def __init__(self, nome):\n",
    "        self.nome = nome\n",
    "\n",
    "    def cumprimentar(self):\n",
    "        return f\"Olá, meu nome é {self.nome}.\"\n",
    "\n",
    "\n",
    "p = Pessoa(\"Carlos\")\n",
    "print(p.cumprimentar())"
   ]
  },
  {
   "cell_type": "markdown",
   "metadata": {},
   "source": [
    "## 5. Visibilidade\n",
    "\n",
    "A **visibilidade** define o nível de acesso a atributos e métodos dentro de uma classe. Em Python, não existem modificadores de acesso explícitos como `private`, `protected` e `public` (como em Java ou C++), mas usamos **convenções** com underscores (`_` ou `__`) para indicar a visibilidade.\n",
    "\n",
    "**Sintaxe em Python**:\n",
    "\n",
    "| Modificador   | atributo     | metodo       | Uso                                                                                  |\n",
    "| ------------- | ------------ | ------------ | ------------------------------------------------------------------------------------ |\n",
    "| **Público**   | `atributo`   | `metodo()`   | Quando **qualquer código pode acessar** sem restrições                               |\n",
    "| **Protegido** | `_atributo`  | `_metodo()`  | Quando o atributo/método **só deve ser acessado dentro da classe e suas subclasses** |\n",
    "| **Privado**   | `__atributo` | `__metodo()` | Quando **só pode ser acessado dentro da própria classe** (evitando acesso indevido)  |\n",
    "\n",
    "**Resumo de Acessos**:\n",
    "\n",
    "| Modificador   | Interno | Subclasses | Externo |\n",
    "| ------------- | ------- | ---------- | ------- |\n",
    "| **Público**   | ✅ Sim   | ✅ Sim      | ✅ Sim   |\n",
    "| **Protegido** | ✅ Sim   | ⚠️1 Sim    | 🔒1 Não   |\n",
    "| **Privado**   | ✅ Sim   | ❌ Não      | 🔒2 Não   |\n",
    "\n",
    "- ⚠️1: Apenas internamente da Subclasse\n",
    "- 🔒1: Não recomendado mas possível \n",
    "- 🔒2: Não mas pode ser acessado via _name mangling_\n"
   ]
  },
  {
   "cell_type": "code",
   "execution_count": 21,
   "metadata": {},
   "outputs": [
    {
     "name": "stdout",
     "output_type": "stream",
     "text": [
      "Honda\n",
      "Marca: Honda\n",
      "Civic\n",
      "Marca: Honda, Modelo: Civic\n",
      "Saldo: R$1000\n"
     ]
    }
   ],
   "source": [
    "class Carro:\n",
    "    def __init__(self, marca, modelo):\n",
    "        self.marca = marca # Atributo público\n",
    "        self._modelo = modelo  # Atributo protegido\n",
    "\n",
    "    def mostrar_marca(self):  # Método público\n",
    "        return f\"Marca: {self.marca}\"\n",
    "    def _detalhes(self):  # Método protegido\n",
    "        return f\"Marca: {self.marca}, Modelo: {self._modelo}\"\n",
    "\n",
    "class ContaBancaria:\n",
    "    def __init__(self, saldo):\n",
    "        self.__saldo = saldo  # Atributo privado\n",
    "\n",
    "    def __mostrar_saldo(self):  # Método privado\n",
    "        return f\"Saldo: R${self.__saldo}\"\n",
    "\n",
    "    def acessar_saldo(self):\n",
    "        return self.__mostrar_saldo()  # Método público acessando método privado\n",
    "\n",
    "# Uso da classe\n",
    "carro = Carro(\"Honda\", \"Civic\")\n",
    "conta = ContaBancaria(1000)\n",
    "\n",
    "# ✅ Atributos e Métodos Públicos (public):\n",
    "#\n",
    "# - Pode ser acessado de qualquer lugar\n",
    "print(carro.marca)  # ✅ Acesso direto permitido\n",
    "print(carro.mostrar_marca())  # ✅ Chamada de método público\n",
    "\n",
    "# ⚠️ Atributos e Métodos Protegidos (protected):\n",
    "#\n",
    "# - Convencionado com `_`\n",
    "# - Pode ser acessado diretamente, mas não deveria ser usado fora da classe ou de suas subclasses\n",
    "# - É uma sugestão para indicar que **não deve ser acessado diretamente**\n",
    "print(carro._modelo)  # ⚠️ Funciona, mas não é recomendado\n",
    "print(carro._detalhes())  # ⚠️ Pode ser acessado, mas deveria ser usado apenas internamente\n",
    "\n",
    "# 🔒 Atributos e Métodos Privados (private):\n",
    "#\n",
    "# - Começa com `__` (dois underscores)\n",
    "# - Não pode ser acessado diretamente de fora da classe\n",
    "#\n",
    "# print(conta.__saldo)  # ❌ Erro! Atributo privado não pode ser acessado diretamente\n",
    "# print(conta.__mostrar_saldo())  # ❌ Erro! Método privado não pode ser acessado diretamente\n",
    "print(conta.acessar_saldo())  # ✅ Método público acessando o privado corretamente"
   ]
  },
  {
   "cell_type": "markdown",
   "metadata": {},
   "source": [
    "## 6. Encapsulamento\n",
    "\n",
    "Protege os dados dentro da classe, permitindo o acesso controlado a eles.\n",
    "\n",
    "Uma forma elegante de encapsular atributos é utilizar @decorators. Veja este item"
   ]
  },
  {
   "cell_type": "code",
   "execution_count": 20,
   "metadata": {},
   "outputs": [
    {
     "name": "stdout",
     "output_type": "stream",
     "text": [
      "150\n"
     ]
    }
   ],
   "source": [
    "class ContaBancaria:\n",
    "    def __init__(self, saldo):\n",
    "        self.__saldo = saldo  # Atributo privado\n",
    "\n",
    "    def depositar(self, valor):\n",
    "        self.__saldo += valor\n",
    "\n",
    "    def ver_saldo(self):\n",
    "        return self.__saldo\n",
    "\n",
    "\n",
    "conta = ContaBancaria(100)\n",
    "conta.depositar(50)\n",
    "print(conta.ver_saldo())"
   ]
  },
  {
   "cell_type": "markdown",
   "metadata": {},
   "source": [
    "## 7. Herança (Inheritance)\n",
    "\n",
    "Permite que uma classe herde atributos e métodos de outra classe, evitando a duplicação de código."
   ]
  },
  {
   "cell_type": "code",
   "execution_count": null,
   "metadata": {},
   "outputs": [
    {
     "name": "stdout",
     "output_type": "stream",
     "text": [
      "Latido\n"
     ]
    }
   ],
   "source": [
    "class Animal:\n",
    "    def fazer_som(self):\n",
    "        return \"Som genérico\"\n",
    "\n",
    "    def comer(self):\n",
    "        raise NotImplementedError()\n",
    "\n",
    "\n",
    "class Cachorro(Animal):\n",
    "    \"\"\"🐶 `Cachorro` herda de `Animal`, mas sobrescreve `fazer_som()`.\"\"\"\n",
    "    def fazer_som(self):\n",
    "        return \"Latido\"\n",
    "\n",
    "    def faz_som_do_pai(self):\n",
    "        return super().fazer_som()  # chama método da classe pai\n",
    "\n",
    "\n",
    "dog = Cachorro()\n",
    "print(dog.fazer_som())"
   ]
  },
  {
   "cell_type": "code",
   "execution_count": null,
   "metadata": {},
   "outputs": [],
   "source": [
    "class Dad:\n",
    "    ...\n",
    "\n",
    "\n",
    "class Mother:\n",
    "    ...\n",
    "\n",
    "\n",
    "class Son(Dad, Mother):  # multi inherit\n",
    "    ..."
   ]
  },
  {
   "cell_type": "markdown",
   "metadata": {},
   "source": [
    "## 8. Polimorfismo\n",
    "\n",
    "Objetos de diferentes classes podem ser tratados de forma unificada, desde que implementem os mesmos métodos."
   ]
  },
  {
   "cell_type": "code",
   "execution_count": 24,
   "metadata": {},
   "outputs": [
    {
     "name": "stdout",
     "output_type": "stream",
     "text": [
      "Latido\n",
      "Miau\n"
     ]
    }
   ],
   "source": [
    "class Gato(Animal):\n",
    "    def fazer_som(self):\n",
    "        return \"Miau\"\n",
    "\n",
    "\n",
    "def emitir_som(animal: Animal):\n",
    "    print(animal.fazer_som())\n",
    "\n",
    "\n",
    "dog = Cachorro()\n",
    "cat = Gato()\n",
    "\n",
    "emitir_som(dog)\n",
    "emitir_som(cat)"
   ]
  },
  {
   "cell_type": "markdown",
   "metadata": {},
   "source": [
    "## 9. Abstração\n",
    "\n",
    "Esconde detalhes internos e expõe apenas a interface necessária."
   ]
  },
  {
   "cell_type": "code",
   "execution_count": 25,
   "metadata": {},
   "outputs": [
    {
     "name": "stdout",
     "output_type": "stream",
     "text": [
      "Carro em movimento\n"
     ]
    }
   ],
   "source": [
    "from abc import ABC, abstractmethod\n",
    "\n",
    "class Veiculo(ABC):\n",
    "    @abstractmethod\n",
    "    def mover(self):\n",
    "        pass\n",
    "\n",
    "class Carro(Veiculo):\n",
    "    def mover(self):\n",
    "        return \"Carro em movimento\"\n",
    "\n",
    "meu_carro = Carro()\n",
    "print(meu_carro.mover())  # Saída: Carro em movimento\n",
    "# 🚗 `Veiculo` é abstrato e não pode ser instanciado diretamente."
   ]
  },
  {
   "attachments": {},
   "cell_type": "markdown",
   "metadata": {},
   "source": [
    "## 10. Interface\n",
    "\n",
    "Define um conjunto de métodos que devem ser implementados por qualquer classe que a utilize."
   ]
  },
  {
   "cell_type": "code",
   "execution_count": 26,
   "metadata": {},
   "outputs": [
    {
     "name": "stdout",
     "output_type": "stream",
     "text": [
      "Pagamento de R$100 feito no cartão\n"
     ]
    }
   ],
   "source": [
    "class Pagamento(ABC):\n",
    "    @abstractmethod\n",
    "    def processar_pagamento(self, valor):\n",
    "        pass\n",
    "\n",
    "class PagamentoCartao(Pagamento):\n",
    "    def processar_pagamento(self, valor):\n",
    "        return f\"Pagamento de R${valor} feito no cartão\"\n",
    "\n",
    "cartao = PagamentoCartao()\n",
    "print(cartao.processar_pagamento(100))"
   ]
  }
 ],
 "metadata": {
  "kernelspec": {
   "display_name": "Python 3",
   "language": "python",
   "name": "python3"
  },
  "language_info": {
   "codemirror_mode": {
    "name": "ipython",
    "version": 3
   },
   "file_extension": ".py",
   "mimetype": "text/x-python",
   "name": "python",
   "nbconvert_exporter": "python",
   "pygments_lexer": "ipython3",
   "version": "3.10.11"
  },
  "orig_nbformat": 4
 },
 "nbformat": 4,
 "nbformat_minor": 2
}
