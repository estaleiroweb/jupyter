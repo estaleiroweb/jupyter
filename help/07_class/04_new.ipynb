{
 "cells": [
  {
   "cell_type": "markdown",
   "metadata": {},
   "source": [
    "# Modificando `__new__`/`__init__`"
   ]
  },
  {
   "cell_type": "code",
   "execution_count": null,
   "metadata": {},
   "outputs": [],
   "source": [
    "class Xpto:\n",
    "    def __new__(cls, *args, encoding: str = \"utf-8\", returnDict: bool = False, merge: bool = False) -> 'Xpto|dict[str,Xpto]|list[Xpto]':\n",
    "        if len(args) > 1:\n",
    "            if returnDict:\n",
    "                return {file: cls(file, encoding=encoding, merge=merge) for file in args}\n",
    "            else:\n",
    "                return [cls(file, encoding=encoding, merge=merge) for file in args]\n",
    "        return super().__new__(cls)\n",
    "\n",
    "    def __init__(self, file: str, *, encoding: str = \"utf-8\", merge: bool = False):\n",
    "        self.__file: str = file\n",
    "        self.__encoding: str = encoding\n",
    "        self.__merge: str = merge\n",
    "\n",
    "    def __str__(self) -> str:\n",
    "        return self.__file\n"
   ]
  }
 ],
 "metadata": {
  "language_info": {
   "name": "python"
  }
 },
 "nbformat": 4,
 "nbformat_minor": 2
}
