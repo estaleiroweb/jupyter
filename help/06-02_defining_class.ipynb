{
 "cells": [
  {
   "attachments": {},
   "cell_type": "markdown",
   "metadata": {},
   "source": [
    "# Class definitions"
   ]
  },
  {
   "attachments": {},
   "cell_type": "markdown",
   "metadata": {},
   "source": [
    "Requirements of magic methods"
   ]
  },
  {
   "cell_type": "code",
   "execution_count": null,
   "metadata": {},
   "outputs": [],
   "source": [
    "import math\n",
    "\n",
    "print([object,type])"
   ]
  },
  {
   "attachments": {},
   "cell_type": "markdown",
   "metadata": {},
   "source": [
    "Main Class"
   ]
  },
  {
   "cell_type": "code",
   "execution_count": null,
   "metadata": {},
   "outputs": [],
   "source": [
    "class Value:\n",
    "    myVal=0\n",
    "    # 'as_integer_ratio bit_length conjugate denominator from_bytes imag numerator real to_bytes'\n",
    "    # __reduce__ __reduce_ex__ __repr__ __subclasshook__\n",
    "    def conv2Num(self, n)->'int|float': \n",
    "        return n if isinstance(n,int) or isinstance(n,float) else float(n)"
   ]
  },
  {
   "attachments": {},
   "cell_type": "markdown",
   "metadata": {},
   "source": [
    "Creating Class and instance Object"
   ]
  },
  {
   "cell_type": "code",
   "execution_count": null,
   "metadata": {},
   "outputs": [],
   "source": [
    "class Example(Value): #ClassName(extends,...)\n",
    "    public_static_attribute='value'\n",
    "    _protected_static_attribute='value'\n",
    "    __private_static_attribute='value'\n",
    "    \n",
    "    def __init__(self,name:str='Example'):\n",
    "        '''Constuctor'''\n",
    "        self.staticMethod(name)\n",
    "        self.public_instance_attribute=name\n",
    "        self._protected_instance_attribute=name\n",
    "        self.__private_instance_attribute=name\n",
    "        \n",
    "    def __setattr__(self, name, value):\n",
    "        self.__dict__[name] = value.upper()\n",
    "    \n",
    "    def __getattr__(self, name):\n",
    "        return 'Frob does not have `{}` attribute.'.format(str(name))\n",
    "    \n",
    "    def __str__(self):\n",
    "        # return str(self.Converse2Metres())\n",
    "        return ''\n",
    "    \n",
    "    def methodWithSelfArgument(self, obj:'Example') -> None:\n",
    "        pass\n",
    "    \n",
    "    @staticmethod\n",
    "    def staticMethod(name):\n",
    "        if len(name) < 3 or ' ' in name:\n",
    "            raise ValueError('Nome inválido')\n",
    "        \n",
    "    @classmethod\n",
    "    def normalMethod(cls):\n",
    "        cls.__private_static_attribute=10\n",
    "        \n",
    "f1=Example('Example 1')\n"
   ]
  },
  {
   "cell_type": "markdown",
   "metadata": {},
   "source": [
    "Inheritance"
   ]
  },
  {
   "cell_type": "code",
   "execution_count": null,
   "metadata": {},
   "outputs": [],
   "source": [
    "class Dad: \n",
    "    ...\n",
    "class Mother: \n",
    "    ...\n",
    "class Son(Dad,Mother): # inherit\n",
    "    ..."
   ]
  },
  {
   "cell_type": "markdown",
   "metadata": {},
   "source": [
    "Getter And Setters"
   ]
  },
  {
   "cell_type": "code",
   "execution_count": 1,
   "metadata": {},
   "outputs": [],
   "source": [
    "class ExampleGnS:\n",
    "    @property\n",
    "    def attribute(self) -> int:\n",
    "        return self.__dict__.get('attribute') # type: ignore\n",
    "\n",
    "    @attribute.setter\n",
    "    def attribute(self, val: int) -> None:\n",
    "        self.__dict__['attribute'] = val\n",
    "\n",
    "    @attribute.deleter\n",
    "    def attribute(self):\n",
    "       del self.__dict__['attribute']\n",
    "\n",
    "    @property\n",
    "    def name(self) -> int:\n",
    "        return self.__name\n",
    "\n",
    "    @name.setter\n",
    "    def name(self, val: int) -> None:\n",
    "        self.__name = val\n",
    "\n",
    "    @name.deleter\n",
    "    def name(self):\n",
    "       del self.__name\n"
   ]
  },
  {
   "attachments": {},
   "cell_type": "markdown",
   "metadata": {},
   "source": [
    "Magic Methods"
   ]
  },
  {
   "cell_type": "code",
   "execution_count": null,
   "metadata": {},
   "outputs": [],
   "source": [
    "class MathOperations(Value):\n",
    "    def __add__(self,other): return self.myVal + self.conv2Num(other)\n",
    "    def __sub__(self,other): return self.myVal - self.conv2Num(other)\n",
    "    def __mul__(self,other): return self.myVal * self.conv2Num(other)\n",
    "    def __floordiv__(self,other): return self.myVal // self.conv2Num(other)\n",
    "    def __truediv__(self,other): return self.myVal / self.conv2Num(other)\n",
    "    def __mod__(self,other): return self.myVal % self.conv2Num(other)\n",
    "    def __pow__(self,other): return self.myVal ** self.conv2Num(other)\n",
    "    def __iadd__(self, other): self.myVal += self.conv2Num(other)\n",
    "    def __isub__(self, other): self.myVal -= self.conv2Num(other)\n",
    "    def __imul__(self, other): self.myVal *= self.conv2Num(other)\n",
    "    def __ifloordiv__(self, other): self.myVal //= self.conv2Num(other)\n",
    "    def __itruediv__(self, other): self.myVal /= self.conv2Num(other)\n",
    "    def __idiv__(self, other): self.myVal /= self.conv2Num(other)\n",
    "    def __imod__(self, other): self.myVal %= self.conv2Num(other)\n",
    "    def __ipow__(self, other): self.myVal **= self.conv2Num(other)\n",
    "    # __radd__ __rdivmod__ __rpow__ __rmod__ __rmul__ __rsub__ __rfloordiv__ __rtruediv__ __divmod__\n",
    "class FunctionOperations(Value):\n",
    "    def __pos__(self): return abs(self.myVal)\n",
    "    def __neg__(self): return abs(self.myVal) * -1\n",
    "    def __abs__(self): return abs(self.myVal)\n",
    "    def __ceil__(self): return math.ceil(self.myVal)\n",
    "    def __floor__(self): return math.floor(self.myVal)\n",
    "    def __trunc__(self): return math.trunc(self.myVal)\n",
    "    def __round__(self,n): return round(self.myVal,n)\n",
    "    def __nonzero__(self): return self.myVal!=None and self.myVal!=0\n",
    "    def __dir__(self): return dir(self.myVal)\n",
    "    def __sizeof__(self): return self.myVal.__sizeof__ # sys.getsizeof()\n",
    "class LogicOperations(Value):\n",
    "    def __eq__(self,other): return self.myVal == other\n",
    "    def __ne__(self,other): return self.myVal != other\n",
    "    def __lt__(self,other): return self.myVal < other\n",
    "    def __le__(self,other): return self.myVal <= other\n",
    "    def __gt__(self,other): return self.myVal > other\n",
    "    def __ge__(self,other): return self.myVal >= other\n",
    "    def __and__(self,other): return self.myVal and other\n",
    "    def __or__(self,other): return self.myVal or other\n",
    "    def __bool__(self): return bool(self.myVal)\n",
    "class BinaryOperations(Value):\n",
    "    def __lshift__(self,other): return self.myVal << other\n",
    "    def __rlshift__(self,other): return self.myVal >> other\n",
    "    # def __xor__(self): return self.myVal ^ other\n",
    "    def __invert__(self): return ~self.myVal\n",
    "    def __ilshift__(self, other): self.myVal <<= other\n",
    "    def __irshift__(self, other): self.myVal >>= other\n",
    "    def __iand__(self, other): self.myVal &= other\n",
    "    def __ior__(self, other): self.myVal |= other\n",
    "    def __ixor__(self, other): self.myVal ^= other\n",
    "    # __rand__ __ror__ __rxor__ __rrshift__ __rshift__\n",
    "class StringOprations(Value):\n",
    "    def __str__(self):\n",
    "        '''Invoked with print()'''\n",
    "        return f'name={self.myVal}'\n",
    "    def __repr__(self): return repr(self.myVal)\n",
    "    # def __unicode__(self): return unicode(self.myVal)\n",
    "    def __format__(self,formatstr): return str(self.myVal).format(formatstr)\n",
    "    def __hash__(self): return hash(self.myVal)\n",
    "class CastOperations(Value):\n",
    "    def __int__(self): return int(self.myVal)\n",
    "    def __float__(self): return float(self.myVal)\n",
    "    def __complex__(self): return complex(self.myVal)\n",
    "    def __oct__(self): return oct(self.myVal)\n",
    "    def __hex__(self): return hex(self.myVal)\n",
    "    # def __index__(self): return int(self.myVal) #To get called on type conversion to an int when the object is used in a slice expression.\n",
    "class InstanceOparations:\n",
    "    def __new__(cls):\n",
    "        print (\"__new__ magic method is called\")\n",
    "        inst = object.__new__(cls)\n",
    "        return inst\n",
    "    def __init__(self):\n",
    "        print (\"__init__ magic method is called\")\n",
    "        self.name='Satya'\n",
    "    def __del__(self):\n",
    "        print (\"Destructor\")\n",
    "    # __class__ __doc__ __getattribute__ __getnewargs__ __init_subclass__\n",
    "class AttributeOparations:\n",
    "    def __delattr__(self, name):\n",
    "        ...\n",
    "    def __setattr__(self, name, value):\n",
    "        ...\n",
    "    def __getattr__(self, name):\n",
    "        if name[0:4]=='get_': return None\n",
    "        try:\n",
    "            return getattr(self, 'get_'+name)()\n",
    "        except:\n",
    "            ...\n",
    "        k=self.__dict__.keys()\n",
    "        if name in k: return self.__dict__[name]\n",
    "        name='_'+name\n",
    "        if name in k: return self.__dict__[name]\n",
    "        name='_'+name\n",
    "        if name in k: return self.__dict__[name]\n",
    "        return None"
   ]
  }
 ],
 "metadata": {
  "kernelspec": {
   "display_name": "base",
   "language": "python",
   "name": "python3"
  },
  "language_info": {
   "codemirror_mode": {
    "name": "ipython",
    "version": 3
   },
   "file_extension": ".py",
   "mimetype": "text/x-python",
   "name": "python",
   "nbconvert_exporter": "python",
   "pygments_lexer": "ipython3",
   "version": "3.7.4rc1"
  },
  "orig_nbformat": 4,
  "vscode": {
   "interpreter": {
    "hash": "aec433a4d2193175589e7941ed46c95a3509ea05ac75837e875cba4270fe4983"
   }
  }
 },
 "nbformat": 4,
 "nbformat_minor": 2
}
