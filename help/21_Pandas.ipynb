{
 "cells": [
  {
   "cell_type": "markdown",
   "metadata": {},
   "source": [
    "# Pandas\n",
    "\n",
    "<https://pandas.pydata.org/pandas-docs/stable/user_guide/index.html#user-guide>"
   ]
  },
  {
   "cell_type": "markdown",
   "metadata": {},
   "source": [
    "## Séries\n",
    "\n",
    "<https://pandas.pydata.org/pandas-docs/stable/reference/series.html>\n",
    "\n",
    "### Atributos do objeto Series\n",
    "\n",
    "| Atributo                                                                                       | Descrição                                                  | Exemplo    |\n",
    "| :--------------------------------------------------------------------------------------------- | :--------------------------------------------------------- | :--------- |\n",
    "| [dtype](https://pandas.pydata.org/pandas-docs/stable/reference/api/pandas.Series.dtype.html)   | Retorna o tipo dos dados armazenados em um objeto Series   | `s.dtype`  |\n",
    "| [index](https://pandas.pydata.org/pandas-docs/stable/reference/api/pandas.Series.index.html)   | Retorna o índice (rótulos) de um objeto Series             | `s.index`  |\n",
    "| [name](https://pandas.pydata.org/pandas-docs/stable/reference/api/pandas.Series.index.html)    | Retorna o nome                                             | `s.name`   |\n",
    "| [nbytes](https://pandas.pydata.org/pandas-docs/stable/reference/api/pandas.Series.nbytes.html) | Retorna o tamanho em bytes de um objeto Series             | `s.nbytes` |\n",
    "| [ndim](https://pandas.pydata.org/pandas-docs/stable/reference/api/pandas.Series.ndim.html)     | Retorna o número de dimensões de um objeto Series          | `s.ndim`   |\n",
    "| [shape](https://pandas.pydata.org/pandas-docs/stable/reference/api/pandas.Series.shape.html)   | Retorna uma tupla com o formato de um objeto Series        | `s.shape`  |\n",
    "| [size](https://pandas.pydata.org/pandas-docs/stable/reference/api/pandas.Series.size.html)     | Retorna a quantidade de elementos de um objeto Series      | `s.size`   |\n",
    "| [values](https://pandas.pydata.org/pandas-docs/stable/reference/api/pandas.Series.values.html) | Retorna os elementos de um objeto Series como um *ndarray* | `s.values` |\n"
   ]
  },
  {
   "cell_type": "markdown",
   "metadata": {},
   "source": [
    "### Métodos do objeto Series: indexação e iteração\n",
    "\n",
    "| Método                                                                                                       | Descrição                                                 | Exemplo                      |\n",
    "| :----------------------------------------------------------------------------------------------------------- | :-------------------------------------------------------- | :--------------------------- |\n",
    "| [at()](https://pandas.pydata.org/pandas-docs/stable/reference/api/pandas.Series.at.html)                     | Acessa o elemento da chave passada por parâmetro          | `s.at[\"chave\"]`              |\n",
    "| [iat()](https://pandas.pydata.org/pandas-docs/stable/reference/api/pandas.Series.iat.html)                   | Acessa o elemento no índice passado por parâmetro         | `s.iat(0)`                   |\n",
    "| [get()](https://pandas.pydata.org/pandas-docs/stable/reference/api/pandas.Series.get.html#pandas.Series.get) | Retorna um valor para a chave passada por parâmetro       | `s.get(2)`                   |\n",
    "| [loc()](https://pandas.pydata.org/pandas-docs/stable/reference/api/pandas.Series.loc.html)                   | Acessa os elementos para as chaves passadas por parâmetro | `s.loc[\"chave1\", \"chave2\"]`  |\n",
    "| [iloc()](https://pandas.pydata.org/pandas-docs/stable/reference/api/pandas.Series.iloc.html)                 | Acesso via índice                                         | `s.iloc[0] ou s.iloc[[1,3]]` |\n",
    "| [keys()](https://pandas.pydata.org/pandas-docs/stable/reference/api/pandas.Series.keys.html)                 | Retorna o índice (rótulos) de um objeto Series            | `s.keys()`                   |"
   ]
  },
  {
   "cell_type": "markdown",
   "metadata": {},
   "source": [
    "### Métodos do objetos Series: operações matemáticas e estatísticas\n",
    "\n",
    "| Método                                                                                                 | Descrição                                                                                             | Exemplo                           |\n",
    "| :----------------------------------------------------------------------------------------------------- | :---------------------------------------------------------------------------------------------------- | :-------------------------------- |\n",
    "| [add()](https://pandas.pydata.org/pandas-docs/stable/reference/api/pandas.Series.add.html)             | Retorna a soma com outra Series ou escalar, elemento por elemento                                     | `c = a.add(b, fill_value=0)`      |\n",
    "| [sub()](https://pandas.pydata.org/pandas-docs/stable/reference/api/pandas.Series.sub.html)             | Retorna a subtração com outra Series ou escalar, elemento por elemento                                | `c = a.sub(b, fill_value=3)`      |\n",
    "| [mul()](https://pandas.pydata.org/pandas-docs/stable/reference/api/pandas.Series.mul.html)             | Retorna a multiplicação com outra Series ou escalar, elemento por elemento                            | `c = a.mul(b, fill_value=1)`      |\n",
    "| [div()](https://pandas.pydata.org/pandas-docs/stable/reference/api/pandas.Series.div.html)             | Retorna a divisão com outra Series ou escalar, elemento por elemento                                  | `c = a.div(b, fill_value=1)`      |\n",
    "| [floordiv()](https://pandas.pydata.org/pandas-docs/stable/reference/api/pandas.Series.floordiv.html)   | Retorna a divisão inteira com outra Series ou escalar, elemento por elemento                          | `c = a.floordiv(b, fill_value=1)` |\n",
    "| [mod()](https://pandas.pydata.org/pandas-docs/stable/reference/api/pandas.Series.mod.html)             | Retorna o resto da divisão com outra Series ou escalar, elemento por elemento                         | `c = a.mod(b, fill_value=1)`      |\n",
    "| [pow()](https://pandas.pydata.org/pandas-docs/stable/reference/api/pandas.Series.pow.html)             | Retorna a potenciação com outra Series ou escalar, elemento por elemento                              | `c = a.pow(b, fill_value=1)`      |\n",
    "| [round()](https://pandas.pydata.org/pandas-docs/stable/reference/api/pandas.Series.round.html)         | Arredonda os valores de uma Series para uma quantidade determinada de casas decimais                  | `s = a.round(2)`                  |\n",
    "| [abs()](https://pandas.pydata.org/pandas-docs/stable/reference/api/pandas.Series.abs.html)             | Retorna valor absoluto de todos os elementos de um objeto Series                                      | `s.abs()`                         |\n",
    "| [lt()](https://pandas.pydata.org/pandas-docs/stable/reference/api/pandas.Series.lt.html)               | Retorna o resultado da comparação *menor que*, aplicada elemento por elemento, entre duas Series      | `c = a.lt(b, fill_value=0)`       |\n",
    "| [gt()](https://pandas.pydata.org/pandas-docs/stable/reference/api/pandas.Series.gt.html)               | Retorna o resultado da comparação *maior que*, aplicada elemento por elemento, entre duas Series      | `c = a.gt(b, fill_value=0)`       |\n",
    "| [le()](https://pandas.pydata.org/pandas-docs/stable/reference/api/pandas.Series.le.html)               | Retorna o resultado da comparação *menor ou igual*, aplicada elemento por elemento, entre duas Series | `c = a.le(b, fill_value=0)`       |\n",
    "| [ge()](https://pandas.pydata.org/pandas-docs/stable/reference/api/pandas.Series.ge.html)               | Retorna o resultado da comparação *maior ou igual*, aplicada elemento por elemento, entre duas Series | `c = a.ge(b, fill_value=0)`       |\n",
    "| [ne()](https://pandas.pydata.org/pandas-docs/stable/reference/api/pandas.Series.ne.html)               | Retorna o resultado da comparação *não igual a*, aplicada elemento por elemento, entre duas Series    | `c = a.ne(b, fill_value=0)`       |\n",
    "| [eq()](https://pandas.pydata.org/pandas-docs/stable/reference/api/pandas.Series.eq.html)               | Retorna o resultado da comparação *igual a*, aplicada elemento por elemento, entre duas Series        | `c = a.eq(b, fill_value=0)`       |\n",
    "| [sum()](https://pandas.pydata.org/pandas-docs/stable/reference/api/pandas.Series.sum.html)             | Retorna a soma entre todos os elementos de um objeto Series                                           | `s.sum()`                         |\n",
    "| [product()](https://pandas.pydata.org/pandas-docs/stable/reference/api/pandas.Series.product.html)     | Retorna o produto entre todos os elementos de um objeto Series                                        | `s.product()`                     |\n",
    "| [mean()](https://pandas.pydata.org/pandas-docs/stable/reference/api/pandas.Series.mean.html)           | Retorna a média aritmética entre todos os elementos de um objeto Series                               | `s.mean()`                        |\n",
    "| [count()](https://pandas.pydata.org/pandas-docs/stable/reference/api/pandas.Series.count.html)         | Retorna a quantidade de elementos não nulos                                                           | `s.count()`                       |\n",
    "| [std()](https://pandas.pydata.org/pandas-docs/stable/reference/api/pandas.Series.std.html)             | Retorna o desvio padrão                                                                               | `s.std()`                         |\n",
    "| [median()](https://pandas.pydata.org/pandas-docs/stable/reference/api/pandas.Series.median.html)       | Retorna a mediana entre todos os elementos                                                            | `s.median()`                      |\n",
    "| [max()](https://pandas.pydata.org/pandas-docs/stable/reference/api/pandas.Series.max.html)             | Retorna o maior valor                                                                                 | `s.max()`                         |\n",
    "| [min()](https://pandas.pydata.org/pandas-docs/stable/reference/api/pandas.Series.min.html)             | Retorna o menor valor                                                                                 | `s.min()`                         |\n",
    "| [quantile()](https://pandas.pydata.org/pandas-docs/stable/reference/api/pandas.Series.quantile.html)   | Retorna o valor de determinado quantil passado por parâmetro                                          | `s.quantile(0.25)`                |\n",
    "| [describe()](https://pandas.pydata.org/pandas-docs/stable/reference/api/pandas.Series.describe.html)   | Gera um relatório com diversas medidas estatísticas como média, percentis, etc...                     | `s.describe()`                    |\n",
    "| [nlargest()](https://pandas.pydata.org/pandas-docs/stable/reference/api/pandas.Series.nlargest.html)   | Retorna os *n* maiores elementos                                                                      | `s.nlargest(3)`                   |\n",
    "| [nsmallest()](https://pandas.pydata.org/pandas-docs/stable/reference/api/pandas.Series.nsmallest.html) | Retorna os *n* menores elementos                                                                      | `s.nsmallest(5)`                  |\n",
    "| [unique()](https://pandas.pydata.org/pandas-docs/stable/reference/api/pandas.Series.unique.html)       | Retorna  valores únicos                                                                               | `s.unique()`                      |\n",
    "| [nunique()](https://pandas.pydata.org/pandas-docs/stable/reference/api/pandas.Series.nunique.html)     | Retorna a quantidade de elementos únicos                                                              | `s.nunique()`                     |"
   ]
  },
  {
   "cell_type": "markdown",
   "metadata": {},
   "source": [
    "### Métodos do objetos Series: manipulação e seleção\n",
    "\n",
    "| Método                                                                                                          | Descrição                                                                                                             | Exemplo                |\n",
    "| :-------------------------------------------------------------------------------------------------------------- | :-------------------------------------------------------------------------------------------------------------------- | :--------------------- |\n",
    "| [copy()](https://pandas.pydata.org/pandas-docs/stable/reference/api/pandas.Series.copy.html#pandas.Series.copy) | Retorna uma cópia de um objetos Series                                                                                | `s.copy()`             |\n",
    "| [append()](https://pandas.pydata.org/pandas-docs/stable/reference/api/pandas.Series.append.html)                | Concatena duas ou mais Series                                                                                         | `s = a.append(b)`      |\n",
    "| [replace()](https://pandas.pydata.org/pandas-docs/stable/reference/api/pandas.Series.replace.html)              | Substitui valor da Series por outro passado por parâmetro                                                             | `s = a.replace(-1, 0)` |\n",
    "| [update()](https://pandas.pydata.org/pandas-docs/stable/reference/api/pandas.Series.update.html)                | Modifica uma série por valores de outra série passada por parâmetro                                                   | `a.update(b)`          |\n",
    "| [head()](https://pandas.pydata.org/pandas-docs/stable/reference/api/pandas.Series.head.html)                    | Retorna as *n* primeiras linhas                                                                                       | `s.head(3)`            |\n",
    "| [tail()](https://pandas.pydata.org/pandas-docs/stable/reference/api/pandas.Series.tail.html)                    | Retorna as *n* últimas linhas                                                                                         | `s.tail(4)`            |\n",
    "| [sample()](https://pandas.pydata.org/pandas-docs/stable/reference/api/pandas.Series.sample.html)                | Retorna uma amostra                                                                                                   | `s.sample()`           |\n",
    "| [where()](https://pandas.pydata.org/pandas-docs/stable/reference/api/pandas.Series.where.html)                  | Retorna uma Series onde valores para os quais a condição é **False** são substituídos por outro passado por parâmetro | `s.where(s <= 0, 5)`   |\n",
    "| [mask()](https://pandas.pydata.org/pandas-docs/stable/reference/api/pandas.Series.mask.html)                    | Retorna uma Series onde valores para os quais a condição é **True** são substituídos por outro passado por parâmetro  | `s.mask(s > 0, 5)`     |"
   ]
  },
  {
   "cell_type": "markdown",
   "metadata": {},
   "source": [
    "### Métodos do objetos Series: manipulação de dados ausentes\n",
    "\n",
    "| Método                                                                                           | Descrição                                                                   | Exemplo       |\n",
    "| :----------------------------------------------------------------------------------------------- | :-------------------------------------------------------------------------- | :------------ |\n",
    "| [isna()](https://pandas.pydata.org/pandas-docs/stable/reference/api/pandas.Series.isna.html)     | Retorna quais valores estão ausentes                                        | `s.isna()`    |\n",
    "| [notna()](https://pandas.pydata.org/pandas-docs/stable/reference/api/pandas.Series.notna.html)   | Retorna quais valores estão presentes                                       | `s.notna()`   |\n",
    "| [dropna()](https://pandas.pydata.org/pandas-docs/stable/reference/api/pandas.Series.dropna.html) | Retorna uma nova Series com valores ausentes removidos                      | `s.dropna()`  |\n",
    "| [fillna()](https://pandas.pydata.org/pandas-docs/stable/reference/api/pandas.Series.fillna.html) | Substitui valores ausentes por um valor ou usando um método de substituição | `s.fillna(0)` |"
   ]
  },
  {
   "cell_type": "markdown",
   "metadata": {},
   "source": [
    "### Métodos do objetos Series: ordenação\n",
    "\n",
    "| Método                                                                                                     | Descrição                                 | Exemplo           |\n",
    "| :--------------------------------------------------------------------------------------------------------- | :---------------------------------------- | :---------------- |\n",
    "| [sort_values()](https://pandas.pydata.org/pandas-docs/stable/reference/api/pandas.Series.sort_values.html) | Retorna uma Series ordenada pelos valores | `s.sort_values()` |\n",
    "| [sort_index()](https://pandas.pydata.org/pandas-docs/stable/reference/api/pandas.Series.sort_index.html)   | Retorna uma Series ordenada pelos rótulos | `s.sort_index()`  |"
   ]
  },
  {
   "cell_type": "markdown",
   "metadata": {},
   "source": [
    "### Métodos do objetos Series: manipulando strings\n",
    "\n",
    "| Método                                                                                                           | Descrição                                                                                                                                   | Exemplo              |\n",
    "| :--------------------------------------------------------------------------------------------------------------- | :------------------------------------------------------------------------------------------------------------------------------------------ | :------------------- |\n",
    "| [str.capitalize()](https://pandas.pydata.org/pandas-docs/stable/reference/api/pandas.Series.str.capitalize.html) | Retorna uma Series com os Strings convertidos para a forma *capitalizada*: primeiro caractere maiúsculo e caracteres restantes em minúsculo | `s.str.capitalize()` |\n",
    "| [str.lower()](https://pandas.pydata.org/pandas-docs/stable/reference/api/pandas.Series.str.lower.html)           | Retorna uma Series com os Strings convertidos  para letras minúsculas                                                                       | `s.str.lower()`      |\n",
    "| [str.upper()](https://pandas.pydata.org/pandas-docs/stable/reference/api/pandas.Series.str.upper.html)           | Retorna uma Series com os Strings convertidos para letras maiúsculas                                                                        | `s.str.upper() `     |\n",
    "| [str.title()](https://pandas.pydata.org/pandas-docs/stable/reference/api/pandas.Series.str.title.html)           | Retorna uma Series com os Strings convertidos para o formato de título: primeira letra de cada palavra convertida para maiúscula            | `s.str.title() `     |"
   ]
  },
  {
   "cell_type": "markdown",
   "metadata": {},
   "source": [
    "### Métodos do objetos Series: plotando gráficos\n",
    "\n",
    "| Método                                                                                                 | Descrição                 | Exemplo         |\n",
    "| :----------------------------------------------------------------------------------------------------- | :------------------------ | :-------------- |\n",
    "| [plot.area()](https://pandas.pydata.org/pandas-docs/stable/reference/api/pandas.Series.plot.area.html) | Plota o gráfico de área   | `s.plot.area()` |\n",
    "| [plot.bar()](https://pandas.pydata.org/pandas-docs/stable/reference/api/pandas.Series.plot.bar.html)   | Plota o gráfico de barras | `s.plot.bar()`  |\n",
    "| [plot.box()](https://pandas.pydata.org/pandas-docs/stable/reference/api/pandas.Series.plot.box.html)   | Plota o Boxplot           | `s.plot.box()`  |\n",
    "| [plot.hist()](https://pandas.pydata.org/pandas-docs/stable/reference/api/pandas.Series.plot.hist.html) | Plota o histograma        | `s.plot.hist()` |\n",
    "| [plot.line()](https://pandas.pydata.org/pandas-docs/stable/reference/api/pandas.Series.plot.line.html) | Plota o gráfico de linhas | `s.plot.line()` |"
   ]
  },
  {
   "cell_type": "markdown",
   "metadata": {},
   "source": [
    "df.rename(index={'Cidade_A': 'Cidade_X'}, inplace=True)\n",
    "df_renomeado_colunas = df.rename(columns={'população': 'pop', 'área': 'km2'})\n"
   ]
  }
 ],
 "metadata": {
  "language_info": {
   "name": "python"
  }
 },
 "nbformat": 4,
 "nbformat_minor": 2
}
