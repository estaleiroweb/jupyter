{
 "cells": [
  {
   "cell_type": "markdown",
   "metadata": {},
   "source": [
    "# Data Type - Number\n",
    "\n",
    "| Método/Atributo                               | Tipo  | Descrição                                                                                                                 |\n",
    "| --------------------------------------------- | ----- | ------------------------------------------------------------------------------------------------------------------------- |\n",
    "| bit_length()                                  | int   | Retorna o número de bits necessários para representar o número em binário, excluindo o sinal e zeros à esquerda.          |\n",
    "| conjugate()                                   | float | Retorna o conjugado complexo do número (para compatibilidade com números complexos; retorna o próprio número para float). |\n",
    "| from_bytes(bytes, byteorder, *, signed=False) | int   | Converte uma sequência de bytes para um inteiro.                                                                          |\n",
    "| to_bytes(length, byteorder, *, signed=False)  | int   | Converte o inteiro para uma sequência de bytes de comprimento especificado.                                               |\n",
    "| as_integer_ratio()                            | float | Retorna uma tupla representando a fração equivalente ao número (numerador e denominador).                                 |\n",
    "| is_integer()                                  | float | Retorna True se o número for um inteiro (sem parte decimal).                                                              |\n",
    "| hex()                                         | float | Retorna a representação hexadecimal do número.                                                                            |\n",
    "| fromhex(s)                                    | float | Converte uma string hexadecimal em um número float.                                                                       |\n",
    "\n",
    "\n",
    "## Específicos para float\n",
    "\n",
    "| Atributo                                      | Tipo  | Descrição                                                                                                                 |\n",
    "| --------------------------------------------- | ----- | ------------------------------------------------------------------------------------------------------------------------- |\n",
    "| real                                          | float | Parte real do número (para float, é o próprio número).                                                                    |\n",
    "| imag                                          | float | Parte imaginária do número (para float, sempre 0.0).                                                                      |"
   ]
  },
  {
   "cell_type": "markdown",
   "metadata": {},
   "source": [
    "Exemplo para int"
   ]
  },
  {
   "cell_type": "code",
   "execution_count": 1,
   "metadata": {},
   "outputs": [
    {
     "name": "stdout",
     "output_type": "stream",
     "text": [
      "6\n",
      "b'\\x00*'\n",
      "42\n"
     ]
    }
   ],
   "source": [
    "x = 42\n",
    "print(x.bit_length())  # Saída: 6\n",
    "print(x.to_bytes(2, byteorder='big'))  # Saída: b'\\x00*'\n",
    "\n",
    "y = int.from_bytes(b'\\x00*', byteorder='big')\n",
    "print(y)  # Saída: 42"
   ]
  },
  {
   "cell_type": "markdown",
   "metadata": {},
   "source": [
    "Exemplo para float"
   ]
  },
  {
   "cell_type": "code",
   "execution_count": 2,
   "metadata": {},
   "outputs": [
    {
     "name": "stdout",
     "output_type": "stream",
     "text": [
      "True\n",
      "0x1.5000000000000p+5\n",
      "42.0\n",
      "7070651414971679 2251799813685248\n"
     ]
    }
   ],
   "source": [
    "x = 42.0\n",
    "print(x.is_integer())  # Saída: True\n",
    "print(x.hex())  # Saída: '0x1.5p+5'\n",
    "\n",
    "y = float.fromhex('0x1.5p+5')\n",
    "print(y)  # Saída: 42.0\n",
    "\n",
    "z = 3.14\n",
    "numerator, denominator = z.as_integer_ratio()\n",
    "print(numerator, denominator)  # Saída: 7070651414971679 2251799813685248"
   ]
  }
 ],
 "metadata": {
  "kernelspec": {
   "display_name": "base",
   "language": "python",
   "name": "python3"
  },
  "language_info": {
   "codemirror_mode": {
    "name": "ipython",
    "version": 3
   },
   "file_extension": ".py",
   "mimetype": "text/x-python",
   "name": "python",
   "nbconvert_exporter": "python",
   "pygments_lexer": "ipython3",
   "version": "3.9.7"
  }
 },
 "nbformat": 4,
 "nbformat_minor": 2
}
