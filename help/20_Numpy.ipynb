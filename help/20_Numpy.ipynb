{
 "cells": [
  {
   "cell_type": "markdown",
   "metadata": {},
   "source": [
    "# Numpy"
   ]
  },
  {
   "cell_type": "markdown",
   "metadata": {},
   "source": [
    "## Criando\n",
    "\n",
    "| Método/Atributo     | Descrição Resumida                                                                                      |\n",
    "| ------------------- | ------------------------------------------------------------------------------------------------------- |\n",
    "| np.array()          | Cria uma matriz NumPy a partir de uma lista, tupla ou outra matriz.                                     |\n",
    "| np.zeros()          | Cria uma matriz de zeros com a forma especificada.                                                      |\n",
    "| np.ones()           | Cria uma matriz de uns com a forma especificada.                                                        |\n",
    "| np.arange()         | Cria uma matriz com valores espaçados uniformemente dentro de um intervalo.                             |\n",
    "| np.linspace()       | Cria uma matriz com números igualmente espaçados em um intervalo especificado.                          |\n",
    "| np.full()           | Cria uma matriz com conteúdo segundo argumento                                                          |\n",
    "| np.eye()            | Cria uma matriz identidade de forma especificada.                                                       |\n",
    "| np.random.rand()    | Cria uma matriz de forma especificada com valores aleatórios de uma distribuição uniforme entre [0, 1). |\n",
    "| np.random.randn()   | Cria uma matriz de forma especificada com valores aleatórios de uma distribuição normal padrão.         |\n",
    "| np.random.randint() | Cria uma matriz de forma especificada com valores aleatórios de uma                                     |\n",
    "| np.random.random()  | Cria uma matriz de forma especificada com valores aleatórios de uma distribuição normal padrão          |\n",
    "| np.random.uniform() | Cria uma matriz de forma especificada com valores aleatórios de                                         |\n",
    "| np.random.seed()    | Especifica um padrão para obter os mesmos números aleatórios                                            |\n",
    "| np.nan              | Valor não aplicável (None)                                                                              |"
   ]
  },
  {
   "cell_type": "markdown",
   "metadata": {},
   "source": [
    "## Cálculos\n",
    "\n",
    "| Método/Atributo | Descrição Resumida                                                      |\n",
    "| --------------- | ----------------------------------------------------------------------- |\n",
    "| np.add()        | O mesmo que obj + obj2                                                  |\n",
    "| np.subtract()   | O mesmo que obj - obj2                                                  |\n",
    "| np.multiply()   | O mesmo que obj * obj2                                                  |\n",
    "| np.divide()     | O mesmo que obj / obj2                                                  |\n",
    "| np.sqrt()       | Raiz                                                                    |\n",
    "| np.mod()        | O mesmo que obj % obj2                                                  |\n",
    "| np.power()      | O mesmo que obj ** obj2                                                 |\n",
    "| np.remainder()  | O mesmo que obj % obj2                                                  |\n",
    "| np.floor()      | O mesmo que obj // obj2                                                 |\n",
    "| np.ceil()       | O mesmo que obj // obj2                                                 |\n",
    "| np.trunc()      | O mesmo que obj // obj2                                                 |\n",
    "| np.round()      | O mesmo que obj // obj2                                                 |\n",
    "| obj.min()       | Retorna o menor valor ao longo de um eixo especificado.                 |\n",
    "| obj.max()       | Retorna o maior valor ao longo de um eixo especificado.                 |\n",
    "| obj.sum()       | Calcula a soma dos elementos ao longo de um eixo especificado.          |\n",
    "| obj.mean()      | Média dos elementos do array                                            |\n",
    "| obj.std()       | Calcula o desvio padrão dos elementos ao longo de um eixo especificado. |\n",
    "| obj.var()       | Calcula a variância dos elementos ao longo de um eixo especificado.     |\n",
    "| obj.dot()       | Calcula o produto escalar de duas matrizes.                             |\n",
    "| obj.argmin()    | Retorna os índices do menor valor ao longo de um eixo especificado.     |\n",
    "| obj.argmax()    | Retorna os índices do maior valor ao longo de um eixo especificado.     |\n",
    "| obj.cumsum()    | Retorna a soma cumulativa dos elementos ao longo de um eixo.            |\n",
    "| obj.cumprod()   | Retorna o produto cumulativo dos elementos ao longo de um eixo.         |\n",
    "| obj.cummin()    | Retorna o valor mínimo cumulativo dos elementos do array                |\n",
    "| obj.cummax()    | Retorna o valor máximo cumulativo dos elementos do array                |\n",
    "| obj.median()    | Calcula a mediana dos elementos ao longo de um eixo especificado.       |\n",
    "| obj.linalg.inv()    | Calcula a inversa de uma matriz quadrada.                                                               |\n",
    "| obj.linalg.det()    | Calcula o determinante de uma matriz.                                                                   |\n",
    "| obj.linalg.eig()    | Retorna os valores próprios e vetores próprios de uma matriz quadrada.                                  |\n",
    "| obj.linalg.svd()    | Calcula a decomposição em valores singulares (SVD) de uma matriz.                                       |\n"
   ]
  },
  {
   "cell_type": "markdown",
   "metadata": {},
   "source": [
    "## Manipulação\n",
    "\n",
    "| Método/Atributo  | Descrição Resumida                                                            |\n",
    "| ---------------- | ----------------------------------------------------------------------------- |\n",
    "| obj.dtype        | Tipo do array                                                                 |\n",
    "| obj.dtype.name   | String de dType                                                               |\n",
    "| obj.shape        | Mostra ou altera o formato(dimensões) do array obj.shape=(2,4)                |\n",
    "| obj.size         | Número de elementos do array                                                  |\n",
    "| obj.ndim         | Número de dimensões do array                                                  |\n",
    "| obj.itemsize     | Tamanho de cada elemento do array                                             |\n",
    "| obj.nbytes       | Tamanho total do array em bytes                                               |\n",
    "| obj.T            | Transpõe o array. Idem obj.transpose()                                        |\n",
    "| obj.append()     | Adiciona elementos no fim do array transformando em linear                    |\n",
    "| obj.insert()     | Insere elementos em uma posição especificada do array transformando em linear |\n",
    "| obj.delete()     | Remove elementos do array                                                     |\n",
    "| obj.copy()       | Cria uma cópia do array                                                       |\n",
    "| obj.sort()       | Ordena os elementos do array                                                  |\n",
    "| obj.transpose()  | Transpõe as dimensões de uma matriz.                                          |\n",
    "| obj.reshape()    | Dá uma nova forma a uma matriz sem alterar seus dados. Idem obj.shape         |\n",
    "| obj.flatten()    | Cópia elementos do array multidimencional para forma linear                   |\n",
    "| obj.ravel()      | Cópia elementos do array multidimencional para forma linear                   |\n",
    "| np.concatenate() | Concatena matrizes ao longo de um eixo existente.                             |\n",
    "| np.vstack()      | O mesmo que np.concatenate((obj1, obj2), axis = 0)                            |\n",
    "| np.hstack()      | O mesmo que np.concatenate((obj1, obj2), axis = 1)                            |\n",
    "| np.stack()       | Concatena                                                                     |\n",
    "| np.split()       | Divide uma matriz em várias submatrizes.                                      |\n",
    "| np.hsplit()      | Divide uma matriz em várias submatrizes horizontalmente (colunas).            |\n",
    "| np.vsplit()      | Divide uma matriz em várias submatrizes verticalmente (linhas).               |\n",
    "| np.where()       | Retorna os índices dos elementos que satisfazem uma condição.                 |\n",
    "| obj.unique()     | Retorna os elementos únicos de uma matriz.                                    |\n",
    "| obj.reverse()    | Inverte a ordem dos elementos do array                                        |\n",
    "| obj.tolist()     | Transforma o array em uma lista                                               |\n",
    "| obj.flat         | Itera sobre todos os elementos do array                                       |\n",
    "| obj.swapaxes     | Troca o eixo i com o eixo j                                                   |\n",
    "| obj.view         | Retorna uma cópia do array com uma nova forma                                 |\n",
    "| obj.item         | Retorna um elemento do array                                                  |\n",
    "| obj.astype       | Retorna uma cópia do array com um tipo de dados diferente                     |\n",
    "| obj.itemset      | Atribui um valor a um elemento do array                                       |\n",
    "| obj.itemget      | Retorna o valor de um elemento do array                                       |\n",
    "| obj.fill         | Atribui um valor a todos os elementos do array                                |\n",
    "| obj.argsort      | Retorna os índices dos elementos ordenados                                    |\n",
    "| obj.clip         | Retorna uma cópia do array com os elementos limitados                         |\n",
    "| obj.ptp          | Retorna o intervalo máximo dos elementos do array                             |\n"
   ]
  },
  {
   "cell_type": "markdown",
   "metadata": {},
   "source": [
    "## Funções Nativas\n",
    "\n",
    "Menor performance\n",
    "\n",
    "| Método/Atributo | Descrição Resumida                |\n",
    "| --------------- | --------------------------------- |\n",
    "| len()           | Retorna a quantidade de elementos |\n",
    "| sum()           | Mesmo que obj.sum(axis = 0)       |\n",
    "| min()           | Mesmo que obj.min(axis = 0)       |\n",
    "| max()           | Mesmo que obj.max(axis = 0)       |\n",
    "| mean()          | Mesmo que obj.mean(axis = 0)      |\n",
    "| std()           | Mesmo que obj.std(axis = 0)       |\n",
    "| var()           | Mesmo que obj.var(axis = 0)       |\n",
    "| dot()           | Mesmo que obj.dot()               |"
   ]
  },
  {
   "cell_type": "markdown",
   "metadata": {},
   "source": [
    "## Performance\n",
    "\n",
    "| Máis Rápido    | Mais Lento  |\n",
    "| -------------- | ----------- |\n",
    "| Multiplicação  | Potenciação |\n",
    "| Comprehensions | np.append() |\n",
    "| np.Operations  | Operations  |"
   ]
  }
 ],
 "metadata": {
  "language_info": {
   "name": "python"
  }
 },
 "nbformat": 4,
 "nbformat_minor": 2
}
