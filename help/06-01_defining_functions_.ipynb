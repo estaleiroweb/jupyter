{
 "cells": [
  {
   "cell_type": "markdown",
   "metadata": {},
   "source": [
    "# Function definitions"
   ]
  },
  {
   "cell_type": "markdown",
   "metadata": {},
   "source": [
    "Function with 2 required parameters and return 2 values"
   ]
  },
  {
   "cell_type": "code",
   "execution_count": null,
   "metadata": {},
   "outputs": [],
   "source": [
    "def func_name1(parm1, parm2):\n",
    "    return 1, 3\n",
    "func_name1(1,2)"
   ]
  },
  {
   "cell_type": "markdown",
   "metadata": {},
   "source": [
    "Function with 2 optional parameters and return 1 value\\\n",
    "Call function declaring the second parameter"
   ]
  },
  {
   "cell_type": "code",
   "execution_count": null,
   "metadata": {},
   "outputs": [],
   "source": [
    "def func_name2(max=10, min=0):\n",
    "    return max\n",
    "func_name2(min=1)"
   ]
  },
  {
   "cell_type": "markdown",
   "metadata": {},
   "source": [
    "Function with 2 optional typed parameters and typed return\\\n",
    "Call function without parameters"
   ]
  },
  {
   "cell_type": "code",
   "execution_count": null,
   "metadata": {},
   "outputs": [],
   "source": [
    "def func_name3(max: int = 10, min: int = 0) -> int:\n",
    "    return max\n",
    "func_name3()"
   ]
  },
  {
   "cell_type": "markdown",
   "metadata": {},
   "source": [
    "Function with list int typed parameter"
   ]
  },
  {
   "cell_type": "code",
   "execution_count": 5,
   "metadata": {},
   "outputs": [
    {
     "data": {
      "text/plain": [
       "1"
      ]
     },
     "execution_count": 5,
     "metadata": {},
     "output_type": "execute_result"
    }
   ],
   "source": [
    "def func_name42(l: 'list[int]', index: int = 0) -> int:\n",
    "    return l[index]\n",
    "func_name42([1,2,3,4,5])"
   ]
  },
  {
   "cell_type": "markdown",
   "metadata": {},
   "source": [
    "Function with n parameters (list)"
   ]
  },
  {
   "cell_type": "code",
   "execution_count": null,
   "metadata": {},
   "outputs": [],
   "source": [
    "def func_name5(*kids):\n",
    "    print(\"The youngest child is \" + kids[2])\n",
    "func_name5('Emil', 'Tobias', 'Linus')"
   ]
  },
  {
   "cell_type": "markdown",
   "metadata": {},
   "source": [
    "Function with 1+n parameters (dict)"
   ]
  },
  {
   "cell_type": "code",
   "execution_count": null,
   "metadata": {},
   "outputs": [],
   "source": [
    "def func_name6(student, **grades):\n",
    "    for key, value in grades.items():\n",
    "        print(f'{student}: {key}={value}')\n",
    "func_name6('test1', FirstTest=68, SecondTest=72)"
   ]
  },
  {
   "cell_type": "markdown",
   "metadata": {},
   "source": [
    "Function usign global variable"
   ]
  },
  {
   "cell_type": "code",
   "execution_count": 17,
   "metadata": {},
   "outputs": [
    {
     "name": "stdout",
     "output_type": "stream",
     "text": [
      "external global\n",
      "internal global\n",
      "internal local\n",
      "external local\n",
      "external global\n",
      "external global 2\n",
      "external global 2\n"
     ]
    }
   ],
   "source": [
    "gVar = 'global'\n",
    "\n",
    "\n",
    "def func_name7():\n",
    "    return gVar  # global var\n",
    "\n",
    "\n",
    "def func_name8():\n",
    "    gVar = 'local'  # local var defining\n",
    "    print('internal:', globals()['gVar'])  # getting global var\n",
    "    print('internal:', locals()['gVar'])  # getting local var\n",
    "    return gVar  # local var\n",
    "\n",
    "\n",
    "def func_name9():\n",
    "    global gVar  # implicite global var defining\n",
    "    gVar = 'global 2'  # global var defining\n",
    "    return gVar  # global var\n",
    "\n",
    "\n",
    "print('external:', func_name7())\n",
    "print('external:', func_name8())\n",
    "print('external:', gVar)\n",
    "print('external:', func_name9())\n",
    "print('external:', gVar)\n"
   ]
  },
  {
   "cell_type": "markdown",
   "metadata": {},
   "source": [
    "Call function as list/tuple/set/dict arguments"
   ]
  },
  {
   "cell_type": "code",
   "execution_count": 31,
   "metadata": {},
   "outputs": [
    {
     "name": "stdout",
     "output_type": "stream",
     "text": [
      "List:\n",
      "arg1 = one, arg2 = two, arg3 = three\n",
      "arg1 = one, arg2 = two, arg3 = three\n",
      "\n",
      "Tuple:\n",
      "arg1 = one, arg2 = two, arg3 = three\n",
      "arg1 = one, arg2 = two, arg3 = three\n",
      "\n",
      "Set:\n",
      "arg1 = three, arg2 = two, arg3 = one\n",
      "arg1 = three, arg2 = two, arg3 = one\n",
      "\n",
      "Dict:\n",
      "arg1 = one, arg2 = two, arg3 = three\n",
      "arg1 = one, arg2 = two, arg3 = three\n"
     ]
    }
   ],
   "source": [
    "def func_name10(arg1, arg2, arg3):\n",
    "    print('arg1 =', arg1,end=', ')\n",
    "    print('arg2 =', arg2,end=', ')\n",
    "    print('arg3 =', arg3)\n",
    "\n",
    "\n",
    "print('List:')\n",
    "l = ['one', 'two', 'three']\n",
    "func_name10(*l)\n",
    "func_name10(*['one', 'two', 'three'])\n",
    "\n",
    "print('\\nTuple:')\n",
    "t = ('one', 'two', 'three')\n",
    "func_name10(*t)\n",
    "func_name10(*('one', 'two', 'three'))\n",
    "\n",
    "print('\\nSet:')\n",
    "s = {'one', 'two', 'three'}\n",
    "func_name10(*s)\n",
    "func_name10(*{'one', 'two', 'three'})\n",
    "\n",
    "print('\\nDict:')\n",
    "d = {'arg1': 'one', 'arg2': 'two', 'arg3': 'three'}\n",
    "func_name10(**d)\n",
    "func_name10(**{'arg1': 'one', 'arg2': 'two', 'arg3': 'three'})"
   ]
  },
  {
   "cell_type": "markdown",
   "metadata": {},
   "source": [
    "Lambda function"
   ]
  },
  {
   "cell_type": "code",
   "execution_count": null,
   "metadata": {},
   "outputs": [],
   "source": [
    "x = lambda a : a + 10\n",
    "print(x(5))\n",
    "x = lambda a, b : a * b\n",
    "print(x(5, 6))\n",
    "\n",
    "def myfunc(n):\n",
    "\treturn lambda a : a * n\n",
    "mydoubler = myfunc(2)\n",
    "print(mydoubler(11))"
   ]
  },
  {
   "cell_type": "markdown",
   "metadata": {},
   "source": [
    "## Static variables in function"
   ]
  },
  {
   "cell_type": "code",
   "execution_count": 6,
   "metadata": {},
   "outputs": [],
   "source": [
    "def static_vars(**kwargs):\n",
    "\n",
    "    def decorate(func):\n",
    "        for k in kwargs:\n",
    "            setattr(func, k, kwargs[k])\n",
    "        return func\n",
    "\n",
    "    return decorate\n",
    "\n",
    "\n",
    "@static_vars(counter=0)\n",
    "def myFunction():\n",
    "    print(myFunction.counter)\n",
    "    myFunction.counter+=1"
   ]
  },
  {
   "cell_type": "code",
   "execution_count": 7,
   "metadata": {},
   "outputs": [
    {
     "name": "stdout",
     "output_type": "stream",
     "text": [
      "0\n",
      "1\n",
      "2\n"
     ]
    }
   ],
   "source": [
    "myFunction()\n",
    "myFunction()\n",
    "myFunction()"
   ]
  },
  {
   "cell_type": "markdown",
   "metadata": {},
   "source": [
    "Creating Decorators"
   ]
  },
  {
   "cell_type": "code",
   "execution_count": null,
   "metadata": {},
   "outputs": [],
   "source": [
    "# https://www.datacamp.com/tutorial/decorators-python?utm_source=google&utm_medium=paid_search&utm_campaignid=19589720824&utm_adgroupid=143216588537&utm_device=c&utm_keyword=&utm_matchtype=&utm_network=g&utm_adpostion=&utm_creative=661628555495&utm_targetid=dsa-1947282172981&utm_loc_interest_ms=&utm_loc_physical_ms=1031586&utm_content=dsa~page~community-tuto&utm_campaign=230119_1-sea~dsa~tutorials_2-b2c_3-row-p2_4-prc_5-na_6-na_7-le_8-pdsh-go_9-na_10-na_11-na&gclid=Cj0KCQjwoeemBhCfARIsADR2QCvUUfoOANAUK9CKv2oMJrHQo_IIDlOH6VFdN7HXuQrYADqTDq4iwD8aAs9aEALw_wcB\n",
    "def uppercase_decorator(function):\n",
    "    def wrapper():\n",
    "        func = function()\n",
    "        make_uppercase = func.upper()\n",
    "        return make_uppercase\n",
    "\n",
    "    return wrapper\n",
    "\n",
    "\n",
    "def split_string(function):\n",
    "    def wrapper():\n",
    "        func = function()\n",
    "        splitted_string = func.split()\n",
    "        return splitted_string\n",
    "\n",
    "    return wrapper\n",
    "\n",
    "\n",
    "def say_hi0():\n",
    "    return 'hello there'\n",
    "\n",
    "\n",
    "@uppercase_decorator\n",
    "def say_hi1():\n",
    "    return 'hello there'\n",
    "\n",
    "\n",
    "@split_string\n",
    "@uppercase_decorator\n",
    "def say_hi2():\n",
    "    return 'hello there'\n",
    "\n",
    "\n",
    "def decorator_with_arguments(function):\n",
    "    def wrapper_accepting_arguments(arg1, arg2):\n",
    "        print(\"My arguments are: {0}, {1}\".format(arg1, arg2))\n",
    "        function(arg1, arg2)\n",
    "    return wrapper_accepting_arguments\n",
    "\n",
    "\n",
    "@decorator_with_arguments\n",
    "def cities(city_one, city_two):\n",
    "    return \"Cities I love are {0} and {1}\".format(city_one, city_two)\n",
    "\n",
    "\n",
    "def a_decorator_passing_arbitrary_arguments(function_to_decorate):\n",
    "    def a_wrapper_accepting_arbitrary_arguments(*args, **kwargs):\n",
    "        print('The positional arguments are', args)\n",
    "        print('The keyword arguments are', kwargs)\n",
    "        function_to_decorate(*args)\n",
    "    return a_wrapper_accepting_arbitrary_arguments\n",
    "\n",
    "\n",
    "@a_decorator_passing_arbitrary_arguments\n",
    "def function_with_no_argument():\n",
    "    print(\"No arguments here.\")\n",
    "\n",
    "\n",
    "@a_decorator_passing_arbitrary_arguments\n",
    "def function_with_arguments(a, b, c):\n",
    "    print(a, b, c)\n",
    "\n",
    "def decorator_maker_with_arguments(decorator_arg1, decorator_arg2, decorator_arg3):\n",
    "    def decorator(func):\n",
    "        def wrapper(function_arg1, function_arg2, function_arg3) :\n",
    "            \"This is the wrapper function\"\n",
    "            print(\"The wrapper can access all the variables\\n\"\n",
    "                  \"\\t- from the decorator maker: {0} {1} {2}\\n\"\n",
    "                  \"\\t- from the function call: {3} {4} {5}\\n\"\n",
    "                  \"and pass them to the decorated function\"\n",
    "                  .format(decorator_arg1, decorator_arg2,decorator_arg3,\n",
    "                          function_arg1, function_arg2,function_arg3))\n",
    "            return func(function_arg1, function_arg2,function_arg3)\n",
    "\n",
    "        return wrapper\n",
    "\n",
    "    return decorator\n",
    "\n",
    "pandas = \"Pandas\"\n",
    "@decorator_maker_with_arguments(pandas, \"Numpy\",\"Scikit-learn\")\n",
    "def decorated_function_with_arguments(function_arg1, function_arg2,function_arg3):\n",
    "    print(\"This is the decorated function and it only knows about its arguments: {0}\"\n",
    "           \" {1}\" \" {2}\".format(function_arg1, function_arg2,function_arg3))\n",
    "\n",
    "\n",
    "decorate = uppercase_decorator(say_hi0)\n",
    "print(decorate())\n",
    "print(say_hi1())\n",
    "print(say_hi2())\n",
    "print(cities(\"Nairobi\", \"Accra\"))\n",
    "function_with_no_argument()\n",
    "function_with_arguments(1, 2, 3)\n",
    "decorated_function_with_arguments(pandas, \"Science\", \"Tools\")\n"
   ]
  }
 ],
 "metadata": {
  "kernelspec": {
   "display_name": "base",
   "language": "python",
   "name": "python3"
  },
  "language_info": {
   "codemirror_mode": {
    "name": "ipython",
    "version": 3
   },
   "file_extension": ".py",
   "mimetype": "text/x-python",
   "name": "python",
   "nbconvert_exporter": "python",
   "pygments_lexer": "ipython3",
   "version": "3.9.7"
  },
  "orig_nbformat": 4,
  "vscode": {
   "interpreter": {
    "hash": "aec433a4d2193175589e7941ed46c95a3509ea05ac75837e875cba4270fe4983"
   }
  }
 },
 "nbformat": 4,
 "nbformat_minor": 2
}
