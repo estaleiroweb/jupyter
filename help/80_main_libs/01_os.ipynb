{
 "cells": [
  {
   "cell_type": "markdown",
   "metadata": {},
   "source": [
    "# `os` lib\n",
    "\n",
    "A biblioteca `os` no Python fornece uma interface para interagir com o sistema operacional. Ela permite manipular arquivos, diretórios, variáveis de ambiente, processos e muito mais.  \n"
   ]
  },
  {
   "cell_type": "markdown",
   "metadata": {},
   "source": [
    "## 1. Importação\n",
    "\n",
    "Para usar a biblioteca `os`, basta importá-la:  "
   ]
  },
  {
   "cell_type": "code",
   "execution_count": 17,
   "metadata": {},
   "outputs": [
    {
     "name": "stdout",
     "output_type": "stream",
     "text": [
      "c:\\AppData\\Code\\jupyter\\help\\80_main_libs\n",
      "c:\\AppData\\Code\\jupyter\\help\\80_main_libs/01_os.ipynb\n"
     ]
    }
   ],
   "source": [
    "import os\n",
    "import time\n",
    "\n",
    "__file__=os.getcwd()+'/01_os.ipynb'\n",
    "print(os.getcwd())\n",
    "print(__file__)\n"
   ]
  },
  {
   "cell_type": "markdown",
   "metadata": {},
   "source": [
    "## 2. Manipulação de Diretórios"
   ]
  },
  {
   "cell_type": "code",
   "execution_count": 10,
   "metadata": {},
   "outputs": [
    {
     "name": "stdout",
     "output_type": "stream",
     "text": [
      "c:\\AppData\\Code\\jupyter\\help\\80_main_libs\n",
      "----------------------------------------------------------------------------------------------------\n",
      "c:\\AppData\\Code\\jupyter\\help\n",
      "----------------------------------------------------------------------------------------------------\n",
      "c:\\AppData\\Code\\jupyter\\help\\80_main_libs\n",
      "----------------------------------------------------------------------------------------------------\n",
      "dir:  ['01_os.ipynb']\n",
      "----------------------------------------------------------------------------------------------------\n",
      "dir:  ['01_os.ipynb', 'nova_pasta', 'pasta']\n"
     ]
    }
   ],
   "source": [
    "d = os.getcwd()  # Retorna o diretório de trabalho atual\n",
    "print(d)\n",
    "print('-'*100)\n",
    "\n",
    "os.chdir(\"..\")  # Muda o diretório de trabalho\n",
    "print(os.getcwd())\n",
    "print('-'*100)\n",
    "\n",
    "os.chdir(d)\n",
    "print(os.getcwd())\n",
    "print('-'*100)\n",
    "\n",
    "print('dir: ', os.listdir(\".\"))  # Lista arquivos e pastas do diretório atual\n",
    "print('-'*100)\n",
    "\n",
    "os.mkdir(\"nova_pasta\")  # Cria um diretório\n",
    "os.makedirs(\"pasta/subpasta\")  # Cria diretórios aninhados\n",
    "print('dir: ', os.listdir(\".\"))  # Lista arquivos e pastas do diretório atual\n",
    "os.rmdir(\"nova_pasta\")  # Remove um diretório vazio\n",
    "os.rmdir(\"pasta/subpasta\")\n",
    "os.rmdir(\"pasta\")\n"
   ]
  },
  {
   "cell_type": "markdown",
   "metadata": {},
   "source": [
    "## 3. Manipulação de Arquivos"
   ]
  },
  {
   "cell_type": "code",
   "execution_count": 10,
   "metadata": {},
   "outputs": [
    {
     "name": "stdout",
     "output_type": "stream",
     "text": [
      "dir:  ['01_os.ipynb', 'arquivo.txt', 'outro_arquivo.txt']\n",
      "----------------------------------------------------------------------------------------------------\n",
      "dir:  ['01_os.ipynb', 'novo_nome.txt', 'outro_arquivo.txt']\n",
      "----------------------------------------------------------------------------------------------------\n",
      "dir:  ['01_os.ipynb', 'arquivo.txt']\n"
     ]
    }
   ],
   "source": [
    "import shutil\n",
    "\n",
    "shutil.copy(\"arquivo.txt\", \"outro_arquivo.txt\")  # Copia o arquivo para o mesmo diretório com outro nome\n",
    "# shutil.copy(\"origem.txt\", \"/caminho/destino/\")  # Copia para outro diretório mantendo o nome\n",
    "print('dir: ', os.listdir(\".\"))  # Lista arquivos e pastas do diretório atual\n",
    "print('-'*100)\n",
    "\n",
    "os.rename(\"arquivo.txt\", \"novo_nome.txt\")  # Renomeia um arquivo\n",
    "print('dir: ', os.listdir(\".\"))  # Lista arquivos e pastas do diretório atual\n",
    "os.rename(\"novo_nome.txt\",\"arquivo.txt\")  # Renomeia um arquivo\n",
    "print('-'*100)\n",
    "\n",
    "\n",
    "os.remove(\"outro_arquivo.txt\")  # Remove um arquivo\n",
    "print('dir: ', os.listdir(\".\"))  # Lista arquivos e pastas do diretório atual\n"
   ]
  },
  {
   "cell_type": "markdown",
   "metadata": {},
   "source": [
    "## 4. Trabalhando com Caminhos"
   ]
  },
  {
   "cell_type": "code",
   "execution_count": 29,
   "metadata": {},
   "outputs": [
    {
     "name": "stdout",
     "output_type": "stream",
     "text": [
      "dirname: c:\\AppData\\Code\\jupyter\\help\\80_main_libs\n",
      "exists: True\n",
      "isfile: True\n",
      "isdir: False\n",
      "abspath: c:\\AppData\\Code\\jupyter\\help\\80_main_libs\\arquivo.txt\n",
      "join: pasta\\arquivo.txt\n",
      "basename: 01_os.ipynb\n",
      "dirname: c:\\AppData\\Code\\jupyter\\help\\80_main_libs\n",
      "expanduser: C:\\Users\\F8034906/projetos\n",
      "expandvars: /home/user/projetos/codigo.py\n",
      "split: ('/home/user/docs', 'arquivo.txt')\n",
      "splitdrive: ('C:', '\\\\Users\\\\User\\\\arquivo.txt')\n",
      "('documento', '.pdf')\n"
     ]
    }
   ],
   "source": [
    "# Diretório do script\n",
    "print('dirname:', os.path.dirname(os.path.abspath(__file__)))\n",
    "# Retorna True se existir\n",
    "print('exists:', os.path.exists(\"arquivo.txt\"))\n",
    "# True se for um arquivo\n",
    "print('isfile:', os.path.isfile(\"arquivo.txt\"))\n",
    "# True se for um diretório\n",
    "print('isdir:', os.path.isdir(\"pasta\"))\n",
    "# Caminho absoluto do arquivo\n",
    "print('abspath:', os.path.abspath(\"arquivo.txt\"))\n",
    "# Une caminhos corretamente\n",
    "print('join:', os.path.join(\"pasta\", \"arquivo.txt\"))\n",
    "# base de um caminho\n",
    "print('basename:', os.path.basename(__file__))\n",
    "# pasta de um caminho\n",
    "print('dirname:', os.path.dirname(__file__))\n",
    "# Expande o `~` para o diretório do usuário. Saída: /home/seu_usuario/projetos (Linux/macOS)\n",
    "print('expanduser:',os.path.expanduser(\"~/projetos\"))\n",
    "os.environ[\"MEU_DIR\"] = \"/home/user/projetos\"\n",
    "# Expande variáveis de ambiente dentro do caminho. Saída: /home/user/projetos/codigo.py\n",
    "print('expandvars:',os.path.expandvars(\"$MEU_DIR/codigo.py\"))\n",
    "# Divide um caminho em **diretório** e **nome do arquivo**.  Saída: ('/home/user/docs', 'arquivo.txt')\n",
    "print('split:', os.path.split(\"/home/user/docs/arquivo.txt\"))\n",
    "# Divide um caminho em **unidade (drive)** e **restante do caminho** (no Windows). Saída: ('C:', '\\\\Users\\\\User\\\\arquivo.txt')\n",
    "print('splitdrive:', os.path.splitdrive(\"C:\\\\Users\\\\User\\\\arquivo.txt\"))\n",
    "# Separa um caminho no **nome do arquivo** e **extensão**. Saída: ('documento', '.pdf')\n",
    "print(os.path.splitext(\"documento.pdf\"))  \n"
   ]
  },
  {
   "cell_type": "code",
   "execution_count": 25,
   "metadata": {},
   "outputs": [
    {
     "name": "stdout",
     "output_type": "stream",
     "text": [
      "Wed Mar  5 15:27:53 2025\n",
      "Wed Mar  5 15:27:53 2025\n",
      "getsize: 0\n",
      "isabs: True\n",
      "isabs: False\n",
      "isjunction: False\n",
      "islink: False\n",
      "ismount: True\n",
      "isdevdrive: False\n",
      "lexists: True\n",
      "normcase: c:\\users\\user\\arquivo.txt\n",
      "realpath: C:\\AppData\\Code\\jupyter\\help\\80_main_libs\\link_para_arquivo\n",
      "relpath: docs\n"
     ]
    }
   ],
   "source": [
    "# data/hora do último acesso\n",
    "print(time.ctime(os.path.getatime(\"arquivo.txt\")))\n",
    "# data/hora da última modificação\n",
    "print(time.ctime(os.path.getmtime(\"arquivo.txt\")))\n",
    "# tamanho do arquivo em bytes\n",
    "print('getsize:', os.path.getsize(\"arquivo.txt\"))\n",
    "# se o caminho é **absoluto**. True (caminho absoluto)\n",
    "print('isabs:', os.path.isabs(\"/home/user/docs\"))\n",
    "# se o caminho é **absoluto**. False (caminho relativo)\n",
    "print('isabs:', os.path.isabs(\"docs/arquivo.txt\"))\n",
    "# se o caminho é um **junction point** no Windows (atalho para diretórios).\n",
    "print('isjunction:', os.path.isjunction(\"C:\\\\Users\\\\User\\\\MeusAtalhos\"))\n",
    "# True se for um link simbólico\n",
    "print('islink:', os.path.islink(\"link_para_arquivo\"))\n",
    "# True no Linux/macOS se o caminho é um **ponto de montagem** (exemplo: uma partição ou drive externo).\n",
    "print('ismount:', os.path.ismount(\"/\"))\n",
    "# True se o caminho está em uma **unidade de desenvolvimento** no Windows (exemplo: WSL, Dev Drive).\n",
    "print('isdevdrive:', os.path.isdevdrive(\"D:\\\\\"))\n",
    "# True se o caminho **existe**, incluindo links simbólicos quebrados.\n",
    "print('lexists:', os.path.lexists(\"arquivo.txt\"))\n",
    "# Normaliza maiúsculas/minúsculas e separadores de caminho para o sistema operacional. Saída: c:\\users\\user\\arquivo.txt\n",
    "print('normcase:', os.path.normcase(\"C:/Users/User/Arquivo.TXT\"))\n",
    "# Resolve links simbólicos e retorna o **caminho real** do arquivo. Retorna o caminho real do arquivo alvo\n",
    "print('realpath:', os.path.realpath(\"link_para_arquivo\"))\n",
    "# Retorna o **caminho relativo** a partir de outro diretório. Saída: docs\n",
    "print('relpath:', os.path.relpath(\"/home/user/docs\", \"/home/user\"))\n",
    "# True se dois caminhos apontam para o **mesmo arquivo** (seguindo links simbólicos).\n",
    "# print('samefile:',os.path.samefile(\"arquivo.txt\", \"link_para_arquivo.txt\"))\n"
   ]
  },
  {
   "cell_type": "code",
   "execution_count": 27,
   "metadata": {},
   "outputs": [
    {
     "name": "stdout",
     "output_type": "stream",
     "text": [
      "\\home\\user\\docs\n",
      "commonprefix: /home/us\n",
      "sameopenfile: True\n",
      "samestat: True\n"
     ]
    }
   ],
   "source": [
    "caminhos = [\"/home/user/docs/arquivo.txt\", \"/home/user/docs/relatorio.pdf\"]\n",
    "# Retorna o **caminho comum** mais longo entre vários caminhos. Saída: /home/user/docs\n",
    "print(os.path.commonpath(caminhos))\n",
    "caminhos = [\"/home/user/docs\", \"/home/usr/bin\"]\n",
    "# Retorna o **prefixo comum** entre os caminhos passados, mas pode cortar palavras no meio. Saída: /home/u\n",
    "print('commonprefix:',os.path.commonprefix(caminhos))\n",
    "with open(\"arquivo.txt\", \"r\") as f1, open(\"arquivo.txt\", \"r\") as f2:\n",
    "    # Verifica se dois descritores de arquivo (file descriptors) apontam para o **mesmo arquivo aberto**. True se forem o mesmo arquivo\n",
    "    print('sameopenfile:', os.path.sameopenfile(f1.fileno(), f2.fileno()))\n",
    "\n",
    "stat1 = os.stat(\"arquivo.txt\")\n",
    "stat2 = os.stat(\"arquivo.txt\")\n",
    "# Compara duas estruturas `stat` para ver se representam o mesmo arquivo. True se forem o mesmo arquivo físico\n",
    "print('samestat:', os.path.samestat(stat1, stat2))\n"
   ]
  },
  {
   "cell_type": "code",
   "execution_count": 28,
   "metadata": {},
   "outputs": [
    {
     "name": "stdout",
     "output_type": "stream",
     "text": [
      "altsep: /\n",
      "pardir: ..\n",
      "curdir: .\n",
      "defpath: .;C:\\bin\n",
      "devnull: nul\n",
      "extsep: .\n",
      "pathsep: ;\n"
     ]
    }
   ],
   "source": [
    "print('altsep:', os.path.altsep)\n",
    "print('pardir:', os.path.pardir)\n",
    "print('curdir:', os.path.curdir)\n",
    "print('defpath:', os.path.defpath)\n",
    "print('devnull:', os.path.devnull)\n",
    "print('extsep:', os.path.extsep)\n",
    "print('pathsep:', os.path.pathsep)"
   ]
  },
  {
   "cell_type": "markdown",
   "metadata": {},
   "source": [
    "## 5. Variáveis de Ambiente\n"
   ]
  },
  {
   "cell_type": "code",
   "execution_count": null,
   "metadata": {},
   "outputs": [],
   "source": [
    "os.environ[\"MINHA_VARIAVEL\"] = \"valor\" # Definir Variáveis de Ambiente\n",
    "print(os.environ)  # Lista todas as variáveis de ambiente\n",
    "print(os.environ[\"HOME\"])  # Obtém o valor da variável HOME (Linux/macOS)\n",
    "print(os.environ[\"USERPROFILE\"])  # Obtém o diretório do usuário no Windows\n",
    "print(os.environ[\"MINHA_VARIAVEL\"])  # Verifica se foi definida\n"
   ]
  },
  {
   "cell_type": "markdown",
   "metadata": {},
   "source": [
    "## 6. Executando Comandos do Sistema"
   ]
  },
  {
   "cell_type": "code",
   "execution_count": null,
   "metadata": {},
   "outputs": [],
   "source": [
    "if os.name=='nt':\n",
    "    os.system(\"dir\")  # Windows\n",
    "else: # posix\n",
    "    os.system(\"ls\")  # Linux/macOS\n",
    "    os.startfile(\"documento.pdf\")  # Abre documento Apenas no Windows\n",
    "os.system(\"python script.py\")  # Executa um script Python\n"
   ]
  },
  {
   "cell_type": "markdown",
   "metadata": {},
   "source": [
    "## 7. Trabalhando com Processos"
   ]
  },
  {
   "cell_type": "code",
   "execution_count": null,
   "metadata": {},
   "outputs": [
    {
     "name": "stdout",
     "output_type": "stream",
     "text": [
      "20744\n"
     ]
    }
   ],
   "source": [
    "print(os.getpid())  # Retorna o ID do processo atual\n",
    "\n",
    "# Criar um Novo Processo\n",
    "if os.name=='posix':\n",
    "    pid = os.fork()  # Apenas em Unix/Linux\n",
    "    if pid == 0:\n",
    "        print(\"Este é o processo filho\")\n",
    "    else:\n",
    "        print(\"Este é o processo pai\")"
   ]
  },
  {
   "cell_type": "markdown",
   "metadata": {},
   "source": [
    "## 8. Detectando o Sistema Operacional"
   ]
  },
  {
   "cell_type": "code",
   "execution_count": 7,
   "metadata": {},
   "outputs": [
    {
     "name": "stdout",
     "output_type": "stream",
     "text": [
      "nt\n"
     ]
    }
   ],
   "source": [
    "print(os.name)  # Retorna 'posix' (Linux/macOS) ou 'nt' (Windows)\n"
   ]
  },
  {
   "cell_type": "markdown",
   "metadata": {},
   "source": [
    "## Outros"
   ]
  },
  {
   "cell_type": "code",
   "execution_count": 43,
   "metadata": {},
   "outputs": [
    {
     "name": "stdout",
     "output_type": "stream",
     "text": [
      "os.urandom: b'\\xd2\\xa8A<!\\xe2{\\x08'\n",
      "os.access: True\n",
      "os.cpu_count: 12\n",
      "os.devnull: nul\n",
      "os.error: <class 'OSError'>\n",
      "os.extsep: .\n",
      "os.fsdecode: teste.txt\n",
      "os.fsencode: b'teste.txt'\n",
      "os.fspath: teste.txt\n",
      "os.getcwdb: b'c:\\\\AppData\\\\Code\\\\jupyter\\\\help\\\\80_main_libs'\n",
      "os.get_exec_path: ['c:\\\\Users\\\\F8034906\\\\AppData\\\\Local\\\\Programs\\\\Python\\\\Python312', 'c:\\\\Users\\\\F8034906\\\\AppData\\\\Roaming\\\\Python\\\\Python312\\\\Scripts', 'C:\\\\Program Files (x86)\\\\Common Files\\\\Oracle\\\\Java\\\\javapath', 'C:\\\\ProgramData\\\\Oracle\\\\Java\\\\javapath', 'C:\\\\windows\\\\system32', 'C:\\\\windows', 'C:\\\\windows\\\\System32\\\\Wbem', 'C:\\\\windows\\\\System32\\\\WindowsPowerShell\\\\v1.0\\\\', 'C:\\\\windows\\\\System32\\\\OpenSSH\\\\', 'C:\\\\Program Files (x86)\\\\Sennheiser\\\\SenncomSDK\\\\', 'C:\\\\Program Files\\\\PuTTY\\\\', 'C:\\\\Program Files\\\\Docker\\\\Docker\\\\resources\\\\bin', 'C:\\\\Program Files (x86)\\\\Microsoft SQL Server\\\\150\\\\DTS\\\\Binn\\\\', 'C:\\\\Program Files\\\\Azure Data Studio\\\\bin', 'C:\\\\JupyterLab', 'c:\\\\bin', 'c:\\\\PHP', 'C:\\\\Program Files\\\\Git\\\\cmd', 'C:\\\\Program Files (x86)\\\\CheckPoint\\\\Endpoint Security\\\\Endpoint Common\\\\bin', 'C:\\\\Program Files (x86)\\\\Common Files\\\\Oracle\\\\Java\\\\javapath', 'C:\\\\ProgramData\\\\Oracle\\\\Java\\\\javapath', 'C:\\\\windows\\\\system32', 'C:\\\\windows', 'C:\\\\windows\\\\System32\\\\Wbem', 'C:\\\\windows\\\\System32\\\\WindowsPowerShell\\\\v1.0\\\\', 'C:\\\\windows\\\\System32\\\\OpenSSH\\\\', 'C:\\\\Program Files (x86)\\\\Sennheiser\\\\SenncomSDK\\\\', 'C:\\\\Program Files\\\\PuTTY\\\\', 'C:\\\\Program Files\\\\Docker\\\\Docker\\\\resources\\\\bin', 'C:\\\\Program Files (x86)\\\\Microsoft SQL Server\\\\150\\\\DTS\\\\Binn\\\\', 'C:\\\\Program Files\\\\Azure Data Studio\\\\bin', 'C:\\\\JupyterLab', 'c:\\\\bin', 'c:\\\\PHP', 'C:\\\\Program Files\\\\Git\\\\cmd', 'C:\\\\Program Files (x86)\\\\CheckPoint\\\\Endpoint Security\\\\Endpoint Common\\\\bin', 'C:\\\\Users\\\\F8034906\\\\AppData\\\\Local\\\\Programs\\\\Python\\\\Python312\\\\Scripts\\\\', 'C:\\\\Users\\\\F8034906\\\\AppData\\\\Local\\\\Programs\\\\Python\\\\Python312\\\\', 'C:\\\\Users\\\\F8034906\\\\AppData\\\\Local\\\\Microsoft\\\\WindowsApps', '', 'C:\\\\cygwin\\\\bin', 'C:\\\\Program Files (x86)\\\\Common Files\\\\Oracle\\\\Java\\\\javapath', 'C:\\\\ProgramData\\\\Oracle\\\\Java\\\\javapath', 'C:\\\\windows\\\\system32', 'C:\\\\windows', 'C:\\\\windows\\\\System32\\\\Wbem', 'C:\\\\windows\\\\System32\\\\WindowsPowerShell\\\\v1.0\\\\', 'C:\\\\windows\\\\System32\\\\OpenSSH\\\\', 'C:\\\\Program Files (x86)\\\\Sennheiser\\\\SenncomSDK\\\\', 'C:\\\\Program Files\\\\PuTTY\\\\', 'C:\\\\Program Files\\\\Docker\\\\Docker\\\\resources\\\\bin', 'C:\\\\Program Files (x86)\\\\Microsoft SQL Server\\\\150\\\\DTS\\\\Binn\\\\', 'C:\\\\Program Files\\\\Azure Data Studio\\\\bin', 'C:\\\\JupyterLab', 'c:\\\\bin', 'c:\\\\PHP', 'C:\\\\Program Files\\\\Git\\\\cmd', 'C:\\\\Program Files (x86)\\\\CheckPoint\\\\Endpoint Security\\\\Endpoint Common\\\\bin', 'C:\\\\Program Files (x86)\\\\Common Files\\\\Oracle\\\\Java\\\\javapath', 'C:\\\\ProgramData\\\\Oracle\\\\Java\\\\javapath', 'C:\\\\windows\\\\system32', 'C:\\\\windows', 'C:\\\\windows\\\\System32\\\\Wbem', 'C:\\\\windows\\\\System32\\\\WindowsPowerShell\\\\v1.0\\\\', 'C:\\\\windows\\\\System32\\\\OpenSSH\\\\', 'C:\\\\Program Files (x86)\\\\Sennheiser\\\\SenncomSDK\\\\', 'C:\\\\Program Files\\\\PuTTY\\\\', 'C:\\\\Program Files\\\\Docker\\\\Docker\\\\resources\\\\bin', 'C:\\\\Program Files (x86)\\\\Microsoft SQL Server\\\\150\\\\DTS\\\\Binn\\\\', 'C:\\\\Program Files\\\\Azure Data Studio\\\\bin', 'C:\\\\JupyterLab', 'c:\\\\bin', 'c:\\\\PHP', 'C:\\\\Program Files\\\\Git\\\\cmd', 'C:\\\\Program Files (x86)\\\\CheckPoint\\\\Endpoint Security\\\\Endpoint Common\\\\bin', 'C:\\\\Users\\\\F8034906\\\\AppData\\\\Local\\\\Programs\\\\Python\\\\Python312\\\\Scripts\\\\', 'C:\\\\Users\\\\F8034906\\\\AppData\\\\Local\\\\Programs\\\\Python\\\\Python312\\\\', 'C:\\\\Users\\\\F8034906\\\\AppData\\\\Local\\\\Microsoft\\\\WindowsApps', '', 'C:\\\\cygwin\\\\bin']\n",
      "os.getlogin: F8034906\n",
      "os.getpid: 20744\n",
      "os.getppid: 21544\n",
      "os.listdir: ['01_os.ipynb', 'arquivo.txt']\n",
      "os.pipe: (3, 4)\n",
      "os.strerror: No such file or directory\n",
      "os.supports_bytes_environ: False\n",
      "os.supports_dir_fd: set()\n",
      "os.supports_effective_ids: set()\n",
      "os.supports_fd: {<built-in function truncate>, <built-in function stat>}\n",
      "os.supports_follow_symlinks: {<built-in function stat>}\n"
     ]
    }
   ],
   "source": [
    "# Gera bytes aleatórios\n",
    "print('os.urandom:', os.urandom(8))\n",
    "\n",
    "# Verifica permissões de acesso\n",
    "print('os.access:', os.access('.', os.R_OK))\n",
    "\n",
    "# Conta núcleos de CPU disponíveis\n",
    "print('os.cpu_count:', os.cpu_count())\n",
    "\n",
    "# Dispositivo nulo do sistema\n",
    "print('os.devnull:', os.devnull)\n",
    "\n",
    "# Classe de erro genérica do os\n",
    "print('os.error:', os.error)\n",
    "\n",
    "# Separador de extensões de arquivos\n",
    "print('os.extsep:', os.extsep)\n",
    "\n",
    "# Decodifica nomes de arquivos\n",
    "print('os.fsdecode:', os.fsdecode(b'teste.txt'))\n",
    "\n",
    "# Codifica nomes de arquivos\n",
    "print('os.fsencode:', os.fsencode('teste.txt'))\n",
    "\n",
    "# Converte um objeto para caminho\n",
    "print('os.fspath:', os.fspath('teste.txt'))\n",
    "\n",
    "# Obtém diretório de trabalho atual (bytes)\n",
    "print('os.getcwdb:', os.getcwdb())\n",
    "\n",
    "# Obtém o caminho de busca de execução\n",
    "print('os.get_exec_path:', os.get_exec_path())\n",
    "\n",
    "# Obtém o nome de login do usuário\n",
    "print('os.getlogin:', os.getlogin())\n",
    "\n",
    "# Obtém o PID do processo atual\n",
    "print('os.getpid:', os.getpid())\n",
    "\n",
    "# Obtém o PID do processo pai\n",
    "print('os.getppid:', os.getppid())\n",
    "\n",
    "# Lista arquivos de um diretório\n",
    "print('os.listdir:', os.listdir('.'))\n",
    "\n",
    "# Cria um pipe\n",
    "print('os.pipe:', os.pipe())\n",
    "\n",
    "# Converte um código de erro em mensagem\n",
    "print('os.strerror:', os.strerror(2))\n",
    "\n",
    "# Verifica suporte a variáveis de ambiente em bytes\n",
    "print('os.supports_bytes_environ:', os.supports_bytes_environ)\n",
    "\n",
    "# Verifica suporte a descritores de diretório\n",
    "print('os.supports_dir_fd:', os.supports_dir_fd)\n",
    "\n",
    "# Verifica suporte a IDs efetivos\n",
    "print('os.supports_effective_ids:', os.supports_effective_ids)\n",
    "\n",
    "# Verifica suporte a descritores de arquivo\n",
    "print('os.supports_fd:', os.supports_fd)\n",
    "\n",
    "# Verifica suporte a links simbólicos\n",
    "print('os.supports_follow_symlinks:', os.supports_follow_symlinks)\n"
   ]
  },
  {
   "cell_type": "code",
   "execution_count": null,
   "metadata": {},
   "outputs": [
    {
     "name": "stdout",
     "output_type": "stream",
     "text": [
      "os.dup: 28\n",
      "os.dup2: 29\n",
      "os.fdopen: <_io.TextIOWrapper name=7 mode='r' encoding='cp1252'>\n",
      "os.get_handle_inheritable: True\n",
      "os.isatty: False\n",
      "os.set_handle_inheritable: Done\n"
     ]
    },
    {
     "ename": "PermissionError",
     "evalue": "[WinError 32] The process cannot access the file because it is being used by another process: 'tempfile.txt'",
     "output_type": "error",
     "traceback": [
      "\u001b[1;31m---------------------------------------------------------------------------\u001b[0m",
      "\u001b[1;31mPermissionError\u001b[0m                           Traceback (most recent call last)",
      "Cell \u001b[1;32mIn[56], line 64\u001b[0m\n\u001b[0;32m     61\u001b[0m os\u001b[38;5;241m.\u001b[39mclose(fd2)\n\u001b[0;32m     63\u001b[0m \u001b[38;5;66;03m# Removendo o arquivo temporário\u001b[39;00m\n\u001b[1;32m---> 64\u001b[0m \u001b[43mos\u001b[49m\u001b[38;5;241;43m.\u001b[39;49m\u001b[43mremove\u001b[49m\u001b[43m(\u001b[49m\u001b[38;5;124;43m\"\u001b[39;49m\u001b[38;5;124;43mtempfile.txt\u001b[39;49m\u001b[38;5;124;43m\"\u001b[39;49m\u001b[43m)\u001b[49m\n",
      "\u001b[1;31mPermissionError\u001b[0m: [WinError 32] The process cannot access the file because it is being used by another process: 'tempfile.txt'"
     ]
    }
   ],
   "source": [
    "# Criando um arquivo temporário para obter um descritor de arquivo (fd)\n",
    "fd = os.open(\"tempfile.txt\", os.O_RDWR | os.O_CREAT)\n",
    "\n",
    "# Define se um descritor de arquivo é bloqueante (Python 3.5+)\n",
    "# os.set_blocking(fd, True)\n",
    "# print('os.set_blocking:', os.get_blocking(fd))\n",
    "\n",
    "# Duplica um descritor de arquivo\n",
    "dup_fd = os.dup(fd)\n",
    "print('os.dup:', dup_fd)\n",
    "\n",
    "# Duplica um descritor de arquivo para outro\n",
    "fd2 = os.dup(fd)\n",
    "os.dup2(fd, fd2)\n",
    "print('os.dup2:', fd2)\n",
    "\n",
    "# Abre um descritor de arquivo como um objeto de arquivo\n",
    "print('os.fdopen:', os.fdopen(fd))\n",
    "\n",
    "# Obtém informações de status de um descritor de arquivo\n",
    "# print('os.fstat:', os.fstat(fd))\n",
    "\n",
    "# Força a gravação de um arquivo no disco\n",
    "# os.fsync(fd)\n",
    "# print('os.fsync: Done')\n",
    "\n",
    "# Trunca um arquivo para um tamanho específico\n",
    "# os.ftruncate(fd, 10)\n",
    "# print('os.ftruncate: Done')\n",
    "\n",
    "# Obtém estado de bloqueio de um descritor de arquivo\n",
    "# print('os.get_blocking:', os.get_blocking(fd))\n",
    "\n",
    "# Obtém herdabilidade de um descritor de arquivo\n",
    "print('os.get_handle_inheritable:', os.get_handle_inheritable(fd))\n",
    "\n",
    "# Obtém herdabilidade de um descritor de arquivo (alternativo)\n",
    "# print('os.get_inheritable:', os.get_inheritable(fd))\n",
    "\n",
    "# Verifica se um descritor de arquivo é um terminal\n",
    "print('os.isatty:', os.isatty(fd))\n",
    "\n",
    "# Move o ponteiro do arquivo\n",
    "# os.lseek(fd, 0, os.SEEK_SET)\n",
    "# print('os.lseek: Done')\n",
    "\n",
    "# Lê um descritor de arquivo\n",
    "# print('os.read:', os.read(fd, 10))\n",
    "\n",
    "# Define herdabilidade de descritores\n",
    "os.set_handle_inheritable(fd, True)\n",
    "print('os.set_handle_inheritable: Done')\n",
    "\n",
    "# Define herdabilidade de descritores (alternativo)\n",
    "# os.set_inheritable(fd, True)\n",
    "# print('os.set_inheritable: Done')\n",
    "\n",
    "# Fechando os descritores de arquivo\n",
    "os.close(fd)\n",
    "os.close(dup_fd)\n",
    "os.close(fd2)\n",
    "\n",
    "# Removendo o arquivo temporário\n",
    "os.remove(\"tempfile.txt\")\n"
   ]
  },
  {
   "cell_type": "code",
   "execution_count": null,
   "metadata": {},
   "outputs": [],
   "source": [
    "# Aborta o processo\n",
    "# os.abort()  # Interrompe o programa imediatamente\n",
    "\n",
    "# Adiciona diretório de DLLs (Windows)\n",
    "# os.add_dll_directory(\"C:\\\\caminho\\\\para\\\\dll\")\n",
    "\n",
    "# Fecha uma faixa de descritores de arquivo\n",
    "# os.closerange(3, 10)  # Fecha os descritores de 3 a 9\n",
    "\n",
    "# Obtém a codificação do dispositivo\n",
    "# print('os.device_encoding:', os.device_encoding(1))  # 1 representa stdout\n",
    "\n",
    "# Executa um programa substituindo o processo atual\n",
    "# os.execl('/bin/ls', 'ls', '-l')\n",
    "\n",
    "# Executa um programa com um ambiente específico\n",
    "# os.execle('/bin/ls', 'ls', '-l', env=os.environ)\n",
    "\n",
    "# Executa um programa procurando no PATH\n",
    "# os.execlp('ls', 'ls', '-l')\n",
    "\n",
    "# Executa um programa procurando no PATH com um ambiente específico\n",
    "# os.execlpe('ls', 'ls', '-l', env=os.environ)\n",
    "\n",
    "# Executa um programa sem substituição de processo\n",
    "# os.execv('/bin/ls', ['ls', '-l'])\n",
    "\n",
    "# Executa um programa com um ambiente específico\n",
    "# os.execve('/bin/ls', ['ls', '-l'], os.environ)\n",
    "\n",
    "# Executa um programa procurando no PATH\n",
    "# os.execvp('ls', ['ls', '-l'])\n",
    "\n",
    "# Executa um programa procurando no PATH com ambiente específico\n",
    "# os.execvpe('ls', ['ls', '-l'], os.environ)\n"
   ]
  },
  {
   "cell_type": "code",
   "execution_count": null,
   "metadata": {},
   "outputs": [],
   "source": [
    "# Envia um sinal para um processo\n",
    "# os.kill(os.getpid(), os.SIGTERM)\n",
    "\n",
    "# Cria um link físico\n",
    "# os.link('origem.txt', 'link.txt')\n",
    "\n",
    "# Obtém status de um arquivo\n",
    "# os.lstat('arquivo.txt')\n",
    "\n",
    "# Abre um arquivo e retorna um descritor\n",
    "# os.open('arquivo.txt', os.O_RDONLY)\n",
    "\n",
    "# Executa um comando em um shell\n",
    "# os.popen('ls -l')\n",
    "\n",
    "# Define uma variável de ambiente\n",
    "# os.putenv('VAR', 'valor')\n",
    "\n",
    "# Lê um link simbólico\n",
    "# os.readlink('link.txt')\n",
    "\n",
    "# Remove diretórios recursivamente\n",
    "# os.removedirs('caminho/para/deletar')\n",
    "\n",
    "# Renomeia arquivos ou diretórios\n",
    "# os.renames('arquivo.txt', 'novo.txt')\n",
    "\n",
    "# Substitui um arquivo\n",
    "# os.replace('origem.txt', 'destino.txt')\n",
    "\n",
    "# Cria um novo processo\n",
    "# os.spawnl(os.P_NOWAIT, '/bin/ls', 'ls', '-l')\n",
    "\n",
    "# Executa um arquivo\n",
    "# os.startfile('arquivo.txt')  # Windows\n",
    "\n",
    "# Obtém informações de um arquivo\n",
    "# os.stat('arquivo.txt')\n",
    "\n",
    "# Classe para armazenar resultados de stat\n",
    "# print('os.stat_result:', os.stat_result)\n"
   ]
  },
  {
   "cell_type": "markdown",
   "metadata": {},
   "source": [
    "## Fora Jupiter"
   ]
  },
  {
   "cell_type": "code",
   "execution_count": null,
   "metadata": {},
   "outputs": [],
   "source": [
    "\n",
    "# Obtém tamanho do terminal\n",
    "# print('os.get_terminal_size:', os.get_terminal_size())"
   ]
  }
 ],
 "metadata": {
  "kernelspec": {
   "display_name": "Python 3",
   "language": "python",
   "name": "python3"
  },
  "language_info": {
   "codemirror_mode": {
    "name": "ipython",
    "version": 3
   },
   "file_extension": ".py",
   "mimetype": "text/x-python",
   "name": "python",
   "nbconvert_exporter": "python",
   "pygments_lexer": "ipython3",
   "version": "3.12.4"
  }
 },
 "nbformat": 4,
 "nbformat_minor": 2
}
