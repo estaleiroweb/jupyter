{
 "cells": [
  {
   "cell_type": "markdown",
   "metadata": {},
   "source": [
    "# `sys` lib\n",
    "\n",
    "O módulo `sys` em Python fornece acesso a variáveis e funções que interagem fortemente com o interpretador Python. Ele permite que você manipule o ambiente de tempo de execução, obtenha informações sobre o sistema e interaja com a entrada e saída padrão.\n"
   ]
  },
  {
   "cell_type": "markdown",
   "metadata": {},
   "source": [
    "## Principais Funções e Variáveis\n",
    "\n",
    "* **Argumentos da Linha de Comando:**\n",
    "    * `sys.argv`: Uma lista de strings representando os argumentos passados para o script na linha de comando. `sys.argv[0]` é o nome do script.\n",
    "\n",
    "* **Caminho de Busca do Módulo:**\n",
    "    * `sys.path`: Uma lista de strings que especifica os diretórios onde o Python procura por módulos.\n",
    "\n",
    "* **Informações sobre o Interpretador:**\n",
    "    * `sys.version`: Uma string contendo informações sobre a versão do Python.\n",
    "    * `sys.platform`: Uma string que identifica a plataforma do sistema operacional.\n",
    "    * `sys.executable`: O caminho absoluto para o interpretador Python.\n",
    "\n",
    "* **Entrada e Saída Padrão:**\n",
    "    * `sys.stdin`: O objeto de arquivo para entrada padrão (geralmente o teclado).\n",
    "    * `sys.stdout`: O objeto de arquivo para saída padrão (geralmente o console).\n",
    "    * `sys.stderr`: O objeto de arquivo para saída de erro padrão (geralmente o console).\n",
    "\n",
    "* **Finalização do Programa:**\n",
    "    * `sys.exit([arg])`: Sai do programa Python com um código de saída opcional."
   ]
  },
  {
   "cell_type": "code",
   "execution_count": 1,
   "metadata": {},
   "outputs": [],
   "source": [
    "import sys"
   ]
  },
  {
   "cell_type": "code",
   "execution_count": 2,
   "metadata": {},
   "outputs": [
    {
     "name": "stdout",
     "output_type": "stream",
     "text": [
      "Argumentos da linha de comando: ['C:\\\\Users\\\\F8034906\\\\AppData\\\\Roaming\\\\Python\\\\Python312\\\\site-packages\\\\ipykernel_launcher.py', '--f=c:\\\\Users\\\\F8034906\\\\AppData\\\\Roaming\\\\jupyter\\\\runtime\\\\kernel-v3b807a50fac1a23a4207c9c3b4973f5952f74aaf5.json']\n",
      "Caminho de busca do módulo: ['c:\\\\Users\\\\F8034906\\\\AppData\\\\Local\\\\Programs\\\\Python\\\\Python312\\\\python312.zip', 'c:\\\\Users\\\\F8034906\\\\AppData\\\\Local\\\\Programs\\\\Python\\\\Python312\\\\DLLs', 'c:\\\\Users\\\\F8034906\\\\AppData\\\\Local\\\\Programs\\\\Python\\\\Python312\\\\Lib', 'c:\\\\Users\\\\F8034906\\\\AppData\\\\Local\\\\Programs\\\\Python\\\\Python312', '', 'C:\\\\Users\\\\F8034906\\\\AppData\\\\Roaming\\\\Python\\\\Python312\\\\site-packages', 'C:\\\\Users\\\\F8034906\\\\AppData\\\\Roaming\\\\Python\\\\Python312\\\\site-packages\\\\win32', 'C:\\\\Users\\\\F8034906\\\\AppData\\\\Roaming\\\\Python\\\\Python312\\\\site-packages\\\\win32\\\\lib', 'C:\\\\Users\\\\F8034906\\\\AppData\\\\Roaming\\\\Python\\\\Python312\\\\site-packages\\\\Pythonwin', 'c:\\\\Users\\\\F8034906\\\\AppData\\\\Local\\\\Programs\\\\Python\\\\Python312\\\\Lib\\\\site-packages']\n",
      "Versão do Python: 3.12.4 (tags/v3.12.4:8e8a4ba, Jun  6 2024, 19:30:16) [MSC v.1940 64 bit (AMD64)]\n",
      "Plataforma do sistema operacional: win32\n"
     ]
    },
    {
     "name": "stderr",
     "output_type": "stream",
     "text": [
      "Esta é uma mensagem de erro.\n"
     ]
    },
    {
     "data": {
      "text/plain": [
       "29"
      ]
     },
     "execution_count": 2,
     "metadata": {},
     "output_type": "execute_result"
    }
   ],
   "source": [
    "# Argumentos da linha de comando\n",
    "print(\"Argumentos da linha de comando:\", sys.argv)\n",
    "\n",
    "# Caminho de busca do módulo\n",
    "print(\"Caminho de busca do módulo:\", sys.path)\n",
    "\n",
    "# Versão do Python\n",
    "print(\"Versão do Python:\", sys.version)\n",
    "\n",
    "# Plataforma do sistema operacional\n",
    "print(\"Plataforma do sistema operacional:\", sys.platform)\n",
    "\n",
    "# Saída de erro padrão\n",
    "sys.stderr.write(\"Esta é uma mensagem de erro.\\n\")\n",
    "\n",
    "# Sair do programa\n",
    "# sys.exit(0)"
   ]
  }
 ],
 "metadata": {
  "kernelspec": {
   "display_name": "Python 3",
   "language": "python",
   "name": "python3"
  },
  "language_info": {
   "codemirror_mode": {
    "name": "ipython",
    "version": 3
   },
   "file_extension": ".py",
   "mimetype": "text/x-python",
   "name": "python",
   "nbconvert_exporter": "python",
   "pygments_lexer": "ipython3",
   "version": "3.12.4"
  }
 },
 "nbformat": 4,
 "nbformat_minor": 2
}
