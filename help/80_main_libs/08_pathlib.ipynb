{
 "cells": [
  {
   "cell_type": "markdown",
   "id": "cdb5fb61",
   "metadata": {},
   "source": [
    "# pathlib\n",
    "\n",
    "## 📦 O que é `pathlib`?\n",
    "\n",
    "`pathlib` é uma biblioteca do Python que fornece **classes orientadas a objetos** para manipular **caminhos de arquivos e diretórios**. Introduzida no Python 3.4, ela é hoje a forma recomendada para lidar com caminhos."
   ]
  },
  {
   "cell_type": "code",
   "execution_count": 1,
   "id": "db801fc0",
   "metadata": {},
   "outputs": [],
   "source": [
    "from pathlib import Path\n",
    "import shutil"
   ]
  },
  {
   "cell_type": "markdown",
   "id": "adead094",
   "metadata": {},
   "source": [
    "## ✅ Por que usar `pathlib`?\n",
    "\n",
    "- É orientada a objetos\n",
    "- Funciona de forma multiplataforma (Windows, Linux, macOS)\n",
    "- É muito mais legível e expressiva que `os.path`\n",
    "- Tem suporte para leitura e escrita de arquivos embutido\n",
    "- Usa operadores (`/`) para construir caminhos de forma intuitiva"
   ]
  },
  {
   "cell_type": "markdown",
   "id": "8d78dc12",
   "metadata": {},
   "source": [
    "## 🎯 Principais classes\n",
    "\n",
    "- **`Path`**: representa caminhos de forma genérica e multiplataforma\n",
    "- **`PosixPath`**: usada internamente em sistemas UNIX/Linux/macOS\n",
    "- **`WindowsPath`**: usada internamente no Windows\n",
    "- Você usa apenas `Path`, que resolve isso automaticamente."
   ]
  },
  {
   "cell_type": "markdown",
   "id": "6b44ac94",
   "metadata": {},
   "source": [
    "## 📁 Operações comuns\n"
   ]
  },
  {
   "cell_type": "code",
   "execution_count": 2,
   "id": "9df36553",
   "metadata": {},
   "outputs": [
    {
     "name": "stdout",
     "output_type": "stream",
     "text": [
      "Raw.....: meu_diretorio\n",
      "Absolute: c:\\AppData\\Code\\jupyter\\help\\80_main_libs\\meu_diretorio\n",
      "Realpath: C:\\AppData\\Code\\jupyter\\help\\80_main_libs\\meu_diretorio\n",
      "name....: meu_diretorio\n",
      "--------------------------------------------------\n",
      "Raw.....: ..\\..\n",
      "Absolute: c:\\AppData\\Code\\jupyter\\help\\80_main_libs\\..\\..\n",
      "Realpath: C:\\AppData\\Code\\jupyter\n",
      "name....: ..\n",
      "--------------------------------------------------\n",
      "Home dir: C:\\Users\\F8034906\n"
     ]
    }
   ],
   "source": [
    "p = Path(\"meu_diretorio\")  # não cria ainda\n",
    "print('Raw.....:', p)  # só apresenta\n",
    "print('Absolute:', p.absolute())  # só apresenta\n",
    "print('Realpath:', p.resolve())  # só apresenta\n",
    "print('name....:', p.name)\n",
    "\n",
    "print('-'*50)\n",
    "r = Path('../..')\n",
    "print('Raw.....:', r)\n",
    "print('Absolute:', r.absolute())\n",
    "print('Realpath:', r.resolve())\n",
    "print('name....:', r.name)\n",
    "\n",
    "print('-'*50)\n",
    "print('Home dir:', Path.home())  # só apresenta\n",
    "# print('Home dir:', Path.drive)  # só apresenta"
   ]
  },
  {
   "cell_type": "code",
   "execution_count": 3,
   "id": "3158b467",
   "metadata": {},
   "outputs": [],
   "source": [
    "p.mkdir()\n",
    "# cria subpastas e evita erro se já existir\n",
    "p.mkdir(parents=True, exist_ok=True)"
   ]
  },
  {
   "cell_type": "code",
   "execution_count": 4,
   "id": "eed419a3",
   "metadata": {},
   "outputs": [
    {
     "name": "stdout",
     "output_type": "stream",
     "text": [
      "raw.......: meu_diretorio\\arquivo.txt\n",
      "name......: arquivo.txt\n",
      "parent....: meu_diretorio\n",
      "parent....: C:\\AppData\\Code\\jupyter\\help\\80_main_libs\\meu_diretorio\n",
      "parents...: [WindowsPath('meu_diretorio'), WindowsPath('.')]\n",
      "parents...: [WindowsPath('C:/AppData/Code/jupyter/help/80_main_libs/meu_diretorio'), WindowsPath('C:/AppData/Code/jupyter/help/80_main_libs'), WindowsPath('C:/AppData/Code/jupyter/help'), WindowsPath('C:/AppData/Code/jupyter'), WindowsPath('C:/AppData/Code'), WindowsPath('C:/AppData'), WindowsPath('C:/')]\n"
     ]
    }
   ],
   "source": [
    "arquivo = p / \"arquivo.txt\"  # não cria ainda\n",
    "print('raw.......:', arquivo)  # só apresenta\n",
    "print('name......:', arquivo.name) # basename\n",
    "print('parent....:', arquivo.parent) # dirname\n",
    "print('parent....:', arquivo.parent.resolve()) # dirname\n",
    "print('parents...:', list(arquivo.parents))\n",
    "print('parents...:', list(arquivo.resolve().parents))"
   ]
  },
  {
   "cell_type": "code",
   "execution_count": 5,
   "id": "1212024d",
   "metadata": {},
   "outputs": [
    {
     "name": "stdout",
     "output_type": "stream",
     "text": [
      "Conteúdo dois\n",
      "Nova linha adicionada\n",
      "\n"
     ]
    }
   ],
   "source": [
    "arquivo.write_text(\"Conteúdo aqui\\n\")  # grava\n",
    "arquivo.write_text(\"Conteúdo dois\\n\")  # substitui\n",
    "\n",
    "with arquivo.open(mode=\"a\", encoding=\"utf-8\") as f:\n",
    "    f.write(\"Nova linha adicionada\\n\")  # append\n",
    "\n",
    "conteudo = arquivo.read_text()  # lê\n",
    "print(conteudo)"
   ]
  },
  {
   "cell_type": "code",
   "execution_count": 6,
   "id": "ecb5d20d",
   "metadata": {},
   "outputs": [
    {
     "name": "stdout",
     "output_type": "stream",
     "text": [
      "exists.: True\n",
      "is_file: True\n",
      "is_dir.: False\n",
      "match..: True\n",
      "match..: False\n"
     ]
    }
   ],
   "source": [
    "print('exists.:', arquivo.exists())        # True/False\n",
    "print('is_file:', arquivo.is_file())       # True se for arquivo\n",
    "print('is_dir.:', arquivo.is_dir())        # True se for diretório\n",
    "print('match..:', arquivo.match(\"*.txt\"))  # True se for *.txt\n",
    "print('match..:', arquivo.match(\"*.py\"))   # True se for *.py"
   ]
  },
  {
   "cell_type": "code",
   "execution_count": 7,
   "id": "49ba8970",
   "metadata": {},
   "outputs": [
    {
     "name": "stdout",
     "output_type": "stream",
     "text": [
      "..\\..\\.git\n",
      "..\\..\\.gitignore\n",
      "..\\..\\help\n",
      "..\\..\\io\n",
      "..\\..\\test.ipynb\n",
      "..\\..\\test.py\n",
      "..\\..\\xls\n"
     ]
    }
   ],
   "source": [
    "for f in r.iterdir():\n",
    "    print(f)"
   ]
  },
  {
   "cell_type": "code",
   "execution_count": 8,
   "id": "76ffaa0d",
   "metadata": {},
   "outputs": [
    {
     "name": "stdout",
     "output_type": "stream",
     "text": [
      "test.py\n"
     ]
    }
   ],
   "source": [
    "for f in r.glob(\"*.py\"):\n",
    "    print(f.name)"
   ]
  },
  {
   "cell_type": "code",
   "execution_count": 9,
   "id": "13a99cb0",
   "metadata": {},
   "outputs": [
    {
     "name": "stdout",
     "output_type": "stream",
     "text": [
      "..\\..\\test.py\n",
      "..\\..\\help\\04_Statments\\08-1_import.py\n",
      "..\\..\\help\\04_Statments\\08-2_import.py\n",
      "..\\..\\help\\04_Statments\\08-3_import.py\n",
      "..\\..\\help\\04_Statments\\08-4_import.py\n",
      "..\\..\\help\\04_Statments\\scr.py\n",
      "..\\..\\help\\05_dunders\\main.py\n",
      "..\\..\\help\\09_web_server\\02_flask.py\n",
      "..\\..\\help\\09_web_server\\03_fastapi.py\n",
      "..\\..\\help\\80_main_libs\\04_signal.py\n",
      "..\\..\\help\\80_main_libs\\05_sched.py\n",
      "..\\..\\help\\80_main_libs\\06_threading.py\n",
      "..\\..\\help\\80_main_libs\\07_multiprocessing.py\n",
      "..\\..\\help\\03_Conceitos\\02_std_cli\\01_argparse\\example.py\n",
      "..\\..\\help\\03_Conceitos\\02_std_cli\\02_click\\01_simple_cmd.py\n",
      "..\\..\\help\\03_Conceitos\\02_std_cli\\02_click\\02_multiple_cmd.py\n",
      "..\\..\\help\\03_Conceitos\\02_std_cli\\02_click\\03_datatype.py\n",
      "..\\..\\help\\03_Conceitos\\02_std_cli\\02_click\\04_choice.py\n",
      "..\\..\\help\\03_Conceitos\\02_std_cli\\02_click\\05_erro.py\n",
      "..\\..\\help\\03_Conceitos\\02_std_cli\\02_click\\06_progress_bar.py\n",
      "..\\..\\help\\03_Conceitos\\02_std_cli\\02_click\\07_colors.py\n",
      "..\\..\\help\\03_Conceitos\\02_std_cli\\02_click\\08_confirm.py\n",
      "..\\..\\help\\03_Conceitos\\02_std_cli\\02_click\\09_hide.py\n",
      "..\\..\\help\\04_Statments\\meu_pacote\\modulo1.py\n",
      "..\\..\\help\\04_Statments\\meu_pacote\\modulo2.py\n",
      "..\\..\\help\\04_Statments\\meu_pacote\\__init__.py\n",
      "..\\..\\help\\04_Statments\\outros_scripts\\modulo1.py\n",
      "..\\..\\help\\04_Statments\\outros_scripts\\modulo2.py\n",
      "..\\..\\help\\05_dunders\\pacotes\\modulo_a.py\n",
      "..\\..\\help\\05_dunders\\pacotes\\__init__.py\n",
      "..\\..\\help\\05_dunders\\pacotes\\subpacote\\modulo_b.py\n",
      "..\\..\\help\\05_dunders\\pacotes\\subpacote\\__init__.py\n"
     ]
    }
   ],
   "source": [
    "\n",
    "for f in r.rglob(\"*.py\"):\n",
    "    print(f)\n"
   ]
  },
  {
   "cell_type": "code",
   "execution_count": 10,
   "id": "7f04e91a",
   "metadata": {},
   "outputs": [
    {
     "name": "stdout",
     "output_type": "stream",
     "text": [
      "[WinError 145] The directory is not empty: 'meu_diretorio'\n"
     ]
    }
   ],
   "source": [
    "try:\n",
    "    p.rmdir()            # apaga diretório vazio\n",
    "except Exception as e:\n",
    "    print(e)"
   ]
  },
  {
   "cell_type": "code",
   "execution_count": 11,
   "id": "900b7824",
   "metadata": {},
   "outputs": [
    {
     "name": "stdout",
     "output_type": "stream",
     "text": [
      "meu_diretorio\\arquivo.txt\n",
      "meu_diretorio\\novo_nome.txt\n",
      "--------------------------------------------------\n",
      "meu_diretorio\\arquivo.txt\n"
     ]
    }
   ],
   "source": [
    "copy_file = p / \"copia.txt\"\n",
    "rename_file = p / \"novo_nome.txt\"\n",
    "shutil.copy(arquivo, copy_file)\n",
    "\n",
    "if not rename_file.exists():\n",
    "    copy_file.rename(rename_file)\n",
    "\n",
    "for f in p.iterdir():\n",
    "    print(f)\n",
    "# apaga arquivo sem dar erro se não existir\n",
    "copy_file.unlink(missing_ok=True)\n",
    "rename_file.unlink()     # apaga arquivo\n",
    "\n",
    "print('-'*50)\n",
    "for f in p.iterdir():\n",
    "    print(f)\n"
   ]
  },
  {
   "cell_type": "code",
   "execution_count": 12,
   "id": "5f6f724b",
   "metadata": {},
   "outputs": [],
   "source": [
    "shutil.rmtree(p)\n"
   ]
  }
 ],
 "metadata": {
  "kernelspec": {
   "display_name": "Python 3",
   "language": "python",
   "name": "python3"
  },
  "language_info": {
   "codemirror_mode": {
    "name": "ipython",
    "version": 3
   },
   "file_extension": ".py",
   "mimetype": "text/x-python",
   "name": "python",
   "nbconvert_exporter": "python",
   "pygments_lexer": "ipython3",
   "version": "3.12.4"
  }
 },
 "nbformat": 4,
 "nbformat_minor": 5
}
