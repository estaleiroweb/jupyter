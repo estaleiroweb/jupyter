{
 "cells": [
  {
   "cell_type": "markdown",
   "metadata": {},
   "source": [
    "# `shutil` lib\n",
    "\n",
    "A biblioteca `shutil` em Python oferece um conjunto de funções de alto nível para operações com arquivos e coleções de arquivos. Ela é especialmente útil para tarefas como copiar, mover, renomear e remover arquivos e diretórios.\n"
   ]
  },
  {
   "cell_type": "markdown",
   "metadata": {},
   "source": [
    "## Principais Funções:\n",
    "\n",
    "- **Cópia de Arquivos:**\n",
    "    - `shutil.copy(src, dst)`: Copia o arquivo `src` para o destino `dst`. Preserva as permissões do arquivo.\n",
    "    - `shutil.copy2(src, dst)`: Similar a `copy()`, mas também preserva metadados como timestamps.\n",
    "    - `shutil.copyfile(src, dst)`: Copia o conteúdo de um arquivo para outro.\n",
    "\n",
    "- **Cópia de Diretórios:**\n",
    "    - `shutil.copytree(src, dst)`: Copia recursivamente um diretório inteiro de `src` para `dst`.\n",
    "\n",
    "- **Movimentação e Renomeação:**\n",
    "    - `shutil.move(src, dst)`: Move ou renomeia um arquivo ou diretório de `src` para `dst`.\n",
    "\n",
    "- **Remoção:**\n",
    "    - `shutil.rmtree(path)`: Remove recursivamente um diretório e todo o seu conteúdo.\n",
    "\n",
    "- **Criação e Extração de Arquivos Compactados:**\n",
    "    - `shutil.make_archive(base_name, format, root_dir)`: Cria um arquivo compactado (zip, tar, etc.) de um diretório.\n",
    "    - `shutil.unpack_archive(filename, extract_dir)`: Extrai o conteúdo de um arquivo compactado.\n"
   ]
  },
  {
   "cell_type": "code",
   "execution_count": 2,
   "metadata": {},
   "outputs": [
    {
     "name": "stdout",
     "output_type": "stream",
     "text": [
      "dir:  ['01_os.ipynb', '02_shutil.ipynb', 'arquivo.txt', 'diretorio_origem', 'meu_arquivo.zip', 'tempfile.txt']\n",
      "dir:  ['01_os.ipynb', '02_shutil.ipynb', 'arquivo.txt', 'arquivo_copia.txt', 'diretorio_origem', 'meu_arquivo.zip', 'tempfile.txt']\n",
      "dir:  ['01_os.ipynb', '02_shutil.ipynb', 'arquivo.txt', 'arquivo_copia.txt', 'diretorio_copia', 'diretorio_origem', 'meu_arquivo.zip', 'tempfile.txt']\n",
      "dir:  ['01_os.ipynb', '02_shutil.ipynb', 'arquivo.txt', 'diretorio_copia', 'diretorio_origem', 'meu_arquivo.zip', 'tempfile.txt']\n",
      "dir:  ['01_os.ipynb', '02_shutil.ipynb', 'arquivo.txt', 'diretorio_origem', 'meu_arquivo.zip', 'tempfile.txt']\n",
      "dir:  ['01_os.ipynb', '02_shutil.ipynb', 'arquivo.txt', 'diretorio_origem', 'meu_arquivo.zip', 'tempfile.txt']\n",
      "dir:  ['01_os.ipynb', '02_shutil.ipynb', 'arquivo.txt', 'diretorio_origem', 'tempfile.txt']\n"
     ]
    }
   ],
   "source": [
    "import os\n",
    "import shutil\n",
    "\n",
    "print('dir: ', os.listdir(\".\"))  # Lista arquivos e pastas do diretório atual\n",
    "# Cópia de arquivo\n",
    "shutil.copy('arquivo.txt', 'arquivo_copia.txt')\n",
    "print('dir: ', os.listdir(\".\"))  # Lista arquivos e pastas do diretório atual\n",
    "\n",
    "# Cópia de diretório\n",
    "shutil.copytree('diretorio_origem', 'diretorio_copia')\n",
    "print('dir: ', os.listdir(\".\"))  # Lista arquivos e pastas do diretório atual\n",
    "\n",
    "# Movimentação de arquivo\n",
    "shutil.move('arquivo_copia.txt', 'diretorio_copia/arquivo_copia.txt')\n",
    "print('dir: ', os.listdir(\".\"))  # Lista arquivos e pastas do diretório atual\n",
    "\n",
    "# Remoção de diretório\n",
    "shutil.rmtree('diretorio_copia')\n",
    "print('dir: ', os.listdir(\".\"))  # Lista arquivos e pastas do diretório atual\n",
    "\n",
    "# Criação de arquivo compactado\n",
    "shutil.make_archive('meu_arquivo', 'zip', 'diretorio_origem')\n",
    "print('dir: ', os.listdir(\".\"))  # Lista arquivos e pastas do diretório atual\n",
    "\n",
    "# Extração de arquivo compactado\n",
    "# shutil.unpack_archive('meu_arquivo.zip', 'diretorio_de_destino')\n",
    "\n",
    "#Remover um arquivo\n",
    "os.remove(\"meu_arquivo.zip\")\n",
    "print('dir: ', os.listdir(\".\"))  # Lista arquivos e pastas do diretório atual\n"
   ]
  }
 ],
 "metadata": {
  "kernelspec": {
   "display_name": "Python 3",
   "language": "python",
   "name": "python3"
  },
  "language_info": {
   "codemirror_mode": {
    "name": "ipython",
    "version": 3
   },
   "file_extension": ".py",
   "mimetype": "text/x-python",
   "name": "python",
   "nbconvert_exporter": "python",
   "pygments_lexer": "ipython3",
   "version": "3.12.4"
  }
 },
 "nbformat": 4,
 "nbformat_minor": 2
}
