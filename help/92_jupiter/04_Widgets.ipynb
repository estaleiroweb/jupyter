{
 "cells": [
  {
   "cell_type": "markdown",
   "id": "1834e51f",
   "metadata": {},
   "source": [
    "## Widgets Interativos\n"
   ]
  },
  {
   "cell_type": "markdown",
   "id": "6308d5fd",
   "metadata": {},
   "source": [
    "| Widget                     | Descrição            |\n",
    "| -------------------------- | -------------------- |\n",
    "| `IntSlider`, `FloatSlider` | Sliders de números   |\n",
    "| `Checkbox`                 | Caixa de seleção     |\n",
    "| `Text`, `Textarea`         | Campos de texto      |\n",
    "| `Dropdown`, `Select`       | Listas suspensas     |\n",
    "| `RadioButtons`             | Botões de opção      |\n",
    "| `Button`                   | Botão clicável       |\n",
    "| `DatePicker`               | Seletor de datas     |\n",
    "| `ColorPicker`              | Seletor de cor       |\n",
    "| `Play`                     | Controle de animação |\n",
    "| `ToggleButton`             | Botão ON/OFF         |\n"
   ]
  },
  {
   "cell_type": "code",
   "execution_count": null,
   "id": "94bede77",
   "metadata": {},
   "outputs": [
    {
     "data": {
      "application/vnd.jupyter.widget-view+json": {
       "model_id": "c6aa0a527b4f4370a47bcfa1fb7c77df",
       "version_major": 2,
       "version_minor": 0
      },
      "text/plain": [
       "interactive(children=(IntSlider(value=5, description='x', max=15, min=-5), Output()), _dom_classes=('widget-in…"
      ]
     },
     "metadata": {},
     "output_type": "display_data"
    },
    {
     "data": {
      "text/plain": [
       "<function __main__.f(x)>"
      ]
     },
     "execution_count": 1,
     "metadata": {},
     "output_type": "execute_result"
    }
   ],
   "source": [
    "from ipywidgets import interact\n",
    "\n",
    "def f(x):\n",
    "    return x**2\n",
    "\n",
    "interact(f, x=5)"
   ]
  },
  {
   "cell_type": "code",
   "execution_count": 2,
   "id": "0c93f2c1",
   "metadata": {},
   "outputs": [
    {
     "data": {
      "application/vnd.jupyter.widget-view+json": {
       "model_id": "477babd59f504284b19b62a6492a3ba7",
       "version_major": 2,
       "version_minor": 0
      },
      "text/plain": [
       "interactive(children=(IntSlider(value=5, description='a', max=10), Checkbox(value=True, description='b'), Drop…"
      ]
     },
     "metadata": {},
     "output_type": "display_data"
    }
   ],
   "source": [
    "@interact(a=(0, 10), b=True, c=['Opção 1', 'Opção 2'])\n",
    "def exemplo(a, b, c):\n",
    "    print(f\"a={a}, b={b}, c={c}\")"
   ]
  },
  {
   "cell_type": "code",
   "execution_count": null,
   "id": "1593d25f",
   "metadata": {},
   "outputs": [
    {
     "data": {
      "application/vnd.jupyter.widget-view+json": {
       "model_id": "7f08dddaec0744159877456981a8b2af",
       "version_major": 2,
       "version_minor": 0
      },
      "text/plain": [
       "interactive(children=(IntSlider(value=5, description='x', max=15, min=-5), IntSlider(value=5, description='y',…"
      ]
     },
     "metadata": {},
     "output_type": "display_data"
    }
   ],
   "source": [
    "from ipywidgets import interactive\n",
    "\n",
    "def f(x, y):\n",
    "    return x + y\n",
    "\n",
    "widget = interactive(f, x=5, y=(0, 10))\n",
    "display(widget)"
   ]
  },
  {
   "cell_type": "code",
   "execution_count": 5,
   "id": "85144b48",
   "metadata": {},
   "outputs": [
    {
     "data": {
      "application/vnd.jupyter.widget-view+json": {
       "model_id": "e8030a012fc24bdeb0310e0ef65a5431",
       "version_major": 2,
       "version_minor": 0
      },
      "text/plain": [
       "IntSlider(value=5, max=10)"
      ]
     },
     "metadata": {},
     "output_type": "display_data"
    },
    {
     "data": {
      "application/vnd.jupyter.widget-view+json": {
       "model_id": "e31022cf623d4c4996d1b315b66cc7f4",
       "version_major": 2,
       "version_minor": 0
      },
      "text/plain": [
       "Checkbox(value=True, description='Ativar')"
      ]
     },
     "metadata": {},
     "output_type": "display_data"
    },
    {
     "data": {
      "application/vnd.jupyter.widget-view+json": {
       "model_id": "f1e7ed3408dc4dc8b604f8d1770f1f56",
       "version_major": 2,
       "version_minor": 0
      },
      "text/plain": [
       "Text(value='Digite aqui')"
      ]
     },
     "metadata": {},
     "output_type": "display_data"
    },
    {
     "data": {
      "application/vnd.jupyter.widget-view+json": {
       "model_id": "deca3cd15ff9474094db91191b6f4aa9",
       "version_major": 2,
       "version_minor": 0
      },
      "text/plain": [
       "Button(description='Clique-me', style=ButtonStyle())"
      ]
     },
     "metadata": {},
     "output_type": "display_data"
    }
   ],
   "source": [
    "import ipywidgets as widgets\n",
    "from IPython.display import display\n",
    "\n",
    "slider = widgets.IntSlider(value=5, min=0, max=10)\n",
    "checkbox = widgets.Checkbox(value=True, description='Ativar')\n",
    "texto = widgets.Text(value='Digite aqui')\n",
    "botao = widgets.Button(description='Clique-me')\n",
    "\n",
    "def ao_clicar(b):\n",
    "    print(\"Botão clicado!\")\n",
    "\n",
    "botao.on_click(ao_clicar)\n",
    "\n",
    "display(slider, checkbox, texto, botao)\n"
   ]
  },
  {
   "cell_type": "code",
   "execution_count": 6,
   "id": "79b19aec",
   "metadata": {},
   "outputs": [
    {
     "data": {
      "application/vnd.jupyter.widget-view+json": {
       "model_id": "f6e3ab9c062040a3af18c6592713587f",
       "version_major": 2,
       "version_minor": 0
      },
      "text/plain": [
       "HBox(children=(IntSlider(value=5, max=10), Checkbox(value=True, description='Ativar')))"
      ]
     },
     "metadata": {},
     "output_type": "display_data"
    },
    {
     "data": {
      "application/vnd.jupyter.widget-view+json": {
       "model_id": "129102acd50444389245ac46fc937e7c",
       "version_major": 2,
       "version_minor": 0
      },
      "text/plain": [
       "VBox(children=(Text(value='Digite sdsdf'), Button(description='Clique-me', style=ButtonStyle())))"
      ]
     },
     "metadata": {},
     "output_type": "display_data"
    }
   ],
   "source": [
    "box1 = widgets.HBox([slider, checkbox])\n",
    "box2 = widgets.VBox([texto, botao])\n",
    "display(box1, box2)\n"
   ]
  },
  {
   "cell_type": "code",
   "execution_count": 7,
   "id": "7497605b",
   "metadata": {},
   "outputs": [],
   "source": [
    "def mudou(change):\n",
    "    print(f\"Novo valor: {change['new']}\")\n",
    "\n",
    "slider.observe(mudou, names='value')\n"
   ]
  },
  {
   "cell_type": "code",
   "execution_count": 8,
   "id": "65d1d9ba",
   "metadata": {},
   "outputs": [
    {
     "data": {
      "application/vnd.jupyter.widget-view+json": {
       "model_id": "573d31f7e03e42e59cc806d9e0cde70a",
       "version_major": 2,
       "version_minor": 0
      },
      "text/plain": [
       "interactive(children=(IntSlider(value=1, description='freq', max=10, min=1), IntSlider(value=1, description='a…"
      ]
     },
     "metadata": {},
     "output_type": "display_data"
    }
   ],
   "source": [
    "import matplotlib.pyplot as plt\n",
    "import numpy as np\n",
    "\n",
    "@interact(freq=(1, 10), amp=(1, 5))\n",
    "def plot(freq=1, amp=1):\n",
    "    x = np.linspace(0, 2 * np.pi, 1000)\n",
    "    y = amp * np.sin(freq * x)\n",
    "    plt.plot(x, y)\n",
    "    plt.show()\n"
   ]
  },
  {
   "cell_type": "code",
   "execution_count": 9,
   "id": "4c9c45a6",
   "metadata": {},
   "outputs": [],
   "source": [
    "slider.style.handle_color = 'lightblue'\n",
    "slider.layout.width = '500px'\n"
   ]
  },
  {
   "cell_type": "code",
   "execution_count": 10,
   "id": "be3805d7",
   "metadata": {},
   "outputs": [
    {
     "data": {
      "application/vnd.jupyter.widget-view+json": {
       "model_id": "7c8ebf422d8741118424973edb48aab3",
       "version_major": 2,
       "version_minor": 0
      },
      "text/plain": [
       "VBox(children=(IntSlider(value=0, description='A', max=10), IntSlider(value=0, description='B', max=10)))"
      ]
     },
     "metadata": {},
     "output_type": "display_data"
    },
    {
     "data": {
      "application/vnd.jupyter.widget-view+json": {
       "model_id": "a17d5c4f775c405b9d276d277795d0ff",
       "version_major": 2,
       "version_minor": 0
      },
      "text/plain": [
       "Output()"
      ]
     },
     "metadata": {},
     "output_type": "display_data"
    }
   ],
   "source": [
    "from ipywidgets import interact, VBox, HBox\n",
    "\n",
    "a = widgets.IntSlider(description='A', min=0, max=10)\n",
    "b = widgets.IntSlider(description='B', min=0, max=10)\n",
    "\n",
    "def calc(a, b):\n",
    "    print(f\"Resultado: {a + b}\")\n",
    "\n",
    "ui = VBox([a, b])\n",
    "out = widgets.interactive_output(calc, {'a': a, 'b': b})\n",
    "display(ui, out)\n"
   ]
  }
 ],
 "metadata": {
  "kernelspec": {
   "display_name": "Python 3",
   "language": "python",
   "name": "python3"
  },
  "language_info": {
   "codemirror_mode": {
    "name": "ipython",
    "version": 3
   },
   "file_extension": ".py",
   "mimetype": "text/x-python",
   "name": "python",
   "nbconvert_exporter": "python",
   "pygments_lexer": "ipython3",
   "version": "3.10.11"
  }
 },
 "nbformat": 4,
 "nbformat_minor": 5
}
