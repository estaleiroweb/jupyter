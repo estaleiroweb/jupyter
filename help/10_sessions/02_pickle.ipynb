{
 "cells": [
  {
   "cell_type": "code",
   "execution_count": null,
   "metadata": {},
   "outputs": [
    {
     "name": "stdout",
     "output_type": "stream",
     "text": [
      "{'usuario': 'João', 'nivel': 'admin'}\n"
     ]
    }
   ],
   "source": [
    "import pickle\n",
    "import os\n",
    "\n",
    "SESSAO_ARQUIVO = \"session.pkl\"\n",
    "\n",
    "# Função para salvar a sessão\n",
    "def salvar_sessao(dados):\n",
    "    with open(SESSAO_ARQUIVO, \"wb\") as f:\n",
    "        pickle.dump(dados, f)\n",
    "\n",
    "# Função para carregar a sessão\n",
    "def carregar_sessao():\n",
    "    if os.path.exists(SESSAO_ARQUIVO):\n",
    "        with open(SESSAO_ARQUIVO, \"rb\") as f:\n",
    "            return pickle.load(f)\n",
    "    return {}  # Retorna um dicionário vazio se não existir\n",
    "\n",
    "# Iniciando ou recuperando a sessão\n",
    "sessao = carregar_sessao()\n",
    "print(sessao)\n",
    "\n",
    "# Definindo valores na sessão (como no PHP)\n",
    "sessao[\"usuario\"] = \"Maria\" if sessao.get('usuario', 'Nenhum usuário')== \"João\" else \"João\"\n",
    "sessao[\"nivel\"] = \"admin\"\n",
    "\n",
    "# Salvando a sessão\n",
    "salvar_sessao(sessao)\n"
   ]
  }
 ],
 "metadata": {
  "kernelspec": {
   "display_name": "Python 3",
   "language": "python",
   "name": "python3"
  },
  "language_info": {
   "codemirror_mode": {
    "name": "ipython",
    "version": 3
   },
   "file_extension": ".py",
   "mimetype": "text/x-python",
   "name": "python",
   "nbconvert_exporter": "python",
   "pygments_lexer": "ipython3",
   "version": "3.10.11"
  }
 },
 "nbformat": 4,
 "nbformat_minor": 2
}
