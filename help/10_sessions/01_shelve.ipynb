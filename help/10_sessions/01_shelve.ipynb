{
 "cells": [
  {
   "cell_type": "code",
   "execution_count": null,
   "metadata": {},
   "outputs": [
    {
     "name": "stdout",
     "output_type": "stream",
     "text": [
      "João\n"
     ]
    }
   ],
   "source": [
    "import shelve\n",
    "\n",
    "# Recuperar a sessão\n",
    "with shelve.open(\"session.db\") as sessao:\n",
    "    user = sessao.get(\"usuario\", \"Nenhum usuário\")\n",
    "    print(user)  # Saída: João\n",
    "\n",
    "# Criar ou abrir a sessão\n",
    "with shelve.open(\"session.db\") as sessao:\n",
    "    sessao[\"usuario\"] = \"Maria\" if user == \"João\" else \"João\""
   ]
  }
 ],
 "metadata": {
  "kernelspec": {
   "display_name": "Python 3",
   "language": "python",
   "name": "python3"
  },
  "language_info": {
   "codemirror_mode": {
    "name": "ipython",
    "version": 3
   },
   "file_extension": ".py",
   "mimetype": "text/x-python",
   "name": "python",
   "nbconvert_exporter": "python",
   "pygments_lexer": "ipython3",
   "version": "3.10.11"
  }
 },
 "nbformat": 4,
 "nbformat_minor": 2
}
