{
 "cells": [
  {
   "cell_type": "code",
   "execution_count": 128,
   "metadata": {},
   "outputs": [],
   "source": [
    "#%pip install pyautogui"
   ]
  },
  {
   "cell_type": "markdown",
   "metadata": {},
   "source": [
    "Exec All"
   ]
  },
  {
   "cell_type": "code",
   "execution_count": 129,
   "metadata": {},
   "outputs": [],
   "source": [
    "import pyautogui\n",
    "import time"
   ]
  },
  {
   "cell_type": "code",
   "execution_count": 130,
   "metadata": {},
   "outputs": [],
   "source": [
    "keys = []\n",
    "keys.extend(['\\t', '\\n', '\\r'])\n",
    "keys.extend([\n",
    "    ' ', '!', '\"', '#', '$', '%', '&', \"'\", '(', ')', '*', '+', ',', '-', '.',\n",
    "    '/', ':', ';', '<', '=', '>', '?', '@', '[', '\\\\', ']', '^', '_', '`', '{',\n",
    "    '|', '}', '~'\n",
    "])\n",
    "keys.extend(['0', '1', '2', '3', '4', '5', '6', '7', '8', '9'])\n",
    "keys.extend([\n",
    "    'a', 'b', 'c', 'd', 'e', 'f', 'g', 'h', 'i', 'j', 'k', 'l', 'm', 'n', 'o',\n",
    "    'p', 'q', 'r', 's', 't', 'u', 'v', 'w', 'x', 'y', 'z'\n",
    "])\n",
    "keys.extend([\n",
    "    'win', 'winleft', 'winright', 'option', 'optionleft', 'optionright',\n",
    "    'command'\n",
    "])\n",
    "keys.extend(['capslock', 'numlock', 'scrolllock'])\n",
    "keys.extend([\n",
    "    'fn', 'shift', 'shiftleft', 'shiftright', 'ctrl', 'ctrlleft', 'ctrlright',\n",
    "    'alt', 'altleft', 'altright'\n",
    "])\n",
    "keys.extend([\n",
    "    'up', 'down', 'left', 'right', 'pagedown', 'pageup', 'pgdn', 'pgup',\n",
    "    'home', 'end', 'insert', 'del', 'delete'\n",
    "])\n",
    "keys.extend([\n",
    "    'f1', 'f2', 'f3', 'f4', 'f5', 'f6', 'f7', 'f8', 'f9', 'f10', 'f11', 'f12',\n",
    "    'f13', 'f14', 'f15', 'f16', 'f17', 'f18', 'f19', 'f20', 'f21', 'f22',\n",
    "    'f23', 'f24'\n",
    "])\n",
    "keys.extend([\n",
    "    'num0', 'num1', 'num2', 'num3', 'num4', 'num5', 'num6', 'num7', 'num8',\n",
    "    'num9', 'divide', 'multiply', 'subtract', 'add', 'decimal', 'separator',\n",
    "    'enter'\n",
    "])\n",
    "keys.extend(['print', 'printscreen', 'prntscrn', 'prtsc', 'prtscr'])\n",
    "keys.extend(['return', 'space', 'esc', 'tab', 'backspace', 'escape'])\n",
    "keys.extend([\n",
    "    'playpause', 'stop', 'pause', 'nexttrack', 'prevtrack', 'volumemute',\n",
    "    'volumedown', 'volumeup'\n",
    "])\n",
    "keys.extend([\n",
    "    'browserfavorites', 'browserforward', 'browserback', 'browserhome',\n",
    "    'browserrefresh', 'browsersearch', 'browserstop'\n",
    "])\n",
    "keys.extend([\n",
    "    'help', 'apps', 'execute', 'launchapp1', 'launchapp2', 'launchmail',\n",
    "    'launchmediaselect'\n",
    "])\n",
    "keys.extend(['sleep'])\n",
    "keys.extend([\n",
    "    'accept', 'clear', 'select', 'convert', 'final', 'hanguel', 'hangul',\n",
    "    'hanja', 'junja', 'kana', 'kanji', 'modechange', 'nonconvert', 'yen'\n",
    "])\n",
    "\n",
    "pyautogui.typewrite('Hello world!\\n', interval=secs_between_keys)  # useful for entering text, newline is Enter\n",
    "pyautogui.typewrite(['a', 'b', 'c', 'left', 'backspace', 'enter', 'f1'], interval=secs_between_keys)\n"
   ]
  },
  {
   "cell_type": "markdown",
   "metadata": {},
   "source": [
    "## Open Nodepad\n",
    "It will open a notepad e write tthe text in this one"
   ]
  },
  {
   "cell_type": "code",
   "execution_count": 131,
   "metadata": {},
   "outputs": [],
   "source": [
    "pyautogui.press('win')\n",
    "pyautogui.write('wordpad')\n",
    "pyautogui.press('enter')\n",
    "time.sleep(1)\n",
    "pyautogui.write('One text od example to edition')"
   ]
  },
  {
   "cell_type": "markdown",
   "metadata": {},
   "source": [
    "## Edit the text"
   ]
  },
  {
   "cell_type": "code",
   "execution_count": 132,
   "metadata": {},
   "outputs": [],
   "source": [
    "pyautogui.press(['home', 'right', 'right', 'right'])\n",
    "pyautogui.write(' beautiful')"
   ]
  },
  {
   "cell_type": "code",
   "execution_count": 133,
   "metadata": {},
   "outputs": [],
   "source": [
    "#problema de seleção\n",
    "with pyautogui.hold(['ctrl','shift']):\n",
    "\tpyautogui.press(['right', 'right'])\n",
    "pyautogui.write('Document ')\n",
    "\n",
    "# same efect\n",
    "# pyautogui.keyDown('ctrl')\n",
    "# pyautogui.keyDown('shif')\n",
    "# pyautogui.press(['right', 'right'])\n",
    "# pyautogui.keyUp('shif')\n",
    "# pyautogui.keyUp('ctrl')"
   ]
  },
  {
   "cell_type": "code",
   "execution_count": 134,
   "metadata": {},
   "outputs": [],
   "source": [
    "pyautogui.hotkey('ctrl', 'h')\n",
    "pyautogui.write(' od ')\n",
    "pyautogui.press('tab')\n",
    "pyautogui.write(' do ')\n",
    "pyautogui.hotkey('alt', 'a')\n",
    "pyautogui.press(['enter','esc'])"
   ]
  },
  {
   "cell_type": "code",
   "execution_count": 135,
   "metadata": {},
   "outputs": [],
   "source": [
    "pyautogui.hotkey('alt', 'f4')"
   ]
  }
 ],
 "metadata": {
  "kernelspec": {
   "display_name": "Python 3.7.4rc1 64-bit",
   "language": "python",
   "name": "python3"
  },
  "language_info": {
   "codemirror_mode": {
    "name": "ipython",
    "version": 3
   },
   "file_extension": ".py",
   "mimetype": "text/x-python",
   "name": "python",
   "nbconvert_exporter": "python",
   "pygments_lexer": "ipython3",
   "version": "3.7.4"
  },
  "orig_nbformat": 4,
  "vscode": {
   "interpreter": {
    "hash": "5109d816b82be14675a6b11f8e0f0d2e80f029176ed3710d54e125caa8520dfd"
   }
  }
 },
 "nbformat": 4,
 "nbformat_minor": 2
}
